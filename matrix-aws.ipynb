{
 "cells": [
  {
   "cell_type": "code",
   "execution_count": 2,
   "id": "09e8788d-0182-49f9-9128-a6dfbca0b8b7",
   "metadata": {},
   "outputs": [],
   "source": [
    "import boto3\n",
    "import pandas as pd\n",
    "import json\n",
    "import numpy as np\n",
    "import time"
   ]
  },
  {
   "cell_type": "code",
   "execution_count": 3,
   "id": "e8d99391-db20-40e3-b14c-1fd2a013368d",
   "metadata": {},
   "outputs": [],
   "source": [
    "# data = pd.read_csv('data.csv')"
   ]
  },
  {
   "cell_type": "code",
   "execution_count": 4,
   "id": "7b9b7b52-9709-4a1c-a774-9a4fd79f77f3",
   "metadata": {},
   "outputs": [],
   "source": [
    "def split(array, nrows, ncols):\n",
    "    \"\"\"Split a matrix into sub-matrices.\"\"\"\n",
    "\n",
    "    r, h = array.shape\n",
    "    return (array.reshape(h//nrows, nrows, -1, ncols)\n",
    "                 .swapaxes(1, 2)\n",
    "                 .reshape(-1, nrows, ncols))"
   ]
  },
  {
   "cell_type": "code",
   "execution_count": 18,
   "id": "53109532-1c76-4f32-ba46-c31c65ee7b37",
   "metadata": {},
   "outputs": [],
   "source": [
    "arr = np.random.randint(10, size=(100, 100))\n",
    "arr = split(arr, 10, 10)\n",
    "arr1 = np.random.randint(10, size=(100, 100))\n",
    "arr1 = split(arr1, 10, 10)"
   ]
  },
  {
   "cell_type": "code",
   "execution_count": 30,
   "id": "afa2006a-f0aa-4b24-ae5a-b8422980d33a",
   "metadata": {},
   "outputs": [
    {
     "data": {
      "text/plain": [
       "'[[9 6 1 6 5 9 0 9 9 3]\\n [8 9 6 7 7 6 3 6 5 0]\\n [7 3 4 2 8 8 9 5 7 5]\\n [3 6 8 7 0 7 5 0 7 1]\\n [2 2 0 6 8 6 0 2 8 9]\\n [9 2 6 9 2 2 0 2 1 3]\\n [1 1 3 8 4 8 1 5 5 4]\\n [1 1 9 1 7 4 8 9 2 1]\\n [1 4 5 4 3 4 5 8 4 2]\\n [2 0 8 8 4 1 9 0 5 5]]'"
      ]
     },
     "execution_count": 30,
     "metadata": {},
     "output_type": "execute_result"
    }
   ],
   "source": [
    "str(arr[0])"
   ]
  },
  {
   "cell_type": "code",
   "execution_count": 27,
   "id": "940019ac-fd1c-4270-b1ba-a12d77e9be4f",
   "metadata": {},
   "outputs": [
    {
     "data": {
      "text/plain": [
       "array([[0, 0, 8, 6, 3, 1, 4, 2, 2, 0],\n",
       "       [4, 0, 2, 9, 7, 0, 9, 5, 0, 1],\n",
       "       [3, 2, 8, 7, 0, 8, 1, 4, 9, 2],\n",
       "       [7, 0, 6, 7, 4, 1, 0, 8, 2, 3],\n",
       "       [8, 1, 0, 4, 9, 4, 5, 6, 4, 3],\n",
       "       [7, 5, 1, 7, 8, 5, 9, 6, 6, 5],\n",
       "       [9, 5, 8, 2, 6, 1, 6, 5, 9, 4],\n",
       "       [7, 0, 9, 6, 8, 0, 5, 3, 7, 7],\n",
       "       [8, 3, 5, 5, 9, 8, 3, 3, 6, 2],\n",
       "       [9, 9, 0, 4, 6, 0, 6, 7, 3, 1]])"
      ]
     },
     "execution_count": 27,
     "metadata": {},
     "output_type": "execute_result"
    }
   ],
   "source": [
    "arr1[0]"
   ]
  },
  {
   "cell_type": "code",
   "execution_count": 24,
   "id": "3e702958-a3c4-44d4-a9f1-308ff67bef3e",
   "metadata": {},
   "outputs": [
    {
     "data": {
      "text/plain": [
       "array([[ 9,  6,  9, 12,  8, 10,  4, 11, 11,  3],\n",
       "       [12,  9,  8, 16, 14,  6, 12, 11,  5,  1],\n",
       "       [10,  5, 12,  9,  8, 16, 10,  9, 16,  7],\n",
       "       [10,  6, 14, 14,  4,  8,  5,  8,  9,  4],\n",
       "       [10,  3,  0, 10, 17, 10,  5,  8, 12, 12],\n",
       "       [16,  7,  7, 16, 10,  7,  9,  8,  7,  8],\n",
       "       [10,  6, 11, 10, 10,  9,  7, 10, 14,  8],\n",
       "       [ 8,  1, 18,  7, 15,  4, 13, 12,  9,  8],\n",
       "       [ 9,  7, 10,  9, 12, 12,  8, 11, 10,  4],\n",
       "       [11,  9,  8, 12, 10,  1, 15,  7,  8,  6]])"
      ]
     },
     "execution_count": 24,
     "metadata": {},
     "output_type": "execute_result"
    }
   ],
   "source": [
    "np.add(arr[0], arr1[0])"
   ]
  },
  {
   "cell_type": "code",
   "execution_count": null,
   "id": "4e8395d5-9fd0-4c60-8e5b-1c8c1c8a2d8a",
   "metadata": {},
   "outputs": [],
   "source": []
  }
 ],
 "metadata": {
  "kernelspec": {
   "display_name": "Python 3 (ipykernel)",
   "language": "python",
   "name": "python3"
  },
  "language_info": {
   "codemirror_mode": {
    "name": "ipython",
    "version": 3
   },
   "file_extension": ".py",
   "mimetype": "text/x-python",
   "name": "python",
   "nbconvert_exporter": "python",
   "pygments_lexer": "ipython3",
   "version": "3.9.12"
  }
 },
 "nbformat": 4,
 "nbformat_minor": 5
}
