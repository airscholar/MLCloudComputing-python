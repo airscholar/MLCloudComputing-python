{
 "cells": [
  {
   "cell_type": "code",
   "execution_count": 49,
   "id": "9f53f3ea-bea7-41d3-92da-0adc76d0044c",
   "metadata": {},
   "outputs": [],
   "source": [
    "import numpy as np\n",
    "\n",
    "arr1 = np.random.randint(2, 10, size=(10,10))"
   ]
  },
  {
   "cell_type": "code",
   "execution_count": 55,
   "id": "4d9c0ffe-8872-43cf-935f-985c1af7f6f6",
   "metadata": {},
   "outputs": [
    {
     "data": {
      "text/plain": [
       "(10, 10)"
      ]
     },
     "execution_count": 55,
     "metadata": {},
     "output_type": "execute_result"
    }
   ],
   "source": [
    "arr1.shape"
   ]
  },
  {
   "cell_type": "code",
   "execution_count": 58,
   "id": "c9c224fe-be46-4202-afc0-8e6716cc3109",
   "metadata": {},
   "outputs": [
    {
     "name": "stdout",
     "output_type": "stream",
     "text": [
      "[array([[6],\n",
      "       [6]]), array([[2],\n",
      "       [9]]), array([[9],\n",
      "       [2]]), array([[7],\n",
      "       [9]]), array([[5],\n",
      "       [8]])]\n"
     ]
    }
   ],
   "source": [
    "\n",
    "new_result = [np.vsplit(i,5) for i in np.hsplit(arr1,10)]\n",
    "\n",
    "print(new_result[0])"
   ]
  },
  {
   "cell_type": "code",
   "execution_count": 52,
   "id": "9a160da2-66f2-4956-8a9e-c4b65ae664e1",
   "metadata": {},
   "outputs": [
    {
     "data": {
      "text/plain": [
       "array([[6, 6, 5, 9, 5, 9, 3, 3, 8, 4],\n",
       "       [6, 7, 7, 7, 7, 8, 2, 6, 9, 9],\n",
       "       [2, 3, 4, 7, 2, 8, 9, 8, 3, 8],\n",
       "       [9, 2, 7, 9, 4, 9, 3, 9, 5, 5],\n",
       "       [9, 6, 4, 6, 7, 6, 5, 7, 2, 5],\n",
       "       [2, 8, 3, 7, 7, 3, 6, 9, 2, 2],\n",
       "       [7, 8, 4, 5, 8, 8, 3, 8, 7, 3],\n",
       "       [9, 5, 8, 4, 4, 9, 7, 9, 9, 2],\n",
       "       [5, 5, 4, 6, 6, 4, 9, 3, 7, 7],\n",
       "       [8, 8, 5, 5, 3, 3, 4, 2, 3, 8]])"
      ]
     },
     "execution_count": 52,
     "metadata": {},
     "output_type": "execute_result"
    }
   ],
   "source": [
    "arr1"
   ]
  }
 ],
 "metadata": {
  "kernelspec": {
   "display_name": "Python 3 (ipykernel)",
   "language": "python",
   "name": "python3"
  },
  "language_info": {
   "codemirror_mode": {
    "name": "ipython",
    "version": 3
   },
   "file_extension": ".py",
   "mimetype": "text/x-python",
   "name": "python",
   "nbconvert_exporter": "python",
   "pygments_lexer": "ipython3",
   "version": "3.9.12"
  }
 },
 "nbformat": 4,
 "nbformat_minor": 5
}
