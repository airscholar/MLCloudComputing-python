{
 "cells": [
  {
   "cell_type": "code",
   "execution_count": 8,
   "id": "1795e9e2-fda9-442b-8a76-8cd77c3a9138",
   "metadata": {},
   "outputs": [],
   "source": [
    "# !pip install paramiko\n",
    "# !pip install scp"
   ]
  },
  {
   "cell_type": "code",
   "execution_count": 1,
   "id": "09e8788d-0182-49f9-9128-a6dfbca0b8b7",
   "metadata": {},
   "outputs": [],
   "source": [
    "import boto3\n",
    "import pandas as pd\n",
    "import json\n",
    "import numpy as np\n",
    "import time\n",
    "import paramiko\n",
    "import io\n",
    "from scp import SCPClient, SCPException\n",
    "import sys\n",
    "from ast import literal_eval"
   ]
  },
  {
   "cell_type": "code",
   "execution_count": 2,
   "id": "2826bf4b-381b-4810-8ac0-672563a4a12e",
   "metadata": {},
   "outputs": [],
   "source": [
    "np.set_printoptions(threshold=sys.maxsize)"
   ]
  },
  {
   "cell_type": "code",
   "execution_count": 37,
   "id": "6c10e4cc-94f6-4c09-bb82-d5e19b44a8f0",
   "metadata": {},
   "outputs": [],
   "source": [
    "INSTANCE_SIZE = 5"
   ]
  },
  {
   "cell_type": "code",
   "execution_count": 3,
   "id": "065e1449-3738-40b5-87ec-1839be75e1ad",
   "metadata": {},
   "outputs": [],
   "source": [
    "client = boto3.client('ec2', region_name='us-east-1')\n",
    "# Create SQS client\n",
    "sqs = boto3.resource('sqs')"
   ]
  },
  {
   "cell_type": "code",
   "execution_count": 88,
   "id": "5c14d73b-26f6-44a6-bcd4-ae814e2ff3a5",
   "metadata": {
    "tags": []
   },
   "outputs": [],
   "source": [
    "def get_default_security_group(client, key_name):\n",
    "    #extract key_name attribute from the security groups returned\n",
    "    response = [group[key_name] for group in client.describe_security_groups()['SecurityGroups'] if group['GroupName'] == 'default']\n",
    "    \n",
    "    return response\n",
    "    \n",
    "def get_key_pairs(client, removeExisting=False):\n",
    "    if removeExisting:\n",
    "        client.delete_key_pair(KeyName='airscholar-key')\n",
    "        \n",
    "    keypairs = client.describe_key_pairs()['KeyPairs']\n",
    "    keypair = list(filter(lambda x: x['KeyName'] == 'airscholar-key', keypairs))\n",
    "    \n",
    "    if not keypair:\n",
    "        keypair = client.create_key_pair(KeyName='airscholar-key')\n",
    "        f = io.StringIO(keypair['KeyMaterial'])\n",
    "        data = f.read()\n",
    "        file = open('labsuser.pem', 'w')\n",
    "        file.write(data)\n",
    "        file.close()\n",
    "    else: \n",
    "        keypair = keypair[0]\n",
    "    \n",
    "    return keypair\n",
    "\n",
    "def launch_new_instance(client, keypair, count):\n",
    "    response = client.run_instances(\n",
    "        ImageId='ami-05723c3b9cf4bf4ff',\n",
    "        InstanceType='t2.micro',\n",
    "        KeyName=keypair,\n",
    "        MaxCount=count,\n",
    "        MinCount=count,\n",
    "        Monitoring={\n",
    "            'Enabled': True\n",
    "        },\n",
    "        SecurityGroupIds= get_default_security_group(client, key_name='GroupId')\n",
    "    )\n",
    "    ec2_inst_ids = [res[\"InstanceId\"] for res in response]\n",
    "    waiter = client.get_waiter('instance_running')\n",
    "    waiter.wait(InstanceIds=[ec2_inst_ids])\n",
    "    return ec2_inst_ids\n",
    "\n",
    "def prepare_instances(client, keypair, count):\n",
    "    ec2 = boto3.resource('ec2')\n",
    "    ec2_inst_ids = []\n",
    "    # print(ec2.instances.all())\n",
    "\n",
    "    for instance in ec2.instances.all():\n",
    "        if instance.state['Name'] == 'running':\n",
    "            ec2_inst_ids.append(instance.id)\n",
    "\n",
    "    if not ec2_inst_ids:\n",
    "        ec2_inst_ids.append(launch_new_instance(client, keypair, count))\n",
    "\n",
    "    return ec2, ec2_inst_ids\n",
    "\n",
    "def configure_ssh():\n",
    "    sshs = []\n",
    "    for count in range(0, INSTANCE_SIZE):\n",
    "        ssh = paramiko.SSHClient()\n",
    "        ssh.set_missing_host_key_policy(paramiko.AutoAddPolicy())\n",
    "        sshs.append(ssh)\n",
    "    return sshs\n",
    "\n",
    "def ssh_connect_with_retry(ssh, ip_address, retries):\n",
    "    if retries > 3:\n",
    "        return False\n",
    "    f = open('labsuser.pem', 'r')\n",
    "    privkey = paramiko.RSAKey.from_private_key(f)\n",
    "    # print(privkey)\n",
    "    interval = 5\n",
    "    try:\n",
    "        retries += 1\n",
    "        print('SSH into the instance: {}'.format(ip_address))\n",
    "        ssh.connect(hostname=ip_address,\n",
    "                    username='ec2-user', pkey=privkey)\n",
    "        return True\n",
    "    except Exception as e:\n",
    "        print(e)\n",
    "        time.sleep(interval)\n",
    "        print('Retrying SSH connection to {}'.format(ip_address))\n",
    "        ssh_connect_with_retry(ssh, ip_address, retries)\n",
    "\n",
    "def ssh_disconnect(ssh):\n",
    "        \"\"\"Close ssh connection.\"\"\"\n",
    "        if ssh:\n",
    "            ssh.close()\n",
    "        \n",
    "def get_public_address(ec2, instance_id):\n",
    "    # ec2 = boto3.resource('ec2', region_name='us-east-1')\n",
    "    instance = ec2.Instance(id=instance_id)\n",
    "    instance.wait_until_running()\n",
    "    current_instance = list(ec2.instances.filter(InstanceIds=[instance_id]))\n",
    "    ip_address = current_instance[0].public_ip_address\n",
    "    return ip_address\n",
    "\n",
    "def get_queue(sqs, queue_name):  \n",
    "    # Get the queue. This returns an SQS.Queue instance\n",
    "    try:\n",
    "        queue = sqs.get_queue_by_name(QueueName=queue_name)\n",
    "        return queue.url\n",
    "    except:\n",
    "        # There is no queue, create a new SQS queue\n",
    "        response = sqs.create_queue(\n",
    "            QueueName=queue_name,\n",
    "            Attributes={\n",
    "                'DelaySeconds': '0',\n",
    "                'MessageRetentionPeriod': '86400',\n",
    "                \"ReceiveMessageWaitTimeSeconds\": \"0\"\n",
    "            }\n",
    "        )\n",
    "        queue_url = response['QueueUrl']\n",
    "        return queue_url\n",
    "\n",
    "def send_message_to_queue(sqs, queue_url, message, instance_id, matrix_index):\n",
    "    queue = sqs.get_queue_by_name(QueueName=QUEUE_NAME)\n",
    "\n",
    "    # Send message to SQS queue\n",
    "    response = queue.send_messages(\n",
    "        Entries=message\n",
    "    )\n",
    "    return response\n",
    "\n",
    "def install_required_packages(ssh):\n",
    "    stdin, stdout, stderr = ssh.exec_command(\"sudo yum install pip -y && pip install numpy\")\n",
    "    return stdout, stderr\n",
    "\n",
    "def get_messages_from_queue(queue_url):\n",
    "    sqs_client = boto3.client('sqs')\n",
    "\n",
    "    messages = []\n",
    "\n",
    "    while True:\n",
    "        resp = sqs_client.receive_message(\n",
    "            QueueUrl=queue_url\n",
    "        )\n",
    "\n",
    "        try:\n",
    "            messages.extend(resp['Messages'])\n",
    "        except KeyError:\n",
    "            break\n",
    "\n",
    "        entries = [\n",
    "            {'Index': msg['MatrixId'], 'Matrix': msg['Matrix']}\n",
    "            for msg in resp['Messages']\n",
    "        ]\n",
    "\n",
    "        resp = sqs_client.delete_message_batch(\n",
    "            QueueUrl=queue_url, Entries=entries\n",
    "        )\n",
    "\n",
    "        if len(resp['Successful']) != len(entries):\n",
    "            raise RuntimeError(\n",
    "                f\"Failed to delete messages: entries={entries!r} resp={resp!r}\"\n",
    "            )\n",
    "\n",
    "    return messages\n",
    "\n",
    "def split_row(array, nrows, ncols):\n",
    "    \"\"\"Split a matrix into sub-matrices.\"\"\"\n",
    "\n",
    "    r, h = array.shape\n",
    "    return (array.reshape(h//nrows, nrows, -1, ncols)\n",
    "                 .swapaxes(1, 2)\n",
    "                 .reshape(-1, nrows, ncols))\n",
    "\n",
    "def split_col(array, nrows, ncols):\n",
    "    \"\"\"Split a matrix into sub-matrices.\"\"\"\n",
    "    r, h = array.shape\n",
    "    return [np.vsplit(i, 5) for i in np.hsplit(arr1, r)]\n",
    "\n",
    "def generate_array(nrows, ncols):\n",
    "    arr = np.random.randint(10, size=(nrows, ncols))\n",
    "    # # print('arr 1:\\n', arr)\n",
    "    # arr = split_row(arr, 1, split_size)\n",
    "    arr1 = np.random.randint(10, size=(nrows, ncols))\n",
    "    # print('arr 2:\\n', arr1)\n",
    "    # arr1 = split_col(arr1, 1, split_size)\n",
    "    \n",
    "    return arr, arr1\n",
    "\n",
    "def upload_file_to_s3(file_name, bucket, object_name=None):\n",
    "    \"\"\"Upload a file to an S3 bucket\n",
    "\n",
    "    :param file_name: File to upload\n",
    "    :param bucket: Bucket to upload to\n",
    "    :param object_name: S3 object name. If not specified then file_name is used\n",
    "    :return: True if file was uploaded, else False\n",
    "    \"\"\"\n",
    "\n",
    "    # If S3 object_name was not specified, use file_name\n",
    "    if object_name is None:\n",
    "        object_name = os.path.basename(file_name)\n",
    "\n",
    "    # Upload the file\n",
    "    s3_client = boto3.client('s3')\n",
    "    try:\n",
    "        response = s3_client.upload_file(file_name, bucket, object_name)\n",
    "    except ClientError as e:\n",
    "        logging.error(e)\n",
    "        return False\n",
    "    return True\n",
    "\n",
    "def bulk_upload(scp, filepaths: list[str], remote_path, host):\n",
    "        \"\"\"\n",
    "        Upload multiple files to a remote directory.\n",
    "\n",
    "        :param List[str] filepaths: List of local files to be uploaded.\n",
    "        \"\"\"\n",
    "        try:\n",
    "            scp.put(\n",
    "                filepaths,\n",
    "                remote_path=remote_path,\n",
    "                recursive=True\n",
    "            )\n",
    "            print(f\"Finished uploading {len(filepaths)} files to {remote_path} on {host}\")\n",
    "        except SCPException as e:\n",
    "            print(f\"SCPException during bulk upload: {e}\")\n",
    "        except Exception as e:\n",
    "            print(f\"Unexpected exception during bulk upload: {e}\")"
   ]
  },
  {
   "cell_type": "code",
   "execution_count": 89,
   "id": "6e90974e-7735-4b83-9957-bd958ab449be",
   "metadata": {},
   "outputs": [],
   "source": [
    "QUEUE_NAME = 'airscholar-queue'"
   ]
  },
  {
   "cell_type": "code",
   "execution_count": 90,
   "id": "5bc0a3eb-3bc7-4d62-b967-4131688e16b2",
   "metadata": {},
   "outputs": [],
   "source": [
    "queue_url = get_queue(sqs, QUEUE_NAME)"
   ]
  },
  {
   "cell_type": "code",
   "execution_count": 91,
   "id": "0e37fcfa-13e7-4e3c-aef9-49f4288d5b56",
   "metadata": {},
   "outputs": [
    {
     "data": {
      "text/plain": [
       "'https://sqs.us-east-1.amazonaws.com/469282757936/airscholar-queue'"
      ]
     },
     "execution_count": 91,
     "metadata": {},
     "output_type": "execute_result"
    }
   ],
   "source": [
    "queue_url"
   ]
  },
  {
   "cell_type": "code",
   "execution_count": 45,
   "id": "306cdb9e-3041-4478-a61c-97aeaf5349e6",
   "metadata": {},
   "outputs": [
    {
     "name": "stdout",
     "output_type": "stream",
     "text": [
      "SSH into the instance: 44.204.66.252\n",
      "SSH into the instance: 18.212.24.162\n",
      "SSH into the instance: 44.210.89.25\n",
      "SSH into the instance: 44.203.181.30\n",
      "SSH into the instance: 3.92.209.18\n"
     ]
    }
   ],
   "source": [
    "sshs = configure_ssh() \n",
    "keypair = get_key_pairs(client, False)\n",
    "ec2, instances = prepare_instances(client, keypair['KeyName'], 5)\n",
    "ip_addresses = [get_public_address(ec2, instance) for instance in instances]\n",
    "\n",
    "for idx in range(0, len(sshs)):\n",
    "    ssh = sshs[idx]\n",
    "    ip_address = ip_addresses[idx]\n",
    "    ssh_connect_with_retry(ssh, ip_address, 0)"
   ]
  },
  {
   "cell_type": "code",
   "execution_count": null,
   "id": "9c3dd867-bd84-4f21-8a96-1fd31dff4db9",
   "metadata": {},
   "outputs": [],
   "source": [
    "# ssh_disconnect(ssh)"
   ]
  },
  {
   "cell_type": "code",
   "execution_count": 46,
   "id": "a8a24401-ce0b-4d29-8b84-0ab1a5a28a25",
   "metadata": {},
   "outputs": [
    {
     "name": "stdout",
     "output_type": "stream",
     "text": [
      "stdout: b'Updating Subscription Management repositories.\\nUnable to read consumer identity\\n\\nThis system is not registered with an entitlement server. You can use subscription-manager to register.\\n\\nRed Hat Enterprise Linux 9 for x86_64 - AppStre  14 MB/s |  15 MB     00:01    \\nRed Hat Enterprise Linux 9 for x86_64 - BaseOS  9.6 MB/s | 6.9 MB     00:00    \\nRed Hat Enterprise Linux 9 Client Configuration  13 kB/s | 2.0 kB     00:00    \\nLast metadata expiration check: 0:00:01 ago on Mon 12 Dec 2022 12:32:45 PM UTC.\\nDependencies resolved.\\n================================================================================\\n Package        Arch      Version           Repository                     Size\\n================================================================================\\nInstalling:\\n python3-pip    noarch    21.2.3-6.el9      rhel-9-appstream-rhui-rpms    2.0 M\\n\\nTransaction Summary\\n================================================================================\\nInstall  1 Package\\n\\nTotal download size: 2.0 M\\nInstalled size: 8.7 M\\nDownloading Packages:\\npython3-pip-21.2.3-6.el9.noarch.rpm              11 MB/s | 2.0 MB     00:00    \\n--------------------------------------------------------------------------------\\nTotal                                           9.1 MB/s | 2.0 MB     00:00     \\nRunning transaction check\\nTransaction check succeeded.\\nRunning transaction test\\nTransaction test succeeded.\\nRunning transaction\\n  Preparing        :                                                        1/1 \\n  Installing       : python3-pip-21.2.3-6.el9.noarch                        1/1 \\n  Running scriptlet: python3-pip-21.2.3-6.el9.noarch                        1/1 \\n  Verifying        : python3-pip-21.2.3-6.el9.noarch                        1/1 \\nInstalled products updated.\\n\\nInstalled:\\n  python3-pip-21.2.3-6.el9.noarch                                               \\n\\nComplete!\\nDefaulting to user installation because normal site-packages is not writeable\\nCollecting numpy\\n  Downloading numpy-1.23.5-cp39-cp39-manylinux_2_17_x86_64.manylinux2014_x86_64.whl (17.1 MB)\\nInstalling collected packages: numpy\\nSuccessfully installed numpy-1.23.5\\n'\n",
      "stdout: b'Updating Subscription Management repositories.\\nUnable to read consumer identity\\n\\nThis system is not registered with an entitlement server. You can use subscription-manager to register.\\n\\nRed Hat Enterprise Linux 9 for x86_64 - AppStre  17 MB/s |  15 MB     00:00    \\nRed Hat Enterprise Linux 9 for x86_64 - BaseOS   13 MB/s | 6.9 MB     00:00    \\nRed Hat Enterprise Linux 9 Client Configuration  14 kB/s | 2.0 kB     00:00    \\nLast metadata expiration check: 0:00:01 ago on Mon 12 Dec 2022 12:33:05 PM UTC.\\nDependencies resolved.\\n================================================================================\\n Package        Arch      Version           Repository                     Size\\n================================================================================\\nInstalling:\\n python3-pip    noarch    21.2.3-6.el9      rhel-9-appstream-rhui-rpms    2.0 M\\n\\nTransaction Summary\\n================================================================================\\nInstall  1 Package\\n\\nTotal download size: 2.0 M\\nInstalled size: 8.7 M\\nDownloading Packages:\\npython3-pip-21.2.3-6.el9.noarch.rpm              10 MB/s | 2.0 MB     00:00    \\n--------------------------------------------------------------------------------\\nTotal                                           8.7 MB/s | 2.0 MB     00:00     \\nRunning transaction check\\nTransaction check succeeded.\\nRunning transaction test\\nTransaction test succeeded.\\nRunning transaction\\n  Preparing        :                                                        1/1 \\n  Installing       : python3-pip-21.2.3-6.el9.noarch                        1/1 \\n  Running scriptlet: python3-pip-21.2.3-6.el9.noarch                        1/1 \\n  Verifying        : python3-pip-21.2.3-6.el9.noarch                        1/1 \\nInstalled products updated.\\n\\nInstalled:\\n  python3-pip-21.2.3-6.el9.noarch                                               \\n\\nComplete!\\nDefaulting to user installation because normal site-packages is not writeable\\nCollecting numpy\\n  Downloading numpy-1.23.5-cp39-cp39-manylinux_2_17_x86_64.manylinux2014_x86_64.whl (17.1 MB)\\nInstalling collected packages: numpy\\nSuccessfully installed numpy-1.23.5\\n'\n",
      "stdout: b'Updating Subscription Management repositories.\\nUnable to read consumer identity\\n\\nThis system is not registered with an entitlement server. You can use subscription-manager to register.\\n\\nRed Hat Enterprise Linux 9 for x86_64 - AppStre  25 MB/s |  15 MB     00:00    \\nRed Hat Enterprise Linux 9 for x86_64 - BaseOS   18 MB/s | 6.9 MB     00:00    \\nRed Hat Enterprise Linux 9 Client Configuration  14 kB/s | 2.0 kB     00:00    \\nDependencies resolved.\\n================================================================================\\n Package        Arch      Version           Repository                     Size\\n================================================================================\\nInstalling:\\n python3-pip    noarch    21.2.3-6.el9      rhel-9-appstream-rhui-rpms    2.0 M\\n\\nTransaction Summary\\n================================================================================\\nInstall  1 Package\\n\\nTotal download size: 2.0 M\\nInstalled size: 8.7 M\\nDownloading Packages:\\npython3-pip-21.2.3-6.el9.noarch.rpm              15 MB/s | 2.0 MB     00:00    \\n--------------------------------------------------------------------------------\\nTotal                                            12 MB/s | 2.0 MB     00:00     \\nRunning transaction check\\nTransaction check succeeded.\\nRunning transaction test\\nTransaction test succeeded.\\nRunning transaction\\n  Preparing        :                                                        1/1 \\n  Installing       : python3-pip-21.2.3-6.el9.noarch                        1/1 \\n  Running scriptlet: python3-pip-21.2.3-6.el9.noarch                        1/1 \\n  Verifying        : python3-pip-21.2.3-6.el9.noarch                        1/1 \\nInstalled products updated.\\n\\nInstalled:\\n  python3-pip-21.2.3-6.el9.noarch                                               \\n\\nComplete!\\nDefaulting to user installation because normal site-packages is not writeable\\nCollecting numpy\\n  Downloading numpy-1.23.5-cp39-cp39-manylinux_2_17_x86_64.manylinux2014_x86_64.whl (17.1 MB)\\nInstalling collected packages: numpy\\nSuccessfully installed numpy-1.23.5\\n'\n",
      "stdout: b'Updating Subscription Management repositories.\\nUnable to read consumer identity\\n\\nThis system is not registered with an entitlement server. You can use subscription-manager to register.\\n\\nRed Hat Enterprise Linux 9 for x86_64 - AppStre  22 MB/s |  15 MB     00:00    \\nRed Hat Enterprise Linux 9 for x86_64 - BaseOS   22 MB/s | 6.9 MB     00:00    \\nRed Hat Enterprise Linux 9 Client Configuration  16 kB/s | 2.0 kB     00:00    \\nDependencies resolved.\\n================================================================================\\n Package        Arch      Version           Repository                     Size\\n================================================================================\\nInstalling:\\n python3-pip    noarch    21.2.3-6.el9      rhel-9-appstream-rhui-rpms    2.0 M\\n\\nTransaction Summary\\n================================================================================\\nInstall  1 Package\\n\\nTotal download size: 2.0 M\\nInstalled size: 8.7 M\\nDownloading Packages:\\npython3-pip-21.2.3-6.el9.noarch.rpm              19 MB/s | 2.0 MB     00:00    \\n--------------------------------------------------------------------------------\\nTotal                                            15 MB/s | 2.0 MB     00:00     \\nRunning transaction check\\nTransaction check succeeded.\\nRunning transaction test\\nTransaction test succeeded.\\nRunning transaction\\n  Preparing        :                                                        1/1 \\n  Installing       : python3-pip-21.2.3-6.el9.noarch                        1/1 \\n  Running scriptlet: python3-pip-21.2.3-6.el9.noarch                        1/1 \\n  Verifying        : python3-pip-21.2.3-6.el9.noarch                        1/1 \\nInstalled products updated.\\n\\nInstalled:\\n  python3-pip-21.2.3-6.el9.noarch                                               \\n\\nComplete!\\nDefaulting to user installation because normal site-packages is not writeable\\nCollecting numpy\\n  Downloading numpy-1.23.5-cp39-cp39-manylinux_2_17_x86_64.manylinux2014_x86_64.whl (17.1 MB)\\nInstalling collected packages: numpy\\nSuccessfully installed numpy-1.23.5\\n'\n",
      "stdout: b'Updating Subscription Management repositories.\\nUnable to read consumer identity\\n\\nThis system is not registered with an entitlement server. You can use subscription-manager to register.\\n\\nRed Hat Enterprise Linux 9 for x86_64 - AppStre  18 MB/s |  15 MB     00:00    \\nRed Hat Enterprise Linux 9 for x86_64 - BaseOS   17 MB/s | 6.9 MB     00:00    \\nRed Hat Enterprise Linux 9 Client Configuration  15 kB/s | 2.0 kB     00:00    \\nDependencies resolved.\\n================================================================================\\n Package        Arch      Version           Repository                     Size\\n================================================================================\\nInstalling:\\n python3-pip    noarch    21.2.3-6.el9      rhel-9-appstream-rhui-rpms    2.0 M\\n\\nTransaction Summary\\n================================================================================\\nInstall  1 Package\\n\\nTotal download size: 2.0 M\\nInstalled size: 8.7 M\\nDownloading Packages:\\npython3-pip-21.2.3-6.el9.noarch.rpm              16 MB/s | 2.0 MB     00:00    \\n--------------------------------------------------------------------------------\\nTotal                                            12 MB/s | 2.0 MB     00:00     \\nRunning transaction check\\nTransaction check succeeded.\\nRunning transaction test\\nTransaction test succeeded.\\nRunning transaction\\n  Preparing        :                                                        1/1 \\n  Installing       : python3-pip-21.2.3-6.el9.noarch                        1/1 \\n  Running scriptlet: python3-pip-21.2.3-6.el9.noarch                        1/1 \\n  Verifying        : python3-pip-21.2.3-6.el9.noarch                        1/1 \\nInstalled products updated.\\n\\nInstalled:\\n  python3-pip-21.2.3-6.el9.noarch                                               \\n\\nComplete!\\nDefaulting to user installation because normal site-packages is not writeable\\nCollecting numpy\\n  Downloading numpy-1.23.5-cp39-cp39-manylinux_2_17_x86_64.manylinux2014_x86_64.whl (17.1 MB)\\nInstalling collected packages: numpy\\nSuccessfully installed numpy-1.23.5\\n'\n"
     ]
    }
   ],
   "source": [
    "for ssh in sshs:\n",
    "    stdout, stderr = install_required_packages(ssh)\n",
    "    print('stdout:', stdout.read())\n"
   ]
  },
  {
   "cell_type": "code",
   "execution_count": 11,
   "id": "44803bd3-9383-40dc-ba7b-0d11f195ece4",
   "metadata": {},
   "outputs": [],
   "source": [
    "# sqs = boto3.resource('sqs')\n",
    "# sqs"
   ]
  },
  {
   "cell_type": "code",
   "execution_count": 12,
   "id": "e10ff29e-02e8-45d7-aa72-1e1cc505ec4e",
   "metadata": {
    "tags": []
   },
   "outputs": [],
   "source": [
    "# response = send_message_to_queue(sqs, QUEUE_NAME, \"Hi there! This is my queue message4!\", 1, 0)\n",
    "# response = send_message_to_queue(sqs, QUEUE_NAME, 'X', 1, 0)"
   ]
  },
  {
   "cell_type": "code",
   "execution_count": 13,
   "id": "1bfa2c25-4fe5-4b59-9824-2e67e7e78baf",
   "metadata": {},
   "outputs": [],
   "source": [
    "# print(json.dumps(response['Successful'], indent=4))"
   ]
  },
  {
   "cell_type": "code",
   "execution_count": 49,
   "id": "c669cb11-42ef-497a-aacd-55c69e13bd85",
   "metadata": {},
   "outputs": [],
   "source": [
    "arr, arr1 = generate_array(100,100)"
   ]
  },
  {
   "cell_type": "code",
   "execution_count": 50,
   "id": "011063ca-6b4b-4dde-b157-dcfa45e40e2f",
   "metadata": {},
   "outputs": [],
   "source": [
    "s_arr = split_row(arr, 1, 20)"
   ]
  },
  {
   "cell_type": "code",
   "execution_count": 51,
   "id": "8bd9f29a-300c-401e-ae2a-887c00ce06ca",
   "metadata": {},
   "outputs": [],
   "source": [
    "s_arr1 = split_col(arr1, 2, 5)"
   ]
  },
  {
   "cell_type": "code",
   "execution_count": 63,
   "id": "aff7c18e-2d84-489a-a148-79b2a32ed0c5",
   "metadata": {},
   "outputs": [
    {
     "data": {
      "text/plain": [
       "500"
      ]
     },
     "execution_count": 63,
     "metadata": {},
     "output_type": "execute_result"
    }
   ],
   "source": []
  },
  {
   "cell_type": "code",
   "execution_count": 65,
   "id": "ed4604b3-403f-4671-837d-11a13b2726ac",
   "metadata": {},
   "outputs": [],
   "source": [
    "iter = len(s_arr)/100"
   ]
  },
  {
   "cell_type": "code",
   "execution_count": 69,
   "id": "50376ddf-9003-46a2-9b85-56471347f37b",
   "metadata": {},
   "outputs": [],
   "source": [
    "a = s_arr[0]\n",
    "b = s_arr1[0][0]\n",
    "a = str(a).replace(' ', ',').replace('\\n', '')\n",
    "b = str(b).replace('\\n', ',').replace(' ', '')"
   ]
  },
  {
   "cell_type": "code",
   "execution_count": 82,
   "id": "16a79138-58f4-4051-aeba-8683b78b7503",
   "metadata": {},
   "outputs": [
    {
     "data": {
      "text/plain": [
       "array([[7, 9, 4, 1, 4, 7, 1, 4, 0, 6, 3, 9, 9, 5, 1, 7, 1, 7, 7, 0]])"
      ]
     },
     "execution_count": 82,
     "metadata": {},
     "output_type": "execute_result"
    }
   ],
   "source": [
    "s_arr[0]"
   ]
  },
  {
   "cell_type": "code",
   "execution_count": 87,
   "id": "298f5de6-48b8-4f35-877c-ceb3a1f66d9a",
   "metadata": {},
   "outputs": [
    {
     "data": {
      "text/plain": [
       "20"
      ]
     },
     "execution_count": 87,
     "metadata": {},
     "output_type": "execute_result"
    }
   ],
   "source": [
    "len(s_arr1[0][4])"
   ]
  },
  {
   "cell_type": "code",
   "execution_count": 36,
   "id": "b2fd32ed-05e4-4e60-8539-e43678fc091d",
   "metadata": {},
   "outputs": [
    {
     "data": {
      "text/plain": [
       "218"
      ]
     },
     "execution_count": 36,
     "metadata": {},
     "output_type": "execute_result"
    }
   ],
   "source": [
    "for y in range(0, 20)\n",
    "for x in range(0, iter):\n",
    "    a = arr[0]\n",
    "    b = arr1[0][0]\n",
    "    a = str(a).replace(' ', ',').replace('\\n', '')\n",
    "    b = str(b).replace('\\n', ',').replace(' ', '')\n",
    "    \n",
    "    stdin, stdout, stderr = ssh.exec_command(f'python dot_prod.py {a} {b}')\n",
    "    result = stdout.read().decode(\"utf-8\").replace('\\n', '')\n",
    "    literal_eval(result)[0][0]\n",
    "    # print(stderr.read().decode(\"utf-8\"))"
   ]
  },
  {
   "cell_type": "code",
   "execution_count": 35,
   "id": "a5f8f24f-e1ae-40ff-be18-9d96121ec033",
   "metadata": {},
   "outputs": [
    {
     "data": {
      "text/plain": [
       "218"
      ]
     },
     "execution_count": 35,
     "metadata": {},
     "output_type": "execute_result"
    }
   ],
   "source": []
  },
  {
   "cell_type": "code",
   "execution_count": 46,
   "id": "dce16320-e39d-4bf6-baed-09379fd186fb",
   "metadata": {},
   "outputs": [],
   "source": [
    "scp = SCPClient(ssh.get_transport())"
   ]
  },
  {
   "cell_type": "code",
   "execution_count": 47,
   "id": "0725e60a-2dda-4067-a494-b7a2ecd382f5",
   "metadata": {},
   "outputs": [],
   "source": [
    "# fetch_local_files('.')"
   ]
  },
  {
   "cell_type": "code",
   "execution_count": 48,
   "id": "725ebb88-0b47-4331-91f5-392c5654b90a",
   "metadata": {},
   "outputs": [
    {
     "name": "stdout",
     "output_type": "stream",
     "text": [
      "Finished uploading 1 files to ~ on 54.152.58.160\n"
     ]
    }
   ],
   "source": [
    "bulk_upload(scp, ['./dot_prod.py'], '~', ip_address)"
   ]
  },
  {
   "cell_type": "code",
   "execution_count": 89,
   "id": "3179a05a-e1e6-4c47-b4c1-4a68d9c02262",
   "metadata": {},
   "outputs": [
    {
     "data": {
      "text/plain": [
       "array([[24, 12],\n",
       "       [72, 36]])"
      ]
     },
     "execution_count": 89,
     "metadata": {},
     "output_type": "execute_result"
    }
   ],
   "source": [
    "import numpy as np \n",
    "np.dot(a, b) "
   ]
  },
  {
   "cell_type": "code",
   "execution_count": 82,
   "id": "d01c0f6e-ad91-4976-a0a9-d74e2abbbba0",
   "metadata": {},
   "outputs": [
    {
     "data": {
      "text/plain": [
       "array([[24, 12],\n",
       "       [72, 36]])"
      ]
     },
     "execution_count": 82,
     "metadata": {},
     "output_type": "execute_result"
    }
   ],
   "source": [
    "compute_dot(a, b)"
   ]
  },
  {
   "cell_type": "code",
   "execution_count": 50,
   "id": "0f8833e3-ad45-4be2-a3ff-d250fb100cee",
   "metadata": {},
   "outputs": [
    {
     "data": {
      "text/plain": [
       "'https://sqs.us-east-1.amazonaws.com/469282757936/airscholar-queue'"
      ]
     },
     "execution_count": 50,
     "metadata": {},
     "output_type": "execute_result"
    }
   ],
   "source": [
    "queue_url"
   ]
  },
  {
   "cell_type": "code",
   "execution_count": 92,
   "id": "33cd3d74-e2a8-4959-817f-58c893854021",
   "metadata": {},
   "outputs": [],
   "source": [
    "messages = [{\"Id\": \"1\",\n",
    "            \"MessageBody\": 'Hello there, sample test!' \n",
    "           }]"
   ]
  },
  {
   "cell_type": "code",
   "execution_count": 93,
   "id": "a21de88f-1ba7-4232-a1e3-bda599623fb6",
   "metadata": {},
   "outputs": [
    {
     "data": {
      "text/plain": [
       "{'Successful': [{'Id': '1',\n",
       "   'MessageId': 'a8367ebe-633d-4bcb-a0b4-7e0b03c9924d',\n",
       "   'MD5OfMessageBody': 'b8370fb37459f6c3bdb6f69409c8eae0'}],\n",
       " 'ResponseMetadata': {'RequestId': 'db567bc7-492b-58f5-82e2-27d6650201bc',\n",
       "  'HTTPStatusCode': 200,\n",
       "  'HTTPHeaders': {'x-amzn-requestid': 'db567bc7-492b-58f5-82e2-27d6650201bc',\n",
       "   'date': 'Mon, 12 Dec 2022 13:17:29 GMT',\n",
       "   'content-type': 'text/xml',\n",
       "   'content-length': '467'},\n",
       "  'RetryAttempts': 0}}"
      ]
     },
     "execution_count": 93,
     "metadata": {},
     "output_type": "execute_result"
    }
   ],
   "source": [
    "send_message_to_queue(sqs, queue_url, messages, 1, 1)"
   ]
  },
  {
   "cell_type": "code",
   "execution_count": 73,
   "id": "6612495e-7a38-4fa2-b263-578b175f07ff",
   "metadata": {},
   "outputs": [
    {
     "ename": "KeyError",
     "evalue": "'MatrixId'",
     "output_type": "error",
     "traceback": [
      "\u001b[0;31m---------------------------------------------------------------------------\u001b[0m",
      "\u001b[0;31mKeyError\u001b[0m                                  Traceback (most recent call last)",
      "Input \u001b[0;32mIn [73]\u001b[0m, in \u001b[0;36m<cell line: 1>\u001b[0;34m()\u001b[0m\n\u001b[0;32m----> 1\u001b[0m \u001b[43mget_messages_from_queue\u001b[49m\u001b[43m(\u001b[49m\u001b[43mqueue_url\u001b[49m\u001b[43m)\u001b[49m\n",
      "Input \u001b[0;32mIn [54]\u001b[0m, in \u001b[0;36mget_messages_from_queue\u001b[0;34m(queue_url)\u001b[0m\n\u001b[1;32m    141\u001b[0m \u001b[38;5;28;01mexcept\u001b[39;00m \u001b[38;5;167;01mKeyError\u001b[39;00m:\n\u001b[1;32m    142\u001b[0m     \u001b[38;5;28;01mbreak\u001b[39;00m\n\u001b[0;32m--> 144\u001b[0m entries \u001b[38;5;241m=\u001b[39m [\n\u001b[1;32m    145\u001b[0m     {\u001b[38;5;124m'\u001b[39m\u001b[38;5;124mIndex\u001b[39m\u001b[38;5;124m'\u001b[39m: msg[\u001b[38;5;124m'\u001b[39m\u001b[38;5;124mMatrixId\u001b[39m\u001b[38;5;124m'\u001b[39m], \u001b[38;5;124m'\u001b[39m\u001b[38;5;124mMatrix\u001b[39m\u001b[38;5;124m'\u001b[39m: msg[\u001b[38;5;124m'\u001b[39m\u001b[38;5;124mMatrix\u001b[39m\u001b[38;5;124m'\u001b[39m]}\n\u001b[1;32m    146\u001b[0m     \u001b[38;5;28;01mfor\u001b[39;00m msg \u001b[38;5;129;01min\u001b[39;00m resp[\u001b[38;5;124m'\u001b[39m\u001b[38;5;124mMessages\u001b[39m\u001b[38;5;124m'\u001b[39m]\n\u001b[1;32m    147\u001b[0m ]\n\u001b[1;32m    149\u001b[0m resp \u001b[38;5;241m=\u001b[39m sqs_client\u001b[38;5;241m.\u001b[39mdelete_message_batch(\n\u001b[1;32m    150\u001b[0m     QueueUrl\u001b[38;5;241m=\u001b[39mqueue_url, Entries\u001b[38;5;241m=\u001b[39mentries\n\u001b[1;32m    151\u001b[0m )\n\u001b[1;32m    153\u001b[0m \u001b[38;5;28;01mif\u001b[39;00m \u001b[38;5;28mlen\u001b[39m(resp[\u001b[38;5;124m'\u001b[39m\u001b[38;5;124mSuccessful\u001b[39m\u001b[38;5;124m'\u001b[39m]) \u001b[38;5;241m!=\u001b[39m \u001b[38;5;28mlen\u001b[39m(entries):\n",
      "Input \u001b[0;32mIn [54]\u001b[0m, in \u001b[0;36m<listcomp>\u001b[0;34m(.0)\u001b[0m\n\u001b[1;32m    141\u001b[0m \u001b[38;5;28;01mexcept\u001b[39;00m \u001b[38;5;167;01mKeyError\u001b[39;00m:\n\u001b[1;32m    142\u001b[0m     \u001b[38;5;28;01mbreak\u001b[39;00m\n\u001b[1;32m    144\u001b[0m entries \u001b[38;5;241m=\u001b[39m [\n\u001b[0;32m--> 145\u001b[0m     {\u001b[38;5;124m'\u001b[39m\u001b[38;5;124mIndex\u001b[39m\u001b[38;5;124m'\u001b[39m: \u001b[43mmsg\u001b[49m\u001b[43m[\u001b[49m\u001b[38;5;124;43m'\u001b[39;49m\u001b[38;5;124;43mMatrixId\u001b[39;49m\u001b[38;5;124;43m'\u001b[39;49m\u001b[43m]\u001b[49m, \u001b[38;5;124m'\u001b[39m\u001b[38;5;124mMatrix\u001b[39m\u001b[38;5;124m'\u001b[39m: msg[\u001b[38;5;124m'\u001b[39m\u001b[38;5;124mMatrix\u001b[39m\u001b[38;5;124m'\u001b[39m]}\n\u001b[1;32m    146\u001b[0m     \u001b[38;5;28;01mfor\u001b[39;00m msg \u001b[38;5;129;01min\u001b[39;00m resp[\u001b[38;5;124m'\u001b[39m\u001b[38;5;124mMessages\u001b[39m\u001b[38;5;124m'\u001b[39m]\n\u001b[1;32m    147\u001b[0m ]\n\u001b[1;32m    149\u001b[0m resp \u001b[38;5;241m=\u001b[39m sqs_client\u001b[38;5;241m.\u001b[39mdelete_message_batch(\n\u001b[1;32m    150\u001b[0m     QueueUrl\u001b[38;5;241m=\u001b[39mqueue_url, Entries\u001b[38;5;241m=\u001b[39mentries\n\u001b[1;32m    151\u001b[0m )\n\u001b[1;32m    153\u001b[0m \u001b[38;5;28;01mif\u001b[39;00m \u001b[38;5;28mlen\u001b[39m(resp[\u001b[38;5;124m'\u001b[39m\u001b[38;5;124mSuccessful\u001b[39m\u001b[38;5;124m'\u001b[39m]) \u001b[38;5;241m!=\u001b[39m \u001b[38;5;28mlen\u001b[39m(entries):\n",
      "\u001b[0;31mKeyError\u001b[0m: 'MatrixId'"
     ]
    }
   ],
   "source": [
    "get_messages_from_queue(queue_url)"
   ]
  },
  {
   "cell_type": "code",
   "execution_count": 204,
   "id": "1369b3f9-564f-4f2a-8e6e-deadbec9056b",
   "metadata": {},
   "outputs": [],
   "source": [
    "# # sqs = boto3.resource('sqs')\n",
    "# queue = sqs.(QueueName='airscholar-queue')\n",
    "# for message in sqs.receive_message(\n",
    "#             MaxNumberOfMessages=10):\n",
    "#         # process message body\n",
    "#         body = json.loads(message.body)\n",
    "#         print(body)\n"
   ]
  },
  {
   "cell_type": "code",
   "execution_count": 143,
   "id": "9565b2df-9c09-475f-bd52-b90e6ff69f64",
   "metadata": {},
   "outputs": [],
   "source": [
    "# message = response['Messages']\n",
    "# receipt_handle = message['ReceiptHandle']\n",
    "\n",
    "# # Delete received message from queue\n",
    "# sqs.delete_message(\n",
    "#     QueueUrl=queue_url,\n",
    "#     ReceiptHandle=receipt_handle\n",
    "# )\n"
   ]
  },
  {
   "cell_type": "code",
   "execution_count": 196,
   "id": "afb375f4-09c6-49ee-87bb-a2a05b257be1",
   "metadata": {},
   "outputs": [],
   "source": [
    "# print(json.dumps(message, indent=4))"
   ]
  },
  {
   "cell_type": "code",
   "execution_count": 45,
   "id": "2a77ae2f-0920-4866-aa85-3533371f38ca",
   "metadata": {
    "tags": []
   },
   "outputs": [],
   "source": [
    "# # ec2_inst_id\n",
    "# bucketName = 'airscholar-mlbd-bucket'"
   ]
  },
  {
   "cell_type": "code",
   "execution_count": 146,
   "id": "dc983a9a-5cff-4e99-82b4-151681913ff9",
   "metadata": {},
   "outputs": [],
   "source": [
    "# s3 = boto3.client('s3')"
   ]
  },
  {
   "cell_type": "code",
   "execution_count": null,
   "id": "ea072947-1808-4444-9d2c-bff7e26f3b37",
   "metadata": {},
   "outputs": [],
   "source": [
    "# response = s3.get_object(Bucket=bucketName,\n",
    "#                          Key='data.json')\n",
    "# print(\"Done, response body:\")\n",
    "# print(response['Body'].read())"
   ]
  },
  {
   "cell_type": "code",
   "execution_count": null,
   "id": "eb35587b-cee3-455a-a86d-1b4c6b875653",
   "metadata": {},
   "outputs": [],
   "source": [
    "#create instance\n",
    "#configure instance\n",
    "#create matrix\n",
    "#split matrix\n",
    "#send matrix to the queue\n",
    "#read matrix from the queue on the instance created\n",
    "#compute matrix\n",
    "#send result to base\n"
   ]
  },
  {
   "cell_type": "code",
   "execution_count": 25,
   "id": "d149a3f8-392e-4080-8ecc-d00c56714648",
   "metadata": {},
   "outputs": [
    {
     "name": "stdout",
     "output_type": "stream",
     "text": [
      "zsh:1: command not found: ggp\n"
     ]
    }
   ],
   "source": [
    "!git add .\n",
    "!git commit -am \"Update infrastructure implementation\"\n",
    "!git push"
   ]
  }
 ],
 "metadata": {
  "kernelspec": {
   "display_name": "Python 3 (ipykernel)",
   "language": "python",
   "name": "python3"
  },
  "language_info": {
   "codemirror_mode": {
    "name": "ipython",
    "version": 3
   },
   "file_extension": ".py",
   "mimetype": "text/x-python",
   "name": "python",
   "nbconvert_exporter": "python",
   "pygments_lexer": "ipython3",
   "version": "3.9.12"
  }
 },
 "nbformat": 4,
 "nbformat_minor": 5
}
