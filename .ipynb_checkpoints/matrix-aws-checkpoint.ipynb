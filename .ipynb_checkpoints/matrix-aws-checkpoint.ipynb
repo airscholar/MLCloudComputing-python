{
 "cells": [
  {
   "cell_type": "code",
   "execution_count": 106,
   "id": "09e8788d-0182-49f9-9128-a6dfbca0b8b7",
   "metadata": {},
   "outputs": [],
   "source": [
    "import boto3\n",
    "import pandas as pd\n",
    "import json\n",
    "import numpy as np\n",
    "import time"
   ]
  },
  {
   "cell_type": "code",
   "execution_count": 147,
   "id": "e8d99391-db20-40e3-b14c-1fd2a013368d",
   "metadata": {},
   "outputs": [],
   "source": [
    "# data = pd.read_csv('data.csv')"
   ]
  },
  {
   "cell_type": "code",
   "execution_count": 171,
   "id": "84982471-e091-48ef-b701-9d84bbd2818b",
   "metadata": {},
   "outputs": [],
   "source": [
    "# data.head()\n",
    "data = np.arange(100).reshape(10,10)"
   ]
  },
  {
   "cell_type": "code",
   "execution_count": 167,
   "id": "7b9b7b52-9709-4a1c-a774-9a4fd79f77f3",
   "metadata": {},
   "outputs": [],
   "source": [
    "def split(array, nrows, ncols):\n",
    "    \"\"\"Split a matrix into sub-matrices.\"\"\"\n",
    "\n",
    "    r, h = array.shape\n",
    "    return (array.reshape(h//nrows, nrows, -1, ncols)\n",
    "                 .swapaxes(1, 2)\n",
    "                 .reshape(-1, nrows, ncols))"
   ]
  },
  {
   "cell_type": "code",
   "execution_count": 172,
   "id": "910fd960-ea99-4879-b4cb-7831ec8a9cb4",
   "metadata": {},
   "outputs": [],
   "source": [
    "array = np.array([\n",
    "    [1, 1, 2, 2],\n",
    "    [3, 3, 4, 4],\n",
    "    [5, 5, 6, 6],\n",
    "    [7, 7, 8, 8]])\n"
   ]
  },
  {
   "cell_type": "code",
   "execution_count": 177,
   "id": "82ea1502-ce22-48ab-ae28-abd6e92eb791",
   "metadata": {},
   "outputs": [],
   "source": [
    "# data"
   ]
  },
  {
   "cell_type": "code",
   "execution_count": 189,
   "id": "940019ac-fd1c-4270-b1ba-a12d77e9be4f",
   "metadata": {},
   "outputs": [
    {
     "data": {
      "text/plain": [
       "array([[[1, 1],\n",
       "        [3, 3]],\n",
       "\n",
       "       [[2, 2],\n",
       "        [4, 4]],\n",
       "\n",
       "       [[5, 5],\n",
       "        [7, 7]],\n",
       "\n",
       "       [[6, 6],\n",
       "        [8, 8]]])"
      ]
     },
     "execution_count": 189,
     "metadata": {},
     "output_type": "execute_result"
    }
   ],
   "source": [
    "split(array, 2, 2)"
   ]
  },
  {
   "cell_type": "code",
   "execution_count": 40,
   "id": "7503d039-bd31-4376-80e9-8ec61fda0a7b",
   "metadata": {},
   "outputs": [],
   "source": [
    "# s3.delete_object(Bucket=bucketName, Key='test.txt')"
   ]
  },
  {
   "cell_type": "code",
   "execution_count": 124,
   "id": "7ec4dfc2-cc91-4ea2-a151-12875c2d98fc",
   "metadata": {},
   "outputs": [],
   "source": [
    "# row = 4\n",
    "# col = 4\n",
    "# a = np.random.random([row, col])\n",
    "# b = np.random.random([row, col])"
   ]
  },
  {
   "cell_type": "code",
   "execution_count": 141,
   "id": "dbe151b9-1670-4bb3-88f9-32a5f68e2bcf",
   "metadata": {},
   "outputs": [],
   "source": [
    "# a"
   ]
  },
  {
   "cell_type": "code",
   "execution_count": 142,
   "id": "163aa552-a923-4c93-8f02-de93520ec3cb",
   "metadata": {},
   "outputs": [],
   "source": [
    "# start = time.time()\n",
    "# np.dot(a, b)\n",
    "# print(time.time() - start)"
   ]
  },
  {
   "cell_type": "code",
   "execution_count": 143,
   "id": "dd109a9f-8230-4a1f-a44a-e8e6da3a1603",
   "metadata": {},
   "outputs": [],
   "source": [
    "# a = np.arange(0, 9)"
   ]
  },
  {
   "cell_type": "code",
   "execution_count": 144,
   "id": "1df5eaf8-f98f-4adb-a460-dff10b8ab0c9",
   "metadata": {},
   "outputs": [],
   "source": [
    "# A = np.split(a, 3)"
   ]
  },
  {
   "cell_type": "code",
   "execution_count": 145,
   "id": "003e9bb8-b657-4d08-b5c6-c9308efb92d7",
   "metadata": {},
   "outputs": [],
   "source": [
    "# print(A)"
   ]
  }
 ],
 "metadata": {
  "kernelspec": {
   "display_name": "Python 3 (ipykernel)",
   "language": "python",
   "name": "python3"
  },
  "language_info": {
   "codemirror_mode": {
    "name": "ipython",
    "version": 3
   },
   "file_extension": ".py",
   "mimetype": "text/x-python",
   "name": "python",
   "nbconvert_exporter": "python",
   "pygments_lexer": "ipython3",
   "version": "3.9.12"
  }
 },
 "nbformat": 4,
 "nbformat_minor": 5
}
