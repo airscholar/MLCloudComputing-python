{
 "cells": [
  {
   "cell_type": "code",
   "execution_count": 1,
   "id": "1795e9e2-fda9-442b-8a76-8cd77c3a9138",
   "metadata": {},
   "outputs": [],
   "source": [
    "# !pip install paramiko\n",
    "# !pip install scp"
   ]
  },
  {
   "cell_type": "code",
   "execution_count": 1,
   "id": "09e8788d-0182-49f9-9128-a6dfbca0b8b7",
   "metadata": {},
   "outputs": [],
   "source": [
    "import os\n",
    "import boto3\n",
    "import subprocess\n",
    "import numpy as np\n",
    "import time\n",
    "import datetime\n",
    "import paramiko\n",
    "import io\n",
    "from scp import SCPClient, SCPException\n",
    "import sys\n",
    "from ast import literal_eval"
   ]
  },
  {
   "cell_type": "code",
   "execution_count": 2,
   "id": "2826bf4b-381b-4810-8ac0-672563a4a12e",
   "metadata": {},
   "outputs": [],
   "source": [
    "np.set_printoptions(threshold=sys.maxsize)"
   ]
  },
  {
   "cell_type": "code",
   "execution_count": 129,
   "id": "6c10e4cc-94f6-4c09-bb82-d5e19b44a8f0",
   "metadata": {},
   "outputs": [],
   "source": [
    "INSTANCE_SIZE = 6"
   ]
  },
  {
   "cell_type": "code",
   "execution_count": 130,
   "id": "065e1449-3738-40b5-87ec-1839be75e1ad",
   "metadata": {},
   "outputs": [],
   "source": [
    "client = boto3.client('ec2', region_name='us-east-1')\n",
    "# Create SQS client\n",
    "sqs = boto3.resource('sqs')"
   ]
  },
  {
   "cell_type": "code",
   "execution_count": 316,
   "outputs": [],
   "source": [
    "def get_default_security_group(client, key_name):\n",
    "    #extract key_name attribute from the security groups returned\n",
    "    response = [group[key_name] for group in client.describe_security_groups()['SecurityGroups'] if group['GroupName'] == 'default']\n",
    "\n",
    "    return response\n",
    "\n",
    "def get_key_pairs(client, removeExisting=False):\n",
    "    if removeExisting:\n",
    "        client.delete_key_pair(KeyName='airscholar-key')\n",
    "\n",
    "    keypairs = client.describe_key_pairs()['KeyPairs']\n",
    "    keypair = list(filter(lambda x: x['KeyName'] == 'airscholar-key', keypairs))\n",
    "\n",
    "    if not keypair:\n",
    "        keypair = client.create_key_pair(KeyName='airscholar-key')\n",
    "        f = io.StringIO(keypair['KeyMaterial'])\n",
    "        data = f.read()\n",
    "        file = open('labsuser.pem', 'w')\n",
    "        file.write(data)\n",
    "        file.close()\n",
    "    else:\n",
    "        keypair = keypair[0]\n",
    "\n",
    "    return keypair\n",
    "\n",
    "def launch_new_instance(client, keypair, count):\n",
    "    response = client.run_instances(\n",
    "        ImageId='ami-05723c3b9cf4bf4ff',\n",
    "        InstanceType='t2.micro',\n",
    "        KeyName=keypair,\n",
    "        MaxCount=count,\n",
    "        MinCount=count,\n",
    "        Monitoring={\n",
    "            'Enabled': True\n",
    "        },\n",
    "        SecurityGroupIds= get_default_security_group(client, key_name='GroupId')\n",
    "    )\n",
    "    ec2_inst_ids = [res[\"InstanceId\"] for res in response]\n",
    "    waiter = client.get_waiter('instance_running')\n",
    "    waiter.wait(InstanceIds=[ec2_inst_ids])\n",
    "    return ec2_inst_ids\n",
    "\n",
    "def prepare_instances(client, keypair, count):\n",
    "    ec2 = boto3.resource('ec2')\n",
    "    ec2_inst_ids = []\n",
    "\n",
    "    deployed_count = 0\n",
    "    for instance in ec2.instances.all():\n",
    "        deployed_count += 1\n",
    "        if instance.state['Name'] == 'running':\n",
    "            ec2_inst_ids.append(instance.id)\n",
    "\n",
    "    if deployed_count < count:\n",
    "        ec2_inst_ids.append(launch_new_instance(client, keypair, (count - deployed_count)))\n",
    "\n",
    "    if not ec2_inst_ids:\n",
    "        ec2_inst_ids.append(launch_new_instance(client, keypair, count))\n",
    "\n",
    "    return ec2, ec2_inst_ids\n",
    "\n",
    "def configure_ssh():\n",
    "    sshs = []\n",
    "    for count in range(0, INSTANCE_SIZE):\n",
    "        ssh = paramiko.SSHClient()\n",
    "        ssh.set_missing_host_key_policy(paramiko.AutoAddPolicy())\n",
    "        sshs.append(ssh)\n",
    "    return sshs\n",
    "\n",
    "def ssh_connect_with_retry(ssh, ip_address, retries):\n",
    "    if retries > 3:\n",
    "        return False\n",
    "    f = open('labsuser.pem', 'r')\n",
    "    privkey = paramiko.RSAKey.from_private_key(f)\n",
    "    # print(privkey)\n",
    "    interval = 5\n",
    "    try:\n",
    "        retries += 1\n",
    "        print('SSH into the instance: {}'.format(ip_address))\n",
    "        ssh.connect(hostname=ip_address,\n",
    "                    username='ec2-user', pkey=privkey)\n",
    "        return True\n",
    "    except Exception as e:\n",
    "        print(e)\n",
    "        time.sleep(interval)\n",
    "        print('Retrying SSH connection to {}'.format(ip_address))\n",
    "        ssh_connect_with_retry(ssh, ip_address, retries)\n",
    "\n",
    "def ssh_disconnect(ssh):\n",
    "        \"\"\"Close ssh connection.\"\"\"\n",
    "        if ssh:\n",
    "            ssh.close()\n",
    "\n",
    "def get_public_address(ec2, instance_id):\n",
    "    # ec2 = boto3.resource('ec2', region_name='us-east-1')\n",
    "    instance = ec2.Instance(id=instance_id)\n",
    "    instance.wait_until_running()\n",
    "    current_instance = list(ec2.instances.filter(InstanceIds=[instance_id]))\n",
    "    ip_address = current_instance[0].public_ip_address\n",
    "    return ip_address\n",
    "\n",
    "def get_queue(sqs, queue_name):\n",
    "    # Get the queue. This returns an SQS.Queue instance\n",
    "    # There is no queue, create a new SQS queue\n",
    "    attributes = {\n",
    "        'DelaySeconds': '0',\n",
    "        'MessageRetentionPeriod': '86400',\n",
    "        \"ReceiveMessageWaitTimeSeconds\": \"0\"\n",
    "    }\n",
    "\n",
    "    for idx in range(INSTANCE_SIZE):\n",
    "        sqs.create_queue(\n",
    "            QueueName=f\"{queue_name}{idx}\",\n",
    "            Attributes=attributes\n",
    "        )\n",
    "\n",
    "        sqs.create_queue(\n",
    "            QueueName=f'result-queue-{idx}',\n",
    "            Attributes=attributes\n",
    "        )\n",
    "\n",
    "def send_message_to_queue(sqs, queue_name, message):\n",
    "    queue = sqs.get_queue_by_name(QueueName=queue_name)\n",
    "\n",
    "    # Send message to SQS queue\n",
    "    response = queue.send_messages(\n",
    "        Entries=message\n",
    "    )\n",
    "    return response\n",
    "\n",
    "def install_required_packages(ssh):\n",
    "    stdin, stdout, stderr = ssh.exec_command(\"sudo yum install pip -y && sudo pip install numpy boto3 AST\")\n",
    "    return stdout, stderr\n",
    "\n",
    "def get_messages_from_queue(instance_size):\n",
    "    messages = []\n",
    "\n",
    "    for idx in range(0, instance_size):\n",
    "        queue_name = f'result-queue-{idx}'\n",
    "        print(queue_name)\n",
    "        sqs = boto3.resource('sqs')\n",
    "        queue = sqs.get_queue_by_name(QueueName=queue_name)\n",
    "\n",
    "        for message in queue.receive_messages():\n",
    "            messages.append(message.body)\n",
    "\n",
    "    return messages\n",
    "\n",
    "def split_row(array, nrows, ncols):\n",
    "    \"\"\"Split a matrix into sub-matrices.\"\"\"\n",
    "\n",
    "    r, h = array.shape\n",
    "    return (array.reshape(h//nrows, nrows, -1, ncols)\n",
    "                 .swapaxes(1, 2)\n",
    "                 .reshape(-1, nrows, ncols))\n",
    "\n",
    "def split_col(array, nrows, ncols):\n",
    "    \"\"\"Split a matrix into sub-matrices.\"\"\"\n",
    "    r, h = array.shape\n",
    "    return [np.vsplit(i, 5) for i in np.hsplit(arr1, r)]\n",
    "\n",
    "def generate_array(nrows, ncols):\n",
    "    arr = np.random.randint(10, size=(nrows, ncols))\n",
    "    # # print('arr 1:\\n', arr)\n",
    "    # arr = split_row(arr, 1, split_size)\n",
    "    arr1 = np.random.randint(10, size=(nrows, ncols))\n",
    "    # print('arr 2:\\n', arr1)\n",
    "    # arr1 = split_col(arr1, 1, split_size)\n",
    "\n",
    "    return arr, arr1\n",
    "\n",
    "def upload_file_to_s3(file_name, bucket, object_name=None):\n",
    "    \"\"\"Upload a file to an S3 bucket\n",
    "\n",
    "    :param file_name: File to upload\n",
    "    :param bucket: Bucket to upload to\n",
    "    :param object_name: S3 object name. If not specified then file_name is used\n",
    "    :return: True if file was uploaded, else False\n",
    "    \"\"\"\n",
    "\n",
    "    # If S3 object_name was not specified, use file_name\n",
    "    if object_name is None:\n",
    "        object_name = os.path.basename(file_name)\n",
    "\n",
    "    # Upload the file\n",
    "    s3_client = boto3.client('s3')\n",
    "    try:\n",
    "        response = s3_client.upload_file(file_name, bucket, object_name)\n",
    "    except ClientError as e:\n",
    "        logging.error(e)\n",
    "        return False\n",
    "    return True\n",
    "\n",
    "def bulk_upload(scp, filepaths: list[str], remote_path, host):\n",
    "        \"\"\"\n",
    "        Upload multiple files to a remote directory.\n",
    "\n",
    "        :param List[str] filepaths: List of local files to be uploaded.\n",
    "        \"\"\"\n",
    "        try:\n",
    "            scp.put(\n",
    "                filepaths,\n",
    "                remote_path=remote_path,\n",
    "                recursive=True\n",
    "            )\n",
    "            print(f\"Finished uploading {len(filepaths)} files to {remote_path} on {host}\")\n",
    "        except SCPException as e:\n",
    "            print(f\"SCPException during bulk upload: {e}\")\n",
    "        except Exception as e:\n",
    "            print(f\"Unexpected exception during bulk upload: {e}\")\n",
    "\n",
    "def configure_aws_access_for_ssh(ssh, ip_address):\n",
    "    \"\"\"\n",
    "    This function extracts the AWS configuration you have locally and push to the server\n",
    "    :param ssh:ssh object\n",
    "    :return:\n",
    "    \"\"\"\n",
    "    output = subprocess.getoutput(\"cat ~/.aws/credentials\")\n",
    "    ssh.exec_command(f'mkdir ~/.aws && touch ~/.aws/credentials')\n",
    "    ssh.exec_command(f\"echo '{output}' > ~/.aws/credentials\")\n",
    "    print(f'SSH AWS configuration done for {ip_address}')\n",
    "\n",
    "def matrix_dot_product(matrix_a, matrix_b):\n",
    "    start_time = datetime.datetime.now()\n",
    "    result = []\n",
    "    for i in range(len(matrix_a)):\n",
    "        row = []\n",
    "        for j in range(len(matrix_b[0])):\n",
    "            sum = 0\n",
    "            for k in range(len(matrix_b)):\n",
    "                sum += matrix_a[i][k] * matrix_b[k][j]\n",
    "            row.append(sum)\n",
    "        result.append(row)\n",
    "    print('Computation time', datetime.datetime.now() - start_time)\n",
    "\n",
    "    return result\n",
    "\n",
    "def matrix_add(matrix_1, matrix_2):\n",
    "    start_time = datetime.datetime.now()\n",
    "    result = []\n",
    "    for idx_row in range(0, len(matrix_1)):\n",
    "        row = matrix_1[idx_row]\n",
    "        row1 = matrix_2[idx_row]\n",
    "        cols = []\n",
    "        for idx_col in range(0, len(row)):\n",
    "            cols.append(row[idx_col] + row1[idx_col])\n",
    "        result.append(cols)\n",
    "    print('Computation time', datetime.datetime.now() - start_time)\n",
    "    return result"
   ],
   "metadata": {
    "collapsed": false
   }
  },
  {
   "cell_type": "code",
   "execution_count": 262,
   "id": "6e90974e-7735-4b83-9957-bd958ab449be",
   "metadata": {},
   "outputs": [],
   "source": [
    "QUEUE_NAME = 'queue'"
   ]
  },
  {
   "cell_type": "code",
   "execution_count": 263,
   "id": "5bc0a3eb-3bc7-4d62-b967-4131688e16b2",
   "metadata": {},
   "outputs": [],
   "source": [
    "get_queue(sqs, QUEUE_NAME)"
   ]
  },
  {
   "cell_type": "code",
   "execution_count": 269,
   "id": "306cdb9e-3041-4478-a61c-97aeaf5349e6",
   "metadata": {},
   "outputs": [
    {
     "name": "stdout",
     "output_type": "stream",
     "text": [
      "SSH into the instance: 44.211.190.176\n",
      "SSH into the instance: 54.90.71.247\n",
      "SSH into the instance: 44.204.43.180\n",
      "SSH into the instance: 3.84.117.248\n",
      "SSH into the instance: 54.157.61.34\n",
      "SSH into the instance: 18.206.158.101\n"
     ]
    }
   ],
   "source": [
    "sshs = configure_ssh() \n",
    "keypair = get_key_pairs(client, False)\n",
    "ec2, instances = prepare_instances(client, keypair['KeyName'], INSTANCE_SIZE)\n",
    "ip_addresses = [get_public_address(ec2, instance) for instance in instances]\n",
    "\n",
    "for idx in range(0, len(sshs)):\n",
    "    ssh = sshs[idx]\n",
    "    ip_address = ip_addresses[idx]\n",
    "    ssh_connect_with_retry(ssh, ip_address, 0)"
   ]
  },
  {
   "cell_type": "code",
   "execution_count": 265,
   "outputs": [
    {
     "name": "stdout",
     "output_type": "stream",
     "text": [
      "Updating Subscription Management repositories.\n",
      "Unable to read consumer identity\n",
      "\n",
      "This system is not registered with an entitlement server. You can use subscription-manager to register.\n",
      "\n",
      "Red Hat Enterprise Linux 9 for x86_64 - AppStre  23 kB/s | 4.5 kB     00:00    \n",
      "Red Hat Enterprise Linux 9 for x86_64 - BaseOS   68 kB/s | 4.1 kB     00:00    \n",
      "Red Hat Enterprise Linux 9 Client Configuration  31 kB/s | 2.0 kB     00:00    \n",
      "Package python3-pip-21.2.3-6.el9.noarch is already installed.\n",
      "Dependencies resolved.\n",
      "Nothing to do.\n",
      "Complete!\n",
      "Collecting numpy\n",
      "  Using cached numpy-1.23.5-cp39-cp39-manylinux_2_17_x86_64.manylinux2014_x86_64.whl (17.1 MB)\n",
      "Collecting boto3\n",
      "  Using cached boto3-1.26.28-py3-none-any.whl (132 kB)\n",
      "Collecting AST\n",
      "  Using cached AST-0.0.2.tar.gz (19 kB)\n",
      "  Using cached AST-0.0.1.tar.gz (19 kB)\n",
      "\n",
      "    ERROR: Command errored out with exit status 1:\n",
      "     command: /usr/bin/python3 -c 'import io, os, sys, setuptools, tokenize; sys.argv[0] = '\"'\"'/tmp/pip-install-vnhgqo51/ast_95bf36dff1454e38bc3695fab29e7af2/setup.py'\"'\"'; __file__='\"'\"'/tmp/pip-install-vnhgqo51/ast_95bf36dff1454e38bc3695fab29e7af2/setup.py'\"'\"';f = getattr(tokenize, '\"'\"'open'\"'\"', open)(__file__) if os.path.exists(__file__) else io.StringIO('\"'\"'from setuptools import setup; setup()'\"'\"');code = f.read().replace('\"'\"'\\r\\n'\"'\"', '\"'\"'\\n'\"'\"');f.close();exec(compile(code, __file__, '\"'\"'exec'\"'\"'))' egg_info --egg-base /tmp/pip-pip-egg-info-q4__yqwb\n",
      "         cwd: /tmp/pip-install-vnhgqo51/ast_95bf36dff1454e38bc3695fab29e7af2/\n",
      "    Complete output (7 lines):\n",
      "    Traceback (most recent call last):\n",
      "      File \"<string>\", line 1, in <module>\n",
      "      File \"/tmp/pip-install-vnhgqo51/ast_95bf36dff1454e38bc3695fab29e7af2/setup.py\", line 6, in <module>\n",
      "        README = codecs.open(os.path.join(here, 'AST/README'), encoding='utf8').read()\n",
      "      File \"/usr/lib64/python3.9/codecs.py\", line 905, in open\n",
      "        file = builtins.open(filename, mode, buffering)\n",
      "    FileNotFoundError: [Errno 2] No such file or directory: '/tmp/pip-install-vnhgqo51/ast_95bf36dff1454e38bc3695fab29e7af2/AST/README'\n",
      "    ----------------------------------------\n",
      "WARNING: Discarding https://files.pythonhosted.org/packages/4b/fb/2b954d2a38c9a0ef1da6a46737a75b4dbf6f60e5dad0f267a4ec5ece20de/AST-0.0.2.tar.gz#sha256=dc5b79c6ba11aea72c59c791a0bc5ae483b4c18fec6f643002d6fae24361eba0 (from https://pypi.org/simple/ast/). Command errored out with exit status 1: python setup.py egg_info Check the logs for full command output.\n",
      "    ERROR: Command errored out with exit status 1:\n",
      "     command: /usr/bin/python3 -c 'import io, os, sys, setuptools, tokenize; sys.argv[0] = '\"'\"'/tmp/pip-install-vnhgqo51/ast_b1349f7659414e7b8230661a13501cf5/setup.py'\"'\"'; __file__='\"'\"'/tmp/pip-install-vnhgqo51/ast_b1349f7659414e7b8230661a13501cf5/setup.py'\"'\"';f = getattr(tokenize, '\"'\"'open'\"'\"', open)(__file__) if os.path.exists(__file__) else io.StringIO('\"'\"'from setuptools import setup; setup()'\"'\"');code = f.read().replace('\"'\"'\\r\\n'\"'\"', '\"'\"'\\n'\"'\"');f.close();exec(compile(code, __file__, '\"'\"'exec'\"'\"'))' egg_info --egg-base /tmp/pip-pip-egg-info-bxxs7r42\n",
      "         cwd: /tmp/pip-install-vnhgqo51/ast_b1349f7659414e7b8230661a13501cf5/\n",
      "    Complete output (7 lines):\n",
      "    Traceback (most recent call last):\n",
      "      File \"<string>\", line 1, in <module>\n",
      "      File \"/tmp/pip-install-vnhgqo51/ast_b1349f7659414e7b8230661a13501cf5/setup.py\", line 6, in <module>\n",
      "        README = codecs.open(os.path.join(here, 'README.md'), encoding='utf8').read()\n",
      "      File \"/usr/lib64/python3.9/codecs.py\", line 905, in open\n",
      "        file = builtins.open(filename, mode, buffering)\n",
      "    FileNotFoundError: [Errno 2] No such file or directory: '/tmp/pip-install-vnhgqo51/ast_b1349f7659414e7b8230661a13501cf5/README.md'\n",
      "    ----------------------------------------\n",
      "WARNING: Discarding https://files.pythonhosted.org/packages/a8/5a/5497b01657ead33200c98009cb9e78fe5986c90cc39ddaa64306f37472cf/AST-0.0.1.tar.gz#sha256=3ed8a7bd3526cfc46de1b849d92b03ae4600ed2042151f187b756c50ade5c2b0 (from https://pypi.org/simple/ast/). Command errored out with exit status 1: python setup.py egg_info Check the logs for full command output.\n",
      "ERROR: Could not find a version that satisfies the requirement AST (from versions: 0.0.1, 0.0.2)\n",
      "ERROR: No matching distribution found for AST\n",
      "\n",
      "SSH AWS configuration done for 44.211.190.176\n",
      "Updating Subscription Management repositories.\n",
      "Unable to read consumer identity\n",
      "\n",
      "This system is not registered with an entitlement server. You can use subscription-manager to register.\n",
      "\n",
      "Red Hat Enterprise Linux 9 for x86_64 - AppStre  47 kB/s | 4.5 kB     00:00    \n",
      "Red Hat Enterprise Linux 9 for x86_64 - BaseOS   63 kB/s | 4.1 kB     00:00    \n",
      "Red Hat Enterprise Linux 9 Client Configuration  33 kB/s | 2.0 kB     00:00    \n",
      "Package python3-pip-21.2.3-6.el9.noarch is already installed.\n",
      "Dependencies resolved.\n",
      "Nothing to do.\n",
      "Complete!\n",
      "Collecting numpy\n",
      "  Using cached numpy-1.23.5-cp39-cp39-manylinux_2_17_x86_64.manylinux2014_x86_64.whl (17.1 MB)\n",
      "Collecting boto3\n",
      "  Using cached boto3-1.26.28-py3-none-any.whl (132 kB)\n",
      "Collecting AST\n",
      "  Using cached AST-0.0.2.tar.gz (19 kB)\n",
      "  Using cached AST-0.0.1.tar.gz (19 kB)\n",
      "\n",
      "    ERROR: Command errored out with exit status 1:\n",
      "     command: /usr/bin/python3 -c 'import io, os, sys, setuptools, tokenize; sys.argv[0] = '\"'\"'/tmp/pip-install-9b9dmctk/ast_387a5e12849d46818c452ea8d6f25a19/setup.py'\"'\"'; __file__='\"'\"'/tmp/pip-install-9b9dmctk/ast_387a5e12849d46818c452ea8d6f25a19/setup.py'\"'\"';f = getattr(tokenize, '\"'\"'open'\"'\"', open)(__file__) if os.path.exists(__file__) else io.StringIO('\"'\"'from setuptools import setup; setup()'\"'\"');code = f.read().replace('\"'\"'\\r\\n'\"'\"', '\"'\"'\\n'\"'\"');f.close();exec(compile(code, __file__, '\"'\"'exec'\"'\"'))' egg_info --egg-base /tmp/pip-pip-egg-info-t2tiku18\n",
      "         cwd: /tmp/pip-install-9b9dmctk/ast_387a5e12849d46818c452ea8d6f25a19/\n",
      "    Complete output (7 lines):\n",
      "    Traceback (most recent call last):\n",
      "      File \"<string>\", line 1, in <module>\n",
      "      File \"/tmp/pip-install-9b9dmctk/ast_387a5e12849d46818c452ea8d6f25a19/setup.py\", line 6, in <module>\n",
      "        README = codecs.open(os.path.join(here, 'AST/README'), encoding='utf8').read()\n",
      "      File \"/usr/lib64/python3.9/codecs.py\", line 905, in open\n",
      "        file = builtins.open(filename, mode, buffering)\n",
      "    FileNotFoundError: [Errno 2] No such file or directory: '/tmp/pip-install-9b9dmctk/ast_387a5e12849d46818c452ea8d6f25a19/AST/README'\n",
      "    ----------------------------------------\n",
      "WARNING: Discarding https://files.pythonhosted.org/packages/4b/fb/2b954d2a38c9a0ef1da6a46737a75b4dbf6f60e5dad0f267a4ec5ece20de/AST-0.0.2.tar.gz#sha256=dc5b79c6ba11aea72c59c791a0bc5ae483b4c18fec6f643002d6fae24361eba0 (from https://pypi.org/simple/ast/). Command errored out with exit status 1: python setup.py egg_info Check the logs for full command output.\n",
      "    ERROR: Command errored out with exit status 1:\n",
      "     command: /usr/bin/python3 -c 'import io, os, sys, setuptools, tokenize; sys.argv[0] = '\"'\"'/tmp/pip-install-9b9dmctk/ast_bca9c73feb604b2bae6ce37c8f263d78/setup.py'\"'\"'; __file__='\"'\"'/tmp/pip-install-9b9dmctk/ast_bca9c73feb604b2bae6ce37c8f263d78/setup.py'\"'\"';f = getattr(tokenize, '\"'\"'open'\"'\"', open)(__file__) if os.path.exists(__file__) else io.StringIO('\"'\"'from setuptools import setup; setup()'\"'\"');code = f.read().replace('\"'\"'\\r\\n'\"'\"', '\"'\"'\\n'\"'\"');f.close();exec(compile(code, __file__, '\"'\"'exec'\"'\"'))' egg_info --egg-base /tmp/pip-pip-egg-info-elqd2yu7\n",
      "         cwd: /tmp/pip-install-9b9dmctk/ast_bca9c73feb604b2bae6ce37c8f263d78/\n",
      "    Complete output (7 lines):\n",
      "    Traceback (most recent call last):\n",
      "      File \"<string>\", line 1, in <module>\n",
      "      File \"/tmp/pip-install-9b9dmctk/ast_bca9c73feb604b2bae6ce37c8f263d78/setup.py\", line 6, in <module>\n",
      "        README = codecs.open(os.path.join(here, 'README.md'), encoding='utf8').read()\n",
      "      File \"/usr/lib64/python3.9/codecs.py\", line 905, in open\n",
      "        file = builtins.open(filename, mode, buffering)\n",
      "    FileNotFoundError: [Errno 2] No such file or directory: '/tmp/pip-install-9b9dmctk/ast_bca9c73feb604b2bae6ce37c8f263d78/README.md'\n",
      "    ----------------------------------------\n",
      "WARNING: Discarding https://files.pythonhosted.org/packages/a8/5a/5497b01657ead33200c98009cb9e78fe5986c90cc39ddaa64306f37472cf/AST-0.0.1.tar.gz#sha256=3ed8a7bd3526cfc46de1b849d92b03ae4600ed2042151f187b756c50ade5c2b0 (from https://pypi.org/simple/ast/). Command errored out with exit status 1: python setup.py egg_info Check the logs for full command output.\n",
      "ERROR: Could not find a version that satisfies the requirement AST (from versions: 0.0.1, 0.0.2)\n",
      "ERROR: No matching distribution found for AST\n",
      "\n",
      "SSH AWS configuration done for 54.90.71.247\n",
      "Updating Subscription Management repositories.\n",
      "Unable to read consumer identity\n",
      "\n",
      "This system is not registered with an entitlement server. You can use subscription-manager to register.\n",
      "\n",
      "Red Hat Enterprise Linux 9 for x86_64 - AppStre  54 kB/s | 4.5 kB     00:00    \n",
      "Red Hat Enterprise Linux 9 for x86_64 - BaseOS   57 kB/s | 4.1 kB     00:00    \n",
      "Red Hat Enterprise Linux 9 Client Configuration  34 kB/s | 2.0 kB     00:00    \n",
      "Package python3-pip-21.2.3-6.el9.noarch is already installed.\n",
      "Dependencies resolved.\n",
      "Nothing to do.\n",
      "Complete!\n",
      "Collecting numpy\n",
      "  Using cached numpy-1.23.5-cp39-cp39-manylinux_2_17_x86_64.manylinux2014_x86_64.whl (17.1 MB)\n",
      "Collecting boto3\n",
      "  Using cached boto3-1.26.28-py3-none-any.whl (132 kB)\n",
      "Collecting AST\n",
      "  Using cached AST-0.0.2.tar.gz (19 kB)\n",
      "  Using cached AST-0.0.1.tar.gz (19 kB)\n",
      "\n",
      "    ERROR: Command errored out with exit status 1:\n",
      "     command: /usr/bin/python3 -c 'import io, os, sys, setuptools, tokenize; sys.argv[0] = '\"'\"'/tmp/pip-install-xo2rebwy/ast_229399027d1640c8ba6a5a8ebbb6d500/setup.py'\"'\"'; __file__='\"'\"'/tmp/pip-install-xo2rebwy/ast_229399027d1640c8ba6a5a8ebbb6d500/setup.py'\"'\"';f = getattr(tokenize, '\"'\"'open'\"'\"', open)(__file__) if os.path.exists(__file__) else io.StringIO('\"'\"'from setuptools import setup; setup()'\"'\"');code = f.read().replace('\"'\"'\\r\\n'\"'\"', '\"'\"'\\n'\"'\"');f.close();exec(compile(code, __file__, '\"'\"'exec'\"'\"'))' egg_info --egg-base /tmp/pip-pip-egg-info-b4ykkaz7\n",
      "         cwd: /tmp/pip-install-xo2rebwy/ast_229399027d1640c8ba6a5a8ebbb6d500/\n",
      "    Complete output (7 lines):\n",
      "    Traceback (most recent call last):\n",
      "      File \"<string>\", line 1, in <module>\n",
      "      File \"/tmp/pip-install-xo2rebwy/ast_229399027d1640c8ba6a5a8ebbb6d500/setup.py\", line 6, in <module>\n",
      "        README = codecs.open(os.path.join(here, 'AST/README'), encoding='utf8').read()\n",
      "      File \"/usr/lib64/python3.9/codecs.py\", line 905, in open\n",
      "        file = builtins.open(filename, mode, buffering)\n",
      "    FileNotFoundError: [Errno 2] No such file or directory: '/tmp/pip-install-xo2rebwy/ast_229399027d1640c8ba6a5a8ebbb6d500/AST/README'\n",
      "    ----------------------------------------\n",
      "WARNING: Discarding https://files.pythonhosted.org/packages/4b/fb/2b954d2a38c9a0ef1da6a46737a75b4dbf6f60e5dad0f267a4ec5ece20de/AST-0.0.2.tar.gz#sha256=dc5b79c6ba11aea72c59c791a0bc5ae483b4c18fec6f643002d6fae24361eba0 (from https://pypi.org/simple/ast/). Command errored out with exit status 1: python setup.py egg_info Check the logs for full command output.\n",
      "    ERROR: Command errored out with exit status 1:\n",
      "     command: /usr/bin/python3 -c 'import io, os, sys, setuptools, tokenize; sys.argv[0] = '\"'\"'/tmp/pip-install-xo2rebwy/ast_f18e66e14b3843a7b1c001473435705a/setup.py'\"'\"'; __file__='\"'\"'/tmp/pip-install-xo2rebwy/ast_f18e66e14b3843a7b1c001473435705a/setup.py'\"'\"';f = getattr(tokenize, '\"'\"'open'\"'\"', open)(__file__) if os.path.exists(__file__) else io.StringIO('\"'\"'from setuptools import setup; setup()'\"'\"');code = f.read().replace('\"'\"'\\r\\n'\"'\"', '\"'\"'\\n'\"'\"');f.close();exec(compile(code, __file__, '\"'\"'exec'\"'\"'))' egg_info --egg-base /tmp/pip-pip-egg-info-k247kn61\n",
      "         cwd: /tmp/pip-install-xo2rebwy/ast_f18e66e14b3843a7b1c001473435705a/\n",
      "    Complete output (7 lines):\n",
      "    Traceback (most recent call last):\n",
      "      File \"<string>\", line 1, in <module>\n",
      "      File \"/tmp/pip-install-xo2rebwy/ast_f18e66e14b3843a7b1c001473435705a/setup.py\", line 6, in <module>\n",
      "        README = codecs.open(os.path.join(here, 'README.md'), encoding='utf8').read()\n",
      "      File \"/usr/lib64/python3.9/codecs.py\", line 905, in open\n",
      "        file = builtins.open(filename, mode, buffering)\n",
      "    FileNotFoundError: [Errno 2] No such file or directory: '/tmp/pip-install-xo2rebwy/ast_f18e66e14b3843a7b1c001473435705a/README.md'\n",
      "    ----------------------------------------\n",
      "WARNING: Discarding https://files.pythonhosted.org/packages/a8/5a/5497b01657ead33200c98009cb9e78fe5986c90cc39ddaa64306f37472cf/AST-0.0.1.tar.gz#sha256=3ed8a7bd3526cfc46de1b849d92b03ae4600ed2042151f187b756c50ade5c2b0 (from https://pypi.org/simple/ast/). Command errored out with exit status 1: python setup.py egg_info Check the logs for full command output.\n",
      "ERROR: Could not find a version that satisfies the requirement AST (from versions: 0.0.1, 0.0.2)\n",
      "ERROR: No matching distribution found for AST\n",
      "\n",
      "SSH AWS configuration done for 44.204.43.180\n",
      "Updating Subscription Management repositories.\n",
      "Unable to read consumer identity\n",
      "\n",
      "This system is not registered with an entitlement server. You can use subscription-manager to register.\n",
      "\n",
      "Red Hat Enterprise Linux 9 for x86_64 - AppStre  26 kB/s | 4.5 kB     00:00    \n",
      "Red Hat Enterprise Linux 9 for x86_64 - BaseOS   62 kB/s | 4.1 kB     00:00    \n",
      "Red Hat Enterprise Linux 9 Client Configuration  32 kB/s | 2.0 kB     00:00    \n",
      "Package python3-pip-21.2.3-6.el9.noarch is already installed.\n",
      "Dependencies resolved.\n",
      "Nothing to do.\n",
      "Complete!\n",
      "Collecting numpy\n",
      "  Using cached numpy-1.23.5-cp39-cp39-manylinux_2_17_x86_64.manylinux2014_x86_64.whl (17.1 MB)\n",
      "Collecting boto3\n",
      "  Using cached boto3-1.26.28-py3-none-any.whl (132 kB)\n",
      "Collecting AST\n",
      "  Using cached AST-0.0.2.tar.gz (19 kB)\n",
      "  Using cached AST-0.0.1.tar.gz (19 kB)\n",
      "\n",
      "    ERROR: Command errored out with exit status 1:\n",
      "     command: /usr/bin/python3 -c 'import io, os, sys, setuptools, tokenize; sys.argv[0] = '\"'\"'/tmp/pip-install-wfb44e0_/ast_d2b27630e2e2438c9e96539775efb792/setup.py'\"'\"'; __file__='\"'\"'/tmp/pip-install-wfb44e0_/ast_d2b27630e2e2438c9e96539775efb792/setup.py'\"'\"';f = getattr(tokenize, '\"'\"'open'\"'\"', open)(__file__) if os.path.exists(__file__) else io.StringIO('\"'\"'from setuptools import setup; setup()'\"'\"');code = f.read().replace('\"'\"'\\r\\n'\"'\"', '\"'\"'\\n'\"'\"');f.close();exec(compile(code, __file__, '\"'\"'exec'\"'\"'))' egg_info --egg-base /tmp/pip-pip-egg-info-mgnmb3nr\n",
      "         cwd: /tmp/pip-install-wfb44e0_/ast_d2b27630e2e2438c9e96539775efb792/\n",
      "    Complete output (7 lines):\n",
      "    Traceback (most recent call last):\n",
      "      File \"<string>\", line 1, in <module>\n",
      "      File \"/tmp/pip-install-wfb44e0_/ast_d2b27630e2e2438c9e96539775efb792/setup.py\", line 6, in <module>\n",
      "        README = codecs.open(os.path.join(here, 'AST/README'), encoding='utf8').read()\n",
      "      File \"/usr/lib64/python3.9/codecs.py\", line 905, in open\n",
      "        file = builtins.open(filename, mode, buffering)\n",
      "    FileNotFoundError: [Errno 2] No such file or directory: '/tmp/pip-install-wfb44e0_/ast_d2b27630e2e2438c9e96539775efb792/AST/README'\n",
      "    ----------------------------------------\n",
      "WARNING: Discarding https://files.pythonhosted.org/packages/4b/fb/2b954d2a38c9a0ef1da6a46737a75b4dbf6f60e5dad0f267a4ec5ece20de/AST-0.0.2.tar.gz#sha256=dc5b79c6ba11aea72c59c791a0bc5ae483b4c18fec6f643002d6fae24361eba0 (from https://pypi.org/simple/ast/). Command errored out with exit status 1: python setup.py egg_info Check the logs for full command output.\n",
      "    ERROR: Command errored out with exit status 1:\n",
      "     command: /usr/bin/python3 -c 'import io, os, sys, setuptools, tokenize; sys.argv[0] = '\"'\"'/tmp/pip-install-wfb44e0_/ast_fdb446c2c7f54969bb7557fd9aca8c09/setup.py'\"'\"'; __file__='\"'\"'/tmp/pip-install-wfb44e0_/ast_fdb446c2c7f54969bb7557fd9aca8c09/setup.py'\"'\"';f = getattr(tokenize, '\"'\"'open'\"'\"', open)(__file__) if os.path.exists(__file__) else io.StringIO('\"'\"'from setuptools import setup; setup()'\"'\"');code = f.read().replace('\"'\"'\\r\\n'\"'\"', '\"'\"'\\n'\"'\"');f.close();exec(compile(code, __file__, '\"'\"'exec'\"'\"'))' egg_info --egg-base /tmp/pip-pip-egg-info-m37tj9sg\n",
      "         cwd: /tmp/pip-install-wfb44e0_/ast_fdb446c2c7f54969bb7557fd9aca8c09/\n",
      "    Complete output (7 lines):\n",
      "    Traceback (most recent call last):\n",
      "      File \"<string>\", line 1, in <module>\n",
      "      File \"/tmp/pip-install-wfb44e0_/ast_fdb446c2c7f54969bb7557fd9aca8c09/setup.py\", line 6, in <module>\n",
      "        README = codecs.open(os.path.join(here, 'README.md'), encoding='utf8').read()\n",
      "      File \"/usr/lib64/python3.9/codecs.py\", line 905, in open\n",
      "        file = builtins.open(filename, mode, buffering)\n",
      "    FileNotFoundError: [Errno 2] No such file or directory: '/tmp/pip-install-wfb44e0_/ast_fdb446c2c7f54969bb7557fd9aca8c09/README.md'\n",
      "    ----------------------------------------\n",
      "WARNING: Discarding https://files.pythonhosted.org/packages/a8/5a/5497b01657ead33200c98009cb9e78fe5986c90cc39ddaa64306f37472cf/AST-0.0.1.tar.gz#sha256=3ed8a7bd3526cfc46de1b849d92b03ae4600ed2042151f187b756c50ade5c2b0 (from https://pypi.org/simple/ast/). Command errored out with exit status 1: python setup.py egg_info Check the logs for full command output.\n",
      "ERROR: Could not find a version that satisfies the requirement AST (from versions: 0.0.1, 0.0.2)\n",
      "ERROR: No matching distribution found for AST\n",
      "\n",
      "SSH AWS configuration done for 3.84.117.248\n",
      "Updating Subscription Management repositories.\n",
      "Unable to read consumer identity\n",
      "\n",
      "This system is not registered with an entitlement server. You can use subscription-manager to register.\n",
      "\n",
      "Red Hat Enterprise Linux 9 for x86_64 - AppStre  22 kB/s | 4.5 kB     00:00    \n",
      "Red Hat Enterprise Linux 9 for x86_64 - BaseOS   68 kB/s | 4.1 kB     00:00    \n",
      "Red Hat Enterprise Linux 9 Client Configuration  33 kB/s | 2.0 kB     00:00    \n",
      "Package python3-pip-21.2.3-6.el9.noarch is already installed.\n",
      "Dependencies resolved.\n",
      "Nothing to do.\n",
      "Complete!\n",
      "Collecting numpy\n",
      "  Using cached numpy-1.23.5-cp39-cp39-manylinux_2_17_x86_64.manylinux2014_x86_64.whl (17.1 MB)\n",
      "Collecting boto3\n",
      "  Using cached boto3-1.26.28-py3-none-any.whl (132 kB)\n",
      "Collecting AST\n",
      "  Using cached AST-0.0.2.tar.gz (19 kB)\n",
      "  Using cached AST-0.0.1.tar.gz (19 kB)\n",
      "\n",
      "    ERROR: Command errored out with exit status 1:\n",
      "     command: /usr/bin/python3 -c 'import io, os, sys, setuptools, tokenize; sys.argv[0] = '\"'\"'/tmp/pip-install-k83x8q6z/ast_69eda45f0068427eac320c1b17f174aa/setup.py'\"'\"'; __file__='\"'\"'/tmp/pip-install-k83x8q6z/ast_69eda45f0068427eac320c1b17f174aa/setup.py'\"'\"';f = getattr(tokenize, '\"'\"'open'\"'\"', open)(__file__) if os.path.exists(__file__) else io.StringIO('\"'\"'from setuptools import setup; setup()'\"'\"');code = f.read().replace('\"'\"'\\r\\n'\"'\"', '\"'\"'\\n'\"'\"');f.close();exec(compile(code, __file__, '\"'\"'exec'\"'\"'))' egg_info --egg-base /tmp/pip-pip-egg-info-0xjlrhvp\n",
      "         cwd: /tmp/pip-install-k83x8q6z/ast_69eda45f0068427eac320c1b17f174aa/\n",
      "    Complete output (7 lines):\n",
      "    Traceback (most recent call last):\n",
      "      File \"<string>\", line 1, in <module>\n",
      "      File \"/tmp/pip-install-k83x8q6z/ast_69eda45f0068427eac320c1b17f174aa/setup.py\", line 6, in <module>\n",
      "        README = codecs.open(os.path.join(here, 'AST/README'), encoding='utf8').read()\n",
      "      File \"/usr/lib64/python3.9/codecs.py\", line 905, in open\n",
      "        file = builtins.open(filename, mode, buffering)\n",
      "    FileNotFoundError: [Errno 2] No such file or directory: '/tmp/pip-install-k83x8q6z/ast_69eda45f0068427eac320c1b17f174aa/AST/README'\n",
      "    ----------------------------------------\n",
      "WARNING: Discarding https://files.pythonhosted.org/packages/4b/fb/2b954d2a38c9a0ef1da6a46737a75b4dbf6f60e5dad0f267a4ec5ece20de/AST-0.0.2.tar.gz#sha256=dc5b79c6ba11aea72c59c791a0bc5ae483b4c18fec6f643002d6fae24361eba0 (from https://pypi.org/simple/ast/). Command errored out with exit status 1: python setup.py egg_info Check the logs for full command output.\n",
      "    ERROR: Command errored out with exit status 1:\n",
      "     command: /usr/bin/python3 -c 'import io, os, sys, setuptools, tokenize; sys.argv[0] = '\"'\"'/tmp/pip-install-k83x8q6z/ast_56058539989244c5bf3a02f23900ff31/setup.py'\"'\"'; __file__='\"'\"'/tmp/pip-install-k83x8q6z/ast_56058539989244c5bf3a02f23900ff31/setup.py'\"'\"';f = getattr(tokenize, '\"'\"'open'\"'\"', open)(__file__) if os.path.exists(__file__) else io.StringIO('\"'\"'from setuptools import setup; setup()'\"'\"');code = f.read().replace('\"'\"'\\r\\n'\"'\"', '\"'\"'\\n'\"'\"');f.close();exec(compile(code, __file__, '\"'\"'exec'\"'\"'))' egg_info --egg-base /tmp/pip-pip-egg-info-uwj86i0g\n",
      "         cwd: /tmp/pip-install-k83x8q6z/ast_56058539989244c5bf3a02f23900ff31/\n",
      "    Complete output (7 lines):\n",
      "    Traceback (most recent call last):\n",
      "      File \"<string>\", line 1, in <module>\n",
      "      File \"/tmp/pip-install-k83x8q6z/ast_56058539989244c5bf3a02f23900ff31/setup.py\", line 6, in <module>\n",
      "        README = codecs.open(os.path.join(here, 'README.md'), encoding='utf8').read()\n",
      "      File \"/usr/lib64/python3.9/codecs.py\", line 905, in open\n",
      "        file = builtins.open(filename, mode, buffering)\n",
      "    FileNotFoundError: [Errno 2] No such file or directory: '/tmp/pip-install-k83x8q6z/ast_56058539989244c5bf3a02f23900ff31/README.md'\n",
      "    ----------------------------------------\n",
      "WARNING: Discarding https://files.pythonhosted.org/packages/a8/5a/5497b01657ead33200c98009cb9e78fe5986c90cc39ddaa64306f37472cf/AST-0.0.1.tar.gz#sha256=3ed8a7bd3526cfc46de1b849d92b03ae4600ed2042151f187b756c50ade5c2b0 (from https://pypi.org/simple/ast/). Command errored out with exit status 1: python setup.py egg_info Check the logs for full command output.\n",
      "ERROR: Could not find a version that satisfies the requirement AST (from versions: 0.0.1, 0.0.2)\n",
      "ERROR: No matching distribution found for AST\n",
      "\n",
      "SSH AWS configuration done for 54.157.61.34\n",
      "Updating Subscription Management repositories.\n",
      "Unable to read consumer identity\n",
      "\n",
      "This system is not registered with an entitlement server. You can use subscription-manager to register.\n",
      "\n",
      "Red Hat Enterprise Linux 9 for x86_64 - AppStre  25 kB/s | 4.5 kB     00:00    \n",
      "Red Hat Enterprise Linux 9 for x86_64 - BaseOS   63 kB/s | 4.1 kB     00:00    \n",
      "Red Hat Enterprise Linux 9 Client Configuration  32 kB/s | 2.0 kB     00:00    \n",
      "Package python3-pip-21.2.3-6.el9.noarch is already installed.\n",
      "Dependencies resolved.\n",
      "Nothing to do.\n",
      "Complete!\n",
      "Collecting numpy\n",
      "  Using cached numpy-1.23.5-cp39-cp39-manylinux_2_17_x86_64.manylinux2014_x86_64.whl (17.1 MB)\n",
      "Collecting boto3\n",
      "  Using cached boto3-1.26.28-py3-none-any.whl (132 kB)\n",
      "Collecting AST\n",
      "  Using cached AST-0.0.2.tar.gz (19 kB)\n",
      "  Using cached AST-0.0.1.tar.gz (19 kB)\n",
      "\n",
      "    ERROR: Command errored out with exit status 1:\n",
      "     command: /usr/bin/python3 -c 'import io, os, sys, setuptools, tokenize; sys.argv[0] = '\"'\"'/tmp/pip-install-7pzc6g5y/ast_715aeb69e2e74fba9ae6610dae0af6db/setup.py'\"'\"'; __file__='\"'\"'/tmp/pip-install-7pzc6g5y/ast_715aeb69e2e74fba9ae6610dae0af6db/setup.py'\"'\"';f = getattr(tokenize, '\"'\"'open'\"'\"', open)(__file__) if os.path.exists(__file__) else io.StringIO('\"'\"'from setuptools import setup; setup()'\"'\"');code = f.read().replace('\"'\"'\\r\\n'\"'\"', '\"'\"'\\n'\"'\"');f.close();exec(compile(code, __file__, '\"'\"'exec'\"'\"'))' egg_info --egg-base /tmp/pip-pip-egg-info-221jfdon\n",
      "         cwd: /tmp/pip-install-7pzc6g5y/ast_715aeb69e2e74fba9ae6610dae0af6db/\n",
      "    Complete output (7 lines):\n",
      "    Traceback (most recent call last):\n",
      "      File \"<string>\", line 1, in <module>\n",
      "      File \"/tmp/pip-install-7pzc6g5y/ast_715aeb69e2e74fba9ae6610dae0af6db/setup.py\", line 6, in <module>\n",
      "        README = codecs.open(os.path.join(here, 'AST/README'), encoding='utf8').read()\n",
      "      File \"/usr/lib64/python3.9/codecs.py\", line 905, in open\n",
      "        file = builtins.open(filename, mode, buffering)\n",
      "    FileNotFoundError: [Errno 2] No such file or directory: '/tmp/pip-install-7pzc6g5y/ast_715aeb69e2e74fba9ae6610dae0af6db/AST/README'\n",
      "    ----------------------------------------\n",
      "WARNING: Discarding https://files.pythonhosted.org/packages/4b/fb/2b954d2a38c9a0ef1da6a46737a75b4dbf6f60e5dad0f267a4ec5ece20de/AST-0.0.2.tar.gz#sha256=dc5b79c6ba11aea72c59c791a0bc5ae483b4c18fec6f643002d6fae24361eba0 (from https://pypi.org/simple/ast/). Command errored out with exit status 1: python setup.py egg_info Check the logs for full command output.\n",
      "    ERROR: Command errored out with exit status 1:\n",
      "     command: /usr/bin/python3 -c 'import io, os, sys, setuptools, tokenize; sys.argv[0] = '\"'\"'/tmp/pip-install-7pzc6g5y/ast_789c62933c954cfc84d667ff8dc3e1b1/setup.py'\"'\"'; __file__='\"'\"'/tmp/pip-install-7pzc6g5y/ast_789c62933c954cfc84d667ff8dc3e1b1/setup.py'\"'\"';f = getattr(tokenize, '\"'\"'open'\"'\"', open)(__file__) if os.path.exists(__file__) else io.StringIO('\"'\"'from setuptools import setup; setup()'\"'\"');code = f.read().replace('\"'\"'\\r\\n'\"'\"', '\"'\"'\\n'\"'\"');f.close();exec(compile(code, __file__, '\"'\"'exec'\"'\"'))' egg_info --egg-base /tmp/pip-pip-egg-info-5y1ncru_\n",
      "         cwd: /tmp/pip-install-7pzc6g5y/ast_789c62933c954cfc84d667ff8dc3e1b1/\n",
      "    Complete output (7 lines):\n",
      "    Traceback (most recent call last):\n",
      "      File \"<string>\", line 1, in <module>\n",
      "      File \"/tmp/pip-install-7pzc6g5y/ast_789c62933c954cfc84d667ff8dc3e1b1/setup.py\", line 6, in <module>\n",
      "        README = codecs.open(os.path.join(here, 'README.md'), encoding='utf8').read()\n",
      "      File \"/usr/lib64/python3.9/codecs.py\", line 905, in open\n",
      "        file = builtins.open(filename, mode, buffering)\n",
      "    FileNotFoundError: [Errno 2] No such file or directory: '/tmp/pip-install-7pzc6g5y/ast_789c62933c954cfc84d667ff8dc3e1b1/README.md'\n",
      "    ----------------------------------------\n",
      "WARNING: Discarding https://files.pythonhosted.org/packages/a8/5a/5497b01657ead33200c98009cb9e78fe5986c90cc39ddaa64306f37472cf/AST-0.0.1.tar.gz#sha256=3ed8a7bd3526cfc46de1b849d92b03ae4600ed2042151f187b756c50ade5c2b0 (from https://pypi.org/simple/ast/). Command errored out with exit status 1: python setup.py egg_info Check the logs for full command output.\n",
      "ERROR: Could not find a version that satisfies the requirement AST (from versions: 0.0.1, 0.0.2)\n",
      "ERROR: No matching distribution found for AST\n",
      "\n",
      "SSH AWS configuration done for 18.206.158.101\n"
     ]
    }
   ],
   "source": [
    "# ssh_disconnect(ssh)\n",
    "for idx in range(len(sshs)):\n",
    "    ssh = sshs[idx]\n",
    "    ip_address = ip_addresses[idx]\n",
    "    stdout, stderr = install_required_packages(ssh)\n",
    "    print(stdout.read().decode('utf-8'))\n",
    "    print(stderr.read().decode('utf-8'))\n",
    "    configure_aws_access_for_ssh(ssh, ip_address)"
   ],
   "metadata": {
    "collapsed": false
   }
  },
  {
   "cell_type": "code",
   "execution_count": 274,
   "outputs": [
    {
     "name": "stdout",
     "output_type": "stream",
     "text": [
      "test\n",
      "Finished uploading 3 files to ~ on 44.211.190.176\n",
      "test\n",
      "Finished uploading 3 files to ~ on 54.90.71.247\n",
      "test\n",
      "Finished uploading 3 files to ~ on 44.204.43.180\n",
      "test\n",
      "Finished uploading 3 files to ~ on 3.84.117.248\n",
      "test\n",
      "Finished uploading 3 files to ~ on 54.157.61.34\n",
      "test\n",
      "Finished uploading 3 files to ~ on 18.206.158.101\n"
     ]
    }
   ],
   "source": [
    "from files.filesss import fetch_local_files\n",
    "for idx in range(len(sshs)):\n",
    "    ssh = sshs[idx]\n",
    "    ip_address = ip_addresses[idx]\n",
    "    scp = SCPClient(ssh.get_transport())\n",
    "    bulk_upload(scp, fetch_local_files('./worker'), '~', ip_address)"
   ],
   "metadata": {
    "collapsed": false
   }
  },
  {
   "cell_type": "markdown",
   "source": [
    "## TODO: START THE WORKER ON ALL THE INSTANCES"
   ],
   "metadata": {
    "collapsed": false
   }
  },
  {
   "cell_type": "code",
   "execution_count": 266,
   "outputs": [
    {
     "name": "stdout",
     "output_type": "stream",
     "text": [
      "helper.py\n",
      "queue_helper.py\n",
      "worker.py\n",
      "\n"
     ]
    }
   ],
   "source": [
    "stdin, stdout, stderr = sshs[0].exec_command('ls')\n",
    "print(stdout.read().decode('utf-8'))"
   ],
   "metadata": {
    "collapsed": false
   }
  },
  {
   "cell_type": "code",
   "execution_count": 280,
   "outputs": [],
   "source": [
    "def start_worker(ssh, worker_id):\n",
    "    stdin, stdout, stderr = ssh.exec_command(f'python ./worker.py {worker_id}')\n",
    "    # result = stdout.read().decode('utf-8')\n",
    "    # return result"
   ],
   "metadata": {
    "collapsed": false
   }
  },
  {
   "cell_type": "code",
   "execution_count": 276,
   "outputs": [],
   "source": [
    "stdin, stdout, stderr = sshs[1].exec_command(f'python ./worker.py 1')\n",
    "# print(stdout.read().decode('utf-8'))\n",
    "# print(stderr.read().decode('utf-8'))"
   ],
   "metadata": {
    "collapsed": false
   }
  },
  {
   "cell_type": "code",
   "execution_count": 282,
   "outputs": [],
   "source": [
    "for idx in range(len(sshs)):\n",
    "    ssh = sshs[idx]\n",
    "    ip_address = ip_addresses[idx]\n",
    "    start_worker(ssh, idx)\n",
    "# sqs = boto3.resource('sqs')\n",
    "# sqs\n",
    "# response = send_message_to_queue(sqs, QUEUE_NAME, \"Hi there! This is my queue message4!\", 1, 0)\n",
    "# response = send_message_to_queue(sqs, QUEUE_NAME, 'X', 1, 0)"
   ],
   "metadata": {
    "collapsed": false
   }
  },
  {
   "cell_type": "markdown",
   "source": [
    "### ADDITION"
   ],
   "metadata": {
    "collapsed": false
   }
  },
  {
   "cell_type": "code",
   "execution_count": 148,
   "outputs": [
    {
     "data": {
      "text/plain": "166"
     },
     "execution_count": 148,
     "metadata": {},
     "output_type": "execute_result"
    }
   ],
   "source": [
    "int(1000/6)"
   ],
   "metadata": {
    "collapsed": false
   }
  },
  {
   "cell_type": "code",
   "execution_count": 287,
   "outputs": [],
   "source": [
    "ARRAY_SIZE = 1000"
   ],
   "metadata": {
    "collapsed": false
   }
  },
  {
   "cell_type": "code",
   "execution_count": 288,
   "outputs": [],
   "source": [
    "arr, arr1 = generate_array(ARRAY_SIZE,ARRAY_SIZE)"
   ],
   "metadata": {
    "collapsed": false
   }
  },
  {
   "cell_type": "code",
   "execution_count": 289,
   "outputs": [],
   "source": [
    "INT_ARRAY_SIZE = 200 #int(ARRAY_SIZE/INSTANCE_SIZE)\n",
    "s_arr = split_row(arr, INT_ARRAY_SIZE, INT_ARRAY_SIZE)\n",
    "s_arr1 = split_row(arr1, INT_ARRAY_SIZE, INT_ARRAY_SIZE)"
   ],
   "metadata": {
    "collapsed": false
   }
  },
  {
   "cell_type": "code",
   "execution_count": 68,
   "outputs": [],
   "source": [
    "# for row in range(0, INT_ARRAY_SIZE):\n",
    "#     print(s_arr[row])\n",
    "#     break"
   ],
   "metadata": {
    "collapsed": false
   }
  },
  {
   "cell_type": "code",
   "execution_count": 18,
   "id": "ed4604b3-403f-4671-837d-11a13b2726ac",
   "metadata": {},
   "outputs": [],
   "source": [
    "# iter = len(s_arr)/100"
   ]
  },
  {
   "cell_type": "code",
   "execution_count": 55,
   "id": "50376ddf-9003-46a2-9b85-56471347f37b",
   "metadata": {},
   "outputs": [],
   "source": [
    "\n",
    "# b = str(b).replace('\\n', ',').replace(' ', '')"
   ]
  },
  {
   "cell_type": "code",
   "execution_count": 57,
   "id": "b2fd32ed-05e4-4e60-8539-e43678fc091d",
   "metadata": {},
   "outputs": [],
   "source": [
    "# for y in range(0, 20)\n",
    "# for x in range(0, iter):\n",
    "# a = arr[0]\n",
    "# b = arr[1]\n",
    "# a = str(a).replace(' ', ',').replace('\\n', '')\n",
    "# b = str(b).replace('\\n', ',').replace(' ', '')\n",
    "    \n",
    "    # stdin, stdout, stderr = ssh.exec_command(f'python dot_prod.py {a} {b}')\n",
    "    # result = stdout.read().decode(\"utf-8\").replace('\\n', '')\n",
    "    # literal_eval(result)[0][0]\n",
    "    # print(stderr.read().decode(\"utf-8\"))"
   ]
  },
  {
   "cell_type": "code",
   "execution_count": 156,
   "outputs": [
    {
     "data": {
      "text/plain": "25"
     },
     "execution_count": 156,
     "metadata": {},
     "output_type": "execute_result"
    }
   ],
   "source": [],
   "metadata": {
    "collapsed": false
   }
  },
  {
   "cell_type": "code",
   "execution_count": 290,
   "id": "33cd3d74-e2a8-4959-817f-58c893854021",
   "metadata": {},
   "outputs": [],
   "source": [
    "def reformat_data(data):\n",
    "    return str(data).replace('\\n', '')\n",
    "# a = s_arr[0]\n",
    "# b = s_arr[1]\n",
    "# a = str(a).replace(' ', ',').replace('\\n', '')\n",
    "# b = str(b).replace(' ', ',').replace('\\n', '')\n",
    "ROW_LENGTH = int(len(s_arr)/INSTANCE_SIZE)\n",
    "messages = []\n",
    "for index in range(24):\n",
    "    messages.append([{\"Id\": f\"{idx+1}\", \"MessageBody\": str((idx, (reformat_data(s_arr[idx]), reformat_data(s_arr1[idx])))) }\n",
    "                for idx in range(1 * index , 1 * (index+1))])\n",
    "    # if index <4:\n",
    "    #     print(messages)\n",
    "# messages1 = [{\"Id\": f\"{idx}\", \"MessageBody\": str((reformat_data(s_arr[idx]), reformat_data(s_arr1[idx]))) } for idx in range(5, 10)]\n",
    "# messages2 = [{\"Id\": f\"{idx}\", \"MessageBody\": str((reformat_data(s_arr[idx]), reformat_data(s_arr1[idx]))) } for idx in range(10, 15)]\n",
    "# messages3 = [{\"Id\": f\"{idx}\", \"MessageBody\": str((reformat_data(s_arr[idx]), reformat_data(s_arr1[idx]))) } for idx in range(15, 20)]\n",
    "# messages4 = [{\"Id\": f\"{idx}\", \"MessageBody\": str((reformat_data(s_arr[idx]), reformat_data(s_arr1[idx]))) } for idx in range(20, 25)]"
   ]
  },
  {
   "cell_type": "code",
   "execution_count": 212,
   "outputs": [
    {
     "data": {
      "text/plain": "24"
     },
     "execution_count": 212,
     "metadata": {},
     "output_type": "execute_result"
    }
   ],
   "source": [
    "len(messages)"
   ],
   "metadata": {
    "collapsed": false
   }
  },
  {
   "cell_type": "code",
   "execution_count": 213,
   "outputs": [
    {
     "data": {
      "text/plain": "[{'Id': '4',\n  'MessageBody': \"(3, ('[[6 1 6 8 7 4 0 3 9 0 3 4 0 2 2 5 4 4 8 4 4 5 6 3 7 5 1 7 0 4 5 9 9 1 0 6  3 7 0 6 7 7 5 4 2 1 4 3 7 0 7 7 3 4 4 3 4 5 8 4 4 7 0 0 4 9 5 9 0 7 1 6  7 6 0 3 7 7 4 0 5 0 2 2 2 7 6 8 0 2 3 7 9 4 7 9 8 1 5 0 2 5 5 7 8 0 2 4  5 8 2 0 6 2 4 3 5 3 6 4 5 3 4 6 3 5 8 8 1 8 8 0 2 8 9 7 4 2 0 7 0 4 4 1  9 6 4 9 9 0 6 6 2 2 9 3 4 4 5 9 9 0 1 4 9 8 6 8 1 5 8 1 7 2 7 6 3 2 2 9  1 4 0 6 9 5 4 8 9 2 1 0 5 2 0 1 0 1 6 3] [9 0 0 9 8 3 5 4 1 8 3 2 0 7 0 2 2 9 1 4 6 6 2 3 4 7 4 4 0 5 1 3 3 8 8 7  0 1 5 9 0 7 8 5 7 8 6 3 3 7 6 0 2 9 0 0 1 1 5 7 8 2 8 5 4 3 7 3 8 2 9 0  0 7 1 5 4 8 7 9 4 5 2 3 7 3 2 6 3 5 3 9 7 5 7 9 6 6 0 2 9 4 1 0 9 6 6 8  0 6 7 2 6 4 4 7 1 3 6 8 5 3 6 1 5 7 8 2 6 1 8 1 2 1 1 6 0 1 0 6 5 1 7 2  1 0 5 6 3 9 4 2 5 7 3 3 8 6 7 9 2 8 5 4 3 8 8 1 3 0 8 5 8 6 9 1 1 7 3 5  1 0 8 7 9 6 1 3 0 5 1 3 0 6 4 8 3 6 7 0] [1 5 7 0 7 6 0 0 5 3 3 2 8 0 5 8 0 6 9 8 9 0 2 3 1 3 5 9 8 2 7 3 9 3 3 5  5 2 4 8 6 4 0 3 8 5 9 9 7 0 8 3 4 6 3 5 3 3 1 8 4 1 5 2 7 5 6 1 3 3 8 8  3 2 2 4 9 0 4 2 5 9 3 1 8 8 8 9 3 0 2 0 5 3 4 3 3 2 7 5 3 8 1 1 4 1 7 3  6 8 5 9 2 7 6 3 3 8 3 3 7 2 5 9 2 1 4 2 9 3 1 1 5 2 9 9 7 3 4 2 8 7 6 8  4 7 6 6 5 1 6 2 3 3 8 3 4 0 2 0 1 7 5 2 5 2 3 7 6 4 1 5 5 7 9 0 7 0 5 6  4 8 0 0 1 5 7 8 1 6 7 5 3 2 5 2 6 5 8 2] [5 8 0 4 7 2 4 8 2 6 8 9 5 5 2 2 5 8 5 9 1 2 6 1 3 6 5 0 9 0 4 0 8 7 0 5  3 9 9 9 7 8 0 5 8 7 0 0 8 1 0 2 9 0 5 2 2 6 4 9 6 8 2 8 6 6 1 4 9 8 9 6  5 4 1 8 7 8 4 8 7 0 3 0 8 5 7 4 1 0 0 3 6 2 2 8 7 7 3 2 1 0 4 4 9 8 4 1  6 8 7 5 4 8 2 0 8 3 3 4 8 4 2 0 5 5 4 1 4 7 8 0 6 6 3 6 6 0 5 8 5 1 8 7  0 7 7 0 4 5 7 0 8 9 6 9 5 3 2 9 9 6 0 3 2 7 2 6 4 8 5 5 7 9 1 4 5 6 8 4  7 3 2 3 7 0 6 5 6 6 6 8 4 0 4 2 7 9 7 0] [3 3 0 8 7 9 0 0 1 0 0 0 8 6 5 5 2 4 2 2 8 7 4 9 6 6 1 2 4 7 2 0 1 1 2 2  0 5 4 1 6 7 9 3 1 7 1 3 6 7 2 5 9 0 2 0 3 2 3 3 6 1 9 5 0 6 0 6 1 7 7 0  5 2 7 6 1 9 6 8 4 5 3 1 5 4 3 7 6 4 2 8 2 2 4 0 6 6 9 7 8 4 7 2 5 0 0 8  8 2 7 6 0 4 2 9 2 2 3 7 3 5 3 5 7 3 9 2 2 6 8 5 6 4 7 8 2 5 8 7 9 4 0 0  3 4 4 5 9 0 6 0 9 6 2 1 1 8 5 2 4 5 5 6 7 4 0 8 4 7 7 8 4 0 4 6 2 1 8 0  5 9 7 3 6 1 4 8 4 3 4 6 4 4 6 5 4 7 0 3] [5 1 7 1 1 4 9 1 7 7 0 3 0 2 0 2 0 5 5 3 3 0 8 1 3 7 6 6 3 4 5 4 4 3 5 7  4 9 0 0 1 3 0 3 9 6 6 4 6 6 2 1 2 1 0 4 2 9 8 3 8 6 6 5 8 5 0 1 0 7 8 1  4 2 5 3 4 5 7 5 4 1 8 9 7 9 6 9 5 3 9 8 4 1 0 3 7 8 7 3 3 9 4 9 8 9 4 9  1 8 7 2 6 3 2 1 1 1 2 4 9 2 1 1 6 0 2 1 2 0 2 6 8 1 0 8 9 1 8 2 9 5 8 7  6 4 3 8 9 0 1 5 8 4 2 6 2 0 2 5 1 0 7 7 3 9 2 4 6 5 7 0 6 3 9 9 8 0 4 7  2 2 8 5 4 8 7 0 6 6 0 1 8 7 0 9 0 4 6 2] [7 4 4 4 0 2 9 4 9 5 4 0 0 9 2 1 2 1 3 8 1 5 3 0 2 5 1 3 8 7 7 2 2 9 3 3  6 0 1 8 8 7 3 5 8 2 9 4 2 3 5 0 1 4 6 5 2 6 2 3 7 6 7 6 8 3 7 5 4 5 6 8  0 5 8 1 6 2 4 9 4 8 5 5 1 1 8 2 6 7 6 7 0 1 6 9 4 1 4 8 9 3 3 2 3 3 5 7  3 3 7 8 8 6 7 2 2 9 9 5 7 7 4 6 1 0 0 2 6 4 9 5 3 1 5 2 0 9 7 7 3 9 4 1  2 6 8 5 2 6 7 8 2 2 4 4 7 4 3 0 8 1 6 6 1 7 3 3 1 1 6 2 2 2 7 7 1 9 4 8  4 6 7 6 3 4 0 0 4 0 0 1 3 8 3 0 8 7 0 6] [5 3 7 3 9 9 4 0 8 1 3 0 2 5 3 6 6 8 3 4 8 5 1 8 0 1 4 4 0 9 9 0 8 4 9 4  2 2 3 2 7 0 9 6 5 6 1 3 7 3 0 0 6 7 6 7 3 2 4 2 0 3 1 0 3 8 6 4 9 9 6 0  2 9 5 0 6 0 9 0 3 9 9 4 3 6 0 9 1 3 5 5 1 2 3 5 4 0 7 5 5 4 6 2 1 4 7 6  1 2 9 1 7 3 2 4 5 8 0 6 4 2 6 9 6 1 1 9 2 9 7 4 3 3 9 1 5 2 7 5 9 2 1 8  7 1 9 3 7 4 9 8 3 6 3 0 7 0 8 4 2 6 6 0 9 7 1 9 1 0 1 6 2 7 2 1 5 0 4 9  0 0 2 0 5 5 6 0 5 8 4 7 2 0 7 7 6 5 4 0] [6 0 7 5 2 3 8 8 8 4 7 4 8 0 9 4 2 7 1 4 7 0 4 6 9 2 6 8 7 5 9 4 8 0 4 7  1 1 9 8 0 0 4 3 7 6 8 6 6 1 3 6 9 9 6 6 2 3 7 0 4 7 2 8 4 9 3 6 6 7 6 7  1 9 7 2 4 6 8 8 1 3 2 5 4 9 6 8 6 7 1 9 4 7 6 6 6 6 1 5 1 6 3 3 9 1 3 4  5 8 8 2 2 2 7 7 7 1 3 6 9 3 0 5 1 5 8 7 8 6 2 2 0 5 3 0 8 5 6 5 6 6 8 3  9 3 5 2 5 8 5 6 8 5 8 8 0 1 9 9 3 5 7 5 0 0 9 6 1 0 0 2 0 4 0 1 2 8 4 8  4 7 7 4 2 3 4 6 0 7 2 9 0 1 2 9 9 8 1 2] [4 3 1 8 3 5 6 7 4 8 8 6 7 4 7 5 3 1 7 9 4 4 0 8 4 3 1 3 5 2 8 5 5 4 1 6  9 8 9 9 0 7 0 8 4 7 0 7 3 8 6 5 3 9 9 5 9 1 3 6 9 9 3 6 8 7 8 8 6 3 0 2  4 9 9 8 0 1 5 7 6 2 7 9 2 1 8 7 7 9 8 1 2 4 1 7 2 1 7 9 7 5 9 5 4 5 9 2  4 3 2 3 6 7 8 7 6 2 5 2 2 2 0 3 7 0 7 9 8 7 4 4 8 2 9 6 4 1 5 4 2 3 0 1  4 8 9 4 5 3 8 3 7 2 2 8 1 9 9 6 6 0 7 1 3 9 7 8 8 7 2 1 1 6 9 9 3 3 0 9  2 1 2 2 5 7 4 0 9 0 2 5 0 8 1 1 3 4 8 2] [8 8 0 7 5 4 0 7 1 1 4 9 6 7 1 5 1 0 0 1 4 0 7 4 0 8 3 0 3 2 7 0 2 0 5 3  2 5 7 4 5 7 8 2 3 0 4 0 0 8 6 9 0 9 3 5 9 6 9 8 0 1 7 8 6 9 2 2 6 2 7 8  6 1 8 9 1 5 5 7 0 4 1 5 9 8 3 6 6 5 9 3 2 5 9 4 2 1 9 3 1 5 5 6 4 1 2 0  8 0 4 1 0 3 8 5 3 4 3 5 3 4 8 8 4 6 8 1 1 8 9 4 7 7 2 0 4 5 7 1 4 2 8 7  6 2 9 9 7 5 3 4 4 5 6 8 3 2 5 1 6 7 8 1 6 5 1 9 4 8 4 5 6 8 8 0 0 7 9 4  7 0 6 4 4 7 5 6 5 5 7 7 2 4 2 0 4 9 9 1] [4 9 1 6 5 0 8 4 9 6 7 2 1 4 5 7 5 3 6 9 8 4 6 0 0 6 6 1 3 6 7 0 5 7 5 3  9 9 2 4 3 0 7 5 3 2 4 2 6 1 1 2 2 8 3 5 6 5 0 5 2 4 3 4 5 2 2 7 1 5 1 9  3 2 2 5 3 2 0 6 7 2 8 6 2 7 7 2 8 2 4 3 1 4 9 7 1 4 2 5 4 6 1 4 1 8 6 0  5 4 0 4 6 7 9 0 5 8 4 9 7 8 8 2 7 5 7 3 8 8 7 7 6 2 0 7 9 6 0 0 1 6 0 2  7 9 2 0 7 5 1 7 3 4 1 4 6 3 4 4 9 3 8 1 7 0 2 4 8 2 2 8 5 2 2 5 4 2 1 7  6 5 7 2 2 7 2 1 0 4 0 6 9 3 6 6 8 1 5 4] [6 4 6 4 4 2 5 2 2 4 8 2 0 1 1 3 3 2 6 1 1 2 4 3 9 6 3 2 4 5 2 5 2 5 7 3  5 3 7 2 5 7 2 6 5 5 9 5 1 2 1 0 4 8 0 5 7 9 3 6 3 5 0 4 1 6 7 2 1 6 2 5  4 9 5 3 8 7 2 6 0 8 7 3 9 7 8 2 3 9 7 8 9 2 7 4 9 0 0 8 1 3 2 1 5 4 7 5  2 0 4 4 7 5 5 0 1 2 0 3 8 1 5 5 7 7 7 2 2 6 8 0 1 3 7 6 2 5 2 8 1 4 7 7  7 8 1 2 9 2 7 0 1 0 6 9 4 4 2 2 1 3 1 6 9 8 5 8 0 2 6 4 3 5 8 9 8 8 4 7  1 9 3 0 3 1 3 2 1 9 8 0 8 8 1 7 7 3 0 5] [8 8 7 2 6 5 8 1 5 1 1 3 6 9 9 5 1 6 1 1 7 9 0 9 5 5 6 4 7 4 2 2 2 1 7 7  1 1 5 9 2 8 0 3 0 8 6 1 3 7 5 1 9 7 3 8 3 3 7 3 5 3 9 6 9 4 0 3 8 2 7 1  4 9 6 1 8 1 2 3 5 6 2 0 5 6 7 9 4 6 1 0 5 7 1 4 8 6 0 9 2 0 4 6 9 5 0 9  1 0 0 7 5 2 6 9 0 3 5 0 4 6 9 3 7 9 6 2 0 9 0 6 3 2 6 9 2 4 7 5 4 4 9 7  4 4 2 2 2 7 9 0 4 3 1 3 3 1 4 2 6 2 7 0 2 2 6 2 7 9 1 7 3 1 9 6 3 5 1 1  9 0 8 2 1 1 1 0 8 9 8 8 8 0 7 4 9 7 2 0] [7 8 2 7 6 5 8 8 4 8 4 9 9 1 8 8 8 2 3 2 2 1 1 2 2 0 1 8 7 4 3 7 9 1 1 4  2 0 6 8 9 4 5 6 0 9 0 7 6 4 1 2 0 0 6 4 9 9 9 6 3 4 8 9 9 1 9 6 5 7 7 5  3 3 2 2 5 7 5 0 3 0 3 7 7 9 9 5 5 0 7 4 8 1 2 9 9 4 0 7 6 0 8 0 9 1 9 7  9 0 9 5 6 0 2 3 6 9 2 9 7 0 6 2 4 5 5 4 3 1 4 8 6 4 0 5 1 1 5 2 3 8 3 6  1 5 7 9 6 8 4 5 7 5 7 7 7 1 2 7 2 3 7 6 1 1 6 8 5 7 8 4 2 1 5 2 1 4 5 3  6 9 2 6 1 8 4 4 7 1 2 8 8 6 8 6 1 0 0 5] [0 1 9 7 5 9 7 7 2 4 7 0 3 1 6 8 9 6 8 4 8 8 1 2 9 0 7 0 3 8 1 7 8 3 3 0  4 5 5 7 1 7 4 7 7 8 7 7 3 6 7 8 7 0 4 7 7 4 6 9 3 7 9 3 3 1 0 9 6 3 3 5  2 5 9 0 5 0 3 6 7 8 5 2 4 2 0 7 0 6 3 1 8 4 4 9 4 4 7 6 4 1 3 7 2 8 8 1  5 3 6 5 8 6 3 2 2 8 8 7 9 2 3 7 6 0 0 2 3 9 9 3 2 6 8 5 1 6 1 9 4 0 4 3  7 2 5 2 9 0 5 4 6 0 5 9 1 6 8 7 5 7 4 2 2 6 6 0 9 2 6 6 4 2 5 3 6 3 5 9  2 8 3 0 7 4 2 7 4 7 7 3 6 3 4 2 3 1 7 9] [3 7 9 6 6 0 9 2 3 4 2 1 6 8 7 4 3 2 3 8 5 3 1 2 8 6 1 9 7 0 6 8 0 7 1 6  0 9 2 7 9 8 8 5 1 4 0 9 9 7 7 8 4 5 8 3 9 7 8 2 1 8 4 6 1 4 8 5 0 4 2 2  7 6 0 1 9 6 1 2 7 5 0 6 5 3 2 9 2 9 3 8 5 1 7 3 9 6 9 9 4 5 6 8 7 6 4 0  1 3 7 5 7 1 8 2 1 9 8 9 9 9 0 5 7 3 8 3 2 4 1 6 1 0 5 0 2 4 0 3 5 4 1 8  4 5 6 7 6 3 2 8 6 3 7 3 2 7 6 5 6 0 4 5 4 3 4 7 1 2 2 8 6 4 8 6 8 5 3 3  8 5 8 4 5 6 9 4 7 7 7 8 2 5 4 9 7 3 0 0] [9 7 3 3 8 5 7 6 3 1 6 2 3 4 2 4 3 4 7 8 9 9 7 3 0 4 0 6 9 7 2 4 9 6 2 2  3 2 2 9 4 7 7 7 9 9 5 4 1 0 3 1 1 8 7 4 1 6 1 1 9 2 4 4 5 6 3 8 2 5 0 0  1 9 2 5 4 9 5 2 9 3 1 8 5 7 7 4 8 0 4 1 4 7 1 2 7 5 0 6 8 0 4 3 8 4 6 0  5 9 8 0 1 4 0 5 5 1 9 4 9 9 1 1 4 8 8 7 6 4 2 6 0 9 6 0 8 3 4 7 2 0 9 9  7 2 8 8 1 6 1 1 8 3 9 0 0 1 7 0 8 1 6 4 9 6 1 6 4 7 9 8 2 5 6 9 9 1 0 1  5 3 2 7 9 0 5 2 3 7 8 4 1 6 9 7 9 5 5 7] [5 3 6 2 2 7 6 8 0 1 2 4 2 2 5 9 5 9 0 5 1 9 6 3 7 9 4 5 8 1 1 7 3 0 6 0  1 9 8 3 9 9 4 0 0 1 1 4 4 5 4 1 3 5 7 9 9 1 9 6 5 3 3 8 8 1 1 5 5 4 2 3  6 4 5 0 4 3 6 5 8 7 7 4 0 3 0 8 5 3 4 1 6 6 7 1 3 5 6 2 1 0 5 6 6 5 5 2  3 5 2 7 9 4 8 5 1 3 3 1 3 4 6 4 8 0 9 2 7 1 9 1 1 9 8 8 9 3 5 1 2 4 6 4  5 8 8 4 5 5 6 0 5 6 0 6 7 5 3 5 7 4 0 4 8 7 8 3 5 8 8 8 7 2 4 5 8 1 8 3  7 8 5 5 7 2 9 8 0 7 7 2 3 9 9 0 8 1 9 6] [8 2 2 3 9 1 1 4 3 6 2 1 5 4 0 8 1 1 8 4 3 4 0 3 3 2 3 2 0 7 0 6 1 4 3 4  1 7 2 4 2 2 4 1 6 4 6 6 1 1 2 0 2 7 3 2 7 8 2 1 2 9 6 4 1 6 9 5 8 7 3 4  4 1 6 4 2 2 4 4 8 4 2 0 3 5 7 0 3 4 2 9 6 1 8 6 1 2 6 6 5 8 4 6 2 4 8 5  4 9 7 9 2 1 7 4 2 5 2 3 4 9 5 1 4 2 2 8 4 1 4 2 9 9 2 8 9 0 0 7 6 3 8 6  6 5 6 8 1 2 3 2 4 0 4 8 0 1 7 8 5 1 9 7 1 1 4 5 4 6 7 0 5 5 3 3 6 4 8 4  2 2 2 2 0 1 2 3 5 6 4 1 7 9 9 0 3 5 5 4] [5 2 6 5 0 8 9 9 9 5 7 8 2 3 8 6 3 6 4 0 9 3 6 8 8 7 9 4 0 6 0 8 5 9 1 0  4 3 9 9 1 9 1 9 9 3 5 2 5 0 2 6 2 0 0 8 2 0 1 8 9 8 9 5 8 9 6 1 4 2 3 6  8 4 5 8 3 6 3 1 8 4 7 4 7 3 6 4 4 1 1 1 9 2 2 8 8 1 1 4 6 4 1 9 0 0 7 4  0 2 3 9 4 5 2 3 2 9 3 2 1 0 5 8 2 0 9 2 8 1 3 2 4 9 6 2 4 9 0 6 9 3 9 7  7 1 8 8 5 8 2 3 4 7 7 3 6 8 2 0 0 8 0 4 6 4 9 6 6 2 6 8 5 0 6 1 1 9 7 2  6 5 8 6 8 8 5 3 3 6 5 7 2 2 8 9 2 1 9 1] [3 7 8 6 9 2 4 2 4 3 0 2 2 1 5 3 3 6 3 6 4 2 3 8 9 6 2 7 2 7 4 9 7 3 9 5  3 4 8 5 8 9 2 1 7 6 2 9 7 0 3 2 6 8 6 0 0 0 5 4 9 0 8 6 2 4 6 1 6 4 6 2  9 6 9 3 0 3 5 9 7 7 3 3 6 6 6 4 3 3 1 3 5 9 5 4 9 7 4 6 1 7 7 5 8 0 7 2  5 0 8 4 6 5 6 6 0 3 7 1 6 8 5 8 3 1 3 3 0 8 9 0 0 4 8 6 8 8 3 0 0 8 9 3  8 8 3 1 4 7 7 1 5 5 0 2 8 9 4 9 4 4 8 8 3 7 3 3 0 0 8 9 2 9 8 5 6 6 2 5  9 8 0 9 9 9 4 2 5 9 7 7 0 4 8 7 1 6 3 8] [0 9 5 3 0 5 3 5 5 6 6 0 8 1 3 7 3 4 0 2 0 6 8 8 4 4 5 8 8 5 6 1 1 1 0 4  3 6 9 8 4 0 1 6 4 5 5 5 6 5 6 1 6 7 2 2 6 2 7 1 1 1 4 4 3 4 0 6 6 6 9 0  8 9 6 5 2 8 9 0 7 2 0 2 7 8 1 5 4 5 4 1 0 7 7 2 5 3 7 3 6 7 6 7 9 7 5 1  5 3 2 2 7 4 7 1 5 0 5 6 7 1 0 8 1 1 7 1 5 9 7 4 0 1 6 0 2 0 3 7 4 0 1 9  2 4 1 3 9 0 8 9 9 2 5 3 3 1 2 1 8 1 0 6 6 6 9 3 2 4 7 3 2 3 9 3 8 5 0 7  2 4 7 0 7 2 0 9 5 1 9 0 4 0 9 5 2 7 2 5] [8 1 2 5 8 0 9 8 6 1 1 8 8 7 0 1 8 6 5 6 4 1 5 5 9 6 9 7 9 1 7 4 5 3 5 5  4 1 3 8 0 4 3 5 8 5 5 0 8 7 6 4 6 2 3 4 9 4 8 8 8 5 1 2 3 7 7 6 2 9 9 0  6 0 5 7 8 1 5 5 9 2 1 5 7 5 3 6 7 1 4 6 7 3 8 6 2 2 1 2 8 5 3 9 3 3 7 1  4 0 7 1 6 9 7 0 2 7 4 8 5 8 6 7 4 8 2 7 3 9 0 9 3 9 9 7 8 2 8 2 2 0 8 9  9 5 3 1 7 9 5 3 1 9 3 0 5 6 1 9 7 8 8 1 1 5 8 6 9 2 8 0 2 9 0 8 4 9 8 1  4 6 0 5 0 0 6 7 4 5 7 4 1 5 1 3 2 2 4 5] [1 5 4 0 9 6 9 3 0 0 5 2 1 2 2 2 0 0 8 0 6 5 1 7 9 5 7 4 0 6 3 0 1 7 9 4  6 2 7 7 8 5 7 7 8 6 0 1 2 3 1 4 2 9 2 4 8 9 6 1 5 2 2 0 1 6 2 7 5 3 3 1  2 8 1 9 1 1 0 4 3 6 4 1 7 7 5 2 7 9 3 4 2 4 1 2 3 4 2 2 0 7 8 8 6 2 9 0  2 9 6 1 1 5 0 7 6 7 7 0 5 7 5 2 5 0 2 0 6 9 4 2 6 3 9 7 9 6 9 7 2 9 6 3  3 3 7 7 4 7 8 7 3 3 0 6 9 8 3 7 3 2 6 4 3 6 6 8 6 3 4 1 0 4 5 8 2 7 0 6  8 3 4 8 0 7 0 3 9 2 7 7 0 3 7 5 8 2 4 5] [0 9 6 0 3 2 4 9 1 3 1 2 3 2 4 3 4 7 5 6 1 0 1 9 2 7 6 2 4 6 9 8 5 1 8 3  6 9 9 8 3 1 1 6 7 9 0 8 9 2 2 1 4 0 4 8 8 7 0 1 7 7 0 9 1 2 3 0 6 9 9 4  0 3 1 5 0 8 5 7 4 5 1 1 3 4 4 0 6 8 6 8 1 9 4 8 3 6 2 7 2 5 5 6 7 7 2 7  7 9 9 9 1 9 0 9 2 1 0 5 3 7 9 8 0 5 8 9 5 9 6 8 0 7 2 9 1 5 5 7 7 3 6 2  7 1 1 2 0 1 5 1 0 7 8 0 9 2 6 7 9 3 3 2 9 0 4 9 3 5 9 6 2 4 5 3 4 3 0 7  2 4 6 7 4 7 1 3 2 2 0 3 3 0 1 1 3 7 2 0] [3 1 7 6 1 8 1 9 5 2 3 5 4 6 1 0 5 3 6 1 2 5 2 2 7 0 2 2 2 8 3 4 4 5 8 7  9 6 4 8 7 7 4 6 1 9 6 6 5 9 2 8 6 1 5 0 1 9 9 5 4 6 4 0 4 5 3 0 6 5 1 9  8 7 1 1 2 1 7 7 2 8 2 5 5 7 7 9 8 2 0 2 4 1 5 3 3 6 6 1 8 9 5 9 9 0 7 9  4 0 4 0 6 3 0 9 0 7 8 2 6 5 4 1 4 0 5 5 6 2 6 9 0 8 2 6 9 0 3 6 8 5 2 9  9 6 5 7 5 8 9 1 8 2 0 0 1 9 0 0 7 5 8 4 8 1 5 8 9 0 2 1 6 6 9 3 5 3 3 7  6 8 8 6 4 6 1 3 8 3 9 9 2 7 3 2 7 5 4 4] [3 5 3 6 9 6 5 2 6 5 5 0 2 7 6 6 4 2 8 5 9 5 6 0 0 0 0 1 1 4 8 7 3 2 0 3  8 1 6 2 1 0 6 9 8 7 2 9 4 0 4 2 0 7 9 1 3 2 1 1 0 4 3 7 6 1 5 9 3 4 7 8  3 8 3 2 8 4 8 1 3 9 4 0 4 7 0 0 6 2 3 8 6 2 7 0 0 2 5 5 7 6 3 0 2 7 8 9  3 3 4 9 8 4 7 3 3 6 6 7 1 8 0 0 8 2 1 4 4 8 8 3 1 1 3 0 0 9 4 9 2 4 2 1  3 2 0 7 1 1 4 4 1 1 6 8 7 3 0 3 9 6 7 2 4 5 0 4 5 9 9 9 1 9 8 4 7 7 8 7  3 7 4 7 9 5 1 3 6 3 7 5 7 5 6 7 2 8 3 5] [5 8 4 6 9 6 7 0 8 3 1 1 8 6 5 1 7 4 9 0 3 1 0 4 6 8 7 3 9 6 7 8 1 4 5 9  6 5 5 5 7 7 7 7 3 8 7 0 2 6 6 1 9 5 0 9 7 0 2 9 5 4 1 1 4 4 2 9 6 7 4 7  8 4 5 9 8 3 8 8 3 9 1 7 1 6 4 6 5 0 5 7 7 9 9 9 4 5 6 8 2 8 9 1 6 3 8 9  0 5 5 9 7 2 1 3 1 4 9 0 1 2 3 9 2 0 3 1 3 3 8 3 8 8 7 3 9 8 5 7 0 9 1 5  9 5 0 8 0 1 6 8 2 2 1 3 5 2 5 9 2 2 4 7 0 1 8 6 9 6 1 3 8 7 1 0 1 6 4 7  0 8 3 0 1 1 1 6 6 4 0 4 5 6 1 7 4 2 4 7] [9 1 1 1 9 9 8 8 8 0 3 6 4 8 7 0 3 5 3 6 3 5 2 9 2 6 4 2 3 7 8 8 3 1 9 8  4 8 0 7 9 4 0 6 1 6 3 9 9 9 7 9 3 2 7 1 0 4 2 2 8 4 8 4 0 9 3 8 4 6 1 0  3 7 2 3 2 7 3 3 8 4 5 0 8 9 6 1 1 1 7 3 0 7 1 1 7 8 6 9 9 8 5 7 6 2 5 1  2 3 1 5 4 2 5 8 0 7 3 6 2 5 8 6 9 2 5 1 4 6 5 8 2 3 4 7 8 5 4 1 4 9 9 4  6 1 0 5 5 1 5 1 9 9 4 7 1 4 7 9 9 4 5 2 2 5 6 3 5 8 1 8 0 8 2 5 5 9 1 6  5 0 2 6 3 0 8 3 9 2 7 2 1 5 3 9 3 4 7 3] [4 6 7 9 0 2 6 9 3 0 9 9 1 3 9 8 6 0 7 0 4 8 4 6 2 9 1 0 4 6 1 5 3 5 2 9  9 0 1 2 4 0 6 8 9 0 0 3 6 6 0 7 9 9 9 0 0 3 7 8 7 3 2 4 3 3 7 4 7 2 8 3  5 0 7 4 8 5 9 9 8 1 8 7 9 4 0 0 5 9 2 5 6 5 3 9 1 0 6 2 9 6 2 2 2 2 8 3  6 8 5 1 6 1 7 8 1 3 6 5 3 0 7 6 0 9 3 0 2 5 5 3 3 3 7 9 6 1 6 3 8 4 0 8  0 7 5 2 4 8 0 2 0 7 3 3 8 1 3 4 9 8 2 7 4 4 7 6 5 1 7 2 8 6 2 4 8 9 8 1  2 3 6 2 1 4 4 0 1 5 7 6 8 9 1 6 4 4 3 7] [0 6 2 3 2 0 4 7 8 1 1 1 5 5 8 0 4 6 3 1 0 5 7 6 0 5 4 5 9 1 9 5 3 8 8 4  8 2 1 0 7 9 8 7 8 1 3 8 3 1 0 8 1 5 5 3 7 6 3 8 5 6 8 9 0 7 8 6 8 3 0 9  4 8 0 0 7 3 7 9 3 7 8 7 6 3 8 3 2 1 6 8 1 3 7 7 1 8 0 9 9 2 1 4 7 6 2 6  4 6 5 4 8 0 4 5 0 4 1 4 3 1 9 3 9 7 2 0 3 2 6 3 0 1 2 6 7 2 7 0 6 9 4 6  6 2 9 3 2 8 5 1 1 9 5 2 6 2 9 7 3 5 6 8 2 4 5 8 5 6 8 3 6 5 7 2 8 6 6 1  5 8 1 4 6 7 8 9 6 8 6 5 7 7 2 9 6 2 7 6] [4 5 7 1 8 2 2 8 8 8 6 8 0 2 9 7 3 5 8 0 5 1 3 5 3 0 2 8 1 2 7 6 2 1 3 2  8 8 2 8 6 5 4 2 1 6 0 6 3 4 9 2 5 9 4 0 5 5 6 2 2 7 4 4 9 2 6 0 2 4 2 9  0 8 8 8 0 7 9 6 9 7 8 8 9 4 1 4 8 2 2 3 0 5 7 9 1 2 4 8 7 8 9 4 1 8 7 1  9 8 3 8 8 3 4 2 5 8 0 4 1 0 5 4 2 8 1 5 5 7 5 5 7 4 3 1 1 7 5 5 4 3 2 3  2 9 6 0 5 3 0 0 3 5 4 5 2 5 9 0 2 5 6 7 5 3 4 3 0 8 4 2 5 5 9 8 8 9 5 9  3 2 6 0 3 6 0 0 4 7 2 2 9 0 6 7 1 5 6 9] [7 3 1 4 1 7 5 0 8 8 5 4 8 6 8 9 5 0 3 6 2 9 6 7 6 2 4 5 7 5 5 6 9 6 2 7  9 2 6 0 7 1 6 4 7 6 7 4 2 7 9 6 2 0 2 3 8 2 7 4 1 2 6 1 7 2 3 1 4 3 0 8  6 5 8 4 0 8 8 0 1 1 8 1 4 9 8 9 2 6 1 5 1 4 1 2 1 2 1 1 3 2 1 1 5 2 5 4  5 7 7 3 9 1 1 2 3 0 2 7 9 9 8 8 0 2 0 8 3 0 2 0 7 0 2 7 5 1 2 8 1 6 3 1  1 0 6 0 2 6 8 0 1 2 2 2 7 6 2 3 3 8 4 8 9 2 7 5 9 6 1 8 9 7 4 6 9 2 0 0  3 2 4 3 1 3 1 3 5 8 2 9 5 1 1 8 0 4 6 4] [4 3 9 7 3 9 2 0 6 7 4 6 2 7 4 6 4 3 1 3 4 6 7 6 5 5 7 0 5 4 2 3 5 0 4 8  9 7 1 8 1 3 5 4 5 9 7 2 9 6 4 9 8 3 6 2 7 3 2 9 4 0 5 4 0 2 1 1 5 6 9 0  4 6 3 1 9 5 9 8 1 3 1 0 8 0 0 2 1 9 6 3 9 2 5 8 2 3 6 1 1 0 0 7 1 8 3 4  5 1 5 5 6 6 3 9 1 1 4 7 7 2 7 5 9 2 6 4 1 8 4 8 6 0 0 7 9 3 7 2 9 8 7 4  7 3 3 6 0 0 6 0 9 9 2 5 3 7 5 9 4 7 0 7 6 1 6 0 1 1 0 5 7 0 3 1 5 9 4 2  1 3 8 2 9 2 3 7 2 4 1 2 4 6 7 2 7 4 4 2] [5 4 9 1 6 2 9 8 7 1 8 6 6 4 8 7 7 5 2 6 7 5 5 9 0 2 8 4 3 5 0 4 2 1 8 5  0 1 6 9 3 6 1 6 9 6 5 3 8 3 8 2 1 6 6 3 4 7 9 3 0 6 1 0 2 6 1 7 5 2 7 6  6 2 7 0 1 0 3 8 0 2 1 5 2 7 6 8 2 5 3 3 7 1 5 5 3 9 4 7 5 8 0 6 2 9 4 1  6 9 9 2 2 3 8 7 6 2 8 7 3 1 0 8 2 5 4 7 8 3 6 3 9 1 5 5 3 2 5 6 5 4 3 8  4 3 4 5 9 1 2 6 7 4 3 5 6 4 5 2 0 6 4 2 5 0 6 2 4 9 1 2 3 7 6 1 0 0 3 5  3 6 4 7 3 7 4 1 6 7 2 8 9 1 9 5 1 2 0 5] [9 2 5 9 0 1 9 2 2 5 1 5 4 1 8 9 8 9 9 2 0 1 7 1 7 1 2 0 6 0 7 5 4 8 1 5  0 6 9 0 4 9 8 3 1 2 1 0 5 6 3 4 5 5 6 0 7 2 1 2 5 0 3 3 7 1 7 0 7 5 8 7  8 1 0 7 4 2 6 2 1 2 8 3 6 0 6 8 3 3 1 1 8 9 7 7 5 5 2 4 9 8 5 8 0 4 1 9  8 3 6 5 8 9 3 9 5 7 3 6 0 2 7 6 7 8 9 3 7 6 1 8 0 5 3 2 2 5 4 8 7 2 4 8  4 6 6 2 8 5 1 1 8 2 6 5 1 4 9 9 1 0 4 1 8 6 8 4 8 5 6 8 4 2 0 5 8 6 6 9  4 3 7 2 1 9 2 2 6 4 2 8 5 6 7 0 1 7 6 6] [9 2 6 7 4 0 5 0 2 5 6 6 5 2 9 1 0 0 3 2 1 2 6 8 8 5 8 4 7 7 7 3 5 1 1 0  9 3 6 3 1 3 9 5 1 2 3 0 9 5 4 1 8 9 2 0 3 1 0 9 5 1 3 7 1 2 9 7 8 5 1 0  2 5 4 7 9 2 5 9 2 7 5 9 1 6 2 8 1 5 5 4 7 0 5 4 8 0 1 9 9 5 6 1 9 5 0 5  5 5 0 6 3 8 1 0 8 0 0 3 6 5 5 9 0 0 2 3 7 3 3 0 9 2 0 8 6 9 5 6 9 3 1 7  9 9 5 3 1 2 4 4 5 1 5 3 8 6 4 8 6 7 0 7 6 8 3 9 0 4 9 3 8 0 6 4 0 5 7 6  7 4 6 1 1 0 5 8 7 2 3 1 7 0 5 0 2 7 3 2] [6 7 3 4 2 9 7 7 1 6 8 4 0 4 0 8 7 2 3 1 5 7 7 3 2 7 5 2 0 8 1 0 4 7 1 9  8 2 2 2 0 1 1 0 9 2 8 9 1 5 9 7 5 9 6 1 0 5 2 0 4 7 2 6 7 7 6 2 0 6 8 2  8 9 8 7 6 0 4 4 9 6 9 9 6 5 0 0 4 3 1 6 1 3 4 2 3 1 7 4 4 3 4 6 2 5 3 8  5 2 3 4 8 3 1 7 4 3 1 2 2 3 1 8 7 7 2 6 8 3 7 4 3 4 9 3 4 1 9 9 7 4 4 0  8 4 4 0 6 6 6 5 2 1 2 1 6 8 6 5 2 0 0 3 5 3 4 7 0 6 4 2 9 2 9 7 8 5 2 1  7 2 6 4 8 8 6 7 8 0 0 1 9 1 7 7 4 4 7 4] [5 6 1 7 3 8 3 9 9 7 8 8 8 0 0 8 1 4 4 3 9 8 7 9 1 8 9 5 6 9 0 8 2 0 7 4  2 1 7 1 5 6 3 5 9 6 2 9 0 0 5 3 2 4 5 6 0 5 7 3 3 5 1 4 3 0 6 4 3 7 5 4  9 8 5 5 3 8 7 3 4 9 0 5 2 1 2 6 8 7 6 3 7 5 6 6 5 3 5 4 8 1 1 7 4 1 3 3  3 5 4 0 7 3 4 6 4 2 0 3 7 8 6 4 2 2 2 3 1 8 5 3 4 6 0 4 6 6 0 0 4 8 2 3  7 3 7 3 9 2 4 9 8 4 5 4 6 2 4 9 4 3 6 3 0 9 9 0 4 7 7 4 5 5 3 6 3 2 9 3  3 5 2 3 4 8 1 4 5 4 5 5 7 5 5 1 0 5 2 5] [1 9 3 7 6 5 8 3 6 3 8 2 6 3 1 1 8 0 1 8 8 1 1 7 6 4 7 6 7 0 6 6 6 0 0 6  3 0 8 6 9 1 0 1 9 7 1 1 8 6 3 6 0 5 2 3 1 1 4 8 9 0 4 8 0 0 0 3 0 0 1 7  0 8 2 6 9 2 7 0 3 9 7 1 8 5 0 5 2 9 0 7 7 3 8 8 9 5 0 3 0 2 8 8 2 3 0 3  2 5 1 7 1 2 7 7 7 2 4 8 5 6 4 3 2 3 8 6 4 1 8 1 6 8 1 0 6 4 3 6 6 1 0 2  2 4 0 9 1 4 0 1 6 4 2 5 1 5 5 4 5 3 4 2 1 7 6 8 4 1 3 6 4 9 8 0 0 2 9 2  0 9 5 6 7 3 9 6 2 1 1 4 0 7 1 7 9 5 3 4] [4 0 3 2 2 9 9 6 8 0 3 3 5 9 3 0 2 5 7 1 1 0 8 4 8 0 8 3 7 9 4 0 7 4 2 0  0 1 1 1 2 4 1 4 4 7 3 7 9 1 4 8 8 0 0 2 2 5 7 9 1 8 8 2 3 3 7 8 8 8 1 7  3 3 6 1 9 2 7 0 6 3 6 1 4 0 2 2 5 1 8 5 4 1 7 7 6 6 1 9 6 1 6 3 6 5 7 0  2 7 6 8 5 2 8 3 6 7 4 1 9 0 9 4 0 5 1 0 6 0 3 6 5 1 0 0 6 0 5 9 2 4 0 1  5 0 1 3 1 6 3 2 7 9 5 4 1 3 0 1 2 2 1 4 1 1 2 1 5 3 3 0 3 8 4 0 4 2 5 9  7 6 9 1 2 6 7 3 9 0 7 5 7 3 6 5 8 6 3 9] [0 0 4 9 0 0 7 6 0 4 0 6 0 2 7 9 7 7 5 0 1 8 8 4 6 4 7 7 8 2 6 5 6 9 5 1  8 1 7 9 7 5 9 5 6 8 9 4 5 4 5 7 0 3 4 4 4 4 5 0 5 1 7 3 3 5 8 2 1 1 5 4  3 8 2 6 0 5 5 5 4 7 6 4 3 0 5 1 8 1 4 9 9 9 2 6 6 0 3 3 3 6 4 0 3 7 3 8  9 0 5 6 6 9 1 6 7 1 7 7 5 1 3 7 4 2 2 3 1 0 5 6 9 7 1 6 9 5 7 6 5 3 9 5  3 3 4 7 7 6 4 7 3 4 8 7 1 4 4 1 4 4 6 3 0 4 9 1 0 8 0 8 0 3 9 2 4 8 6 5  0 8 6 0 0 9 4 0 2 7 6 2 4 4 6 4 5 8 4 8] [6 2 0 7 7 5 1 0 9 6 7 5 9 5 4 8 6 5 3 0 3 1 9 2 1 1 7 2 8 2 3 5 7 4 4 7  6 2 9 8 0 1 7 3 1 3 2 1 2 4 6 9 7 4 4 8 1 1 3 1 6 5 7 3 6 7 1 9 5 5 1 3  9 7 6 1 0 0 2 1 4 6 6 3 2 7 3 3 5 3 4 5 1 1 3 4 4 0 7 4 9 4 6 0 8 5 0 7  3 0 8 9 2 9 1 2 5 2 2 4 1 7 6 6 7 1 7 5 1 6 3 1 3 6 3 1 0 5 0 2 7 8 8 2  9 5 1 5 1 0 0 5 4 0 4 6 3 1 1 4 0 0 2 8 8 3 7 3 6 2 3 9 0 5 2 3 0 4 6 0  4 9 4 1 3 9 6 3 1 2 8 3 5 0 7 3 0 4 3 9] [9 1 6 3 7 7 5 8 6 0 5 8 4 7 1 0 3 6 7 7 9 8 2 4 7 0 4 5 0 9 2 7 8 3 0 2  3 6 6 6 6 3 8 3 5 9 3 3 6 2 3 0 7 8 6 4 2 6 4 6 3 4 6 4 3 0 6 8 3 7 1 7  1 7 4 4 6 8 2 0 4 5 5 6 5 5 1 0 7 6 4 7 2 2 1 1 9 3 1 2 3 0 6 9 8 3 5 0  8 5 3 5 7 7 0 9 7 6 5 1 4 2 0 3 0 5 7 4 8 2 5 6 7 0 0 8 2 8 7 4 5 1 9 2  6 1 4 4 4 1 4 1 3 5 2 2 8 1 8 6 1 7 2 2 3 8 5 6 6 2 2 7 5 8 2 3 9 4 6 6  8 9 0 9 8 5 3 8 3 2 4 2 0 3 1 6 5 8 5 8] [9 3 2 2 8 4 3 8 5 9 3 8 3 0 3 8 2 4 9 7 6 0 1 1 8 9 4 3 0 7 7 0 8 5 8 3  7 1 9 8 8 6 5 1 2 8 1 1 4 7 6 0 8 7 6 2 8 9 7 0 5 9 0 8 6 9 9 6 6 8 8 4  4 1 2 6 1 6 0 1 8 1 3 6 7 3 5 8 0 0 5 8 4 2 6 0 4 1 9 0 9 8 0 7 0 2 6 5  2 0 0 7 0 6 3 7 0 1 8 4 3 7 3 5 9 8 0 1 3 6 3 0 9 6 9 8 9 3 6 4 2 9 7 7  7 0 5 7 1 3 4 8 2 5 6 8 9 1 7 1 3 1 1 1 6 5 3 3 2 6 7 5 2 8 7 4 6 4 6 5  4 9 9 4 6 2 0 6 8 8 8 4 0 8 3 7 8 4 7 5] [0 8 0 2 6 8 3 8 5 1 1 5 1 8 3 8 6 5 6 9 0 3 8 5 5 6 1 9 7 6 6 8 6 7 4 1  0 7 1 1 7 1 5 9 0 3 7 0 2 7 2 5 0 3 3 6 4 7 4 3 2 8 4 9 0 9 1 0 3 7 6 9  7 3 7 1 2 2 0 5 6 0 2 8 6 1 3 6 7 3 2 0 0 3 0 8 8 7 8 5 4 7 1 7 1 8 9 7  2 3 1 5 7 6 2 0 4 9 6 9 4 1 6 5 0 8 5 3 5 2 6 4 3 0 1 5 1 0 0 1 9 7 9 1  2 4 2 1 7 1 6 4 5 3 3 0 2 9 5 4 3 8 7 4 5 2 5 9 1 0 7 4 4 3 8 5 0 3 1 5  0 8 0 0 4 4 7 3 8 4 9 7 0 6 6 4 3 5 6 5] [0 0 1 4 2 0 6 2 3 3 6 9 0 6 9 3 3 8 1 5 9 2 1 5 9 2 1 5 0 5 0 5 8 1 5 6  6 0 5 4 4 1 0 2 1 6 0 2 6 8 5 4 0 4 6 6 5 3 5 9 7 2 6 4 8 0 0 6 1 2 1 2  7 9 7 6 9 3 2 8 2 4 3 6 7 3 3 4 0 2 4 8 7 1 0 3 7 9 2 8 7 1 9 9 9 0 1 3  8 2 6 5 0 6 5 2 1 8 1 6 0 5 2 4 5 0 8 9 8 3 7 4 4 7 5 2 8 8 3 8 5 2 3 5  1 7 3 6 7 9 1 1 1 8 0 1 9 6 3 2 1 8 5 8 2 9 0 2 9 1 9 7 1 6 1 3 5 5 2 4  4 3 1 2 5 2 7 6 3 7 5 4 3 8 3 2 9 5 9 6] [4 8 3 1 0 5 0 2 3 9 0 2 5 0 9 5 5 9 4 0 5 0 9 7 0 7 2 0 2 7 1 3 9 1 3 1  2 8 6 6 6 2 8 1 5 6 3 9 5 4 3 2 1 6 1 2 9 1 5 8 7 9 2 2 8 1 7 6 3 6 6 9  1 7 5 0 8 7 2 0 1 2 4 3 9 3 2 2 1 2 3 1 7 4 7 4 1 2 0 4 0 0 4 2 6 6 7 8  7 9 6 9 0 4 3 3 1 6 7 8 7 3 2 2 2 2 1 8 1 8 0 7 7 4 6 2 3 7 4 8 3 6 4 9  4 3 2 4 6 2 9 6 4 5 6 3 4 6 9 6 7 9 9 6 7 0 6 5 7 0 7 6 7 0 0 6 3 9 9 0  7 1 1 4 5 3 9 7 3 0 5 0 4 0 2 9 1 6 2 1] [2 7 2 1 7 3 7 6 6 9 6 3 9 3 0 3 3 8 5 2 7 2 6 0 5 4 1 3 8 9 6 7 2 2 0 2  9 0 4 1 3 9 2 7 9 9 1 1 8 7 1 1 9 9 3 3 7 1 4 7 4 0 6 5 0 2 1 7 2 9 2 4  5 5 1 9 0 8 8 8 1 8 6 1 9 0 4 4 6 5 6 3 8 7 0 7 1 1 8 7 9 8 0 4 7 0 8 6  2 2 4 5 8 7 4 0 7 1 5 2 3 5 1 9 6 1 6 8 2 9 5 8 9 2 5 3 6 6 5 9 9 5 8 2  6 0 2 7 4 7 1 0 8 2 9 3 0 0 9 6 0 9 9 3 3 5 2 7 3 9 0 9 0 5 8 1 8 2 8 5  2 1 3 3 5 5 0 0 0 9 1 3 3 0 8 1 0 6 5 1] [4 6 1 5 1 0 9 3 6 1 6 5 1 3 4 6 1 3 5 3 8 5 4 0 2 8 2 5 2 0 0 8 1 9 6 8  6 7 1 7 0 0 4 0 9 7 2 6 3 1 4 0 0 7 7 0 8 3 1 9 1 9 7 4 5 4 3 0 1 3 5 3  2 6 8 7 6 2 9 2 7 3 7 5 2 1 4 1 0 6 9 3 6 7 3 8 3 0 3 5 5 3 5 9 0 3 7 3  6 3 8 1 7 1 4 5 5 6 2 8 6 1 2 3 4 3 0 8 7 0 1 6 2 9 7 2 6 7 7 3 5 1 2 5  4 5 9 4 9 3 5 7 3 9 2 9 5 9 3 1 1 0 4 4 3 9 5 1 9 7 8 3 3 2 4 1 9 5 5 7  0 0 9 3 5 3 9 3 2 6 9 3 6 8 0 4 5 8 7 9] [6 0 2 5 3 3 8 7 5 9 0 9 8 6 2 8 9 6 2 0 7 3 0 8 1 2 1 4 0 5 8 5 3 4 3 0  9 5 8 7 9 3 5 2 3 3 6 0 9 8 3 0 5 7 3 1 6 9 4 3 3 8 7 1 6 5 2 2 5 7 1 0  5 0 7 8 2 5 2 5 4 3 8 1 6 6 3 9 1 2 8 9 2 0 9 2 9 5 1 6 7 2 3 0 6 5 9 4  2 2 5 9 6 2 9 6 1 5 2 1 4 5 3 1 1 8 0 8 7 2 4 9 0 9 1 6 1 3 2 8 4 6 4 5  0 5 3 3 2 1 7 6 8 6 5 8 7 5 0 4 3 2 6 6 9 4 9 5 5 5 3 9 6 0 5 1 3 8 6 8  7 7 0 6 3 3 7 8 1 1 9 2 5 1 3 5 6 6 1 8] [0 3 6 4 2 0 9 7 3 6 6 3 8 0 3 8 0 6 2 2 8 1 9 1 1 8 9 3 1 6 9 5 4 8 7 0  3 0 5 0 4 4 9 1 8 2 5 3 1 7 5 6 6 3 7 7 2 9 8 5 3 6 4 1 3 6 6 8 5 1 6 6  0 6 5 7 7 4 4 9 7 0 3 8 4 5 7 1 8 8 2 7 6 5 1 2 1 8 8 9 2 6 9 2 6 5 9 7  8 2 0 1 1 6 6 5 8 7 4 6 4 2 9 7 6 4 4 6 7 1 5 9 8 6 9 8 7 9 5 7 2 1 0 1  0 7 6 0 1 8 6 8 4 9 5 9 8 6 4 6 9 9 5 0 0 7 0 2 4 0 3 8 4 5 1 1 6 6 4 3  8 6 1 5 0 2 0 6 2 6 5 3 4 7 2 0 4 9 7 5] [0 1 6 4 7 9 9 0 1 4 6 8 2 6 8 5 4 4 9 9 2 6 9 5 1 5 9 4 5 4 2 6 2 7 6 8  1 1 5 6 1 4 3 2 9 0 1 4 2 8 7 1 0 2 2 6 1 5 2 7 5 1 9 0 3 2 7 1 6 8 1 6  7 7 6 1 4 0 3 6 7 2 9 0 1 3 2 6 9 9 3 6 1 6 4 2 7 9 6 3 9 1 9 2 8 5 2 3  5 2 9 3 3 7 7 7 2 7 4 4 3 6 9 8 9 5 7 5 6 3 3 0 1 6 2 6 9 6 7 7 5 1 8 6  7 5 6 5 4 7 5 8 1 9 3 0 6 3 9 3 0 9 1 4 0 2 9 9 8 1 9 0 9 3 1 2 9 8 8 7  5 5 4 8 3 8 6 2 9 1 8 7 0 9 6 2 5 8 8 1] [3 9 4 2 4 3 9 0 9 9 4 5 0 8 0 8 6 5 7 7 0 7 0 7 8 5 5 8 9 4 2 9 9 9 1 3  0 6 1 9 9 7 9 0 8 0 3 7 4 6 7 4 8 8 2 5 2 3 2 8 8 4 7 3 9 2 2 9 9 1 7 7  7 0 4 2 4 8 3 8 3 7 5 4 7 9 8 5 8 3 9 2 1 8 9 4 9 6 4 6 4 8 9 8 3 3 7 7  4 3 9 7 3 4 5 4 0 1 1 4 6 5 1 7 4 2 2 9 2 5 0 6 5 4 2 6 3 8 5 2 5 4 3 5  3 3 6 4 0 3 4 5 9 2 0 4 8 4 8 9 5 6 2 8 6 0 6 4 1 8 9 8 0 4 9 1 0 6 3 4  2 6 1 1 5 9 5 0 1 0 4 7 6 5 7 6 7 0 6 7] [1 0 5 0 5 5 2 4 7 0 7 7 9 7 4 6 2 3 7 1 0 7 1 6 0 2 8 9 1 8 1 9 6 8 0 5  8 6 6 8 0 0 6 9 4 9 3 7 5 0 4 2 5 7 1 8 2 0 3 0 8 7 0 0 7 1 9 4 2 5 0 6  9 5 5 4 1 0 3 5 6 7 1 0 0 6 9 6 7 8 6 1 9 3 6 5 3 7 9 6 2 3 3 3 7 5 6 2  4 4 3 2 3 8 4 4 4 9 2 8 9 1 2 0 3 4 4 4 0 8 8 2 5 0 2 7 1 3 5 4 8 5 0 1  5 6 7 3 8 8 9 8 1 4 2 9 6 0 7 1 7 0 6 3 7 4 5 3 4 2 1 9 3 8 6 6 9 4 9 3  6 7 2 3 5 1 9 4 9 1 8 4 6 7 8 2 8 3 4 5] [9 4 5 3 2 9 6 5 8 6 8 9 6 2 2 7 1 0 3 6 9 0 6 1 6 0 5 9 5 6 3 9 7 6 5 1  9 5 9 1 4 7 8 1 1 1 2 4 7 3 3 0 5 0 7 2 3 6 3 3 2 2 4 4 1 3 4 9 8 0 7 2  7 3 0 2 8 6 6 2 5 9 1 9 6 3 4 5 9 9 9 2 0 2 0 7 6 7 3 8 6 1 7 3 7 8 8 5  0 3 9 1 5 0 4 0 7 2 4 6 6 6 4 3 0 9 3 4 1 4 4 5 6 6 8 2 3 4 9 8 0 3 2 7  8 7 6 5 3 7 3 6 9 1 0 4 6 5 2 8 6 7 6 9 7 0 5 0 0 7 6 0 9 8 8 1 6 1 1 5  2 3 3 1 9 9 9 0 5 8 6 8 2 1 9 2 3 0 7 6] [7 9 5 4 1 7 9 9 9 6 0 4 8 0 8 6 6 5 5 1 0 7 5 9 6 0 1 5 7 9 7 7 0 8 7 3  3 6 8 2 9 5 5 5 6 5 8 3 8 5 7 3 3 7 7 7 7 4 2 4 6 6 6 3 9 7 4 9 3 3 9 0  3 1 5 8 1 4 5 3 7 9 3 4 3 2 0 9 1 0 6 1 0 7 0 4 0 3 5 9 4 3 3 5 6 5 9 1  6 9 7 7 0 8 9 9 4 2 3 4 3 1 3 6 6 9 0 3 1 8 7 5 4 4 8 2 6 4 1 5 8 3 9 9  1 2 0 6 9 4 5 2 2 5 0 1 5 9 1 8 6 2 4 0 6 6 7 3 2 1 4 1 9 0 2 5 0 6 1 5  2 2 9 0 0 7 3 3 7 4 5 4 0 6 5 8 7 7 6 8] [2 6 4 9 2 4 0 7 5 7 3 8 9 4 8 0 6 9 6 0 6 2 4 7 1 1 4 6 0 4 6 9 7 7 8 7  4 4 5 9 7 6 5 5 0 0 1 0 5 2 2 2 1 7 4 7 8 7 5 3 0 7 5 4 3 2 4 1 9 4 4 7  5 3 6 2 3 4 4 4 3 1 9 6 7 4 2 2 4 1 7 5 5 3 3 3 7 6 5 9 7 6 6 2 8 9 8 9  2 2 2 5 0 5 3 4 6 4 1 6 1 9 7 2 5 7 6 4 1 6 2 9 6 3 9 1 5 7 7 9 3 2 5 7  7 1 2 9 4 8 1 9 4 6 7 6 3 0 9 7 9 6 3 2 3 2 6 4 8 1 5 6 3 9 1 8 1 6 4 9  2 4 1 6 1 7 9 9 0 3 5 2 2 8 1 0 4 0 7 5] [2 9 9 8 3 4 3 7 2 8 7 6 3 7 9 8 4 7 4 4 8 2 5 6 9 2 4 4 4 9 8 6 0 4 8 1  0 4 5 2 7 3 9 5 5 4 7 8 7 0 6 8 1 2 9 0 8 1 2 2 3 9 1 3 0 2 1 1 8 9 0 4  2 2 4 6 1 1 6 2 4 7 0 1 6 2 6 1 4 5 3 6 3 6 5 2 5 1 1 4 2 9 7 6 0 5 0 5  0 3 3 1 5 9 4 2 6 0 5 0 0 3 0 8 8 5 1 4 7 7 2 2 8 7 4 8 9 4 4 1 6 3 9 9  9 5 9 9 9 9 4 0 4 4 7 5 7 8 0 0 4 9 1 1 5 3 7 2 8 7 7 5 4 4 3 4 3 7 1 0  3 0 3 0 5 5 3 4 8 4 3 8 4 5 8 5 1 7 9 0] [9 8 0 1 5 6 9 4 1 6 8 3 6 3 0 2 2 0 6 2 5 6 9 1 2 8 1 3 0 3 4 1 7 1 3 3  4 8 6 1 6 8 4 5 5 3 4 7 7 2 2 2 2 8 8 0 9 9 7 5 2 2 5 8 0 8 5 8 1 7 3 0  2 3 9 5 1 1 3 8 9 4 2 9 6 9 3 2 7 6 6 1 3 1 7 3 9 3 2 7 9 5 9 3 0 8 6 0  2 6 9 9 6 6 1 6 6 7 0 4 2 7 0 4 9 2 8 4 5 0 5 2 9 3 0 2 6 8 4 6 2 6 4 5  2 8 1 8 2 8 6 6 3 1 5 5 5 9 8 1 0 8 8 4 9 8 2 0 2 9 3 0 5 4 8 6 1 1 2 6  0 1 5 1 5 1 0 3 5 3 3 4 3 7 0 7 0 9 8 9] [2 5 1 4 4 3 7 1 2 7 4 8 4 2 0 3 9 1 6 4 2 3 8 7 7 7 0 6 9 0 9 3 4 5 0 7  8 8 2 3 9 2 3 1 8 5 1 5 3 7 4 2 0 9 9 0 0 3 5 1 1 3 6 6 8 3 1 0 8 5 2 5  5 7 8 6 0 4 8 6 5 2 6 4 5 7 6 2 0 3 1 6 0 9 8 1 2 7 7 2 5 7 0 7 8 0 4 0  0 0 4 6 2 5 4 9 8 4 7 7 9 9 1 8 4 1 5 8 2 4 1 8 7 5 8 3 7 0 5 6 6 5 7 9  0 9 5 0 9 9 3 2 6 3 4 9 0 4 0 9 5 9 6 9 2 9 7 1 0 4 8 0 3 3 8 4 7 6 7 4  9 2 9 8 0 2 1 3 9 6 0 0 3 9 5 7 1 7 7 5] [3 8 3 5 1 1 4 6 1 9 2 3 0 1 9 8 0 8 0 9 7 1 8 9 8 3 3 4 7 0 3 4 2 3 8 3  0 0 7 2 2 0 1 4 3 4 1 6 5 6 0 3 3 0 1 0 3 7 2 9 9 5 6 0 7 8 8 2 8 0 8 1  9 3 0 7 5 0 0 3 8 3 5 4 7 7 3 6 5 3 6 0 3 0 1 5 7 7 4 5 0 3 3 1 7 5 9 9  5 8 2 0 9 4 0 1 2 8 2 6 6 6 5 3 5 4 9 5 7 0 5 9 4 8 5 2 6 3 0 5 0 0 9 2  4 9 8 3 1 2 4 6 1 7 8 4 2 5 7 8 4 0 4 4 1 8 3 6 8 9 9 4 9 7 1 5 6 0 5 1  9 1 8 6 9 9 5 7 1 7 9 6 6 8 0 0 2 1 2 7] [5 2 7 6 5 4 9 7 1 5 6 4 7 6 8 7 7 5 4 5 6 3 1 2 3 3 6 2 2 9 9 8 2 1 2 2  7 6 9 9 9 1 2 9 9 4 7 2 9 7 1 4 1 9 7 3 0 5 6 7 3 6 5 5 0 9 4 4 2 4 2 0  6 8 0 2 6 5 1 9 8 0 9 4 6 8 7 0 0 2 8 9 8 4 0 9 6 0 5 5 5 4 2 9 0 9 4 0  7 2 6 0 4 1 5 5 0 6 0 2 5 8 3 1 9 1 3 0 0 7 8 4 5 1 3 6 9 6 8 2 1 2 4 0  6 6 8 3 7 0 6 2 6 0 5 1 4 6 5 6 2 4 4 1 2 9 5 5 9 0 6 9 7 0 9 4 3 3 2 2  4 7 0 6 4 9 9 2 6 9 5 5 3 8 3 1 8 3 1 7] [1 5 1 6 8 3 5 4 2 7 6 0 9 4 6 6 0 1 9 3 1 9 4 0 7 1 8 4 2 5 7 4 3 2 3 1  5 4 8 8 5 1 4 7 0 1 2 0 6 3 1 7 9 8 9 3 9 1 5 4 0 8 0 2 6 2 8 3 4 4 5 8  7 9 4 9 8 2 0 6 9 9 7 6 4 1 3 9 0 2 4 9 6 7 9 0 6 4 3 3 8 3 2 9 1 8 8 5  8 7 5 2 5 2 7 2 7 9 1 2 6 4 5 3 5 7 7 1 0 9 4 3 7 3 4 4 9 6 3 6 9 0 0 1  4 0 5 7 4 6 4 6 0 4 0 7 7 6 1 8 5 9 9 5 0 2 4 9 9 9 9 8 0 3 7 2 3 3 9 6  9 7 3 3 7 7 8 4 7 9 1 0 1 3 0 4 9 2 1 1] [0 5 9 8 8 9 5 8 7 9 5 5 4 6 6 5 7 5 7 6 4 1 3 6 2 0 1 2 5 9 4 7 1 5 8 6  7 4 7 3 8 2 3 7 0 1 0 1 6 0 4 4 6 9 6 4 0 6 6 6 1 0 6 8 5 5 3 4 6 7 0 6  6 8 4 5 5 3 5 7 2 1 1 5 1 4 0 2 8 1 8 0 0 2 1 1 9 5 0 0 2 7 1 2 7 5 3 3  8 9 9 8 8 0 8 2 2 6 2 4 9 6 0 4 2 3 9 3 8 2 7 2 2 0 0 6 7 7 0 8 1 3 9 1  5 8 3 2 2 1 4 0 8 9 0 4 6 7 6 7 1 7 7 9 9 4 4 9 8 6 8 2 3 8 3 2 5 1 0 8  1 4 6 1 8 6 6 3 8 5 5 9 4 3 9 9 7 7 1 7] [1 0 3 5 4 3 9 5 0 6 7 6 1 9 0 8 7 8 3 3 6 1 2 7 0 2 1 7 1 0 5 3 9 5 8 0  2 5 4 8 5 4 8 6 7 7 9 2 9 0 1 5 2 8 4 9 3 5 7 2 5 9 7 9 2 3 8 6 8 0 0 0  0 2 0 0 4 2 9 9 1 4 2 1 5 9 0 7 1 2 2 5 1 1 9 1 6 2 8 8 1 9 6 8 9 8 9 7  9 0 9 7 4 7 7 0 7 6 1 1 2 0 8 5 4 3 9 2 3 9 9 8 2 4 3 2 1 8 3 1 5 4 6 3  0 2 1 6 0 8 8 3 2 7 8 7 8 4 1 9 1 8 6 5 5 8 4 6 0 0 8 3 9 3 7 4 1 5 5 1  4 3 4 0 6 1 6 5 3 6 1 8 4 3 0 2 7 2 7 4] [8 5 4 8 1 4 8 1 7 9 4 1 3 2 9 7 7 7 2 6 5 6 8 2 6 4 1 7 2 6 7 6 0 8 8 0  9 2 1 3 8 7 7 3 0 5 5 9 1 5 8 7 5 7 7 4 1 4 8 5 6 4 1 3 6 3 4 6 7 3 8 0  9 4 5 0 1 0 1 0 5 7 4 5 5 7 9 5 9 0 4 5 9 4 2 4 3 1 8 6 8 9 9 2 7 5 7 9  8 7 0 3 9 5 0 6 6 7 4 3 2 7 6 6 7 6 3 3 5 9 8 8 0 6 1 0 5 7 8 1 4 3 9 0  4 8 8 0 1 3 2 0 1 7 9 0 4 4 2 8 5 0 5 9 4 5 0 6 2 9 2 5 2 0 6 2 8 3 9 7  2 1 4 0 3 2 5 1 1 6 9 7 5 0 9 1 4 4 1 7] [6 1 4 2 4 9 5 5 1 4 2 4 6 7 7 2 1 9 1 7 9 4 7 3 8 6 8 8 6 7 0 0 0 4 3 8  7 3 2 7 1 9 9 2 4 1 6 2 8 3 3 2 9 0 6 0 6 4 5 2 1 8 9 2 4 7 9 6 4 3 5 2  5 5 7 8 2 2 7 4 0 3 9 6 7 3 2 4 7 5 9 4 8 0 8 8 7 8 6 2 5 4 4 9 7 3 1 4  2 4 2 2 5 7 4 6 3 3 5 5 0 8 7 6 5 3 3 4 9 7 6 9 2 3 4 3 4 7 8 0 9 1 6 1  7 6 3 4 7 5 2 0 2 3 9 6 0 4 1 8 1 0 8 3 5 7 2 2 4 1 6 5 1 5 4 1 2 9 8 6  5 1 4 6 9 5 9 0 4 3 9 4 5 9 3 8 6 5 6 0] [9 3 5 6 1 1 9 1 2 9 7 0 1 6 3 1 2 1 2 0 4 1 5 9 1 5 9 7 0 8 2 2 7 7 1 4  7 2 5 2 2 2 3 5 1 8 7 5 9 2 3 9 7 7 7 9 4 9 4 4 6 3 3 9 1 3 8 3 4 0 9 2  9 6 0 8 1 7 3 8 6 5 0 4 2 1 4 0 5 2 0 0 0 8 7 1 6 2 3 8 2 5 3 6 6 2 1 8  7 6 9 5 9 3 4 1 2 5 1 8 2 3 3 7 6 9 2 9 2 5 0 3 2 0 1 5 1 7 1 9 7 4 3 8  9 3 9 9 5 7 0 1 4 5 1 0 8 3 8 6 5 2 7 5 9 4 2 2 9 6 0 5 2 9 7 2 9 2 1 5  3 3 0 3 0 5 5 4 3 9 1 6 2 2 0 6 1 6 6 3] [6 2 8 5 4 7 2 9 7 9 3 3 0 8 9 4 4 7 4 3 1 5 2 8 9 7 8 0 4 7 9 6 5 3 0 6  1 2 6 8 5 8 0 2 3 0 4 5 3 6 8 2 7 7 2 4 5 1 9 2 4 0 8 9 9 0 1 4 0 0 8 4  0 4 7 9 6 8 1 7 6 9 7 6 7 3 9 7 5 8 2 5 8 1 3 4 9 6 9 6 7 0 7 3 6 0 8 1  9 9 6 0 4 3 0 0 0 8 1 8 4 5 3 0 3 7 8 2 3 9 2 0 7 5 3 9 3 9 6 2 9 6 8 9  2 3 6 3 8 5 5 9 2 7 7 0 0 0 4 4 0 6 9 5 2 2 9 2 5 7 5 3 0 6 4 7 9 1 6 6  4 2 1 0 4 5 6 1 3 9 6 7 4 8 1 2 7 3 2 0] [9 2 8 2 1 1 2 7 1 7 4 5 0 3 6 0 1 6 3 1 4 9 4 8 2 7 0 1 6 9 1 0 7 6 3 3  5 1 2 3 8 2 8 8 0 2 7 1 5 1 3 8 9 5 7 3 4 1 9 3 7 9 7 7 1 6 4 0 6 3 7 9  6 1 7 9 0 5 1 3 8 0 7 3 1 2 5 4 7 5 2 8 4 1 6 7 0 2 1 9 7 9 5 0 3 3 6 9  5 2 5 6 0 2 3 8 7 8 1 1 9 0 2 4 3 5 0 7 1 0 4 3 9 7 7 7 4 3 4 3 4 7 2 4  2 1 5 7 7 8 5 1 9 3 7 2 8 1 2 5 1 7 5 8 6 2 3 1 8 7 0 9 4 7 2 7 5 5 1 7  2 2 6 7 5 5 1 9 2 8 1 8 6 9 1 9 2 1 3 9] [9 1 1 7 1 7 0 6 0 5 6 7 1 2 0 5 9 8 4 4 3 2 8 3 5 3 6 9 0 7 0 2 2 0 8 9  9 5 7 1 9 6 6 8 1 1 7 1 7 6 3 8 2 7 3 7 5 1 2 6 3 7 8 5 2 1 2 8 3 6 7 0  9 7 8 0 0 1 6 3 7 2 2 9 3 6 0 6 4 3 8 7 4 0 4 3 2 6 1 3 6 3 3 7 7 9 8 3  6 5 8 4 9 9 2 4 0 9 9 5 5 1 4 9 3 2 3 4 6 1 9 5 5 9 7 6 5 9 8 6 7 0 7 1  8 8 6 0 5 1 4 1 0 8 5 4 2 4 3 3 1 2 6 5 6 7 0 3 9 2 2 2 7 3 3 2 0 3 9 5  7 7 8 3 1 5 3 9 4 6 4 6 6 6 0 5 7 3 2 3] [5 6 5 9 5 6 3 1 3 9 2 7 0 2 4 6 9 8 3 3 2 6 9 3 4 1 2 7 3 9 3 7 4 1 4 0  3 8 9 0 0 9 8 3 0 4 2 5 3 0 9 4 3 0 9 8 3 0 7 8 7 8 0 9 5 5 8 6 8 8 8 1  6 5 7 9 4 0 6 0 9 1 8 5 6 8 4 7 4 3 4 1 4 3 0 9 2 9 8 9 5 3 0 1 9 9 9 0  4 5 6 2 3 8 6 2 2 9 5 6 8 9 5 5 5 1 8 6 9 2 8 3 3 6 4 4 6 3 9 1 7 4 4 7  3 7 0 2 1 0 0 9 3 3 6 1 6 4 0 5 6 0 3 3 7 2 2 4 0 0 5 0 1 6 7 7 0 9 9 2  6 9 5 7 4 4 3 1 7 9 4 3 3 2 6 3 9 7 1 8] [2 8 3 0 5 0 4 4 6 4 3 4 2 1 1 5 8 0 9 9 6 1 7 1 8 1 2 4 2 6 0 3 4 2 6 7  2 9 1 9 4 7 2 7 9 6 2 8 5 3 8 3 9 4 6 7 4 0 1 5 4 6 6 4 0 1 8 4 1 5 7 9  1 1 8 9 2 9 7 9 2 0 3 2 7 3 1 7 9 6 2 1 7 6 7 6 1 9 5 6 1 2 6 3 4 4 5 4  7 7 5 4 7 9 5 1 0 3 1 5 5 0 0 0 6 6 7 6 0 8 1 2 7 2 5 7 5 3 0 4 3 3 8 5  7 3 4 2 6 5 6 1 0 1 0 3 0 1 6 2 1 9 5 7 5 3 7 8 2 3 9 5 3 2 1 6 4 3 6 1  5 7 3 4 4 9 8 0 7 7 5 4 4 1 5 2 4 7 8 8] [1 8 3 7 0 1 7 2 5 2 3 6 7 1 0 7 0 7 7 6 9 3 4 4 1 0 9 0 8 2 1 7 9 8 9 0  0 3 9 7 0 8 5 8 9 0 9 4 8 4 7 1 4 5 9 0 6 4 1 9 1 8 2 0 8 8 4 8 9 5 6 6  1 2 2 3 7 8 4 7 7 7 1 5 5 6 7 5 0 9 2 4 4 2 8 7 3 6 0 0 8 2 0 1 4 3 3 5  5 5 2 1 1 1 1 4 6 7 8 0 0 8 4 4 1 5 9 9 0 9 9 9 4 4 6 0 6 1 4 8 2 5 7 0  1 5 1 2 8 9 9 6 0 7 0 1 9 1 3 1 6 8 9 2 9 1 7 2 3 4 1 3 2 3 0 9 6 2 4 6  6 0 0 4 5 3 1 0 1 7 9 2 5 6 6 2 0 9 8 4] [6 8 1 9 9 2 9 3 7 1 2 7 0 4 2 0 1 0 8 5 6 6 7 3 5 1 5 1 2 1 0 9 3 7 8 7  0 6 2 7 3 6 2 8 5 1 3 4 2 8 9 2 3 9 5 7 7 9 4 3 4 8 5 4 3 1 5 3 2 1 5 8  4 0 4 5 0 6 7 8 9 9 1 4 7 1 6 9 4 0 7 2 6 8 3 8 7 9 8 8 9 9 7 7 2 2 9 6  2 1 3 0 5 2 6 7 6 9 5 5 8 3 2 3 3 8 6 1 3 6 3 6 5 1 0 1 4 8 2 7 7 9 5 1  4 2 3 5 6 4 7 5 2 5 5 0 1 5 7 1 9 8 7 9 3 5 8 4 1 1 4 5 4 3 4 5 4 8 1 4  9 6 8 5 9 1 4 8 3 0 8 9 3 3 9 6 8 9 8 3] [3 0 6 2 1 9 9 4 8 6 2 3 0 9 9 1 7 9 1 2 5 5 9 7 6 8 7 6 9 7 9 2 6 0 9 7  2 2 2 9 8 6 0 5 1 1 8 3 7 6 0 1 6 5 6 5 7 4 4 0 0 6 5 3 0 5 2 2 8 1 0 5  3 5 0 1 3 5 1 9 8 6 4 1 9 5 7 5 6 9 9 0 2 8 4 4 6 9 8 6 3 9 9 9 1 0 0 7  4 4 0 4 1 0 2 4 6 2 1 3 2 6 3 8 2 3 6 6 7 6 1 4 5 3 6 1 6 6 2 2 2 4 3 1  9 5 2 0 8 3 9 6 9 0 3 0 7 9 7 9 6 5 4 0 4 0 8 7 5 3 8 0 8 9 1 0 7 2 7 2  2 5 6 3 0 5 6 4 0 3 3 6 4 3 3 7 9 7 3 8] [0 8 6 5 3 6 4 6 1 2 7 4 1 8 6 9 7 5 4 9 8 4 9 4 3 1 3 6 7 1 1 8 5 8 4 2  3 9 1 2 4 8 6 8 9 3 6 6 0 9 2 6 5 8 7 0 6 4 5 3 7 7 7 1 3 8 3 2 9 7 1 0  0 8 7 5 5 8 3 8 0 9 3 6 3 5 9 4 6 7 5 8 4 0 2 9 6 8 1 4 3 7 8 0 1 1 3 5  0 5 5 0 3 7 8 7 5 4 8 0 5 0 1 5 9 4 8 0 1 5 3 9 7 1 2 1 3 5 4 0 4 0 2 0  0 5 2 1 6 2 4 4 4 1 8 2 9 1 5 3 7 5 8 6 3 4 6 4 6 9 2 9 0 6 0 1 2 9 9 1  5 9 1 9 7 7 3 8 2 9 7 9 2 5 3 3 4 1 3 9] [1 9 5 2 5 5 4 1 4 3 5 3 1 4 6 5 7 5 0 0 2 0 4 1 9 3 3 5 2 9 1 0 7 7 8 9  5 8 6 4 3 3 0 3 5 1 7 4 2 5 4 6 5 0 0 5 5 6 5 2 8 8 7 5 8 3 3 2 0 9 4 1  2 5 3 8 4 6 4 8 2 0 2 9 3 4 7 4 1 5 8 0 6 5 4 8 9 3 9 6 7 7 5 7 6 0 5 0  9 6 3 1 5 3 5 8 1 2 5 3 3 1 0 3 6 4 6 8 3 4 4 8 9 9 4 2 8 4 7 9 1 8 3 0  3 2 4 6 9 9 1 6 6 4 4 6 6 6 5 8 8 2 8 8 1 1 8 7 7 9 0 2 8 6 1 2 3 3 4 0  7 1 6 4 1 3 9 9 0 4 3 1 6 8 8 2 8 4 9 3] [0 9 6 8 6 9 3 6 4 3 8 0 6 6 6 3 5 3 7 1 3 0 5 5 1 9 2 4 6 6 9 3 7 5 2 2  3 4 1 2 3 0 2 2 3 6 8 3 3 0 2 4 4 6 4 2 1 6 1 7 4 0 5 4 1 3 8 6 2 8 5 0  3 9 4 8 2 0 5 6 1 2 8 1 7 9 8 8 4 5 4 6 4 6 8 1 5 7 5 3 6 3 7 2 6 5 1 6  9 4 0 8 9 4 9 7 5 5 8 7 6 9 4 7 3 1 9 4 7 6 9 5 3 3 1 5 4 9 5 3 9 3 0 3  4 3 4 8 7 0 2 6 2 1 0 5 8 0 3 8 8 2 5 8 5 0 9 8 7 7 3 2 7 3 1 9 4 7 9 8  0 3 4 6 4 5 0 2 9 5 2 6 7 2 2 9 2 0 3 3] [7 0 6 2 9 2 0 4 8 3 2 7 3 9 9 5 5 6 6 6 7 2 5 1 9 4 0 6 5 5 9 9 5 6 4 9  9 6 5 2 5 4 1 5 7 6 0 1 8 0 8 9 1 2 9 8 0 6 7 7 0 3 5 0 8 2 1 6 9 9 8 3  7 9 5 9 6 8 9 9 2 8 4 9 7 4 6 1 3 5 3 4 7 8 4 4 0 8 5 5 1 7 4 9 7 1 0 5  0 1 5 3 5 6 3 4 6 5 1 3 7 2 6 7 2 4 6 1 1 1 3 0 0 6 3 9 4 4 9 6 7 6 5 4  7 7 5 1 4 5 0 7 5 1 2 6 8 3 8 2 7 8 3 8 2 6 5 2 7 0 5 2 1 7 8 9 8 9 2 7  3 4 6 8 2 7 0 9 3 0 2 8 5 2 7 5 8 8 6 7] [5 6 6 2 3 3 1 1 1 9 8 8 1 9 3 0 7 3 3 1 2 9 4 5 3 0 4 1 0 0 9 8 8 9 8 7  9 6 6 3 5 5 2 5 1 3 2 8 2 1 4 8 6 3 4 3 9 3 6 4 9 4 0 6 6 1 0 2 6 2 0 7  6 3 9 0 4 2 4 2 8 8 4 3 2 9 5 2 1 4 9 5 9 8 2 7 1 5 8 7 9 6 2 4 1 7 6 9  3 8 2 7 7 8 8 5 1 9 2 9 3 2 8 7 3 9 6 0 7 8 1 8 9 6 5 4 4 2 8 7 2 5 6 8  5 7 4 5 3 2 2 8 2 7 6 7 0 8 6 4 5 1 9 4 8 9 6 6 4 0 7 5 8 1 5 3 8 8 2 5  1 2 5 2 8 0 1 9 2 0 1 4 1 1 8 2 8 4 8 0] [9 1 0 8 2 2 1 8 9 4 4 9 9 1 1 0 0 0 3 2 7 6 0 6 3 5 1 6 9 5 0 8 7 1 3 9  6 0 1 8 7 2 5 6 9 6 8 7 0 7 4 0 5 5 8 1 6 0 6 9 9 0 1 8 5 1 4 0 6 7 3 8  5 5 6 2 7 8 8 8 7 2 5 5 5 9 2 4 5 8 2 2 2 1 6 5 2 5 1 0 0 5 3 8 7 9 3 8  8 9 7 6 3 6 0 9 9 2 4 7 0 8 9 7 0 4 3 1 2 3 2 6 8 2 0 8 7 7 5 5 7 0 0 8  9 8 2 1 4 2 8 8 5 0 9 1 1 3 4 1 9 6 4 3 7 2 7 3 1 4 2 4 1 1 2 3 0 7 3 3  0 1 5 2 2 8 3 0 0 5 3 9 1 1 8 2 7 2 4 6] [7 4 2 6 5 4 9 5 3 8 2 9 4 7 7 7 7 9 3 4 3 3 8 6 3 6 0 3 3 4 4 6 0 2 7 9  9 7 3 6 8 7 4 1 0 1 6 4 9 6 3 2 5 7 9 6 9 5 6 6 7 0 3 3 9 8 5 7 0 1 1 2  7 3 7 9 6 1 7 6 8 6 4 5 6 4 1 2 6 0 0 7 5 5 1 3 1 3 8 0 9 2 5 3 1 8 4 0  9 5 4 2 0 7 7 5 2 9 0 4 6 5 1 3 1 3 5 8 4 6 3 8 0 3 3 4 6 2 8 3 1 6 4 0  5 3 2 4 8 8 7 9 0 7 5 0 3 3 0 9 3 3 7 8 1 5 9 9 0 3 7 7 1 5 3 0 8 7 8 5  7 8 5 9 9 3 4 7 9 1 6 0 8 7 9 3 6 2 5 0] [0 0 7 8 6 3 4 9 5 1 6 3 2 9 9 1 3 8 8 6 4 6 6 8 7 2 4 5 5 9 3 5 6 5 9 6  5 4 2 9 5 4 8 0 6 9 1 6 7 1 8 7 6 9 6 0 8 4 4 5 6 9 5 3 9 2 2 3 6 9 8 5  5 7 7 0 8 9 8 5 8 5 5 6 3 4 7 3 1 7 0 1 0 1 0 5 0 0 2 6 1 3 6 0 0 4 6 0  8 1 6 0 1 1 8 8 1 5 6 3 0 2 2 9 3 9 8 1 0 4 2 6 5 7 1 8 0 6 0 6 9 3 1 8  6 3 8 7 9 5 8 4 2 2 0 7 4 6 6 1 1 5 7 7 8 8 4 5 5 3 3 4 3 3 1 5 1 9 1 7  9 4 9 2 5 7 5 9 3 4 8 2 4 9 3 5 7 6 1 7] [6 5 6 9 3 9 6 8 6 1 3 9 1 5 2 5 1 6 0 7 6 4 1 9 5 4 3 8 7 2 9 4 2 1 1 3  9 8 6 5 1 8 5 0 5 6 6 4 7 8 2 6 7 8 0 2 2 3 5 2 7 7 0 0 4 3 5 1 8 7 9 2  9 1 3 5 8 3 6 7 2 9 5 0 8 3 9 6 3 1 5 6 1 3 8 9 3 7 2 6 3 4 1 7 8 0 6 5  6 5 2 0 3 0 0 6 6 6 5 6 2 9 1 6 4 1 1 3 1 9 5 6 1 4 2 4 8 1 4 2 0 8 0 7  5 2 8 7 4 9 7 2 6 5 1 4 7 7 5 4 1 3 4 5 7 4 9 5 5 2 0 3 8 8 3 1 4 9 3 2  3 8 3 2 7 6 6 5 7 0 2 2 8 0 8 6 5 6 8 1] [9 4 1 8 7 5 3 0 8 2 2 8 6 4 1 6 4 3 6 9 4 2 3 9 4 5 8 7 1 6 2 6 4 1 9 5  2 7 8 2 5 6 3 1 8 1 5 7 7 3 8 1 4 0 4 9 6 4 2 7 1 3 2 9 0 1 4 0 1 1 0 3  5 1 2 9 2 1 2 7 1 6 2 4 7 0 6 3 6 4 7 5 3 4 7 9 5 2 1 7 8 4 3 1 2 7 3 9  4 7 3 7 5 7 9 2 7 8 2 2 8 8 4 9 9 3 3 6 5 8 0 1 6 4 8 4 7 6 8 2 2 2 5 4  1 7 0 8 7 1 8 2 5 0 9 6 8 0 7 9 5 3 3 7 0 0 3 6 6 9 9 4 8 8 1 0 2 4 3 2  9 9 0 3 8 0 7 4 7 2 2 0 7 6 8 3 7 5 3 1] [6 0 9 0 1 6 4 3 0 9 6 9 1 0 5 5 9 4 2 5 6 2 2 4 3 9 7 1 3 0 1 7 1 8 0 0  5 3 1 7 7 4 1 1 9 2 3 4 8 4 5 5 8 6 3 5 6 9 3 1 9 3 6 6 0 5 3 4 2 6 3 8  2 3 3 8 8 6 3 8 5 4 8 6 6 9 1 9 2 0 5 9 7 5 2 0 8 8 8 4 3 0 0 2 8 0 2 6  8 4 2 9 0 2 1 4 4 5 2 8 6 9 5 1 4 6 9 6 2 7 2 7 1 7 7 3 0 9 2 7 0 9 9 0  4 9 7 7 6 8 9 8 1 8 8 5 6 9 1 1 2 2 5 1 9 4 8 5 7 1 8 4 6 5 8 0 3 9 1 3  3 4 1 2 7 3 0 3 9 5 5 8 8 8 8 2 7 3 1 3] [6 7 9 6 8 8 7 4 8 4 8 9 0 6 2 9 8 5 0 6 5 0 4 9 6 3 9 5 5 1 8 5 6 8 4 2  8 6 3 1 1 7 0 4 3 0 9 0 7 7 8 8 9 5 4 0 0 1 5 3 2 3 2 6 7 7 7 5 0 6 9 4  7 1 7 8 6 9 9 4 0 5 8 6 1 0 3 6 7 9 6 8 5 2 6 5 2 4 1 0 3 4 9 4 7 6 3 2  2 8 0 5 7 7 6 8 1 1 8 4 9 0 6 2 5 8 8 6 8 8 4 5 3 0 7 9 9 5 6 2 5 1 8 9  8 1 1 2 6 8 3 0 5 2 1 0 8 4 5 1 1 7 9 9 6 0 7 3 1 2 4 4 9 6 9 8 0 7 7 7  2 2 7 8 3 9 2 6 8 8 5 5 8 4 3 3 8 8 6 3] [9 0 9 2 3 5 4 4 9 0 7 7 7 8 3 3 4 6 3 9 6 4 2 6 5 6 1 0 5 3 4 8 2 0 5 7  7 8 1 8 5 8 7 4 1 6 1 3 7 2 2 9 2 7 6 9 3 5 5 6 2 0 6 2 0 2 0 4 7 9 2 5  6 1 9 2 6 8 9 1 8 0 4 8 9 0 8 7 0 4 8 1 2 6 5 9 4 6 6 6 1 4 7 1 4 1 6 2  9 9 8 7 2 3 0 6 7 4 3 1 8 6 7 8 4 5 9 2 4 4 9 2 0 3 6 3 4 8 4 2 0 3 1 9  7 6 3 1 4 6 1 9 1 4 1 8 2 3 2 4 9 9 0 5 6 6 5 8 0 9 9 7 3 9 0 5 2 5 6 6  2 2 8 0 9 6 1 3 2 0 4 2 7 2 4 8 0 0 8 6] [5 9 6 8 2 2 7 2 0 6 6 9 0 6 1 6 1 0 4 0 2 0 9 2 0 4 9 4 2 0 9 2 6 2 9 5  0 3 3 2 6 0 3 7 2 7 1 7 3 1 6 2 4 3 4 3 8 9 3 3 2 6 4 0 4 2 7 6 2 1 1 9  6 3 6 1 1 5 3 4 4 2 4 0 3 0 2 2 9 7 1 2 6 2 2 9 8 9 1 7 1 5 8 2 6 6 1 7  5 7 0 6 5 3 9 8 7 9 7 1 3 5 3 5 4 7 6 9 7 4 7 6 6 6 4 8 9 7 7 2 0 1 0 2  6 7 8 3 6 5 6 0 5 6 7 8 3 1 2 6 9 6 2 7 7 5 1 2 1 5 3 6 7 5 3 3 2 3 7 7  8 9 0 2 0 1 7 4 5 3 3 0 8 6 3 8 5 5 0 6] [2 4 3 4 1 9 7 5 4 7 3 4 3 2 2 5 6 1 3 2 2 8 1 1 2 4 6 8 6 8 8 0 7 4 8 1  0 8 1 9 8 2 3 9 5 8 3 9 8 6 5 8 2 6 1 6 2 3 3 9 5 9 7 5 8 7 9 3 1 5 7 3  7 6 1 7 3 9 0 4 8 0 4 2 4 6 1 9 2 6 5 4 2 8 0 4 3 0 4 8 9 5 8 6 8 1 2 0  2 5 9 7 0 8 7 4 5 1 1 7 6 9 2 2 4 6 3 7 1 4 4 8 7 2 8 1 5 7 4 7 7 2 7 1  0 5 4 5 3 6 5 0 5 2 5 1 7 6 7 2 8 8 0 3 7 9 6 2 7 3 4 5 0 1 9 5 9 5 0 5  7 8 4 3 9 5 9 3 4 9 1 5 1 9 2 6 7 1 8 5] [4 8 8 9 0 3 1 4 0 1 5 3 2 9 0 0 5 8 4 2 6 8 9 7 3 3 4 9 5 6 6 2 4 0 7 1  7 3 7 7 4 8 5 4 7 3 5 6 5 1 8 4 8 4 2 9 3 5 6 0 0 7 6 5 0 1 8 1 8 9 1 2  7 6 1 2 2 1 8 2 8 8 6 5 4 6 3 9 0 4 5 5 6 6 5 7 5 4 2 7 2 9 7 2 6 3 2 3  3 1 1 1 9 8 9 2 8 9 4 4 9 2 4 8 3 8 9 4 8 7 2 9 8 3 8 9 8 9 0 7 3 6 4 9  0 8 3 4 6 3 3 1 5 7 5 4 2 3 2 9 0 0 1 2 4 5 2 4 1 3 1 5 2 2 2 8 6 7 7 8  6 3 3 0 3 0 3 2 0 9 6 1 6 0 3 7 2 2 3 9] [2 9 5 1 6 3 5 1 2 3 5 1 9 4 9 2 2 3 4 1 3 2 4 3 4 7 7 5 0 4 5 4 1 4 6 1  2 5 0 3 3 8 5 2 2 2 5 0 2 1 7 7 2 0 6 0 9 2 4 8 3 0 3 5 2 9 9 2 2 5 0 8  6 8 8 7 0 6 3 4 2 2 5 0 4 3 5 0 9 4 5 6 3 6 6 9 7 4 2 5 9 5 5 8 2 6 3 4  1 2 8 3 9 6 8 5 1 9 0 8 1 2 5 5 7 1 1 4 3 9 8 5 1 5 7 5 9 2 7 9 6 7 8 5  7 5 7 0 5 6 6 1 1 9 4 2 6 7 3 6 6 8 2 3 0 0 6 9 1 3 5 2 1 3 2 3 1 6 7 6  2 8 3 9 2 1 0 1 0 6 2 7 5 4 0 5 4 0 5 6] [7 6 0 0 0 6 4 9 4 8 1 8 5 3 8 8 6 3 6 9 0 2 8 7 5 2 6 6 9 2 6 3 3 5 0 0  8 4 1 3 1 5 7 8 7 7 8 8 7 9 1 8 2 3 5 6 2 8 2 0 7 1 6 6 1 9 9 1 9 3 7 2  0 8 9 9 4 0 3 9 1 6 3 0 7 6 0 9 8 7 1 8 8 4 5 4 4 2 4 9 2 0 3 6 9 0 8 3  5 2 3 2 3 3 7 1 7 6 7 9 4 9 6 3 5 2 3 8 9 5 9 5 4 6 6 5 2 1 0 1 0 3 0 6  7 7 4 4 5 0 5 4 3 3 6 5 2 5 9 1 6 3 3 4 0 9 7 5 0 8 5 9 9 6 6 1 3 1 2 2  1 0 8 4 4 9 4 4 6 0 9 5 9 1 9 6 9 6 3 0] [1 5 4 8 9 5 0 3 5 1 7 2 6 7 7 0 6 6 8 4 2 7 4 0 1 0 6 6 4 6 7 6 5 1 3 9  6 7 0 9 4 1 7 1 3 1 6 2 9 4 0 4 8 3 8 9 4 0 3 5 2 0 4 6 3 2 1 9 9 3 8 2  2 4 8 6 5 4 5 9 4 4 3 8 2 4 9 1 0 8 4 6 9 2 2 8 7 2 6 6 0 8 8 3 8 6 3 6  6 1 2 5 2 7 0 9 9 2 9 8 4 6 2 2 0 8 9 9 6 6 1 9 8 1 9 0 1 1 0 7 1 3 7 3  8 9 0 8 2 6 3 2 5 4 7 7 7 2 0 7 5 9 5 5 8 4 6 5 9 5 6 3 3 8 5 7 8 2 3 9  4 2 8 8 0 8 8 6 7 4 4 4 6 1 5 1 3 2 6 1] [0 9 3 9 5 6 0 0 2 9 0 5 9 2 5 8 9 4 5 8 2 4 4 5 3 9 3 6 2 6 9 9 7 6 9 9  6 6 5 5 9 1 3 9 7 8 3 6 9 1 1 8 3 1 9 7 6 6 0 0 1 4 1 1 6 9 6 9 4 6 5 2  7 8 5 8 0 0 8 5 6 4 9 2 2 8 1 5 0 0 9 8 3 9 0 4 7 9 5 2 7 1 1 4 9 1 1 5  7 9 7 6 4 8 1 5 9 8 2 7 8 3 3 2 3 2 3 3 6 0 8 2 8 4 4 8 4 0 4 3 4 2 8 4  6 7 8 3 9 4 0 9 3 4 3 0 0 5 3 1 8 3 5 5 4 3 2 8 2 4 7 6 6 8 4 0 3 8 9 8  3 5 0 5 4 8 0 6 4 8 4 9 0 5 5 3 1 7 6 3] [8 4 0 5 3 8 9 5 4 8 5 3 4 5 6 9 6 8 3 9 5 4 3 8 9 3 6 6 9 7 0 1 3 5 1 5  6 8 8 7 2 3 9 7 4 6 5 9 1 5 0 3 1 0 9 7 8 0 8 1 9 1 9 2 8 2 1 3 2 5 6 0  0 6 3 2 4 0 8 2 9 1 3 3 1 8 4 2 6 3 5 3 6 9 2 8 8 0 0 9 3 3 2 3 7 8 4 3  1 7 6 3 7 3 4 6 8 6 1 1 4 0 7 1 5 7 4 0 8 4 6 7 2 6 7 9 0 0 2 6 8 7 6 4  4 6 3 4 9 0 7 7 2 7 2 6 1 0 6 1 4 3 9 1 4 4 3 2 4 4 8 4 0 9 7 2 4 5 4 0  9 2 1 9 4 1 5 8 7 4 8 2 0 6 5 4 4 6 2 7] [6 3 4 4 9 8 6 2 0 6 4 8 6 4 5 0 5 6 8 9 5 9 5 1 3 3 2 0 6 2 0 2 1 7 2 8  6 6 6 1 0 9 0 5 0 8 3 5 9 9 8 6 4 6 6 8 3 9 5 2 3 0 3 3 9 7 1 7 6 1 2 8  1 0 9 5 4 0 6 6 2 3 1 7 2 7 3 6 8 8 8 9 7 8 9 3 4 5 3 4 1 8 2 4 0 4 4 5  2 2 3 9 6 2 0 0 9 3 6 7 2 3 7 0 1 1 8 3 6 3 2 9 9 6 5 9 8 4 5 6 3 0 7 7  4 9 5 4 6 7 7 3 7 6 1 1 7 9 7 6 9 3 4 8 5 8 8 3 6 6 9 0 2 3 7 8 5 7 8 1  3 7 9 1 8 0 2 8 3 7 2 4 7 9 4 3 9 2 9 5] [3 0 6 4 5 5 1 0 3 4 3 3 0 7 6 5 8 5 5 1 2 9 7 0 4 0 4 5 3 0 4 9 6 3 7 2  1 9 2 1 6 1 2 8 1 7 5 3 4 3 6 0 0 0 8 3 6 0 7 1 9 2 1 5 5 3 0 2 1 7 9 1  1 1 4 1 6 8 4 8 5 7 0 2 8 7 7 5 8 4 3 2 0 2 1 4 2 5 9 0 0 6 6 8 9 4 0 7  4 2 3 2 9 7 3 9 4 8 8 1 8 1 9 1 7 9 9 0 3 0 7 0 5 0 3 8 6 7 5 6 7 1 7 7  9 7 0 2 7 4 8 7 7 9 7 4 1 1 8 7 3 8 2 5 8 1 5 1 3 5 4 2 5 0 1 1 5 2 3 6  4 0 0 1 2 4 1 2 6 9 0 4 2 8 2 1 7 7 0 9] [9 7 6 6 2 7 7 1 4 5 7 6 6 1 4 7 8 2 7 6 9 7 5 9 8 6 1 8 3 4 3 0 6 4 3 7  4 6 4 2 3 6 6 1 0 5 6 4 9 4 7 5 9 9 9 0 8 4 1 5 0 8 6 0 4 3 5 6 3 3 1 1  0 7 2 8 4 8 8 8 9 5 6 6 4 0 5 4 0 6 9 4 6 2 7 5 5 8 0 3 7 3 3 6 5 0 9 3  9 1 4 1 7 4 2 2 5 0 2 4 3 4 5 6 0 7 7 2 2 2 1 3 3 6 5 2 1 8 2 0 3 8 6 7  7 2 0 3 8 3 6 5 5 5 0 8 2 9 8 8 0 6 7 5 9 2 1 4 7 7 9 3 6 9 2 9 6 1 3 0  7 7 5 3 8 7 9 5 0 4 8 5 5 0 1 3 1 6 9 5] [8 8 3 4 9 8 1 0 3 7 6 1 2 4 5 9 0 4 2 1 9 6 0 4 2 1 3 5 5 5 5 3 4 1 6 8  4 1 0 6 9 2 1 3 1 1 8 6 0 1 2 9 3 5 5 8 9 4 3 9 5 6 5 0 5 6 9 0 7 1 2 9  2 2 1 0 8 8 3 5 8 4 5 4 5 4 0 0 2 4 1 9 8 0 8 6 1 8 3 1 4 9 0 1 1 1 8 0  5 9 7 3 1 5 6 2 7 7 8 5 6 8 1 5 2 9 5 8 7 7 4 5 3 2 5 6 2 3 8 8 1 4 8 3  4 6 1 3 1 8 6 1 0 5 9 0 7 1 1 8 6 8 7 0 5 4 2 5 2 4 8 4 3 1 4 7 0 4 1 3  5 2 4 6 2 8 4 4 2 1 4 6 0 2 7 2 3 8 9 2] [0 5 1 2 5 3 0 7 9 9 1 1 2 0 9 0 5 7 3 4 8 2 4 2 3 7 0 7 2 4 7 7 1 8 4 6  4 2 8 5 9 2 1 8 8 9 9 0 0 8 5 4 5 8 1 9 7 9 6 0 5 4 6 1 7 1 3 6 7 3 5 4  0 3 1 1 6 5 5 4 2 9 4 9 7 2 0 9 7 9 1 5 3 2 6 6 6 0 7 2 0 2 4 8 9 8 2 9  7 2 9 7 8 2 4 3 3 3 8 6 3 1 3 0 5 0 2 7 5 4 8 4 9 0 4 4 3 9 8 8 7 0 6 1  0 7 9 8 5 1 5 4 1 4 1 4 9 8 6 8 7 9 5 0 3 3 9 3 4 4 3 0 6 7 0 2 2 6 4 4  1 6 1 2 3 8 1 7 1 2 3 2 0 0 2 9 6 7 7 9] [9 2 3 1 2 4 2 9 8 5 2 2 5 3 5 7 7 8 2 3 2 4 9 8 6 1 0 7 3 4 4 0 6 0 9 3  8 9 2 5 6 1 6 4 4 6 1 1 8 9 0 5 3 8 5 3 6 5 4 4 2 0 2 0 4 1 8 9 0 5 6 1  6 9 7 9 1 5 4 5 7 4 2 4 1 3 6 9 2 0 9 6 3 6 7 1 6 7 2 0 4 4 5 1 4 2 0 5  6 0 7 3 3 3 5 6 7 7 7 8 2 5 7 3 0 1 6 4 6 8 5 5 4 4 6 8 4 6 5 4 0 8 8 3  8 5 9 4 4 4 3 0 7 1 1 4 6 6 6 4 3 2 4 8 5 6 7 8 8 1 5 2 8 6 2 6 7 4 0 8  2 4 0 7 8 7 5 5 6 1 1 9 6 8 9 9 5 6 9 6] [0 4 8 0 2 5 6 6 2 1 0 1 3 7 9 0 7 7 1 3 9 6 2 9 1 9 2 7 9 7 8 2 0 4 8 5  4 0 0 8 8 7 7 8 3 0 6 2 2 4 2 2 2 8 6 2 2 6 0 3 2 9 6 1 5 3 5 7 6 9 5 1  9 8 9 6 7 0 4 0 1 7 9 0 2 4 3 2 8 4 5 7 3 3 1 1 0 3 0 4 9 7 8 3 6 7 0 8  5 2 9 9 7 5 8 1 4 3 4 7 5 6 5 6 2 4 2 3 9 1 6 2 5 2 9 9 1 5 7 4 5 1 4 0  2 5 6 7 1 0 7 7 0 4 7 7 3 3 6 0 8 4 0 8 0 5 2 2 6 9 2 8 5 6 2 9 2 4 5 5  4 7 8 9 6 4 6 1 1 1 2 5 4 4 8 8 5 1 8 0] [1 9 3 1 9 0 2 7 2 6 2 6 1 0 6 6 0 0 2 9 1 7 2 9 9 3 9 4 6 3 6 3 3 4 6 4  9 7 8 9 9 3 5 4 3 2 8 0 5 0 7 7 4 2 2 6 9 8 8 0 4 3 0 6 0 7 3 8 9 2 9 4  3 3 7 4 7 8 2 3 2 8 0 9 8 8 7 3 3 4 2 1 8 5 9 1 7 8 0 0 7 7 7 2 2 3 1 4  5 7 7 3 9 2 9 8 0 0 3 8 8 7 1 4 7 9 0 6 0 2 7 9 3 2 2 0 4 3 2 6 8 9 2 3  5 9 2 0 5 1 3 1 5 5 5 3 9 8 2 5 8 3 8 9 1 4 4 0 5 2 1 4 2 5 4 0 0 9 6 0  7 6 7 2 2 0 9 2 4 6 0 0 1 5 5 6 2 2 0 7] [3 5 1 7 5 2 0 9 3 5 4 2 7 5 5 6 6 2 2 8 7 0 0 7 3 2 4 1 0 9 1 6 9 0 4 1  2 2 1 1 2 7 4 6 0 3 9 4 2 6 4 8 1 4 7 6 9 3 7 6 8 3 2 2 2 3 5 8 3 3 6 7  4 3 8 6 6 4 4 0 8 7 4 4 4 0 0 2 7 3 9 7 0 7 7 6 4 3 1 1 6 9 6 8 7 0 4 4  8 2 5 0 1 1 1 5 3 8 7 5 1 1 5 0 1 4 6 7 8 8 8 6 7 0 8 1 2 9 9 6 5 6 6 2  5 2 1 3 2 8 7 0 3 9 0 5 7 8 8 7 9 8 3 6 2 6 0 7 5 9 2 0 6 5 4 5 1 0 7 6  7 7 7 9 1 6 4 5 8 7 5 7 2 7 6 1 8 4 6 3] [1 0 6 9 0 1 1 8 6 4 9 1 2 7 1 5 2 9 2 6 9 6 4 6 7 8 1 4 0 8 0 1 6 6 3 3  9 8 7 5 6 9 6 8 9 8 4 3 8 2 0 9 8 3 8 3 5 4 7 9 7 4 6 5 7 5 1 8 4 4 1 4  7 8 1 6 1 4 3 5 5 1 5 3 0 6 8 9 3 2 4 5 7 0 0 6 9 6 7 9 4 7 5 1 3 0 7 9  7 5 9 8 4 7 4 2 1 8 0 1 5 3 6 5 5 0 6 0 1 3 3 5 9 4 2 9 6 2 7 3 2 9 6 9  3 9 8 2 2 9 2 4 1 3 0 8 1 8 0 4 1 7 2 9 0 5 8 9 5 1 3 4 4 7 3 7 4 7 3 4  8 8 7 3 7 7 3 9 5 0 8 0 6 1 0 2 6 8 1 4] [4 3 3 9 0 9 4 8 8 9 3 2 6 6 4 1 2 3 7 3 6 6 5 4 0 8 9 5 5 0 0 2 1 3 8 7  5 7 0 0 6 3 6 2 6 1 5 8 1 1 4 8 0 5 7 0 8 8 8 6 2 8 0 5 2 5 1 4 8 2 8 5  3 7 6 7 1 3 7 3 9 3 6 4 0 2 1 3 2 6 0 4 2 7 2 4 7 4 7 2 9 3 9 3 8 4 3 1  2 6 5 3 9 9 9 5 5 2 4 4 4 1 4 8 4 3 0 4 0 3 6 9 5 6 7 6 7 8 0 3 2 6 9 9  3 5 1 5 9 5 4 3 1 7 8 4 6 2 3 1 5 6 1 6 2 6 6 7 7 2 2 4 2 2 1 6 1 7 4 3  8 6 7 8 0 7 0 5 9 3 6 9 0 9 1 3 5 8 4 3] [3 2 8 7 8 3 7 1 8 5 0 2 0 9 9 0 6 7 0 9 4 3 1 2 5 5 1 0 7 2 4 4 1 9 7 8  2 1 6 4 1 9 3 0 6 6 5 0 6 4 3 5 3 3 4 8 6 0 7 0 9 0 2 7 6 4 9 5 4 5 2 0  8 6 3 9 1 1 8 8 9 9 8 6 7 9 8 8 7 5 0 4 1 3 5 3 7 8 5 4 4 3 7 6 6 2 9 1  5 6 5 5 1 7 9 9 3 4 3 5 5 8 4 1 1 9 3 0 6 7 8 2 7 8 7 6 6 2 9 2 5 3 8 0  5 9 0 7 9 1 1 7 7 5 9 3 4 1 9 2 1 5 5 2 7 8 4 2 9 8 3 9 2 2 0 1 2 7 9 0  5 6 6 3 8 8 2 8 9 5 3 8 2 5 7 3 9 3 7 6] [0 3 3 4 4 5 5 3 9 2 3 1 4 0 6 2 5 2 2 8 3 2 0 8 8 2 1 5 7 0 4 4 9 4 5 2  8 5 8 7 8 6 6 5 9 1 9 7 4 9 2 4 7 6 7 4 9 4 5 2 8 9 1 2 4 6 4 6 9 1 3 1  2 5 3 3 8 5 3 4 0 8 7 6 7 5 1 5 6 9 9 6 5 5 1 2 4 9 5 6 3 8 7 9 8 3 2 2  6 6 1 5 5 4 2 8 7 4 4 1 0 8 9 0 0 7 5 8 4 1 6 0 1 7 8 6 2 2 0 6 0 8 4 9  3 3 3 9 3 7 8 2 8 8 3 1 0 9 2 7 3 3 3 6 8 1 6 2 8 6 1 9 8 5 2 0 4 2 4 2  9 6 6 7 3 9 1 7 6 6 4 5 9 6 6 0 7 0 3 2] [4 8 4 1 6 2 8 0 4 2 7 3 1 5 1 0 5 4 4 5 1 1 5 2 7 2 5 8 1 7 8 6 0 0 4 4  4 9 7 3 4 9 0 6 8 4 4 4 6 6 1 9 3 4 9 9 5 6 3 6 1 8 4 2 2 9 7 8 5 6 1 4  4 1 1 7 0 1 8 6 4 3 4 5 0 1 2 9 9 4 6 8 6 6 8 5 1 3 5 1 8 7 5 8 9 1 5 7  8 5 3 6 7 7 5 2 1 8 8 0 4 9 0 3 0 8 0 5 1 9 3 2 6 8 1 4 6 2 2 5 2 7 4 7  9 2 2 0 7 5 7 2 8 1 1 6 4 8 5 5 4 0 5 6 9 8 2 4 3 0 6 5 8 3 6 5 8 3 9 1  9 3 9 7 2 5 8 6 0 1 7 1 6 5 3 4 2 5 2 8] [5 9 9 7 7 3 6 1 1 7 5 5 9 1 4 3 1 3 1 0 0 2 1 3 4 2 0 7 2 8 1 9 6 3 9 8  2 8 8 8 1 5 1 6 9 7 6 1 9 3 4 0 2 4 7 9 0 8 8 5 7 1 7 9 5 4 2 5 0 7 5 3  7 0 2 6 1 0 3 4 9 6 7 5 5 6 8 4 9 2 9 8 6 1 7 8 4 7 8 3 5 6 4 0 3 2 3 4  8 9 4 5 4 0 3 8 1 8 0 0 5 0 2 3 1 4 2 0 7 1 4 2 8 2 9 2 9 9 9 3 4 9 2 1  6 1 0 1 5 0 6 4 8 9 3 3 7 4 1 4 3 4 5 0 9 0 1 6 0 0 0 9 6 9 6 4 9 4 1 3  5 5 6 6 2 6 9 5 5 1 4 8 4 0 5 3 0 5 7 3] [2 9 4 1 8 8 2 3 8 1 3 5 3 7 2 0 6 7 4 9 0 5 2 2 1 1 4 8 2 2 0 0 5 7 2 6  9 2 2 2 6 8 7 1 3 0 2 8 3 5 7 1 0 1 8 3 7 9 7 1 4 2 9 1 9 6 9 4 3 6 4 1  6 1 0 1 6 1 3 1 1 8 1 5 0 5 2 8 8 1 7 5 8 8 4 2 6 5 5 5 3 8 7 0 3 5 1 4  9 9 0 8 4 6 4 9 5 5 1 4 3 7 1 3 5 2 1 5 9 6 2 1 6 7 2 9 4 5 5 0 3 4 9 4  1 7 9 2 3 7 0 6 0 9 6 8 9 3 7 0 2 3 0 1 1 0 9 0 1 6 2 0 2 7 9 3 5 3 2 4  2 0 5 1 4 1 5 0 8 0 9 5 3 9 1 3 9 5 6 4] [4 6 2 0 9 9 3 3 1 0 4 8 4 7 3 4 0 9 6 2 0 2 5 5 7 9 1 1 2 6 5 5 0 0 2 5  1 0 0 8 9 9 8 8 2 4 4 5 8 9 7 7 4 7 3 2 5 5 2 4 3 9 6 2 7 9 5 3 5 7 3 7  9 2 2 6 4 5 2 4 0 9 5 3 2 2 1 3 0 9 1 4 2 3 6 9 3 9 7 6 9 3 6 9 3 7 8 3  2 6 6 6 5 4 6 3 3 4 0 3 5 1 4 4 7 5 3 0 9 1 6 3 1 0 0 4 8 8 3 7 8 9 2 7  2 1 7 6 9 2 5 9 0 6 1 3 6 4 8 5 0 6 0 5 2 3 7 8 2 0 3 8 5 5 7 6 3 5 7 4  4 5 3 1 5 1 4 9 6 1 0 8 3 7 8 1 6 5 0 3] [0 5 0 8 5 9 6 1 7 8 9 7 9 9 4 6 3 6 4 2 0 3 8 6 1 7 2 8 7 7 4 4 9 6 2 7  6 6 0 1 3 5 5 0 3 8 6 2 2 0 7 5 3 1 2 2 9 2 7 0 0 7 7 6 5 5 1 4 3 0 4 5  7 6 7 2 9 1 8 7 7 0 6 9 0 0 6 0 3 0 7 1 5 9 2 4 0 3 4 9 7 7 9 1 8 7 0 1  7 8 2 9 8 8 1 1 4 2 0 3 2 9 3 4 1 9 2 7 5 4 0 0 0 2 1 1 2 1 8 2 5 4 7 9  5 2 6 1 3 9 1 5 9 6 7 8 5 1 3 1 3 5 4 4 0 5 0 7 2 3 1 0 8 6 5 2 2 7 2 7  0 0 5 4 3 9 3 9 9 2 5 6 4 1 1 3 8 1 3 1] [5 7 6 9 8 9 2 1 2 1 1 7 5 6 9 3 1 6 6 5 3 8 9 0 3 9 1 4 5 7 1 6 8 5 5 7  6 2 0 8 1 1 4 4 8 8 7 2 6 7 1 9 2 7 3 5 2 7 5 1 4 7 9 9 1 7 5 8 3 2 6 5  1 6 9 6 1 5 8 3 0 8 3 6 5 6 4 4 4 2 5 2 6 6 3 1 3 2 4 0 4 5 1 2 3 6 0 2  5 7 2 7 1 6 8 8 9 1 6 1 5 0 6 8 2 5 1 9 7 1 9 4 5 9 5 3 8 6 9 1 0 2 8 7  0 4 3 6 2 9 0 9 6 3 9 5 2 2 3 1 7 5 2 1 5 9 5 8 4 1 4 7 2 1 0 5 8 2 5 3  3 4 6 8 6 2 9 3 9 9 9 1 6 5 0 8 8 8 5 3] [3 7 9 6 4 4 3 3 1 6 7 2 6 8 4 7 4 5 5 1 1 3 3 0 3 0 2 5 7 1 4 8 7 3 2 6  4 6 0 6 6 6 5 7 6 2 0 9 2 7 5 0 7 4 1 2 7 6 3 8 3 7 1 4 0 4 1 4 4 2 5 6  6 2 8 4 0 2 9 8 5 4 6 4 4 1 1 7 6 4 9 7 0 0 1 7 5 1 9 6 4 5 7 0 6 8 2 0  5 9 1 2 1 9 9 1 9 1 7 4 8 5 5 1 2 0 1 3 9 9 5 7 8 3 9 2 4 4 6 8 4 3 3 2  3 4 8 3 0 7 3 3 6 1 3 2 6 1 6 4 6 3 4 7 2 0 1 3 5 1 3 2 2 5 5 6 7 6 5 4  5 3 9 3 1 2 8 4 2 1 2 4 6 9 2 6 2 8 7 2] [8 7 6 2 9 7 1 0 2 7 7 0 3 0 7 7 6 9 1 8 7 4 4 5 6 7 5 8 9 5 0 9 6 2 7 6  3 2 9 2 5 9 6 6 6 0 1 3 0 7 9 6 5 8 9 3 3 3 4 5 4 6 2 7 4 8 6 7 5 4 6 6  0 6 4 3 6 1 2 0 7 2 0 5 8 5 0 8 8 4 5 8 9 3 6 0 2 1 7 6 9 3 8 6 6 4 2 2  7 3 4 6 4 1 5 0 8 7 7 3 9 7 1 1 3 9 0 6 5 8 8 7 8 7 3 9 0 2 0 4 9 2 0 9  4 2 5 2 4 8 2 3 2 6 8 9 0 3 4 2 9 6 5 1 8 6 8 5 5 2 7 8 1 1 2 4 4 0 9 8  2 0 5 7 8 8 9 6 6 0 0 8 2 0 1 7 8 0 0 3] [4 8 4 2 7 6 7 4 9 5 5 5 8 5 8 0 4 5 4 2 9 4 3 2 6 9 6 4 9 8 0 0 4 1 1 4  4 7 9 1 2 4 4 0 2 3 7 7 3 4 4 2 6 7 1 7 8 4 3 3 0 5 4 7 8 9 6 0 5 2 2 8  6 1 2 2 1 6 8 0 2 6 6 9 0 9 2 0 7 1 9 0 4 1 4 9 1 9 2 6 1 0 0 5 4 1 4 0  7 9 2 9 3 0 7 9 6 4 5 3 0 2 2 9 4 5 4 4 7 7 4 3 2 4 8 5 4 5 5 6 1 7 0 8  2 1 6 8 2 6 6 8 1 8 4 3 2 8 6 1 4 7 7 3 5 6 1 0 1 5 8 5 9 6 6 6 0 3 6 7  8 0 1 2 7 2 9 8 9 6 3 6 5 9 6 5 5 1 2 7] [2 6 9 9 9 6 3 5 9 4 5 5 6 9 7 2 9 7 0 0 2 7 6 3 4 4 3 2 7 6 7 3 8 5 9 5  5 7 1 4 7 3 4 8 6 5 4 0 4 3 9 8 4 6 4 8 1 0 1 0 6 9 8 4 2 3 1 7 3 6 4 8  1 1 1 4 3 7 7 8 2 6 8 5 5 2 5 2 8 3 4 9 1 5 7 7 2 8 2 8 4 6 5 3 8 2 0 9  4 3 7 1 5 1 8 2 2 5 3 7 5 4 4 5 1 0 8 9 0 5 0 2 3 0 9 3 9 5 7 0 0 0 6 2  3 3 8 4 1 2 0 1 4 1 7 6 4 8 2 1 5 5 3 7 9 0 0 7 4 9 6 3 2 9 6 4 6 8 8 4  9 6 6 1 9 3 7 5 1 9 8 4 6 4 5 2 9 5 6 8] [7 8 6 4 4 9 2 1 9 7 6 0 3 8 0 5 3 1 5 7 9 8 8 7 3 3 9 8 7 6 9 6 3 2 6 5  5 7 7 0 5 4 6 8 4 1 3 8 0 8 8 8 2 3 6 0 7 3 1 3 8 7 7 1 1 4 2 4 5 0 8 5  6 7 8 8 8 8 0 4 8 6 9 2 3 7 0 4 4 6 6 6 9 0 2 4 2 9 9 9 3 5 5 1 2 7 4 7  1 4 9 0 3 4 6 7 7 7 4 5 3 3 5 5 1 5 9 9 4 6 8 4 9 3 4 9 3 7 3 6 2 1 5 2  4 5 5 1 8 1 2 2 5 7 2 0 3 1 8 4 6 7 5 8 7 3 4 5 4 1 1 7 8 1 5 3 1 6 9 4  8 5 7 1 7 9 5 2 9 5 3 6 9 2 4 1 0 0 8 5] [2 0 5 9 4 7 3 1 7 8 3 0 8 7 5 3 1 9 5 5 3 4 4 2 2 7 4 5 9 6 9 2 9 3 7 0  3 4 5 5 2 8 5 0 0 8 7 2 5 5 3 1 2 1 3 2 1 7 5 5 8 9 5 3 9 2 5 4 7 5 9 5  9 1 8 2 7 0 5 9 0 7 3 8 1 6 8 1 4 3 0 0 7 1 1 1 3 8 1 0 5 2 9 6 7 1 8 2  4 6 9 9 1 2 9 7 2 6 6 5 3 4 2 2 7 4 6 4 9 3 9 5 5 9 6 3 4 0 4 8 5 2 0 9  5 9 5 0 0 9 9 5 9 4 1 0 4 8 7 6 9 6 5 4 1 1 2 8 9 0 2 4 0 5 3 9 2 5 2 4  5 7 6 8 3 7 5 2 3 5 7 0 7 2 8 8 7 3 6 0] [7 6 7 3 9 4 5 9 5 6 7 3 1 4 5 0 5 6 5 6 6 1 5 1 2 4 0 6 8 1 4 9 3 6 9 9  9 9 2 3 6 5 0 1 7 8 6 0 0 9 9 2 9 4 6 2 1 2 6 5 4 9 7 1 0 3 6 4 0 7 5 1  0 7 8 4 8 0 8 2 7 5 2 6 7 2 1 9 5 0 7 4 4 5 4 8 0 7 1 2 9 2 7 8 5 1 6 4  5 8 9 3 8 0 1 8 0 6 6 2 5 8 1 7 3 3 6 9 1 8 1 9 5 4 1 9 5 7 0 6 9 6 3 1  9 5 9 6 7 5 7 5 4 7 0 4 3 7 0 9 5 9 7 8 5 0 5 9 1 1 7 1 8 7 0 8 3 8 6 9  6 6 0 6 0 6 8 9 3 4 4 8 3 4 3 7 1 6 5 8] [2 5 8 9 3 1 7 3 4 7 7 8 2 0 7 5 4 2 8 6 4 2 0 7 1 2 0 5 1 7 9 0 1 3 0 9  1 9 9 2 0 7 7 9 0 0 4 9 5 8 6 9 2 8 1 0 6 1 4 9 9 7 2 8 7 2 4 3 5 7 7 1  4 7 1 3 9 1 8 8 6 7 2 0 0 4 0 7 2 9 8 6 1 9 2 5 6 7 1 1 2 2 4 1 8 0 9 7  2 5 3 2 3 1 9 0 1 9 7 4 0 8 5 4 6 6 0 0 4 7 1 9 4 3 1 8 2 3 2 2 1 7 3 4  7 5 5 4 8 8 1 7 5 2 8 5 5 8 0 3 0 7 0 7 9 7 6 6 5 6 5 3 1 0 6 8 7 5 4 6  4 8 1 0 3 7 3 9 3 6 7 1 7 8 3 8 9 2 1 8] [5 2 9 7 8 4 3 4 5 7 7 5 0 2 3 4 6 1 2 5 9 1 0 8 7 4 4 2 2 4 1 5 7 5 6 4  5 2 2 5 8 6 2 6 9 0 2 1 6 1 0 0 8 8 4 4 6 4 6 9 4 6 5 1 1 2 6 6 8 1 6 2  3 5 9 9 8 3 0 6 2 1 4 7 1 0 1 7 4 5 5 1 6 6 2 9 2 2 9 9 9 0 0 4 4 1 2 8  2 8 2 4 5 9 0 0 7 7 2 9 9 0 4 8 9 3 6 0 3 6 9 0 6 8 8 7 9 7 1 0 6 1 0 0  2 7 7 6 6 5 6 4 9 2 6 2 6 9 8 6 4 5 8 9 0 6 7 3 1 4 0 8 4 7 1 9 7 6 0 6  2 1 0 2 7 3 6 7 2 4 0 5 5 8 2 3 7 2 3 5] [6 6 7 5 2 1 5 7 8 3 6 1 2 1 6 6 2 1 3 8 1 7 4 1 3 3 6 6 5 1 7 1 6 2 2 7  6 0 9 7 3 0 7 5 2 5 6 8 5 8 5 0 3 5 4 5 6 9 5 9 7 9 2 4 1 3 5 2 7 2 1 7  7 9 0 6 2 0 7 4 4 4 2 4 4 9 6 1 1 9 2 8 3 5 7 9 1 8 3 3 8 3 3 9 2 2 2 5  4 9 0 2 7 7 2 0 9 2 6 3 7 8 9 8 4 0 2 8 5 1 9 1 5 0 6 2 7 8 9 7 7 5 0 2  0 0 4 7 8 6 3 7 8 9 8 0 9 0 8 9 2 7 8 3 4 7 5 4 5 1 3 9 3 6 7 2 3 4 1 9  6 2 1 5 3 5 9 0 6 2 8 8 6 2 4 8 0 7 4 0] [8 6 6 8 0 5 4 6 1 1 8 5 2 2 4 7 3 5 0 3 8 9 5 2 2 2 3 2 7 4 6 8 8 7 1 9  5 4 4 5 3 1 2 4 1 9 4 7 0 0 9 7 5 9 1 2 3 7 8 5 6 3 0 4 5 5 6 8 5 3 1 7  2 8 8 2 6 8 4 2 1 8 6 0 9 6 5 9 1 3 0 4 1 1 7 6 2 4 1 1 3 9 9 2 0 3 3 8  1 0 1 2 5 9 3 4 4 4 0 9 1 6 1 1 2 2 2 0 5 4 7 0 8 0 0 6 1 7 2 5 9 5 4 7  2 7 3 8 3 8 0 4 2 0 5 9 6 6 2 3 5 3 6 3 8 1 7 1 0 4 8 6 6 9 7 1 4 3 7 8  7 0 4 7 1 5 0 4 8 7 9 3 6 8 7 6 3 1 4 6] [3 9 1 5 0 9 4 3 6 0 3 9 7 4 4 0 9 4 6 6 6 6 8 3 4 4 0 3 1 8 3 2 0 2 6 2  0 7 6 5 8 6 1 4 8 0 9 8 9 5 8 0 9 1 2 0 1 0 1 3 1 9 9 7 0 1 9 9 9 1 3 9  7 4 4 7 0 3 3 4 7 2 9 2 8 4 6 8 0 8 9 6 1 9 5 6 3 3 3 7 0 5 9 8 7 8 9 7  2 7 0 2 1 0 1 0 8 8 1 3 3 5 6 7 9 6 7 9 3 1 0 0 5 7 7 9 8 0 9 4 7 6 1 6  1 7 9 6 9 5 1 2 5 9 6 1 1 1 0 9 9 8 1 4 3 7 3 8 7 8 0 7 3 2 2 5 8 7 4 8  9 8 8 0 2 7 7 5 5 5 5 8 3 2 6 9 2 7 0 3] [6 7 7 8 6 8 6 1 7 4 5 5 2 0 4 7 0 1 7 6 5 3 5 6 1 6 9 2 1 1 5 4 6 3 3 7  7 2 6 4 6 5 2 2 0 7 7 3 9 6 2 4 3 2 3 2 3 7 8 9 3 6 1 9 8 9 0 6 7 8 0 2  0 8 7 3 7 5 7 1 0 9 4 7 4 7 3 8 4 3 6 8 2 6 0 2 4 4 0 4 1 2 5 5 0 1 4 6  1 9 3 2 6 1 6 3 3 4 5 3 8 8 0 9 9 2 3 7 5 9 9 8 3 5 1 0 3 1 9 5 4 0 7 3  8 9 0 9 4 2 6 2 7 6 8 7 4 0 6 9 3 7 6 1 9 8 4 2 4 0 6 4 6 2 1 6 3 3 4 0  1 9 0 5 3 5 2 6 6 0 9 2 3 6 3 4 6 1 8 3] [5 6 7 6 1 2 1 8 8 5 6 2 2 7 6 7 8 5 0 1 4 7 6 3 0 7 3 1 3 1 0 9 0 0 2 3  6 1 1 1 9 2 0 9 7 4 2 3 1 9 0 9 8 7 6 2 2 1 2 2 1 9 0 3 6 9 4 3 0 3 7 9  2 6 6 7 6 3 0 8 9 3 2 6 9 2 4 1 1 8 3 9 6 3 6 2 9 8 0 6 4 1 3 3 2 1 4 4  2 6 6 0 2 9 8 5 2 9 0 5 7 7 5 7 1 6 9 0 0 5 0 6 6 9 6 4 4 0 8 7 8 3 5 9  8 1 3 3 8 8 6 9 7 2 1 7 0 3 2 4 3 2 6 0 5 5 6 6 4 3 3 0 1 3 4 0 0 7 1 5  5 5 3 8 0 0 3 3 2 7 3 0 4 2 0 8 0 2 3 7] [1 2 7 3 8 6 2 6 8 8 1 2 5 2 4 8 5 6 7 6 3 2 9 6 6 4 7 7 0 8 7 6 9 7 4 6  9 8 2 5 4 8 9 9 0 5 9 5 2 6 7 7 9 6 5 6 0 8 7 2 1 5 0 8 1 7 7 5 2 0 3 5  0 2 4 1 9 5 2 4 4 2 9 5 1 8 6 2 6 8 2 9 4 5 9 7 4 7 2 4 9 9 3 4 6 5 9 4  0 1 0 2 2 5 2 4 6 3 3 8 0 4 0 6 0 6 4 4 6 3 3 9 4 3 7 0 4 3 6 2 4 7 2 6  7 2 1 9 3 8 5 3 7 9 0 8 2 4 7 9 4 2 4 5 7 7 7 5 6 2 3 8 5 9 5 7 7 1 0 9  5 4 0 3 6 5 2 8 1 5 4 3 5 0 0 6 1 6 0 1] [0 0 8 0 6 4 1 4 2 7 3 8 9 9 4 2 4 8 9 4 4 6 5 4 6 7 0 6 7 8 6 0 0 1 3 4  2 3 1 9 3 1 5 9 6 8 7 6 3 8 0 2 1 0 4 5 0 9 4 9 5 5 1 9 6 8 1 6 4 0 8 3  6 0 4 6 6 6 1 9 0 1 8 8 5 6 9 4 5 7 7 7 5 6 1 3 2 7 4 5 9 8 0 2 0 7 6 3  9 7 7 2 2 9 2 3 3 9 6 3 8 5 8 7 7 7 8 3 0 9 4 0 3 5 7 2 8 9 0 9 8 1 5 1  1 2 7 8 7 1 5 3 1 2 5 5 1 0 5 5 1 4 4 4 6 9 8 5 0 5 0 4 1 3 9 1 1 5 3 1  2 8 8 4 7 9 0 8 2 1 1 4 6 9 3 4 6 7 8 1] [6 4 4 2 9 0 5 6 7 8 8 8 7 3 9 6 1 6 9 8 4 1 1 5 8 1 8 0 1 8 0 0 8 3 8 7  7 1 4 6 9 2 4 8 9 9 0 0 4 5 4 5 0 9 1 0 8 8 0 5 7 6 0 8 7 1 8 3 2 3 9 7  9 6 9 9 4 1 6 0 1 3 0 4 1 9 3 7 3 2 3 1 6 5 6 0 4 5 0 5 5 8 0 6 2 0 0 0  6 6 8 0 2 9 9 6 7 1 4 1 5 3 8 0 5 0 8 5 0 9 7 7 7 3 4 3 5 1 7 3 8 8 8 8  6 0 5 6 3 8 5 3 6 5 7 4 1 9 7 7 9 8 1 3 8 3 0 8 8 0 0 2 3 6 5 7 6 3 3 9  1 8 2 4 2 1 7 2 2 3 2 5 3 7 5 2 9 7 3 4] [7 1 6 1 6 7 2 8 2 5 6 9 7 4 1 2 6 5 0 0 5 5 3 2 7 3 9 5 0 2 7 6 7 4 5 2  3 3 8 7 4 3 4 6 3 4 4 8 9 4 0 1 2 3 4 2 8 4 0 7 4 4 7 2 9 3 1 3 3 7 6 5  3 9 6 2 0 0 5 3 8 5 4 1 4 5 0 0 1 2 5 7 8 0 6 4 6 8 7 5 8 6 9 1 5 6 1 0  7 6 7 8 0 2 4 8 5 5 4 5 2 8 0 6 1 5 6 3 8 4 4 7 9 4 7 2 8 1 2 0 4 2 3 9  6 9 8 6 1 7 5 4 9 0 0 2 6 0 2 5 1 6 8 4 6 1 9 7 9 6 8 9 0 9 9 2 9 9 6 4  7 3 8 8 7 4 0 5 0 2 8 4 7 2 3 1 7 8 9 9] [0 7 2 3 7 5 0 1 5 0 6 4 0 3 1 4 8 1 2 9 9 6 8 3 3 5 7 8 4 5 4 7 0 9 4 7  3 4 9 6 0 7 0 5 8 1 9 5 7 6 2 6 6 1 6 4 6 9 7 2 8 2 0 1 9 3 7 4 4 3 0 2  7 1 3 9 3 6 9 3 3 7 5 1 9 9 2 9 3 9 8 1 0 8 8 5 9 1 9 5 9 3 0 7 6 6 4 1  2 6 0 3 4 3 5 7 9 4 9 9 5 0 7 7 8 6 8 2 8 9 8 6 6 7 1 5 5 3 1 9 4 8 3 3  3 9 2 6 8 9 8 2 8 1 7 3 2 2 6 7 2 7 0 4 0 0 1 9 9 8 8 1 7 8 4 4 7 1 3 7  5 6 1 2 8 5 2 2 7 7 9 1 4 2 8 6 8 0 7 0] [8 8 2 3 8 5 9 1 2 2 2 1 3 2 4 3 8 6 4 7 5 3 9 5 0 7 4 9 3 1 3 3 5 0 3 4  4 5 8 0 1 5 5 4 4 3 1 9 6 4 2 3 0 7 2 8 6 0 1 1 8 4 9 3 7 6 5 2 1 5 7 7  3 3 8 0 4 9 9 3 0 4 1 0 0 5 4 1 2 3 8 9 7 8 2 5 7 8 6 5 1 3 8 0 2 4 4 6  6 2 8 8 5 5 9 6 0 0 5 1 6 5 4 3 5 9 1 6 8 3 4 4 2 6 9 5 2 7 9 2 4 5 9 0  3 6 9 0 9 3 1 6 4 4 5 4 7 9 1 4 5 8 1 3 0 6 2 5 8 2 4 6 8 2 5 6 7 8 8 3  5 4 8 2 0 9 1 7 1 1 1 7 3 0 2 9 9 7 3 4] [1 3 6 9 6 3 1 3 8 2 2 1 5 3 7 9 3 9 2 9 4 9 8 0 2 8 6 0 5 4 0 7 8 9 6 8  2 4 7 2 8 5 7 4 0 9 9 4 1 2 6 0 0 9 8 1 2 8 7 9 5 8 0 7 5 9 3 8 9 7 2 8  3 1 9 8 4 2 6 7 3 3 3 0 2 2 7 2 0 1 6 7 6 2 5 2 5 3 7 8 3 9 9 4 3 1 2 1  6 4 2 9 9 3 5 3 3 7 7 2 9 1 6 8 7 6 0 0 7 2 9 7 8 0 1 0 9 6 8 7 9 5 1 2  3 5 7 2 1 9 2 2 2 3 2 6 8 6 9 7 1 9 4 4 8 5 1 7 4 9 8 1 8 7 1 0 9 5 8 3  5 3 9 3 0 3 6 8 7 2 3 4 7 6 0 7 0 4 1 0] [6 6 9 0 5 8 8 2 9 5 8 7 4 1 4 4 4 7 9 2 3 8 9 0 2 4 7 4 1 5 3 5 2 6 5 7  0 9 8 7 5 4 2 5 2 2 3 3 6 6 4 8 3 4 6 0 8 6 9 2 5 7 1 2 9 2 3 7 8 8 3 4  2 2 6 1 3 4 3 8 8 8 5 9 9 7 4 4 6 9 9 1 9 2 5 1 7 5 8 8 4 4 3 0 6 1 2 0  7 8 5 5 7 4 1 7 3 3 3 4 2 5 0 3 1 6 9 1 7 8 8 2 7 9 4 4 6 2 5 6 2 3 4 8  9 7 1 5 0 6 0 5 7 3 0 7 5 9 6 3 2 6 2 0 3 4 0 7 8 1 4 2 6 8 8 2 3 0 0 6  2 4 9 4 5 3 5 0 4 1 4 9 6 9 4 9 2 5 2 2] [4 3 5 4 2 3 5 1 8 6 6 4 1 2 1 0 1 0 1 3 1 8 3 6 5 7 7 4 4 8 7 2 6 4 2 6  2 3 7 4 9 6 0 2 4 5 2 6 7 5 5 1 1 8 0 0 3 2 0 7 8 2 1 3 8 5 2 5 7 6 0 4  2 8 8 8 6 0 7 3 5 9 3 3 9 7 8 8 3 7 3 0 0 1 5 2 9 8 9 3 9 2 0 2 0 2 9 1  4 1 1 6 7 8 7 7 4 8 6 4 5 1 2 2 5 1 7 7 1 1 3 6 9 2 7 6 1 4 7 3 0 3 7 1  0 7 0 6 6 2 4 7 2 4 6 7 8 3 9 8 5 2 6 6 2 9 2 9 0 8 2 8 0 1 5 0 4 5 0 2  7 9 0 6 3 5 0 5 7 8 6 3 8 2 6 3 4 2 9 9] [3 6 5 9 7 9 1 7 6 6 1 6 7 4 4 3 7 1 2 3 4 1 8 4 8 8 3 9 2 3 2 2 8 1 8 6  2 3 2 8 6 6 0 6 8 1 3 4 7 9 1 1 2 6 0 7 4 9 5 4 3 2 0 0 3 4 5 4 6 5 9 0  2 4 8 6 7 9 1 9 8 8 7 6 1 6 6 6 4 8 8 0 6 6 3 7 9 9 4 4 5 6 5 5 6 2 2 1  9 7 1 9 9 8 6 2 0 1 2 8 5 8 4 3 0 4 7 9 7 9 7 9 7 2 6 0 2 0 4 3 7 7 4 2  8 0 7 0 8 3 0 8 1 3 1 8 3 5 0 7 6 7 3 8 1 2 9 3 0 4 4 4 2 0 7 8 7 2 4 2  1 7 3 2 3 9 6 4 0 5 4 9 6 0 8 5 8 4 1 5] [7 5 2 8 4 2 1 3 0 7 8 0 9 5 9 8 1 6 8 1 3 1 2 3 0 3 3 6 7 8 3 8 4 3 8 8  7 5 7 8 9 2 2 6 8 4 5 5 3 7 8 9 0 7 0 4 4 7 9 0 9 6 3 6 3 8 4 1 1 3 6 5  7 4 4 5 9 4 6 1 2 4 5 9 2 2 9 1 9 3 9 2 3 9 4 9 5 1 7 4 5 4 8 0 1 2 9 8  2 2 0 9 1 4 6 8 6 4 0 8 1 0 2 8 7 1 5 9 9 6 3 3 4 5 2 1 9 0 7 4 4 5 3 9  9 4 3 9 5 8 5 7 8 4 0 5 5 7 7 7 3 4 8 5 6 9 2 7 6 2 3 4 5 2 2 7 2 3 5 2  1 7 5 9 2 3 7 6 0 4 4 4 4 3 5 1 8 4 4 5] [6 3 7 3 4 4 6 9 8 2 9 0 2 0 7 6 3 0 4 5 1 3 0 6 5 8 4 9 7 4 0 4 0 0 2 0  7 5 8 9 0 0 9 3 0 0 4 2 6 8 7 0 7 0 2 7 4 8 7 1 9 9 0 5 8 5 6 0 8 3 9 5  7 0 3 1 9 5 6 0 6 3 1 6 3 2 1 9 5 2 4 6 4 7 5 8 0 2 1 6 8 5 7 4 9 4 3 6  5 0 4 8 5 9 1 7 6 1 6 1 5 1 4 1 1 0 2 1 5 4 6 8 5 6 1 0 9 1 9 0 4 5 0 0  8 5 4 8 7 8 5 1 4 0 7 7 7 0 4 6 9 9 7 5 8 4 0 1 5 5 5 8 4 9 0 6 7 9 9 0  3 8 2 5 8 0 8 8 7 6 7 9 4 3 5 5 5 2 1 2] [2 9 4 1 8 9 2 7 1 0 9 8 8 5 3 0 0 2 1 3 0 8 7 6 7 8 5 5 8 3 5 6 9 9 7 6  3 4 0 6 9 5 1 5 4 9 4 3 7 3 1 6 7 8 7 8 2 2 7 1 0 0 1 9 3 8 6 8 6 5 4 5  9 6 0 0 3 9 8 1 0 3 4 7 0 1 1 9 6 6 6 4 8 2 1 1 8 5 0 6 3 8 9 0 5 7 2 8  5 8 4 6 2 3 0 3 8 8 7 2 2 1 9 3 5 9 5 7 3 7 7 2 8 0 4 1 9 4 8 4 9 3 5 4  1 9 0 5 3 9 0 6 7 9 0 6 2 4 7 2 6 8 6 4 2 4 8 9 7 1 0 5 4 0 0 8 8 0 6 4  8 8 3 2 2 5 3 7 4 4 6 2 1 8 5 7 7 1 4 3] [1 7 9 1 3 6 5 5 3 9 1 5 1 3 3 1 7 9 2 7 6 1 9 0 5 5 3 8 9 8 0 3 1 9 0 2  3 8 8 1 5 1 3 3 0 6 3 0 9 9 3 2 6 8 4 8 4 1 6 3 6 5 0 5 5 9 3 6 2 5 9 1  3 8 3 3 9 3 3 3 9 3 0 9 6 2 7 2 1 5 0 8 3 1 5 8 6 9 2 9 3 1 0 2 8 6 4 1  3 3 0 4 6 6 6 6 9 9 2 9 9 7 9 1 0 0 3 7 4 9 3 4 4 1 7 0 4 0 7 1 4 8 8 8  4 8 6 9 5 5 6 2 6 3 1 4 0 9 8 2 1 6 1 5 1 0 8 6 5 8 0 6 1 5 4 3 4 1 5 7  4 5 5 4 0 3 0 5 8 4 9 9 6 1 9 5 5 6 4 5] [4 9 3 9 4 5 0 0 8 0 0 8 7 4 2 0 6 7 0 7 7 6 5 6 8 4 0 7 0 5 4 3 2 1 8 1  6 7 6 7 5 2 6 7 7 8 3 1 3 6 6 5 8 0 3 6 9 9 7 3 7 9 0 1 1 6 1 6 3 2 7 6  3 6 7 5 3 1 6 8 1 7 2 7 6 0 0 5 1 2 9 0 5 9 6 4 4 2 1 1 4 6 9 4 2 8 3 5  8 3 6 1 6 3 0 2 7 5 5 9 4 2 9 9 6 8 4 3 8 0 2 5 2 0 1 0 6 5 4 5 3 2 9 7  9 7 5 2 0 7 5 5 6 9 6 4 5 8 0 9 4 8 5 9 4 0 5 9 9 7 1 8 2 4 0 4 1 9 0 7  7 8 3 7 4 9 8 8 0 7 5 0 5 8 6 6 4 9 7 8] [8 6 7 2 0 5 2 2 7 0 2 0 5 9 8 8 1 9 1 5 8 5 2 4 6 5 3 1 0 3 2 2 0 9 5 7  5 0 3 0 4 3 1 5 6 7 7 4 5 9 0 7 0 5 8 9 3 7 7 1 7 6 6 7 7 2 9 8 9 1 4 8  8 9 2 5 2 7 9 0 7 9 0 7 9 7 8 9 0 4 3 0 5 7 0 1 1 1 4 6 8 2 9 4 7 1 0 4  9 0 6 6 8 2 3 0 5 1 8 6 0 1 9 2 3 7 1 6 3 3 1 2 8 7 0 0 3 4 6 2 5 6 7 4  1 6 9 4 0 1 5 5 2 0 9 6 6 5 5 8 7 8 1 2 9 9 2 3 3 5 5 2 3 2 8 3 4 1 0 4  3 0 3 2 6 6 5 8 6 4 5 2 9 4 5 5 7 8 0 6] [5 0 2 7 5 4 9 7 6 5 4 0 0 0 8 3 8 1 7 8 0 8 6 0 6 4 1 4 1 3 8 2 1 0 4 6  8 2 0 7 0 6 6 3 2 3 4 8 6 9 3 6 3 8 9 0 4 5 0 0 3 1 8 6 9 0 0 0 6 4 0 9  8 9 2 7 1 7 6 8 3 9 2 4 3 7 5 4 8 8 3 0 4 4 6 1 0 3 3 1 7 1 3 9 5 7 3 0  1 3 5 9 4 1 3 6 5 5 7 6 3 6 0 2 6 4 9 6 1 1 9 1 7 8 5 4 3 0 2 5 3 4 8 9  6 4 6 8 9 8 2 7 8 6 3 9 1 8 2 5 8 6 2 1 5 9 7 2 6 4 2 7 5 9 0 2 0 4 6 2  3 9 6 2 9 7 9 0 6 9 3 7 0 2 0 0 2 4 0 8] [3 9 0 3 8 5 9 9 2 1 9 0 5 1 1 7 2 8 3 7 0 3 2 5 7 2 2 6 9 3 5 6 6 0 6 5  5 9 0 8 6 3 8 6 8 5 5 5 8 3 1 0 6 1 5 2 9 2 6 6 7 5 4 6 5 7 3 0 5 6 5 4  7 7 4 2 6 3 4 4 9 0 8 2 8 6 6 1 3 0 0 7 8 4 7 6 3 1 8 4 9 9 1 1 8 5 6 3  6 0 8 8 2 3 9 5 3 5 7 0 0 0 1 4 3 2 6 6 7 3 1 5 7 7 6 6 2 8 7 7 2 3 5 3  3 1 0 8 9 3 6 0 0 4 0 4 8 2 6 8 9 2 2 6 2 3 9 9 6 2 3 7 9 3 9 1 6 6 3 7  1 9 6 6 6 2 7 8 8 0 9 6 5 2 8 2 8 8 4 0] [3 3 8 1 8 6 6 6 9 1 3 9 4 7 6 6 8 8 9 3 3 4 4 6 3 0 2 8 6 4 1 7 8 5 0 3  5 5 6 8 0 5 4 5 2 2 6 9 4 6 8 5 2 5 8 4 3 4 1 3 8 1 2 9 2 9 5 8 7 9 3 3  1 6 6 9 8 9 4 4 3 0 2 4 6 1 8 7 0 5 4 3 8 5 7 5 5 8 6 5 5 5 7 2 2 5 7 6  7 4 2 3 9 6 7 3 5 6 8 4 1 1 3 1 5 4 8 4 3 8 9 2 7 4 6 4 3 3 3 9 0 6 0 7  2 1 9 8 4 6 8 6 7 9 3 6 7 2 7 8 9 1 1 8 2 6 2 3 0 8 2 7 8 2 5 2 8 5 0 9  5 0 7 1 1 9 9 3 5 3 7 2 6 1 8 7 0 6 3 4] [3 8 4 9 9 2 1 5 8 3 5 6 3 7 2 7 9 9 3 5 1 5 4 4 2 2 2 9 1 7 3 5 8 5 8 9  4 5 0 1 7 9 5 0 6 1 0 5 7 2 7 9 4 9 8 0 1 2 5 7 6 7 6 1 2 7 4 0 9 5 8 3  0 7 0 0 1 4 4 1 4 1 9 3 5 9 0 4 7 0 5 4 6 9 2 4 4 3 2 2 5 9 1 8 7 4 8 8  9 5 7 8 0 1 5 6 3 6 5 6 7 3 3 2 0 5 3 5 4 4 6 3 6 1 4 1 5 3 0 7 3 4 2 0  1 0 2 0 6 3 6 6 3 5 9 8 9 2 7 0 6 2 9 5 8 0 8 9 1 5 1 7 3 0 9 5 6 3 4 8  3 3 4 7 6 8 2 9 6 7 8 9 9 8 2 4 3 5 5 5] [3 6 6 9 7 5 9 0 6 2 2 3 4 8 1 1 2 0 6 1 2 1 6 4 9 8 2 7 6 7 8 8 6 0 8 5  5 1 2 3 5 7 8 3 6 4 0 4 7 0 9 1 8 6 3 1 7 2 3 1 4 3 1 8 3 4 7 3 6 7 7 4  1 3 8 3 0 7 9 0 6 4 1 4 7 0 0 8 2 9 1 9 7 9 4 6 4 5 6 9 2 5 0 9 1 1 1 1  4 2 1 7 3 0 4 2 9 0 1 4 9 1 6 8 8 9 5 0 6 8 6 0 3 7 7 8 8 1 5 1 1 5 2 9  0 8 1 2 8 1 2 7 9 1 8 5 0 6 0 4 9 2 8 6 9 3 5 1 1 4 5 9 4 7 4 1 9 0 8 0  5 1 6 9 5 8 0 5 9 0 2 8 6 3 2 2 0 3 1 0] [6 7 7 2 3 0 2 6 6 6 5 4 2 8 3 8 0 3 6 5 5 8 7 5 6 8 1 0 0 0 4 9 2 8 5 0  2 4 0 9 0 3 0 0 6 6 3 0 5 5 4 5 6 2 3 5 5 8 9 0 4 0 6 3 8 9 1 4 0 1 0 8  1 6 2 4 9 6 5 4 3 2 2 9 1 8 7 3 9 1 6 9 7 4 0 3 9 3 8 0 6 1 8 9 8 0 9 3  1 5 7 8 9 7 1 2 7 6 7 6 3 5 0 0 4 6 5 6 3 6 4 7 7 3 6 3 5 7 7 3 7 5 9 8  6 1 3 4 2 9 9 9 5 4 6 7 2 9 9 3 7 4 3 2 8 6 9 8 1 0 4 9 6 1 5 3 6 6 1 4  9 9 2 4 8 7 2 7 4 8 3 3 9 9 8 2 6 1 5 3] [8 2 2 0 6 1 9 3 8 7 2 6 2 4 9 9 5 8 1 0 7 8 5 3 8 4 8 1 1 1 4 9 8 4 7 3  7 6 7 9 8 3 2 3 6 2 1 1 0 4 9 3 9 2 4 0 2 5 9 2 5 7 8 2 1 1 7 1 8 0 8 1  7 0 3 5 6 1 6 0 5 4 6 4 8 8 5 1 0 2 0 4 8 7 1 4 3 3 1 5 4 1 8 8 4 5 3 1  9 5 0 5 8 8 7 3 0 9 0 6 7 0 7 6 9 0 3 4 7 8 2 7 1 3 7 6 6 9 1 5 3 7 2 3  0 4 5 5 3 3 3 3 3 0 6 7 6 1 8 1 6 4 4 7 8 6 4 9 0 5 1 0 5 2 7 0 7 5 8 0  6 3 2 9 7 4 1 0 8 5 2 3 7 8 3 7 4 4 1 1] [1 3 4 8 8 5 1 3 6 5 3 7 7 4 9 7 9 2 6 4 8 5 8 9 5 9 7 1 7 6 2 7 1 2 1 9  5 7 9 4 5 9 1 2 0 1 4 3 4 7 3 9 9 5 5 5 9 4 2 4 7 0 4 5 3 0 9 2 7 6 8 6  1 6 3 9 7 4 7 9 3 8 1 6 9 6 9 2 1 6 4 6 6 8 8 0 1 1 8 5 8 2 5 4 8 3 2 9  9 2 8 2 9 7 3 7 5 6 3 2 9 4 2 5 1 6 5 5 7 1 7 1 3 0 3 4 5 8 4 9 2 7 2 8  7 5 2 3 0 5 5 5 3 7 9 6 6 9 6 6 8 8 2 2 5 5 6 3 6 8 3 3 5 0 6 2 0 1 3 9  3 4 3 2 7 6 8 4 0 5 4 3 3 7 9 3 3 1 5 4] [5 4 7 7 9 8 0 9 1 3 3 2 7 6 8 8 4 4 6 7 1 5 9 6 3 2 7 8 8 3 3 7 2 3 8 7  1 3 5 3 3 6 5 9 8 3 8 2 1 4 8 4 7 9 7 0 4 1 0 1 7 8 1 1 0 1 1 1 1 4 8 7  2 3 8 7 7 9 6 2 7 3 0 7 6 3 3 9 3 0 0 0 2 9 7 4 4 9 8 6 5 7 8 8 3 7 1 1  1 4 9 4 4 1 0 4 2 3 3 1 6 7 0 1 0 8 5 6 0 7 6 8 4 2 9 9 2 7 9 1 4 0 8 8  6 1 8 7 0 3 6 6 0 3 4 2 3 0 2 8 1 3 8 7 3 1 0 7 7 0 0 1 8 9 5 0 0 9 3 1  1 3 6 5 2 3 8 1 4 2 6 2 0 8 0 9 0 4 3 0] [3 3 6 9 8 2 1 9 6 1 9 4 6 8 5 2 1 7 5 1 9 3 0 5 6 4 7 9 8 1 8 3 0 5 3 7  3 3 8 4 1 7 7 5 2 4 3 4 0 4 6 5 5 7 5 0 3 6 5 4 0 8 2 4 3 4 6 0 7 8 8 8  2 3 8 9 4 8 3 6 9 3 6 2 7 9 4 5 2 9 8 1 2 4 5 1 2 6 7 7 6 5 7 1 0 3 8 4  0 9 5 8 5 0 8 7 6 1 9 6 5 2 7 3 8 1 4 5 3 8 7 5 6 0 7 7 3 2 9 5 3 8 4 7  7 3 9 5 4 4 0 0 7 1 8 6 5 8 5 5 7 1 3 8 9 9 3 6 6 4 1 0 4 6 4 7 2 8 0 9  4 4 2 3 9 8 1 1 3 8 0 4 9 4 0 5 3 2 7 3] [2 8 8 4 7 5 3 7 6 7 7 7 9 0 9 4 0 5 8 1 1 3 2 5 8 8 4 7 6 4 6 6 9 0 1 8  6 7 2 0 6 4 2 3 5 8 8 3 9 0 6 1 8 1 8 6 8 1 1 5 0 8 7 6 6 8 2 3 3 3 0 9  2 2 1 9 4 4 0 7 9 7 1 8 7 9 3 4 8 3 5 6 2 9 3 4 0 3 5 3 1 9 7 4 7 0 9 6  1 5 5 1 8 6 2 9 8 1 8 0 5 3 6 8 6 9 3 3 1 5 0 9 7 1 6 5 9 3 6 4 4 5 9 2  3 0 2 4 7 0 2 3 1 7 2 2 8 7 0 5 7 4 6 4 4 9 9 0 1 4 3 8 6 4 1 4 5 7 5 6  8 4 6 8 9 3 0 4 1 8 6 3 5 0 0 3 6 3 4 1] [5 3 8 5 6 6 1 4 9 5 4 2 8 6 8 5 3 6 4 7 5 2 8 2 6 3 3 4 9 9 4 5 9 6 1 2  2 0 9 2 9 3 6 8 0 9 2 1 9 0 3 4 3 4 4 7 1 4 3 3 7 3 7 4 3 4 5 4 5 2 4 4  3 7 8 7 4 1 5 1 7 6 3 9 1 1 6 2 3 9 1 0 7 5 4 6 4 5 3 2 8 9 7 3 6 6 9 8  9 4 2 8 4 8 6 4 7 2 1 3 0 7 5 3 4 2 1 5 3 1 5 9 4 5 3 3 2 0 1 8 0 7 4 8  9 2 1 6 4 4 8 1 8 1 1 1 5 5 6 4 6 2 4 4 2 6 2 3 6 3 0 2 5 9 7 1 5 5 2 4  3 0 5 3 1 3 7 8 2 9 5 3 2 8 2 9 8 2 1 5] [9 0 1 7 0 7 3 9 4 9 8 5 0 3 1 2 3 1 3 8 9 0 7 8 0 8 0 6 3 9 6 5 9 4 5 3  5 6 2 1 8 2 2 4 5 0 2 8 1 9 9 5 0 7 1 3 7 6 5 1 8 4 6 8 7 6 7 5 6 0 6 6  0 1 4 0 4 5 7 8 9 8 5 2 7 9 8 6 7 0 8 8 8 7 6 0 7 5 3 7 7 5 7 7 1 6 8 4  7 5 3 7 6 6 7 4 1 4 3 2 9 3 8 0 6 9 2 9 1 3 0 2 7 5 4 8 1 1 4 7 7 0 3 4  1 7 4 9 2 8 8 8 5 1 1 3 0 8 5 5 5 7 7 7 3 7 3 6 9 2 2 9 0 8 8 3 0 6 3 5  9 6 3 7 9 6 1 2 4 9 4 1 5 4 6 5 0 3 1 8] [1 8 1 3 9 3 2 5 9 8 1 7 7 6 8 8 8 6 0 7 3 3 2 0 2 1 7 1 0 9 2 2 6 6 6 4  2 2 9 0 0 4 6 5 5 7 8 4 2 2 6 9 4 9 1 8 7 7 4 0 3 8 8 7 3 8 5 5 4 1 6 0  4 1 3 4 5 4 1 7 9 4 0 4 5 6 6 9 8 5 4 0 8 1 9 9 9 3 9 2 3 2 9 2 9 8 6 9  7 1 3 7 4 9 6 4 6 8 9 8 7 4 4 7 1 2 3 6 2 5 9 0 9 3 9 0 4 7 2 5 7 1 4 4  2 0 6 1 6 9 9 1 7 7 0 9 3 1 0 5 5 7 6 6 3 3 9 2 6 7 5 1 6 2 1 2 3 5 1 9  2 9 6 7 1 7 3 1 6 5 4 4 4 2 2 9 5 5 2 4] [4 8 0 0 0 2 6 5 0 6 3 3 7 7 5 7 9 8 3 2 2 4 2 0 1 5 6 1 1 9 4 5 6 4 1 0  8 8 7 2 7 8 4 2 3 3 1 2 9 0 9 4 4 9 3 4 4 6 5 1 7 9 6 2 7 3 9 3 3 7 6 2  7 5 8 9 9 9 9 5 7 0 9 3 6 1 1 3 9 9 0 9 9 8 2 0 2 5 3 8 5 9 2 8 9 7 3 9  3 5 2 5 7 3 6 0 6 5 1 9 0 3 1 3 8 7 8 9 9 9 4 3 4 8 9 9 4 6 2 7 4 2 0 5  1 8 8 0 2 1 6 9 8 2 4 2 5 8 6 0 9 0 2 7 2 5 9 8 6 5 7 9 4 6 4 2 2 7 3 3  3 6 4 8 6 3 2 0 9 5 3 1 2 2 8 5 2 9 9 0] [1 3 9 8 9 9 8 7 5 2 5 2 9 8 8 8 8 4 6 2 0 9 6 8 1 7 0 9 9 7 0 5 0 7 9 9  8 4 4 1 9 5 1 6 5 5 3 0 4 4 0 0 6 1 8 5 2 1 6 1 2 1 9 9 1 2 1 2 8 0 5 3  1 1 4 9 6 2 6 6 1 5 3 1 5 0 3 9 9 1 9 2 4 7 5 4 7 9 7 3 8 6 8 8 6 2 1 2  0 1 3 8 9 6 5 2 1 1 9 3 9 7 4 5 5 2 0 6 8 8 1 5 5 9 4 5 8 0 7 9 8 9 6 1  7 6 0 7 4 7 0 9 0 1 8 9 7 2 4 7 2 7 8 8 0 7 5 5 2 8 6 9 5 0 8 1 2 1 7 1  6 0 7 2 1 9 8 9 2 1 3 0 6 6 9 1 9 4 8 9] [0 0 0 8 8 4 7 8 4 9 6 9 9 5 9 1 7 3 9 7 1 8 3 4 3 9 3 6 9 2 2 1 3 3 0 5  2 2 3 9 4 7 4 3 0 9 9 9 5 8 2 8 6 0 4 1 4 4 4 9 2 8 6 6 7 3 7 3 9 7 2 1  2 7 1 1 8 7 3 5 2 8 9 8 9 3 5 4 3 2 9 4 8 2 9 3 3 1 5 5 1 5 2 5 5 7 7 2  1 1 6 9 9 3 5 6 1 0 2 6 0 7 3 4 9 1 9 7 2 9 2 3 6 5 8 7 9 0 9 5 7 6 4 0  6 5 4 0 4 3 4 8 5 4 4 2 3 5 1 4 2 0 2 2 3 4 8 6 6 3 9 0 3 6 0 7 4 8 9 3  4 6 2 4 3 4 6 0 8 3 8 6 5 5 2 7 2 2 0 6] [2 3 6 4 6 9 6 4 7 2 7 5 6 3 8 5 6 5 8 8 3 6 6 8 3 1 3 7 6 1 7 7 5 1 9 0  3 3 6 5 7 0 5 5 2 6 7 3 5 2 9 3 2 2 3 4 8 7 2 7 0 5 8 7 9 0 7 9 4 0 4 3  1 4 8 2 7 8 6 9 1 7 3 7 8 6 0 7 8 3 2 1 8 0 2 6 5 2 5 6 3 1 4 1 0 6 1 3  9 1 3 8 0 7 5 0 0 3 8 3 9 1 1 5 6 1 0 7 0 8 8 6 0 0 8 8 9 5 8 1 2 4 9 6  5 7 3 2 9 0 7 0 3 1 6 4 5 8 7 8 3 3 6 9 9 3 1 1 5 5 4 7 8 2 0 7 0 8 1 7  4 3 8 1 9 8 6 8 4 4 7 1 2 9 1 2 5 8 3 9] [1 7 1 3 9 9 3 5 4 9 1 7 2 6 9 5 9 0 0 2 6 7 0 1 8 2 4 5 6 7 9 0 4 8 3 3  6 9 1 3 3 2 8 4 3 2 0 6 9 0 0 0 3 9 0 0 6 1 4 3 9 8 4 6 0 2 4 0 0 7 1 3  3 7 9 0 7 2 0 8 8 4 9 1 8 7 5 7 7 6 9 7 0 2 8 7 5 8 2 2 9 2 4 6 3 2 2 0  5 1 0 4 3 6 6 7 7 4 3 3 2 8 9 7 6 7 0 3 6 1 6 8 3 3 0 1 9 4 5 5 9 6 5 3  1 4 1 6 9 6 1 3 9 4 8 4 0 7 9 9 7 0 8 3 4 9 0 9 0 9 6 0 0 2 8 0 4 0 1 7  9 1 9 7 9 8 0 7 6 8 1 8 9 6 8 0 2 1 3 3] [7 3 6 8 9 9 5 3 4 8 4 3 1 7 6 7 8 6 2 6 0 0 8 3 1 4 1 2 4 3 6 6 9 2 3 4  1 5 6 1 7 7 8 7 6 5 0 2 4 6 5 7 8 2 0 5 4 5 2 3 6 2 1 1 1 3 0 7 3 3 6 7  3 2 5 0 1 6 0 3 2 5 3 8 3 2 1 7 3 6 4 1 5 0 1 4 3 3 7 3 4 7 6 5 5 7 4 6  4 4 1 6 6 2 9 8 6 4 4 2 1 0 2 6 3 8 7 4 5 5 2 8 6 3 9 4 8 6 6 9 3 6 9 9  7 3 6 9 3 7 0 6 4 1 5 0 1 7 3 9 3 8 2 2 4 7 8 3 1 6 9 7 4 4 9 5 0 1 4 4  2 5 7 4 0 7 4 9 0 6 7 8 0 4 5 6 2 1 5 8] [8 9 5 8 9 5 8 7 0 7 1 0 8 1 5 3 6 9 0 6 8 2 4 3 0 4 2 4 9 2 4 4 7 4 4 8  0 0 1 1 5 5 3 3 7 9 5 5 5 9 9 2 0 2 1 4 0 2 5 3 0 1 9 2 5 9 6 2 2 7 5 0  3 3 5 4 1 2 2 9 0 0 1 2 1 3 7 2 9 6 8 1 3 3 1 5 3 2 7 3 7 3 2 3 2 0 6 6  1 6 3 1 2 5 4 2 0 4 8 5 2 0 4 0 6 4 4 4 9 0 4 2 0 6 2 9 2 5 3 7 2 4 7 7  2 2 7 9 7 1 3 1 1 1 4 2 2 0 4 2 2 0 4 0 6 7 4 3 2 8 0 0 0 1 2 5 5 6 2 5  1 6 2 0 6 6 3 2 0 8 2 0 4 8 1 1 6 9 8 9] [4 1 9 4 8 0 4 4 7 8 2 1 4 1 0 3 2 4 1 1 2 4 1 2 4 0 1 6 2 9 1 9 9 0 0 7  5 2 4 6 1 9 9 5 5 1 0 1 3 9 6 0 7 3 1 3 2 1 6 4 4 9 0 6 9 7 6 6 9 2 6 1  5 9 1 2 8 1 0 6 3 9 3 3 1 8 8 4 6 8 4 6 3 0 7 9 0 2 5 3 8 4 8 7 3 9 6 0  5 2 1 2 7 9 3 9 4 1 3 8 1 5 2 1 9 6 9 0 9 4 2 7 4 1 2 0 6 3 5 4 4 6 3 2  1 0 1 0 5 3 6 8 3 5 2 3 7 8 4 7 0 3 1 6 0 1 1 7 5 0 9 9 8 3 0 3 6 6 1 9  5 0 4 1 1 1 6 3 4 4 8 7 4 3 6 9 4 9 2 9] [4 2 3 5 7 6 2 8 8 7 5 9 6 4 0 7 4 7 7 1 9 2 4 4 5 5 5 5 8 6 9 6 7 6 1 0  7 2 7 2 6 4 9 2 9 5 9 0 4 3 6 4 5 7 0 2 8 6 7 9 9 8 3 7 3 1 0 0 2 5 9 9  6 1 1 3 5 0 9 9 7 0 5 9 3 8 3 9 8 4 1 7 0 3 8 4 3 0 7 3 3 9 9 8 4 7 7 2  6 5 7 7 3 9 4 5 5 8 1 9 5 7 5 5 0 5 2 6 7 5 8 0 7 1 4 8 1 1 3 9 9 3 1 0  3 7 2 6 9 0 7 7 5 6 5 2 5 6 1 3 0 7 4 4 9 4 0 3 9 0 6 3 4 9 8 6 5 7 3 8  5 3 2 8 7 8 4 8 1 1 3 2 6 0 3 5 2 1 1 4] [5 9 9 5 2 2 1 0 6 2 0 3 9 4 1 8 1 8 7 5 8 0 7 9 3 7 0 9 1 6 3 6 7 9 0 9  9 0 7 3 1 9 7 0 6 9 9 0 7 0 2 1 1 8 4 6 1 3 9 9 2 8 2 6 7 9 0 3 4 5 3 4  5 1 0 9 4 5 9 6 3 7 3 7 7 1 1 8 6 6 8 4 5 9 8 6 8 6 7 3 2 8 2 1 2 4 4 4  5 8 8 7 3 4 2 0 4 3 9 9 3 8 7 2 1 2 2 0 8 7 8 7 5 3 9 8 2 6 6 7 5 0 9 8  6 5 2 6 1 9 1 3 8 4 9 7 0 8 1 7 9 2 8 6 3 9 8 0 2 7 3 6 5 4 4 5 7 0 3 5  9 9 1 8 6 5 1 0 5 9 5 5 1 1 6 8 1 4 3 0] [9 1 3 8 1 5 6 0 4 5 1 6 9 4 4 2 4 0 1 8 5 5 9 6 9 6 8 3 9 2 1 1 8 1 8 4  7 9 0 2 0 9 9 9 2 0 4 8 7 5 5 3 8 4 6 8 5 3 1 4 0 5 9 2 7 3 2 8 0 0 3 5  0 8 6 4 0 1 2 1 1 4 0 2 9 0 9 1 6 8 1 8 2 4 2 4 0 2 6 6 0 7 0 8 8 6 2 8  8 9 6 4 3 0 7 1 2 9 3 7 9 9 4 8 8 2 2 9 4 7 7 4 4 5 9 0 3 7 7 2 6 6 0 2  7 2 3 6 6 4 9 2 4 7 1 3 1 8 9 5 3 3 2 2 4 4 5 7 2 7 2 3 1 4 6 3 1 0 6 4  3 6 6 3 7 8 6 9 0 4 4 1 4 1 5 9 1 1 0 6] [9 4 3 5 9 0 6 2 7 3 8 0 5 9 2 8 9 0 5 0 7 2 8 5 7 8 9 0 4 8 1 4 9 0 0 1  3 1 1 1 8 4 3 0 4 7 6 0 1 4 6 3 5 5 3 2 9 3 9 5 1 2 5 1 1 9 8 8 0 3 2 9  6 4 9 7 4 6 0 7 3 3 9 8 2 3 9 4 1 1 7 0 6 0 4 7 9 0 0 3 8 6 6 0 2 7 1 9  4 8 9 3 9 9 5 3 0 9 9 8 0 2 6 0 2 7 6 2 4 1 9 3 7 9 1 3 6 0 1 3 4 5 8 3  0 6 5 1 9 0 2 9 2 7 6 2 3 7 8 5 0 8 3 0 3 5 9 0 3 5 6 3 0 8 9 7 3 1 4 7  2 7 9 1 6 9 8 9 9 2 5 9 5 5 6 7 1 6 4 1] [7 0 0 3 9 8 0 9 1 0 5 7 0 5 3 2 3 6 4 7 1 5 7 1 3 1 0 3 4 3 9 8 8 4 4 9  2 6 3 3 0 9 5 4 7 7 0 8 0 4 4 7 6 5 7 6 6 5 5 2 6 1 1 6 3 6 5 0 3 6 9 6  9 2 1 0 3 9 1 4 9 7 3 1 7 0 6 2 3 8 7 2 7 9 0 9 0 0 6 6 7 6 7 2 0 6 3 2  0 7 9 9 9 3 4 9 9 1 5 3 7 2 8 3 2 3 7 5 6 7 1 6 6 1 7 5 7 7 2 6 4 1 3 3  8 8 5 3 7 9 7 5 2 7 2 5 6 8 6 9 3 4 3 7 9 1 0 5 3 1 5 7 1 1 6 1 0 1 8 9  5 5 2 8 2 7 4 6 2 0 9 1 0 8 7 0 3 3 3 6] [6 0 7 2 4 4 2 2 8 0 2 6 7 8 0 2 2 2 2 5 5 9 8 3 4 3 2 2 6 0 0 3 0 8 7 4  6 5 7 4 9 1 2 4 8 1 9 3 5 4 3 5 0 0 5 6 1 2 8 5 6 9 4 4 3 1 3 5 3 7 3 9  8 3 3 9 2 2 3 1 0 6 4 8 2 2 1 6 9 4 6 5 4 3 4 7 2 3 0 3 1 7 9 0 6 1 1 0  5 5 8 2 4 3 9 4 3 5 1 0 9 6 5 8 9 0 7 8 4 5 5 1 7 4 1 0 0 1 6 4 0 8 0 8  2 1 0 5 1 5 4 2 0 0 9 1 9 5 2 1 7 0 3 4 6 5 0 2 7 2 2 9 9 3 3 0 7 1 1 4  1 7 1 2 0 2 6 3 6 6 7 5 9 1 8 0 9 6 6 2] [2 7 2 7 2 7 8 3 7 3 5 1 9 4 9 9 8 6 5 1 8 9 7 6 2 6 7 7 4 3 5 5 5 7 1 8  7 5 4 2 1 4 0 9 8 1 8 0 5 5 6 2 0 3 1 7 4 2 8 4 4 6 8 6 6 9 7 8 8 0 5 9  4 1 4 5 2 3 3 0 4 8 9 4 9 2 1 5 5 2 1 9 3 8 8 4 9 0 5 4 3 5 5 8 4 2 4 7  8 9 3 1 1 2 7 8 4 5 1 1 7 2 9 2 9 0 1 7 9 6 7 8 9 3 9 2 7 0 9 0 2 9 9 7  2 0 1 4 4 3 4 0 6 4 0 7 3 7 2 7 3 8 1 7 3 2 6 5 3 4 0 5 6 1 6 4 3 0 2 9  2 0 1 9 1 5 6 9 1 1 2 6 3 6 5 3 4 6 3 7] [4 8 1 3 7 6 9 0 5 8 2 9 3 8 7 5 3 3 9 5 8 6 7 0 2 1 0 9 7 4 4 4 1 0 2 8  5 5 5 6 9 2 7 6 1 4 1 7 2 6 3 9 8 2 6 9 1 2 5 9 1 9 5 6 5 1 1 0 0 3 7 4  0 8 1 3 7 3 3 0 1 9 5 4 7 4 3 8 7 8 0 7 4 7 3 7 3 6 8 8 1 5 6 3 1 1 6 2  9 6 0 4 5 9 4 6 2 9 1 9 8 7 9 3 9 5 1 6 7 9 2 2 7 7 6 7 6 9 2 8 0 0 8 6  2 2 9 8 6 1 1 3 6 2 1 6 3 7 3 3 6 1 7 8 6 4 5 0 3 4 0 0 9 3 7 6 0 1 8 3  0 6 9 2 3 0 4 5 5 7 7 8 7 0 7 4 6 5 4 5] [7 5 7 1 1 2 4 9 7 5 7 2 7 7 7 5 7 6 8 1 9 4 2 8 7 4 8 5 3 4 1 1 8 8 2 0  9 3 0 0 8 4 2 2 3 5 3 5 0 7 8 2 1 9 7 4 0 1 7 7 1 0 8 1 6 2 3 6 5 5 6 9  9 2 4 2 5 8 7 2 9 2 6 2 5 9 5 4 1 0 5 0 8 2 6 9 4 0 9 0 6 0 1 9 4 3 2 1  7 6 2 5 5 3 0 7 3 6 3 5 2 0 5 4 7 8 3 7 8 7 7 6 9 1 5 5 7 8 1 1 6 6 2 9  6 3 4 4 6 0 3 3 1 2 3 0 0 1 4 1 3 0 9 2 9 2 0 8 7 1 5 1 7 4 3 2 6 5 1 1  9 8 1 9 2 4 0 3 0 5 8 6 2 6 9 7 5 9 2 6] [6 4 8 8 8 8 4 2 4 9 4 2 1 6 9 2 2 1 1 2 2 8 5 8 5 7 3 1 8 6 6 2 3 8 0 2  3 0 7 2 3 0 9 3 7 4 0 0 9 3 8 6 6 7 2 4 1 9 6 0 8 8 7 0 1 4 7 0 0 9 7 9  5 1 8 8 6 4 3 8 1 9 7 0 7 9 1 0 0 8 4 6 8 9 8 3 5 2 6 2 4 7 4 0 1 9 8 0  6 2 4 3 7 4 5 6 4 2 4 3 6 7 9 0 0 6 4 6 6 5 0 4 7 4 3 7 8 7 2 4 7 2 8 8  6 1 2 9 1 8 9 3 6 6 0 1 4 2 5 3 1 1 8 3 2 7 2 0 1 5 5 4 3 1 3 9 0 8 4 0  1 8 2 6 2 2 1 9 1 5 7 2 6 9 0 5 3 7 6 2] [1 7 2 4 2 3 2 7 2 7 3 3 4 9 4 5 7 1 1 7 6 5 6 3 6 3 3 9 4 0 5 4 8 0 2 1  8 0 4 9 9 2 8 7 4 4 9 8 2 1 6 8 5 7 0 4 3 9 8 0 7 0 8 6 2 4 2 6 8 4 3 9  0 3 9 0 5 2 3 3 7 1 1 8 3 7 5 2 3 9 9 7 0 3 6 3 1 4 9 2 4 8 9 5 2 9 9 5  5 6 7 3 0 7 1 3 7 8 7 6 4 4 7 1 4 5 3 9 3 4 3 3 1 3 8 5 1 6 1 6 7 1 4 1  5 3 4 1 6 9 6 0 0 7 3 7 3 6 3 6 5 6 6 2 7 8 3 7 9 7 4 0 2 8 7 3 3 8 8 4  7 3 3 9 3 1 8 1 4 5 2 9 8 6 2 1 1 1 1 5] [2 6 3 0 4 7 6 7 6 2 2 3 8 3 7 9 3 2 3 9 3 1 3 9 9 0 3 9 2 5 2 9 6 3 6 3  1 0 6 8 1 1 9 2 6 5 1 3 8 2 9 3 3 2 7 5 3 1 7 9 3 1 3 0 1 8 5 3 2 4 5 5  2 1 4 8 8 7 2 3 4 6 6 9 6 1 7 7 0 2 3 8 6 2 4 3 0 5 9 1 1 9 8 8 5 6 8 8  1 4 2 4 7 5 9 4 5 8 6 0 1 0 0 8 4 5 9 4 1 5 3 2 3 2 4 0 0 5 4 0 3 4 0 2  3 0 1 5 3 3 7 0 8 5 4 3 1 6 9 4 2 5 0 3 6 8 1 5 3 2 4 2 5 9 6 7 4 5 6 5  3 9 3 0 8 7 3 4 6 0 0 5 7 1 1 1 4 2 7 6] [1 4 4 0 7 0 1 1 6 8 3 3 7 9 3 2 0 8 2 0 0 5 0 8 2 6 8 6 1 8 4 8 3 1 6 7  8 1 6 0 6 2 1 8 0 4 0 2 4 1 2 0 0 9 9 2 6 6 8 1 4 6 7 8 5 2 9 7 9 1 1 0  0 3 9 5 5 7 0 5 5 4 1 8 7 6 3 4 0 4 9 1 0 2 2 5 4 2 9 2 8 4 7 6 7 8 8 4  1 3 0 4 3 5 5 4 9 8 3 3 7 1 9 3 7 2 4 9 9 6 1 4 5 2 4 6 1 4 7 9 4 4 6 0  9 0 0 5 1 1 3 0 2 6 3 3 4 4 9 0 0 0 6 2 8 4 4 8 4 8 1 4 7 1 7 3 3 0 3 2  2 2 0 7 4 7 8 6 5 5 1 0 0 5 9 5 7 6 3 4] [7 8 5 1 0 9 4 9 4 4 7 4 9 3 7 6 8 3 5 6 4 5 1 9 0 2 2 4 7 2 6 5 7 7 1 6  2 7 6 8 2 4 7 4 9 0 2 4 9 0 3 0 7 5 4 1 9 7 4 3 7 9 1 5 6 0 9 3 7 4 1 9  8 6 6 1 1 8 6 3 0 5 4 4 5 9 7 6 7 7 7 1 5 7 5 2 2 3 4 9 9 3 9 3 5 5 5 6  8 1 2 6 9 0 0 2 0 1 7 5 6 2 6 2 8 8 0 2 3 5 0 1 3 0 7 5 7 2 3 8 2 2 4 2  5 6 2 9 8 1 7 9 0 7 5 4 6 2 2 1 3 5 8 2 1 2 4 8 8 4 9 7 1 0 7 1 6 8 4 6  8 2 7 9 3 1 5 1 0 5 2 6 5 0 5 2 1 5 8 3] [0 1 8 8 5 9 7 8 3 2 2 4 0 3 7 7 2 2 8 3 0 8 1 3 3 9 2 2 0 0 0 6 0 2 8 9  3 0 9 9 2 8 2 2 9 8 8 0 8 0 9 2 5 7 0 0 9 0 4 8 0 6 1 5 1 7 1 2 1 2 8 4  3 4 9 1 7 9 7 0 7 7 2 6 2 2 4 3 1 4 2 7 0 1 7 5 8 7 3 4 1 7 8 6 9 5 4 9  3 5 5 0 3 6 1 9 9 8 3 3 1 9 0 0 3 2 2 2 9 5 0 9 0 5 7 2 2 2 2 6 6 9 5 0  8 6 1 6 7 1 9 5 9 7 0 2 5 6 0 5 3 7 4 2 8 0 2 9 1 7 1 4 9 8 7 8 6 0 3 3  6 2 2 6 3 5 4 8 2 7 7 0 8 5 1 3 9 9 8 1] [1 6 0 4 1 1 4 2 9 3 8 3 2 2 6 7 4 1 2 1 7 8 0 4 4 4 0 2 0 3 0 9 8 1 6 6  3 4 3 6 9 2 4 3 8 6 5 1 4 5 1 3 7 7 8 2 6 7 9 0 6 4 5 3 0 1 9 2 8 7 1 9  0 7 2 1 2 2 4 9 9 4 4 0 6 3 7 2 9 7 1 8 6 1 5 2 0 3 5 6 2 9 4 9 1 6 3 9  9 6 4 0 7 7 3 4 3 9 9 7 0 6 2 7 8 5 3 1 6 9 6 4 0 3 6 8 0 7 2 1 2 5 4 6  6 9 3 4 1 4 3 0 7 6 2 5 2 8 3 5 8 3 0 6 6 8 9 3 3 7 6 6 4 6 9 0 4 5 6 6  3 3 6 8 8 8 4 2 8 8 7 5 6 2 4 3 8 1 4 3] [7 1 0 0 2 7 7 1 2 9 2 0 7 9 0 3 4 6 9 5 5 3 1 0 0 1 7 7 3 2 0 7 7 2 1 4  1 4 0 5 6 5 2 3 9 0 8 8 6 6 5 0 3 9 8 8 9 5 6 7 1 6 6 5 5 8 0 2 3 6 9 7  2 7 3 6 4 7 8 1 9 7 3 1 8 0 3 1 1 0 8 8 2 9 2 0 0 2 7 1 9 8 1 3 2 8 3 0  6 9 4 4 1 3 9 9 2 5 8 2 5 2 0 6 0 7 0 3 6 7 3 2 7 4 4 0 3 9 5 9 5 0 5 8  7 9 5 3 5 8 2 9 4 9 8 1 9 2 0 7 8 8 7 1 1 2 5 3 7 1 5 8 7 3 2 2 3 7 0 2  6 1 0 2 3 5 8 8 2 1 5 8 1 8 8 7 8 6 4 9] [5 9 0 4 2 5 8 8 7 1 6 2 7 0 8 0 6 8 9 4 9 4 5 0 3 5 5 3 8 7 0 8 6 9 4 3  7 6 2 4 4 2 4 4 4 5 8 9 2 1 4 5 2 9 4 0 5 4 9 7 3 9 1 0 6 0 8 8 0 5 6 6  0 1 6 8 7 1 1 0 8 6 4 3 4 5 1 2 0 1 1 9 2 5 0 8 1 2 7 6 1 3 3 6 6 6 1 3  0 5 5 4 0 7 1 0 2 9 7 2 1 7 2 6 3 4 1 2 3 1 6 8 7 8 8 5 5 6 5 4 1 0 1 7  5 0 1 1 2 6 1 9 4 1 9 7 4 2 3 1 5 3 3 4 3 9 1 2 8 3 8 8 0 2 8 2 7 4 0 6  1 9 9 3 9 8 9 2 6 7 2 8 9 5 1 6 7 8 4 5] [3 2 5 5 9 4 4 6 7 4 6 7 5 0 8 1 0 7 3 9 9 3 1 8 5 0 1 2 5 7 6 9 9 1 8 0  3 7 6 6 3 3 8 5 7 2 3 2 5 5 0 1 2 4 5 9 5 9 7 8 8 1 1 2 0 6 7 8 6 3 9 3  4 4 5 1 3 8 6 6 9 7 7 1 0 7 5 2 3 4 5 8 4 7 4 4 3 4 6 5 7 1 7 5 8 2 2 6  8 4 8 6 5 9 8 3 0 7 6 9 2 1 3 8 5 1 5 4 6 2 1 0 9 4 4 0 5 6 1 4 4 5 2 9  2 4 3 7 2 3 1 0 6 9 6 3 5 2 5 1 8 0 9 9 9 7 7 6 3 3 9 3 4 3 1 7 2 3 4 5  3 3 5 4 4 0 5 4 0 6 5 2 7 6 3 3 0 6 3 9] [4 3 6 1 3 4 4 2 3 6 4 9 5 4 2 5 5 8 7 9 7 8 8 3 8 3 9 2 6 6 8 1 9 7 0 2  9 4 7 7 8 6 7 8 6 4 0 5 0 6 8 8 8 8 0 7 4 5 4 8 8 6 7 0 7 4 7 4 1 6 7 9  1 6 6 3 3 5 1 7 2 6 9 2 3 3 3 6 6 4 4 4 5 9 3 1 1 0 3 7 2 1 0 6 8 3 4 4  8 4 5 3 4 0 5 6 0 8 3 1 7 0 5 1 3 2 0 5 7 4 5 1 9 8 5 2 8 4 9 5 7 0 4 7  4 5 1 0 2 7 0 9 7 0 0 9 6 1 6 5 3 6 9 9 5 7 5 9 9 3 6 3 2 8 8 8 2 8 9 2  3 7 1 1 1 3 9 9 0 4 6 6 9 4 9 2 3 2 9 7] [7 5 6 6 6 4 9 0 8 7 8 9 7 6 4 9 5 9 6 3 5 9 8 7 7 6 6 5 0 4 7 9 0 9 0 7  3 6 9 9 2 2 2 9 8 3 4 4 7 1 0 6 5 2 0 2 0 4 1 0 5 5 9 7 2 3 9 6 2 6 0 6  9 1 3 2 2 5 4 8 2 8 4 2 3 0 9 4 5 4 2 7 0 6 5 7 0 4 7 1 2 6 9 9 6 0 4 0  9 1 3 2 1 7 3 0 7 9 3 3 0 0 5 6 6 5 3 0 5 7 9 0 3 7 5 8 2 1 5 0 0 4 9 0  3 5 9 1 0 7 1 9 9 3 6 2 1 9 8 3 9 5 3 1 9 6 2 4 3 9 4 9 2 5 3 8 9 7 5 8  3 6 3 2 4 5 4 2 2 3 5 7 6 1 8 4 9 1 5 6] [1 1 2 2 7 5 6 8 3 3 0 7 2 1 6 3 8 4 4 3 3 5 7 2 3 8 2 8 4 7 2 7 9 5 4 9  4 6 3 4 2 5 2 8 5 4 4 0 9 7 7 3 5 1 8 9 8 9 8 9 3 5 7 0 2 2 5 5 1 7 2 3  5 3 1 6 1 1 1 7 6 1 2 8 2 4 8 7 3 9 1 8 1 0 9 8 2 2 9 4 9 3 9 0 3 6 9 2  7 7 1 1 3 9 8 7 1 3 6 8 4 5 2 1 8 1 7 7 5 9 5 8 4 2 1 0 2 3 2 5 3 0 0 8  2 3 8 6 0 4 2 1 8 1 4 0 7 6 5 7 7 9 7 1 9 7 5 0 6 2 5 6 6 3 0 5 8 0 9 2  7 7 5 3 6 4 9 9 0 0 5 6 1 0 7 1 0 7 2 2] [5 3 2 6 8 5 6 8 1 7 8 1 7 6 5 5 5 8 8 3 9 2 4 1 1 5 8 0 1 2 8 2 1 0 3 6  6 0 7 3 3 0 9 6 3 7 2 0 4 6 8 6 6 7 7 2 8 7 0 0 1 1 5 3 3 7 2 8 3 4 3 3  4 7 4 5 6 0 8 5 9 1 7 7 2 3 6 0 8 2 3 3 3 5 2 2 1 9 3 3 0 5 5 8 4 6 9 7  2 0 4 0 7 9 9 5 3 2 0 3 0 3 0 5 3 2 9 6 6 2 4 9 5 4 1 0 5 5 9 0 3 2 1 8  2 5 7 0 6 0 1 5 3 0 0 5 9 9 5 9 3 3 5 8 4 6 6 0 8 4 9 4 9 3 8 7 4 1 0 8  7 1 3 1 4 5 9 2 5 5 4 5 9 1 9 9 6 4 8 5] [5 3 1 8 1 4 8 6 1 5 6 8 8 5 5 1 4 9 0 9 8 8 6 8 4 6 3 7 4 4 9 8 9 9 8 3  3 1 6 9 4 0 0 6 9 7 7 5 9 3 6 4 7 3 8 2 2 6 9 0 7 9 1 4 8 0 6 1 3 6 3 1  1 3 7 6 6 2 7 9 4 2 6 1 1 9 0 4 8 0 8 3 7 4 4 7 3 4 8 8 4 3 0 2 6 4 0 9  3 4 0 2 4 1 1 6 5 5 6 8 3 0 1 9 5 0 3 7 5 8 2 3 6 2 8 9 0 4 4 8 7 5 9 7  2 2 7 0 9 9 8 2 7 3 6 8 5 9 2 1 6 7 7 6 7 4 7 2 3 2 3 4 8 9 6 6 4 7 7 9  8 4 2 4 9 3 3 0 6 1 8 7 3 0 9 0 1 5 6 0] [7 6 7 5 0 4 0 6 1 7 7 1 8 4 4 8 1 8 8 1 2 0 0 9 4 4 5 9 2 7 6 8 8 4 8 5  7 1 7 2 7 8 6 2 0 2 0 2 2 2 1 3 4 6 0 8 2 4 4 3 4 8 5 5 8 8 3 0 6 2 1 9  6 2 3 1 4 9 4 9 4 7 9 6 3 9 0 2 8 9 2 1 8 3 8 0 5 2 4 7 7 9 2 7 4 5 8 3  0 6 8 2 1 6 9 3 5 4 1 9 8 0 5 7 8 2 4 7 8 7 6 9 2 8 2 9 9 9 1 2 3 7 7 7  8 7 2 3 6 4 9 5 0 5 9 4 4 1 3 1 5 3 2 8 0 2 7 9 9 6 0 9 2 0 6 0 9 8 2 0  6 0 5 9 4 5 0 5 2 4 2 9 0 8 4 6 9 6 4 1] [3 8 2 7 5 4 9 7 5 4 8 0 1 8 8 6 9 3 1 3 2 3 5 2 2 3 5 5 7 1 9 7 2 5 1 4  2 6 0 1 2 3 4 9 0 6 8 0 6 0 3 0 8 9 7 1 3 0 0 4 5 6 2 4 8 2 1 2 7 1 0 1  8 7 9 9 2 9 4 5 1 2 0 8 2 6 0 9 6 7 6 3 7 6 4 3 7 1 6 6 8 7 0 0 3 2 6 7  7 8 6 5 4 9 7 7 2 3 0 1 7 7 5 8 6 0 9 2 8 7 2 6 3 9 1 8 3 9 7 1 3 5 7 7  7 2 2 7 1 4 6 0 4 9 3 7 7 8 6 3 3 4 9 2 3 4 6 7 6 3 2 4 1 6 6 8 3 3 0 0  7 8 9 7 5 8 5 4 5 1 7 3 2 1 1 6 7 3 6 5] [7 2 5 2 1 5 8 3 0 4 4 1 4 4 6 8 3 3 0 1 9 4 2 5 5 0 1 3 6 6 4 8 4 0 9 7  2 6 7 3 2 3 5 5 6 0 6 0 1 7 8 5 0 5 8 0 5 9 7 4 5 6 1 2 5 1 4 8 9 6 0 0  4 3 9 1 4 3 0 9 2 4 6 9 7 9 2 9 0 6 1 7 6 1 3 1 8 6 6 9 0 5 9 7 8 4 2 7  5 7 8 8 6 4 9 1 0 5 8 9 7 3 7 5 8 6 6 9 5 6 8 6 3 6 4 6 7 2 4 3 4 3 6 9  9 6 5 8 9 2 7 7 0 2 4 0 8 8 1 4 0 5 8 1 9 9 8 9 6 4 3 5 9 4 0 1 3 4 7 7  4 8 0 2 0 3 1 4 6 5 9 1 0 7 2 8 3 6 2 9] [9 4 6 6 7 5 0 7 3 5 6 8 5 5 9 4 3 2 2 8 6 3 9 9 9 3 5 4 1 3 4 6 4 1 7 9  3 2 6 1 3 9 1 9 0 3 6 6 6 6 7 5 1 3 6 7 2 3 8 4 3 9 3 1 6 5 1 7 8 3 6 9  5 7 8 0 9 0 9 7 8 8 0 3 7 6 3 7 5 0 2 6 5 3 3 4 6 7 6 5 2 4 1 2 6 8 3 6  3 6 4 9 3 4 1 4 6 6 7 6 6 5 2 2 9 9 7 2 1 8 9 1 3 0 2 4 1 6 9 6 5 4 9 2  1 3 8 0 9 2 3 4 0 3 7 3 0 8 2 4 2 4 8 6 7 2 0 5 3 4 7 6 7 4 6 6 8 6 4 7  1 2 2 7 8 3 1 3 6 0 0 3 2 4 1 8 0 5 7 5] [2 8 3 3 6 4 8 6 6 7 4 8 0 1 2 3 1 8 5 2 0 0 0 1 9 5 2 7 8 3 9 0 9 6 0 6  0 6 9 5 8 9 5 4 3 5 5 4 4 9 1 4 6 1 0 6 7 9 5 1 5 2 4 5 2 8 4 8 5 9 4 3  8 6 3 3 2 8 3 5 5 0 8 1 2 1 8 8 3 6 4 8 5 9 8 4 6 8 1 4 4 8 8 9 7 7 0 1  0 6 7 9 9 4 0 9 5 1 3 9 6 4 3 3 1 3 3 1 0 6 7 2 8 4 0 4 2 9 2 6 5 5 5 6  3 2 4 5 6 0 0 8 8 1 3 1 8 9 8 7 3 2 4 8 9 1 4 1 7 9 4 9 3 5 0 1 6 5 2 1  8 6 4 8 8 9 3 2 3 5 3 7 2 7 1 0 2 8 6 6] [1 1 6 3 6 7 0 4 0 6 2 2 0 9 4 4 0 0 4 6 4 1 9 5 7 9 8 5 8 6 0 6 3 9 5 0  9 2 1 7 9 5 3 2 1 3 7 6 9 4 9 5 6 6 8 1 6 7 9 8 9 5 6 5 7 6 7 7 4 6 2 9  7 7 2 6 5 1 2 6 9 2 3 3 6 1 8 7 0 2 0 6 3 3 0 9 1 5 6 7 5 9 4 4 9 0 4 9  0 3 8 0 0 5 9 1 7 6 9 4 5 7 1 0 0 3 7 2 1 2 6 8 5 6 6 9 1 2 2 4 7 7 2 4  6 3 6 0 8 6 9 8 5 8 9 7 7 9 3 7 6 4 8 3 3 6 2 3 6 7 0 4 0 9 4 8 6 8 1 8  6 9 2 5 7 9 2 0 6 2 9 5 5 8 0 5 8 2 6 5]]', '[[8 4 8 2 4 5 2 3 4 3 3 4 2 1 1 5 2 8 0 0 1 0 7 1 7 4 8 1 4 6 2 9 1 9 2 7  6 3 6 5 5 9 9 4 2 7 0 5 4 2 7 5 7 3 3 0 3 1 8 5 5 5 0 2 8 2 8 3 2 5 8 2  9 5 4 9 4 6 1 8 5 9 9 1 2 1 2 7 0 3 0 5 1 4 6 8 1 2 1 1 6 0 1 6 6 8 4 5  8 8 7 7 0 2 4 2 5 3 9 6 8 7 3 2 9 5 7 9 6 5 4 8 8 2 0 7 0 7 4 8 1 7 5 6  1 4 5 1 8 7 1 8 2 3 8 0 6 7 7 5 5 6 1 1 4 7 9 1 4 6 4 2 0 3 4 6 6 5 0 3  4 9 6 0 1 3 2 6 9 0 4 7 7 8 5 6 5 9 8 3] [0 0 9 4 1 1 9 8 1 9 1 2 5 1 9 6 1 2 2 8 0 1 8 6 9 7 1 7 7 7 6 4 8 5 5 2  7 2 7 6 1 0 6 5 1 9 7 4 0 5 8 9 0 4 4 7 7 4 9 5 8 4 4 8 6 6 2 6 2 9 5 9  1 7 7 2 4 2 3 8 8 9 6 7 5 4 0 9 1 7 0 4 1 6 6 3 4 8 1 4 6 7 8 3 6 7 8 2  9 0 4 0 4 7 3 1 6 8 1 1 1 3 0 7 2 7 9 7 3 5 3 4 6 9 4 5 7 7 8 9 7 8 7 4  4 7 4 6 0 4 2 2 5 3 9 8 2 2 0 3 4 8 4 0 7 8 5 8 8 8 5 6 5 3 4 2 7 4 0 7  7 5 0 0 2 1 9 5 6 7 6 2 6 1 4 5 8 5 1 3] [1 9 6 4 7 6 7 3 0 4 4 1 2 6 8 5 8 4 9 1 4 9 7 9 8 7 4 6 6 6 7 5 7 8 4 4  1 5 1 1 7 8 9 9 2 0 6 4 0 3 4 6 9 1 8 2 2 2 4 9 4 3 5 4 6 3 8 0 7 2 8 0  7 2 7 5 3 1 5 4 4 6 5 3 4 0 3 7 1 7 4 7 3 7 6 8 9 6 2 9 3 0 5 0 1 0 4 1  2 4 5 6 0 4 6 1 3 3 6 3 6 7 4 1 1 1 4 8 0 8 3 7 9 3 5 2 9 2 8 2 9 1 9 4  8 0 2 6 7 9 4 2 3 1 5 6 2 5 2 3 3 7 0 1 4 7 8 6 5 1 7 2 1 3 5 3 9 6 0 6  2 9 4 4 3 6 7 6 8 0 9 5 8 8 7 3 9 2 1 8] [3 9 5 5 0 6 6 7 9 3 6 0 4 0 6 2 4 1 4 0 2 5 6 0 6 2 4 8 1 0 8 1 4 1 6 9  2 0 3 2 3 0 4 1 1 8 8 6 0 4 6 3 5 7 7 7 7 2 7 4 1 4 4 5 7 8 8 1 4 5 1 4  8 4 6 2 7 2 6 5 3 8 9 7 4 6 9 5 4 1 9 0 5 9 8 5 0 8 4 6 0 0 4 7 1 4 1 3  3 3 6 4 3 7 0 7 2 3 3 5 3 0 7 1 0 5 1 3 6 3 1 7 7 5 2 9 9 5 3 1 1 5 3 7  1 5 3 4 1 3 0 8 9 1 5 9 4 5 0 9 4 3 8 6 1 3 2 0 9 7 1 2 0 4 8 8 4 4 2 3  2 5 5 5 8 5 6 5 9 1 7 3 4 8 9 2 8 0 1 4] [6 8 1 6 1 0 0 5 3 5 8 2 4 1 3 2 0 5 3 9 3 0 1 5 6 8 5 6 1 9 3 7 7 6 5 5  6 9 1 0 4 3 0 1 3 5 7 5 7 9 7 6 2 8 5 0 9 1 3 3 1 7 2 5 3 2 2 2 3 1 5 3  6 6 4 1 6 1 8 4 3 5 3 9 3 8 4 5 2 2 8 0 7 3 5 8 0 4 3 6 6 4 7 4 9 1 7 7  4 5 7 7 8 2 8 5 0 0 9 4 9 9 8 3 8 6 0 7 0 8 9 5 0 5 1 2 7 1 5 6 0 8 3 6  0 8 1 0 2 1 9 3 5 7 8 1 2 2 0 2 8 5 1 0 7 6 1 8 4 7 6 9 7 7 2 9 0 8 3 6  9 4 0 6 0 2 9 1 1 8 1 8 9 6 1 9 9 4 8 7] [8 3 9 9 4 3 6 7 9 6 5 0 8 4 7 9 3 6 6 4 0 3 0 0 7 1 8 0 8 3 1 6 5 2 6 5  7 6 4 3 8 8 8 2 0 5 7 5 0 3 8 0 9 6 8 0 8 3 9 3 6 5 1 4 1 9 1 2 4 0 5 7  4 0 7 6 7 0 1 0 2 1 8 3 4 0 1 5 0 6 8 7 1 0 3 1 6 7 7 8 5 7 9 0 8 8 4 9  1 9 5 5 5 4 3 6 7 2 8 5 8 2 8 3 9 4 2 5 5 6 1 4 5 9 4 3 9 2 3 4 3 5 8 5  6 4 6 0 4 7 6 9 4 3 8 2 2 6 2 2 3 3 0 3 7 8 0 0 0 7 9 8 6 9 9 4 7 0 7 3  3 8 3 8 5 2 5 7 0 3 8 4 6 9 9 5 1 4 5 5] [0 1 8 8 9 7 2 6 0 0 7 6 3 3 7 3 0 7 1 7 5 2 2 0 7 2 5 4 1 7 5 7 7 9 6 0  2 0 0 3 8 5 5 5 3 4 8 7 1 1 4 7 2 2 4 6 3 9 2 4 6 6 0 0 3 7 5 3 1 5 9 6  8 3 9 9 0 4 9 4 4 6 3 1 3 1 4 4 6 4 0 0 8 5 9 3 7 0 8 8 9 5 3 4 2 3 9 6  8 6 6 6 4 7 0 2 3 8 8 3 6 4 4 0 8 3 8 5 9 2 4 4 7 4 7 1 2 7 0 7 9 9 2 1  3 2 3 5 6 8 0 7 7 6 8 4 7 2 8 4 7 2 8 0 5 0 7 2 9 7 2 6 7 5 6 6 1 1 9 8  7 6 2 9 3 3 5 6 7 1 7 9 1 6 0 5 9 0 6 3] [7 4 9 7 0 1 4 2 5 7 5 5 1 6 9 8 1 4 1 2 5 4 9 1 5 4 2 6 0 6 0 1 2 5 8 1  8 3 2 2 1 2 0 0 8 8 4 7 2 3 7 2 9 2 6 1 3 7 1 7 4 9 9 3 3 2 1 3 6 6 8 5  4 6 6 7 8 6 9 3 7 1 5 1 2 7 6 2 3 0 4 5 8 9 5 1 2 8 7 5 6 6 8 3 1 7 4 9  2 9 0 8 0 0 1 6 3 5 0 4 8 2 6 8 8 7 8 3 3 2 7 0 4 5 2 1 1 2 9 0 3 9 6 2  8 5 5 3 0 2 8 6 2 0 1 9 9 0 4 9 8 7 9 8 2 3 8 4 3 6 2 8 8 0 2 5 9 7 5 5  6 9 0 7 1 3 6 7 2 0 2 6 2 2 2 0 7 2 3 1] [1 5 4 0 8 4 6 1 3 7 8 4 8 9 4 6 7 9 2 2 4 3 8 2 4 6 0 7 3 5 4 1 5 2 8 1  7 0 2 8 3 0 4 0 1 1 2 6 8 5 0 6 5 5 6 0 8 3 3 8 0 1 4 7 1 6 2 6 9 0 2 7  4 2 3 4 7 6 9 3 6 9 3 2 6 4 9 9 4 1 2 3 9 0 7 8 2 7 2 6 1 3 9 8 9 7 8 0  9 1 4 5 3 8 7 0 2 3 0 3 4 8 6 1 8 5 7 4 1 7 1 2 9 6 9 1 9 7 0 9 7 9 7 2  3 2 6 6 4 0 5 0 9 8 4 9 4 8 0 6 8 3 3 7 5 0 8 8 0 6 0 7 4 7 2 6 4 8 0 8  8 6 7 3 0 9 1 0 8 1 7 1 0 4 4 5 7 4 9 2] [8 0 8 9 2 0 9 6 1 8 9 5 1 8 2 9 1 9 0 6 1 5 6 2 5 3 3 9 0 2 1 9 5 8 7 4  2 4 2 7 9 6 7 1 8 2 5 1 4 1 8 5 5 1 0 1 5 9 6 7 1 9 0 9 4 0 8 6 9 7 6 1  8 3 5 5 1 7 3 2 4 0 7 8 8 2 2 3 1 5 7 0 3 1 2 0 7 3 7 7 4 3 9 3 1 4 7 1  6 8 8 9 5 6 8 4 9 8 3 2 6 5 3 6 7 3 9 1 8 3 9 8 7 2 7 6 5 9 2 0 2 6 6 5  5 2 1 1 1 3 2 3 6 1 8 4 2 0 3 9 7 1 7 6 5 6 0 0 8 0 0 2 1 2 5 0 3 5 1 0  4 2 6 5 4 0 5 7 6 0 0 2 8 5 4 2 4 3 2 5] [7 8 6 5 6 6 4 4 7 9 1 9 3 8 8 3 4 3 1 7 3 2 4 9 3 0 7 5 9 0 1 8 7 9 8 2  5 3 4 7 4 4 9 3 7 0 3 8 0 2 6 2 6 4 8 4 8 4 2 6 9 7 0 2 9 4 9 2 8 8 2 6  7 3 3 8 6 2 2 9 0 6 8 2 0 2 1 9 2 1 1 8 2 8 5 7 8 0 0 4 7 5 9 0 3 2 0 5  6 2 3 8 4 7 2 3 7 7 9 2 3 0 2 7 0 5 5 1 4 3 4 0 1 2 7 7 5 8 5 5 0 0 7 2  5 8 1 3 2 2 6 0 0 3 2 8 9 9 7 8 4 8 4 1 5 3 3 9 6 3 4 2 3 7 5 2 7 9 8 9  1 7 0 6 6 5 6 5 5 2 4 7 0 3 9 5 2 6 7 0] [6 6 6 6 0 2 0 8 7 6 9 9 8 9 0 2 2 4 1 6 8 6 1 2 4 5 4 2 6 0 5 1 6 8 6 0  8 1 7 0 3 0 6 4 1 4 6 2 0 0 6 0 4 9 8 1 9 1 6 2 0 3 8 9 9 0 2 2 3 1 7 2  5 9 1 6 2 4 9 1 4 5 1 2 6 1 3 2 4 6 4 7 9 3 4 5 6 8 1 3 1 2 3 7 8 4 5 8  7 6 6 2 0 9 5 5 7 6 6 4 9 5 4 7 6 2 0 0 6 6 2 7 0 0 1 8 9 0 0 9 5 5 8 2  7 6 0 6 9 6 9 0 6 9 5 7 5 3 3 4 1 8 9 1 5 2 9 5 0 6 1 8 0 3 7 7 6 7 2 7  7 8 3 1 9 2 6 4 9 3 2 0 2 7 8 2 6 2 3 3] [5 8 2 9 5 1 1 4 2 8 5 3 9 9 2 1 7 9 4 5 8 2 5 0 1 5 7 4 2 6 3 1 9 1 4 5  5 6 3 4 3 9 5 0 3 3 5 6 1 1 3 4 6 2 0 0 0 0 7 4 1 9 5 9 5 3 8 3 1 5 6 9  7 4 5 9 7 4 6 6 8 4 5 7 4 5 6 1 7 3 8 4 9 0 3 9 3 2 8 9 5 6 1 7 1 2 2 3  4 6 5 0 6 0 9 3 0 8 5 5 9 7 1 5 2 2 2 0 9 2 1 6 7 0 6 4 1 8 1 5 3 4 6 6  8 6 8 6 6 4 9 8 7 1 3 2 2 2 4 5 6 8 0 8 5 0 8 4 1 9 8 6 8 4 7 4 3 7 1 1  3 8 7 4 7 1 9 4 4 1 5 2 5 5 7 8 2 7 5 3] [4 3 0 1 6 1 2 8 8 5 1 9 3 3 4 0 2 7 3 6 8 4 3 3 5 9 1 4 4 5 8 1 5 7 2 7  7 0 4 9 6 8 0 4 8 7 1 7 6 0 5 5 6 9 3 6 5 2 3 0 6 4 7 7 2 8 4 5 9 9 1 7  3 2 4 1 4 8 6 3 7 9 8 2 4 5 7 2 7 1 2 9 9 3 9 1 4 3 1 6 8 0 0 3 8 5 6 7  5 1 9 5 3 6 0 1 0 1 9 7 1 6 8 1 6 2 4 4 3 7 8 7 1 8 5 5 4 0 6 4 2 4 5 6  3 6 1 7 7 1 1 1 7 7 2 8 4 0 0 2 7 5 3 0 5 4 3 4 4 1 1 1 3 2 4 0 0 0 9 5  7 9 9 4 5 5 6 2 7 4 7 0 8 8 0 4 5 9 3 0] [7 2 4 1 5 6 2 4 5 6 3 7 1 2 6 9 4 5 3 0 1 2 5 0 0 6 3 0 1 4 2 3 9 4 3 7  4 7 0 8 9 0 3 6 1 8 1 8 5 4 4 9 1 7 8 6 5 8 8 7 1 3 2 4 3 3 8 3 2 5 6 2  9 6 6 1 0 2 0 3 0 0 8 1 5 2 9 9 3 7 1 8 0 4 7 8 4 6 4 8 3 7 9 6 7 4 9 9  7 5 9 8 8 4 5 4 6 7 3 8 5 8 9 2 2 0 2 5 0 6 3 9 1 1 5 9 6 5 6 3 9 8 7 2  9 9 2 8 2 3 5 3 0 7 9 5 9 6 9 8 4 5 9 0 3 7 0 0 2 9 0 2 8 4 4 4 0 6 1 2  9 2 0 2 1 4 9 3 5 9 9 9 5 1 6 2 9 5 4 3] [8 8 5 4 1 3 5 2 2 8 9 2 1 1 5 4 0 9 9 5 5 7 5 4 6 9 1 7 1 9 8 1 7 7 6 3  4 7 0 5 0 6 8 2 7 7 2 3 3 4 0 5 7 7 4 1 6 4 9 4 1 9 6 0 5 7 4 5 5 3 1 0  4 3 9 0 0 5 8 2 2 7 3 4 6 1 2 8 0 0 7 4 4 2 0 9 3 0 2 1 1 3 3 0 6 2 7 4  0 3 0 0 4 9 4 7 6 7 8 8 5 1 7 9 4 7 4 6 7 1 1 0 8 7 5 1 9 1 1 7 3 8 2 0  5 8 6 5 3 3 2 5 4 4 8 4 9 3 4 2 7 8 3 2 1 3 1 4 9 4 5 7 1 0 6 2 1 8 3 9  4 8 5 5 3 0 7 9 3 6 2 4 0 8 9 1 1 2 1 6] [7 2 4 6 3 6 5 8 3 9 2 2 8 2 6 3 9 2 9 6 3 6 9 0 1 5 7 0 6 6 7 1 6 6 6 5  2 2 0 7 8 4 8 0 3 7 7 1 9 4 9 4 3 6 5 7 9 2 2 7 5 1 9 2 6 2 2 8 2 2 6 0  0 3 6 1 4 1 8 9 2 2 0 2 1 6 3 2 4 2 9 0 4 8 1 4 4 1 1 4 1 6 2 7 4 2 2 6  3 0 3 7 0 3 7 8 4 3 2 9 0 3 0 3 8 6 1 9 2 6 7 8 6 1 0 5 0 7 3 5 9 5 0 1  9 5 7 4 8 3 9 4 3 6 9 4 3 4 9 5 1 5 1 3 4 0 3 6 0 5 0 3 2 5 4 8 6 0 2 6  7 0 0 5 5 2 4 9 5 7 1 8 1 3 2 9 6 5 4 5] [0 7 6 1 1 0 5 8 6 6 6 1 8 9 1 0 4 3 2 9 7 4 0 9 0 3 7 1 5 7 5 8 4 7 5 0  9 0 8 7 4 2 1 0 4 6 4 3 9 5 7 8 1 8 3 0 1 2 2 0 2 6 0 9 0 7 4 5 6 8 4 6  5 2 6 1 8 5 7 3 8 9 4 8 9 8 0 2 2 3 9 3 6 2 1 1 9 5 1 9 0 3 2 4 1 1 9 6  0 1 9 2 0 3 8 3 6 1 4 4 3 9 4 6 0 6 9 1 7 7 2 0 2 8 6 6 2 1 3 6 7 3 7 9  4 5 8 9 1 6 3 6 2 3 3 0 7 0 7 9 8 1 1 7 1 8 9 4 7 3 5 7 4 6 5 5 1 4 3 1  2 1 9 6 5 5 0 1 8 4 9 4 1 0 8 1 3 8 2 1] [4 2 1 7 1 6 8 8 1 0 5 2 1 3 9 2 4 8 8 0 6 7 0 3 5 1 8 0 4 2 0 3 3 6 4 4  8 3 6 4 6 5 1 0 6 5 2 0 0 4 1 4 6 2 9 8 0 7 8 3 2 4 3 1 3 1 1 6 0 4 3 3  8 9 8 7 2 7 1 1 5 3 4 0 4 8 6 3 1 6 8 6 5 5 1 1 6 5 5 5 3 0 7 9 8 8 3 7  6 3 6 8 3 8 7 6 7 4 2 9 2 2 8 3 8 1 0 4 2 0 4 1 1 0 6 2 5 2 1 4 7 0 1 9  8 1 2 2 7 9 1 1 2 6 3 9 9 9 9 4 6 8 9 4 8 8 3 4 5 3 4 0 1 1 9 2 1 4 6 7  9 7 4 9 0 1 9 8 8 8 0 9 9 5 9 6 2 0 6 1] [7 2 2 2 3 5 9 1 7 2 0 9 7 5 0 5 1 9 2 6 0 8 6 7 6 6 2 1 9 9 8 4 4 4 0 8  9 9 9 6 2 7 9 9 6 1 0 0 7 5 9 3 7 3 2 3 4 1 6 5 2 4 8 1 7 2 9 2 7 7 5 4  6 7 3 1 4 5 9 1 8 9 1 8 2 7 4 2 7 6 3 6 7 8 4 9 5 6 7 3 7 2 8 3 8 6 6 5  4 1 3 5 5 3 1 8 6 8 3 8 6 4 2 4 5 6 8 6 2 8 6 0 0 8 0 8 3 0 2 5 1 2 2 2  2 7 2 8 7 9 5 4 5 3 6 0 5 0 4 6 8 5 3 6 0 1 9 5 4 4 6 8 1 5 3 9 3 3 8 3  8 9 2 9 5 0 2 4 6 5 8 9 1 7 2 4 5 2 0 1] [5 2 4 0 2 1 5 2 7 0 1 8 9 8 8 3 5 8 0 0 8 1 4 4 4 9 5 6 2 2 2 8 1 0 0 3  4 9 1 6 0 8 7 6 6 3 2 6 7 2 5 1 7 7 4 0 6 1 4 3 5 5 4 6 7 4 8 9 8 1 7 7  4 4 2 1 0 3 3 8 3 9 8 5 7 1 5 2 9 4 6 5 8 2 4 6 3 2 6 6 2 2 5 7 1 2 9 7  8 3 1 5 7 8 8 3 1 8 7 7 9 7 9 9 0 6 7 2 6 6 2 2 5 0 6 7 6 4 4 3 8 7 3 1  4 0 8 8 7 2 8 3 4 8 6 8 2 3 8 4 7 5 8 1 9 9 8 7 3 2 4 6 8 3 5 3 5 0 7 8  1 2 7 6 2 3 7 0 5 1 2 1 6 4 3 0 4 3 6 0] [8 3 5 2 8 9 7 5 1 0 9 8 5 8 9 6 9 0 7 0 8 5 9 6 9 9 7 6 0 9 7 5 8 0 7 3  9 1 8 5 0 7 6 5 9 5 6 3 1 9 7 5 9 0 8 0 0 5 8 4 5 9 8 8 0 1 2 3 4 1 7 1  5 3 1 5 5 5 8 4 1 3 8 5 4 0 9 0 6 5 9 5 6 6 0 1 1 3 5 7 8 1 4 4 1 8 5 0  1 0 4 0 6 2 6 4 5 9 8 9 1 4 1 4 0 6 2 0 8 8 9 2 9 3 0 9 6 6 7 5 0 9 7 9  8 7 8 6 9 8 1 0 9 0 1 0 2 7 0 5 2 2 5 0 6 4 2 6 9 8 4 5 9 8 2 8 8 2 6 3  7 1 5 8 0 6 4 4 7 6 4 3 2 8 7 0 6 8 5 0] [7 7 7 2 2 4 9 9 7 9 6 5 1 3 8 8 1 2 1 5 8 0 5 8 7 7 3 9 8 3 3 8 8 3 4 2  6 3 1 2 7 5 8 1 0 1 5 5 7 8 6 3 3 5 2 2 6 3 4 4 4 3 9 7 6 3 6 8 3 4 4 8  8 7 6 1 9 8 1 3 4 0 6 0 3 2 8 7 4 8 3 6 0 3 2 6 9 8 5 4 3 9 0 3 6 1 0 7  3 4 6 1 7 9 9 8 0 3 2 3 5 7 3 5 5 8 4 4 0 0 4 8 5 9 4 3 0 4 9 2 3 0 0 1  8 7 4 3 5 8 4 3 5 3 4 4 9 9 4 2 6 5 7 1 2 3 0 5 0 1 9 0 5 4 0 1 4 5 7 1  2 0 7 7 8 2 2 4 5 9 9 0 6 7 1 3 9 5 6 0] [1 0 1 3 5 4 7 3 1 1 6 1 5 8 8 9 5 5 5 2 3 0 6 8 5 7 8 7 0 6 1 0 8 5 7 0  1 8 4 6 9 5 9 4 4 6 1 4 1 0 6 5 4 8 2 9 0 7 5 2 7 3 4 8 7 9 1 2 9 3 7 1  9 8 4 6 7 4 1 1 6 2 3 3 7 2 8 3 4 7 5 2 4 2 1 8 9 1 8 5 8 0 8 9 7 1 7 9  2 5 9 4 6 2 6 1 5 9 5 8 0 4 4 9 3 1 5 7 5 0 4 1 3 8 1 9 6 7 2 5 7 4 3 2  6 2 2 1 9 5 9 0 5 4 0 0 9 2 1 4 1 9 2 2 1 9 5 3 0 1 9 6 5 4 6 1 3 1 3 0  3 0 7 1 4 2 2 5 8 7 6 1 0 8 2 9 8 5 8 0] [9 2 8 7 9 4 7 3 5 6 6 0 8 1 8 1 3 8 9 8 9 1 0 0 6 0 6 2 8 7 5 7 4 1 5 2  4 7 7 2 2 7 8 0 4 3 3 6 3 3 7 9 4 7 2 4 4 8 8 7 8 9 9 8 7 4 5 8 9 3 2 4  9 6 5 3 9 7 7 9 1 4 9 8 2 1 8 9 1 8 4 6 6 5 4 1 3 6 6 8 8 1 1 3 1 3 2 9  5 4 5 8 3 0 6 5 7 1 6 8 7 1 8 0 9 4 3 5 7 6 8 7 2 6 2 4 0 3 2 8 9 2 0 2  7 0 1 9 7 0 6 9 5 2 2 1 0 6 3 6 6 9 6 8 4 5 6 6 0 5 8 8 0 4 4 6 0 1 8 2  0 0 7 0 1 6 0 6 2 8 6 5 1 8 5 2 8 9 4 4] [8 3 0 1 9 7 4 5 6 5 1 4 2 2 9 5 6 4 5 4 8 9 3 2 1 2 3 5 3 2 1 6 1 2 2 2  4 3 8 6 2 6 6 1 3 5 3 6 2 1 3 1 1 9 3 4 9 5 7 7 2 4 6 1 5 3 4 9 1 8 0 8  7 0 9 1 3 1 4 8 2 0 7 2 7 0 9 4 7 0 2 1 1 1 8 6 6 2 2 8 0 3 9 4 7 4 3 2  6 4 8 1 8 6 6 6 7 4 7 6 6 3 1 0 5 8 5 9 1 4 1 8 9 2 2 8 3 6 7 7 5 6 2 1  2 6 1 4 7 6 0 4 2 2 8 4 4 7 8 4 5 7 9 0 4 4 3 0 2 1 3 1 0 5 4 3 7 4 1 4  8 9 7 1 4 1 7 8 2 9 6 0 1 3 9 1 5 1 8 9] [7 0 4 3 1 1 9 3 2 5 8 7 3 0 4 1 9 5 2 3 0 0 7 9 6 7 4 5 8 0 7 9 6 6 3 2  7 9 0 6 8 3 5 5 9 7 9 2 7 8 3 6 7 9 8 9 2 9 5 4 6 8 9 4 5 2 4 4 4 4 5 1  6 5 8 5 6 1 6 2 0 1 9 8 7 9 4 3 3 1 7 1 6 0 2 2 3 2 7 8 4 3 0 9 3 5 4 4  0 5 3 2 1 3 1 9 4 5 9 4 1 8 2 9 9 4 0 5 1 6 0 3 6 6 7 6 8 8 4 2 9 2 1 1  1 2 4 8 7 6 6 7 8 5 4 0 9 8 1 3 2 1 4 8 4 1 0 1 8 7 6 7 8 4 6 7 2 5 0 9  5 4 3 8 2 4 9 0 4 3 1 1 7 8 0 8 4 2 3 8] [5 0 9 6 1 6 1 8 6 0 6 3 4 8 6 1 1 7 1 4 5 7 9 2 0 2 5 4 7 6 2 8 9 9 7 5  4 6 4 8 8 6 3 4 0 7 9 2 2 9 8 3 2 1 7 5 0 4 5 4 5 5 9 7 1 8 3 3 2 3 2 8  3 0 8 8 2 4 9 8 9 8 8 0 0 0 3 1 6 8 0 6 2 4 3 7 9 2 9 3 1 6 7 7 3 4 3 5  3 6 1 6 7 8 8 7 5 7 8 9 9 8 4 9 8 5 8 7 4 8 7 1 3 6 5 7 4 7 8 6 4 4 5 3  3 6 2 6 4 6 1 1 8 7 1 2 4 1 8 6 4 2 9 8 1 8 8 1 4 2 7 6 8 0 6 7 4 0 1 7  1 1 4 4 1 8 7 1 5 0 3 7 0 4 0 2 7 1 4 3] [1 7 0 7 5 8 3 3 6 1 0 6 5 8 1 1 5 3 5 2 9 2 3 8 9 2 8 4 1 1 9 6 8 7 7 6  2 1 2 6 7 2 4 0 7 2 1 8 8 6 8 8 0 0 6 1 9 3 5 6 4 0 4 8 9 9 2 0 4 3 6 0  8 6 2 0 4 7 5 9 3 4 3 2 4 9 4 7 3 5 5 1 8 3 1 7 3 7 2 9 5 9 9 7 4 0 5 6  6 9 8 2 0 8 7 3 7 3 2 1 9 1 5 6 7 7 6 3 2 8 4 1 1 2 8 6 1 3 2 2 9 9 7 7  8 3 4 8 6 8 1 8 2 3 7 9 9 9 9 3 7 8 4 4 3 1 6 6 0 2 0 9 8 5 6 1 2 2 9 3  4 0 1 7 6 0 5 9 2 7 7 5 1 2 5 3 9 7 4 0] [5 9 1 7 4 7 3 4 7 6 7 9 8 8 6 8 6 7 1 7 9 9 1 8 2 8 0 4 2 8 9 9 5 9 3 8  8 0 2 1 1 0 4 5 8 9 4 6 5 5 5 6 2 6 6 7 8 2 7 4 6 8 3 2 0 0 0 2 7 1 1 6  0 8 8 7 2 6 7 3 0 4 7 1 1 6 6 8 7 2 1 2 9 6 4 2 1 1 6 0 7 5 1 8 0 1 0 6  2 9 5 3 9 1 6 9 9 6 2 9 8 1 0 3 0 0 7 5 4 6 5 7 4 3 7 3 3 1 6 1 1 7 5 9  8 0 3 5 0 8 7 6 5 4 2 4 9 7 1 2 9 0 9 5 5 1 9 6 7 4 3 7 1 1 8 8 1 9 6 0  5 5 5 4 9 7 7 7 4 4 6 6 4 7 4 8 8 2 6 1] [0 8 8 8 6 6 2 7 1 6 8 1 5 7 1 6 1 1 3 1 0 1 5 1 9 5 1 0 5 5 4 8 4 2 3 9  4 9 8 1 3 1 6 2 7 0 1 1 6 8 6 8 2 3 0 0 6 9 2 0 0 4 3 0 9 7 9 5 8 5 0 2  5 8 6 3 3 8 3 8 5 5 2 0 5 5 9 5 5 6 6 4 8 2 0 3 9 5 8 8 4 5 1 9 7 3 6 1  6 5 7 3 7 5 3 6 7 0 6 1 7 9 3 5 9 5 1 6 9 0 7 2 4 4 0 0 5 1 5 6 5 3 1 6  8 4 4 1 5 1 2 4 1 9 0 3 6 1 0 4 5 7 6 3 2 1 1 8 1 9 0 9 7 2 4 4 1 5 6 6  9 4 7 8 1 9 5 2 2 3 1 6 4 3 1 8 1 0 9 9] [7 7 3 8 3 8 1 0 6 2 8 0 7 2 2 0 1 3 2 7 0 1 7 9 1 2 2 3 3 5 5 5 6 9 5 0  1 4 5 4 2 8 2 3 4 5 3 1 9 5 0 8 2 0 6 9 3 3 7 7 0 7 8 9 6 7 8 8 0 1 4 0  5 8 9 5 2 0 3 3 7 2 2 3 4 9 1 9 6 6 7 1 7 7 3 8 0 8 4 4 8 2 1 8 7 8 7 6  8 8 2 2 4 2 3 2 5 0 4 8 5 1 1 6 6 1 0 4 7 4 9 8 6 4 6 5 8 0 8 4 5 6 3 5  5 3 9 0 2 9 1 5 2 8 7 2 5 5 6 9 7 8 2 7 7 2 8 9 3 9 0 0 7 8 3 4 0 6 7 5  1 2 7 5 3 8 0 6 2 2 7 8 3 2 5 9 0 0 2 4] [4 2 7 1 2 8 5 6 9 4 9 1 8 8 4 7 4 3 7 2 2 0 6 5 3 1 4 7 1 5 9 2 0 0 4 4  3 5 6 2 7 5 5 7 3 3 0 8 8 2 8 3 9 8 9 5 7 9 8 7 3 2 7 4 0 3 0 8 5 2 6 5  8 3 1 6 3 0 3 7 0 8 3 0 2 6 7 4 3 7 4 4 1 6 9 0 4 4 9 6 6 7 4 6 3 5 0 7  3 9 3 9 3 2 0 0 8 8 0 8 4 6 0 3 8 3 9 5 4 7 2 6 6 5 0 6 6 8 2 6 4 5 2 1  0 5 3 0 9 6 6 9 4 6 3 8 3 4 0 2 5 5 4 1 9 8 9 0 7 6 5 7 7 7 1 1 6 9 3 8  5 3 9 8 3 9 1 9 8 7 5 4 1 8 8 3 0 5 2 6] [9 0 6 0 8 1 3 9 2 6 4 1 5 2 6 9 0 1 5 5 0 2 8 1 1 7 3 8 6 5 6 8 9 7 0 6  3 4 9 9 5 9 0 7 8 5 8 6 2 9 2 3 6 9 6 6 1 3 1 8 2 5 2 4 7 2 7 3 0 2 6 8  4 6 4 3 2 2 7 9 8 4 7 3 9 1 1 5 6 1 0 2 9 2 6 5 1 2 4 8 9 6 4 0 3 7 2 3  0 3 2 4 4 9 9 6 1 8 1 6 6 5 9 1 8 8 1 4 1 7 3 7 1 8 8 0 1 8 9 2 1 3 4 0  8 1 7 7 6 0 5 0 2 3 1 4 3 5 0 8 9 8 9 1 8 2 8 4 8 9 4 8 5 5 3 6 0 2 8 7  7 5 0 1 2 3 2 0 8 5 0 7 4 9 7 7 7 8 4 4] [8 6 6 1 9 1 6 2 8 4 5 9 5 7 4 5 5 8 8 0 9 1 6 5 9 4 2 5 2 6 4 9 7 8 7 9  0 0 4 0 9 7 8 3 9 6 5 7 6 4 9 0 9 4 9 7 1 8 1 8 3 9 0 4 4 2 2 9 8 2 4 3  2 2 6 4 5 9 1 3 7 3 9 4 0 4 7 9 9 2 6 4 2 8 4 2 6 3 4 4 3 3 1 7 4 2 2 6  3 3 2 2 2 0 5 9 2 5 1 6 2 6 6 4 0 7 0 8 1 9 9 7 4 6 3 7 5 8 3 4 1 4 1 2  5 3 7 0 1 8 7 8 1 5 7 6 3 9 5 7 0 0 1 6 2 0 4 7 5 3 6 5 2 7 1 6 5 5 0 2  8 8 2 4 4 6 1 8 2 2 3 0 6 6 1 7 2 1 0 1] [4 7 8 3 6 9 9 2 4 7 3 1 6 3 1 3 0 8 3 8 2 9 1 1 0 2 2 5 4 4 0 3 1 4 7 5  9 8 1 6 1 1 8 2 8 1 4 9 6 8 0 8 8 5 9 7 4 2 7 5 2 7 3 1 0 8 6 6 9 1 5 9  9 8 5 7 9 4 5 6 1 4 9 1 5 0 2 8 0 0 7 6 2 7 8 7 2 3 7 1 7 0 1 8 3 5 5 0  3 4 9 4 7 7 9 2 1 4 2 5 0 7 4 6 5 9 7 0 2 1 9 9 6 1 4 0 2 4 5 1 1 4 5 5  1 7 1 4 9 2 7 3 0 6 3 6 0 3 0 2 7 4 7 1 8 1 5 3 1 8 0 9 3 6 3 3 5 3 3 4  0 3 7 7 4 6 7 8 9 4 8 8 4 9 8 9 1 1 9 1] [7 3 5 4 9 7 7 0 0 6 7 4 0 9 5 1 1 4 0 2 4 1 8 2 5 1 7 2 6 7 0 5 5 8 4 3  5 3 5 7 0 3 9 5 6 6 7 0 3 8 4 1 6 9 0 0 6 9 6 1 9 6 6 7 1 9 9 7 5 7 0 6  4 3 5 7 6 4 3 5 3 6 1 4 4 9 9 3 5 3 3 1 9 4 8 3 2 3 0 5 1 6 5 2 0 0 4 5  6 2 6 7 2 0 8 5 0 6 4 7 3 6 4 7 1 5 8 2 6 8 7 4 3 3 9 1 5 3 9 3 0 6 8 5  1 9 3 3 5 4 8 5 6 7 2 4 9 7 2 5 5 9 3 5 9 7 2 2 6 1 7 9 6 7 4 8 1 1 4 6  8 5 2 1 2 1 0 7 9 4 8 5 6 8 2 1 2 2 2 0] [1 6 1 3 4 4 0 8 6 8 1 9 3 8 9 3 6 8 1 0 2 6 9 8 1 7 3 2 0 5 0 4 8 9 6 7  5 4 4 6 9 9 4 2 3 4 1 4 4 7 4 5 7 4 8 1 0 3 0 9 4 5 3 4 3 3 0 1 5 9 0 1  3 4 4 3 5 8 3 5 2 0 3 1 8 0 4 9 3 1 1 0 1 8 3 9 2 2 9 5 2 9 2 7 3 5 1 8  1 3 6 4 0 3 2 0 4 2 4 7 0 0 3 9 2 1 9 0 2 4 3 5 0 1 5 0 1 5 4 3 0 3 0 5  5 8 2 8 5 8 8 5 9 4 6 6 3 8 0 4 2 8 3 1 7 0 0 7 2 3 6 5 0 0 5 5 6 5 7 9  0 4 4 8 5 4 7 5 6 4 0 7 9 8 2 3 4 0 4 4] [3 5 6 6 8 1 9 6 5 3 4 7 7 1 5 4 4 2 2 6 0 4 1 6 2 9 6 8 6 7 8 5 4 1 5 5  5 6 3 2 2 6 4 7 2 8 5 8 0 9 2 3 0 5 1 2 5 7 4 5 3 4 6 1 7 4 5 1 4 7 7 6  2 9 1 5 3 4 3 0 5 7 6 8 2 3 8 1 2 7 5 2 9 3 9 6 2 5 1 9 8 2 9 0 7 6 4 4  3 3 4 1 4 2 3 1 2 6 7 0 1 6 5 7 7 6 0 0 1 4 7 6 1 0 7 3 0 4 5 3 1 0 6 3  1 0 1 7 3 9 3 0 1 1 9 4 3 1 7 8 4 5 7 2 8 3 7 9 3 7 1 5 6 3 7 8 7 1 2 7  7 4 4 4 8 6 7 7 3 2 3 5 9 9 6 8 1 0 7 7] [1 0 4 4 9 1 3 0 0 6 6 2 4 2 7 2 6 2 4 8 0 7 2 6 7 3 2 2 1 3 6 6 3 4 8 4  8 8 2 3 3 2 2 7 0 4 1 2 1 2 3 5 1 8 0 0 4 8 2 8 7 8 7 2 9 2 0 3 0 5 0 7  7 4 6 5 3 0 5 4 2 6 1 2 5 6 1 8 1 3 6 1 8 3 6 5 1 2 3 6 1 6 2 8 2 3 4 6  7 0 3 1 5 0 7 9 4 5 3 5 7 2 5 0 4 7 6 5 2 6 8 8 2 8 7 1 9 4 2 0 9 6 7 6  3 0 6 1 0 4 7 1 5 5 6 3 9 8 3 4 4 9 2 6 3 4 4 2 9 7 9 0 2 2 5 9 3 9 0 1  5 8 1 2 2 2 8 0 4 3 7 7 2 7 3 3 2 1 5 2] [1 3 0 4 1 9 0 7 7 1 9 1 2 3 6 8 4 4 2 9 6 3 8 4 1 5 8 2 6 8 4 7 1 4 9 8  4 4 7 7 8 9 4 3 2 9 3 9 1 7 0 7 1 0 8 8 4 2 3 0 4 8 7 5 8 9 2 2 4 3 0 4  2 9 0 2 4 8 4 6 4 0 9 7 9 2 9 1 5 7 5 2 3 7 3 7 8 6 6 6 1 8 0 6 7 4 4 4  2 3 1 3 4 8 5 9 3 2 3 7 5 5 3 4 2 8 7 8 9 0 4 1 1 1 3 1 4 8 0 6 4 9 9 2  3 1 5 2 9 7 8 0 6 5 5 0 8 4 5 3 8 2 1 5 9 8 1 6 4 4 1 1 9 1 0 1 5 1 3 5  9 7 7 1 1 6 8 3 2 2 7 7 8 9 9 4 9 4 2 3] [6 1 9 0 1 6 3 8 5 1 4 8 0 8 6 7 5 0 2 7 6 0 5 7 8 7 9 4 9 1 1 2 8 6 1 9  6 4 8 3 3 8 7 2 5 0 9 7 0 8 0 3 6 4 5 1 1 0 1 7 1 6 1 6 8 2 3 9 3 6 7 3  6 2 4 5 9 4 7 2 2 4 1 9 7 9 0 2 1 9 5 3 9 1 2 0 8 0 2 6 0 3 4 9 8 7 5 4  7 6 2 6 2 2 2 2 7 0 5 1 3 9 1 1 2 5 9 9 6 8 7 2 4 1 2 7 6 1 8 0 7 6 8 7  0 0 2 9 0 0 0 3 9 0 0 7 2 4 0 6 1 8 6 1 1 4 2 1 9 8 2 9 9 2 9 8 2 6 9 1  0 6 2 6 7 8 9 9 4 8 5 2 6 1 3 3 9 3 5 6] [8 7 3 4 1 1 9 3 7 0 6 6 5 0 7 8 8 5 8 5 4 6 4 0 8 0 7 6 0 8 4 3 1 8 5 1  7 9 1 7 1 7 2 8 4 4 7 2 4 2 0 1 0 6 0 6 9 9 1 5 4 9 4 7 7 2 9 4 3 4 6 9  3 7 5 8 4 3 8 8 1 0 7 3 7 5 3 4 8 2 8 7 9 0 5 7 9 5 1 5 2 6 2 5 0 1 7 2  7 5 8 4 9 7 1 9 5 1 4 6 5 7 2 7 6 0 9 9 0 3 3 5 6 5 4 9 7 3 6 5 8 2 2 0  2 1 6 5 5 5 3 4 6 5 6 9 8 0 7 0 0 6 1 8 5 2 7 4 9 1 7 4 6 5 9 8 5 1 5 2  5 9 6 8 5 7 5 8 9 1 0 2 0 0 5 5 3 9 5 3] [0 5 7 6 7 8 2 5 6 9 6 3 8 5 4 8 5 5 9 9 8 0 3 0 3 7 8 6 5 5 3 3 2 1 7 5  4 3 2 1 7 8 4 2 8 3 9 8 3 2 5 6 9 7 4 2 1 2 1 1 3 4 9 4 1 1 3 3 7 6 2 5  2 2 2 1 6 9 0 3 8 1 9 8 1 0 2 8 0 8 0 1 5 1 4 4 0 2 6 0 0 5 6 4 7 0 8 0  9 1 4 5 5 8 6 1 9 8 1 2 5 6 4 3 8 2 5 5 5 9 9 9 8 2 3 5 3 3 3 8 7 8 6 8  7 7 1 9 1 6 5 4 6 0 8 4 5 1 0 4 8 8 2 7 3 9 9 5 0 6 8 9 3 2 2 8 0 4 1 4  7 4 1 9 5 2 9 8 4 6 9 9 0 1 3 5 0 8 4 1] [7 0 8 8 6 8 8 8 9 1 7 7 2 9 6 4 4 2 3 8 6 1 8 4 0 1 0 1 9 3 7 0 6 1 1 3  8 8 0 2 4 3 7 0 1 0 0 2 1 3 4 1 6 0 3 7 5 4 7 6 5 3 7 0 2 6 4 0 2 4 6 5  7 4 4 7 1 3 2 7 2 7 8 2 0 9 9 6 5 2 5 0 1 6 6 3 7 5 7 9 4 4 0 8 7 8 0 5  8 5 7 9 4 6 6 3 9 5 4 1 1 0 8 0 8 6 8 1 7 0 4 9 7 1 2 3 8 2 0 5 8 7 0 2  1 1 9 8 3 2 5 5 1 6 0 7 7 4 3 9 3 4 1 5 2 0 8 0 0 6 6 7 0 8 2 1 6 2 8 4  0 4 4 7 3 5 4 7 9 1 9 7 7 8 6 1 5 6 3 3] [0 3 7 7 9 4 8 0 8 0 0 0 1 7 5 3 4 7 5 7 5 9 2 4 5 0 5 7 1 8 1 4 2 5 5 3  6 9 4 7 1 3 7 7 5 7 7 6 1 1 7 5 3 8 3 3 3 3 3 8 6 1 6 7 3 4 8 0 3 0 4 3  6 5 5 4 5 7 7 6 0 6 0 2 0 2 5 6 1 2 8 0 6 6 4 5 1 0 5 8 3 9 1 9 6 4 3 3  4 1 9 8 1 6 5 7 3 8 7 4 0 2 3 9 0 6 6 4 1 4 3 2 5 4 0 1 4 8 0 2 4 5 9 1  3 7 0 5 4 0 0 0 8 1 0 1 1 3 9 5 5 5 9 2 4 5 1 9 2 5 9 4 8 3 0 6 9 2 4 7  4 0 8 7 7 6 4 3 8 8 1 1 8 5 6 4 5 8 7 3] [2 4 9 3 0 3 5 9 3 1 8 7 5 7 5 4 8 1 3 7 2 2 0 7 7 8 9 5 9 2 7 6 5 3 9 2  2 3 0 9 7 9 5 0 8 9 8 1 7 6 3 6 2 6 8 0 3 6 3 0 1 1 9 5 4 8 1 1 2 8 2 6  6 6 3 6 6 0 2 5 9 8 4 2 0 6 5 2 5 4 9 0 6 2 2 2 4 4 8 9 6 2 5 3 8 8 3 8  8 7 4 6 9 5 8 1 1 7 4 8 8 9 5 8 7 4 9 4 4 1 9 1 7 8 4 6 0 6 7 6 8 5 5 2  9 4 2 9 4 0 6 2 2 4 5 0 4 8 6 4 0 3 8 1 0 6 3 5 6 9 6 4 4 3 1 5 0 1 3 3  3 7 5 8 8 1 2 0 2 2 0 2 8 5 9 9 2 6 8 0] [4 4 6 3 1 6 4 9 6 9 4 0 5 5 1 3 8 0 7 9 2 7 7 0 5 3 3 1 8 1 7 9 5 3 7 5  0 2 8 6 3 3 2 9 6 3 6 6 2 8 3 3 5 3 5 6 4 5 9 8 5 2 9 4 4 7 0 2 9 3 7 5  6 7 6 4 9 4 9 4 3 8 9 1 5 5 3 1 5 7 8 0 0 2 0 4 6 5 2 7 1 6 4 5 8 7 5 0  8 9 7 4 9 6 5 2 9 7 9 5 6 2 2 5 6 9 3 1 6 1 3 2 4 0 0 0 4 5 9 8 3 6 8 9  4 5 7 1 4 2 2 7 9 7 4 0 0 2 9 5 2 7 1 7 9 1 7 2 0 9 7 2 7 2 8 1 2 4 3 7  9 3 5 2 7 2 8 8 5 0 3 1 8 2 5 0 0 8 6 1] [7 5 6 3 8 3 4 2 1 3 8 5 4 9 1 4 6 0 9 1 1 2 3 4 5 1 6 2 7 2 1 4 2 9 5 1  3 3 2 4 5 8 5 3 2 7 7 5 3 3 0 4 4 6 3 8 2 7 9 5 6 0 7 7 2 4 9 7 6 4 6 2  0 6 9 3 7 6 4 6 9 7 1 5 9 8 5 6 9 1 0 0 1 2 4 1 3 9 8 6 9 5 7 7 8 0 5 9  4 0 7 5 4 3 4 9 1 8 8 7 2 7 0 9 4 9 0 4 3 5 5 3 1 3 0 1 1 0 3 7 2 2 9 0  7 5 4 1 5 8 7 9 1 4 0 6 2 8 7 1 7 0 5 1 9 8 8 4 4 7 2 0 3 7 3 0 2 7 8 5  5 2 6 1 4 9 4 8 6 4 8 3 2 1 7 9 2 8 8 9] [7 8 4 7 3 7 4 9 5 1 0 5 9 7 0 6 4 1 3 8 2 8 6 7 8 4 1 7 2 6 5 6 3 9 8 2  6 5 2 5 7 4 6 2 7 3 7 7 2 7 4 8 2 7 8 6 9 7 1 4 6 5 9 6 6 6 8 6 4 3 1 8  9 7 7 7 9 5 0 1 0 4 7 6 0 9 7 9 0 2 7 3 6 7 3 3 8 9 7 2 0 4 2 5 2 0 4 6  2 7 1 9 3 5 4 8 4 6 1 8 3 6 1 0 7 9 3 5 8 3 0 6 5 6 4 9 8 8 4 2 7 9 3 6  9 9 7 3 4 9 9 0 8 7 5 3 1 8 0 0 9 0 9 5 2 0 4 2 4 3 0 7 8 5 7 0 7 5 0 0  0 2 5 9 3 3 7 2 1 8 5 6 4 5 9 4 8 1 2 0] [3 5 7 8 9 2 2 6 8 9 2 2 2 5 5 9 6 7 1 5 7 9 3 0 4 3 0 5 5 0 7 9 5 8 7 7  5 1 3 3 5 8 9 1 2 6 7 9 7 8 7 7 3 1 9 7 7 1 2 4 7 4 2 3 4 8 2 7 5 2 2 7  9 2 3 6 3 0 8 6 5 7 2 2 4 6 5 0 6 5 2 9 5 1 0 6 7 3 0 1 7 9 3 7 3 0 1 8  1 4 2 5 7 1 6 0 7 2 6 5 5 1 1 7 0 9 4 7 3 0 1 4 8 8 1 4 4 1 1 9 8 8 3 3  2 8 7 5 6 5 5 0 0 8 9 6 5 5 0 4 1 4 3 7 5 7 7 4 6 3 8 3 0 2 6 8 8 5 0 4  6 8 1 3 1 6 9 9 2 3 1 3 7 6 1 1 5 0 4 6] [3 1 1 6 1 4 4 8 7 7 2 0 3 7 7 9 5 9 4 0 7 2 7 5 6 2 9 3 9 1 0 1 1 2 9 9  9 5 8 5 8 0 8 9 8 4 8 5 8 6 9 5 5 2 6 2 8 3 5 3 6 8 0 2 4 2 6 9 4 0 7 6  2 4 4 3 4 9 0 8 6 0 0 5 7 0 4 3 3 9 0 1 8 8 8 2 8 9 8 1 2 8 1 6 9 6 4 3  0 1 2 4 0 8 7 6 0 3 8 0 5 9 4 3 5 8 8 6 8 5 8 5 8 8 5 6 7 0 8 1 5 6 2 1  8 6 9 5 8 7 6 6 6 9 7 3 8 4 1 0 0 3 6 3 1 3 3 0 9 8 7 9 7 9 4 8 0 4 1 2  7 0 1 2 7 5 8 6 6 3 5 3 0 2 3 8 9 7 2 8] [7 9 4 1 2 1 2 6 4 8 6 8 2 5 5 7 6 6 5 1 1 1 2 5 9 5 4 8 4 6 2 0 1 3 8 0  0 9 5 4 1 2 0 1 9 1 9 9 5 3 4 1 7 6 3 6 4 8 3 8 5 4 7 6 4 6 3 9 8 1 3 3  4 4 4 9 9 2 4 2 6 3 8 7 1 0 1 0 3 8 5 0 2 4 6 0 8 4 4 6 5 3 4 6 2 8 9 7  9 8 3 8 7 5 9 3 4 3 3 5 9 8 9 3 1 6 0 2 9 2 7 9 6 0 5 4 9 0 3 0 0 2 8 7  0 2 3 8 5 9 8 3 8 6 2 3 8 4 3 7 3 9 3 9 1 9 6 4 8 8 6 8 0 9 3 4 2 7 4 6  0 3 2 7 5 9 6 1 2 0 6 2 0 8 6 5 2 1 5 7] [1 8 7 4 4 0 8 0 8 5 8 1 9 3 2 3 5 9 1 8 9 5 9 1 5 0 5 6 3 1 0 3 9 0 3 2  8 8 1 8 3 9 2 9 0 0 3 8 4 3 2 8 2 1 5 7 4 1 3 0 8 8 6 0 3 4 5 5 4 9 9 2  1 9 6 4 6 3 6 9 5 9 6 7 6 2 4 5 1 4 8 5 0 8 2 9 1 1 8 8 0 2 5 6 4 6 0 2  7 6 4 1 0 4 0 2 1 7 5 4 0 2 4 8 7 4 6 1 8 3 8 9 1 4 0 0 4 2 2 7 1 9 3 7  6 0 3 4 1 9 5 4 1 0 9 5 0 2 4 1 1 2 0 2 2 2 6 6 8 4 5 3 8 9 8 1 0 7 3 6  0 7 1 1 9 1 6 6 8 1 1 0 2 3 3 0 9 9 6 5] [6 1 8 1 8 3 1 8 3 4 4 4 2 3 6 0 1 8 1 8 6 8 3 2 9 1 6 3 0 9 3 3 7 1 3 4  3 0 9 4 4 6 1 1 6 9 3 2 4 9 6 2 0 9 2 8 3 8 4 3 2 1 1 2 7 9 5 9 2 4 7 7  3 1 2 7 9 2 6 1 2 8 9 6 3 2 3 0 0 7 5 4 4 0 6 7 7 2 9 4 0 2 9 8 9 5 2 6  0 5 6 5 0 0 0 2 2 5 4 5 7 0 1 4 0 3 7 9 5 1 5 0 3 8 8 7 0 2 3 5 1 7 3 2  4 7 0 1 1 4 8 8 8 6 9 4 1 0 0 4 0 6 5 1 9 4 7 1 6 7 1 6 4 0 3 8 8 2 9 1  3 9 4 7 4 3 5 5 1 4 7 3 0 3 1 6 4 9 1 2] [6 1 6 8 3 4 4 9 5 7 5 6 3 0 6 0 5 0 1 5 2 0 9 3 3 1 9 2 7 7 9 7 4 8 0 1  5 8 3 5 9 2 3 7 3 4 5 4 5 6 1 6 5 0 9 3 0 6 8 5 4 9 3 3 6 4 1 5 6 9 5 3  7 1 9 5 3 6 6 3 0 2 9 0 7 9 3 1 2 3 2 6 6 1 6 8 0 5 7 9 3 6 8 7 5 2 0 7  7 6 4 5 4 7 4 8 7 3 5 0 3 6 4 2 5 0 9 1 9 9 9 7 3 7 0 2 9 9 8 2 0 8 2 1  5 0 0 0 8 6 4 9 8 9 7 5 4 6 3 5 3 8 9 7 9 5 9 4 0 0 6 7 1 2 6 2 6 1 2 3  6 9 7 4 7 7 0 8 8 7 5 4 0 0 2 4 5 8 1 9] [2 3 8 9 6 9 8 6 6 2 1 2 9 3 6 1 0 9 6 9 3 2 9 5 8 5 7 8 0 1 2 8 7 7 5 5  2 7 9 2 9 1 7 9 2 7 1 4 4 7 8 5 2 2 5 7 2 7 7 1 2 8 0 4 0 5 0 1 5 0 0 8  9 5 9 1 5 6 1 3 0 4 5 3 5 2 7 9 0 3 1 3 9 2 4 1 1 3 6 3 7 8 9 6 8 9 2 0  4 0 0 9 3 9 1 9 9 8 4 1 4 1 5 0 5 8 8 0 9 2 8 7 4 9 1 9 5 5 1 2 4 0 6 8  9 5 8 2 4 0 6 9 2 9 7 7 7 3 4 0 3 5 3 9 7 4 4 6 3 3 2 0 6 9 2 9 1 3 7 3  2 7 4 3 6 3 2 1 0 2 9 8 7 2 5 7 4 2 4 5] [9 4 4 3 4 3 9 2 5 5 4 1 7 9 4 6 2 3 3 3 7 4 3 7 1 1 1 3 0 4 9 4 9 2 7 8  8 3 8 8 8 7 8 4 5 5 0 8 9 8 9 4 6 6 6 4 9 8 2 6 2 1 4 5 3 3 4 0 4 7 7 0  4 0 4 9 3 6 4 6 3 7 7 1 0 9 4 6 1 5 6 4 3 4 0 4 1 8 8 0 9 6 1 7 4 4 6 9  0 5 2 5 4 3 6 4 9 6 3 1 6 7 5 6 6 6 7 1 4 1 4 9 5 0 6 2 2 8 8 1 0 4 6 7  9 0 7 3 8 2 8 8 7 2 7 6 1 6 9 8 2 6 9 8 2 8 9 0 7 5 7 2 4 0 7 9 5 4 6 8  5 5 3 5 7 3 4 3 5 7 5 6 4 8 2 2 4 7 7 8] [1 4 4 3 1 3 3 3 7 1 9 7 2 0 1 2 4 9 2 9 2 0 0 2 0 1 5 3 3 4 8 0 5 5 9 8  2 8 7 3 8 8 3 2 7 6 3 9 6 4 6 4 4 7 7 2 8 5 3 1 0 7 4 5 4 3 2 2 4 7 2 7  1 3 8 2 1 8 8 4 5 2 3 8 8 2 7 5 6 6 2 8 5 8 8 1 5 8 8 4 2 1 1 9 9 4 3 4  5 9 8 6 7 7 5 7 5 6 1 4 8 3 1 9 5 7 2 7 7 3 1 3 7 4 7 5 8 4 1 8 8 0 7 4  5 4 4 4 8 7 6 0 4 4 2 4 3 0 2 1 9 5 6 5 6 0 8 6 6 0 7 0 7 8 1 5 7 8 8 3  6 5 0 3 2 4 4 4 0 0 4 1 5 3 7 6 1 6 5 8] [9 1 6 9 0 0 5 4 8 4 6 8 5 1 1 4 7 3 1 4 5 3 6 4 5 0 1 0 2 4 7 8 9 0 4 1  9 3 3 3 9 2 9 9 8 1 6 0 2 2 2 2 8 2 4 8 2 4 0 2 0 0 7 2 2 3 5 9 8 4 5 3  3 3 7 1 5 8 0 0 6 3 4 4 4 7 6 7 8 6 4 2 0 0 1 5 2 2 4 9 9 1 0 7 2 5 0 4  7 1 8 8 0 0 7 4 1 7 1 2 1 8 2 7 4 5 4 6 7 2 1 7 3 9 7 9 1 5 4 1 5 8 6 8  8 5 0 8 1 7 1 4 7 9 5 6 7 2 6 8 9 6 1 0 9 2 1 8 0 1 4 2 6 7 9 2 4 5 5 1  9 4 2 7 9 6 3 9 2 1 2 2 6 2 5 8 2 8 6 9] [1 5 6 4 9 5 8 4 4 6 8 6 2 5 5 8 9 7 3 9 2 4 4 3 1 6 4 2 7 5 7 9 4 6 6 3  4 7 9 8 7 2 5 5 8 1 1 6 4 9 3 9 5 6 4 8 3 0 3 9 8 1 9 7 2 3 1 6 2 2 6 3  2 0 6 5 8 1 8 4 5 4 1 9 2 2 3 5 7 9 9 0 2 6 9 7 2 8 4 9 6 3 6 5 9 4 4 7  5 9 3 6 2 4 1 8 7 5 7 4 6 4 1 1 3 1 8 7 5 5 1 8 3 9 3 4 1 7 7 7 3 2 7 7  1 5 1 3 0 4 6 6 9 2 9 9 0 4 1 5 1 3 3 6 2 4 6 1 7 5 0 4 8 3 7 4 8 9 6 2  1 4 9 9 4 8 6 7 9 1 0 4 9 4 6 0 3 1 5 1] [2 8 6 4 3 1 6 3 8 0 3 0 5 2 0 5 6 0 8 9 1 5 3 1 2 0 3 4 4 3 7 3 7 1 0 1  8 5 1 4 9 1 5 0 9 3 9 1 7 8 9 6 5 0 0 5 1 8 1 4 4 2 6 9 2 4 0 2 9 7 0 3  8 3 5 3 6 9 6 2 8 9 2 2 7 6 4 4 1 8 4 1 6 3 8 5 3 3 2 1 4 4 4 2 4 4 1 9  3 6 1 8 1 0 2 8 2 5 9 1 7 1 8 9 9 2 3 6 9 8 6 4 8 8 7 8 6 3 6 5 1 6 1 3  2 5 5 5 6 1 4 7 8 8 4 4 9 1 2 0 4 3 8 1 9 0 1 8 7 6 7 0 2 1 7 2 1 9 4 5  5 6 0 3 3 9 5 0 6 3 3 1 5 4 9 4 9 7 4 9] [5 6 1 7 3 1 5 6 7 9 3 4 9 5 1 7 4 8 6 8 5 7 0 7 6 6 9 2 3 1 1 1 5 9 2 8  1 5 2 4 6 4 8 5 4 7 2 0 8 3 8 4 0 6 3 6 3 8 9 2 8 1 9 3 2 2 6 0 9 2 7 1  6 3 4 7 3 9 0 9 5 2 3 1 9 9 0 3 5 6 1 8 4 0 1 2 2 3 5 0 0 5 4 5 4 1 2 5  5 9 0 0 3 0 2 1 6 3 2 8 8 0 3 2 3 7 3 6 1 5 1 7 8 8 4 0 8 5 1 1 7 7 2 0  5 0 7 0 9 0 2 3 8 1 9 9 6 2 5 3 2 6 9 1 8 7 1 5 3 3 3 2 8 0 3 4 6 9 3 8  5 3 5 9 7 4 1 1 9 4 4 7 0 7 5 4 7 7 5 3] [7 8 2 9 4 5 0 2 6 8 2 5 3 7 3 7 6 7 5 1 3 6 4 3 7 3 8 6 6 7 8 0 6 9 7 4  5 2 4 0 4 2 4 7 5 7 6 3 6 2 5 1 0 0 5 5 3 8 9 8 5 5 6 8 2 0 3 2 5 6 5 2  1 2 9 5 1 0 2 6 9 1 4 8 6 5 9 1 6 1 6 7 4 0 9 7 8 1 0 9 9 1 2 5 1 5 0 2  4 9 0 6 8 5 8 3 5 1 0 3 3 2 3 7 6 1 4 8 4 6 4 2 8 0 3 4 7 7 6 3 0 6 1 6  4 7 2 2 4 3 8 2 4 6 5 1 9 0 5 5 9 7 6 4 1 6 4 7 7 1 7 0 1 2 2 6 6 3 4 2  8 3 3 1 5 7 6 0 7 8 7 5 7 7 7 6 0 6 0 6] [0 2 0 1 5 9 9 2 8 4 3 0 2 4 0 8 8 5 6 5 7 7 6 1 0 5 0 1 6 1 1 0 6 0 6 2  2 0 2 4 4 4 0 8 9 2 5 8 3 4 0 3 4 1 1 0 3 6 2 0 1 0 1 0 0 7 1 0 4 5 3 8  1 9 4 0 2 9 9 4 0 0 5 0 3 7 1 4 3 6 6 0 6 4 4 4 4 0 0 8 1 2 0 6 1 7 7 1  8 4 2 1 0 7 4 3 2 0 3 4 0 7 5 3 3 6 6 4 3 4 2 3 0 3 2 8 7 3 1 5 2 5 6 5  6 9 4 6 0 7 2 8 8 8 0 4 2 6 1 6 9 4 5 0 3 7 5 3 1 0 4 6 1 4 4 2 7 1 1 5  4 0 8 2 0 7 1 0 2 2 1 5 7 9 5 7 5 7 9 6] [7 2 2 1 3 6 6 1 5 7 3 1 4 1 1 2 7 2 6 8 5 0 5 5 2 3 7 1 2 7 9 8 8 2 9 0  9 1 3 4 2 1 4 4 5 3 4 2 8 6 0 3 7 2 3 5 8 6 2 6 9 0 3 8 4 9 0 3 6 7 9 6  6 1 8 2 0 3 7 9 2 7 0 5 0 2 1 1 1 0 8 7 5 8 1 9 4 3 5 3 7 2 5 2 4 3 4 0  3 7 4 6 4 5 7 9 1 1 5 1 7 0 3 8 6 0 2 4 0 1 3 1 8 9 8 1 6 1 6 4 6 7 6 4  1 2 3 4 1 5 6 2 0 7 7 0 8 2 1 1 7 9 7 1 9 7 1 5 1 2 2 4 6 2 1 7 5 4 6 1  5 5 8 2 6 4 9 8 9 7 9 9 3 8 0 4 6 8 7 0] [7 4 6 3 4 7 9 4 5 9 7 0 5 3 7 3 2 8 9 5 3 3 4 5 7 8 3 6 3 6 0 3 5 1 9 0  1 4 1 0 7 8 1 9 0 8 9 7 3 6 9 8 9 2 0 6 6 3 7 2 8 4 9 3 2 8 3 0 9 1 3 5  1 8 1 7 9 2 5 0 1 8 0 2 9 1 6 7 0 4 6 7 0 1 3 1 5 6 5 2 2 0 5 7 2 2 5 7  3 4 8 0 2 6 1 3 1 4 6 7 7 1 0 1 2 2 6 8 9 1 3 0 2 0 9 4 7 4 1 9 0 6 3 8  7 0 5 5 1 4 9 7 8 5 2 3 7 8 0 3 2 2 9 2 5 2 2 4 3 6 1 5 5 4 6 1 3 8 5 2  2 0 4 2 9 1 5 2 2 0 7 0 3 6 2 3 0 1 5 7] [9 5 5 8 9 4 4 7 6 9 9 6 8 6 9 6 3 0 9 3 6 2 8 2 4 2 9 2 1 5 0 3 2 2 6 4  2 9 2 7 5 5 3 7 6 8 2 1 8 7 6 8 9 2 1 6 5 0 0 9 0 5 5 5 1 4 2 2 2 2 1 5  7 9 1 7 4 4 7 2 1 8 3 7 0 2 3 1 0 0 2 7 5 8 2 4 3 4 8 3 4 6 3 1 8 6 7 1  0 4 4 2 2 6 6 8 5 2 7 9 7 3 2 3 5 1 2 1 5 6 5 4 4 1 4 2 9 1 9 7 9 2 9 0  5 0 9 9 5 7 4 7 9 3 3 7 0 7 9 1 6 7 6 9 6 3 1 5 9 1 9 9 6 9 0 7 2 6 5 3  0 4 7 4 9 7 6 1 9 5 4 9 4 2 3 8 0 5 7 9] [9 7 0 4 8 9 5 7 3 0 1 0 3 8 4 5 4 1 9 3 0 3 8 9 6 2 9 9 4 9 1 4 9 3 3 1  0 3 2 7 8 0 2 6 2 1 6 8 2 6 0 2 8 5 7 9 7 4 3 0 8 4 3 1 1 8 5 5 2 3 1 7  5 4 5 2 5 1 9 3 6 1 6 9 1 2 1 6 0 4 2 0 5 7 3 3 4 8 9 5 5 0 9 2 9 6 9 4  0 5 6 4 2 7 6 0 2 8 9 9 5 2 5 5 3 0 4 5 4 4 3 4 8 3 4 6 8 0 4 2 0 4 5 8  0 0 7 0 3 9 2 0 9 7 3 8 7 4 4 5 6 2 9 6 4 3 7 6 7 7 6 2 4 8 1 8 0 5 2 5  4 6 5 6 2 1 3 1 3 9 1 4 8 2 8 7 7 2 9 4] [6 3 4 0 2 6 5 1 0 5 7 0 9 6 7 1 8 9 1 3 7 3 5 6 7 9 5 4 6 9 7 3 6 1 2 9  6 2 4 8 2 5 8 3 4 4 0 3 6 2 9 2 9 7 2 8 5 8 0 4 3 5 1 6 1 1 5 0 0 5 9 0  8 8 5 1 3 7 3 5 1 1 0 8 6 8 7 4 1 0 9 8 8 7 7 9 0 1 9 1 3 5 7 6 1 1 8 0  1 9 9 9 3 7 2 7 9 3 7 7 8 1 8 9 8 5 9 3 6 5 4 0 1 7 3 0 7 9 2 4 6 2 3 8  4 1 6 9 9 7 4 8 6 2 2 8 4 0 6 7 2 7 5 2 6 4 7 2 9 1 4 8 3 2 5 4 6 6 5 1  9 7 7 9 3 6 4 6 5 7 6 3 1 8 7 5 1 8 6 1] [0 0 0 8 8 1 4 1 2 5 2 5 9 1 3 1 3 1 2 1 4 4 3 2 3 3 9 6 4 1 5 1 1 0 7 1  0 9 0 5 4 3 1 1 6 2 1 3 3 3 6 2 6 7 6 7 7 4 7 7 8 2 8 1 3 4 5 7 2 6 9 0  0 4 3 7 6 3 0 3 1 8 8 0 8 0 0 4 2 4 2 2 9 0 5 0 1 6 6 3 5 8 4 6 5 5 2 9  1 8 5 8 4 6 5 4 0 2 7 2 5 7 7 7 1 9 9 9 9 9 6 7 3 5 7 7 4 7 3 3 9 0 9 5  4 5 7 1 7 3 0 9 4 9 9 7 1 4 3 7 5 7 8 2 0 1 2 3 5 4 6 3 7 4 9 9 0 8 1 2  2 6 1 8 8 3 2 2 5 0 8 6 2 3 7 0 8 9 4 3] [8 8 6 2 7 2 1 5 8 8 2 7 3 2 7 0 9 7 6 7 8 6 0 5 9 6 7 9 9 8 4 8 6 4 3 2  0 3 4 4 4 6 5 9 1 5 3 3 8 3 1 4 4 6 3 9 1 5 9 2 7 7 4 1 6 2 9 2 8 4 5 8  7 5 2 2 8 5 2 5 7 8 4 5 3 3 6 1 6 1 5 5 3 4 2 5 5 1 8 5 7 7 7 6 9 5 8 0  1 8 0 9 9 2 5 4 3 6 2 8 9 7 9 9 0 6 7 8 1 8 6 9 6 9 2 6 8 5 2 4 9 0 8 7  3 8 2 4 8 1 7 6 5 1 2 3 6 0 3 8 8 7 0 2 5 4 2 0 7 9 8 9 3 8 7 1 8 5 5 3  1 4 3 9 8 7 5 0 4 8 3 1 2 8 9 2 8 7 2 3] [1 6 8 6 4 4 4 1 9 0 0 9 2 6 6 6 0 0 8 9 8 2 9 0 4 2 9 4 4 4 1 4 3 9 4 7  7 5 9 0 3 9 4 7 7 5 9 1 8 0 2 0 0 6 6 4 7 4 0 5 7 4 9 9 2 8 2 3 5 3 3 5  7 5 1 1 1 4 2 5 8 2 3 0 2 6 6 4 9 4 0 0 4 5 8 4 4 5 4 5 6 2 9 5 8 8 8 8  7 3 8 5 8 8 9 8 3 1 0 0 4 0 5 6 0 3 4 6 4 8 6 4 4 9 4 8 0 0 1 9 7 8 1 8  7 2 1 5 4 0 3 0 9 0 5 3 6 3 5 2 5 9 8 7 2 9 2 9 1 0 1 2 3 4 4 9 8 2 6 8  8 9 0 0 9 6 8 4 6 6 8 5 6 2 0 7 0 0 4 9] [6 7 7 0 4 0 4 3 4 9 2 5 4 6 4 2 6 3 3 1 3 7 4 4 3 9 3 1 2 1 0 7 9 6 6 8  9 0 1 7 1 9 1 5 3 9 3 8 4 3 3 8 4 1 5 6 4 5 5 5 7 8 4 3 4 6 7 6 2 6 1 6  9 2 7 4 1 2 1 6 2 1 8 7 5 1 8 6 9 4 7 3 9 4 5 0 0 0 3 7 1 5 8 3 1 1 2 0  7 8 3 9 1 3 6 0 5 9 9 8 0 6 4 5 7 1 4 1 3 8 8 2 4 1 1 1 1 1 8 4 7 1 7 5  6 0 2 9 9 5 8 9 5 8 9 0 8 1 6 8 8 4 6 8 5 2 1 7 4 9 2 3 4 3 2 3 3 8 5 1  1 1 5 8 5 2 6 8 1 1 9 6 7 6 6 3 9 7 8 0] [3 3 8 4 2 0 1 5 1 9 5 0 4 3 7 6 0 9 3 6 8 8 8 1 5 2 7 9 9 9 3 4 1 2 7 3  4 2 0 8 8 4 4 1 7 0 6 2 0 4 4 1 2 4 7 1 9 3 7 7 8 8 1 4 1 5 4 9 5 6 0 1  7 2 3 4 3 8 5 4 1 5 0 3 3 2 4 9 3 2 5 6 4 1 4 9 1 0 1 2 4 7 0 9 1 2 9 2  5 7 9 2 9 4 5 5 6 6 2 3 8 2 3 9 0 4 9 0 7 2 5 4 7 9 9 3 8 1 9 1 2 4 5 2  7 6 9 3 5 5 0 3 9 8 3 4 3 7 5 2 0 2 8 6 0 0 5 9 1 9 0 4 8 4 2 0 7 5 9 2  3 9 5 7 8 6 6 6 1 2 1 9 9 2 6 4 7 1 9 5] [7 1 1 8 4 5 0 8 2 8 2 6 0 4 6 5 8 4 4 9 1 9 2 4 0 7 7 3 3 8 3 0 8 5 6 1  7 6 0 2 8 8 2 3 6 1 1 5 9 8 9 3 8 9 9 2 0 8 5 5 8 7 9 6 9 3 4 7 6 2 6 0  5 9 2 9 4 1 7 6 4 0 1 5 9 5 1 0 8 8 4 0 7 0 6 0 7 2 5 0 7 2 1 2 3 0 3 9  5 5 1 2 2 1 7 8 7 9 9 2 2 9 1 0 3 5 2 4 0 7 5 3 5 8 7 1 6 5 8 9 5 1 6 5  0 9 0 2 1 1 8 3 3 9 0 3 8 7 3 4 3 4 2 5 0 8 8 4 7 7 9 5 6 8 2 4 7 4 1 8  4 9 8 3 3 2 2 7 9 6 0 8 1 8 9 0 0 8 2 6] [6 0 3 4 6 2 6 1 7 6 0 2 2 9 2 6 1 2 5 7 0 5 0 0 3 9 8 6 8 5 7 7 1 4 4 6  0 6 4 2 1 3 6 6 7 7 5 6 0 0 6 5 0 4 4 5 3 2 7 7 0 8 8 4 9 9 9 9 6 6 4 7  6 8 7 8 6 8 1 9 8 7 2 0 5 7 1 6 2 6 9 4 6 7 9 9 8 4 9 2 3 6 7 7 2 2 9 3  5 1 4 8 4 5 0 3 4 1 9 4 1 1 2 9 2 2 3 1 8 3 8 1 9 1 0 3 0 0 4 7 1 4 9 5  5 0 1 4 2 6 9 2 0 6 1 0 8 7 2 1 0 9 5 6 8 1 7 6 7 8 5 8 3 3 0 1 9 2 7 0  2 7 0 4 6 6 1 4 6 9 8 6 9 7 8 0 6 7 8 8] [5 4 6 4 2 0 9 7 4 4 8 9 6 4 6 0 5 9 2 2 8 4 5 3 8 3 1 0 7 6 3 7 4 8 1 0  9 5 5 2 2 9 2 1 1 6 5 9 5 5 9 7 3 0 0 6 7 8 8 8 9 8 9 8 9 3 0 2 9 5 5 7  1 7 5 8 9 9 6 4 4 6 0 4 5 5 9 6 0 0 6 1 1 1 4 2 3 6 5 3 3 4 9 0 6 3 6 4  5 9 5 0 7 9 8 1 4 3 7 2 2 4 4 5 8 8 2 5 9 6 4 1 5 0 0 7 8 9 4 7 0 7 8 1  2 4 8 2 8 8 2 4 4 2 0 2 8 2 3 1 7 8 8 6 1 6 7 3 8 5 9 8 2 7 9 9 4 9 0 7  1 1 5 5 2 5 3 0 1 6 4 4 8 1 0 4 7 5 3 8] [4 9 4 0 7 6 9 5 9 2 0 7 6 9 7 9 5 5 9 7 6 5 3 7 6 4 0 1 1 3 3 0 3 7 0 3  1 4 1 1 0 3 7 0 3 9 3 5 4 5 1 3 7 9 5 3 6 9 1 9 8 5 1 2 5 6 7 9 6 7 0 8  6 3 5 0 3 4 6 9 5 0 7 1 1 7 8 4 0 1 6 8 5 1 6 8 2 1 2 5 8 0 6 2 5 4 6 3  9 7 8 6 6 3 4 1 2 7 7 3 9 5 0 5 4 5 6 3 0 1 2 7 6 8 7 1 4 6 8 3 2 2 4 6  0 4 2 1 0 6 6 7 9 6 2 9 5 6 6 0 9 8 0 0 0 9 9 9 6 5 3 8 3 9 7 3 4 4 9 3  0 4 6 3 8 8 1 8 3 1 8 2 3 2 3 5 9 0 6 5] [3 5 9 7 7 8 4 0 3 4 7 4 4 0 8 7 6 8 6 2 2 3 0 2 0 9 2 2 6 1 7 8 6 5 5 3  2 4 4 6 1 3 8 1 5 4 8 0 4 3 9 1 9 0 7 4 5 7 8 6 0 1 8 3 5 5 0 9 4 1 6 3  6 5 2 3 4 6 4 5 1 2 3 3 8 4 1 2 6 2 5 6 2 5 3 0 0 9 6 9 1 7 5 3 2 6 9 6  4 0 3 3 7 5 0 0 8 9 7 1 8 0 6 5 0 9 0 8 5 4 9 0 2 9 1 0 0 2 4 1 3 5 1 5  1 9 3 3 0 1 0 6 3 5 6 0 3 9 7 0 1 9 5 7 8 2 1 9 2 1 4 2 0 0 9 9 3 5 0 5  5 3 1 3 8 0 4 1 4 0 6 3 8 5 5 6 9 7 9 4] [5 4 3 7 7 8 7 6 4 8 1 6 3 2 9 0 6 8 7 5 5 5 0 9 4 3 3 1 7 4 5 6 0 3 7 9  7 2 1 9 7 5 2 1 5 1 0 1 8 3 9 1 5 0 9 4 7 1 3 9 9 9 2 0 5 6 6 5 1 1 0 3  3 8 7 1 7 3 0 8 3 1 0 3 7 3 9 0 1 9 2 7 6 0 5 4 5 2 3 8 1 2 5 0 7 1 0 9  8 6 5 1 6 7 0 0 8 5 7 5 1 4 3 2 9 8 2 5 8 6 9 1 0 3 5 1 1 8 9 4 1 5 0 8  6 7 8 2 1 1 7 8 5 6 6 5 2 6 9 1 9 8 4 9 4 8 6 8 5 3 6 1 0 3 8 2 4 9 9 6  0 8 3 3 2 0 9 1 1 3 0 4 1 6 6 5 8 0 7 0] [9 9 7 4 8 8 0 5 9 8 0 4 6 6 1 5 7 2 9 0 5 0 1 6 1 7 7 5 7 6 5 5 9 9 0 4  6 7 9 4 4 9 7 6 2 3 8 9 4 2 7 4 4 4 2 6 0 1 7 5 2 5 3 1 7 3 2 3 9 7 8 7  9 3 3 4 0 3 8 0 2 0 4 0 2 7 0 3 0 7 5 9 6 0 7 6 2 5 1 4 1 7 7 7 8 7 8 3  6 1 1 3 7 3 4 5 0 2 8 1 4 4 4 2 5 5 3 9 5 3 3 3 3 4 3 7 8 3 0 2 2 7 6 6  3 0 6 8 6 5 6 0 0 1 2 5 6 4 8 3 1 1 0 3 2 2 1 2 2 3 0 0 7 2 1 7 7 8 8 1  1 6 0 5 4 5 1 4 1 4 8 0 0 9 8 4 7 2 9 7] [7 6 1 2 2 5 3 8 9 6 5 5 2 5 2 5 4 3 5 1 4 0 7 1 6 1 6 4 0 1 4 2 6 7 7 0  7 9 5 4 2 4 7 4 6 7 9 5 1 3 0 8 5 6 3 5 7 9 9 8 4 2 8 4 2 7 1 0 5 1 0 6  9 0 0 2 3 0 3 8 0 4 2 3 1 8 3 2 8 2 7 6 9 8 5 3 6 4 0 2 6 0 0 1 4 3 3 0  3 3 0 1 4 6 9 0 8 0 4 8 2 8 8 0 1 5 3 8 5 9 1 8 6 1 0 3 9 9 3 9 2 4 6 5  4 4 5 9 8 4 1 7 9 4 9 1 2 1 0 0 4 5 9 3 5 9 5 9 7 7 8 0 3 7 2 5 8 9 6 7  9 5 6 2 3 5 3 3 4 0 0 8 0 1 8 6 6 8 2 0] [5 3 5 8 1 4 1 9 6 0 8 4 7 1 6 4 8 9 5 6 9 9 1 5 5 4 4 1 3 0 5 1 4 0 0 6  7 1 1 7 7 9 2 8 8 2 9 9 4 3 2 2 0 7 8 9 1 2 7 6 0 5 3 5 4 4 2 9 9 7 6 1  9 3 4 5 2 4 8 8 8 0 6 9 5 4 9 5 9 1 3 9 1 3 8 3 8 5 8 2 7 4 4 8 7 6 1 2  9 8 9 6 0 7 9 0 7 2 1 3 4 2 6 6 4 1 1 2 8 5 0 7 3 5 7 0 6 7 4 8 0 3 2 9  0 7 3 4 8 8 8 4 9 1 4 0 1 2 9 8 5 4 6 0 6 8 6 6 4 9 7 6 4 7 9 9 0 7 9 1  0 9 1 4 7 7 3 8 1 2 7 6 7 0 8 9 7 2 1 8] [3 4 3 2 6 5 2 9 8 8 2 5 9 6 8 2 5 6 3 0 0 9 7 7 9 5 5 7 0 0 0 4 7 6 4 9  5 7 3 2 1 3 3 0 2 6 3 5 6 7 2 8 7 8 3 4 8 1 8 7 3 7 1 3 6 5 0 0 8 0 0 8  5 1 1 1 3 6 8 4 5 9 3 7 6 1 1 7 8 4 5 3 5 5 6 1 7 9 4 7 5 2 0 6 1 0 0 4  0 4 7 1 1 6 7 6 8 7 9 1 7 1 7 3 4 4 9 2 4 4 3 8 9 1 5 8 9 5 9 2 1 1 9 4  2 9 4 0 5 0 4 4 6 5 0 4 6 9 9 6 8 6 5 8 4 3 5 4 2 4 4 0 0 0 4 1 0 5 7 8  0 1 5 8 4 6 4 7 9 6 6 6 1 4 0 1 3 5 2 9] [1 8 0 3 6 7 2 3 9 6 7 1 4 1 6 0 4 9 7 4 6 0 2 8 6 9 5 4 9 6 4 4 0 4 6 6  1 4 1 5 2 8 7 0 5 5 0 7 2 2 5 2 4 2 0 6 5 2 5 3 3 1 0 6 2 1 8 7 1 3 1 4  7 1 0 6 6 9 6 7 1 6 2 9 8 1 8 9 5 4 4 1 0 6 0 2 3 5 4 1 2 1 3 9 8 2 8 8  3 9 9 3 4 2 2 5 3 0 7 2 7 1 0 9 9 1 3 3 9 3 5 9 5 7 2 1 1 9 0 1 9 0 0 8  9 3 6 8 2 3 4 8 3 7 5 0 0 2 1 1 5 5 9 3 1 3 9 1 0 7 1 1 2 5 4 6 4 7 0 5  3 9 9 1 2 2 8 2 8 5 5 1 2 3 6 3 7 7 1 7] [5 5 6 7 3 0 3 8 8 1 7 5 2 8 0 7 3 0 2 1 4 4 4 2 4 0 4 8 2 1 7 4 1 8 0 2  3 9 9 3 8 1 8 6 1 8 2 1 4 2 7 2 3 1 6 2 4 7 4 4 8 6 6 9 6 9 5 0 6 3 9 2  7 4 8 5 9 5 3 4 3 5 0 3 1 2 0 8 0 1 4 5 9 7 4 7 0 9 3 6 8 0 9 9 0 5 1 9  4 3 6 5 0 5 0 6 0 0 7 3 1 1 4 6 4 9 1 6 2 8 3 7 1 3 9 3 8 8 5 1 8 7 1 0  4 8 9 0 2 1 4 3 4 6 7 9 1 1 6 1 8 1 8 8 3 2 1 0 0 1 8 5 2 8 5 2 7 6 3 4  6 7 4 4 1 3 9 8 6 3 2 3 0 8 2 1 5 1 3 2] [5 2 7 5 2 7 7 7 3 9 8 0 6 0 1 8 3 9 6 7 3 1 7 0 1 3 1 3 0 8 6 3 5 7 0 3  6 0 9 2 8 6 6 0 4 7 4 6 5 8 0 7 2 2 4 4 4 1 0 3 4 4 5 2 1 5 7 6 8 9 8 4  4 5 6 8 9 4 6 5 6 5 0 6 5 4 0 2 2 1 4 4 8 6 9 2 5 3 0 6 0 3 8 2 9 8 5 3  4 9 3 9 5 6 1 9 4 8 4 8 5 7 6 2 0 9 7 9 7 9 8 7 1 6 7 6 6 8 0 6 3 1 6 2  0 0 1 5 8 5 2 8 1 7 6 0 9 3 6 9 8 3 0 8 9 6 8 1 6 1 1 0 0 3 9 7 6 6 5 2  1 7 5 3 9 2 8 7 5 5 8 0 3 1 2 4 7 8 3 5] [2 6 7 3 0 4 1 9 5 1 5 0 9 9 4 0 8 8 0 6 5 8 2 1 4 6 4 4 5 9 5 9 7 1 6 9  6 9 6 9 7 7 6 3 9 9 8 6 2 2 4 1 2 0 0 4 3 3 7 3 8 9 2 2 1 7 1 9 9 8 4 6  0 1 8 8 2 9 9 5 8 6 7 7 8 4 4 3 7 4 5 2 0 7 4 2 3 2 2 4 7 8 4 4 3 2 8 9  2 7 1 5 3 1 7 9 8 5 9 1 0 1 8 5 9 9 1 9 8 6 8 9 3 0 4 5 2 4 8 7 7 2 0 3  8 0 6 4 1 0 7 6 0 1 7 1 8 8 0 3 3 6 5 6 5 1 7 7 6 5 2 1 2 4 6 2 5 9 2 5  4 6 8 8 1 5 0 3 2 4 5 3 3 1 7 7 8 6 2 0] [4 1 6 2 2 9 4 1 1 1 6 5 0 8 9 4 9 6 5 1 7 4 1 1 2 6 0 0 2 1 9 8 9 4 8 2  5 4 9 2 8 8 9 6 9 5 8 3 7 5 4 7 9 8 1 5 1 1 6 1 4 0 9 6 2 3 3 4 0 6 2 8  3 2 1 6 9 8 6 1 9 3 8 9 6 6 2 0 1 7 2 3 8 7 7 1 8 7 8 0 7 6 2 7 9 7 3 3  4 3 1 4 3 6 4 5 4 6 0 9 0 2 1 1 7 4 8 2 9 4 9 6 7 2 9 6 3 7 2 1 6 6 6 0  1 7 3 4 8 0 6 4 0 9 5 7 3 7 5 2 2 3 8 5 3 5 3 8 1 2 2 6 5 7 1 9 3 3 7 0  8 1 3 2 5 8 1 5 7 0 5 3 8 4 5 3 9 8 8 1] [4 5 9 2 8 3 5 0 6 9 3 0 8 6 3 3 6 9 7 5 5 4 0 4 4 3 9 5 4 7 7 8 4 3 0 9  2 5 9 5 5 0 2 9 9 2 9 4 9 5 1 9 9 4 7 9 2 5 3 3 0 6 5 7 6 3 6 0 5 9 0 5  6 4 1 3 8 1 4 8 0 6 6 4 1 3 2 9 2 3 4 6 5 7 6 6 0 0 7 2 0 4 4 1 4 2 9 5  1 5 7 2 5 2 2 8 1 2 8 9 6 7 3 5 2 8 5 1 1 2 8 3 2 2 3 0 6 9 6 5 2 9 0 6  9 9 6 7 5 3 6 8 4 1 0 9 8 5 6 7 9 3 4 2 2 5 5 5 9 8 5 2 8 4 9 0 5 6 5 2  9 7 6 1 5 5 5 5 2 8 2 7 8 3 1 2 9 3 8 4] [2 5 9 6 1 1 5 6 6 1 8 4 2 7 4 1 9 2 1 9 3 1 6 7 4 5 9 6 8 0 1 1 1 3 4 7  2 4 5 5 0 5 8 8 0 0 5 0 4 4 5 3 1 4 0 1 7 4 3 0 3 2 4 9 7 8 7 0 8 5 8 4  6 9 9 0 8 2 9 0 4 3 6 6 3 7 9 0 5 6 4 7 4 9 6 5 5 7 6 7 6 2 0 7 2 6 0 7  8 1 0 7 2 8 8 7 0 7 2 7 4 5 5 2 2 5 5 7 9 5 2 1 9 1 2 7 1 0 4 5 9 4 1 3  3 0 7 3 4 7 3 0 2 4 8 1 9 5 5 1 6 1 1 7 6 4 1 5 9 8 2 2 1 7 7 8 3 3 5 1  7 2 1 0 4 5 6 1 6 0 1 2 9 2 4 1 0 5 7 8] [8 3 2 0 3 8 0 1 6 5 9 1 8 0 5 0 5 0 4 1 7 0 0 9 2 2 0 5 6 6 9 8 0 4 3 0  5 2 3 6 6 6 9 1 9 7 1 2 8 5 5 6 2 7 3 4 2 5 0 2 0 8 7 4 0 3 3 5 9 5 4 1  0 9 4 3 6 2 5 7 4 4 9 3 6 3 0 2 6 4 7 6 1 3 1 7 4 3 0 9 4 5 3 2 9 4 0 5  6 2 1 7 1 2 5 0 4 7 1 3 5 4 3 1 8 4 3 2 8 6 9 9 0 1 5 7 8 2 3 9 2 1 4 4  0 5 8 7 0 9 5 9 5 8 9 1 8 1 5 0 1 8 6 3 6 6 4 5 9 0 4 1 1 6 8 6 3 2 0 1  9 4 2 7 5 3 7 1 4 3 8 3 5 3 6 2 7 5 2 4] [8 2 4 6 5 4 0 4 4 2 3 5 9 5 5 6 2 5 1 0 7 0 7 9 9 2 2 8 1 4 1 5 6 7 9 5  6 7 1 2 9 3 0 6 5 3 2 3 8 4 8 7 0 1 4 1 4 1 5 6 6 2 9 9 3 0 1 4 7 4 9 4  8 4 9 5 8 9 3 9 1 6 3 0 4 1 1 8 2 3 0 6 2 4 7 8 8 7 4 7 2 9 9 6 7 0 0 7  3 2 2 5 6 0 7 5 4 2 3 4 4 2 7 9 2 4 0 7 8 8 0 0 4 0 4 4 8 4 4 0 7 5 6 8  7 8 7 4 1 8 2 5 7 8 2 4 3 5 9 1 1 4 4 3 7 8 4 8 5 5 4 2 2 8 7 0 2 6 5 7  2 1 7 1 7 9 7 2 0 6 7 5 6 8 2 8 4 7 2 9] [0 7 8 6 7 5 1 9 0 3 6 0 5 2 8 5 0 5 2 7 1 0 8 2 8 3 5 9 2 8 3 0 0 3 8 0  8 0 1 2 8 8 1 7 9 4 7 1 0 3 2 8 0 1 8 1 4 1 5 3 2 2 3 0 2 9 7 6 1 7 9 8  9 0 2 2 4 1 0 0 1 8 6 6 1 5 9 8 4 8 1 6 8 7 9 0 7 7 5 0 0 3 9 6 6 7 8 3  9 7 5 7 8 7 7 0 1 1 3 7 6 9 5 3 2 7 2 9 6 9 6 7 4 8 5 1 2 7 0 6 4 5 7 3  1 7 0 4 5 7 7 7 2 0 6 2 8 7 2 2 6 9 2 5 1 0 8 7 7 1 7 9 2 1 2 0 7 1 9 1  4 1 8 6 3 4 5 7 4 2 0 7 9 5 3 3 6 3 3 2] [5 9 4 7 2 9 0 4 4 8 3 2 4 5 1 4 8 0 3 1 3 2 7 3 5 2 2 8 9 6 5 4 4 9 5 2  7 7 8 9 0 2 7 7 5 4 6 1 7 3 6 6 8 9 2 5 3 2 1 8 4 2 6 3 8 1 3 4 8 1 8 2  8 8 9 9 8 3 4 4 2 6 8 6 2 0 3 8 6 8 6 2 1 1 3 2 5 8 1 7 3 3 5 2 0 3 7 7  9 5 1 7 9 2 4 9 1 4 4 7 0 2 5 5 8 0 7 8 1 4 9 3 1 8 6 1 4 9 7 3 2 2 3 9  4 1 8 3 7 0 9 0 0 9 3 9 9 7 5 8 8 5 6 9 0 2 7 2 3 1 3 8 4 4 0 6 1 0 8 6  3 6 3 0 5 0 6 1 8 2 9 8 4 6 2 9 6 8 9 4] [3 4 4 2 2 8 9 9 0 7 2 5 6 4 7 5 8 2 2 5 7 9 2 4 3 1 8 1 0 0 5 6 4 9 1 9  5 0 7 3 0 0 0 9 8 8 7 5 2 6 3 7 5 4 6 8 6 2 5 8 0 7 7 1 7 0 2 9 6 9 8 0  9 3 6 0 8 8 8 5 2 7 1 8 6 1 7 5 7 8 7 8 3 9 4 5 4 5 8 7 3 0 5 9 5 2 7 7  0 5 8 0 3 4 2 2 0 4 3 1 8 1 0 7 0 4 0 4 9 5 6 4 2 7 2 3 8 1 4 3 0 8 6 2  3 8 9 3 0 5 2 8 1 6 4 9 8 4 6 6 1 5 1 2 9 8 1 8 6 8 1 6 2 9 2 2 4 0 8 9  5 2 8 2 6 5 8 6 1 9 7 5 7 1 8 4 3 5 9 9] [9 6 1 8 1 5 4 5 6 2 7 2 0 8 7 6 6 3 4 3 5 5 7 8 7 6 1 6 7 5 6 9 6 1 6 7  9 4 8 1 3 3 0 9 6 8 6 5 8 0 9 7 8 3 4 4 4 4 0 7 6 5 3 3 4 2 0 8 9 2 5 1  4 6 2 8 8 7 7 1 7 6 9 2 1 3 0 2 2 7 9 3 9 3 4 5 5 7 5 5 7 9 4 0 6 0 1 3  5 9 1 1 8 4 6 1 6 2 4 0 1 9 3 9 4 4 4 0 3 7 8 6 2 9 2 0 0 5 8 4 4 9 7 1  1 1 1 7 2 6 3 5 5 8 8 0 8 7 7 5 4 3 8 1 3 4 5 6 0 9 2 4 0 4 9 9 6 8 6 0  2 0 7 7 5 1 1 8 1 6 4 6 5 8 4 8 0 3 7 8] [6 8 0 9 2 8 3 9 3 5 6 9 2 8 3 5 3 3 3 0 6 6 6 8 6 5 5 8 0 4 4 2 6 6 5 1  1 5 3 2 2 9 3 2 6 1 8 1 5 4 7 9 7 3 8 0 1 2 9 9 0 0 1 0 6 5 6 6 7 2 8 7  4 1 5 6 6 9 3 4 9 3 8 6 2 8 6 1 1 7 4 1 9 4 5 0 2 7 1 6 2 5 0 6 8 9 9 4  8 8 5 4 7 8 1 5 1 2 0 3 1 2 1 5 6 9 7 2 9 3 8 4 4 4 8 8 5 8 3 5 6 8 9 6  9 5 4 3 7 7 9 4 6 0 3 6 3 5 0 3 5 0 0 4 4 7 1 1 8 5 8 7 8 5 0 0 4 1 0 1  5 0 7 0 2 3 8 9 0 4 2 7 7 3 4 5 9 7 5 7] [7 2 3 9 0 2 7 4 0 0 5 0 4 4 3 1 7 2 3 0 1 6 0 8 5 7 4 8 2 9 1 5 3 1 5 6  0 2 0 2 2 6 2 5 1 4 7 6 1 1 2 4 6 3 1 9 4 1 3 3 8 4 5 0 8 6 6 6 8 4 1 1  2 5 5 2 2 3 0 3 6 0 9 1 0 0 7 9 6 8 4 7 5 2 3 4 9 6 3 4 9 2 2 2 7 8 1 8  9 6 2 4 4 6 4 3 4 7 8 4 8 6 3 3 6 0 8 3 2 4 6 3 2 4 4 9 8 0 8 8 7 5 1 9  8 9 9 1 4 1 0 2 6 9 4 8 8 8 2 8 5 6 8 5 3 4 2 3 8 8 9 3 6 2 2 7 1 4 6 3  4 3 1 6 3 6 1 8 3 8 7 5 2 9 1 5 6 1 2 0] [1 7 7 0 6 8 2 3 8 1 9 1 5 9 3 3 4 9 5 5 9 5 1 9 5 9 7 0 5 4 4 3 5 8 8 7  4 4 5 6 2 2 9 7 9 6 2 4 0 6 2 2 2 7 4 9 3 8 8 7 9 6 6 1 5 0 0 6 4 7 1 2  5 6 7 0 7 1 8 8 9 2 0 0 7 0 5 5 7 2 3 7 5 9 7 7 5 8 5 1 6 7 7 6 6 3 0 2  5 6 4 6 2 7 8 4 0 0 4 8 4 6 5 4 1 0 9 3 1 2 0 3 0 7 4 1 8 1 8 9 3 0 4 8  4 9 1 4 3 1 3 1 0 9 1 8 2 5 1 8 6 7 1 1 2 6 7 2 8 6 8 3 8 5 3 8 9 5 0 9  6 6 2 0 5 6 7 4 6 3 0 6 1 9 2 5 6 6 3 9] [0 5 2 0 5 0 2 7 9 1 5 1 9 7 9 3 3 7 3 5 3 1 7 8 1 4 1 0 6 8 4 2 6 0 6 8  0 3 1 3 5 5 0 3 6 2 5 8 3 8 9 6 2 1 6 4 5 4 5 1 1 3 1 1 2 1 4 8 3 2 4 8  0 7 6 3 5 3 6 1 0 6 9 1 4 3 7 2 6 2 0 7 4 4 0 0 6 3 1 1 9 5 6 0 5 0 3 7  9 0 0 3 0 6 5 8 3 6 9 5 3 0 2 9 9 6 9 1 7 4 2 5 9 3 4 0 7 1 1 5 3 3 7 8  7 5 7 4 7 3 4 5 0 1 3 2 1 1 3 6 7 3 4 6 6 6 7 5 2 5 6 9 1 4 0 9 4 8 0 6  5 8 1 3 5 4 3 7 5 7 5 5 6 5 1 2 0 1 6 8] [4 8 0 0 2 7 5 0 4 6 4 7 4 9 9 8 2 8 1 3 1 6 2 8 9 8 7 4 2 3 7 3 6 8 6 8  5 3 4 8 2 7 5 8 0 4 2 9 0 3 5 2 6 0 9 0 7 6 8 3 8 9 1 5 8 7 6 2 3 6 3 3  1 0 9 6 9 3 2 5 1 1 2 7 9 9 3 4 9 3 8 3 4 4 1 3 4 2 9 9 5 2 2 9 1 0 2 2  6 6 5 4 9 5 8 0 1 3 4 4 5 1 5 1 1 0 1 7 7 8 7 0 4 8 9 5 6 0 3 3 9 9 1 2  5 4 9 0 0 5 0 5 7 9 9 6 0 0 3 0 4 2 3 0 7 6 3 7 8 8 7 3 6 0 4 5 2 7 9 9  9 4 3 0 9 4 3 6 5 8 7 0 2 4 7 3 5 2 6 8] [4 4 6 9 5 9 1 2 3 1 2 9 7 5 3 0 5 3 0 0 5 1 5 9 7 7 1 5 1 6 3 0 2 4 7 0  1 4 2 5 9 0 3 5 3 4 6 7 0 1 3 2 3 3 8 2 4 3 0 1 1 3 1 9 2 5 7 5 1 9 3 6  4 0 4 1 6 7 7 3 8 5 0 2 7 1 4 6 2 3 5 2 6 0 8 4 2 0 2 4 1 2 2 8 0 7 0 6  7 3 4 1 2 1 2 0 4 2 4 5 8 8 5 0 2 2 9 9 0 2 5 0 2 6 0 7 5 3 9 7 0 1 6 6  3 6 0 7 5 5 3 6 8 6 3 4 2 2 4 0 7 4 1 2 4 4 4 9 2 5 0 0 5 3 2 0 2 4 5 3  7 0 7 8 0 9 0 3 4 3 8 4 4 2 2 2 4 9 2 9] [9 3 4 6 5 6 8 0 1 5 3 1 0 6 5 2 2 1 4 3 5 6 3 3 4 5 2 6 0 5 7 9 0 8 9 4  8 3 7 2 8 9 4 9 0 8 9 0 1 3 8 1 5 8 0 0 1 1 6 8 1 1 5 6 4 0 8 3 8 4 9 8  0 7 4 9 0 9 0 2 1 8 9 7 6 1 3 9 9 9 2 4 4 7 2 9 9 4 7 3 6 0 1 0 9 6 2 3  5 7 9 0 8 4 7 5 8 6 8 7 1 1 0 6 8 7 7 4 8 3 7 9 2 9 4 0 2 4 0 8 1 5 7 1  9 9 1 8 0 6 1 5 8 5 0 3 9 2 1 9 3 6 4 1 5 9 0 8 4 0 8 5 4 1 1 3 4 2 4 2  6 3 2 2 7 2 9 8 2 0 7 5 5 0 4 4 8 8 7 1] [7 2 7 2 5 0 8 6 1 6 7 8 5 0 1 6 4 4 8 6 4 3 7 3 4 8 9 3 2 2 5 5 9 4 0 0  7 5 3 7 4 1 5 7 5 4 4 4 5 9 4 8 6 2 4 9 4 4 9 7 2 7 3 0 1 8 8 7 3 0 7 8  9 0 9 1 3 4 2 0 7 5 4 0 2 1 3 8 3 9 9 5 8 5 6 1 7 1 7 8 5 6 1 3 5 1 3 6  7 9 0 7 5 3 2 4 5 2 3 7 4 8 0 6 3 5 2 1 9 3 9 3 1 4 2 9 1 3 7 7 9 9 9 7  6 1 8 0 9 2 8 5 5 4 9 8 0 1 8 2 9 1 8 1 0 1 0 8 8 5 4 9 2 3 1 5 6 3 7 5  2 3 5 3 5 3 3 5 3 5 7 4 2 0 0 5 1 8 5 1] [7 7 0 3 8 6 8 2 4 7 6 3 8 4 9 0 8 6 6 4 3 2 5 5 4 6 6 9 1 3 5 1 1 7 4 1  6 6 7 6 9 9 4 5 7 1 4 2 5 1 4 6 4 9 0 7 2 2 7 3 2 3 1 7 9 1 3 1 9 6 8 3  0 6 7 6 4 2 6 6 8 4 9 8 2 8 4 4 3 3 5 1 1 7 5 1 1 1 6 2 4 3 0 1 4 8 9 0  1 1 8 6 3 6 3 2 8 4 3 9 5 2 0 6 8 9 6 4 9 9 2 1 4 8 3 9 6 2 3 5 4 9 1 8  4 7 2 9 2 3 1 1 0 8 0 2 8 3 9 0 9 0 2 4 3 8 9 6 1 3 6 5 4 0 6 3 7 6 0 6  2 6 7 2 6 0 8 4 8 4 8 7 3 3 4 5 4 9 4 3] [4 4 8 3 1 9 8 2 2 8 2 8 4 2 4 5 9 3 2 0 3 4 4 2 3 3 7 5 0 4 3 0 3 8 1 2  3 3 9 3 6 5 0 2 1 1 8 5 1 0 1 2 4 7 2 6 3 4 6 5 6 3 8 9 8 4 3 7 7 9 3 0  5 4 0 9 6 5 0 2 9 7 2 0 5 9 0 7 4 4 6 5 0 6 1 7 7 7 4 4 7 0 5 2 3 6 6 4  0 1 6 9 4 2 9 6 6 6 8 5 3 8 6 9 4 8 5 1 7 3 2 2 3 0 4 3 7 5 0 5 7 6 6 7  4 4 4 9 5 5 5 4 6 6 2 6 4 1 5 7 3 0 2 2 6 1 1 4 7 9 6 0 3 0 9 4 8 2 3 2  8 9 4 5 2 3 9 0 8 5 9 7 8 7 4 8 3 8 4 3] [4 6 2 8 3 2 3 3 9 0 6 7 7 1 2 4 1 8 4 3 5 6 4 8 0 9 1 7 9 6 3 5 1 3 1 1  0 2 4 5 8 9 5 7 6 9 6 3 3 2 9 6 2 7 3 9 7 0 0 7 0 8 7 1 7 5 9 8 0 6 9 5  9 8 0 1 2 8 2 0 2 0 3 2 4 4 8 4 5 5 6 0 5 7 9 6 6 6 2 9 7 1 9 0 0 8 2 0  3 8 8 2 4 9 1 2 4 9 9 4 1 4 1 7 9 9 4 1 2 7 9 4 9 4 0 6 3 4 4 8 8 7 2 0  1 1 7 8 7 1 8 4 1 4 5 8 9 0 7 1 3 7 5 1 3 9 3 2 2 9 2 9 5 2 8 9 9 7 4 7  7 3 3 9 7 7 4 7 9 4 9 6 1 4 0 6 6 0 2 3] [9 8 6 8 5 0 4 9 9 5 0 4 6 3 3 7 8 0 6 8 2 8 3 3 6 6 1 9 6 4 0 8 0 7 4 6  1 7 2 5 8 2 5 8 7 7 6 9 8 9 7 9 8 2 8 0 1 8 7 5 2 9 6 6 6 1 3 8 4 5 3 3  8 2 5 7 4 5 9 6 8 5 9 4 0 6 2 0 4 1 6 9 8 7 5 1 6 9 1 3 3 8 0 6 7 5 4 7  5 7 5 5 3 3 3 8 3 6 1 4 3 1 9 5 3 8 5 6 4 1 6 0 1 2 5 8 4 9 8 5 4 5 4 8  6 3 9 9 5 7 1 5 7 4 8 3 0 5 7 0 4 6 9 4 3 1 7 6 1 4 2 9 6 7 9 4 6 9 0 3  1 5 3 5 8 6 6 0 1 2 7 3 2 9 5 4 2 5 6 1] [7 6 0 8 3 6 5 0 1 0 6 6 1 6 7 3 0 6 1 0 6 8 6 4 6 2 2 5 0 7 3 2 6 5 0 8  7 3 4 7 7 4 5 9 0 3 8 1 4 4 4 1 0 5 1 4 0 7 7 9 4 6 7 6 7 2 9 4 1 1 2 3  1 2 3 8 9 1 3 8 5 9 1 1 8 1 7 5 6 6 0 5 2 8 7 4 9 1 5 1 6 3 0 8 6 1 6 3  5 0 9 7 0 8 9 0 3 5 4 3 6 8 4 7 6 0 1 0 8 3 9 7 7 3 4 5 1 0 0 6 0 9 4 1  3 2 0 4 2 6 7 8 8 3 0 4 5 3 9 8 1 3 0 6 4 0 5 8 9 8 4 4 3 9 9 1 8 2 8 4  0 5 8 1 3 5 5 4 9 1 2 2 4 7 2 7 6 7 8 7] [8 2 4 5 5 2 9 7 1 9 1 8 3 3 0 5 7 0 2 3 3 8 8 8 2 7 3 3 5 5 2 5 5 7 3 0  6 5 4 9 8 3 3 9 2 6 0 2 9 5 6 3 9 4 3 0 8 9 3 3 2 1 6 8 8 7 5 0 1 0 1 8  0 8 6 0 1 4 5 0 8 0 0 8 6 8 7 0 8 6 8 3 1 6 3 7 2 4 4 1 4 4 5 9 0 8 5 0  0 3 5 2 6 2 2 0 8 0 1 5 5 4 8 0 4 9 3 9 4 2 9 8 9 6 0 9 1 7 0 5 3 6 1 9  9 8 9 4 1 4 3 9 8 6 2 1 0 1 5 7 8 3 9 2 2 8 9 0 0 0 6 5 4 8 9 5 7 5 2 9  2 1 7 1 5 2 5 8 9 9 1 0 4 3 4 4 2 9 2 0] [3 7 0 7 2 5 8 8 4 1 0 0 9 8 3 0 4 9 5 6 8 8 3 8 2 7 0 7 1 6 4 9 8 3 3 8  7 8 0 9 3 7 4 7 9 4 8 4 3 2 3 8 7 2 9 1 8 7 2 7 0 5 3 3 8 3 7 0 6 8 9 3  3 2 5 0 1 3 1 0 2 7 2 8 6 7 7 3 0 5 5 4 8 4 3 2 8 3 2 1 6 4 5 1 6 4 2 6  5 3 2 2 9 8 5 3 7 3 5 0 0 1 1 7 3 3 0 9 0 2 6 0 8 2 2 2 2 1 3 8 3 2 1 0  5 2 9 6 9 0 7 2 4 3 7 9 9 5 7 5 6 6 0 9 3 2 6 4 8 2 4 4 9 1 6 4 2 7 9 4  0 2 2 6 6 6 0 0 4 5 2 6 7 3 1 1 2 1 4 2] [5 7 0 3 4 6 2 6 2 2 6 1 2 5 6 6 4 9 4 2 5 7 0 0 7 2 5 3 4 8 7 7 4 2 6 4  1 6 1 1 1 0 9 7 3 0 5 5 1 3 2 2 9 7 0 3 1 8 9 7 0 6 8 6 5 0 9 5 9 6 8 6  1 1 9 1 9 8 1 5 2 5 5 2 5 0 4 3 4 7 8 7 7 1 2 9 2 2 3 7 3 7 5 2 0 2 6 0  0 8 4 2 8 1 1 9 9 3 5 6 7 8 2 1 1 8 1 1 2 3 5 9 1 5 0 5 0 2 9 3 7 2 5 4  4 7 5 7 3 0 1 6 6 7 5 1 3 1 4 4 7 0 6 6 6 6 0 8 9 7 0 5 5 3 0 8 7 8 7 4  3 3 8 3 7 3 9 0 5 5 9 4 1 5 5 8 1 0 8 5] [5 8 4 4 3 9 6 9 7 3 7 0 6 8 0 2 1 7 9 3 5 1 0 4 9 3 5 0 7 9 8 5 4 0 5 7  2 1 0 7 5 2 3 4 9 8 1 2 2 2 4 8 2 0 0 9 5 0 7 8 3 3 8 2 3 2 9 8 9 8 8 8  1 6 7 5 6 1 9 5 4 8 9 4 6 7 3 8 9 6 2 8 1 3 9 2 1 9 1 0 5 9 5 8 8 8 4 7  9 4 3 6 5 1 1 0 0 4 9 8 2 3 7 2 6 5 9 6 1 1 1 0 8 0 8 8 8 9 9 7 2 1 3 0  4 2 4 4 8 3 8 0 3 2 5 7 6 6 7 6 1 4 5 8 7 3 3 4 1 6 5 8 8 9 5 6 6 7 0 0  1 6 1 7 6 5 8 7 5 2 8 4 7 6 0 7 1 2 0 7] [4 1 4 6 7 7 6 6 6 2 4 9 9 9 2 4 6 6 4 7 4 0 2 2 2 1 5 8 1 9 0 9 5 1 9 1  8 2 3 8 0 4 9 1 4 3 8 1 8 1 2 0 2 0 2 4 5 5 9 8 0 7 5 3 0 9 6 3 7 3 4 1  4 6 3 6 4 9 9 1 3 4 2 6 2 9 8 1 4 9 4 5 2 6 6 4 8 3 6 6 2 0 6 2 6 7 5 1  7 6 1 4 7 4 8 5 3 6 2 8 2 0 8 9 6 3 6 3 1 5 3 0 9 6 3 9 3 7 6 6 6 3 7 2  9 3 1 6 1 5 0 1 5 9 0 8 5 9 4 4 5 3 0 6 8 2 8 2 3 2 9 7 0 7 2 0 9 0 5 5  1 4 1 6 4 0 3 4 4 1 0 7 9 4 5 7 8 7 6 4] [0 6 9 8 5 3 5 7 5 2 5 6 2 5 5 1 6 7 8 6 0 7 3 5 6 0 1 1 6 5 2 1 8 9 9 9  8 0 1 8 1 4 1 6 8 4 8 3 7 9 3 7 9 6 8 1 9 0 6 1 7 1 6 1 5 4 2 4 0 6 9 5  3 7 1 9 1 7 3 2 0 7 2 2 2 3 1 9 2 0 9 7 4 8 3 1 2 5 1 8 0 1 6 6 9 6 9 6  8 3 0 6 9 8 2 6 6 4 4 1 9 2 6 6 1 1 6 1 9 8 8 5 1 1 8 1 9 8 7 7 8 7 0 7  0 1 1 7 3 5 9 5 0 7 9 7 6 6 3 2 4 4 7 3 6 4 0 0 8 2 6 4 5 2 1 0 6 9 1 2  5 6 1 4 0 3 0 2 9 8 9 3 8 5 9 3 7 3 5 0] [1 4 3 3 9 1 3 6 4 4 4 8 6 9 9 1 1 2 9 9 3 4 8 6 0 4 1 3 2 0 1 0 2 1 1 1  9 7 7 1 7 0 5 3 5 1 3 1 1 4 5 6 2 1 4 2 2 1 7 3 6 7 9 5 1 6 6 0 3 8 0 5  3 4 1 5 1 0 9 5 7 1 8 3 9 5 4 9 7 2 6 0 0 2 8 0 8 2 3 0 3 6 3 1 5 8 9 2  6 7 4 0 4 1 0 5 8 4 5 3 9 6 9 9 6 2 1 6 3 3 4 4 3 5 1 4 0 2 8 2 1 5 5 1  3 6 6 6 6 3 0 3 7 3 2 2 5 7 1 9 7 8 4 1 7 2 2 3 9 2 6 2 9 8 0 1 0 8 8 4  1 2 8 5 0 6 5 9 6 8 6 4 6 0 5 2 8 5 2 7] [8 3 8 1 7 7 8 0 6 9 8 3 1 5 0 8 4 9 3 8 4 4 4 4 0 5 1 3 5 4 2 3 8 2 6 8  3 1 4 7 1 4 3 2 9 0 1 7 5 5 9 7 3 6 7 8 6 9 4 2 6 5 3 2 9 6 8 9 8 6 6 3  9 7 0 8 9 2 9 7 5 2 1 5 7 5 1 4 1 0 0 5 4 5 4 0 5 5 1 5 6 6 5 6 0 6 1 5  6 1 2 5 8 8 5 2 4 6 8 7 9 2 5 3 0 5 7 1 8 5 2 9 4 1 6 5 2 2 0 1 0 4 0 3  7 0 4 9 7 3 5 5 2 4 0 2 0 5 2 1 2 4 7 5 2 6 4 9 5 8 8 1 1 3 4 4 0 2 5 7  4 8 5 3 6 1 3 0 5 9 5 3 4 4 0 4 6 8 4 0] [1 8 8 3 0 3 9 0 0 9 9 8 7 9 7 4 7 9 4 7 4 9 2 4 5 7 2 3 0 0 3 1 9 5 6 8  3 1 1 0 0 3 8 8 2 3 5 8 6 2 2 2 9 9 6 1 8 8 5 0 5 2 8 3 7 8 7 0 7 9 3 9  2 7 0 8 3 5 8 8 0 5 2 3 8 3 6 6 6 8 9 6 7 6 6 2 2 6 8 0 7 6 7 7 2 5 9 6  0 9 9 3 2 9 3 1 1 7 6 0 9 7 4 8 5 4 4 3 5 8 3 3 5 5 1 7 7 5 9 4 4 9 1 0  0 6 9 4 6 4 1 9 6 4 0 3 0 8 9 5 5 4 2 9 6 1 5 3 0 1 4 2 1 8 2 7 0 3 2 1  6 3 8 4 6 7 0 0 4 9 1 6 5 4 0 8 8 0 8 9] [1 0 3 2 2 9 9 5 1 8 7 9 4 4 8 5 5 4 9 7 6 9 3 3 4 8 5 7 5 6 0 9 4 1 0 2  4 7 2 1 1 5 7 4 5 4 7 5 1 5 0 3 4 3 9 8 3 2 9 2 5 7 7 9 6 9 7 5 5 8 5 7  1 9 6 7 7 2 2 9 0 0 1 3 5 1 1 6 4 6 0 1 6 5 7 9 6 5 8 0 0 2 2 4 2 9 1 1  7 7 8 4 3 7 8 9 5 6 1 9 2 6 0 0 6 0 5 0 7 5 8 2 8 0 3 5 1 1 6 4 2 8 4 8  1 5 1 2 7 3 7 1 8 3 2 8 4 7 4 5 5 1 8 5 4 4 2 3 0 2 4 2 1 1 2 7 6 4 6 9  5 6 8 3 7 9 4 4 2 5 9 1 6 5 0 3 2 2 9 8] [3 8 6 5 4 4 9 4 8 1 7 7 0 3 1 5 4 5 0 7 5 3 3 6 7 4 3 8 3 2 6 0 9 2 7 6  3 8 2 3 2 6 7 7 7 8 2 9 6 5 3 5 1 3 0 3 3 3 0 6 3 0 2 4 2 9 0 6 4 6 2 3  0 0 1 3 5 8 6 8 4 7 4 7 2 8 0 2 5 7 0 9 0 1 7 6 1 2 0 1 6 5 2 3 8 8 2 6  6 4 5 1 9 7 1 2 3 0 4 3 7 8 0 1 2 9 3 1 0 9 2 2 2 9 1 6 0 3 7 5 8 5 1 6  4 2 0 1 4 2 0 3 6 5 3 9 1 4 7 9 2 6 7 7 4 8 2 7 2 9 1 3 1 7 5 5 0 4 7 6  0 6 3 9 1 4 4 0 6 4 5 0 1 0 9 1 1 5 5 3] [7 9 5 7 0 8 6 0 5 0 5 9 0 4 0 4 0 4 4 7 1 4 2 5 1 6 3 6 5 2 7 2 3 4 8 8  6 1 2 1 1 9 8 8 1 2 0 6 2 3 1 9 8 3 8 5 2 6 0 4 1 0 5 3 9 0 4 1 7 3 0 2  1 8 5 7 0 5 3 2 7 3 3 6 3 8 4 3 2 8 5 1 9 2 6 2 1 2 5 3 5 8 8 4 5 8 5 0  8 0 9 6 1 0 3 6 7 8 6 5 5 2 1 9 2 4 8 6 0 5 4 0 5 3 4 2 5 2 6 3 9 4 2 8  5 0 0 4 7 2 1 1 2 7 5 0 1 3 7 2 2 6 1 5 2 5 7 6 3 6 0 4 5 8 2 5 8 9 4 4  5 7 0 7 1 9 6 6 8 6 2 6 3 1 3 8 2 0 9 0] [0 5 9 8 6 9 1 5 1 0 4 3 4 4 4 3 8 0 0 6 4 2 7 5 6 3 7 8 1 6 2 1 0 9 9 1  7 7 1 4 7 8 0 4 5 7 3 2 6 8 9 4 5 5 2 2 4 8 9 1 9 5 1 3 4 9 1 1 1 0 2 4  2 9 7 9 3 9 1 2 6 6 4 7 5 3 0 8 1 6 8 7 1 4 0 9 3 3 1 4 7 1 3 5 6 6 9 9  1 8 5 3 0 7 1 6 8 6 8 2 6 2 6 6 4 9 6 6 3 9 4 2 3 4 3 9 9 5 2 6 6 5 7 9  2 4 6 6 2 3 1 6 9 3 0 2 1 9 1 2 6 3 3 2 8 2 6 1 1 7 0 3 7 7 3 5 5 7 4 4  3 7 5 4 1 8 1 4 0 7 2 2 8 6 3 4 3 4 9 4] [0 5 9 5 6 9 9 9 9 0 6 5 5 3 2 8 2 6 5 8 8 8 6 8 6 6 5 0 8 5 6 3 6 5 7 0  9 3 6 5 6 0 6 2 7 6 1 9 2 0 0 9 1 0 1 9 2 4 3 1 6 8 4 1 9 6 2 9 0 8 9 8  1 1 4 3 0 7 5 6 4 7 0 5 6 7 8 0 5 0 9 0 8 4 2 1 0 5 3 0 9 6 3 1 1 2 5 3  8 0 0 9 4 2 5 7 8 2 0 8 5 7 1 7 0 8 0 2 5 6 8 0 1 9 5 5 4 7 4 4 1 3 6 7  2 3 7 1 2 4 2 3 1 6 9 2 1 8 2 5 1 2 6 8 0 7 4 3 8 1 8 7 8 7 6 1 6 0 5 9  8 3 6 3 8 2 6 7 9 7 3 3 1 7 2 1 2 1 0 2] [1 0 5 6 2 3 2 8 6 0 7 8 1 3 7 5 4 2 0 5 1 9 2 0 9 9 6 9 0 4 6 7 5 7 1 8  7 1 2 3 5 5 6 8 6 5 2 9 5 7 7 0 9 4 5 1 7 0 0 6 6 9 3 7 1 5 2 9 0 0 6 3  1 8 7 6 7 7 8 9 5 6 6 2 2 4 8 9 5 4 1 9 9 0 2 5 7 3 5 6 2 8 3 7 8 3 2 4  8 8 5 8 0 2 1 2 9 3 1 2 0 0 5 7 8 7 0 6 8 6 7 7 4 6 7 7 1 2 1 5 7 7 8 3  8 7 0 6 1 9 7 1 2 7 0 2 2 2 8 0 8 4 0 5 4 7 7 4 4 8 1 6 6 3 4 2 3 7 2 2  7 0 5 0 8 0 0 0 2 3 8 9 7 8 7 0 5 2 0 8] [7 7 3 8 0 2 5 1 5 1 0 6 2 5 0 8 2 9 6 8 5 9 1 7 8 7 0 2 1 9 7 2 9 8 3 9  5 3 5 5 9 6 0 0 9 5 6 8 9 6 0 2 9 0 2 1 8 4 8 8 2 3 7 9 8 2 7 0 7 0 6 5  6 8 0 2 7 4 1 0 6 4 9 7 3 4 2 4 2 0 9 0 3 4 8 3 1 4 5 6 1 1 9 9 9 3 8 8  4 2 7 7 7 2 2 2 7 3 1 8 9 5 1 6 4 4 4 1 9 9 3 9 6 5 7 2 6 9 2 2 1 3 3 3  8 4 0 8 0 0 7 2 9 8 0 4 4 1 3 8 9 0 6 8 6 9 2 8 8 1 1 1 3 1 5 2 4 3 5 6  4 9 1 1 7 5 7 6 5 7 1 5 6 3 7 4 3 6 2 1] [7 3 9 8 7 6 5 6 1 2 2 2 2 4 3 2 9 2 7 7 9 4 6 6 8 1 6 9 9 5 6 4 6 7 9 0  7 1 6 9 5 9 0 2 1 3 2 9 8 7 9 1 0 6 9 0 1 8 1 2 4 5 2 9 5 7 8 9 6 1 8 1  2 6 2 3 8 8 6 7 5 5 3 6 7 4 5 1 5 5 3 6 2 6 3 0 0 1 0 1 8 7 4 1 3 5 1 9  9 3 2 4 3 0 7 9 0 0 8 1 1 8 6 5 0 6 2 1 6 7 3 5 8 4 6 4 6 3 8 2 2 5 2 9  4 8 0 7 5 2 8 6 8 7 2 0 2 3 9 7 3 9 3 5 6 5 7 5 2 2 0 9 0 8 8 7 8 6 9 1  6 0 3 0 0 0 2 2 6 0 3 1 8 0 0 1 8 5 0 5] [6 6 0 2 3 3 3 9 3 0 5 1 5 4 8 0 5 3 4 9 4 5 1 2 2 1 2 7 7 1 8 7 9 2 8 2  8 4 8 8 6 4 6 2 7 5 4 6 0 8 0 8 7 7 5 4 3 6 0 9 4 5 1 4 5 4 3 1 7 0 4 5  9 5 7 0 9 4 8 5 4 9 3 2 9 8 5 3 2 5 6 2 8 4 5 3 9 8 1 2 0 6 6 0 9 0 8 6  0 9 7 8 9 9 8 0 8 7 4 2 6 6 4 5 7 9 5 4 1 9 7 5 5 1 4 2 2 9 4 6 4 1 5 4  6 0 8 5 9 1 2 2 5 4 6 4 2 9 8 3 2 0 8 8 2 5 1 3 3 9 6 4 2 4 6 2 3 8 3 6  4 8 5 7 9 9 4 1 2 9 3 4 4 1 3 9 9 2 8 3] [5 7 8 7 2 8 6 7 8 9 1 2 8 9 4 5 7 0 3 9 0 4 4 6 0 3 2 9 1 9 9 3 2 0 0 8  1 7 8 5 6 4 7 3 4 9 4 1 5 7 4 8 6 6 2 3 9 7 4 0 5 5 0 0 0 7 0 9 1 0 5 1  5 5 9 8 5 1 2 0 9 8 2 2 1 7 4 1 1 0 3 7 2 5 7 4 2 8 9 8 0 5 6 9 9 8 7 7  9 0 0 8 4 8 9 5 8 2 7 8 5 5 2 5 7 2 7 8 3 0 1 7 0 2 8 4 1 4 5 1 8 2 4 5  5 1 2 1 8 8 1 8 3 9 4 9 3 5 9 2 8 1 4 1 5 5 8 0 3 8 2 7 1 4 8 4 8 1 7 5  6 8 7 8 8 8 8 8 2 5 8 2 9 2 2 4 3 3 6 8] [9 6 2 5 7 9 4 2 4 8 7 7 2 1 3 2 5 6 4 0 0 9 2 4 1 0 0 4 5 9 5 9 9 1 6 7  7 2 0 5 1 4 5 3 2 1 9 8 4 8 7 1 0 1 0 4 4 8 8 1 3 9 8 6 5 8 7 1 5 3 6 2  4 6 0 3 4 6 9 5 2 1 5 1 7 7 2 9 8 2 9 7 1 2 2 0 9 8 8 9 5 9 6 2 8 1 5 2  2 0 3 9 9 3 4 8 7 8 7 4 8 1 8 0 1 9 6 6 0 9 5 7 5 1 5 0 2 9 8 3 4 3 4 2  4 8 2 9 0 8 8 4 9 6 8 4 1 8 0 6 8 6 0 5 1 7 1 1 5 8 2 1 5 9 3 6 4 8 0 7  3 5 7 7 6 2 4 3 5 9 8 8 0 1 2 4 5 6 6 0] [5 7 1 1 0 4 0 5 2 3 5 6 8 0 9 9 2 7 7 7 2 4 4 8 6 0 0 0 8 3 5 5 2 5 6 6  9 0 1 4 5 9 5 8 5 8 9 0 2 2 5 2 9 6 2 9 5 1 8 8 2 2 3 4 2 2 7 2 7 0 0 5  1 4 6 6 4 6 2 1 8 0 5 9 5 1 7 0 5 4 5 7 7 2 3 9 8 9 2 7 5 3 3 2 9 9 0 5  5 5 9 6 2 8 1 4 1 7 4 0 5 5 0 5 8 2 7 0 8 0 7 3 1 0 8 6 6 2 1 8 0 9 8 0  4 1 8 0 0 7 7 3 7 9 3 0 3 4 8 1 5 1 2 4 3 4 8 1 3 9 3 2 1 9 1 0 8 0 6 3  6 5 6 6 1 3 3 6 9 8 0 4 7 3 8 2 1 0 3 8] [7 6 0 3 5 7 3 2 7 2 1 1 8 9 0 1 8 7 1 3 6 5 5 5 3 8 7 4 2 2 8 0 3 2 6 9  3 1 9 4 9 8 5 3 6 8 9 9 8 1 6 8 2 8 2 4 9 2 1 8 6 5 2 3 2 2 9 6 4 6 4 9  0 9 5 8 6 0 9 4 7 2 7 6 4 1 8 9 8 7 4 4 9 7 7 1 5 7 1 2 3 8 0 6 8 1 4 9  3 6 3 5 3 0 5 0 9 1 0 0 7 2 2 1 1 0 8 2 1 6 9 4 2 5 3 3 0 9 4 8 5 8 4 1  3 3 2 4 1 5 7 6 1 4 1 0 3 7 7 9 7 1 1 0 6 1 4 9 2 0 3 0 9 2 6 8 9 2 8 1  6 0 9 2 6 5 2 8 3 5 6 9 9 6 7 9 2 3 1 1] [7 4 5 8 1 2 9 8 3 6 2 3 3 0 5 9 2 6 1 3 8 4 5 6 0 1 5 5 2 5 0 8 4 1 4 9  8 4 8 4 5 6 5 9 4 4 5 1 3 6 9 5 4 0 8 9 1 9 7 4 2 4 4 2 5 0 6 2 3 8 9 9  3 5 5 6 5 8 3 0 0 1 2 6 2 1 1 8 2 6 9 5 8 5 9 1 2 9 6 3 6 9 5 1 4 9 1 1  0 1 1 2 5 6 9 8 7 4 5 0 7 8 3 3 8 8 7 3 8 3 6 2 5 2 5 4 4 3 1 9 6 8 8 1  3 8 5 8 3 6 0 5 6 9 5 4 9 2 9 7 6 0 6 3 7 3 8 2 4 9 0 6 0 8 7 5 0 6 5 9  8 0 5 2 3 2 4 1 7 6 2 8 2 6 9 3 9 8 9 9] [2 9 7 8 7 4 6 2 6 8 7 8 3 1 6 7 5 7 9 1 5 7 4 9 2 1 7 1 7 5 1 7 0 0 8 5  9 9 5 0 6 2 7 1 6 9 6 6 9 8 1 3 3 1 7 0 0 2 3 5 8 6 7 1 8 8 9 0 6 1 4 9  7 6 2 6 9 5 5 8 3 9 5 9 2 5 0 0 2 0 1 3 2 8 1 5 9 2 1 0 4 9 3 3 6 5 1 4  6 1 2 3 8 3 7 1 3 2 8 6 1 6 2 6 6 9 7 0 8 1 3 1 1 1 4 6 0 4 3 4 5 4 7 8  7 6 1 6 5 9 1 5 9 1 8 7 7 5 7 2 9 4 6 4 2 3 1 9 5 6 9 2 9 1 9 4 4 1 4 6  8 7 6 9 2 4 2 3 6 1 6 0 1 6 6 4 5 7 3 5] [5 5 7 3 7 7 0 3 0 7 6 3 9 0 3 8 2 0 6 1 6 3 1 3 6 1 6 6 5 5 6 1 5 9 8 4  6 3 8 6 2 4 6 0 3 1 6 4 7 9 6 7 1 0 7 3 6 6 4 5 3 9 1 1 7 7 6 0 1 2 6 1  7 2 2 6 5 6 9 6 4 3 5 4 8 7 8 0 8 4 6 8 9 9 3 6 0 2 0 2 7 5 4 0 1 7 3 1  0 1 2 8 7 2 9 3 0 7 8 2 3 1 0 3 8 3 1 2 6 5 1 7 0 4 6 2 3 1 2 1 3 9 7 4  9 6 7 5 7 4 7 1 5 3 5 4 8 0 3 0 7 9 4 5 7 5 8 9 6 0 3 2 3 1 0 8 0 8 5 6  9 7 0 1 8 8 3 9 5 4 3 7 2 3 0 1 5 7 2 1] [2 8 6 2 1 3 9 1 8 5 7 5 7 2 6 2 8 6 7 7 8 8 5 9 1 5 6 0 9 7 2 4 3 7 6 6  6 3 1 9 0 3 0 4 4 2 2 6 4 8 8 5 6 0 2 2 2 6 8 7 7 7 8 4 4 0 1 1 6 2 6 8  1 8 2 9 7 3 8 3 6 8 6 9 9 9 0 1 5 6 2 2 1 7 9 3 3 3 6 0 1 6 9 5 0 1 0 5  4 8 6 9 3 6 5 2 8 1 8 9 2 4 1 3 2 1 0 5 1 7 0 3 8 5 3 7 7 1 5 1 9 8 0 3  0 8 5 5 4 2 1 5 2 5 3 3 1 6 5 5 4 1 1 1 0 0 2 1 6 9 3 8 7 9 0 2 5 4 1 0  5 3 0 9 9 9 8 3 7 4 5 3 0 5 4 3 8 9 9 1] [4 5 3 3 5 1 3 4 3 8 6 2 1 6 4 9 8 2 3 4 0 8 6 8 7 4 3 7 2 5 1 5 0 4 7 8  9 1 6 8 3 5 6 1 2 2 4 9 4 0 2 8 9 5 9 4 5 4 4 5 4 3 2 9 5 9 0 2 6 8 9 6  9 1 8 0 9 8 4 3 0 5 4 0 1 1 0 7 0 8 6 3 9 6 5 5 0 7 8 1 3 1 5 7 4 3 1 3  2 2 2 2 7 2 5 1 0 2 6 0 1 2 6 5 8 1 4 0 1 7 8 6 7 9 0 8 0 3 5 6 9 1 2 7  5 1 6 1 2 5 2 3 3 0 7 8 0 8 6 5 1 0 9 6 0 6 6 8 4 5 6 8 7 8 6 6 5 8 9 8  1 1 2 5 2 4 0 7 6 3 2 4 9 2 6 9 0 5 2 8] [7 5 3 5 3 6 5 2 6 6 6 2 8 8 8 4 8 7 7 5 4 1 7 8 9 3 6 2 1 9 3 1 4 9 7 7  7 2 4 2 8 1 4 2 8 0 3 9 4 9 9 8 3 9 5 6 5 2 3 9 7 1 7 2 7 5 5 7 2 3 8 2  6 0 5 2 6 8 1 1 0 2 5 1 0 4 4 2 1 9 4 9 6 0 6 7 1 4 4 6 1 7 3 0 5 7 9 3  0 0 6 0 0 7 4 6 4 9 5 4 1 7 9 4 1 1 8 2 2 4 9 4 6 4 8 1 6 9 9 0 8 7 1 2  1 6 0 9 8 1 8 2 5 2 8 0 1 6 1 5 1 1 3 7 3 2 6 5 5 4 6 7 8 1 3 6 6 6 9 0  4 9 1 6 4 4 5 5 8 7 1 1 2 1 0 6 5 1 7 5] [8 9 6 8 8 2 2 6 2 2 4 3 4 1 6 0 7 2 5 6 2 8 5 5 5 3 5 5 5 5 6 3 5 1 6 7  6 2 6 3 1 5 8 1 3 3 8 8 7 3 1 7 1 0 8 7 4 0 7 0 3 4 8 9 0 3 5 0 1 7 2 7  3 3 9 7 1 4 1 2 3 4 1 7 6 9 1 8 2 3 6 0 4 1 0 7 6 2 4 1 6 8 9 0 7 1 5 8  3 4 6 2 2 2 6 4 4 3 5 2 5 1 4 7 3 5 6 3 8 9 7 7 6 0 5 9 6 4 4 5 1 0 4 0  6 4 5 4 3 9 0 8 7 4 9 9 0 1 8 7 4 3 4 9 7 1 1 0 4 5 0 7 0 5 8 0 6 5 3 2  0 1 0 1 8 7 2 5 6 0 4 9 3 3 1 7 0 4 1 2] [9 3 8 1 9 5 2 3 3 2 4 3 7 7 2 0 2 5 9 2 8 8 0 1 8 1 9 4 8 4 4 3 1 2 7 7  3 0 8 6 0 7 9 6 3 9 3 9 4 3 5 4 8 8 2 7 7 2 2 0 0 0 1 8 3 7 6 0 3 2 3 3  6 3 0 4 7 6 4 2 8 7 7 6 7 2 2 0 1 7 0 1 0 6 8 0 7 9 3 6 5 7 1 1 5 7 0 4  1 0 2 4 8 1 9 5 9 5 2 3 7 2 4 2 3 7 8 0 5 1 1 5 7 4 4 5 9 2 5 1 7 2 3 7  1 7 6 0 1 8 6 3 9 4 5 7 8 0 7 1 9 1 9 8 5 2 6 3 8 9 1 3 0 5 0 6 7 8 5 4  6 0 6 2 2 7 3 4 4 8 5 2 1 6 8 4 2 2 5 8] [5 6 0 2 6 2 8 2 0 5 2 1 7 4 4 8 2 4 5 2 7 0 4 2 0 4 3 9 9 5 1 4 5 5 4 5  8 5 1 1 1 9 2 8 9 2 3 8 7 5 1 5 1 4 0 9 4 4 7 3 5 0 5 8 8 9 1 1 4 4 9 4  1 7 6 6 4 4 2 7 7 3 3 5 9 1 2 4 3 8 2 5 1 0 0 6 3 7 9 2 1 7 1 8 6 9 4 1  9 2 3 1 0 3 1 1 3 5 9 8 4 7 4 2 3 8 9 3 5 5 7 9 3 6 5 5 9 2 2 3 2 6 6 5  0 7 6 0 7 1 8 4 8 5 7 1 9 7 0 2 3 6 7 8 8 2 7 6 4 0 6 4 8 4 6 7 1 1 0 0  3 4 2 3 1 6 3 6 6 5 4 1 7 7 6 2 7 8 0 9] [6 5 9 8 3 5 4 4 6 3 4 1 4 1 3 9 0 2 5 5 3 5 7 3 6 5 9 0 9 0 7 9 5 9 0 0  6 0 0 5 4 2 0 5 1 5 6 4 4 5 5 8 9 5 9 4 8 1 3 7 7 9 5 8 9 5 1 0 4 8 8 5  6 2 3 4 4 6 8 1 4 4 9 5 5 9 0 3 0 4 3 4 1 7 5 6 5 3 2 6 9 3 5 2 7 2 9 7  2 8 1 7 5 4 4 0 1 8 4 5 6 4 2 9 4 5 2 7 0 0 3 9 9 0 7 0 8 7 1 3 9 4 1 0  0 5 6 8 8 7 2 7 6 3 1 8 5 9 3 8 0 2 1 7 6 4 9 6 0 5 4 2 4 8 3 1 4 5 6 6  2 0 2 9 5 2 4 0 1 0 9 0 6 6 2 6 4 3 9 1] [1 7 5 9 2 4 7 5 2 7 3 2 7 4 1 4 2 8 8 2 9 5 0 7 0 0 3 3 3 0 4 1 3 8 9 6  4 1 8 4 2 5 7 0 7 8 6 4 9 6 3 9 4 1 6 9 8 0 8 2 1 1 2 8 2 8 8 5 3 0 2 0  4 2 1 1 8 2 2 4 2 5 4 9 0 6 0 0 1 8 3 7 0 6 1 7 6 9 4 8 8 7 5 9 4 9 4 3  8 4 9 7 1 8 9 5 0 1 2 0 3 9 3 8 1 1 9 7 6 5 4 4 0 6 5 1 5 8 2 0 2 6 2 7  5 3 1 5 1 0 2 8 6 2 8 1 4 7 1 7 2 1 6 1 3 9 5 6 8 5 6 0 7 1 0 8 7 3 7 2  9 6 6 0 0 4 8 9 8 4 3 8 6 0 6 6 6 3 7 1] [6 1 1 2 8 9 6 0 5 6 7 8 0 8 2 1 4 5 2 0 6 3 4 5 5 4 4 8 5 4 8 1 8 2 5 6  0 6 1 6 8 7 6 0 4 7 5 4 8 7 8 5 0 7 3 0 6 9 8 8 7 5 7 3 8 2 4 5 4 8 6 8  0 6 3 3 8 0 1 4 7 4 5 3 8 2 5 8 2 2 5 9 7 4 2 8 6 5 9 8 5 0 3 8 1 8 4 2  1 6 4 9 9 3 4 1 6 6 8 2 7 2 0 0 0 6 9 8 9 1 1 6 0 4 9 8 8 5 3 6 2 4 0 3  0 8 9 9 5 3 7 6 3 1 9 7 6 7 2 6 5 3 3 5 3 4 0 7 7 7 1 0 0 1 8 0 4 8 9 2  4 4 0 7 4 3 2 5 2 2 8 0 1 4 4 8 3 8 3 7] [3 7 2 1 8 8 0 4 3 1 2 1 7 2 6 5 2 9 5 3 4 9 9 4 2 7 2 7 6 3 2 8 4 3 7 8  5 1 5 2 8 4 2 0 3 9 7 5 7 0 1 1 1 5 0 2 1 8 7 3 8 5 5 6 0 3 3 4 8 6 4 0  2 6 4 4 4 4 1 6 9 0 6 0 5 8 5 4 8 1 0 9 2 9 7 8 7 9 9 1 8 5 6 0 5 5 6 0  1 4 3 1 9 6 6 6 2 2 8 2 8 5 5 0 0 7 5 7 3 8 2 6 0 2 2 6 7 3 0 3 9 5 5 4  6 0 8 1 2 6 6 9 6 2 9 5 9 3 7 0 1 0 2 7 7 8 5 8 0 9 7 6 9 3 7 0 7 2 3 0  0 7 5 1 2 2 5 1 2 2 2 6 7 7 8 0 8 3 2 2] [6 0 7 2 3 0 4 9 0 5 9 3 7 0 1 3 4 2 2 8 7 4 4 4 6 4 5 1 7 4 0 0 9 2 5 0  8 0 8 1 1 2 1 0 5 7 6 0 7 2 2 6 5 6 1 1 0 1 9 8 7 9 8 6 0 2 5 8 3 0 1 1  5 2 7 5 9 9 9 5 8 1 6 2 2 0 6 5 8 4 7 5 4 9 9 1 1 0 3 5 6 9 8 5 2 3 9 0  1 8 7 0 5 3 4 2 0 2 0 5 4 3 4 5 9 3 0 5 1 6 8 8 7 8 3 1 0 6 5 8 2 1 1 1  6 2 8 5 2 2 6 1 7 2 2 7 3 6 9 3 0 9 0 4 8 3 7 5 7 3 8 1 1 4 9 1 6 3 6 6  6 2 5 1 4 7 6 7 2 9 6 3 3 2 8 2 8 1 6 8] [7 6 6 1 2 8 1 1 2 4 1 4 2 4 2 6 0 4 7 5 1 6 4 8 4 6 7 7 5 7 1 3 8 8 8 3  7 9 4 0 3 3 7 1 4 6 9 9 6 6 6 1 9 4 1 1 5 1 6 9 3 9 9 8 5 3 6 1 6 9 7 8  8 0 6 2 3 9 5 5 6 4 6 0 3 9 2 4 6 5 9 2 2 9 4 1 3 0 4 0 4 7 1 9 1 8 2 6  4 9 8 5 2 7 7 6 0 7 0 6 7 3 4 0 5 5 7 6 9 3 5 1 7 5 1 5 0 8 3 2 0 2 4 4  8 9 0 5 7 9 5 0 3 9 9 0 5 3 0 9 3 8 8 0 5 7 6 0 6 0 4 5 2 6 7 6 7 8 0 7  0 9 1 9 0 8 1 5 6 8 2 3 6 5 8 3 4 0 0 3] [7 7 6 6 0 7 5 7 4 7 2 2 3 4 7 5 0 0 6 4 9 5 2 2 0 0 8 9 1 2 3 7 6 5 5 9  8 9 4 3 0 5 1 0 0 9 7 2 2 2 4 6 4 2 5 1 0 9 5 1 0 3 5 6 7 3 1 4 0 9 6 2  7 2 8 7 0 5 4 1 6 0 9 6 1 4 5 9 5 7 2 3 5 7 1 7 6 4 5 8 1 2 7 5 7 8 1 5  3 7 5 1 5 9 3 5 4 2 8 3 5 3 2 4 7 5 8 1 1 8 4 9 6 6 1 7 2 2 4 5 5 9 5 8  5 8 9 2 9 0 0 4 2 6 5 2 0 9 3 0 5 2 7 4 3 7 4 7 9 5 6 6 9 6 5 9 8 6 4 6  8 5 6 0 6 8 0 4 3 1 6 3 3 1 9 4 9 8 6 1] [7 7 5 6 8 6 5 1 8 4 1 0 4 5 5 4 1 1 9 7 4 5 5 9 8 2 1 1 8 8 4 6 6 3 6 8  0 7 2 1 8 2 4 2 9 8 6 1 7 7 2 2 5 5 4 4 3 9 3 0 1 1 6 8 4 5 2 9 2 7 6 5  9 1 5 9 3 4 8 3 8 0 4 1 4 4 6 2 6 5 8 5 7 4 2 1 8 4 1 5 4 6 6 2 4 7 7 1  7 9 7 6 9 7 9 1 8 6 2 6 3 0 6 0 5 9 3 2 2 7 2 4 5 6 3 8 9 6 8 2 6 2 7 9  1 3 6 0 3 2 0 3 8 4 7 7 4 0 2 7 0 1 2 9 0 0 3 1 6 4 6 1 4 3 1 4 5 4 4 8  4 3 5 6 5 5 6 4 7 1 3 4 8 6 6 5 2 1 5 8] [6 0 1 1 3 4 7 0 1 6 3 2 8 8 4 8 1 5 3 0 4 4 7 7 4 8 2 0 8 8 6 5 1 5 1 2  8 6 9 1 2 9 5 1 8 4 8 6 3 0 9 7 6 9 3 8 4 7 2 1 9 4 1 5 9 9 6 1 6 9 7 7  9 5 7 8 4 2 5 1 4 4 0 9 5 3 7 1 9 9 0 1 2 1 3 8 9 3 8 8 9 8 3 7 8 9 1 2  0 5 0 1 6 3 6 2 2 8 9 8 8 2 5 2 6 8 7 7 3 4 8 3 9 0 6 4 0 7 9 9 2 5 4 1  5 5 8 2 2 6 6 1 7 5 0 2 1 0 5 6 2 3 4 5 1 6 7 4 1 3 8 3 0 2 7 7 5 5 4 2  5 7 1 0 1 0 5 4 8 8 5 4 8 7 6 2 0 8 5 2] [3 5 4 8 0 2 2 1 9 0 3 5 1 4 0 3 6 6 0 1 5 3 4 4 5 5 0 3 0 6 8 2 3 0 7 4  3 6 2 0 5 8 8 5 0 4 6 7 4 0 6 0 4 5 0 4 1 4 0 4 4 9 3 2 8 8 5 8 7 3 4 0  9 2 7 2 1 2 9 7 7 6 0 3 8 7 3 9 4 6 2 8 4 0 3 6 3 0 0 3 7 9 3 6 2 1 6 7  1 6 4 9 7 8 4 8 4 3 6 7 2 3 9 3 3 3 6 0 3 8 3 7 1 0 4 5 8 2 1 5 9 3 7 4  5 1 5 6 2 9 6 2 6 9 2 1 3 7 0 2 6 6 0 7 8 1 1 8 7 6 2 4 6 4 5 5 9 4 6 1  9 4 8 3 1 9 8 3 8 2 6 6 9 9 0 3 0 3 5 4] [9 9 3 6 7 0 6 4 6 5 9 8 5 5 8 3 8 4 9 0 7 1 1 7 0 1 5 2 8 4 0 2 3 4 0 9  2 1 0 7 4 4 8 5 6 1 8 3 7 7 1 9 6 1 1 8 9 2 9 6 9 8 7 0 1 7 9 8 0 3 7 7  7 7 8 9 9 1 8 1 5 8 1 1 8 0 4 0 4 9 3 0 3 6 1 7 9 3 3 1 4 0 4 3 7 5 0 6  7 6 8 6 0 4 3 3 0 2 2 2 8 8 2 3 9 2 5 8 2 8 5 6 1 9 4 8 3 4 2 1 4 3 6 0  8 1 1 6 4 7 5 9 7 1 5 2 6 1 0 7 1 3 5 6 8 0 3 0 1 7 4 6 9 2 1 1 1 0 8 8  4 9 2 9 3 5 4 1 8 5 5 9 9 3 1 0 1 3 7 7] [6 1 8 7 4 8 8 0 1 0 3 7 5 1 9 2 7 8 6 6 1 2 5 8 5 6 2 3 0 4 3 3 6 0 3 1  7 2 0 2 8 5 0 5 9 1 8 6 7 2 7 1 7 9 2 6 3 7 4 3 7 0 8 4 9 4 8 1 1 4 2 0  1 9 9 7 3 2 2 2 0 4 0 9 8 0 2 8 3 9 7 8 7 4 7 3 0 8 2 8 7 5 9 4 7 6 9 2  3 6 4 6 0 6 8 4 6 7 6 8 8 6 9 5 7 7 8 0 9 3 3 5 7 1 5 8 6 3 9 4 9 5 0 6  2 2 3 6 2 3 7 3 7 6 3 3 8 6 1 3 7 3 3 1 9 3 4 0 1 7 3 9 9 0 0 0 4 7 7 4  5 7 6 8 3 3 6 0 6 2 1 1 6 9 0 2 7 4 6 2] [1 1 3 6 4 4 6 2 3 5 5 1 7 0 6 5 6 8 5 8 2 0 2 7 4 3 8 5 5 3 8 4 0 4 1 7  3 0 8 6 4 0 6 9 6 0 6 3 7 9 3 0 2 4 7 1 4 6 6 0 7 4 5 1 7 6 0 6 6 3 3 8  3 4 2 6 1 9 7 0 0 2 7 0 5 4 9 2 0 1 3 8 1 5 1 6 6 1 6 6 2 5 5 1 4 5 1 1  5 5 0 4 5 0 1 7 3 9 0 8 3 2 6 6 8 9 2 2 9 7 9 5 9 2 1 2 0 9 9 1 2 7 1 5  2 5 7 2 8 2 7 3 1 5 9 6 5 8 9 4 9 5 2 1 5 0 3 6 1 6 9 0 3 9 4 6 8 5 3 0  9 8 0 6 0 6 6 4 7 0 3 5 4 1 9 7 1 0 2 6] [7 3 3 5 9 0 7 5 8 0 6 7 5 6 3 8 2 5 7 5 7 0 5 0 2 6 1 2 1 8 1 1 0 6 0 4  7 6 5 8 6 6 1 1 2 8 3 6 4 8 6 6 2 5 9 3 0 2 5 1 2 7 2 7 1 3 6 9 9 2 7 0  8 1 0 8 5 7 0 0 1 3 4 7 1 0 7 7 1 6 4 4 7 5 1 6 9 3 6 9 4 7 6 8 3 8 8 1  8 6 0 4 8 5 6 8 5 1 9 8 0 7 4 3 7 9 2 9 7 0 6 2 2 7 4 4 5 4 0 4 1 3 5 5  6 3 2 4 0 3 2 6 9 3 3 4 2 7 5 8 6 4 7 8 3 1 9 5 0 0 3 4 4 2 2 0 2 0 4 8  1 7 3 2 4 5 5 3 5 9 2 7 7 0 0 2 0 4 1 9] [5 6 1 3 2 7 3 8 7 7 3 6 0 9 4 8 9 1 4 2 5 7 8 5 8 8 1 6 1 4 1 7 4 4 9 9  4 3 2 0 7 9 3 3 2 1 2 0 4 3 9 5 8 5 5 9 2 8 8 2 6 6 6 9 9 4 4 6 5 6 7 0  2 1 1 5 0 2 1 7 0 3 6 5 6 9 2 7 1 9 7 6 3 6 2 9 3 1 0 0 8 5 9 4 5 7 2 6  0 5 5 6 9 3 4 9 9 0 9 8 3 1 5 1 3 1 6 6 3 0 7 6 1 7 8 2 2 5 4 6 2 4 0 6  6 3 3 6 7 6 5 1 5 4 2 5 2 1 8 4 9 8 0 0 4 8 3 3 2 9 7 6 1 6 0 3 1 4 6 5  2 4 9 7 3 6 9 3 2 5 4 2 7 6 6 4 4 3 3 8] [8 3 1 2 1 5 9 7 4 7 4 0 3 6 7 7 4 7 9 6 5 4 9 8 2 7 1 8 6 6 2 6 2 7 1 1  7 6 7 6 5 0 1 8 1 6 9 1 4 2 9 9 5 0 6 4 8 5 9 8 3 8 7 1 8 4 0 1 8 4 3 9  8 4 7 8 0 3 9 9 8 9 0 5 0 4 6 2 1 6 5 4 9 8 2 9 2 2 6 8 3 3 9 8 4 1 0 7  4 9 4 7 7 7 1 2 4 5 9 8 1 0 2 8 3 8 3 9 4 8 3 8 6 6 5 0 5 6 8 1 9 8 4 8  0 5 7 0 6 9 7 8 3 9 5 0 0 8 4 5 7 9 7 4 0 1 3 9 0 9 2 4 1 4 4 8 2 9 2 3  1 5 7 4 2 2 8 6 0 6 1 1 2 6 4 6 8 5 9 5] [1 2 8 9 4 3 1 6 6 8 3 4 0 8 7 0 5 9 7 0 1 7 9 0 5 0 2 6 7 8 4 8 0 3 5 3  5 2 6 7 5 0 6 3 0 5 5 0 0 4 8 8 9 9 7 4 7 8 8 0 4 0 2 9 6 0 7 1 8 6 9 4  1 3 8 5 6 3 0 2 1 3 6 5 8 5 7 9 0 6 7 3 1 4 7 6 6 5 8 4 8 3 4 2 7 8 1 2  3 3 5 0 4 1 1 2 8 5 1 1 7 5 9 6 8 6 8 5 7 2 5 0 8 2 1 4 6 3 1 1 1 1 4 2  2 7 2 1 1 5 9 3 6 8 7 5 3 4 9 9 1 1 6 2 1 6 8 7 6 2 8 5 5 2 6 1 8 9 3 1  9 5 1 0 1 2 7 7 2 4 7 1 0 4 6 8 1 0 1 3] [2 4 7 1 4 6 9 8 9 3 9 7 6 8 1 9 8 6 2 1 6 3 0 0 1 4 4 9 0 9 2 2 2 2 5 0  2 3 9 2 7 0 9 0 7 9 6 5 0 0 6 9 6 7 4 9 7 1 0 5 6 8 8 8 1 5 5 9 9 6 6 9  6 9 8 4 0 0 5 6 1 7 9 9 9 4 2 5 6 2 0 8 9 4 2 1 4 3 5 4 8 6 4 5 1 0 8 7  1 6 2 7 0 1 6 0 8 2 2 6 2 8 6 3 5 9 4 4 6 8 2 2 2 0 8 9 2 3 9 3 8 0 5 6  5 6 0 5 3 1 3 2 4 7 5 0 5 6 7 9 8 8 2 5 8 7 6 3 3 8 7 4 3 5 9 5 7 0 5 7  2 0 5 0 7 1 6 1 7 0 3 9 3 9 2 0 6 9 7 5] [7 0 8 9 0 5 4 0 8 7 6 5 7 8 3 3 9 2 4 9 8 1 2 7 6 6 7 4 3 9 8 8 1 2 5 4  2 7 7 6 1 9 0 2 8 5 2 5 6 2 2 3 2 4 5 1 7 0 0 2 0 5 6 3 4 4 1 4 1 0 7 3  4 2 9 1 2 3 6 4 1 4 6 0 3 1 1 4 1 9 4 0 9 9 8 6 3 1 7 6 8 4 4 2 1 0 9 7  5 8 1 7 9 8 2 2 4 4 3 8 6 0 2 6 7 2 2 3 4 4 5 2 9 9 1 3 2 1 5 4 6 6 3 0  0 5 2 6 5 9 6 6 3 8 3 0 6 0 4 0 8 7 7 5 0 9 2 4 2 5 7 1 3 3 3 2 8 5 6 9  3 4 0 8 2 4 9 0 5 1 0 7 7 8 9 9 5 4 7 8] [5 9 0 1 2 7 3 3 7 1 3 2 9 0 4 2 9 8 6 5 9 9 6 7 9 9 1 2 4 3 6 0 3 6 0 6  7 6 3 8 0 0 0 0 2 7 4 1 0 9 1 0 3 8 1 6 5 0 0 5 6 1 7 8 4 0 2 3 1 6 0 3  4 3 3 2 0 9 5 5 6 8 3 6 8 0 5 3 3 8 7 1 7 0 5 1 4 3 0 3 5 2 2 4 6 3 2 5  8 0 7 2 4 2 4 3 7 0 7 5 7 5 5 5 6 8 5 7 8 8 8 1 0 7 6 5 1 3 3 4 2 5 4 4  5 2 6 9 6 9 1 3 4 6 8 6 4 4 0 1 2 9 4 1 3 7 0 0 4 3 4 4 3 4 6 4 2 9 9 7  2 0 4 6 6 4 5 3 0 1 0 3 1 7 4 0 7 3 4 4] [5 3 3 9 4 4 9 1 5 0 4 4 9 7 3 4 3 3 5 4 9 8 0 1 9 9 9 6 3 9 2 0 6 7 8 5  3 2 0 9 4 4 0 8 1 5 9 8 5 7 2 7 9 0 2 8 7 1 0 7 0 6 1 5 3 6 7 6 7 4 8 3  9 1 3 9 7 6 4 2 1 4 4 8 5 7 3 3 8 2 9 5 2 4 2 9 3 7 6 7 1 8 1 9 3 6 7 8  8 5 8 1 2 4 5 2 9 8 8 8 6 8 9 7 7 8 1 4 8 7 0 6 4 8 7 8 3 6 4 8 1 9 5 5  6 4 3 8 4 8 5 5 7 4 2 0 7 0 2 1 8 2 8 7 4 3 6 5 4 5 1 5 7 4 5 6 7 7 8 8  5 0 6 6 3 5 7 9 4 9 3 0 3 8 6 6 0 7 8 6] [2 8 2 3 9 2 4 1 7 8 5 5 7 6 8 5 9 5 0 1 5 7 9 8 9 6 6 9 5 0 6 7 5 9 2 3  5 3 6 2 5 2 5 9 4 1 6 1 3 5 2 7 4 2 7 8 2 5 4 4 1 5 3 6 3 2 0 0 2 9 2 5  8 4 5 6 7 4 3 9 6 7 1 6 5 1 2 6 2 1 2 1 1 1 4 5 9 3 3 4 6 4 1 0 1 6 7 8  1 8 5 7 4 3 3 9 8 7 3 6 1 7 9 7 5 5 7 7 7 3 5 5 8 5 8 2 4 6 9 9 8 6 1 1  6 0 6 3 0 8 6 6 7 7 9 3 6 1 2 1 4 2 3 4 7 6 4 2 3 3 9 9 9 8 7 9 8 1 9 1  5 2 9 5 3 6 5 0 6 5 4 0 7 6 7 6 6 7 9 5] [9 0 2 7 6 5 2 1 5 7 7 4 2 6 2 5 0 5 6 7 3 5 3 1 1 7 1 6 7 3 6 4 2 3 9 2  0 7 7 3 2 4 4 2 1 6 2 7 2 1 5 9 2 9 5 3 5 1 7 0 3 5 6 3 2 7 3 7 6 4 9 0  8 9 3 6 8 3 6 9 3 0 7 8 3 7 1 9 4 7 2 9 6 1 9 2 2 2 2 6 6 2 8 5 5 0 3 0  2 5 4 9 3 8 9 7 7 6 7 1 7 5 8 8 5 8 1 6 4 5 8 5 2 4 4 2 3 5 4 5 4 2 2 8  5 1 3 6 8 4 3 7 0 1 4 4 8 5 4 4 8 7 6 9 2 6 3 1 9 5 8 4 7 0 3 5 9 5 9 7  3 0 9 0 4 6 5 8 7 5 2 1 8 1 1 8 3 0 6 1] [0 3 9 5 1 8 8 0 8 7 9 1 0 5 0 4 1 3 4 9 0 1 0 5 9 7 0 1 1 2 4 7 7 3 7 6  1 5 7 3 5 1 8 6 6 3 9 8 4 3 6 6 9 0 5 9 7 8 4 4 1 6 2 4 7 3 6 6 0 6 0 0  6 1 6 1 3 8 0 8 7 2 6 3 6 0 1 1 2 7 9 7 7 7 5 0 3 6 7 9 4 5 3 0 3 6 9 3  3 9 7 0 6 4 8 1 0 8 5 6 6 4 4 1 1 8 0 4 4 3 0 3 1 3 3 6 4 8 1 3 6 6 8 3  6 7 9 5 1 8 2 1 1 1 3 6 2 7 0 4 7 8 2 5 4 1 5 7 3 8 9 5 4 5 2 3 4 6 8 6  3 8 7 5 9 2 0 2 6 3 6 0 7 1 4 6 6 5 6 3] [0 4 0 3 5 8 5 7 0 9 1 5 2 5 1 8 3 7 0 9 7 0 1 6 8 6 0 4 4 5 1 5 3 2 4 5  5 4 6 4 4 0 9 8 6 2 7 3 0 4 5 8 4 8 6 6 1 5 9 1 9 2 6 5 9 9 6 7 5 8 8 0  4 5 7 7 0 2 8 1 7 1 7 8 9 2 7 5 5 0 8 1 2 6 8 5 5 3 3 3 8 5 4 7 9 2 9 4  6 7 3 5 2 7 5 4 6 3 6 8 2 7 2 9 3 4 3 7 8 9 0 5 1 6 1 4 9 6 3 2 8 0 2 3  1 1 1 4 2 1 7 9 9 7 3 9 0 9 6 7 9 5 9 8 8 2 9 9 7 8 9 7 4 6 9 5 9 2 5 1  8 0 5 5 3 5 8 6 8 1 0 0 0 0 7 8 6 0 3 9] [8 0 7 7 6 6 8 6 5 3 0 7 2 9 6 4 2 0 1 0 9 9 1 2 5 1 9 8 8 0 5 0 9 6 8 3  4 2 7 6 2 3 0 7 3 7 7 3 9 3 4 4 9 6 9 8 7 5 6 3 7 3 5 8 9 8 1 3 3 8 5 5  4 8 7 4 4 7 7 6 1 3 0 4 5 8 3 6 5 0 7 3 6 9 1 8 4 8 0 4 4 4 9 1 7 0 5 5  8 5 4 9 8 5 6 8 2 3 5 4 4 8 2 2 0 8 4 4 4 2 5 2 9 1 1 0 4 9 6 6 1 0 2 7  4 8 2 0 7 5 0 1 1 7 1 3 2 9 8 8 0 0 7 3 0 5 7 7 1 8 5 2 5 5 5 9 9 0 6 9  7 3 3 1 4 7 7 9 4 5 9 7 7 4 4 9 5 6 2 2] [3 7 1 4 3 2 2 2 8 3 0 8 4 3 9 0 2 7 2 3 8 5 0 3 3 2 6 9 0 3 7 4 6 9 5 8  8 2 6 6 9 7 4 1 0 0 9 6 6 1 2 9 7 6 7 3 8 4 8 2 8 4 9 9 8 1 1 7 8 4 7 5  3 3 7 9 5 9 9 4 0 2 3 2 8 9 6 0 6 5 3 1 4 4 5 0 9 2 3 8 9 4 7 4 4 5 0 0  5 5 3 2 7 3 3 2 3 3 8 9 9 7 4 5 4 8 7 6 4 8 1 3 4 5 4 5 5 5 9 4 4 8 8 2  2 8 7 5 4 4 9 9 4 9 8 6 2 8 9 1 9 6 3 4 9 6 3 4 5 9 9 2 8 9 1 3 8 0 9 6  6 4 6 6 9 5 3 6 4 2 9 6 9 0 3 2 9 9 9 4] [8 5 4 4 1 2 3 5 7 9 7 5 9 9 0 8 8 5 1 4 0 7 9 7 2 5 6 0 8 9 6 3 5 2 8 0  0 3 5 2 9 7 2 5 7 8 7 4 0 1 9 2 7 3 9 6 2 3 4 7 1 7 5 8 8 7 8 3 7 3 7 6  7 2 2 4 8 9 6 3 9 1 6 3 4 5 5 2 7 1 0 7 6 1 7 6 9 6 1 3 3 7 1 2 6 8 3 4  2 1 2 6 2 2 3 1 5 6 8 6 7 9 9 4 0 4 4 3 3 0 0 4 0 9 8 5 0 4 4 0 9 7 5 4  3 0 9 1 7 0 0 6 5 5 8 8 7 0 6 2 6 1 4 7 6 6 9 9 4 6 2 8 4 9 3 1 8 3 2 8  6 3 7 4 6 9 2 9 3 1 5 4 7 1 7 9 4 3 6 1] [9 2 1 6 4 0 6 9 9 9 1 9 9 6 2 9 5 0 8 2 6 7 3 8 3 2 0 9 1 5 7 3 8 8 6 9  4 6 3 4 4 8 8 2 2 2 3 4 3 3 2 4 6 9 1 6 4 5 5 8 5 4 7 4 9 0 1 6 0 5 7 3  8 5 6 1 8 7 9 6 0 3 5 0 8 0 4 0 0 0 7 3 7 1 6 4 7 0 9 2 4 2 1 4 6 5 8 0  7 7 7 8 0 5 1 1 3 6 4 1 3 1 1 2 2 5 1 5 3 5 2 2 5 2 2 6 1 2 3 6 2 9 9 3  4 8 2 7 6 4 9 8 2 6 0 2 3 9 2 5 8 6 2 9 2 0 6 5 2 9 1 6 0 0 9 0 3 9 5 7  3 1 7 5 4 4 4 6 7 8 9 6 0 5 9 3 8 9 1 1] [3 6 9 4 0 6 1 9 0 9 3 5 9 5 8 4 3 7 2 3 7 5 5 9 3 7 0 1 7 3 1 2 7 0 9 4  2 6 1 6 4 2 1 1 4 4 8 3 6 7 2 2 5 6 3 3 1 3 7 2 1 8 6 9 5 3 2 9 0 2 3 1  9 8 2 9 7 4 0 6 9 5 1 0 3 3 9 3 6 5 7 1 9 2 7 1 7 1 3 6 4 2 8 5 5 7 4 0  6 1 6 7 0 2 5 9 6 0 0 0 5 4 6 6 4 2 0 1 7 3 6 5 4 8 8 8 1 6 1 8 0 8 1 6  7 3 8 8 1 1 1 1 0 6 6 3 2 0 9 2 0 4 4 7 5 4 4 1 2 5 9 3 8 3 8 5 7 5 0 0  6 2 4 6 0 0 3 4 8 2 7 2 5 1 9 7 1 9 0 2] [3 7 7 3 9 4 0 4 9 9 6 0 6 4 5 4 5 5 7 9 9 0 9 7 4 8 3 4 4 3 4 6 3 8 1 3  6 6 9 5 0 7 5 2 0 6 3 1 8 9 5 6 2 9 9 9 8 4 0 9 2 9 8 7 5 7 1 4 8 4 1 5  8 0 0 2 5 6 1 4 1 2 2 2 0 9 4 5 4 9 2 6 1 6 0 5 6 1 2 8 8 0 6 8 5 0 1 8  0 7 7 6 0 2 2 9 5 6 8 5 0 2 2 7 5 5 1 4 6 2 4 6 5 2 6 9 2 4 2 0 3 6 2 8  6 4 5 3 6 6 4 2 4 3 8 2 4 2 8 9 1 8 8 6 8 2 8 4 3 9 8 1 4 7 1 9 5 7 5 7  3 0 3 4 8 4 4 5 0 0 6 5 0 2 8 7 1 0 5 2] [3 0 9 8 3 4 6 7 1 8 2 1 3 7 8 0 1 4 7 8 1 0 9 0 4 6 8 5 5 4 1 8 4 2 9 9  7 7 1 5 4 3 8 0 9 5 4 0 2 4 0 1 5 3 0 1 9 7 0 9 7 8 5 8 3 6 7 1 3 4 9 6  6 9 8 6 5 3 7 5 3 8 0 6 2 6 9 1 2 7 1 2 1 4 6 5 4 7 1 6 3 0 5 7 0 7 0 8  5 5 5 3 4 9 6 1 7 7 9 5 4 7 3 2 8 1 2 4 9 0 0 7 5 7 6 7 8 2 8 5 0 8 6 9  6 6 2 4 5 4 3 7 6 0 4 0 6 8 3 3 1 7 8 7 9 6 3 3 3 5 9 1 4 2 5 7 8 8 5 9  4 0 6 4 4 5 9 9 0 7 4 1 1 3 7 8 4 0 1 6] [0 6 2 8 8 3 7 3 0 8 3 9 9 9 2 2 2 6 2 6 7 6 2 9 9 4 8 5 3 2 3 6 2 6 9 6  6 0 0 4 0 7 8 3 3 9 7 8 9 2 4 7 6 9 8 2 2 0 5 5 3 9 2 7 5 4 5 0 0 9 6 3  4 0 7 3 0 9 1 7 2 0 8 0 4 3 0 4 3 3 7 3 3 9 6 3 8 4 4 5 3 1 3 6 8 3 9 5  6 3 6 4 3 2 8 5 5 3 9 9 5 0 8 6 0 9 9 8 6 8 7 8 0 5 8 2 5 9 1 6 5 8 1 7  0 9 6 5 5 1 0 1 2 6 1 8 6 2 2 9 3 3 7 6 1 6 8 9 4 9 8 3 1 4 0 4 5 1 0 5  8 3 2 8 6 8 9 1 7 7 6 6 3 0 9 6 3 4 1 4] [4 6 5 9 5 9 1 2 4 9 8 5 7 5 5 0 7 1 8 7 0 1 5 9 8 0 5 7 1 5 8 0 1 8 9 5  9 6 6 7 8 2 4 8 9 0 5 5 5 1 8 7 5 5 0 7 5 8 1 1 5 5 4 8 2 2 0 6 3 9 8 2  4 0 4 3 7 1 5 2 7 7 0 7 2 7 7 7 1 1 8 6 6 5 9 2 0 9 8 8 4 4 8 6 9 1 3 1  4 9 5 7 1 2 4 2 8 6 1 4 4 6 6 2 3 0 9 4 4 5 0 6 5 8 6 7 9 7 6 8 6 4 7 4  9 7 2 0 8 7 7 5 0 3 1 2 5 5 6 9 4 6 4 1 6 4 9 1 5 3 6 8 6 2 6 8 9 7 8 0  9 0 8 7 2 8 0 6 5 8 9 6 5 6 9 1 5 5 0 1] [5 7 9 2 2 7 2 4 6 8 5 6 8 2 8 6 2 7 4 2 0 3 4 8 0 7 3 2 4 9 0 1 9 1 4 0  7 8 9 5 8 3 3 7 9 6 5 6 2 0 5 1 1 1 0 6 7 3 6 9 2 5 7 6 4 7 1 4 6 0 6 7  8 7 5 5 1 5 3 3 0 0 9 7 3 9 8 8 7 4 5 9 8 9 1 9 6 7 9 1 0 5 5 9 3 1 8 5  4 9 1 2 6 6 4 7 9 7 8 3 9 5 2 3 6 7 6 0 6 3 7 6 6 7 0 7 7 5 9 1 7 5 3 3  3 4 2 3 1 3 5 6 0 4 2 3 1 2 7 5 2 8 3 6 3 5 0 6 6 9 6 1 7 2 4 6 6 9 3 6  4 0 4 5 4 3 0 4 4 4 3 4 2 7 2 6 5 0 8 7] [6 0 9 2 8 4 2 6 0 3 4 7 8 4 1 9 6 1 2 5 1 2 8 1 7 0 1 1 2 9 4 7 5 4 0 3  5 3 4 5 7 0 4 2 0 9 0 5 8 1 1 2 2 5 2 9 1 6 2 8 8 1 4 8 0 3 6 4 3 2 3 4  2 1 1 8 3 1 5 7 4 2 1 1 3 9 7 4 4 8 9 6 7 4 2 2 3 4 1 0 8 9 3 2 0 8 2 2  8 8 1 0 6 3 3 3 1 1 3 6 6 9 3 7 2 2 0 0 0 1 6 3 4 9 4 8 7 7 0 9 7 0 7 8  7 3 4 2 8 0 1 6 0 1 7 9 5 5 4 7 6 7 2 3 0 4 4 4 8 9 9 0 8 3 5 8 4 9 3 1  1 5 5 2 5 9 3 0 7 6 4 9 1 0 2 2 3 3 0 0] [0 0 9 9 8 3 5 3 7 4 8 1 9 5 5 7 7 8 5 1 3 9 0 7 9 4 6 3 2 6 6 0 9 7 0 5  6 9 7 7 0 8 9 5 4 6 2 4 1 3 8 6 5 9 7 5 3 7 5 9 6 3 1 7 1 5 4 4 8 1 6 0  2 6 2 6 7 8 1 9 4 0 0 3 0 4 0 9 8 0 9 0 2 7 6 8 3 0 8 8 4 6 9 5 2 8 8 9  5 0 1 0 5 8 0 9 3 0 4 2 2 9 5 5 0 9 9 4 6 4 8 2 1 2 6 5 8 6 7 5 1 4 3 8  9 0 3 0 5 8 5 9 1 6 0 7 4 3 8 6 2 5 7 0 2 2 5 1 2 9 7 8 8 9 5 8 1 4 0 4  2 7 8 2 8 4 1 3 4 4 2 2 9 6 2 0 5 3 2 4] [1 0 5 4 6 9 9 0 1 1 2 3 8 9 5 3 4 6 6 0 5 0 0 9 5 8 2 7 7 5 9 2 2 3 5 9  7 4 9 3 2 8 8 7 9 6 7 2 4 0 8 0 5 7 6 8 5 6 2 5 2 9 2 7 0 0 6 6 1 5 5 3  0 2 1 8 5 1 1 7 9 2 6 5 0 1 6 5 8 6 9 6 2 9 6 0 6 9 1 2 5 2 2 1 0 2 4 3  0 0 0 9 5 6 6 9 4 0 7 2 7 5 2 8 8 9 2 8 1 1 7 0 4 3 7 6 1 9 0 8 5 0 7 6  3 1 1 8 4 4 4 3 2 3 2 6 7 8 1 4 2 8 0 2 9 2 4 4 8 6 4 8 7 5 5 4 0 3 1 5  9 3 3 0 7 4 0 2 3 8 7 0 9 9 7 1 0 2 2 0] [5 6 3 0 3 7 7 4 6 7 0 2 9 1 4 1 8 1 8 1 7 1 9 4 7 6 5 4 5 1 5 0 6 7 4 4  9 4 1 6 8 9 4 0 9 2 7 4 2 8 0 1 1 7 4 8 1 5 4 5 8 0 2 2 4 3 5 6 7 1 0 8  6 1 1 6 0 0 9 3 5 6 6 3 0 3 5 9 9 6 0 1 9 2 3 6 6 2 2 2 4 1 5 2 1 2 6 1  6 2 3 0 6 2 2 9 5 3 8 2 1 1 4 3 2 8 8 2 4 7 0 9 4 7 6 6 5 3 0 5 1 2 4 0  5 8 2 0 1 7 3 2 6 2 8 3 2 7 0 8 5 1 7 6 6 0 0 0 7 5 2 0 2 6 9 3 2 9 1 2  0 7 8 6 1 2 0 4 9 6 6 1 5 9 5 0 2 0 1 8] [7 8 5 9 4 4 4 0 6 5 6 6 1 3 9 7 4 5 4 3 5 3 6 6 0 4 5 8 1 7 8 3 9 9 3 6  2 6 8 1 4 7 4 2 5 5 4 8 1 4 7 8 2 2 6 9 5 8 3 4 3 4 6 9 1 3 4 3 5 0 2 5  5 7 0 3 7 7 8 9 3 2 0 4 1 0 7 1 4 9 4 0 5 5 0 2 1 5 2 4 5 4 9 7 3 9 4 7  4 8 8 0 4 6 4 1 2 5 4 8 8 0 2 9 1 1 7 7 0 8 7 8 6 2 4 9 0 8 1 9 3 3 2 3  9 4 6 4 9 1 0 6 1 3 3 4 7 0 2 5 1 9 8 7 7 4 8 2 3 4 4 7 1 0 5 6 0 0 5 6  1 9 2 4 5 9 4 1 2 9 6 6 6 2 1 8 5 7 8 6] [8 0 2 7 8 7 9 9 7 2 5 2 8 8 2 6 6 7 9 1 5 6 9 1 6 3 4 7 4 3 5 8 5 0 4 7  4 8 4 3 4 9 8 5 7 3 4 3 8 7 0 8 9 7 8 3 2 5 3 8 9 9 0 5 0 0 9 8 1 4 5 0  2 6 1 0 0 8 6 8 4 7 4 3 0 1 8 4 2 7 6 3 7 8 5 3 7 6 6 9 3 0 6 5 5 8 1 2  4 5 2 4 4 5 7 6 6 8 4 5 3 5 5 1 2 0 0 8 1 4 1 5 4 0 2 8 3 8 8 7 3 1 9 4  9 7 7 3 6 7 1 1 9 5 2 0 0 0 7 3 8 1 0 4 5 9 4 6 8 8 1 8 9 0 5 1 5 7 1 9  4 1 3 1 5 6 8 3 2 0 2 3 2 1 0 6 0 4 9 5] [1 8 1 3 0 4 9 9 9 6 9 1 6 2 6 2 5 3 0 4 9 1 7 9 7 9 4 0 2 8 5 7 9 4 5 5  2 6 8 7 8 5 0 4 9 6 4 0 8 4 1 1 3 1 0 1 8 0 0 7 3 4 2 7 1 1 9 6 1 3 0 9  0 8 7 9 0 0 5 7 6 4 4 0 1 9 0 3 7 7 1 3 7 6 4 5 0 3 4 7 6 7 5 8 7 1 2 0  9 9 5 2 2 0 4 2 5 6 0 5 3 5 8 0 1 4 8 1 2 7 1 4 5 1 0 3 5 3 7 2 8 8 9 1  3 1 8 6 9 8 8 8 2 3 1 5 7 2 2 1 3 1 6 6 5 7 4 7 8 4 3 0 1 3 1 6 4 3 4 9  7 7 6 0 7 6 8 9 1 8 1 9 4 1 2 9 4 3 5 2] [3 5 9 8 7 5 1 3 3 8 6 1 4 3 8 7 5 7 2 2 7 2 2 8 3 6 0 9 2 4 8 9 5 1 8 1  9 3 7 6 7 5 8 9 3 6 8 4 2 8 5 2 5 4 2 5 6 9 6 1 8 6 2 3 7 6 0 5 0 9 4 5  1 4 8 8 7 6 2 0 1 8 5 7 8 9 0 0 6 3 8 6 0 1 0 7 3 6 5 0 2 6 6 3 6 8 9 3  1 2 4 6 5 3 1 9 6 8 4 0 4 8 7 2 4 2 9 0 9 1 3 6 3 1 0 0 4 7 4 2 3 1 3 8  4 2 6 2 7 2 2 9 4 9 8 2 1 6 2 4 0 4 0 6 8 4 6 6 6 5 9 6 9 9 7 2 9 4 5 8  7 1 5 2 3 1 9 1 6 2 5 0 5 1 4 7 0 9 9 0] [4 3 6 4 8 9 4 0 3 5 9 5 9 7 3 8 5 2 8 7 0 7 8 6 1 6 8 2 5 1 2 7 9 3 7 3  3 5 2 1 6 7 8 0 2 2 4 5 4 1 1 2 8 8 1 1 0 5 2 2 7 3 7 2 0 8 6 6 3 3 9 6  0 2 5 8 8 8 0 1 4 1 5 6 8 3 2 9 5 0 4 8 8 9 7 8 4 1 2 9 2 9 4 0 1 8 3 0  3 8 1 3 6 2 0 6 2 2 2 4 8 1 1 6 9 9 7 5 4 5 7 2 8 6 1 7 7 8 1 2 5 2 9 2  8 8 4 8 0 2 3 3 7 2 9 0 6 4 5 2 6 5 1 8 1 3 5 8 0 0 2 9 3 2 8 5 7 6 6 0  5 7 1 4 6 9 1 6 5 2 9 2 4 3 4 0 5 0 6 0] [8 8 5 5 6 2 3 3 2 3 3 3 8 9 9 2 1 2 3 1 9 4 6 4 0 2 4 0 5 8 7 2 7 3 0 0  5 2 0 6 3 2 0 1 2 4 3 6 1 9 9 4 5 4 6 1 7 9 6 5 3 5 9 8 5 0 3 5 8 7 6 9  9 3 3 8 9 6 6 0 5 8 5 5 6 6 8 7 1 3 7 8 2 8 4 5 1 2 9 2 9 3 7 3 2 4 8 6  9 1 1 3 4 2 8 8 9 7 9 3 0 4 2 4 6 0 8 1 5 2 2 0 0 2 9 0 3 3 2 1 0 7 6 7  5 2 5 4 3 4 3 4 5 7 7 1 4 3 7 5 5 1 3 4 2 9 0 3 0 1 7 7 0 8 1 7 8 2 9 5  0 2 2 3 3 8 8 7 0 1 0 0 3 0 9 5 9 0 9 2] [4 4 4 6 0 8 4 0 2 4 1 5 3 0 7 5 2 8 0 4 6 2 9 3 0 0 2 0 1 5 0 8 9 5 8 4  6 6 8 1 6 1 6 9 5 2 9 0 8 0 7 3 2 6 8 2 1 8 2 7 0 8 3 0 2 6 4 7 8 9 3 3  7 2 7 3 3 1 0 5 8 4 3 1 4 0 3 1 7 3 7 2 4 9 8 2 5 2 0 1 5 6 4 2 2 8 0 8  0 0 1 2 3 2 2 3 7 8 8 3 5 3 8 1 5 2 8 7 7 3 1 8 8 2 1 9 8 6 3 4 8 9 8 2  0 3 6 5 6 4 4 7 4 8 7 7 9 0 2 1 4 9 4 9 0 5 4 5 0 7 5 3 2 8 1 0 9 8 1 3  6 2 2 5 5 7 3 8 6 4 6 4 2 5 4 1 2 8 4 5] [4 3 3 2 3 3 0 9 8 4 7 7 5 0 8 9 7 9 2 3 7 0 8 4 2 4 0 6 1 1 4 4 9 5 4 1  0 2 2 4 0 1 5 3 8 6 5 1 3 5 5 0 6 7 7 3 0 4 0 9 6 7 2 6 6 3 4 2 7 2 9 5  7 3 9 8 9 0 5 2 3 7 3 2 3 5 3 6 7 9 5 8 6 1 4 4 5 1 8 9 6 6 3 1 5 1 8 1  7 1 3 7 9 2 8 0 8 9 9 2 9 1 5 8 4 6 9 1 8 4 9 3 6 7 7 7 8 0 1 9 1 7 6 7  1 4 6 3 8 0 3 8 1 8 5 0 5 2 7 2 3 7 0 8 7 5 9 6 4 3 0 8 9 1 6 4 4 1 7 8  6 4 4 5 4 2 1 6 1 9 1 0 1 4 2 3 4 5 1 5] [3 2 5 3 5 1 6 5 8 7 4 6 1 5 2 5 7 0 6 0 8 2 1 0 3 9 2 9 7 1 5 6 0 1 5 6  9 6 6 1 9 8 4 3 8 1 7 0 0 1 4 1 1 1 3 8 0 3 7 5 5 9 4 2 0 6 2 1 7 6 4 6  3 2 4 9 3 9 3 5 1 0 9 6 4 5 0 6 5 8 0 7 7 1 3 1 3 7 6 2 9 6 6 1 9 4 8 3  6 3 3 2 0 8 2 0 8 2 5 4 5 5 8 2 9 8 7 3 4 5 5 6 9 1 9 4 8 5 2 8 3 8 8 0  6 1 0 9 9 5 2 4 4 0 1 6 7 8 5 4 8 7 3 9 0 6 2 8 8 6 4 5 8 7 8 1 9 7 3 8  5 9 2 3 6 8 6 3 6 9 3 8 3 8 1 6 3 4 7 4] [2 0 8 1 7 0 7 3 6 0 9 0 5 1 0 6 0 9 2 8 2 2 1 5 3 4 6 3 7 7 5 8 0 8 7 3  2 1 3 9 0 9 1 5 7 2 7 6 0 2 7 3 5 0 4 7 3 4 6 6 6 6 3 4 4 0 3 5 0 8 4 7  9 2 7 7 7 9 4 5 3 3 8 2 1 4 0 6 4 8 4 5 8 0 2 4 7 5 5 9 3 2 4 0 1 0 5 2  6 9 3 8 7 1 8 9 2 2 8 5 2 7 8 2 0 7 3 3 4 3 6 5 6 4 3 9 7 3 1 8 6 1 7 0  6 7 6 6 8 2 3 7 8 7 8 2 8 8 1 1 6 0 1 1 8 3 4 6 1 1 6 8 2 7 6 5 8 5 0 1  5 7 9 8 9 9 8 5 3 8 5 3 9 2 5 1 4 3 9 6] [6 5 7 0 9 9 0 2 5 3 4 5 4 2 7 2 1 1 2 8 3 1 6 1 9 7 0 2 4 7 0 4 3 7 4 6  8 0 5 8 0 6 9 9 7 8 2 4 8 0 3 4 1 3 2 9 4 4 1 2 8 2 9 9 9 9 0 7 6 2 1 0  7 9 9 5 1 2 4 7 6 4 7 2 2 0 3 3 9 0 2 3 2 7 6 6 2 2 5 2 9 3 0 7 2 8 3 1  2 3 7 3 1 9 4 1 3 8 4 6 4 1 7 9 7 9 0 2 6 8 0 2 3 1 8 9 6 8 2 2 4 6 8 3  3 5 0 9 4 0 6 5 8 0 7 8 7 0 3 1 7 9 5 6 7 0 6 5 6 7 2 5 8 7 7 3 0 5 6 3  4 6 1 8 7 5 4 9 1 0 5 9 0 8 4 2 2 0 9 7] [2 0 2 9 6 3 0 4 0 0 7 1 9 6 3 5 8 7 8 8 7 5 3 6 2 1 5 1 0 6 5 9 8 7 8 2  8 7 5 4 6 3 9 8 8 6 9 3 6 8 4 2 5 7 2 3 5 0 0 1 6 8 8 7 1 8 7 7 8 4 5 3  1 9 8 5 0 5 2 2 7 3 9 6 5 9 5 5 2 3 7 7 2 5 8 2 9 5 4 3 8 7 7 8 5 8 8 7  6 1 3 4 2 6 9 4 4 4 5 4 9 8 7 8 3 7 5 2 1 5 6 9 3 6 1 5 9 2 0 8 0 0 5 8  5 4 1 4 1 9 9 2 4 8 8 5 9 2 5 4 5 1 3 0 9 8 5 2 6 4 7 6 9 5 3 3 4 1 9 8  2 1 1 6 2 6 2 9 3 8 8 0 1 7 5 0 2 3 9 3] [4 9 1 7 4 1 0 6 1 6 2 7 6 5 9 2 9 5 6 3 7 5 3 4 2 9 3 0 0 6 4 1 8 0 0 2  9 4 4 6 1 5 2 6 6 3 8 5 6 8 3 8 2 3 7 8 3 0 3 5 4 6 3 1 6 0 7 8 3 7 8 8  5 3 4 7 6 6 2 7 5 5 8 4 8 6 7 7 6 9 6 8 5 1 6 4 6 3 3 8 0 8 7 8 6 6 2 8  6 1 2 7 3 1 8 0 9 5 3 8 6 5 7 7 8 4 5 5 0 1 5 1 8 3 4 5 1 8 3 7 3 2 2 8  6 7 2 1 2 7 9 4 1 4 9 7 9 3 1 0 7 6 7 6 8 9 5 9 2 1 6 2 9 6 6 2 2 1 7 1  5 9 1 7 0 1 7 9 1 1 3 7 0 1 6 4 6 8 0 1] [8 7 6 2 0 4 6 9 1 4 4 8 4 4 8 4 4 9 6 1 5 1 4 0 4 0 4 3 5 3 6 1 1 7 3 8  0 1 2 0 1 8 1 7 5 7 5 4 2 8 8 4 1 1 7 6 8 9 9 1 4 9 8 2 3 6 4 8 2 5 0 6  5 4 1 7 9 9 7 0 8 2 9 7 8 3 2 8 3 3 7 4 4 3 8 1 8 3 2 2 2 3 3 5 8 3 1 4  4 4 1 7 2 8 8 5 0 2 8 2 4 2 8 3 4 5 4 8 7 1 4 2 4 8 6 8 3 5 8 4 2 6 0 4  1 5 4 0 3 3 7 8 4 8 5 7 7 1 0 5 8 8 3 5 0 4 9 7 8 0 8 8 3 6 7 6 0 8 2 1  5 6 0 4 1 6 3 2 6 1 0 1 1 2 2 3 3 6 5 9] [5 8 7 2 1 6 0 2 9 8 5 2 1 0 2 0 5 2 5 7 4 2 3 6 5 7 5 8 0 1 0 6 9 2 3 1  8 6 8 7 9 3 3 7 9 5 3 9 9 6 2 7 7 3 1 3 7 6 3 7 1 1 6 1 2 0 3 2 5 4 1 1  7 8 0 4 6 9 9 5 2 0 7 8 8 4 8 9 7 9 6 1 9 2 0 6 6 5 6 7 4 2 5 2 2 2 5 7  0 4 9 7 0 6 4 0 3 8 0 2 1 0 8 2 0 1 5 7 4 5 2 4 3 1 9 5 6 0 7 9 0 2 7 5  6 5 6 2 6 6 4 6 6 8 4 4 4 7 5 5 1 7 5 3 9 3 8 6 5 7 4 1 4 6 2 3 0 5 2 5  9 8 3 8 1 6 7 8 8 3 9 6 4 1 7 6 5 9 5 5] [5 8 7 4 0 7 2 4 0 1 5 9 0 0 7 3 4 4 2 1 4 5 1 1 4 6 1 9 7 3 6 2 0 6 8 3  7 2 2 1 7 7 2 2 5 4 4 0 5 0 1 7 6 3 4 5 6 9 6 3 0 9 6 5 5 1 7 9 6 9 9 6  1 5 9 2 1 5 6 9 6 1 5 1 4 7 4 2 4 8 5 4 1 6 9 6 1 3 4 6 9 1 4 5 9 2 1 5  8 2 2 3 8 1 8 1 6 3 8 7 5 5 4 6 0 3 8 4 8 2 2 5 5 9 0 2 0 1 7 3 6 9 5 7  8 3 0 8 1 1 8 1 4 2 0 6 4 5 6 1 5 4 9 1 3 4 2 0 4 7 3 3 1 8 3 7 6 1 9 1  8 8 1 8 1 3 3 0 6 8 4 3 3 5 2 3 2 1 0 8] [3 7 7 3 2 2 7 0 3 3 2 0 2 7 3 8 6 4 2 6 7 7 3 3 9 3 5 1 3 3 3 0 4 8 5 9  0 6 8 9 3 0 6 2 2 1 6 5 3 0 3 0 7 6 7 9 5 9 1 4 4 3 2 2 1 8 4 9 3 0 8 1  0 9 7 0 3 2 9 3 8 8 1 9 4 9 1 7 5 5 9 3 7 6 2 8 6 7 9 0 4 4 9 8 0 9 8 8  0 5 6 8 5 1 4 0 6 5 8 9 0 6 2 4 0 1 0 4 4 8 9 4 3 9 4 8 0 0 0 3 3 1 1 3  7 9 9 3 0 5 2 9 7 4 8 3 8 8 1 8 1 0 1 2 5 4 7 2 4 9 5 7 1 4 2 3 8 5 7 1  6 7 2 0 7 0 7 3 9 7 8 1 0 5 6 1 0 4 0 9] [9 1 8 5 6 6 8 5 9 9 4 5 4 1 7 4 0 6 4 8 6 5 2 3 6 7 5 8 2 4 2 8 8 6 8 7  1 9 7 4 5 9 7 4 0 9 9 8 6 8 8 2 5 0 6 1 4 2 9 9 3 5 9 0 0 1 6 5 8 8 5 7  2 2 6 7 8 3 9 0 3 9 0 8 6 7 1 1 3 1 4 9 3 2 4 7 8 6 3 9 5 9 9 0 4 0 2 5  9 1 3 2 3 6 0 4 7 9 1 0 1 4 6 1 0 5 3 5 6 8 9 2 9 6 3 8 5 6 7 4 0 4 6 3  5 3 2 4 2 8 5 6 9 6 8 7 4 1 2 7 6 2 0 7 2 9 2 6 2 2 4 0 9 5 2 4 3 4 9 3  3 5 2 5 4 5 0 5 5 1 3 7 5 4 1 1 9 9 8 8] [7 2 3 0 7 4 7 2 8 3 0 0 1 8 9 3 1 5 1 8 1 0 4 7 2 5 1 6 4 8 1 3 9 4 3 5  0 4 9 5 0 9 7 3 4 9 7 4 2 2 2 4 1 3 6 3 7 0 8 2 7 1 2 4 4 2 2 1 3 6 2 1  8 0 3 0 9 8 2 6 0 0 4 6 6 9 9 5 4 6 0 5 0 5 2 6 6 4 3 4 2 7 3 7 9 5 2 9  8 4 6 1 0 5 2 1 2 0 6 6 8 5 8 8 2 4 3 7 7 7 6 7 5 8 4 1 3 0 2 1 4 0 9 3  2 0 1 0 0 1 9 8 2 0 7 0 7 9 6 3 2 8 9 6 1 0 9 0 6 0 4 8 6 1 0 1 8 1 9 7  8 3 4 1 5 1 3 5 1 6 5 8 6 0 0 6 0 6 4 8]]'))\"}]"
     },
     "execution_count": 213,
     "metadata": {},
     "output_type": "execute_result"
    }
   ],
   "source": [
    "messages[3]"
   ],
   "metadata": {
    "collapsed": false
   }
  },
  {
   "cell_type": "code",
   "execution_count": 291,
   "outputs": [
    {
     "data": {
      "text/plain": "[{'Successful': [{'Id': '21',\n    'MessageId': 'e8f61493-df44-433d-bf28-1cec1d21f98c',\n    'MD5OfMessageBody': '9883dff93b795e3097e330f5365f9af5'}],\n  'ResponseMetadata': {'RequestId': '190d5549-2e9b-535c-9b2e-095bc3209967',\n   'HTTPStatusCode': 200,\n   'HTTPHeaders': {'x-amzn-requestid': '190d5549-2e9b-535c-9b2e-095bc3209967',\n    'date': 'Tue, 13 Dec 2022 21:15:39 GMT',\n    'content-type': 'text/xml',\n    'content-length': '468'},\n   'RetryAttempts': 0}},\n {'Successful': [{'Id': '22',\n    'MessageId': '31afcc05-bc87-4d66-aeaf-317360ff6177',\n    'MD5OfMessageBody': '7186bcbc8f78c14eedcc3cc25345c2d0'}],\n  'ResponseMetadata': {'RequestId': '460b9aac-41e1-51b5-82bc-c6beac5aeb8e',\n   'HTTPStatusCode': 200,\n   'HTTPHeaders': {'x-amzn-requestid': '460b9aac-41e1-51b5-82bc-c6beac5aeb8e',\n    'date': 'Tue, 13 Dec 2022 21:15:39 GMT',\n    'content-type': 'text/xml',\n    'content-length': '468'},\n   'RetryAttempts': 0}},\n {'Successful': [{'Id': '23',\n    'MessageId': 'db3af912-8066-4925-8499-0b9a2dcfd58c',\n    'MD5OfMessageBody': '65bc6ab54f07cb294a4ed763ff06c25f'}],\n  'ResponseMetadata': {'RequestId': '214e1f32-f7f6-547b-a36c-43201a4dde40',\n   'HTTPStatusCode': 200,\n   'HTTPHeaders': {'x-amzn-requestid': '214e1f32-f7f6-547b-a36c-43201a4dde40',\n    'date': 'Tue, 13 Dec 2022 21:15:39 GMT',\n    'content-type': 'text/xml',\n    'content-length': '468'},\n   'RetryAttempts': 0}},\n {'Successful': [{'Id': '24',\n    'MessageId': '091a69d6-2395-4a04-b2f7-25fb6766c94c',\n    'MD5OfMessageBody': '6b395b7fda84ed2422fa2c59182e366e'}],\n  'ResponseMetadata': {'RequestId': 'd169d689-9b5f-5e6f-8e79-8a9b76e33454',\n   'HTTPStatusCode': 200,\n   'HTTPHeaders': {'x-amzn-requestid': 'd169d689-9b5f-5e6f-8e79-8a9b76e33454',\n    'date': 'Tue, 13 Dec 2022 21:15:40 GMT',\n    'content-type': 'text/xml',\n    'content-length': '468'},\n   'RetryAttempts': 0}}]"
     },
     "execution_count": 291,
     "metadata": {},
     "output_type": "execute_result"
    }
   ],
   "source": [
    "[send_message_to_queue(sqs, 'queue0', messages[idx]) for idx in range(0, 4)]\n",
    "[send_message_to_queue(sqs, 'queue1', messages[idx]) for idx in range(4, 8)]\n",
    "[send_message_to_queue(sqs, 'queue2', messages[idx]) for idx in range(8, 12)]\n",
    "[send_message_to_queue(sqs, 'queue3', messages[idx]) for idx in range(12, 16)]\n",
    "[send_message_to_queue(sqs, 'queue4', messages[idx]) for idx in range(16, 20)]\n",
    "[send_message_to_queue(sqs, 'queue5', messages[idx]) for idx in range(20, 24)]\n",
    "\n",
    "    # print(f'queue{int((idx * INSTANCE_SIZE) % INSTANCE_SIZE)}')\n",
    "        # send_message_to_queue(sqs, f'queue{int(idx/2)}', messages[idx])"
   ],
   "metadata": {
    "collapsed": false
   }
  },
  {
   "cell_type": "code",
   "execution_count": 317,
   "outputs": [
    {
     "name": "stdout",
     "output_type": "stream",
     "text": [
      "result-queue-0\n",
      "result-queue-1\n",
      "result-queue-2\n",
      "result-queue-3\n",
      "result-queue-4\n",
      "result-queue-5\n"
     ]
    }
   ],
   "source": [
    "compute_res = get_messages_from_queue(INSTANCE_SIZE)"
   ],
   "metadata": {
    "collapsed": false
   }
  },
  {
   "cell_type": "code",
   "execution_count": 322,
   "outputs": [],
   "source": [
    "compute_res = [literal_eval(compute) for compute in compute_res]"
   ],
   "metadata": {
    "collapsed": false
   }
  },
  {
   "cell_type": "code",
   "execution_count": 332,
   "outputs": [
    {
     "data": {
      "text/plain": "6"
     },
     "execution_count": 332,
     "metadata": {},
     "output_type": "execute_result"
    }
   ],
   "source": [
    "len(compute_res)"
   ],
   "metadata": {
    "collapsed": false
   }
  },
  {
   "cell_type": "code",
   "execution_count": 204,
   "outputs": [],
   "source": [
    "# # sqs = boto3.resource('sqs')\n",
    "# queue = sqs.(QueueName='airscholar-queue')\n",
    "# for message in sqs.receive_message(\n",
    "#             MaxNumberOfMessages=10):\n",
    "#         # process message body\n",
    "#         body = json.loads(message.body)\n",
    "#         print(body)\n"
   ],
   "metadata": {
    "collapsed": false
   }
  },
  {
   "cell_type": "code",
   "execution_count": 143,
   "outputs": [],
   "source": [
    "# message = response['Messages']\n",
    "# receipt_handle = message['ReceiptHandle']\n",
    "\n",
    "# # Delete received message from queue\n",
    "# sqs.delete_message(\n",
    "#     QueueUrl=queue_url,\n",
    "#     ReceiptHandle=receipt_handle\n",
    "# )\n"
   ],
   "metadata": {
    "collapsed": false
   }
  },
  {
   "cell_type": "code",
   "execution_count": 196,
   "id": "afb375f4-09c6-49ee-87bb-a2a05b257be1",
   "metadata": {},
   "outputs": [],
   "source": [
    "# print(json.dumps(message, indent=4))"
   ]
  },
  {
   "cell_type": "code",
   "execution_count": 45,
   "id": "2a77ae2f-0920-4866-aa85-3533371f38ca",
   "metadata": {
    "tags": []
   },
   "outputs": [],
   "source": [
    "# # ec2_inst_id\n",
    "# bucketName = 'airscholar-mlbd-bucket'"
   ]
  },
  {
   "cell_type": "code",
   "execution_count": 146,
   "id": "dc983a9a-5cff-4e99-82b4-151681913ff9",
   "metadata": {},
   "outputs": [],
   "source": [
    "# s3 = boto3.client('s3')"
   ]
  },
  {
   "cell_type": "code",
   "execution_count": null,
   "id": "ea072947-1808-4444-9d2c-bff7e26f3b37",
   "metadata": {},
   "outputs": [],
   "source": [
    "# response = s3.get_object(Bucket=bucketName,\n",
    "#                          Key='data.json')\n",
    "# print(\"Done, response body:\")\n",
    "# print(response['Body'].read())"
   ]
  },
  {
   "cell_type": "code",
   "execution_count": null,
   "id": "eb35587b-cee3-455a-a86d-1b4c6b875653",
   "metadata": {},
   "outputs": [],
   "source": [
    "#create instance\n",
    "#configure instance\n",
    "#create matrix\n",
    "#split matrix\n",
    "#send matrix to the queue\n",
    "#read matrix from the queue on the instance created\n",
    "#compute matrix\n",
    "#send result to base\n"
   ]
  },
  {
   "cell_type": "code",
   "execution_count": 59,
   "id": "d149a3f8-392e-4080-8ecc-d00c56714648",
   "metadata": {},
   "outputs": [
    {
     "name": "stdout",
     "output_type": "stream",
     "text": [
      "[main d2098e2] Update infrastructure implementation\r\n",
      " 1 file changed, 37 insertions(+), 3 deletions(-)\r\n",
      "Enumerating objects: 35, done.\r\n",
      "Counting objects: 100% (35/35), done.\r\n",
      "Delta compression using up to 8 threads\r\n",
      "Compressing objects: 100% (28/28), done.\r\n",
      "Writing objects: 100% (31/31), 12.27 KiB | 6.14 MiB/s, done.\r\n",
      "Total 31 (delta 5), reused 0 (delta 0), pack-reused 0\r\n",
      "remote: Resolving deltas: 100% (5/5), completed with 1 local object.\u001B[K\r\n",
      "To https://github.com/airscholar/MLCloudComputing-python.git\r\n",
      "   3576c57..d2098e2  main -> main\r\n",
      "branch 'main' set up to track 'origin/main'.\r\n"
     ]
    }
   ],
   "source": [
    "!git add .\n",
    "!git commit -am \"Update infrastructure implementation\"\n",
    "!git push --set-upstream origin main"
   ]
  },
  {
   "cell_type": "code",
   "execution_count": null,
   "outputs": [],
   "source": [],
   "metadata": {
    "collapsed": false
   }
  }
 ],
 "metadata": {
  "kernelspec": {
   "display_name": "Python 3 (ipykernel)",
   "language": "python",
   "name": "python3"
  },
  "language_info": {
   "codemirror_mode": {
    "name": "ipython",
    "version": 3
   },
   "file_extension": ".py",
   "mimetype": "text/x-python",
   "name": "python",
   "nbconvert_exporter": "python",
   "pygments_lexer": "ipython3",
   "version": "3.9.12"
  }
 },
 "nbformat": 4,
 "nbformat_minor": 5
}
