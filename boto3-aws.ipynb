{
 "cells": [
  {
   "cell_type": "code",
   "execution_count": 1,
   "id": "1795e9e2-fda9-442b-8a76-8cd77c3a9138",
   "metadata": {},
   "outputs": [],
   "source": [
    "# !pip install paramiko\n",
    "# !pip install scp"
   ]
  },
  {
   "cell_type": "code",
   "execution_count": 8,
   "id": "09e8788d-0182-49f9-9128-a6dfbca0b8b7",
   "metadata": {},
   "outputs": [],
   "source": [
    "import os\n",
    "import boto3\n",
    "import subprocess\n",
    "import numpy as np\n",
    "import time\n",
    "import datetime\n",
    "import paramiko\n",
    "import io\n",
    "from scp import SCPClient, SCPException\n",
    "import sys\n",
    "from ast import literal_eval"
   ]
  },
  {
   "cell_type": "code",
   "execution_count": 9,
   "id": "2826bf4b-381b-4810-8ac0-672563a4a12e",
   "metadata": {},
   "outputs": [],
   "source": [
    "np.set_printoptions(threshold=sys.maxsize)"
   ]
  },
  {
   "cell_type": "code",
   "execution_count": 10,
   "id": "6c10e4cc-94f6-4c09-bb82-d5e19b44a8f0",
   "metadata": {},
   "outputs": [],
   "source": [
    "INSTANCE_SIZE = 6"
   ]
  },
  {
   "cell_type": "code",
   "execution_count": 11,
   "id": "065e1449-3738-40b5-87ec-1839be75e1ad",
   "metadata": {},
   "outputs": [],
   "source": [
    "client = boto3.client('ec2', region_name='us-east-1')\n",
    "# Create SQS client\n",
    "sqs = boto3.resource('sqs')"
   ]
  },
  {
   "cell_type": "code",
   "execution_count": 12,
   "id": "668e8ed9",
   "metadata": {
    "collapsed": false,
    "jupyter": {
     "outputs_hidden": false
    }
   },
   "outputs": [],
   "source": [
    "def get_default_security_group(client, key_name):\n",
    "    #extract key_name attribute from the security groups returned\n",
    "    response = [group[key_name] for group in client.describe_security_groups()['SecurityGroups'] if group['GroupName'] == 'default']\n",
    "\n",
    "    return response\n",
    "\n",
    "def get_key_pairs(client, removeExisting=False):\n",
    "    if removeExisting:\n",
    "        client.delete_key_pair(KeyName='airscholar-key')\n",
    "\n",
    "    keypairs = client.describe_key_pairs()['KeyPairs']\n",
    "    keypair = list(filter(lambda x: x['KeyName'] == 'airscholar-key', keypairs))\n",
    "\n",
    "    if not keypair:\n",
    "        keypair = client.create_key_pair(KeyName='airscholar-key')\n",
    "        f = io.StringIO(keypair['KeyMaterial'])\n",
    "        data = f.read()\n",
    "        file = open('labsuser.pem', 'w')\n",
    "        file.write(data)\n",
    "        file.close()\n",
    "    else:\n",
    "        keypair = keypair[0]\n",
    "\n",
    "    return keypair\n",
    "\n",
    "def launch_new_instance(client, keypair, count):\n",
    "    response = client.run_instances(\n",
    "        ImageId='ami-05723c3b9cf4bf4ff',\n",
    "        InstanceType='t2.micro',\n",
    "        KeyName=keypair,\n",
    "        MaxCount=count,\n",
    "        MinCount=count,\n",
    "        Monitoring={\n",
    "            'Enabled': True\n",
    "        },\n",
    "        SecurityGroupIds= get_default_security_group(client, key_name='GroupId')\n",
    "    )\n",
    "    ec2_inst_ids = [res[\"InstanceId\"] for res in response]\n",
    "    waiter = client.get_waiter('instance_running')\n",
    "    waiter.wait(InstanceIds=[ec2_inst_ids])\n",
    "    return ec2_inst_ids\n",
    "\n",
    "def prepare_instances(client, keypair, count):\n",
    "    ec2 = boto3.resource('ec2')\n",
    "    ec2_inst_ids = []\n",
    "\n",
    "    deployed_count = 0\n",
    "    for instance in ec2.instances.all():\n",
    "        deployed_count += 1\n",
    "        if instance.state['Name'] == 'running':\n",
    "            ec2_inst_ids.append(instance.id)\n",
    "\n",
    "    if deployed_count < count:\n",
    "        ec2_inst_ids.append(launch_new_instance(client, keypair, (count - deployed_count)))\n",
    "\n",
    "    if not ec2_inst_ids:\n",
    "        ec2_inst_ids.append(launch_new_instance(client, keypair, count))\n",
    "\n",
    "    return ec2, ec2_inst_ids\n",
    "\n",
    "def configure_ssh():\n",
    "    sshs = []\n",
    "    for count in range(0, INSTANCE_SIZE):\n",
    "        ssh = paramiko.SSHClient()\n",
    "        ssh.set_missing_host_key_policy(paramiko.AutoAddPolicy())\n",
    "        sshs.append(ssh)\n",
    "    return sshs\n",
    "\n",
    "def ssh_connect_with_retry(ssh, ip_address, retries):\n",
    "    if retries > 3:\n",
    "        return False\n",
    "    f = open('labsuser.pem', 'r')\n",
    "    privkey = paramiko.RSAKey.from_private_key(f)\n",
    "    # print(privkey)\n",
    "    interval = 5\n",
    "    try:\n",
    "        retries += 1\n",
    "        print('SSH into the instance: {}'.format(ip_address))\n",
    "        ssh.connect(hostname=ip_address,\n",
    "                    username='ec2-user', pkey=privkey)\n",
    "        return True\n",
    "    except Exception as e:\n",
    "        print(e)\n",
    "        time.sleep(interval)\n",
    "        print('Retrying SSH connection to {}'.format(ip_address))\n",
    "        ssh_connect_with_retry(ssh, ip_address, retries)\n",
    "\n",
    "def ssh_disconnect(ssh):\n",
    "        \"\"\"Close ssh connection.\"\"\"\n",
    "        if ssh:\n",
    "            ssh.close()\n",
    "\n",
    "def get_public_address(ec2, instance_id):\n",
    "    # ec2 = boto3.resource('ec2', region_name='us-east-1')\n",
    "    instance = ec2.Instance(id=instance_id)\n",
    "    instance.wait_until_running()\n",
    "    current_instance = list(ec2.instances.filter(InstanceIds=[instance_id]))\n",
    "    ip_address = current_instance[0].public_ip_address\n",
    "    return ip_address\n",
    "\n",
    "def get_queue(sqs, queue_name):\n",
    "    # Get the queue. This returns an SQS.Queue instance\n",
    "    # There is no queue, create a new SQS queue\n",
    "    attributes = {\n",
    "        'DelaySeconds': '0',\n",
    "        'MessageRetentionPeriod': '86400',\n",
    "        \"ReceiveMessageWaitTimeSeconds\": \"0\"\n",
    "    }\n",
    "\n",
    "    for idx in range(INSTANCE_SIZE):\n",
    "        sqs.create_queue(\n",
    "            QueueName=f\"{queue_name}{idx}\",\n",
    "            Attributes=attributes\n",
    "        )\n",
    "\n",
    "        sqs.create_queue(\n",
    "            QueueName=f'result-queue-{idx}',\n",
    "            Attributes=attributes\n",
    "        )\n",
    "\n",
    "def send_message_to_queue(sqs, queue_name, message):\n",
    "    queue = sqs.get_queue_by_name(QueueName=queue_name)\n",
    "\n",
    "    # Send message to SQS queue\n",
    "    response = queue.send_messages(\n",
    "        Entries=message\n",
    "    )\n",
    "    return response\n",
    "\n",
    "def install_required_packages(ssh):\n",
    "    stdin, stdout, stderr = ssh.exec_command(\"sudo yum install pip -y && sudo pip install numpy boto3\")\n",
    "    return stdout, stderr\n",
    "\n",
    "def get_messages_from_queue(instance_size, queue, message_size=10):\n",
    "    messages = []\n",
    "    sqs = boto3.resource('sqs')\n",
    "    queue = sqs.get_queue_by_name(QueueName=queue)\n",
    "\n",
    "    for message in queue.receive_messages(MaxNumberOfMessages=message_size, MessageAttributeNames=['All'], WaitTimeSeconds=0):\n",
    "        messages.append(message.body)\n",
    "        message.delete()\n",
    "    return messages\n",
    "\n",
    "def split_row(array, nrows, ncols):\n",
    "    \"\"\"\n",
    "    Return an array of shape (n, nrows, ncols) where\n",
    "    n * nrows * ncols = arr.size\n",
    "\n",
    "    If arr is a 2D array, the returned array should look like n subblocks with\n",
    "    each subblock preserving the \"physical\" layout of arr.\n",
    "    \"\"\"\n",
    "    h, w = array.shape\n",
    "    assert h % nrows == 0, f\"{h} rows is not evenly divisible by {nrows}\"\n",
    "    assert w % ncols == 0, f\"{w} cols is not evenly divisible by {ncols}\"\n",
    "    return (array.reshape(h//nrows, nrows, -1, ncols)\n",
    "               .swapaxes(1,2)\n",
    "               .reshape(-1, nrows, ncols))\n",
    "\n",
    "def split_col(array, nrows, ncols):\n",
    "    \"\"\"Split a matrix into sub-matrices.\"\"\"\n",
    "    r, h = array.shape\n",
    "    return [np.vsplit(i, 5) for i in np.hsplit(arr1, r)]\n",
    "\n",
    "def generate_array(nrows, ncols):\n",
    "    arr = np.random.randint(10, size=(nrows, ncols))\n",
    "    # # print('arr 1:\\n', arr)\n",
    "    # arr = split_row(arr, 1, split_size)\n",
    "    arr1 = np.random.randint(20, size=(nrows, ncols))\n",
    "    # print('arr 2:\\n', arr1)\n",
    "    # arr1 = split_col(arr1, 1, split_size)\n",
    "\n",
    "    return arr, arr1\n",
    "\n",
    "def upload_file_to_s3(file_name, bucket, object_name=None):\n",
    "    \"\"\"Upload a file to an S3 bucket\n",
    "\n",
    "    :param file_name: File to upload\n",
    "    :param bucket: Bucket to upload to\n",
    "    :param object_name: S3 object name. If not specified then file_name is used\n",
    "    :return: True if file was uploaded, else False\n",
    "    \"\"\"\n",
    "\n",
    "    # If S3 object_name was not specified, use file_name\n",
    "    if object_name is None:\n",
    "        object_name = os.path.basename(file_name)\n",
    "\n",
    "    # Upload the file\n",
    "    s3_client = boto3.client('s3')\n",
    "    try:\n",
    "        response = s3_client.upload_file(file_name, bucket, object_name)\n",
    "    except:\n",
    "        # logging.error(e)\n",
    "        return False\n",
    "    return True\n",
    "\n",
    "def bulk_upload(scp, filepaths: list[str], remote_path, host):\n",
    "        \"\"\"\n",
    "        Upload multiple files to a remote directory.\n",
    "\n",
    "        :param List[str] filepaths: List of local files to be uploaded.\n",
    "        \"\"\"\n",
    "        try:\n",
    "            scp.put(\n",
    "                filepaths,\n",
    "                remote_path=remote_path,\n",
    "                recursive=True\n",
    "            )\n",
    "            print(f\"Finished uploading {len(filepaths)} files to {remote_path} on {host}\")\n",
    "        except SCPException as e:\n",
    "            print(f\"SCPException during bulk upload: {e}\")\n",
    "        except Exception as e:\n",
    "            print(f\"Unexpected exception during bulk upload: {e}\")\n",
    "\n",
    "def configure_aws_access_for_ssh(ssh, ip_address):\n",
    "    \"\"\"\n",
    "    This function extracts the AWS configuration you have locally and push to the server\n",
    "    :param ssh:ssh object\n",
    "    :return:\n",
    "    \"\"\"\n",
    "    output = subprocess.getoutput(\"cat ~/.aws/credentials\")\n",
    "    ssh.exec_command(f'mkdir ~/.aws && touch ~/.aws/credentials')\n",
    "    ssh.exec_command(f\"echo '{output}' > ~/.aws/credentials\")\n",
    "    print(f'SSH AWS configuration done for {ip_address}')\n",
    "\n",
    "def matrix_dot_product(matrix_a, matrix_b):\n",
    "    start_time = datetime.datetime.now()\n",
    "    result = []\n",
    "    for i in range(len(matrix_a)):\n",
    "        row = []\n",
    "        for j in range(len(matrix_b[0])):\n",
    "            sum = 0\n",
    "            for k in range(len(matrix_b)):\n",
    "                sum += matrix_a[i][k] * matrix_b[k][j]\n",
    "            row.append(sum)\n",
    "        result.append(row)\n",
    "    print('Computation time', datetime.datetime.now() - start_time)\n",
    "\n",
    "    return result\n",
    "\n",
    "def matrix_add(matrix_1, matrix_2):\n",
    "    start_time = datetime.datetime.now()\n",
    "    result = []\n",
    "    for idx_row in range(0, len(matrix_1)):\n",
    "        row = matrix_1[idx_row]\n",
    "        row1 = matrix_2[idx_row]\n",
    "        cols = []\n",
    "        for idx_col in range(0, len(row)):\n",
    "            cols.append(row[idx_col] + row1[idx_col])\n",
    "        result.append(cols)\n",
    "    print('Computation time', datetime.datetime.now() - start_time)\n",
    "    return result"
   ]
  },
  {
   "cell_type": "code",
   "execution_count": 13,
   "id": "6e90974e-7735-4b83-9957-bd958ab449be",
   "metadata": {},
   "outputs": [],
   "source": [
    "QUEUE_NAME = 'queue'"
   ]
  },
  {
   "cell_type": "code",
   "execution_count": 14,
   "id": "5bc0a3eb-3bc7-4d62-b967-4131688e16b2",
   "metadata": {},
   "outputs": [],
   "source": [
    "get_queue(sqs, QUEUE_NAME)"
   ]
  },
  {
   "cell_type": "code",
   "execution_count": 15,
   "id": "306cdb9e-3041-4478-a61c-97aeaf5349e6",
   "metadata": {},
   "outputs": [
    {
     "name": "stdout",
     "output_type": "stream",
     "text": [
      "SSH into the instance: 54.221.82.103\n",
      "SSH into the instance: 50.17.68.227\n",
      "SSH into the instance: 54.205.169.35\n",
      "SSH into the instance: 54.159.35.23\n",
      "SSH into the instance: 3.90.164.133\n",
      "SSH into the instance: 54.226.83.253\n"
     ]
    }
   ],
   "source": [
    "sshs = configure_ssh() \n",
    "keypair = get_key_pairs(client, False)\n",
    "ec2, instances = prepare_instances(client, keypair['KeyName'], INSTANCE_SIZE)\n",
    "ip_addresses = [get_public_address(ec2, instance) for instance in instances]\n",
    "\n",
    "for idx in range(0, len(sshs)):\n",
    "    ssh = sshs[idx]\n",
    "    ip_address = ip_addresses[idx]\n",
    "    ssh_connect_with_retry(ssh, ip_address, 0)"
   ]
  },
  {
   "cell_type": "code",
   "execution_count": 16,
   "id": "04cd8abe",
   "metadata": {
    "collapsed": true,
    "jupyter": {
     "outputs_hidden": true
    },
    "tags": []
   },
   "outputs": [
    {
     "name": "stdout",
     "output_type": "stream",
     "text": [
      "Updating Subscription Management repositories.\n",
      "Unable to read consumer identity\n",
      "\n",
      "This system is not registered with an entitlement server. You can use subscription-manager to register.\n",
      "\n",
      "Red Hat Enterprise Linux 9 for x86_64 - AppStre  24 kB/s | 4.5 kB     00:00    \n",
      "Red Hat Enterprise Linux 9 for x86_64 - BaseOS   66 kB/s | 4.1 kB     00:00    \n",
      "Red Hat Enterprise Linux 9 Client Configuration  28 kB/s | 2.0 kB     00:00    \n",
      "Package python3-pip-21.2.3-6.el9.noarch is already installed.\n",
      "Dependencies resolved.\n",
      "Nothing to do.\n",
      "Complete!\n",
      "Requirement already satisfied: numpy in /usr/local/lib64/python3.9/site-packages (1.23.5)\n",
      "Requirement already satisfied: boto3 in /usr/local/lib/python3.9/site-packages (1.26.29)\n",
      "Requirement already satisfied: botocore<1.30.0,>=1.29.29 in /usr/local/lib/python3.9/site-packages (from boto3) (1.29.29)\n",
      "Requirement already satisfied: s3transfer<0.7.0,>=0.6.0 in /usr/local/lib/python3.9/site-packages (from boto3) (0.6.0)\n",
      "Requirement already satisfied: jmespath<2.0.0,>=0.7.1 in /usr/local/lib/python3.9/site-packages (from boto3) (1.0.1)\n",
      "Requirement already satisfied: urllib3<1.27,>=1.25.4 in /usr/lib/python3.9/site-packages (from botocore<1.30.0,>=1.29.29->boto3) (1.26.5)\n",
      "Requirement already satisfied: python-dateutil<3.0.0,>=2.1 in /usr/lib/python3.9/site-packages (from botocore<1.30.0,>=1.29.29->boto3) (2.8.1)\n",
      "Requirement already satisfied: six>=1.5 in /usr/lib/python3.9/site-packages (from python-dateutil<3.0.0,>=2.1->botocore<1.30.0,>=1.29.29->boto3) (1.15.0)\n",
      "\n",
      "WARNING: Running pip as the 'root' user can result in broken permissions and conflicting behaviour with the system package manager. It is recommended to use a virtual environment instead: https://pip.pypa.io/warnings/venv\n",
      "\n",
      "Updating Subscription Management repositories.\n",
      "Unable to read consumer identity\n",
      "\n",
      "This system is not registered with an entitlement server. You can use subscription-manager to register.\n",
      "\n",
      "Red Hat Enterprise Linux 9 for x86_64 - AppStre  25 kB/s | 4.5 kB     00:00    \n",
      "Red Hat Enterprise Linux 9 for x86_64 - BaseOS   67 kB/s | 4.1 kB     00:00    \n",
      "Red Hat Enterprise Linux 9 Client Configuration  34 kB/s | 2.0 kB     00:00    \n",
      "Package python3-pip-21.2.3-6.el9.noarch is already installed.\n",
      "Dependencies resolved.\n",
      "Nothing to do.\n",
      "Complete!\n",
      "Requirement already satisfied: numpy in /usr/local/lib64/python3.9/site-packages (1.23.5)\n",
      "Requirement already satisfied: boto3 in /usr/local/lib/python3.9/site-packages (1.26.29)\n",
      "Requirement already satisfied: botocore<1.30.0,>=1.29.29 in /usr/local/lib/python3.9/site-packages (from boto3) (1.29.29)\n",
      "Requirement already satisfied: jmespath<2.0.0,>=0.7.1 in /usr/local/lib/python3.9/site-packages (from boto3) (1.0.1)\n",
      "Requirement already satisfied: s3transfer<0.7.0,>=0.6.0 in /usr/local/lib/python3.9/site-packages (from boto3) (0.6.0)\n",
      "Requirement already satisfied: python-dateutil<3.0.0,>=2.1 in /usr/lib/python3.9/site-packages (from botocore<1.30.0,>=1.29.29->boto3) (2.8.1)\n",
      "Requirement already satisfied: urllib3<1.27,>=1.25.4 in /usr/lib/python3.9/site-packages (from botocore<1.30.0,>=1.29.29->boto3) (1.26.5)\n",
      "Requirement already satisfied: six>=1.5 in /usr/lib/python3.9/site-packages (from python-dateutil<3.0.0,>=2.1->botocore<1.30.0,>=1.29.29->boto3) (1.15.0)\n",
      "\n",
      "WARNING: Running pip as the 'root' user can result in broken permissions and conflicting behaviour with the system package manager. It is recommended to use a virtual environment instead: https://pip.pypa.io/warnings/venv\n",
      "\n",
      "Updating Subscription Management repositories.\n",
      "Unable to read consumer identity\n",
      "\n",
      "This system is not registered with an entitlement server. You can use subscription-manager to register.\n",
      "\n",
      "Red Hat Enterprise Linux 9 for x86_64 - AppStre  53 kB/s | 4.5 kB     00:00    \n",
      "Red Hat Enterprise Linux 9 for x86_64 - BaseOS   64 kB/s | 4.1 kB     00:00    \n",
      "Red Hat Enterprise Linux 9 Client Configuration  29 kB/s | 2.0 kB     00:00    \n",
      "Package python3-pip-21.2.3-6.el9.noarch is already installed.\n",
      "Dependencies resolved.\n",
      "Nothing to do.\n",
      "Complete!\n",
      "Requirement already satisfied: numpy in /usr/local/lib64/python3.9/site-packages (1.23.5)\n",
      "Requirement already satisfied: boto3 in /usr/local/lib/python3.9/site-packages (1.26.29)\n",
      "Requirement already satisfied: jmespath<2.0.0,>=0.7.1 in /usr/local/lib/python3.9/site-packages (from boto3) (1.0.1)\n",
      "Requirement already satisfied: s3transfer<0.7.0,>=0.6.0 in /usr/local/lib/python3.9/site-packages (from boto3) (0.6.0)\n",
      "Requirement already satisfied: botocore<1.30.0,>=1.29.29 in /usr/local/lib/python3.9/site-packages (from boto3) (1.29.29)\n",
      "Requirement already satisfied: python-dateutil<3.0.0,>=2.1 in /usr/lib/python3.9/site-packages (from botocore<1.30.0,>=1.29.29->boto3) (2.8.1)\n",
      "Requirement already satisfied: urllib3<1.27,>=1.25.4 in /usr/lib/python3.9/site-packages (from botocore<1.30.0,>=1.29.29->boto3) (1.26.5)\n",
      "Requirement already satisfied: six>=1.5 in /usr/lib/python3.9/site-packages (from python-dateutil<3.0.0,>=2.1->botocore<1.30.0,>=1.29.29->boto3) (1.15.0)\n",
      "\n",
      "WARNING: Running pip as the 'root' user can result in broken permissions and conflicting behaviour with the system package manager. It is recommended to use a virtual environment instead: https://pip.pypa.io/warnings/venv\n",
      "\n",
      "Updating Subscription Management repositories.\n",
      "Unable to read consumer identity\n",
      "\n",
      "This system is not registered with an entitlement server. You can use subscription-manager to register.\n",
      "\n",
      "Red Hat Enterprise Linux 9 for x86_64 - AppStre  51 kB/s | 4.5 kB     00:00    \n",
      "Red Hat Enterprise Linux 9 for x86_64 - BaseOS   60 kB/s | 4.1 kB     00:00    \n",
      "Red Hat Enterprise Linux 9 Client Configuration  32 kB/s | 2.0 kB     00:00    \n",
      "Package python3-pip-21.2.3-6.el9.noarch is already installed.\n",
      "Dependencies resolved.\n",
      "Nothing to do.\n",
      "Complete!\n",
      "Requirement already satisfied: numpy in /usr/local/lib64/python3.9/site-packages (1.23.5)\n",
      "Requirement already satisfied: boto3 in /usr/local/lib/python3.9/site-packages (1.26.29)\n",
      "Requirement already satisfied: s3transfer<0.7.0,>=0.6.0 in /usr/local/lib/python3.9/site-packages (from boto3) (0.6.0)\n",
      "Requirement already satisfied: jmespath<2.0.0,>=0.7.1 in /usr/local/lib/python3.9/site-packages (from boto3) (1.0.1)\n",
      "Requirement already satisfied: botocore<1.30.0,>=1.29.29 in /usr/local/lib/python3.9/site-packages (from boto3) (1.29.29)\n",
      "Requirement already satisfied: urllib3<1.27,>=1.25.4 in /usr/lib/python3.9/site-packages (from botocore<1.30.0,>=1.29.29->boto3) (1.26.5)\n",
      "Requirement already satisfied: python-dateutil<3.0.0,>=2.1 in /usr/lib/python3.9/site-packages (from botocore<1.30.0,>=1.29.29->boto3) (2.8.1)\n",
      "Requirement already satisfied: six>=1.5 in /usr/lib/python3.9/site-packages (from python-dateutil<3.0.0,>=2.1->botocore<1.30.0,>=1.29.29->boto3) (1.15.0)\n",
      "\n",
      "WARNING: Running pip as the 'root' user can result in broken permissions and conflicting behaviour with the system package manager. It is recommended to use a virtual environment instead: https://pip.pypa.io/warnings/venv\n",
      "\n",
      "Updating Subscription Management repositories.\n",
      "Unable to read consumer identity\n",
      "\n",
      "This system is not registered with an entitlement server. You can use subscription-manager to register.\n",
      "\n",
      "Red Hat Enterprise Linux 9 for x86_64 - AppStre  51 kB/s | 4.5 kB     00:00    \n",
      "Red Hat Enterprise Linux 9 for x86_64 - BaseOS   64 kB/s | 4.1 kB     00:00    \n",
      "Red Hat Enterprise Linux 9 Client Configuration  31 kB/s | 2.0 kB     00:00    \n",
      "Package python3-pip-21.2.3-6.el9.noarch is already installed.\n",
      "Dependencies resolved.\n",
      "Nothing to do.\n",
      "Complete!\n",
      "Requirement already satisfied: numpy in /usr/local/lib64/python3.9/site-packages (1.23.5)\n",
      "Requirement already satisfied: boto3 in /usr/local/lib/python3.9/site-packages (1.26.29)\n",
      "Requirement already satisfied: jmespath<2.0.0,>=0.7.1 in /usr/local/lib/python3.9/site-packages (from boto3) (1.0.1)\n",
      "Requirement already satisfied: s3transfer<0.7.0,>=0.6.0 in /usr/local/lib/python3.9/site-packages (from boto3) (0.6.0)\n",
      "Requirement already satisfied: botocore<1.30.0,>=1.29.29 in /usr/local/lib/python3.9/site-packages (from boto3) (1.29.29)\n",
      "Requirement already satisfied: urllib3<1.27,>=1.25.4 in /usr/lib/python3.9/site-packages (from botocore<1.30.0,>=1.29.29->boto3) (1.26.5)\n",
      "Requirement already satisfied: python-dateutil<3.0.0,>=2.1 in /usr/lib/python3.9/site-packages (from botocore<1.30.0,>=1.29.29->boto3) (2.8.1)\n",
      "Requirement already satisfied: six>=1.5 in /usr/lib/python3.9/site-packages (from python-dateutil<3.0.0,>=2.1->botocore<1.30.0,>=1.29.29->boto3) (1.15.0)\n",
      "\n",
      "WARNING: Running pip as the 'root' user can result in broken permissions and conflicting behaviour with the system package manager. It is recommended to use a virtual environment instead: https://pip.pypa.io/warnings/venv\n",
      "\n",
      "Updating Subscription Management repositories.\n",
      "Unable to read consumer identity\n",
      "\n",
      "This system is not registered with an entitlement server. You can use subscription-manager to register.\n",
      "\n",
      "Red Hat Enterprise Linux 9 for x86_64 - AppStre  48 kB/s | 4.5 kB     00:00    \n",
      "Red Hat Enterprise Linux 9 for x86_64 - BaseOS   63 kB/s | 4.1 kB     00:00    \n",
      "Red Hat Enterprise Linux 9 Client Configuration  33 kB/s | 2.0 kB     00:00    \n",
      "Package python3-pip-21.2.3-6.el9.noarch is already installed.\n",
      "Dependencies resolved.\n",
      "Nothing to do.\n",
      "Complete!\n",
      "Requirement already satisfied: numpy in /usr/local/lib64/python3.9/site-packages (1.23.5)\n",
      "Requirement already satisfied: boto3 in /usr/local/lib/python3.9/site-packages (1.26.29)\n",
      "Requirement already satisfied: botocore<1.30.0,>=1.29.29 in /usr/local/lib/python3.9/site-packages (from boto3) (1.29.29)\n",
      "Requirement already satisfied: jmespath<2.0.0,>=0.7.1 in /usr/local/lib/python3.9/site-packages (from boto3) (1.0.1)\n",
      "Requirement already satisfied: s3transfer<0.7.0,>=0.6.0 in /usr/local/lib/python3.9/site-packages (from boto3) (0.6.0)\n",
      "Requirement already satisfied: python-dateutil<3.0.0,>=2.1 in /usr/lib/python3.9/site-packages (from botocore<1.30.0,>=1.29.29->boto3) (2.8.1)\n",
      "Requirement already satisfied: urllib3<1.27,>=1.25.4 in /usr/lib/python3.9/site-packages (from botocore<1.30.0,>=1.29.29->boto3) (1.26.5)\n",
      "Requirement already satisfied: six>=1.5 in /usr/lib/python3.9/site-packages (from python-dateutil<3.0.0,>=2.1->botocore<1.30.0,>=1.29.29->boto3) (1.15.0)\n",
      "\n",
      "WARNING: Running pip as the 'root' user can result in broken permissions and conflicting behaviour with the system package manager. It is recommended to use a virtual environment instead: https://pip.pypa.io/warnings/venv\n",
      "\n"
     ]
    }
   ],
   "source": [
    "# ssh_disconnect(ssh)\n",
    "for idx in range(len(sshs)):\n",
    "    ssh = sshs[idx]\n",
    "    ip_address = ip_addresses[idx]\n",
    "    stdout, stderr = install_required_packages(ssh)\n",
    "    print(stdout.read().decode('utf-8'))\n",
    "    print(stderr.read().decode('utf-8'))\n",
    "    # configure_aws_access_for_ssh(ssh, ip_address)"
   ]
  },
  {
   "cell_type": "code",
   "execution_count": 52,
   "id": "542e99df",
   "metadata": {
    "collapsed": false,
    "jupyter": {
     "outputs_hidden": false
    }
   },
   "outputs": [
    {
     "name": "stdout",
     "output_type": "stream",
     "text": [
      "Finished uploading 3 files to ~ on 54.221.82.103\n",
      "Finished uploading 3 files to ~ on 50.17.68.227\n",
      "Finished uploading 3 files to ~ on 54.205.169.35\n",
      "Finished uploading 3 files to ~ on 54.159.35.23\n",
      "Finished uploading 3 files to ~ on 3.90.164.133\n",
      "Finished uploading 3 files to ~ on 54.226.83.253\n"
     ]
    }
   ],
   "source": [
    "from files.file_helper import fetch_local_files\n",
    "for idx in range(len(sshs)):\n",
    "    ssh = sshs[idx]\n",
    "    ip_address = ip_addresses[idx]\n",
    "    scp = SCPClient(ssh.get_transport())\n",
    "    bulk_upload(scp, fetch_local_files('./worker'), '~', ip_address)"
   ]
  },
  {
   "cell_type": "code",
   "execution_count": 68,
   "id": "9097dc55",
   "metadata": {
    "collapsed": false,
    "jupyter": {
     "outputs_hidden": false
    }
   },
   "outputs": [],
   "source": [
    "def start_worker(ssh, worker_id):\n",
    "    stdin, stdout, stderr = ssh.exec_command(f'python ./worker.py {worker_id}')\n",
    "    print(stdout.read().decode('utf-8'))\n",
    "    print(stderr.read().decode('utf-8'))"
   ]
  },
  {
   "cell_type": "code",
   "execution_count": 69,
   "id": "021403db",
   "metadata": {
    "collapsed": false,
    "jupyter": {
     "outputs_hidden": false
    }
   },
   "outputs": [
    {
     "name": "stdout",
     "output_type": "stream",
     "text": [
      "Worker 0 started\n",
      "Queue url: https://sqs.us-east-1.amazonaws.com/469282757936/queue0\n",
      "\n",
      "Traceback (most recent call last):\n",
      "  File \"/home/ec2-user/./worker.py\", line 33, in <module>\n",
      "    matrix_b = literal_eval(matrix_b)\n",
      "  File \"/usr/lib64/python3.9/ast.py\", line 62, in literal_eval\n",
      "    node_or_string = parse(node_or_string, mode='eval')\n",
      "  File \"/usr/lib64/python3.9/ast.py\", line 50, in parse\n",
      "    return compile(source, filename, mode, flags,\n",
      "  File \"<unknown>\", line 1\n",
      "    [[12,10,13,16,14,15,15,5,19,5,0,14,0,0,16,2,11,3,13,17,7,14,14,12,10,14,5,16,6,9,17,2,1,17,14,17,2,6,3,3,10,18,14,8,3,12,0,10,,1,12],[13,2,13,7,10,9,11,14,13,11,3,15,0,14,5,13,9,16,16,17,19,10,15,14,17,13,10,7,3,18,4,0,10,18,10,8,12,9,10,5,10,15,15,2,17,10,9,16,19,7],[18,4,19,15,5,5,16,4,6,0,16,17,15,3,12,7,5,1,12,7,10,13,8,11,,6,11,10,10,14,18,11,18,7,13,11,12,13,7,16,8,6,6,3,19,12,8,17,6,,1,0],[17,1,0,8,13,4,10,4,10,6,6,18,10,3,1,1,6,12,12,0,10,8,11,15,12,13,1,7,4,4,13,4,2,19,12,1,6,16,19,13,3,13,7,11,10,7,10,6,,2,3],[7,10,13,12,7,10,12,19,0,14,13,9,2,1,3,1,15,7,7,7,9,13,18,9,,5,16,5,14,15,19,16,6,1,7,18,14,10,19,14,3,1,13,1,7,7,17,18,19,13,6],[17,16,8,7,13,16,2,3,17,12,16,0,18,18,8,16,5,1,0,2,8,3,13,17,,7,19,0,9,5,2,2,2,9,18,8,12,9,5,7,5,8,13,7,15,11,10,0,12,,7,1],[0,5,12,16,6,1,19,18,6,11,15,3,2,0,11,7,3,1,17,16,15,10,2,1,11,15,4,6,18,14,4,12,10,7,14,5,0,9,18,11,2,18,4,13,15,16,7,16,,2,9],[10,7,8,17,3,1,6,5,11,14,17,19,2,7,14,0,9,1,5,18,9,15,6,10,,4,18,4,11,17,4,4,11,8,14,16,4,4,3,19,15,16,6,19,19,1,5,12,3,,8,19],[1,10,3,8,0,9,11,17,16,15,7,19,11,12,9,10,6,16,12,11,16,7,10,18,,5,16,4,15,4,8,6,19,12,5,7,3,13,18,17,0,0,2,1,15,13,1,0,2,11,7],[14,5,4,17,7,4,5,3,10,19,14,17,18,2,12,7,11,14,13,17,0,14,9,10,12,17,10,13,8,13,17,9,9,17,2,10,6,18,11,19,14,18,14,5,15,3,4,19,,8,13],[7,0,2,17,14,16,9,10,17,17,5,1,5,17,10,4,10,18,18,12,17,15,16,8,,1,17,9,0,1,3,19,7,15,4,3,18,13,8,9,13,10,1,15,18,4,19,15,1,13,19],[13,15,17,11,19,7,9,10,9,5,12,1,11,13,6,7,9,5,1,17,17,12,4,17,18,16,5,5,8,5,10,3,0,4,15,7,6,13,18,9,7,11,3,8,17,12,7,3,,8,5],[15,14,1,19,2,9,12,19,0,1,1,6,6,19,12,10,17,18,4,10,10,15,8,15,,5,8,16,19,2,10,5,3,8,16,9,16,17,7,7,15,10,10,13,19,10,19,18,6,19,17],[10,5,7,4,10,4,11,6,5,1,3,8,13,13,7,13,7,3,13,14,6,0,11,3,14,12,13,11,4,18,16,18,5,8,15,13,3,2,1,11,17,7,17,15,18,10,0,4,,8,0],[16,3,15,16,9,12,1,8,14,18,3,14,14,12,12,18,0,2,11,13,12,16,17,10,13,2,0,5,15,8,11,3,14,1,4,5,11,15,10,11,15,10,3,9,7,13,0,12,,4,11],[18,14,3,11,16,10,7,18,10,8,12,4,11,5,4,2,9,5,17,5,4,16,11,19,19,10,10,11,3,4,0,18,16,2,15,12,2,13,0,1,2,12,7,14,10,0,2,15,18,10],[5,1,14,18,17,4,2,8,6,19,14,5,6,7,5,2,3,12,14,3,8,7,9,11,14,7,8,6,12,13,15,14,6,1,10,15,12,4,11,15,7,5,12,10,13,2,0,14,,7,14],[17,5,12,10,13,15,1,2,17,1,4,2,4,14,1,12,13,1,15,13,9,6,3,3,15,15,15,7,10,0,15,10,9,11,2,2,4,12,2,14,11,12,12,2,9,6,15,11,,4,5],[11,11,16,10,10,1,15,5,17,11,7,18,9,3,17,13,9,13,15,5,1,10,14,14,19,1,14,17,1,6,15,9,19,4,18,1,17,2,15,4,6,3,2,4,7,10,13,19,,7,17],[11,4,9,16,2,16,10,18,18,0,14,10,19,4,19,14,18,11,11,4,2,9,11,17,,2,1,3,18,12,3,3,9,2,13,17,1,2,8,12,5,7,14,8,14,5,18,0,18,,3,16],[1,0,5,18,13,9,12,2,7,6,17,18,1,19,18,16,14,15,8,9,8,16,11,15,18,1,13,3,6,11,16,18,0,5,0,9,12,13,12,13,13,13,11,17,1,2,7,5,,7,16],[12,17,1,18,12,14,11,0,5,2,18,15,15,7,7,9,17,15,11,11,3,1,13,0,13,18,6,15,6,6,18,17,11,8,5,18,2,0,16,11,17,14,12,11,8,1,17,4,15,10],[7,19,16,3,2,7,18,3,17,0,9,4,16,10,17,17,3,14,7,3,5,8,8,0,17,0,4,12,2,6,7,6,19,9,16,18,11,7,8,7,16,7,16,1,3,0,5,1,18,16],[14,18,18,6,6,7,19,3,6,9,2,18,13,16,10,14,17,6,4,2,19,11,5,8,,9,18,5,0,6,7,3,18,9,17,11,3,10,12,0,4,1,7,5,1,17,17,16,7,,1,6],[9,0,7,1,14,11,8,17,1,7,1,2,8,14,14,12,17,6,4,12,6,3,16,3,,7,19,1,1,10,18,0,18,17,6,14,9,18,9,15,2,18,14,16,3,9,11,4,14,15,18],[11,0,3,15,12,2,6,8,16,9,1,10,2,17,3,2,18,3,14,8,5,5,1,0,13,12,1,4,17,3,0,12,10,3,16,12,6,4,18,11,18,9,13,11,11,14,10,9,,3,8],[12,16,16,13,9,16,8,6,0,1,14,8,3,4,19,4,3,11,1,10,13,0,11,1,,9,2,3,16,9,17,16,17,14,10,18,3,7,0,2,16,3,18,8,2,5,9,10,7,,0,7],[10,13,13,1,17,10,7,14,11,2,12,9,17,1,7,9,11,16,16,9,11,10,12,7,,1,19,11,4,16,12,18,13,5,19,1,5,4,0,0,18,3,1,8,12,19,14,14,5,,5,10],[18,7,0,12,11,18,10,11,5,16,16,15,2,10,1,15,15,7,8,3,19,12,9,15,,6,2,2,14,15,2,0,9,13,12,12,15,10,16,6,13,13,7,14,7,7,3,18,11,12,12],[0,11,17,17,10,4,4,13,12,16,17,9,17,7,2,0,14,13,1,9,2,3,5,15,,8,6,12,5,17,11,8,16,16,8,4,1,19,10,18,12,5,6,15,15,14,3,18,18,,9,16],[17,17,11,18,17,0,8,0,16,16,5,5,17,3,16,11,7,19,8,12,7,0,11,2,12,17,11,19,11,14,0,3,16,9,7,2,18,6,16,2,4,19,1,1,4,1,7,19,12,19],[1,8,9,14,15,17,16,11,2,10,4,5,7,15,1,2,9,17,19,4,9,11,18,1,12,3,1,15,14,0,9,0,1,15,2,5,16,19,5,6,12,12,5,16,12,6,5,15,19,14],[17,13,18,9,11,18,1,3,15,3,4,5,6,2,5,14,15,0,12,5,4,6,15,12,,1,0,5,4,9,9,17,9,18,14,19,19,16,0,17,2,0,8,12,14,17,1,6,3,,6,13],[15,7,16,7,2,5,2,13,5,18,11,7,2,1,19,18,7,8,0,17,11,6,19,13,19,2,19,6,13,3,13,7,12,16,19,14,14,11,19,2,5,6,15,2,16,12,13,10,,1,8],[18,17,10,7,4,10,18,17,12,18,18,17,11,15,7,14,11,12,5,3,1,11,13,3,,4,17,1,6,5,12,8,9,2,19,8,2,0,15,4,4,19,18,4,5,3,16,0,17,10,6],[9,12,18,13,12,12,0,7,12,14,5,18,18,0,4,17,17,8,12,19,5,2,12,16,16,19,9,19,6,8,0,11,10,15,4,17,1,13,1,8,2,0,2,13,1,19,3,7,18,0],[6,12,0,18,1,11,6,10,14,5,17,13,9,10,0,15,13,1,10,16,7,10,19,10,,1,12,6,14,9,17,7,3,6,2,13,1,17,13,6,9,19,8,2,9,13,13,9,9,,0,0],[12,7,4,11,16,10,2,16,11,14,17,15,10,10,16,19,11,9,11,4,5,12,12,15,,9,14,19,7,15,17,6,1,8,12,15,18,11,14,3,11,5,19,18,9,10,0,10,19,,4,13],[16,13,1,10,5,10,12,14,7,12,6,11,4,17,16,6,2,8,19,1,7,1,1,3,16,11,6,9,2,13,7,3,5,2,0,11,12,10,6,12,0,10,1,3,13,7,18,3,12,13],[9,6,8,13,2,11,16,14,15,5,1,5,18,15,6,9,11,10,1,2,15,19,6,6,,3,8,10,5,13,1,12,16,1,0,12,15,15,14,3,14,14,15,18,18,14,3,6,8,11,4],[19,3,6,7,17,7,8,14,15,4,18,8,7,0,3,6,13,13,7,18,16,15,15,8,,9,19,16,11,16,0,7,3,11,16,17,3,7,14,12,17,17,18,2,16,7,6,19,12,10,9],[5,4,16,14,13,2,14,17,17,12,11,9,14,14,1,2,9,1,18,7,11,6,2,10,10,7,18,9,15,0,3,17,10,16,17,13,12,10,11,18,12,8,2,1,18,19,4,3,,5,14],[15,5,2,2,19,5,18,19,1,3,8,14,5,18,3,2,14,14,17,6,12,18,11,18,,6,6,1,13,8,15,15,11,13,12,15,5,16,7,1,7,19,0,10,3,14,17,4,4,19,9],[12,18,19,10,1,14,4,14,17,11,4,16,14,11,2,10,2,0,9,1,17,0,5,14,,8,19,10,8,6,13,2,2,7,8,2,14,11,10,7,9,18,14,0,3,9,17,14,15,,6,4],[5,17,16,4,6,17,8,0,16,7,15,13,15,13,7,18,4,19,4,6,11,15,13,8,,6,13,12,9,13,8,14,9,6,14,3,16,18,9,4,13,2,12,1,19,3,11,0,14,,2,18],[12,9,8,10,0,4,17,6,2,14,7,14,0,19,12,16,2,2,15,10,15,8,14,7,12,19,0,6,17,7,6,4,7,8,17,13,10,6,10,12,14,9,15,6,18,0,11,11,10,7],[16,8,6,7,16,9,14,17,8,13,8,7,9,11,17,9,17,8,13,13,13,14,11,0,15,7,12,16,3,2,10,5,12,7,4,2,14,12,19,12,10,16,2,19,12,0,0,5,16,17],[9,15,12,18,10,17,7,18,3,5,13,1,6,15,9,15,8,0,15,18,11,5,7,12,,9,4,5,19,12,5,1,12,9,9,4,7,4,9,13,5,1,2,19,2,0,19,1,0,,4,19],[5,18,16,0,4,0,18,11,18,19,11,18,14,3,14,6,0,8,3,11,5,4,13,7,18,16,16,1,11,10,6,6,16,11,3,2,16,7,6,9,10,1,7,15,7,17,5,5,,4,19],[15,11,9,3,12,17,7,15,16,0,15,19,9,0,10,8,0,7,1,13,17,4,4,10,16,9,9,15,6,13,18,19,14,14,5,5,16,10,6,18,15,19,11,15,0,13,13,18,15,1]]\n",
      "                                                                                                                                  ^\n",
      "SyntaxError: invalid syntax\n",
      "\n",
      "Worker 1 started\n",
      "Queue url: https://sqs.us-east-1.amazonaws.com/469282757936/queue1\n",
      "\n",
      "Traceback (most recent call last):\n",
      "  File \"/home/ec2-user/./worker.py\", line 33, in <module>\n",
      "    matrix_b = literal_eval(matrix_b)\n",
      "  File \"/usr/lib64/python3.9/ast.py\", line 62, in literal_eval\n",
      "    node_or_string = parse(node_or_string, mode='eval')\n",
      "  File \"/usr/lib64/python3.9/ast.py\", line 50, in parse\n",
      "    return compile(source, filename, mode, flags,\n",
      "  File \"<unknown>\", line 1\n",
      "    [[17,16,12,7,3,19,16,19,4,12,2,17,1,19,10,19,9,7,15,9,1,12,8,19,,5,12,7,1,4,14,11,8,7,2,5,17,7,1,3,4,8,12,2,18,16,6,17,12,,4,19],[9,13,13,10,16,15,2,15,19,13,15,10,11,13,15,1,8,14,8,14,9,4,2,13,19,7,2,7,2,0,3,18,2,18,16,12,18,15,4,9,12,19,15,2,3,19,6,0,,5,14],[11,19,9,5,3,13,8,4,8,8,6,18,0,1,18,8,19,18,12,3,12,2,12,9,14,6,15,12,3,11,4,17,5,17,15,18,17,18,10,5,7,0,17,17,8,18,9,6,13,1],[6,17,5,18,12,10,17,6,4,10,9,14,12,8,8,15,2,9,18,19,3,15,15,14,,3,15,4,16,17,12,7,10,2,18,13,1,13,1,3,13,3,10,2,15,5,10,9,6,,6,16],[2,6,13,14,15,9,18,0,10,12,7,4,5,13,14,11,6,18,11,1,0,9,14,17,17,15,10,1,15,16,7,8,3,5,2,2,7,10,0,5,18,2,8,9,3,4,11,16,14,5],[8,1,18,18,1,4,7,15,0,16,7,6,7,4,10,11,19,7,17,14,2,11,8,17,19,7,13,3,12,15,0,10,16,2,0,14,6,7,7,10,5,17,12,18,3,1,19,16,,5,1],[1,16,7,12,5,18,18,15,3,17,0,14,7,6,13,4,19,10,5,15,3,15,5,3,,9,17,13,15,16,0,18,8,5,9,7,1,7,0,13,9,1,2,11,3,4,15,19,14,,3,13],[4,9,14,17,7,1,2,4,14,5,8,8,5,1,16,18,17,0,11,10,11,11,5,11,11,14,19,15,18,6,16,17,4,17,8,13,15,16,8,14,4,9,5,18,0,19,12,5,19,16],[13,9,0,4,7,3,2,17,15,12,17,14,4,6,4,18,14,19,14,16,17,1,16,9,,5,3,4,11,8,9,14,7,7,4,9,6,6,11,9,14,0,10,0,4,12,14,12,3,19,5],[1,6,6,1,4,17,1,17,5,15,13,8,18,13,8,18,13,16,13,9,3,19,9,7,18,1,17,0,13,10,3,11,17,17,4,12,7,4,14,6,5,2,0,17,14,2,3,14,,2,13],[16,9,11,18,14,5,10,5,5,13,1,14,3,1,11,16,15,19,5,8,4,12,5,14,,5,17,13,11,19,17,14,17,12,7,19,12,13,13,5,5,2,0,1,16,2,3,9,16,11,18],[3,13,17,17,2,6,0,14,14,3,2,3,1,12,8,14,9,14,6,14,9,0,19,4,,4,10,8,17,18,1,10,15,12,19,1,6,0,14,5,9,8,1,10,7,13,16,13,7,,0,16],[3,15,13,1,16,10,1,17,8,13,13,6,15,8,8,6,13,6,3,4,6,19,15,11,,0,1,8,7,9,14,6,14,16,15,4,19,19,5,6,18,10,7,18,11,3,13,4,11,,2,14],[11,12,6,10,7,12,13,2,15,13,18,17,6,9,15,11,9,9,10,12,4,1,7,13,14,12,14,12,8,1,0,6,3,17,14,6,11,5,8,0,19,6,1,14,14,16,9,2,19,2],[12,17,0,17,17,2,7,10,8,18,8,13,18,3,16,8,7,3,19,1,6,4,11,14,,7,4,4,10,10,9,12,18,5,15,6,4,9,12,14,8,17,9,4,13,16,12,1,7,18,3],[11,10,17,3,14,19,14,14,6,9,12,19,11,1,8,11,8,0,18,13,12,0,5,0,,1,1,4,4,0,18,3,1,0,15,1,3,4,8,17,9,12,6,7,9,7,19,2,11,16,3],[5,0,5,12,0,9,19,1,6,13,7,4,2,5,17,10,4,5,16,16,10,19,4,16,,8,10,11,0,11,18,2,17,3,17,7,2,10,0,1,3,14,13,12,15,7,5,17,19,16,15],[2,4,10,16,19,3,12,17,6,18,5,0,2,15,2,4,8,18,8,17,17,13,16,4,18,14,2,6,16,12,5,1,18,9,14,3,13,2,1,3,5,19,8,14,16,3,1,11,,6,8],[14,14,19,9,8,8,4,19,6,11,16,5,7,10,15,15,9,16,8,18,7,9,9,7,,9,12,8,11,9,16,7,15,19,15,13,12,12,4,13,13,15,13,3,7,3,15,8,6,,3,14],[6,2,5,2,7,15,0,13,9,0,14,1,10,8,4,18,4,10,12,12,0,16,0,7,,8,2,10,10,8,17,17,0,0,16,2,12,13,15,5,11,0,3,18,6,1,9,18,2,18,6],[14,11,9,11,17,17,12,18,7,3,3,4,13,5,3,4,13,14,9,6,0,2,13,6,15,11,17,5,18,7,6,6,8,8,16,13,6,16,0,7,9,10,10,8,17,5,3,10,,4,4],[13,10,0,1,4,11,19,11,0,0,10,1,5,6,7,14,2,8,4,18,11,14,17,17,15,5,5,15,16,13,1,17,13,2,8,7,9,17,11,6,9,15,3,15,2,5,14,19,11,11],[19,5,18,2,11,6,7,6,1,15,18,13,15,3,17,3,11,13,16,16,6,5,15,17,,8,14,9,13,14,10,6,19,12,5,4,18,14,2,0,19,6,17,16,10,3,6,8,1,,1,1],[7,13,5,17,3,2,6,1,18,4,17,1,18,15,15,18,7,14,11,11,3,0,0,18,,9,9,3,5,18,8,14,9,14,11,3,15,2,13,19,10,9,1,5,11,8,17,3,10,,8,11],[6,5,14,4,13,17,13,3,1,19,6,0,3,2,7,15,11,3,11,4,13,1,19,12,16,1,5,17,14,19,17,5,11,2,2,8,18,8,3,4,11,4,10,2,18,15,17,11,11,1],[8,15,6,9,15,4,3,8,17,8,17,13,9,0,11,15,6,19,12,13,2,10,5,2,10,12,12,1,16,4,15,8,18,15,18,19,17,0,17,3,15,14,12,16,5,15,0,6,12,15],[0,4,15,4,10,7,19,8,0,4,15,7,13,9,14,14,1,15,8,1,4,0,16,9,17,2,16,5,6,16,3,17,19,14,14,19,11,15,5,5,10,3,10,7,6,8,14,8,14,8],[1,1,1,10,19,10,13,12,11,8,5,15,10,9,11,0,5,16,15,12,2,16,13,3,16,4,12,3,1,4,1,8,6,14,11,13,16,3,1,6,7,7,6,3,5,17,14,10,,9,5],[7,0,5,4,7,8,8,9,11,19,10,19,13,5,3,0,0,7,0,13,3,1,17,10,13,11,15,14,8,14,17,11,5,1,2,10,2,10,11,17,14,13,14,0,5,17,7,11,11,14],[0,16,12,6,10,2,5,18,18,5,8,17,19,14,15,12,15,0,14,1,16,18,0,18,19,3,17,13,16,18,10,15,19,16,8,18,4,0,17,13,19,13,7,6,19,11,17,18,,1,7],[2,10,7,10,0,3,4,9,9,8,6,3,5,1,14,10,19,19,4,9,10,11,4,2,12,6,3,10,13,14,16,2,9,0,18,17,5,8,12,15,7,16,7,3,18,14,1,11,15,12],[18,5,0,10,1,2,19,16,17,10,15,1,3,3,18,8,17,12,3,2,19,7,12,19,,8,4,18,0,12,6,6,10,13,4,14,5,2,18,17,14,3,6,1,15,17,5,9,15,,5,8],[1,11,12,13,5,16,8,10,14,14,2,3,2,11,0,7,12,0,6,18,10,1,11,19,13,13,11,5,19,13,19,10,16,8,7,13,19,17,14,19,3,11,1,13,3,9,6,12,,0,14],[15,19,6,15,13,12,7,10,8,1,4,8,12,6,6,6,13,8,4,14,19,13,5,0,17,2,5,14,16,8,18,1,1,4,11,15,6,3,4,19,15,9,11,9,1,5,5,17,,8,14],[5,16,5,17,17,2,19,0,16,6,2,19,16,8,14,15,6,3,16,14,3,16,18,8,,0,9,9,18,0,1,6,5,4,16,5,15,0,17,9,6,3,3,5,17,16,19,2,12,,7,6],[18,0,14,2,17,10,0,13,10,7,3,7,7,1,7,19,18,16,14,6,5,16,16,17,,0,7,7,0,1,6,3,2,1,3,3,6,9,19,0,1,9,0,12,1,19,5,15,14,14,1],[1,14,4,19,8,10,8,12,15,18,14,13,6,16,1,5,11,10,7,18,7,8,2,15,,7,1,8,17,9,14,19,4,1,12,19,2,17,16,18,1,1,19,5,19,11,14,19,18,18,2],[12,3,15,5,17,7,2,4,5,7,4,14,12,12,11,2,4,16,15,1,10,15,12,8,10,7,1,15,4,1,3,5,17,15,13,16,8,16,5,18,8,0,0,13,2,16,2,19,14,14],[8,9,3,6,9,8,6,16,16,3,9,2,16,8,7,3,0,6,17,6,18,14,14,3,,7,11,8,0,2,10,1,0,13,17,17,11,10,16,7,14,1,16,15,13,1,16,17,8,12,17],[16,1,4,14,17,5,13,1,14,0,14,14,18,17,12,5,5,15,16,18,10,4,0,10,,7,18,15,11,7,10,13,9,3,7,1,17,4,17,15,12,17,5,11,4,6,18,12,13,12,8],[17,2,5,16,19,1,17,19,11,19,14,4,14,19,8,15,14,11,11,9,8,8,0,13,14,12,3,6,5,4,3,3,9,5,13,0,7,6,0,0,6,11,11,9,8,9,13,0,,0,15],[10,3,19,2,3,3,11,2,4,9,9,13,19,4,8,10,1,11,18,18,3,8,4,3,,4,16,5,16,6,19,0,9,14,5,10,13,7,0,7,10,11,13,7,3,14,7,3,15,11,8],[14,2,15,13,0,8,6,2,13,12,5,18,6,14,7,14,19,9,0,0,8,0,12,13,,7,1,4,18,1,17,15,0,3,8,15,14,6,7,11,17,17,19,14,19,14,8,5,8,,6,8],[7,5,10,18,18,17,12,15,10,1,15,9,15,6,0,1,3,19,3,16,11,19,9,9,14,1,11,18,12,3,1,14,18,16,0,5,9,8,4,3,15,17,0,19,10,11,17,18,17,2],[2,0,14,15,18,17,6,9,4,11,16,18,6,2,15,5,6,19,5,17,9,18,6,3,,5,13,2,18,13,4,17,13,8,9,8,0,17,6,18,10,17,16,13,5,18,14,6,15,,6,6],[8,15,18,8,16,4,8,1,3,19,7,2,9,1,17,8,0,10,14,0,5,0,8,10,17,9,15,9,13,13,16,18,4,9,0,9,19,15,16,7,10,10,8,6,18,10,18,0,17,11],[0,2,0,3,11,11,3,15,17,12,5,7,5,11,7,3,2,3,12,13,4,5,5,6,,7,8,1,19,2,14,11,17,1,0,11,6,7,13,13,11,9,2,15,5,16,2,17,15,16,0],[12,5,15,16,15,15,3,4,3,18,18,15,1,11,15,17,19,1,1,18,2,1,7,17,18,14,13,2,18,2,6,12,11,4,0,8,11,11,0,6,7,11,19,12,0,10,10,8,,7,0],[12,13,1,1,15,14,17,16,16,12,14,0,12,12,4,2,0,17,17,11,3,15,2,19,,8,13,14,12,19,7,8,13,10,12,10,2,3,4,8,9,11,13,18,13,15,15,15,5,,2,17],[8,2,8,19,7,1,12,10,9,17,1,11,6,4,1,3,6,8,11,2,11,1,9,11,,3,19,13,3,11,12,17,6,9,15,4,6,18,11,13,9,4,19,5,9,9,1,4,19,,9,6]]\n",
      "                                                                    ^\n",
      "SyntaxError: invalid syntax\n",
      "\n",
      "Worker 2 started\n",
      "Queue url: https://sqs.us-east-1.amazonaws.com/469282757936/queue2\n",
      "\n",
      "Traceback (most recent call last):\n",
      "  File \"/home/ec2-user/./worker.py\", line 33, in <module>\n",
      "    matrix_b = literal_eval(matrix_b)\n",
      "  File \"/usr/lib64/python3.9/ast.py\", line 62, in literal_eval\n",
      "    node_or_string = parse(node_or_string, mode='eval')\n",
      "  File \"/usr/lib64/python3.9/ast.py\", line 50, in parse\n",
      "    return compile(source, filename, mode, flags,\n",
      "  File \"<unknown>\", line 1\n",
      "    [[3,4,8,12,1,19,6,9,15,15,4,8,12,11,8,11,12,15,6,13,10,12,5,2,11,15,2,2,15,0,3,19,4,13,12,14,17,15,15,13,17,19,14,12,3,9,4,4,18,14],[17,1,6,12,14,10,2,12,14,8,7,2,17,12,5,0,19,12,9,15,0,13,13,5,12,19,14,0,4,18,10,15,0,6,12,17,12,11,16,17,0,3,7,10,14,18,2,0,16,12],[1,19,17,13,3,0,12,4,19,19,13,4,19,15,4,12,14,8,11,10,17,13,13,6,,3,13,2,3,9,16,11,5,9,18,3,2,4,17,1,2,0,17,3,17,9,10,9,10,11,17],[4,2,13,7,3,5,0,8,1,7,5,9,17,11,17,14,17,16,0,16,14,7,12,5,,2,4,18,12,8,18,15,2,18,7,18,9,4,4,9,14,7,11,0,16,12,5,5,1,10,0],[16,7,18,6,3,2,4,12,7,19,16,14,19,17,18,1,5,18,12,5,0,19,8,6,,2,1,18,0,3,13,18,5,17,12,8,13,16,0,4,2,11,13,13,14,2,0,11,15,14,19],[13,16,11,6,13,8,2,0,16,1,13,16,7,7,6,16,0,9,4,6,1,13,3,1,,5,0,5,0,13,7,10,5,16,1,10,0,0,2,16,14,0,9,14,17,3,11,15,0,17,18],[19,12,10,4,13,17,7,14,15,17,10,16,16,11,0,10,11,6,18,6,10,17,14,3,10,5,18,15,0,6,1,11,9,12,14,16,2,5,10,5,14,13,19,3,15,3,17,16,17,1],[0,18,18,19,9,9,7,19,12,17,6,9,19,18,5,7,4,19,13,0,7,3,14,14,,5,4,12,18,7,5,2,10,12,3,13,13,11,9,12,5,8,5,15,16,15,18,7,7,12,19],[15,10,6,9,4,14,10,10,13,13,18,5,3,16,12,10,19,7,3,5,7,7,12,12,,7,3,1,16,19,7,3,9,16,1,9,3,17,18,13,5,14,5,4,16,9,1,3,0,,5,4],[10,10,9,14,11,1,1,11,17,9,18,17,11,6,5,17,0,8,5,1,13,11,15,11,17,4,1,3,3,17,11,6,1,12,17,14,13,18,7,1,3,5,5,9,4,15,6,10,13,14],[16,10,17,10,2,10,14,9,7,10,19,4,16,5,15,6,2,17,15,1,3,7,1,17,,2,0,18,6,2,11,6,10,1,2,2,1,9,16,1,5,14,3,4,9,8,19,17,9,10,12],[8,17,2,3,17,9,10,19,4,5,18,7,11,14,7,4,15,1,10,7,0,17,5,14,,6,4,2,5,16,14,15,9,16,0,5,13,4,16,19,4,9,2,4,15,1,17,4,14,12,4],[3,9,2,12,2,11,15,13,10,6,12,15,2,7,16,0,16,1,16,12,18,15,15,11,13,4,1,14,2,1,2,15,5,9,6,16,6,15,19,12,3,3,9,4,17,8,12,11,,8,8],[17,19,17,11,11,16,2,6,9,17,18,19,16,3,6,2,11,0,11,13,19,11,13,3,13,5,5,14,13,1,19,19,17,5,15,19,4,6,4,16,17,1,8,6,2,15,14,1,,0,9],[18,14,19,9,9,2,18,17,8,14,15,4,4,3,15,13,10,2,3,17,8,2,18,4,,7,8,7,0,9,8,10,18,6,3,15,14,6,4,0,11,18,2,3,11,7,15,12,6,10,6],[5,19,14,8,3,8,5,8,6,15,11,14,8,16,11,15,15,16,15,14,2,4,18,12,,2,12,7,3,2,5,14,16,6,12,8,18,8,9,8,7,7,15,18,0,3,0,18,17,,0,15],[10,0,19,6,1,15,17,5,6,18,14,14,0,5,1,12,1,6,2,4,18,16,0,7,16,6,11,4,14,5,12,15,19,10,17,12,0,15,10,11,0,2,15,1,17,8,13,0,16,10],[5,6,3,13,17,11,0,16,10,5,0,9,14,6,12,8,12,17,15,1,18,9,7,19,,0,2,16,0,19,3,9,10,15,6,11,18,5,3,18,4,17,12,11,1,1,5,16,1,,2,8],[7,11,5,8,15,12,19,9,4,8,0,9,18,19,14,13,6,18,12,17,7,8,8,6,12,14,9,1,4,19,10,17,3,14,14,15,17,3,7,5,12,2,1,12,11,18,16,7,19,3],[16,19,0,6,13,5,3,6,18,7,2,14,18,11,8,0,0,6,8,3,18,14,9,2,,8,9,17,3,12,3,18,15,2,0,2,17,10,1,8,11,9,11,6,19,4,13,0,9,,5,1],[5,7,14,16,11,19,18,10,2,12,6,13,19,5,3,13,5,9,15,5,10,11,18,6,,3,15,14,8,16,8,3,5,2,15,12,10,14,11,0,6,5,2,18,10,14,3,18,3,,9,13],[1,8,18,2,16,10,2,10,15,2,9,2,10,7,2,13,17,4,10,16,7,5,6,18,16,12,19,17,12,14,0,3,15,6,6,12,9,0,15,2,3,10,14,4,7,13,3,14,,8,7],[14,10,0,6,16,19,0,7,5,5,17,7,4,11,14,12,2,17,6,19,7,13,8,6,14,18,13,18,7,17,1,6,12,17,10,11,4,12,2,18,1,8,0,0,2,18,2,14,14,3],[16,9,17,17,18,3,13,4,16,3,1,1,8,16,11,9,6,1,12,10,1,10,6,0,,3,17,2,1,9,15,19,14,6,19,2,3,12,18,17,1,16,13,5,18,7,3,8,12,13,0],[1,12,5,17,8,4,5,9,16,10,0,5,7,9,9,5,0,0,11,18,19,19,3,7,,1,15,11,15,1,8,15,17,19,4,5,8,13,12,7,1,10,6,14,15,5,17,4,7,,8,2],[5,19,15,18,14,5,7,4,2,0,15,16,3,12,15,1,7,5,8,13,16,19,8,12,,2,0,0,15,4,1,9,13,8,13,0,16,18,19,14,4,1,17,7,18,9,9,5,0,10,13],[4,11,3,18,11,9,16,4,5,6,2,0,9,5,17,5,17,19,1,19,16,11,8,3,,7,19,2,19,13,10,1,17,13,11,2,14,10,8,13,8,9,8,12,7,16,3,12,15,12,14],[6,10,5,17,9,19,14,9,14,3,6,8,3,1,3,18,9,0,16,9,5,9,11,13,,9,3,15,14,0,13,2,8,16,17,17,8,12,15,1,11,10,1,1,19,14,4,14,13,,1,14],[6,19,13,12,11,12,11,5,10,6,10,9,1,13,14,7,12,16,3,16,3,5,7,5,,3,19,19,3,6,17,17,13,6,1,18,17,5,9,3,10,12,9,2,5,5,10,19,15,12,13],[7,1,7,1,6,17,19,9,0,17,4,3,1,4,7,5,15,7,6,1,2,3,11,7,10,15,8,18,18,5,19,4,13,3,9,9,7,10,15,10,18,15,3,17,13,18,4,1,17,17],[19,9,9,15,10,19,12,16,11,7,6,18,3,19,3,14,11,13,1,4,3,3,7,12,14,13,15,2,18,10,6,8,8,15,6,14,1,9,17,19,14,13,7,3,14,17,18,6,19,12],[5,3,17,6,12,12,5,2,3,17,6,10,12,2,15,7,12,18,0,14,17,16,10,9,,0,2,6,13,3,8,1,15,1,1,15,2,12,13,13,18,14,16,9,16,9,12,19,9,13,16],[19,8,10,0,7,7,2,12,8,2,10,1,19,6,9,6,11,13,10,13,14,8,15,11,13,9,15,5,16,19,14,14,12,6,10,14,7,6,4,15,5,3,6,2,13,13,14,7,,4,2],[9,8,18,16,16,16,12,7,12,13,14,7,2,18,15,19,4,16,11,12,4,5,4,8,10,1,12,17,16,7,16,15,19,4,16,18,16,9,5,5,4,16,9,17,8,3,5,14,10,11],[7,6,17,4,13,13,6,16,2,9,15,3,19,7,2,5,19,10,16,9,0,14,10,1,,0,6,9,11,8,12,11,6,16,5,6,0,14,16,12,9,10,13,3,12,8,19,3,18,,8,15],[9,7,14,17,19,12,19,1,4,6,10,2,8,6,7,4,6,5,1,8,13,9,9,4,15,9,6,2,16,17,1,10,6,6,12,1,9,19,10,18,12,17,4,3,16,4,0,19,19,6],[13,1,10,8,11,0,17,16,11,3,5,12,16,19,13,3,8,12,1,3,0,16,5,19,,3,0,14,13,12,3,14,7,10,10,14,13,8,1,9,12,16,6,5,15,2,11,5,6,17,7],[0,19,7,7,2,3,17,1,17,13,0,5,0,18,12,9,13,11,0,17,4,13,15,18,,1,4,16,6,1,11,3,8,7,16,11,10,7,6,18,2,7,19,10,15,10,8,13,7,,3,19],[6,0,8,12,13,3,4,0,0,2,10,4,7,1,2,16,5,4,10,19,8,2,18,16,18,0,7,0,17,10,7,14,2,16,9,4,13,14,10,16,1,14,2,7,3,17,17,15,19,7],[0,13,12,1,15,0,1,14,1,10,7,0,3,1,12,19,3,10,15,8,14,2,15,17,13,19,16,11,8,6,5,19,12,3,4,5,18,8,15,11,19,15,0,1,18,3,5,3,16,1],[16,14,18,11,19,14,9,5,13,7,13,1,4,8,13,0,3,6,13,5,8,14,16,10,14,16,5,7,5,14,19,1,0,5,18,18,0,3,1,0,2,19,4,12,15,17,2,11,,6,9],[12,14,13,6,17,7,18,7,4,17,3,6,13,4,13,2,0,17,17,0,2,7,11,5,18,11,12,11,10,13,19,12,16,14,9,14,5,5,3,2,5,6,1,12,11,16,4,0,,3,1],[15,19,16,9,11,13,4,13,2,10,19,8,3,4,12,15,18,8,5,14,16,17,15,9,,3,0,4,18,0,8,15,9,2,11,2,14,7,16,15,1,7,3,18,13,12,17,9,15,13,16],[5,6,15,4,1,12,2,18,10,6,10,10,8,15,16,4,15,1,16,12,17,17,8,13,,3,18,11,6,4,19,0,19,7,6,3,12,2,10,10,19,11,1,8,9,18,6,17,5,,8,3],[3,14,0,13,7,10,15,15,12,8,3,0,2,13,19,7,7,8,12,15,8,10,12,17,15,11,17,13,17,8,17,11,17,9,0,15,18,18,16,7,6,3,9,14,10,7,12,14,,1,6],[6,11,0,8,15,2,16,7,11,11,0,7,11,15,16,8,8,13,19,0,15,2,0,18,,0,14,6,8,19,9,6,14,15,1,5,12,6,16,3,16,8,13,7,19,0,15,12,19,11,7],[7,18,19,1,15,5,16,17,19,2,19,3,17,18,2,19,1,8,11,8,5,14,18,0,10,0,11,11,16,6,9,3,9,2,19,19,17,10,1,4,4,2,8,6,6,15,10,12,,7,0],[14,9,9,12,8,19,17,16,2,18,11,14,18,11,11,4,6,7,3,10,3,5,13,8,,7,8,6,12,16,18,15,7,13,1,10,16,3,14,11,16,5,12,9,7,15,16,10,11,,1,9],[1,11,0,13,12,7,12,19,2,6,17,8,16,6,13,16,8,19,17,11,16,4,9,12,17,17,7,5,1,5,10,14,13,8,14,8,0,18,7,18,2,5,14,16,15,19,15,9,17,14],[12,18,15,10,3,7,6,19,5,3,8,4,3,1,13,19,2,8,15,7,6,1,19,18,,6,15,10,11,1,10,18,9,15,12,5,4,8,1,2,9,16,6,4,7,7,12,15,7,,4,2]]\n",
      "                                                                                                                                                                                                                                                                                                                                             ^\n",
      "SyntaxError: invalid syntax\n",
      "\n",
      "Worker 3 started\n",
      "Queue url: https://sqs.us-east-1.amazonaws.com/469282757936/queue3\n",
      "\n",
      "Traceback (most recent call last):\n",
      "  File \"/home/ec2-user/./worker.py\", line 33, in <module>\n",
      "    matrix_b = literal_eval(matrix_b)\n",
      "  File \"/usr/lib64/python3.9/ast.py\", line 62, in literal_eval\n",
      "    node_or_string = parse(node_or_string, mode='eval')\n",
      "  File \"/usr/lib64/python3.9/ast.py\", line 50, in parse\n",
      "    return compile(source, filename, mode, flags,\n",
      "  File \"<unknown>\", line 1\n",
      "    [[14,4,7,17,14,7,19,2,2,19,2,5,11,8,16,8,19,12,0,15,15,2,19,0,13,4,8,7,13,10,9,8,19,10,17,19,0,14,13,4,11,3,4,5,3,15,6,10,12,12],[9,15,6,15,0,11,13,7,1,9,10,19,0,0,13,6,12,0,14,10,12,3,18,13,,3,11,7,2,7,18,10,5,15,11,6,3,19,11,7,11,10,16,17,17,10,12,15,9,,7,7],[1,4,10,16,12,7,12,6,2,15,13,16,13,0,5,11,6,2,7,13,19,14,0,15,14,8,15,8,18,0,11,6,6,8,9,13,11,19,15,5,12,19,14,14,16,17,11,2,,1,3],[7,7,17,5,0,14,15,13,13,10,7,0,8,9,18,0,15,2,6,8,1,6,16,15,,4,3,2,14,14,16,6,13,1,15,3,7,2,19,1,3,10,12,15,6,8,3,10,17,15,12],[7,13,6,2,9,18,17,9,14,0,8,10,12,18,16,12,4,18,18,2,6,14,18,1,,2,14,5,12,0,16,7,1,19,15,16,15,15,16,18,14,17,2,19,3,15,5,1,3,,6,15],[15,2,0,0,13,15,1,4,16,18,9,18,11,16,11,1,15,16,3,13,7,8,17,2,12,4,9,19,16,3,19,12,10,15,9,2,12,9,0,16,19,12,5,19,14,12,18,0,,9,9],[18,3,1,5,5,7,8,10,0,14,11,5,4,0,19,4,16,15,13,11,6,19,2,7,14,19,1,4,10,1,7,6,12,14,17,7,19,12,3,2,13,16,0,2,12,2,16,18,,3,13],[11,17,17,12,8,19,14,3,18,18,17,2,4,3,17,8,10,19,15,9,12,1,3,6,15,11,4,5,14,7,2,3,17,12,12,9,13,19,5,1,9,0,13,12,8,10,19,9,,8,4],[4,15,5,19,4,3,14,12,0,16,18,11,13,11,3,14,10,4,14,18,7,8,17,8,,1,12,2,0,6,3,15,13,11,1,4,17,6,13,16,9,13,0,9,7,19,8,7,17,19,2],[15,1,9,1,19,18,19,11,12,0,2,14,11,2,17,9,13,0,17,9,0,13,0,12,12,14,10,14,9,12,12,13,1,18,0,10,18,7,2,14,10,11,17,15,10,4,6,19,11,19],[5,15,3,16,7,5,3,17,7,7,13,14,8,10,11,5,4,11,9,8,6,11,9,15,,8,0,2,7,16,3,0,15,12,13,8,3,12,4,11,19,9,10,2,7,14,4,17,10,16,13],[12,4,7,6,3,4,3,4,15,7,8,10,9,3,11,2,7,6,2,9,14,17,5,2,,3,17,18,16,17,2,9,5,2,7,1,17,2,19,16,0,15,8,7,3,5,10,12,13,12,19],[10,17,2,14,10,16,12,7,16,1,1,15,15,2,14,19,8,4,2,18,19,5,8,1,,3,8,1,12,14,18,18,6,2,11,14,19,3,18,2,11,12,1,9,11,6,1,6,12,16,7],[3,2,5,3,16,3,12,6,10,3,12,11,16,17,0,10,19,13,18,6,12,18,9,19,,8,5,6,5,0,3,3,17,2,0,7,14,14,7,4,5,6,13,7,11,0,9,14,11,,7,15],[13,14,7,0,15,9,13,6,1,13,17,10,15,17,3,8,11,2,0,17,9,18,1,14,,7,11,6,18,12,18,3,11,9,0,3,13,0,18,12,9,9,8,7,5,13,15,17,9,11,1],[4,5,18,0,16,15,16,6,15,19,3,10,2,11,6,2,2,2,9,6,9,0,19,1,,4,15,1,5,2,10,3,19,15,17,18,2,15,1,4,12,4,8,7,14,14,10,0,13,16,7],[9,17,7,1,4,0,12,14,18,9,1,15,0,1,0,16,4,1,12,14,11,13,2,4,,7,17,9,9,4,4,0,11,2,16,18,11,13,14,10,12,3,3,5,11,2,11,17,16,,7,4],[3,13,0,19,10,8,2,1,16,8,16,6,1,15,2,14,4,15,3,10,19,12,11,8,16,10,9,15,6,19,5,18,12,4,18,0,19,19,15,17,1,15,14,18,0,16,3,9,17,19],[19,18,13,0,16,4,7,15,1,9,14,16,11,0,7,18,17,3,18,9,19,0,13,5,,3,2,3,17,18,8,1,16,11,13,3,16,13,14,15,6,2,11,6,10,12,13,4,6,17,7],[12,0,0,15,6,17,3,4,6,16,17,15,0,14,14,16,8,2,14,19,11,13,16,13,,1,4,2,16,5,2,14,6,3,14,5,10,1,19,15,10,1,18,2,6,8,8,9,12,13,5],[16,2,10,0,3,10,4,8,0,7,13,3,15,11,15,9,2,13,3,18,1,4,5,13,,0,1,18,8,3,10,19,11,18,17,8,11,7,2,6,13,0,18,12,15,0,6,19,0,,7,2],[19,6,0,14,19,9,6,0,4,16,16,11,4,0,5,13,14,11,7,11,5,9,12,10,12,8,0,10,3,13,6,1,11,7,5,11,2,14,0,2,11,19,7,10,18,19,16,19,13,1],[6,15,19,1,8,3,0,12,9,2,16,7,18,13,19,7,9,10,17,17,18,14,14,19,,5,5,3,15,0,2,3,11,3,17,12,16,11,11,4,16,16,15,15,14,9,14,11,5,,4,5],[14,8,1,18,16,1,5,2,12,14,13,0,0,12,6,4,2,11,14,16,7,7,3,14,,1,9,1,16,18,17,14,1,5,9,5,0,12,7,12,10,16,8,18,0,18,1,14,18,14,0],[5,11,5,2,9,6,12,11,8,15,5,11,6,9,6,17,9,10,17,2,4,11,8,3,,8,9,15,7,14,9,18,1,0,1,12,12,4,4,6,12,14,10,16,2,4,17,4,17,12,7],[17,19,6,12,1,7,6,15,17,4,5,3,2,15,17,18,6,14,12,2,7,5,16,10,,6,15,3,16,14,10,8,13,4,5,11,10,1,7,11,0,3,13,13,2,10,0,5,7,,3,4],[1,2,11,12,8,11,10,1,5,3,15,1,4,15,4,8,5,9,13,14,7,4,5,7,10,0,11,0,8,0,10,11,19,19,7,6,0,1,6,0,12,9,19,19,16,0,5,0,,7,0],[0,12,17,11,12,1,14,8,11,8,9,6,13,3,18,4,4,11,9,2,2,11,19,2,,4,7,15,0,6,16,15,6,5,15,7,17,4,4,16,0,4,5,19,4,7,19,14,16,11,19],[8,15,6,16,15,14,16,10,18,17,11,16,8,18,5,16,2,17,12,14,11,0,11,4,,9,8,18,7,13,6,14,6,12,3,7,0,17,14,18,15,13,8,0,8,4,16,7,14,,0,0],[3,19,2,8,1,13,5,19,6,7,7,15,2,8,7,6,18,6,5,8,11,19,14,0,,6,10,12,10,5,11,14,11,14,14,10,10,1,19,14,7,9,5,10,11,7,4,13,17,19,13],[18,1,1,5,17,11,19,0,10,15,9,13,13,8,5,17,12,1,12,5,1,0,0,18,14,10,2,7,1,8,12,13,17,16,17,19,18,1,0,13,0,6,12,9,13,1,18,10,,4,2],[13,3,19,15,19,3,17,19,4,5,17,4,5,6,14,15,12,9,14,13,0,13,11,10,,3,10,5,11,3,9,13,14,3,13,6,7,1,2,13,3,3,3,1,14,4,11,12,9,18,13],[6,14,19,7,11,7,17,18,6,8,19,4,5,7,15,0,6,6,7,1,1,9,15,18,17,0,7,5,10,10,2,4,3,3,4,5,7,14,10,16,12,9,11,18,17,10,6,16,,6,13],[4,7,8,13,12,1,16,9,5,2,8,11,16,15,3,15,11,16,9,18,18,11,2,14,,9,5,11,16,5,0,16,10,1,16,10,18,10,15,4,17,1,1,13,19,17,11,13,4,12,4],[12,7,0,1,8,19,3,5,17,16,13,7,17,15,10,8,3,8,6,0,16,11,6,0,,2,1,0,14,9,16,0,8,9,4,7,5,14,4,6,8,7,6,2,19,13,18,15,4,13,17],[5,6,4,9,9,14,13,3,0,8,11,18,1,3,9,9,13,11,2,15,5,11,10,7,12,19,3,19,7,14,2,6,10,0,5,10,9,10,13,13,10,5,2,14,5,8,15,12,11,8],[18,1,5,2,16,8,0,5,11,10,0,5,8,0,9,1,10,8,15,2,3,16,12,7,,7,7,7,10,9,13,12,6,18,10,16,7,1,13,4,10,1,14,17,12,16,8,7,0,15,12],[18,1,1,11,1,9,5,12,14,9,9,19,5,5,5,13,0,5,13,12,1,0,6,18,,6,5,3,0,6,9,17,11,1,2,1,15,8,15,7,9,1,15,14,14,16,7,17,4,,7,9],[1,3,19,11,16,17,17,17,5,15,14,8,11,16,14,7,6,8,13,9,0,14,13,17,,2,12,3,4,14,1,12,4,13,12,0,17,9,16,14,10,14,8,13,4,5,14,17,9,,0,4],[4,5,9,15,2,11,15,19,3,13,11,10,5,2,6,9,9,13,7,19,19,1,1,8,,7,6,10,0,8,19,19,18,13,15,8,18,14,2,15,2,7,11,16,8,12,2,16,17,,2,12],[15,10,0,18,16,6,10,18,12,2,10,8,4,3,17,16,14,7,17,0,8,17,14,19,11,18,9,19,7,11,6,13,18,15,19,7,1,11,17,8,8,11,3,13,8,7,10,4,,9,2],[15,0,8,15,17,1,17,8,12,10,5,12,6,12,19,17,11,18,4,6,5,19,4,5,,7,15,4,1,5,8,17,6,13,18,4,6,15,18,9,6,1,17,9,8,8,11,17,4,,0,7],[19,2,0,15,15,11,14,1,5,4,6,17,9,8,17,17,0,12,16,0,11,3,0,7,15,15,14,12,11,15,9,8,18,8,16,9,1,6,1,3,8,7,5,15,8,7,12,14,14,4],[1,19,0,11,11,9,13,15,17,19,3,15,17,5,10,8,2,9,14,7,19,17,2,2,17,15,5,12,5,13,19,17,13,8,3,12,3,18,11,10,9,2,4,8,17,13,7,15,18,9],[7,5,15,2,14,13,10,7,15,2,17,10,0,19,6,2,6,7,3,19,4,14,15,15,12,16,2,10,3,5,17,2,3,17,2,0,3,10,15,14,1,2,18,3,8,13,5,8,19,11],[3,12,17,14,4,19,10,9,10,7,11,3,13,17,14,2,7,3,3,10,7,3,8,9,,8,5,10,1,6,2,10,19,0,11,8,0,12,9,14,5,6,14,18,2,18,7,19,8,16,15],[6,11,8,13,3,11,1,4,14,11,14,7,14,7,9,10,13,7,8,2,10,8,11,14,,7,0,17,2,2,18,8,16,15,12,9,11,6,5,6,8,16,6,15,15,8,6,6,12,15,18],[2,1,14,9,9,0,0,13,3,13,9,5,19,1,11,3,0,0,1,11,6,2,15,11,18,11,12,14,9,15,10,17,10,2,15,2,6,8,2,2,2,17,1,2,19,13,1,13,13,4],[11,1,11,14,16,15,0,8,0,18,19,16,5,7,7,7,19,10,14,5,13,12,9,7,,2,7,16,16,0,8,4,14,0,2,11,14,5,19,10,1,14,12,7,15,18,13,13,1,19,17],[14,16,9,7,6,6,12,7,2,6,7,15,6,2,12,12,4,11,6,9,9,3,8,2,,0,0,1,11,1,1,6,6,3,4,6,5,6,18,3,8,10,10,1,7,12,8,14,15,,6,8]]\n",
      "                                                                                                                                                                                                   ^\n",
      "SyntaxError: invalid syntax\n",
      "\n",
      "Worker 4 started\n",
      "Queue url: https://sqs.us-east-1.amazonaws.com/469282757936/queue4\n",
      "\n",
      "Traceback (most recent call last):\n",
      "  File \"/home/ec2-user/./worker.py\", line 33, in <module>\n",
      "    matrix_b = literal_eval(matrix_b)\n",
      "  File \"/usr/lib64/python3.9/ast.py\", line 62, in literal_eval\n",
      "    node_or_string = parse(node_or_string, mode='eval')\n",
      "  File \"/usr/lib64/python3.9/ast.py\", line 50, in parse\n",
      "    return compile(source, filename, mode, flags,\n",
      "  File \"<unknown>\", line 1\n",
      "    [[16,14,5,4,19,5,3,7,19,13,11,6,11,11,0,5,15,7,11,8,3,17,9,5,,0,6,3,18,7,8,15,14,5,15,4,0,15,7,19,12,13,18,0,19,11,10,16,4,12,19],[5,7,3,12,14,9,3,19,9,1,10,8,5,19,19,12,17,11,2,6,11,9,2,9,19,11,13,3,0,8,13,5,15,2,5,8,8,15,9,0,12,5,7,4,11,0,4,1,,4,0],[15,5,4,9,13,4,10,14,12,1,4,14,11,19,1,6,3,5,11,1,15,13,13,12,,0,19,3,0,2,18,16,14,2,4,15,17,19,2,2,4,17,12,14,9,5,11,19,10,19,3],[4,0,0,3,13,7,1,5,2,11,18,11,12,7,11,6,17,19,12,12,0,0,3,7,13,17,2,17,5,8,5,12,14,7,17,4,12,1,9,1,14,14,18,16,14,5,11,0,,4,3],[2,4,8,7,8,2,14,17,11,10,7,1,3,0,18,3,19,9,11,0,8,9,7,5,,1,2,13,1,4,5,9,12,18,5,17,8,16,12,11,3,13,11,0,7,14,14,0,5,12,8],[2,7,19,5,1,5,0,7,9,1,2,13,10,15,9,19,0,8,5,17,12,1,9,11,,9,17,9,11,17,0,11,2,4,0,3,18,7,1,18,9,15,19,6,14,5,3,9,15,19,0],[1,18,9,10,0,9,4,5,0,12,9,18,8,13,3,3,8,8,3,17,15,6,19,8,14,9,13,10,19,4,9,7,0,6,5,18,19,15,0,17,2,16,7,14,19,11,1,8,16,2],[2,18,0,15,15,9,17,8,18,13,17,15,3,8,9,19,17,18,13,7,13,15,17,12,,2,15,19,10,5,8,19,14,13,2,19,4,8,8,5,17,0,13,7,9,18,9,5,9,14,10],[13,8,4,12,9,6,2,7,0,17,8,7,14,7,16,13,17,16,14,1,19,13,3,11,,2,15,14,2,3,12,16,10,16,2,17,15,16,12,0,10,5,9,0,9,15,12,13,10,,0,8],[14,5,12,18,11,14,11,4,5,17,0,16,1,12,8,18,9,5,16,13,9,0,2,16,11,3,12,16,12,17,7,5,14,9,0,6,5,16,1,10,16,17,3,3,6,5,13,5,,6,11],[7,0,0,0,4,14,2,11,12,3,11,12,10,6,14,9,18,11,7,2,17,1,16,17,,6,11,8,0,2,14,17,8,9,11,17,10,7,7,7,13,15,11,7,15,5,7,13,4,17,19],[19,17,4,11,2,5,3,19,5,7,13,16,9,4,15,6,17,13,6,12,12,4,3,2,11,15,2,3,2,12,11,8,19,15,10,18,6,14,8,19,6,2,8,2,12,8,3,13,14,3],[10,2,19,16,18,2,19,6,7,13,11,11,16,14,9,8,18,10,7,9,1,5,9,19,,7,11,5,16,14,14,9,14,5,7,14,10,9,0,14,4,14,1,17,3,14,4,11,13,10,17],[9,2,7,2,14,17,8,9,10,8,19,19,7,9,4,11,7,19,10,5,10,19,17,4,,1,11,9,1,12,15,5,19,2,12,13,10,8,7,13,14,19,7,8,19,12,10,1,17,,0,12],[2,17,4,19,17,1,14,16,2,2,3,13,0,13,3,15,6,18,10,9,5,6,3,3,,4,18,1,11,6,17,16,12,2,10,18,8,13,16,17,17,10,5,19,18,0,16,1,4,12,12],[1,15,14,2,2,4,11,3,0,11,4,14,5,5,14,4,6,10,5,6,9,14,0,9,,5,6,12,15,5,12,4,9,19,13,19,0,8,16,3,0,9,0,5,6,17,6,12,0,,4,18],[12,11,2,5,6,16,4,9,17,2,1,13,12,2,3,13,14,9,8,3,7,0,7,10,,2,1,6,16,18,19,8,4,4,10,18,18,10,18,19,2,11,10,10,9,13,1,13,16,,6,2],[0,17,4,9,1,1,5,0,16,12,5,13,15,4,4,7,1,3,15,6,19,10,14,4,12,13,19,6,19,17,19,0,13,12,13,19,15,13,12,8,7,12,2,1,3,0,11,10,,1,17],[0,2,12,2,3,10,15,11,9,18,1,12,0,17,10,6,7,19,2,3,6,8,15,3,,2,13,19,9,5,8,7,2,11,13,0,9,5,9,16,1,5,19,9,16,15,12,4,15,19,9],[10,6,18,5,1,14,19,2,1,19,16,13,7,7,5,16,4,1,2,2,2,2,10,13,17,16,4,19,10,2,9,8,19,10,14,7,6,0,9,9,0,3,12,14,8,3,18,9,15,6],[0,18,5,15,19,4,0,14,1,13,16,19,13,19,14,4,17,2,11,1,8,12,16,7,19,2,10,16,10,4,2,14,12,7,19,16,4,13,19,9,19,2,10,8,0,19,6,7,11,13],[18,18,11,0,5,7,17,13,1,12,19,6,18,7,2,9,19,9,0,5,15,2,11,18,18,14,13,16,14,8,18,11,14,14,18,15,10,18,4,18,3,16,10,15,16,5,5,14,12,9],[4,19,5,16,14,6,15,15,5,12,11,9,17,16,9,7,13,8,11,5,2,0,5,19,10,18,10,19,2,7,8,9,0,12,16,3,6,11,2,1,13,16,15,18,12,5,11,0,15,1],[8,17,5,4,10,10,6,12,5,0,8,5,0,11,17,8,9,1,8,10,2,10,1,3,19,3,12,1,9,14,0,5,17,2,6,17,16,3,3,5,12,11,6,5,15,13,9,18,,6,17],[14,7,8,2,4,6,3,8,12,12,2,5,15,14,13,15,3,18,5,1,8,0,13,2,,1,1,5,3,3,17,2,8,9,3,2,5,18,14,19,16,8,13,11,18,7,12,4,17,18,17],[19,10,2,15,17,12,0,13,8,0,8,0,8,19,16,12,7,15,10,16,0,14,14,12,,0,7,12,0,4,0,17,3,16,14,19,2,0,11,1,19,16,8,18,3,2,13,2,12,,5,10],[7,15,9,12,11,4,0,16,18,1,10,11,11,2,6,8,1,5,4,10,17,11,3,0,,1,10,6,19,14,4,10,6,2,6,8,6,11,5,3,3,14,6,14,6,13,2,3,18,17,3],[13,12,0,1,13,6,8,0,16,13,7,1,13,6,16,15,10,7,4,19,2,12,19,14,19,12,14,10,18,17,6,15,5,13,12,7,1,18,4,18,18,18,12,19,0,14,17,3,,8,9],[0,12,19,5,9,0,1,5,8,17,12,13,4,6,1,19,4,18,4,19,6,11,5,14,,7,11,19,18,11,3,16,0,13,5,11,6,19,18,5,6,7,11,18,14,11,18,15,9,,2,10],[5,12,0,3,4,16,4,9,7,13,14,9,18,11,6,1,9,9,5,0,6,11,14,17,15,5,11,1,8,14,6,18,17,1,2,5,9,12,16,1,19,2,14,15,13,15,18,17,,2,14],[11,9,19,17,12,7,12,16,15,17,14,11,2,16,10,8,19,12,1,5,16,1,3,16,,3,0,6,11,14,14,12,0,5,12,17,5,2,11,17,5,4,0,16,15,2,14,5,19,,8,12],[18,1,6,2,0,19,19,14,7,0,0,17,0,2,9,4,3,18,13,16,0,17,6,17,,2,17,6,2,3,14,16,14,12,2,13,14,2,4,18,10,7,11,11,15,16,14,18,5,,1,15],[15,6,6,6,5,10,2,7,3,12,3,19,1,8,5,10,7,2,1,5,17,2,6,1,15,9,13,18,19,4,0,14,2,11,5,11,10,15,19,7,8,18,8,0,2,0,16,3,,6,6],[5,7,17,4,6,18,9,7,6,7,7,14,15,4,14,1,7,14,8,7,9,16,0,10,,9,0,5,11,18,14,13,19,6,8,18,2,3,11,10,7,4,16,15,6,16,3,1,5,14,11],[5,3,13,11,2,12,3,9,1,5,12,8,13,14,19,15,16,2,1,8,3,1,16,13,10,0,10,4,18,10,10,1,6,3,6,13,0,6,7,1,16,11,6,1,19,1,13,18,,6,12],[4,19,19,9,9,17,8,4,10,15,18,17,17,16,16,0,4,3,7,6,4,8,6,10,16,18,1,3,0,17,17,15,13,10,0,12,18,5,5,17,6,5,17,9,11,1,14,1,,0,9],[1,11,5,1,5,15,14,12,14,15,13,19,5,14,0,17,10,13,4,17,4,8,0,13,,8,15,12,3,19,11,7,16,17,3,10,13,10,17,1,0,8,8,12,0,14,14,12,17,,7,18],[18,16,5,9,13,17,0,14,0,1,2,1,8,12,19,18,3,1,9,10,16,19,10,16,,6,18,8,0,11,1,5,0,2,11,19,8,16,11,4,8,19,16,7,12,4,4,18,1,16,1],[10,4,17,9,8,14,18,11,8,15,16,11,13,9,13,8,3,3,12,7,7,8,12,15,11,4,13,0,17,5,4,5,9,10,11,0,18,0,13,8,12,19,15,4,14,1,8,7,15,11],[6,18,14,7,8,12,16,5,3,11,15,3,16,6,19,6,12,13,11,15,2,2,13,4,,8,8,14,9,17,18,0,16,16,4,6,8,0,17,19,11,15,19,4,14,6,0,9,17,,4,17],[13,17,8,18,3,0,4,10,4,8,11,18,4,6,19,8,3,13,4,13,3,7,10,11,,6,11,1,10,16,17,13,16,4,13,16,8,2,8,1,0,8,14,2,4,8,5,13,10,,6,17],[7,3,10,14,3,9,8,16,8,16,15,6,14,11,13,3,17,19,16,1,1,19,2,9,13,5,9,6,8,16,0,4,13,8,2,1,16,14,15,19,12,0,14,15,3,13,4,1,13,12],[5,9,13,19,6,15,18,19,6,6,19,17,16,3,10,12,19,1,17,18,17,9,13,11,19,17,14,5,19,14,11,14,18,1,18,19,4,15,7,12,10,19,7,5,8,6,7,17,15,13],[9,19,12,17,16,11,13,18,8,16,4,4,5,1,15,19,4,3,13,4,18,16,4,0,12,14,5,11,13,5,1,5,3,2,19,12,19,16,11,8,7,4,17,17,6,9,16,4,,1,0],[11,19,19,14,3,5,0,11,15,10,2,11,18,14,8,11,3,1,6,17,9,8,15,7,,9,2,14,16,18,16,6,4,15,0,19,11,0,9,12,14,10,9,10,7,9,6,11,8,12,2],[1,0,19,15,17,17,5,3,4,8,16,6,1,7,3,0,14,5,19,19,1,12,19,9,13,3,2,11,14,0,18,17,1,9,5,19,1,1,8,12,10,0,0,13,18,13,12,13,11,17],[11,6,5,13,14,12,16,12,6,19,10,12,0,18,14,10,10,17,13,2,1,16,12,15,,4,14,16,6,10,13,18,3,6,12,0,2,4,2,0,1,0,12,1,7,5,19,9,14,12,14],[16,3,2,15,11,2,14,2,14,11,15,3,14,1,18,19,3,1,12,0,10,3,16,4,,9,10,16,9,14,16,9,1,15,7,2,0,13,4,0,1,12,15,8,9,4,8,13,9,19,17],[19,18,6,18,5,18,7,3,15,19,6,12,14,0,10,3,10,7,17,19,14,14,4,3,,4,11,8,7,13,8,7,13,7,11,0,2,0,16,5,18,5,6,17,18,6,14,6,17,17,5],[4,12,12,17,8,0,18,1,13,11,18,6,0,19,11,4,18,5,11,0,2,12,2,1,19,10,2,10,6,9,12,14,14,2,2,17,17,10,1,18,2,8,4,15,6,9,16,19,,4,1]]\n",
      "                                                                 ^\n",
      "SyntaxError: invalid syntax\n",
      "\n",
      "Worker 5 started\n",
      "Queue url: https://sqs.us-east-1.amazonaws.com/469282757936/queue5\n",
      "\n",
      "Traceback (most recent call last):\n",
      "  File \"/home/ec2-user/./worker.py\", line 33, in <module>\n",
      "    matrix_b = literal_eval(matrix_b)\n",
      "  File \"/usr/lib64/python3.9/ast.py\", line 62, in literal_eval\n",
      "    node_or_string = parse(node_or_string, mode='eval')\n",
      "  File \"/usr/lib64/python3.9/ast.py\", line 50, in parse\n",
      "    return compile(source, filename, mode, flags,\n",
      "  File \"<unknown>\", line 1\n",
      "    [[3,11,2,16,8,1,19,17,3,7,19,1,3,19,10,6,4,17,9,14,4,16,10,6,18,5,12,7,19,7,7,13,2,17,10,18,15,2,16,12,4,15,7,11,5,16,11,11,19,5],[4,12,1,17,13,8,12,6,2,8,18,12,1,15,6,16,12,4,14,0,5,13,2,16,17,11,11,11,13,6,16,19,9,8,6,6,16,9,9,3,19,11,13,19,5,11,2,10,11,10],[11,0,8,18,19,2,4,10,16,5,18,11,3,1,14,1,15,12,11,3,11,6,8,3,,3,3,4,0,9,2,15,19,12,4,13,16,2,4,6,18,3,19,10,2,10,9,16,1,,8,13],[9,7,15,4,3,2,12,19,16,1,15,4,0,10,2,12,18,18,9,11,3,19,15,18,14,16,11,13,15,4,9,10,15,0,10,17,10,3,1,13,0,8,2,1,3,4,19,16,10,19],[7,13,19,3,2,18,5,8,7,4,14,2,7,0,15,7,17,19,17,14,15,3,3,7,11,9,5,19,7,11,2,16,12,9,2,14,13,18,19,5,10,19,14,19,11,3,8,18,14,18],[8,15,4,14,14,11,8,9,1,12,0,4,19,10,9,6,5,4,11,4,7,5,15,0,13,10,12,11,1,2,13,4,18,8,7,15,9,10,2,7,5,19,15,1,6,2,0,11,19,19],[14,13,3,13,11,19,15,8,15,17,7,3,4,8,11,12,13,10,17,8,6,12,13,12,10,7,14,13,4,4,1,1,12,9,17,4,4,17,7,8,15,1,11,10,6,5,9,1,19,2],[14,14,11,17,11,4,7,4,2,6,17,18,14,4,7,9,12,13,7,10,17,10,15,11,13,6,8,7,15,12,3,19,18,0,16,19,0,3,5,19,16,11,5,0,13,16,10,3,15,16],[12,10,13,11,9,3,0,9,6,13,3,17,15,11,14,2,17,19,4,13,3,10,14,0,,4,9,8,14,6,10,13,6,18,14,8,1,8,10,7,5,5,11,8,1,16,15,12,18,,0,9],[0,6,14,8,18,10,16,5,2,16,1,6,12,9,2,4,2,1,19,7,16,19,8,19,19,4,5,5,1,0,15,15,16,7,11,0,3,0,15,6,14,15,14,4,13,15,5,19,16,16],[10,11,18,11,13,13,7,3,19,13,4,4,15,6,13,14,0,11,9,18,7,19,2,12,15,3,13,3,5,5,14,14,16,10,3,14,16,4,14,3,9,11,11,11,4,2,10,8,17,12],[13,12,15,1,17,2,3,9,0,19,6,12,15,7,12,12,3,17,19,12,0,11,5,14,,4,10,3,11,0,10,0,15,19,2,1,13,1,5,16,12,2,2,17,4,9,14,13,13,,0,15],[8,12,10,14,15,1,7,18,17,7,17,17,5,4,13,2,11,10,17,14,10,9,19,5,14,17,6,6,0,14,5,0,14,15,15,12,9,2,9,7,8,2,15,19,4,16,17,0,16,9],[4,5,11,12,13,17,17,10,3,1,16,6,16,18,2,13,12,16,2,2,13,13,7,0,,5,17,7,2,8,9,8,12,3,10,17,7,9,9,15,15,11,11,17,16,3,5,11,8,,7,12],[2,11,12,6,14,2,18,15,13,7,2,9,7,3,17,0,11,18,19,12,18,12,15,4,19,15,4,9,7,4,12,6,17,7,10,8,11,6,1,18,12,7,12,17,19,14,3,12,18,2],[6,18,0,19,5,11,14,7,2,7,5,11,6,19,18,7,1,17,8,3,8,9,13,5,15,9,16,1,15,8,12,11,14,14,10,8,6,3,11,11,19,15,9,14,19,3,6,18,,5,8],[4,12,14,5,6,17,12,6,17,2,16,8,17,1,19,18,1,19,8,16,0,10,9,17,14,11,10,9,15,2,3,4,5,8,17,6,17,18,9,5,18,17,16,12,5,5,9,17,17,17],[7,11,3,19,9,8,11,17,12,19,0,15,17,8,7,13,10,0,15,19,14,16,10,13,,9,19,4,12,7,3,18,17,4,16,0,10,9,3,6,0,15,13,15,5,2,6,18,8,,7,11],[7,3,12,12,5,6,13,2,17,12,7,13,3,0,9,3,5,3,11,7,3,17,4,8,14,4,12,18,3,6,4,0,5,4,5,6,14,5,2,8,18,3,11,9,15,2,5,17,18,5],[10,10,19,17,14,18,7,14,8,8,4,6,15,8,4,0,19,17,1,13,15,12,13,16,,8,17,6,12,1,6,15,9,10,8,10,16,8,8,13,16,19,6,7,1,18,1,6,15,10,2],[2,19,8,10,11,1,14,15,6,6,15,1,16,14,8,2,8,8,15,16,4,16,2,14,14,11,10,2,11,9,11,19,17,18,9,16,7,11,1,7,0,5,15,1,15,16,5,0,,6,18],[17,10,9,13,11,6,2,16,3,17,14,2,13,16,2,18,3,2,13,10,16,17,11,18,,1,1,12,10,9,17,4,9,15,2,17,14,19,18,12,1,12,13,4,4,17,5,13,9,11,8],[3,16,7,0,12,1,13,8,19,19,4,15,16,6,3,11,0,9,8,18,15,14,12,14,,4,18,12,11,0,4,3,1,17,19,5,14,16,11,0,1,14,6,17,2,19,3,14,12,11,1],[13,15,17,15,15,6,2,5,9,5,2,12,13,3,6,14,10,14,18,14,1,1,19,17,10,13,15,6,14,16,11,8,19,0,18,19,13,15,12,11,4,8,4,0,13,3,3,4,,5,5],[10,14,3,17,11,8,15,14,3,17,13,7,13,17,7,18,15,7,1,4,11,4,14,19,,4,11,14,1,0,7,15,12,11,1,12,3,3,0,6,15,9,17,10,17,16,12,0,6,12,10],[14,6,14,15,10,11,10,15,16,3,19,15,2,16,13,16,14,1,10,9,1,9,13,1,14,3,14,14,19,19,16,4,1,5,13,18,18,4,17,18,8,1,16,0,18,7,17,1,,8,17],[6,4,6,8,3,2,1,17,13,18,12,0,3,0,7,4,10,7,16,14,1,3,17,9,,4,1,6,19,17,10,18,17,17,10,5,5,18,4,1,11,3,15,5,6,14,4,14,9,,9,18],[14,3,19,14,7,14,2,11,10,18,10,14,16,15,15,7,1,8,1,9,14,19,7,3,16,0,9,11,3,12,2,17,4,8,10,13,0,4,15,11,12,0,12,12,8,10,8,12,18,15],[10,4,16,16,1,13,8,19,10,8,4,4,13,2,3,5,17,4,7,8,1,11,18,8,18,1,9,4,1,17,0,11,12,3,7,18,17,1,10,16,19,13,2,17,11,0,5,6,,1,9],[0,16,10,17,14,12,10,4,9,16,17,1,17,13,15,13,16,10,4,7,3,18,2,17,,3,4,4,18,14,3,1,14,1,12,16,7,18,14,13,15,6,0,17,16,0,19,1,5,,2,15],[11,7,2,0,13,13,6,10,2,16,0,6,9,16,2,12,11,3,7,0,10,3,7,12,19,13,5,13,0,9,15,4,17,2,9,0,6,4,10,9,8,4,9,12,12,10,6,2,13,15],[0,18,3,10,5,3,1,9,12,12,16,17,14,10,4,9,17,11,19,7,17,5,16,0,12,9,12,12,2,17,4,9,18,19,10,7,1,14,0,14,4,18,9,16,12,19,11,14,12,10],[14,1,3,14,15,6,11,10,12,14,16,17,16,19,3,19,15,3,18,2,7,6,13,2,,4,4,12,6,5,10,4,12,2,3,10,7,8,0,4,12,6,14,18,12,18,18,18,5,,9,14],[8,7,15,16,6,12,11,17,0,4,4,2,11,4,7,4,3,15,13,6,6,9,8,5,16,17,10,7,14,15,7,3,14,8,2,18,2,13,1,16,15,17,4,10,18,10,3,16,18,17],[2,17,3,4,11,18,16,14,10,12,0,8,8,3,0,8,3,7,15,4,10,11,5,19,14,13,19,11,9,1,9,16,19,8,11,0,0,12,14,10,16,9,10,0,11,15,1,19,,4,3],[11,9,9,2,1,13,18,0,2,17,13,18,8,2,16,5,17,1,17,17,11,0,10,14,,4,1,0,16,1,12,8,15,1,15,3,4,7,11,16,9,15,13,7,2,18,17,9,0,,6,1],[7,10,11,12,19,3,12,5,13,1,16,19,8,15,19,8,4,6,3,6,6,16,16,14,18,14,1,16,15,11,11,16,4,11,11,3,6,7,8,11,0,6,6,6,19,13,6,5,12,13],[3,11,6,1,11,18,14,1,8,16,6,7,10,19,5,7,5,18,11,1,7,12,4,11,,2,15,0,8,0,6,18,5,12,15,5,1,15,0,6,11,16,19,2,6,2,6,17,10,,2,1],[14,14,2,8,5,14,7,8,11,4,8,19,2,2,11,17,9,15,11,14,13,3,8,1,11,10,14,0,0,15,4,13,19,11,10,13,16,2,3,2,18,10,0,14,8,13,0,0,,2,16],[13,9,4,19,3,5,9,2,3,11,19,9,0,9,17,10,18,0,18,10,9,18,10,8,,4,18,13,0,5,15,17,10,8,3,15,19,9,0,6,13,9,8,11,8,18,5,10,17,15,8],[2,4,3,2,16,14,12,18,18,19,3,17,1,3,12,12,14,9,1,12,6,12,19,7,19,13,10,6,14,0,1,1,8,4,5,7,7,4,0,4,7,9,13,1,9,1,17,1,,9,7],[9,18,13,6,0,19,13,7,4,18,15,0,5,7,8,4,0,6,14,3,6,19,15,5,19,18,5,3,16,9,17,15,5,3,12,17,1,9,10,17,3,16,9,10,9,9,2,7,,8,10],[14,18,6,10,3,0,2,11,12,15,2,11,0,6,17,10,13,11,11,13,3,14,13,6,10,2,11,14,16,17,17,15,4,4,8,3,0,4,16,11,17,7,11,18,18,4,18,3,,7,19],[11,15,15,18,4,0,15,12,18,10,17,12,10,10,0,6,9,1,16,19,14,16,14,14,10,6,1,16,2,7,12,14,18,7,7,6,4,6,15,13,12,17,4,4,8,14,15,14,18,12],[10,7,8,11,18,4,17,5,2,11,6,6,11,0,14,8,14,8,13,4,17,16,3,3,16,10,8,14,4,7,19,19,14,16,6,5,0,5,17,10,6,4,2,10,1,9,3,5,13,5],[12,17,15,13,7,10,11,11,15,7,9,16,13,3,4,1,7,9,19,15,6,14,17,7,11,9,17,12,16,2,18,16,15,0,17,2,19,0,13,10,18,13,14,10,19,3,1,6,,3,8],[16,19,4,18,12,5,14,6,7,19,15,0,15,1,3,5,18,8,9,3,7,5,14,18,,5,8,10,5,8,18,11,2,16,7,9,15,0,5,0,15,13,3,5,7,15,12,9,7,,6,14],[12,17,18,12,16,8,4,5,7,4,6,5,12,16,13,14,4,6,13,17,4,11,5,13,18,13,16,16,5,19,1,6,7,0,12,16,9,8,9,15,6,10,0,16,13,12,15,14,12,0],[15,2,9,8,12,7,9,3,10,6,2,15,8,12,1,15,17,6,10,3,12,11,17,19,,7,0,8,1,2,19,3,4,5,19,14,15,4,9,0,11,1,9,17,8,10,16,10,17,,9,13],[8,7,12,0,16,11,5,17,0,3,12,1,9,8,17,15,13,6,2,5,10,17,0,6,,4,1,13,13,11,14,4,2,14,15,2,13,7,15,11,8,13,17,10,0,3,7,13,16,,2,3]]\n",
      "                                                                                                                                                                                                                                                                                                                                     ^\n",
      "SyntaxError: invalid syntax\n",
      "\n"
     ]
    }
   ],
   "source": [
    "for idx in range(len(sshs)):\n",
    "    ssh = sshs[idx]\n",
    "    ip_address = ip_addresses[idx]\n",
    "    start_worker(ssh, idx)\n",
    "    # stdin, stdout, stderr = ssh.exec_command(f'python ./worker.py {idx}')"
   ]
  },
  {
   "cell_type": "markdown",
   "id": "28cd2f92",
   "metadata": {},
   "source": [
    "### ADDITION"
   ]
  },
  {
   "cell_type": "code",
   "execution_count": 64,
   "id": "0e05f66c",
   "metadata": {
    "collapsed": false,
    "jupyter": {
     "outputs_hidden": false
    }
   },
   "outputs": [],
   "source": [
    "ARRAY_SIZE = 1000"
   ]
  },
  {
   "cell_type": "code",
   "execution_count": 65,
   "id": "0c405ed7",
   "metadata": {
    "collapsed": false,
    "jupyter": {
     "outputs_hidden": false
    }
   },
   "outputs": [],
   "source": [
    "arr, arr1 = generate_array(ARRAY_SIZE,ARRAY_SIZE)"
   ]
  },
  {
   "cell_type": "markdown",
   "id": "37c1ee91",
   "metadata": {},
   "source": [
    "## MANUAL COMPUTATION"
   ]
  },
  {
   "cell_type": "code",
   "execution_count": 57,
   "id": "31ac5139",
   "metadata": {
    "collapsed": false,
    "jupyter": {
     "outputs_hidden": false
    }
   },
   "outputs": [
    {
     "name": "stdout",
     "output_type": "stream",
     "text": [
      "Computation time 0:00:00.169016\n"
     ]
    }
   ],
   "source": [
    "addition = matrix_add(arr, arr1)\n",
    "# addition"
   ]
  },
  {
   "cell_type": "code",
   "execution_count": 66,
   "id": "e4a5c51e",
   "metadata": {
    "collapsed": false,
    "jupyter": {
     "outputs_hidden": false
    }
   },
   "outputs": [],
   "source": [
    "INT_ARRAY_SIZE = 50 #int(ARRAY_SIZE/INSTANCE_SIZE)\n",
    "s_arr = split_row(arr, INT_ARRAY_SIZE, INT_ARRAY_SIZE)\n",
    "s_arr1 = split_row(arr1, INT_ARRAY_SIZE, INT_ARRAY_SIZE)"
   ]
  },
  {
   "cell_type": "code",
   "execution_count": 67,
   "id": "33cd3d74-e2a8-4959-817f-58c893854021",
   "metadata": {},
   "outputs": [],
   "source": [
    "def reformat_data(data):\n",
    "    return str(data).replace('\\n', '')\n",
    "\n",
    "start_time = datetime.datetime.now()\n",
    "data = np.arange(0, len(s_arr))\n",
    "for id, dt in enumerate(np.array_split(data, INSTANCE_SIZE)):\n",
    "    [send_message_to_queue(sqs, f'queue{id}', [{\"Id\": f\"{idx+1}\", \"MessageBody\": str((idx, (reformat_data(s_arr[idx]), reformat_data(s_arr1[idx])))) }])\n",
    "                for idx in range(min(dt), max(dt)+1)]\n"
   ]
  },
  {
   "cell_type": "code",
   "execution_count": 31,
   "id": "d4f0e880",
   "metadata": {
    "collapsed": false,
    "jupyter": {
     "outputs_hidden": false
    }
   },
   "outputs": [],
   "source": []
  },
  {
   "cell_type": "code",
   "execution_count": 39,
   "id": "ae88bf68",
   "metadata": {
    "collapsed": false,
    "jupyter": {
     "outputs_hidden": false
    }
   },
   "outputs": [
    {
     "name": "stdout",
     "output_type": "stream",
     "text": [
      "Computation time 0:06:28.474720\n"
     ]
    },
    {
     "data": {
      "text/plain": "[[[296, 502, 422, 347, 364],\n  [258, 408, 400, 300, 240],\n  [165, 338, 259, 206, 230],\n  [126, 332, 228, 199, 222],\n  [240, 481, 432, 332, 275]],\n [[73, 162, 204, 235, 261],\n  [41, 103, 158, 195, 148],\n  [89, 232, 252, 253, 278],\n  [53, 132, 180, 236, 177],\n  [89, 201, 158, 234, 190]],\n [[221, 194, 161, 196, 114],\n  [196, 134, 76, 254, 96],\n  [212, 166, 122, 214, 74],\n  [187, 152, 78, 180, 95],\n  [237, 216, 173, 214, 82]],\n [[134, 152, 223, 187, 102],\n  [199, 335, 390, 187, 212],\n  [293, 388, 386, 294, 309],\n  [201, 230, 201, 210, 212],\n  [223, 222, 240, 193, 183]],\n [[133, 165, 281, 295, 220],\n  [282, 237, 432, 384, 330],\n  [85, 126, 190, 156, 128],\n  [179, 171, 351, 317, 266],\n  [171, 83, 282, 154, 197]],\n [[237, 420, 261, 471, 342],\n  [208, 304, 139, 319, 243],\n  [177, 333, 234, 356, 306],\n  [158, 482, 336, 486, 309],\n  [206, 275, 145, 313, 252]],\n [[259, 106, 199, 200, 307],\n  [212, 155, 193, 125, 237],\n  [271, 126, 242, 63, 221],\n  [399, 131, 320, 159, 367],\n  [282, 93, 240, 58, 218]],\n [[180, 160, 118, 220, 134],\n  [269, 361, 184, 331, 315],\n  [107, 99, 54, 42, 79],\n  [99, 175, 76, 108, 111],\n  [137, 197, 102, 185, 143]],\n [[160, 178, 243, 158, 182],\n  [95, 123, 175, 152, 135],\n  [158, 107, 295, 176, 184],\n  [283, 191, 361, 294, 330],\n  [51, 37, 161, 119, 152]],\n [[116, 215, 189, 114, 131],\n  [309, 402, 356, 177, 269],\n  [220, 272, 243, 151, 133],\n  [165, 246, 133, 176, 131],\n  [294, 459, 287, 300, 272]],\n [[120, 138, 268, 282, 56],\n  [156, 175, 274, 263, 132],\n  [91, 125, 127, 211, 92],\n  [161, 152, 297, 292, 112],\n  [105, 203, 234, 265, 119]],\n [[336, 405, 353, 411, 328],\n  [308, 277, 344, 251, 176],\n  [195, 260, 243, 284, 200],\n  [402, 369, 331, 365, 291],\n  [285, 205, 282, 208, 152]],\n [[365, 179, 327, 215, 201],\n  [316, 109, 242, 179, 142],\n  [235, 99, 170, 121, 109],\n  [363, 167, 320, 185, 193],\n  [229, 109, 196, 168, 110]],\n [[288, 369, 446, 315, 303],\n  [221, 187, 335, 206, 194],\n  [222, 252, 344, 290, 225],\n  [161, 222, 325, 263, 266],\n  [153, 265, 352, 307, 324]],\n [[143, 207, 180, 143, 182],\n  [81, 136, 130, 119, 125],\n  [200, 285, 298, 346, 146],\n  [194, 272, 264, 286, 132],\n  [224, 253, 304, 349, 81]],\n [[209, 322, 332, 221, 304],\n  [175, 336, 266, 270, 219],\n  [221, 248, 344, 265, 282],\n  [177, 277, 211, 146, 204],\n  [290, 365, 425, 373, 330]],\n [[65, 81, 108, 52, 216],\n  [249, 177, 235, 311, 362],\n  [141, 132, 213, 156, 264],\n  [162, 145, 173, 146, 301],\n  [298, 201, 234, 326, 261]],\n [[199, 202, 87, 142, 275],\n  [292, 266, 190, 208, 256],\n  [254, 239, 198, 251, 328],\n  [485, 420, 342, 274, 356],\n  [367, 330, 191, 178, 347]],\n [[108, 222, 188, 268, 94],\n  [223, 297, 332, 383, 185],\n  [164, 118, 140, 108, 42],\n  [152, 245, 262, 308, 123],\n  [274, 278, 341, 330, 147]],\n [[298, 44, 234, 274, 159],\n  [166, 44, 194, 192, 92],\n  [218, 23, 105, 105, 74],\n  [346, 97, 424, 407, 186],\n  [276, 34, 188, 200, 123]],\n [[276, 175, 139, 119, 293],\n  [331, 134, 172, 119, 285],\n  [355, 203, 142, 60, 372],\n  [326, 209, 219, 137, 423],\n  [358, 158, 253, 162, 449]],\n [[169, 34, 231, 254, 256],\n  [141, 10, 219, 242, 249],\n  [77, 24, 196, 272, 146],\n  [168, 34, 195, 242, 176],\n  [206, 30, 306, 378, 348]],\n [[131, 92, 219, 88, 150],\n  [227, 159, 329, 181, 244],\n  [79, 176, 114, 237, 98],\n  [293, 212, 371, 331, 246],\n  [40, 152, 105, 139, 123]],\n [[276, 251, 193, 167, 248],\n  [309, 334, 217, 99, 276],\n  [179, 191, 93, 133, 66],\n  [314, 364, 210, 141, 196],\n  [189, 197, 95, 157, 78]],\n [[302, 280, 341, 262, 246],\n  [162, 153, 107, 126, 84],\n  [220, 188, 265, 182, 294],\n  [242, 157, 336, 208, 240],\n  [229, 210, 303, 234, 154]],\n [[382, 257, 313, 412, 158],\n  [157, 38, 112, 158, 71],\n  [245, 115, 199, 318, 124],\n  [341, 280, 263, 343, 175],\n  [223, 221, 164, 174, 133]],\n [[244, 135, 191, 235, 218],\n  [335, 196, 209, 243, 244],\n  [269, 115, 151, 186, 208],\n  [146, 90, 107, 161, 146],\n  [378, 212, 228, 284, 296]],\n [[273, 290, 178, 184, 216],\n  [362, 188, 231, 68, 300],\n  [241, 154, 149, 164, 224],\n  [421, 267, 254, 196, 328],\n  [210, 219, 170, 106, 234]],\n [[61, 326, 277, 505, 326],\n  [64, 372, 281, 406, 314],\n  [53, 207, 118, 339, 219],\n  [60, 300, 239, 380, 276],\n  [16, 161, 148, 296, 182]],\n [[244, 231, 334, 311, 163],\n  [319, 317, 291, 362, 195],\n  [251, 225, 195, 246, 213],\n  [261, 198, 233, 253, 116],\n  [232, 314, 383, 330, 284]],\n [[176, 167, 120, 61, 205],\n  [147, 162, 142, 97, 236],\n  [165, 199, 176, 143, 295],\n  [106, 151, 144, 111, 244],\n  [229, 252, 202, 159, 340]],\n [[100, 144, 218, 153, 239],\n  [158, 171, 260, 192, 262],\n  [179, 213, 307, 190, 295],\n  [136, 252, 376, 201, 325],\n  [182, 288, 356, 241, 295]],\n [[164, 232, 86, 155, 177],\n  [244, 292, 91, 250, 218],\n  [272, 366, 185, 281, 287],\n  [172, 164, 78, 101, 158],\n  [220, 265, 99, 222, 206]],\n [[56, 274, 214, 188, 280],\n  [66, 232, 158, 218, 200],\n  [67, 338, 283, 206, 342],\n  [63, 294, 239, 189, 324],\n  [35, 138, 113, 100, 148]],\n [[129, 36, 177, 71, 49],\n  [107, 29, 118, 56, 67],\n  [375, 48, 237, 132, 162],\n  [164, 16, 100, 64, 38],\n  [209, 43, 146, 76, 91]],\n [[239, 205, 219, 95, 304],\n  [156, 210, 232, 96, 217],\n  [452, 422, 456, 187, 574],\n  [370, 203, 322, 103, 438],\n  [279, 185, 245, 88, 334]],\n [[194, 219, 205, 116, 193],\n  [134, 106, 150, 101, 63],\n  [282, 291, 300, 147, 321],\n  [365, 272, 369, 282, 188],\n  [145, 156, 157, 78, 129]],\n [[149, 242, 372, 317, 78],\n  [70, 252, 258, 231, 207],\n  [29, 119, 185, 158, 124],\n  [75, 135, 238, 164, 120],\n  [90, 166, 166, 118, 158]],\n [[140, 240, 244, 226, 225],\n  [272, 309, 238, 385, 230],\n  [341, 425, 319, 471, 355],\n  [62, 133, 110, 113, 139],\n  [308, 430, 364, 488, 359]],\n [[165, 84, 97, 94, 122],\n  [134, 75, 103, 67, 174],\n  [331, 240, 248, 161, 302],\n  [383, 237, 262, 223, 337],\n  [169, 154, 140, 73, 130]],\n [[213, 118, 249, 162, 254],\n  [206, 153, 323, 202, 224],\n  [121, 139, 195, 118, 150],\n  [220, 156, 214, 88, 168],\n  [112, 122, 124, 105, 91]],\n [[187, 274, 299, 150, 128],\n  [231, 295, 417, 194, 213],\n  [158, 221, 236, 151, 128],\n  [137, 165, 240, 114, 136],\n  [207, 256, 379, 230, 214]],\n [[264, 140, 137, 312, 84],\n  [190, 115, 163, 235, 96],\n  [309, 173, 178, 372, 111],\n  [176, 198, 189, 293, 108],\n  [234, 207, 220, 311, 132]],\n [[347, 192, 327, 135, 354],\n  [479, 290, 459, 205, 430],\n  [278, 225, 330, 91, 247],\n  [85, 57, 109, 46, 63],\n  [421, 253, 416, 179, 387]],\n [[446, 481, 271, 290, 136],\n  [356, 411, 206, 192, 86],\n  [313, 354, 192, 208, 92],\n  [253, 259, 157, 189, 89],\n  [271, 305, 106, 113, 57]],\n [[106, 111, 141, 159, 169],\n  [213, 255, 293, 269, 312],\n  [221, 225, 359, 269, 370],\n  [167, 152, 187, 160, 228],\n  [164, 168, 189, 166, 245]],\n [[105, 256, 255, 170, 160],\n  [175, 317, 325, 203, 258],\n  [210, 207, 232, 128, 238],\n  [38, 247, 168, 185, 136],\n  [78, 111, 122, 72, 98]],\n [[133, 87, 143, 213, 290],\n  [88, 113, 204, 226, 218],\n  [61, 115, 214, 242, 155],\n  [157, 148, 244, 317, 334],\n  [118, 154, 247, 276, 222]],\n [[271, 234, 328, 313, 182],\n  [345, 168, 353, 309, 164],\n  [166, 114, 162, 142, 52],\n  [253, 108, 220, 277, 89],\n  [305, 162, 321, 235, 146]],\n [[261, 180, 363, 241, 299],\n  [93, 57, 110, 101, 138],\n  [99, 82, 175, 217, 203],\n  [219, 124, 269, 151, 200],\n  [132, 121, 264, 258, 177]],\n [[132, 159, 149, 215, 202],\n  [43, 49, 66, 82, 84],\n  [76, 86, 97, 149, 175],\n  [144, 144, 153, 241, 196],\n  [148, 146, 171, 257, 240]],\n [[42, 186, 148, 205, 141],\n  [97, 320, 267, 370, 255],\n  [156, 308, 287, 335, 291],\n  [65, 304, 214, 282, 217],\n  [40, 129, 55, 59, 151]],\n [[136, 339, 266, 268, 298],\n  [127, 325, 282, 246, 297],\n  [88, 216, 197, 169, 203],\n  [112, 300, 293, 281, 315],\n  [108, 231, 152, 197, 187]],\n [[295, 277, 309, 262, 111],\n  [228, 164, 209, 213, 121],\n  [295, 233, 209, 210, 119],\n  [415, 314, 283, 306, 185],\n  [307, 219, 293, 286, 143]],\n [[160, 299, 246, 251, 333],\n  [163, 250, 173, 243, 318],\n  [168, 261, 253, 286, 379],\n  [135, 290, 237, 244, 308],\n  [90, 144, 86, 135, 166]],\n [[324, 211, 293, 213, 201],\n  [236, 142, 251, 145, 163],\n  [257, 124, 271, 206, 236],\n  [282, 201, 145, 211, 120],\n  [250, 204, 250, 160, 169]],\n [[184, 209, 274, 214, 218],\n  [316, 250, 311, 329, 198],\n  [228, 176, 218, 222, 170],\n  [175, 35, 102, 123, 108],\n  [361, 230, 280, 343, 158]],\n [[176, 150, 276, 306, 228],\n  [64, 135, 174, 122, 112],\n  [69, 168, 256, 150, 160],\n  [158, 108, 216, 363, 225],\n  [112, 103, 196, 248, 151]],\n [[99, 205, 251, 234, 73],\n  [137, 217, 269, 285, 147],\n  [188, 317, 366, 340, 137],\n  [200, 354, 246, 269, 225],\n  [199, 319, 201, 203, 179]],\n [[146, 90, 229, 238, 134],\n  [252, 181, 284, 245, 163],\n  [336, 225, 439, 365, 305],\n  [98, 180, 195, 206, 198],\n  [242, 156, 296, 296, 171]],\n [[83, 160, 104, 110, 78],\n  [109, 192, 123, 150, 94],\n  [102, 187, 109, 97, 157],\n  [165, 199, 145, 100, 215],\n  [126, 131, 119, 102, 225]],\n [[192, 225, 287, 208, 276],\n  [282, 139, 240, 171, 202],\n  [247, 119, 219, 146, 202],\n  [194, 140, 198, 68, 83],\n  [220, 135, 186, 151, 168]],\n [[304, 251, 148, 131, 166],\n  [227, 338, 113, 117, 273],\n  [193, 263, 79, 38, 193],\n  [196, 256, 104, 95, 178],\n  [378, 351, 187, 197, 211]],\n [[265, 127, 278, 202, 112],\n  [267, 132, 233, 227, 125],\n  [96, 87, 78, 104, 85],\n  [222, 125, 187, 162, 86],\n  [240, 118, 249, 218, 115]],\n [[81, 191, 253, 267, 278],\n  [148, 242, 333, 377, 273],\n  [103, 230, 313, 285, 121],\n  [96, 239, 309, 305, 180],\n  [143, 305, 330, 377, 248]],\n [[246, 134, 423, 241, 229],\n  [259, 192, 397, 265, 290],\n  [326, 198, 400, 254, 354],\n  [263, 165, 353, 237, 229],\n  [250, 143, 236, 177, 192]],\n [[93, 91, 72, 84, 76],\n  [254, 250, 348, 360, 216],\n  [141, 189, 226, 204, 172],\n  [195, 214, 316, 275, 196],\n  [163, 188, 215, 228, 180]],\n [[194, 216, 195, 251, 255],\n  [252, 244, 248, 239, 242],\n  [232, 261, 200, 244, 219],\n  [258, 307, 245, 281, 212],\n  [254, 268, 181, 154, 123]],\n [[152, 112, 121, 251, 174],\n  [236, 170, 206, 349, 238],\n  [230, 148, 129, 290, 200],\n  [202, 170, 178, 310, 212],\n  [294, 230, 336, 528, 374]],\n [[494, 411, 344, 263, 329],\n  [223, 172, 155, 103, 137],\n  [402, 331, 283, 247, 291],\n  [394, 215, 314, 197, 280],\n  [415, 233, 324, 200, 260]],\n [[260, 306, 335, 309, 262],\n  [335, 305, 403, 330, 305],\n  [196, 252, 236, 220, 180],\n  [195, 218, 229, 205, 157],\n  [313, 277, 373, 278, 286]],\n [[242, 169, 158, 105, 158],\n  [112, 154, 136, 100, 170],\n  [196, 137, 119, 100, 159],\n  [224, 265, 146, 157, 252],\n  [158, 101, 138, 95, 206]],\n [[343, 215, 151, 142, 207],\n  [277, 241, 222, 116, 301],\n  [149, 79, 80, 101, 116],\n  [148, 81, 36, 55, 79],\n  [426, 260, 206, 177, 340]],\n [[254, 233, 179, 240, 135],\n  [195, 323, 99, 294, 226],\n  [318, 257, 267, 334, 217],\n  [223, 217, 123, 280, 213],\n  [235, 330, 149, 296, 210]],\n [[216, 239, 292, 130, 253],\n  [149, 205, 197, 114, 173],\n  [182, 189, 269, 144, 231],\n  [269, 345, 275, 102, 177],\n  [122, 138, 197, 108, 166]],\n [[169, 122, 198, 105, 123],\n  [417, 296, 414, 373, 172],\n  [71, 149, 180, 106, 58],\n  [216, 130, 108, 188, 90],\n  [249, 174, 288, 229, 67]],\n [[365, 278, 275, 142, 452],\n  [172, 113, 155, 60, 211],\n  [157, 157, 150, 60, 123],\n  [353, 265, 224, 97, 361],\n  [393, 243, 229, 119, 433]],\n [[204, 154, 172, 129, 173],\n  [158, 109, 183, 120, 163],\n  [118, 101, 107, 82, 95],\n  [300, 223, 284, 218, 229],\n  [360, 287, 410, 286, 323]],\n [[192, 218, 371, 166, 246],\n  [104, 248, 304, 116, 168],\n  [189, 209, 332, 156, 225],\n  [148, 321, 395, 178, 213],\n  [116, 273, 347, 150, 183]],\n [[262, 366, 240, 268, 196],\n  [194, 276, 146, 268, 125],\n  [286, 356, 272, 226, 266],\n  [287, 331, 279, 211, 223],\n  [208, 242, 214, 176, 91]],\n [[107, 330, 179, 149, 158],\n  [205, 416, 274, 173, 221],\n  [158, 460, 287, 203, 195],\n  [178, 455, 280, 206, 188],\n  [113, 333, 167, 169, 154]],\n [[61, 154, 66, 91, 142],\n  [93, 163, 61, 58, 63],\n  [175, 233, 91, 183, 191],\n  [178, 267, 96, 158, 206],\n  [155, 247, 92, 165, 269]],\n [[209, 150, 300, 236, 321],\n  [199, 196, 363, 272, 367],\n  [102, 40, 65, 168, 63],\n  [49, 99, 117, 106, 166],\n  [90, 136, 178, 184, 202]],\n [[136, 128, 136, 104, 152],\n  [210, 170, 75, 61, 82],\n  [426, 319, 230, 200, 305],\n  [451, 390, 273, 193, 307],\n  [420, 351, 238, 184, 295]],\n [[195, 318, 276, 430, 129],\n  [154, 216, 148, 254, 95],\n  [156, 272, 210, 329, 113],\n  [157, 197, 180, 295, 156],\n  [226, 267, 262, 399, 199]],\n [[181, 302, 318, 216, 211],\n  [226, 262, 348, 210, 232],\n  [254, 286, 362, 219, 238],\n  [115, 151, 196, 118, 122],\n  [196, 210, 250, 164, 154]],\n [[113, 246, 94, 125, 252],\n  [41, 158, 64, 187, 195],\n  [135, 432, 149, 370, 438],\n  [34, 79, 40, 76, 113],\n  [59, 196, 55, 161, 177]],\n [[398, 275, 270, 107, 251],\n  [300, 231, 193, 131, 173],\n  [357, 249, 249, 126, 220],\n  [384, 297, 235, 137, 221],\n  [242, 140, 206, 60, 200]],\n [[153, 137, 225, 304, 227],\n  [29, 96, 105, 162, 105],\n  [62, 84, 78, 130, 140],\n  [126, 192, 252, 298, 238],\n  [98, 172, 216, 236, 188]],\n [[246, 258, 356, 239, 198],\n  [213, 192, 238, 194, 70],\n  [157, 115, 159, 138, 47],\n  [227, 253, 241, 176, 84],\n  [197, 257, 225, 82, 136]],\n [[96, 130, 227, 81, 153],\n  [228, 398, 420, 327, 333],\n  [164, 278, 255, 255, 270],\n  [194, 383, 344, 342, 312],\n  [118, 173, 197, 129, 239]],\n [[368, 256, 121, 329, 211],\n  [157, 72, 94, 99, 160],\n  [394, 228, 128, 303, 261],\n  [422, 291, 133, 354, 291],\n  [312, 253, 129, 331, 153]],\n [[65, 102, 184, 161, 58],\n  [184, 278, 380, 381, 97],\n  [95, 212, 194, 215, 65],\n  [157, 182, 338, 275, 98],\n  [95, 190, 223, 247, 40]],\n [[232, 202, 115, 215, 246],\n  [256, 208, 247, 357, 280],\n  [292, 235, 253, 380, 311],\n  [140, 119, 210, 270, 178],\n  [200, 173, 121, 208, 217]],\n [[323, 305, 276, 331, 264],\n  [232, 187, 353, 266, 324],\n  [286, 195, 323, 283, 295],\n  [231, 96, 265, 233, 300],\n  [173, 184, 153, 224, 205]],\n [[142, 329, 278, 97, 308],\n  [90, 234, 201, 67, 215],\n  [197, 311, 284, 99, 343],\n  [260, 293, 289, 70, 257],\n  [82, 194, 148, 36, 92]],\n [[227, 413, 309, 270, 261],\n  [94, 226, 172, 126, 132],\n  [94, 198, 232, 231, 221],\n  [192, 391, 349, 372, 326],\n  [50, 143, 145, 145, 121]],\n [[199, 281, 164, 307, 433],\n  [193, 168, 208, 203, 312],\n  [36, 99, 54, 45, 171],\n  [197, 270, 194, 314, 398],\n  [194, 201, 214, 263, 317]],\n [[189, 139, 128, 139, 135],\n  [99, 59, 30, 89, 109],\n  [291, 330, 327, 298, 271],\n  [376, 421, 428, 411, 391],\n  [281, 269, 295, 235, 248]],\n [[102, 82, 105, 91, 95],\n  [202, 181, 192, 175, 214],\n  [262, 203, 290, 229, 232],\n  [189, 60, 283, 150, 134],\n  [291, 185, 388, 225, 331]],\n [[228, 228, 182, 225, 178],\n  [280, 256, 274, 180, 213],\n  [259, 288, 176, 209, 167],\n  [203, 165, 221, 221, 219],\n  [251, 298, 185, 94, 161]],\n [[310, 166, 367, 86, 316],\n  [180, 116, 238, 72, 232],\n  [409, 195, 388, 147, 474],\n  [157, 167, 297, 71, 240],\n  [239, 100, 157, 81, 266]],\n [[335, 221, 331, 283, 336],\n  [147, 176, 199, 231, 217],\n  [411, 262, 408, 341, 407],\n  [300, 106, 280, 239, 207],\n  [329, 122, 202, 206, 202]],\n [[224, 289, 328, 234, 213],\n  [268, 174, 248, 322, 108],\n  [64, 85, 139, 56, 81],\n  [66, 32, 54, 64, 43],\n  [337, 237, 272, 353, 221]],\n [[140, 138, 217, 114, 245],\n  [178, 194, 166, 111, 151],\n  [270, 311, 320, 166, 211],\n  [186, 226, 313, 130, 212],\n  [220, 279, 268, 208, 308]],\n [[54, 148, 160, 140, 56],\n  [120, 216, 187, 243, 75],\n  [126, 277, 275, 202, 150],\n  [35, 129, 73, 43, 73],\n  [133, 309, 238, 218, 140]],\n [[229, 165, 198, 218, 214],\n  [297, 170, 337, 288, 257],\n  [156, 100, 239, 153, 205],\n  [169, 141, 150, 150, 166],\n  [282, 168, 385, 275, 261]],\n [[172, 85, 143, 88, 192],\n  [218, 141, 141, 132, 117],\n  [158, 91, 151, 134, 149],\n  [396, 304, 324, 235, 287],\n  [234, 174, 148, 76, 156]],\n [[483, 339, 280, 156, 397],\n  [400, 238, 198, 134, 272],\n  [322, 258, 228, 95, 253],\n  [375, 323, 212, 139, 310],\n  [239, 117, 110, 90, 159]],\n [[184, 275, 273, 302, 188],\n  [173, 258, 212, 236, 142],\n  [210, 197, 165, 135, 134],\n  [150, 226, 264, 333, 130],\n  [286, 374, 324, 363, 190]],\n [[295, 252, 304, 198, 297],\n  [214, 152, 334, 132, 284],\n  [152, 137, 190, 111, 199],\n  [246, 222, 290, 185, 305],\n  [193, 191, 226, 193, 266]],\n [[153, 444, 371, 348, 487],\n  [54, 262, 201, 169, 280],\n  [173, 315, 295, 255, 397],\n  [91, 238, 227, 154, 293],\n  [100, 297, 214, 209, 338]],\n [[197, 277, 240, 235, 368],\n  [172, 177, 189, 145, 322],\n  [113, 122, 138, 118, 215],\n  [262, 247, 229, 220, 438],\n  [128, 168, 118, 99, 204]],\n [[91, 305, 130, 280, 203],\n  [181, 363, 212, 405, 391],\n  [123, 269, 194, 296, 353],\n  [179, 394, 176, 397, 281],\n  [166, 334, 174, 343, 276]],\n [[115, 223, 6, 164, 119],\n  [320, 483, 13, 329, 358],\n  [63, 74, 2, 56, 69],\n  [277, 435, 11, 292, 290],\n  [259, 279, 8, 218, 305]],\n [[179, 92, 90, 146, 112],\n  [201, 120, 122, 96, 150],\n  [298, 149, 106, 214, 220],\n  [500, 247, 216, 339, 377],\n  [285, 152, 148, 178, 223]],\n [[182, 82, 185, 173, 138],\n  [80, 72, 93, 87, 66],\n  [145, 180, 180, 144, 66],\n  [291, 141, 293, 248, 154],\n  [411, 227, 304, 374, 336]],\n [[129, 223, 212, 162, 66],\n  [208, 277, 206, 268, 159],\n  [52, 109, 182, 69, 32],\n  [108, 200, 204, 165, 69],\n  [21, 65, 145, 79, 8]],\n [[331, 342, 193, 223, 159],\n  [298, 318, 136, 220, 71],\n  [352, 276, 141, 244, 109],\n  [59, 142, 55, 55, 17],\n  [253, 306, 127, 205, 70]],\n [[65, 270, 266, 398, 242],\n  [43, 144, 196, 288, 195],\n  [93, 194, 379, 414, 285],\n  [40, 192, 232, 320, 173],\n  [20, 78, 47, 100, 76]],\n [[124, 239, 65, 258, 134],\n  [170, 220, 59, 229, 151],\n  [242, 313, 174, 331, 253],\n  [140, 175, 125, 174, 179],\n  [300, 286, 224, 310, 277]],\n [[191, 226, 242, 168, 161],\n  [131, 245, 240, 94, 172],\n  [193, 232, 188, 78, 133],\n  [277, 371, 348, 222, 320],\n  [190, 219, 244, 72, 81]],\n [[253, 262, 212, 191, 168],\n  [192, 253, 166, 208, 176],\n  [125, 178, 127, 71, 197],\n  [58, 103, 73, 80, 69],\n  [211, 263, 215, 131, 207]],\n [[470, 381, 360, 280, 572],\n  [225, 168, 210, 194, 299],\n  [287, 222, 234, 205, 356],\n  [219, 177, 229, 195, 319],\n  [320, 297, 262, 187, 399]],\n [[123, 93, 76, 142, 80],\n  [169, 129, 144, 233, 200],\n  [291, 199, 196, 414, 221],\n  [282, 99, 178, 297, 91],\n  [250, 111, 102, 294, 92]],\n [[176, 208, 174, 224, 244],\n  [192, 176, 170, 186, 182],\n  [154, 138, 136, 184, 136],\n  [136, 159, 140, 196, 213],\n  [83, 135, 99, 186, 180]],\n [[287, 116, 290, 101, 89],\n  [310, 202, 347, 203, 125],\n  [190, 118, 225, 27, 81],\n  [228, 194, 287, 117, 107],\n  [323, 130, 315, 126, 115]],\n [[254, 212, 211, 191, 228],\n  [336, 261, 273, 263, 334],\n  [272, 252, 252, 184, 252],\n  [373, 308, 255, 231, 318],\n  [358, 307, 307, 257, 324]],\n [[311, 196, 274, 237, 167],\n  [269, 212, 294, 326, 192],\n  [119, 102, 141, 90, 62],\n  [236, 94, 179, 103, 99],\n  [286, 89, 143, 139, 160]],\n [[149, 250, 99, 119, 211],\n  [126, 247, 93, 111, 215],\n  [206, 211, 88, 72, 268],\n  [189, 299, 136, 155, 199],\n  [204, 247, 96, 115, 174]],\n [[125, 177, 174, 159, 159],\n  [280, 452, 350, 484, 334],\n  [184, 247, 293, 350, 254],\n  [173, 186, 165, 241, 195],\n  [207, 348, 264, 305, 247]],\n [[273, 323, 211, 269, 222],\n  [191, 254, 165, 232, 158],\n  [210, 311, 223, 222, 231],\n  [407, 553, 411, 473, 370],\n  [159, 262, 249, 214, 178]],\n [[164, 320, 326, 319, 289],\n  [136, 193, 196, 241, 177],\n  [184, 272, 313, 364, 218],\n  [184, 302, 367, 295, 203],\n  [236, 412, 452, 468, 328]],\n [[178, 140, 162, 194, 186],\n  [284, 96, 252, 267, 235],\n  [239, 81, 196, 243, 192],\n  [348, 251, 373, 449, 411],\n  [281, 147, 291, 361, 270]],\n [[76, 100, 38, 126, 32],\n  [188, 175, 127, 244, 174],\n  [336, 293, 163, 404, 220],\n  [215, 200, 75, 231, 190],\n  [48, 59, 72, 110, 25]],\n [[260, 64, 329, 38, 177],\n  [344, 174, 368, 226, 290],\n  [214, 94, 154, 133, 171],\n  [221, 111, 297, 110, 161],\n  [245, 112, 295, 192, 288]],\n [[293, 520, 381, 369, 254],\n  [187, 275, 204, 218, 110],\n  [175, 279, 223, 222, 131],\n  [319, 438, 325, 397, 251],\n  [291, 469, 348, 340, 194]],\n [[331, 157, 275, 417, 212],\n  [93, 40, 84, 141, 61],\n  [195, 144, 247, 419, 269],\n  [249, 110, 189, 357, 224],\n  [273, 128, 243, 288, 174]],\n [[137, 206, 125, 274, 159],\n  [243, 252, 265, 296, 171],\n  [274, 297, 277, 336, 223],\n  [200, 171, 185, 213, 153],\n  [276, 214, 287, 223, 110]],\n [[198, 305, 171, 136, 203],\n  [95, 216, 119, 183, 236],\n  [163, 323, 218, 253, 360],\n  [188, 320, 261, 170, 317],\n  [120, 280, 249, 248, 412]],\n [[297, 243, 267, 240, 311],\n  [127, 145, 115, 122, 187],\n  [275, 262, 208, 205, 328],\n  [96, 109, 126, 148, 126],\n  [123, 105, 58, 92, 79]],\n [[156, 236, 182, 285, 214],\n  [148, 274, 236, 312, 288],\n  [260, 358, 269, 397, 371],\n  [178, 344, 297, 400, 351],\n  [173, 219, 169, 247, 226]],\n [[223, 257, 101, 212, 205],\n  [175, 241, 145, 217, 124],\n  [258, 348, 170, 231, 135],\n  [304, 450, 204, 319, 273],\n  [306, 342, 148, 282, 212]],\n [[59, 65, 146, 167, 89],\n  [155, 203, 280, 324, 246],\n  [101, 145, 130, 224, 198],\n  [84, 124, 116, 202, 164],\n  [139, 212, 264, 284, 201]],\n [[268, 193, 386, 245, 347],\n  [123, 202, 218, 125, 281],\n  [178, 197, 263, 85, 242],\n  [144, 188, 225, 234, 328],\n  [273, 292, 398, 271, 435]],\n [[432, 246, 280, 301, 369],\n  [394, 200, 262, 240, 335],\n  [239, 102, 101, 186, 137],\n  [189, 149, 165, 135, 242],\n  [112, 84, 116, 71, 206]],\n [[224, 93, 152, 160, 179],\n  [189, 233, 223, 221, 365],\n  [340, 308, 285, 318, 437],\n  [347, 261, 301, 320, 388],\n  [273, 194, 246, 246, 283]],\n [[192, 214, 198, 265, 213],\n  [103, 160, 203, 162, 191],\n  [107, 179, 178, 194, 197],\n  [248, 165, 181, 246, 213],\n  [216, 346, 390, 381, 417]],\n [[88, 92, 179, 168, 99],\n  [225, 177, 238, 224, 254],\n  [122, 67, 170, 185, 221],\n  [305, 209, 264, 218, 390],\n  [67, 53, 96, 90, 94]],\n [[104, 182, 146, 47, 150],\n  [77, 177, 170, 70, 166],\n  [258, 280, 265, 100, 237],\n  [214, 263, 301, 155, 201],\n  [43, 92, 109, 59, 71]],\n [[179, 244, 168, 184, 319],\n  [235, 367, 219, 153, 411],\n  [248, 392, 311, 226, 484],\n  [83, 274, 224, 120, 272],\n  [186, 261, 170, 179, 318]],\n [[265, 281, 96, 266, 272],\n  [175, 217, 103, 187, 187],\n  [209, 192, 68, 201, 263],\n  [201, 322, 188, 250, 229],\n  [288, 386, 194, 354, 315]],\n [[235, 378, 348, 242, 164],\n  [202, 281, 290, 180, 119],\n  [113, 230, 257, 161, 97],\n  [295, 382, 421, 333, 117],\n  [164, 210, 222, 163, 91]],\n [[210, 148, 285, 226, 299],\n  [126, 88, 149, 157, 178],\n  [231, 168, 274, 276, 280],\n  [91, 150, 141, 216, 138],\n  [227, 214, 290, 301, 278]],\n [[281, 225, 293, 296, 267],\n  [216, 159, 279, 144, 147],\n  [206, 246, 189, 231, 180],\n  [169, 152, 198, 160, 154],\n  [270, 234, 276, 258, 217]],\n [[314, 238, 242, 327, 43],\n  [365, 266, 326, 353, 65],\n  [260, 211, 258, 258, 65],\n  [170, 92, 129, 144, 17],\n  [407, 257, 372, 321, 81]],\n [[246, 259, 259, 331, 141],\n  [236, 249, 278, 345, 131],\n  [349, 286, 415, 471, 289],\n  [185, 63, 222, 232, 230],\n  [243, 142, 257, 289, 276]],\n [[200, 174, 132, 150, 114],\n  [147, 195, 167, 183, 160],\n  [252, 268, 240, 259, 226],\n  [283, 177, 149, 157, 74],\n  [387, 247, 218, 218, 138]],\n [[97, 148, 289, 235, 153],\n  [120, 155, 242, 197, 140],\n  [247, 142, 301, 192, 234],\n  [66, 77, 161, 141, 110],\n  [131, 125, 214, 183, 188]],\n [[208, 187, 199, 168, 189],\n  [287, 163, 261, 167, 305],\n  [183, 146, 226, 136, 144],\n  [197, 90, 248, 121, 265],\n  [172, 31, 178, 58, 190]],\n [[103, 181, 221, 165, 124],\n  [313, 429, 529, 403, 414],\n  [115, 148, 168, 113, 146],\n  [250, 253, 331, 266, 248],\n  [127, 162, 195, 152, 147]],\n [[229, 129, 193, 130, 247],\n  [117, 60, 141, 188, 146],\n  [176, 109, 137, 100, 117],\n  [234, 130, 184, 151, 173],\n  [239, 140, 238, 271, 231]],\n [[171, 304, 152, 197, 276],\n  [133, 242, 125, 158, 226],\n  [193, 207, 89, 222, 194],\n  [359, 399, 145, 312, 391],\n  [255, 378, 193, 324, 342]],\n [[235, 140, 107, 145, 184],\n  [172, 121, 35, 145, 158],\n  [88, 64, 66, 95, 109],\n  [141, 114, 45, 197, 204],\n  [95, 99, 88, 204, 210]],\n [[269, 387, 266, 318, 257],\n  [307, 270, 237, 369, 205],\n  [217, 240, 203, 264, 163],\n  [192, 165, 147, 204, 90],\n  [176, 187, 88, 283, 217]],\n [[215, 184, 229, 222, 229],\n  [186, 148, 339, 348, 265],\n  [153, 90, 267, 167, 202],\n  [85, 120, 186, 149, 134],\n  [174, 164, 313, 230, 257]],\n [[257, 280, 233, 268, 402],\n  [130, 182, 147, 184, 271],\n  [220, 257, 174, 230, 331],\n  [132, 157, 105, 126, 142],\n  [187, 236, 152, 204, 269]],\n [[129, 250, 116, 183, 164],\n  [417, 559, 167, 415, 332],\n  [94, 226, 25, 214, 178],\n  [220, 328, 163, 242, 207],\n  [176, 243, 65, 181, 139]],\n [[155, 59, 216, 173, 99],\n  [201, 89, 301, 289, 104],\n  [187, 96, 272, 191, 129],\n  [136, 119, 215, 210, 170],\n  [151, 97, 225, 148, 121]],\n [[162, 394, 351, 370, 326],\n  [94, 240, 293, 306, 276],\n  [90, 246, 174, 254, 231],\n  [47, 139, 200, 217, 197],\n  [109, 189, 161, 191, 210]],\n [[182, 206, 261, 259, 179],\n  [268, 306, 328, 246, 293],\n  [238, 289, 314, 271, 255],\n  [296, 322, 297, 226, 302],\n  [232, 254, 234, 197, 226]],\n [[297, 283, 235, 247, 152],\n  [477, 257, 395, 389, 221],\n  [262, 198, 204, 153, 104],\n  [355, 254, 291, 306, 201],\n  [394, 150, 362, 353, 178]],\n [[119, 245, 248, 235, 108],\n  [95, 161, 162, 173, 66],\n  [137, 218, 210, 299, 132],\n  [167, 230, 243, 320, 143],\n  [126, 171, 181, 292, 139]],\n [[196, 222, 131, 177, 192],\n  [285, 370, 200, 176, 335],\n  [181, 294, 144, 57, 277],\n  [210, 235, 182, 155, 212],\n  [294, 382, 244, 118, 352]],\n [[249, 279, 184, 280, 123],\n  [190, 256, 173, 264, 197],\n  [228, 357, 222, 286, 109],\n  [203, 273, 187, 295, 238],\n  [317, 304, 259, 252, 219]],\n [[276, 358, 245, 449, 242],\n  [54, 251, 109, 251, 116],\n  [112, 203, 109, 238, 88],\n  [122, 96, 88, 145, 118],\n  [130, 174, 161, 216, 114]],\n [[103, 141, 178, 284, 201],\n  [231, 143, 222, 356, 264],\n  [154, 165, 214, 275, 214],\n  [239, 60, 214, 370, 253],\n  [199, 117, 268, 371, 318]],\n [[211, 64, 92, 164, 194],\n  [355, 128, 170, 279, 327],\n  [112, 56, 64, 75, 115],\n  [239, 112, 108, 192, 230],\n  [257, 99, 122, 206, 237]],\n [[233, 117, 243, 231, 243],\n  [208, 118, 187, 209, 176],\n  [265, 221, 278, 355, 279],\n  [196, 128, 164, 154, 164],\n  [221, 117, 244, 283, 177]],\n [[219, 336, 87, 144, 251],\n  [92, 181, 44, 73, 155],\n  [295, 430, 153, 158, 177],\n  [285, 351, 81, 159, 103],\n  [262, 431, 179, 220, 274]],\n [[148, 222, 134, 158, 110],\n  [142, 140, 232, 170, 174],\n  [340, 410, 418, 451, 357],\n  [178, 202, 178, 260, 194],\n  [241, 290, 183, 289, 177]],\n [[128, 60, 134, 94, 88],\n  [351, 210, 335, 261, 195],\n  [122, 102, 111, 169, 150],\n  [214, 177, 225, 209, 118],\n  [353, 145, 352, 252, 267]],\n [[190, 150, 139, 217, 237],\n  [376, 266, 229, 266, 312],\n  [192, 148, 196, 211, 151],\n  [319, 295, 217, 243, 247],\n  [218, 181, 186, 286, 165]],\n [[101, 429, 398, 110, 130],\n  [141, 167, 158, 87, 120],\n  [71, 213, 265, 43, 67],\n  [75, 162, 188, 58, 82],\n  [203, 379, 287, 154, 177]],\n [[155, 321, 326, 241, 141],\n  [142, 285, 248, 253, 142],\n  [104, 359, 220, 246, 216],\n  [117, 453, 302, 235, 233],\n  [71, 341, 203, 173, 151]],\n [[289, 311, 382, 117, 204],\n  [227, 262, 286, 97, 167],\n  [427, 326, 299, 210, 254],\n  [209, 248, 355, 132, 105],\n  [428, 346, 401, 248, 206]],\n [[93, 127, 133, 152, 165],\n  [38, 131, 136, 110, 159],\n  [149, 192, 228, 256, 197],\n  [193, 269, 289, 325, 315],\n  [61, 193, 243, 177, 202]],\n [[295, 38, 223, 275, 257],\n  [281, 38, 113, 225, 182],\n  [371, 82, 271, 297, 339],\n  [323, 91, 122, 188, 263],\n  [146, 77, 78, 77, 186]],\n [[127, 301, 352, 241, 432],\n  [88, 154, 178, 147, 266],\n  [110, 209, 272, 222, 345],\n  [98, 120, 200, 211, 290],\n  [112, 272, 362, 289, 442]],\n [[151, 71, 188, 155, 186],\n  [118, 185, 206, 274, 314],\n  [180, 55, 258, 241, 306],\n  [168, 51, 162, 225, 142],\n  [191, 18, 256, 227, 304]],\n [[344, 325, 250, 392, 182],\n  [224, 254, 205, 257, 190],\n  [278, 218, 179, 243, 117],\n  [198, 239, 166, 271, 178],\n  [380, 360, 287, 393, 208]],\n [[354, 325, 304, 249, 234],\n  [433, 452, 248, 256, 230],\n  [413, 311, 185, 340, 207],\n  [276, 225, 189, 232, 155],\n  [431, 381, 357, 318, 260]],\n [[187, 377, 339, 206, 211],\n  [51, 221, 231, 118, 136],\n  [126, 269, 315, 116, 100],\n  [96, 291, 405, 131, 105],\n  [46, 149, 141, 64, 79]],\n [[209, 215, 309, 344, 264],\n  [390, 183, 404, 382, 384],\n  [300, 177, 410, 334, 273],\n  [221, 171, 367, 258, 288],\n  [378, 114, 285, 325, 314]],\n [[177, 208, 151, 111, 159],\n  [359, 347, 422, 279, 468],\n  [285, 329, 259, 204, 310],\n  [117, 120, 145, 127, 140],\n  [308, 273, 271, 152, 306]],\n [[135, 96, 108, 68, 104],\n  [285, 206, 263, 133, 297],\n  [333, 276, 312, 108, 383],\n  [275, 206, 238, 88, 303],\n  [283, 184, 230, 66, 357]],\n [[70, 93, 98, 57, 65],\n  [113, 165, 163, 135, 136],\n  [183, 219, 228, 198, 208],\n  [226, 158, 133, 139, 96],\n  [180, 259, 173, 307, 231]],\n [[111, 97, 214, 229, 165],\n  [146, 108, 293, 309, 178],\n  [202, 154, 131, 177, 84],\n  [206, 149, 309, 323, 247],\n  [261, 197, 250, 289, 184]],\n [[158, 164, 87, 209, 179],\n  [61, 49, 37, 154, 135],\n  [155, 185, 136, 349, 218],\n  [98, 152, 86, 171, 86],\n  [135, 123, 246, 366, 303]],\n [[241, 343, 327, 257, 280],\n  [143, 201, 165, 79, 122],\n  [212, 373, 290, 149, 226],\n  [318, 399, 335, 291, 345],\n  [72, 125, 48, 46, 59]],\n [[212, 204, 209, 323, 228],\n  [207, 205, 143, 287, 246],\n  [175, 284, 136, 289, 378],\n  [146, 176, 142, 256, 216],\n  [185, 197, 121, 256, 239]],\n [[251, 96, 321, 311, 144],\n  [177, 108, 239, 219, 90],\n  [318, 162, 420, 399, 216],\n  [197, 62, 205, 242, 145],\n  [72, 94, 143, 123, 65]],\n [[270, 299, 287, 317, 325],\n  [297, 337, 265, 325, 376],\n  [154, 172, 96, 118, 189],\n  [242, 230, 166, 194, 297],\n  [243, 156, 180, 168, 289]],\n [[194, 161, 199, 67, 230],\n  [146, 141, 196, 85, 241],\n  [253, 241, 268, 107, 300],\n  [134, 168, 205, 115, 215],\n  [289, 300, 279, 118, 276]],\n [[308, 120, 336, 112, 217],\n  [302, 79, 358, 199, 192],\n  [133, 105, 176, 90, 175],\n  [365, 58, 366, 233, 180],\n  [349, 75, 316, 208, 173]],\n [[151, 221, 190, 211, 73],\n  [108, 112, 57, 116, 25],\n  [89, 295, 252, 241, 114],\n  [65, 335, 274, 235, 133],\n  [51, 283, 140, 146, 107]],\n [[252, 373, 348, 335, 165],\n  [284, 339, 350, 393, 74],\n  [108, 125, 142, 171, 34],\n  [150, 185, 219, 225, 97],\n  [274, 318, 314, 304, 55]],\n [[209, 281, 123, 254, 279],\n  [126, 105, 157, 168, 186],\n  [215, 220, 142, 181, 271],\n  [189, 207, 171, 232, 239],\n  [224, 114, 82, 82, 172]],\n [[139, 301, 271, 288, 332],\n  [132, 197, 150, 274, 299],\n  [112, 230, 170, 254, 247],\n  [117, 172, 125, 172, 226],\n  [198, 398, 313, 386, 437]],\n [[348, 191, 118, 188, 322],\n  [289, 233, 139, 191, 383],\n  [330, 176, 131, 180, 301],\n  [260, 211, 132, 182, 361],\n  [235, 216, 149, 174, 342]],\n [[345, 297, 380, 396, 314],\n  [158, 133, 142, 216, 168],\n  [154, 140, 262, 220, 169],\n  [209, 284, 361, 238, 178],\n  [233, 201, 313, 311, 248]],\n [[172, 123, 183, 215, 300],\n  [173, 132, 207, 262, 221],\n  [61, 35, 26, 35, 83],\n  [97, 34, 133, 146, 106],\n  [183, 120, 167, 230, 208]],\n [[253, 96, 346, 243, 156],\n  [135, 60, 184, 145, 108],\n  [221, 120, 342, 318, 217],\n  [117, 84, 244, 219, 180],\n  [165, 53, 251, 213, 165]],\n [[34, 38, 41, 17, 30],\n  [189, 102, 199, 26, 127],\n  [303, 267, 265, 249, 210],\n  [443, 353, 405, 204, 300],\n  [189, 112, 177, 23, 114]],\n [[283, 229, 202, 283, 277],\n  [306, 266, 195, 290, 311],\n  [406, 313, 271, 395, 345],\n  [234, 188, 157, 224, 197],\n  [289, 323, 138, 262, 359]],\n [[309, 231, 281, 357, 238],\n  [325, 227, 260, 236, 320],\n  [139, 121, 126, 130, 164],\n  [367, 238, 267, 304, 258],\n  [219, 196, 238, 295, 203]],\n [[122, 144, 144, 79, 128],\n  [218, 289, 298, 156, 206],\n  [259, 352, 473, 235, 357],\n  [222, 289, 322, 213, 305],\n  [202, 259, 262, 176, 314]],\n [[234, 128, 175, 137, 207],\n  [312, 260, 239, 192, 244],\n  [402, 348, 251, 309, 406],\n  [251, 259, 154, 257, 262],\n  [366, 321, 238, 274, 361]],\n [[291, 315, 355, 118, 269],\n  [297, 386, 393, 172, 293],\n  [269, 256, 267, 147, 259],\n  [456, 417, 528, 244, 454],\n  [394, 409, 465, 200, 395]],\n [[143, 240, 199, 125, 286],\n  [114, 209, 205, 130, 283],\n  [39, 98, 114, 124, 144],\n  [121, 177, 108, 56, 187],\n  [116, 195, 191, 103, 202]],\n [[357, 294, 250, 238, 303],\n  [292, 129, 131, 212, 234],\n  [408, 157, 253, 258, 342],\n  [204, 244, 178, 116, 207],\n  [211, 135, 119, 152, 126]],\n [[277, 158, 168, 112, 229],\n  [181, 166, 129, 128, 176],\n  [238, 102, 138, 285, 203],\n  [135, 106, 134, 145, 124],\n  [167, 118, 143, 91, 133]],\n [[292, 282, 298, 325, 328],\n  [308, 253, 246, 299, 371],\n  [246, 209, 209, 233, 281],\n  [271, 240, 261, 284, 310],\n  [291, 235, 261, 302, 307]],\n [[325, 317, 302, 206, 225],\n  [130, 136, 213, 214, 189],\n  [149, 135, 150, 78, 81],\n  [144, 140, 127, 134, 138],\n  [249, 259, 289, 248, 258]],\n [[59, 143, 85, 79, 96],\n  [207, 303, 240, 162, 227],\n  [245, 223, 242, 169, 193],\n  [201, 233, 92, 246, 113],\n  [189, 252, 132, 252, 177]],\n [[254, 301, 330, 178, 202],\n  [290, 363, 337, 87, 270],\n  [270, 339, 297, 114, 294],\n  [306, 381, 361, 148, 266],\n  [220, 302, 252, 76, 276]],\n [[266, 187, 208, 195, 173],\n  [144, 165, 154, 151, 87],\n  [280, 122, 163, 120, 185],\n  [262, 296, 279, 229, 199],\n  [314, 163, 237, 157, 226]],\n [[405, 198, 396, 351, 234],\n  [77, 42, 162, 102, 51],\n  [177, 164, 361, 168, 262],\n  [197, 98, 334, 235, 126],\n  [131, 76, 304, 180, 146]],\n [[204, 219, 45, 196, 115],\n  [231, 247, 48, 235, 167],\n  [351, 347, 168, 389, 155],\n  [316, 351, 149, 376, 213],\n  [349, 359, 155, 334, 104]],\n [[236, 146, 211, 208, 259],\n  [218, 281, 322, 240, 354],\n  [170, 130, 278, 197, 308],\n  [72, 180, 172, 156, 152],\n  [236, 228, 285, 248, 303]],\n [[295, 415, 353, 345, 385],\n  [191, 278, 243, 180, 269],\n  [245, 271, 242, 211, 216],\n  [146, 171, 192, 130, 183],\n  [178, 231, 210, 178, 217]],\n [[183, 204, 135, 151, 167],\n  [292, 276, 274, 258, 321],\n  [283, 288, 219, 240, 267],\n  [337, 288, 219, 291, 304],\n  [344, 285, 256, 304, 349]],\n [[170, 184, 207, 124, 146],\n  [205, 187, 243, 146, 112],\n  [167, 191, 115, 180, 198],\n  [191, 212, 159, 202, 202],\n  [188, 160, 221, 134, 115]],\n [[69, 280, 409, 234, 188],\n  [76, 184, 392, 182, 186],\n  [82, 244, 377, 131, 190],\n  [112, 147, 244, 82, 189],\n  [46, 159, 200, 71, 104]],\n [[261, 247, 199, 262, 389],\n  [265, 254, 185, 284, 398],\n  [364, 346, 259, 346, 520],\n  [84, 87, 75, 84, 119],\n  [224, 225, 173, 200, 297]],\n [[170, 190, 164, 151, 141],\n  [220, 240, 212, 155, 143],\n  [310, 343, 297, 266, 286],\n  [239, 257, 211, 197, 179],\n  [334, 333, 310, 226, 257]],\n [[323, 233, 378, 354, 445],\n  [291, 185, 307, 199, 295],\n  [313, 189, 317, 274, 424],\n  [287, 147, 271, 172, 326],\n  [231, 89, 229, 126, 262]],\n [[100, 162, 253, 372, 200],\n  [97, 202, 218, 333, 203],\n  [186, 291, 264, 466, 280],\n  [75, 97, 148, 234, 114],\n  [141, 214, 278, 450, 230]],\n [[248, 299, 350, 263, 305],\n  [284, 292, 371, 303, 342],\n  [183, 196, 214, 191, 202],\n  [257, 312, 371, 261, 315],\n  [326, 330, 426, 355, 295]],\n [[175, 72, 266, 182, 73],\n  [159, 175, 268, 191, 58],\n  [220, 113, 325, 222, 81],\n  [87, 120, 259, 191, 67],\n  [174, 66, 254, 228, 88]],\n [[133, 87, 301, 269, 87],\n  [162, 184, 300, 134, 180],\n  [138, 119, 261, 160, 143],\n  [218, 189, 294, 338, 214],\n  [118, 138, 153, 145, 173]],\n [[277, 433, 237, 345, 270],\n  [244, 406, 213, 278, 254],\n  [298, 342, 197, 238, 220],\n  [181, 344, 176, 240, 184],\n  [271, 443, 227, 305, 258]],\n [[368, 364, 212, 398, 304],\n  [292, 351, 275, 194, 222],\n  [264, 327, 239, 233, 208],\n  [288, 446, 273, 294, 256],\n  [162, 286, 209, 191, 120]],\n [[225, 182, 98, 333, 349],\n  [241, 212, 116, 329, 400],\n  [58, 50, 54, 182, 237],\n  [132, 101, 72, 145, 191],\n  [278, 211, 112, 286, 307]],\n [[316, 255, 176, 418, 256],\n  [276, 237, 196, 382, 320],\n  [247, 252, 163, 359, 286],\n  [231, 213, 160, 262, 83],\n  [167, 192, 71, 263, 171]],\n [[198, 139, 274, 185, 335],\n  [250, 122, 381, 162, 294],\n  [170, 130, 202, 120, 214],\n  [155, 106, 173, 95, 234],\n  [263, 138, 386, 156, 455]],\n [[289, 184, 226, 159, 277],\n  [261, 159, 105, 162, 177],\n  [273, 210, 96, 224, 278],\n  [173, 152, 181, 47, 239],\n  [316, 277, 209, 147, 350]],\n [[252, 404, 283, 126, 204],\n  [151, 271, 160, 134, 82],\n  [265, 399, 335, 138, 268],\n  [302, 501, 285, 273, 208],\n  [113, 192, 134, 103, 84]],\n [[160, 207, 169, 122, 261],\n  [224, 428, 280, 342, 370],\n  [106, 228, 146, 114, 234],\n  [197, 362, 234, 307, 293],\n  [72, 321, 148, 177, 211]],\n [[208, 254, 261, 197, 267],\n  [14, 221, 249, 184, 90],\n  [100, 276, 237, 293, 135],\n  [127, 394, 374, 338, 239],\n  [85, 193, 240, 123, 147]],\n [[439, 364, 379, 265, 346],\n  [288, 271, 326, 116, 256],\n  [306, 245, 158, 171, 193],\n  [199, 152, 115, 119, 138],\n  [157, 132, 175, 78, 129]],\n [[442, 365, 286, 429, 290],\n  [297, 235, 129, 296, 236],\n  [393, 321, 236, 360, 251],\n  [225, 140, 88, 244, 230],\n  [382, 340, 289, 383, 229]],\n [[394, 202, 228, 218, 117],\n  [223, 107, 128, 118, 69],\n  [179, 108, 156, 116, 80],\n  [244, 85, 120, 107, 112],\n  [342, 182, 224, 201, 142]],\n [[289, 244, 238, 223, 167],\n  [175, 91, 166, 94, 121],\n  [319, 171, 255, 196, 169],\n  [335, 235, 281, 174, 257],\n  [269, 201, 275, 177, 181]],\n [[375, 335, 250, 211, 108],\n  [314, 295, 196, 202, 130],\n  [307, 234, 133, 204, 115],\n  [398, 366, 218, 233, 142],\n  [404, 282, 250, 250, 122]],\n [[275, 233, 240, 369, 221],\n  [283, 231, 228, 281, 139],\n  [235, 192, 222, 296, 128],\n  [209, 180, 110, 172, 140],\n  [261, 130, 238, 287, 142]],\n [[166, 169, 188, 142, 48],\n  [267, 287, 277, 154, 87],\n  [491, 466, 460, 248, 94],\n  [324, 330, 316, 197, 89],\n  [269, 210, 239, 156, 23]],\n [[84, 216, 213, 294, 124],\n  [93, 128, 198, 199, 123],\n  [51, 129, 155, 121, 129],\n  [105, 229, 214, 271, 191],\n  [70, 181, 232, 233, 127]],\n [[167, 251, 321, 335, 133],\n  [119, 214, 255, 281, 141],\n  [166, 151, 270, 232, 130],\n  [250, 308, 438, 457, 187],\n  [224, 318, 426, 417, 117]],\n [[205, 403, 305, 259, 344],\n  [242, 389, 406, 272, 354],\n  [176, 261, 289, 199, 250],\n  [293, 458, 373, 369, 464],\n  [242, 354, 331, 291, 341]],\n [[244, 24, 67, 84, 252],\n  [150, 87, 143, 59, 256],\n  [159, 73, 180, 112, 154],\n  [131, 119, 176, 60, 243],\n  [235, 96, 207, 115, 319]],\n [[390, 207, 364, 287, 496],\n  [238, 231, 315, 212, 369],\n  [106, 77, 125, 114, 178],\n  [124, 145, 157, 85, 179],\n  [396, 291, 346, 248, 505]],\n [[342, 416, 215, 414, 186],\n  [234, 321, 160, 365, 282],\n  [244, 248, 190, 297, 115],\n  [287, 329, 252, 427, 314],\n  [396, 494, 265, 525, 288]],\n [[160, 66, 173, 230, 134],\n  [117, 109, 237, 216, 169],\n  [104, 99, 202, 195, 184],\n  [272, 111, 247, 231, 250],\n  [180, 26, 74, 138, 126]],\n [[218, 260, 141, 188, 53],\n  [220, 357, 167, 300, 118],\n  [359, 445, 274, 317, 192],\n  [373, 428, 285, 299, 243],\n  [83, 148, 48, 182, 85]],\n [[190, 142, 126, 122, 173],\n  [133, 181, 138, 143, 305],\n  [87, 157, 127, 105, 204],\n  [286, 288, 195, 146, 339],\n  [275, 235, 138, 121, 299]],\n [[193, 199, 112, 239, 154],\n  [269, 297, 180, 423, 169],\n  [123, 107, 80, 130, 89],\n  [387, 369, 230, 390, 299],\n  [186, 206, 112, 267, 132]],\n [[317, 369, 346, 122, 185],\n  [324, 371, 362, 110, 226],\n  [212, 199, 257, 108, 145],\n  [282, 336, 351, 106, 294],\n  [143, 220, 170, 82, 118]],\n [[152, 287, 204, 339, 199],\n  [89, 151, 132, 252, 114],\n  [106, 150, 73, 149, 157],\n  [147, 190, 120, 161, 184],\n  [235, 399, 189, 315, 323]],\n [[329, 327, 333, 210, 231],\n  [262, 161, 218, 70, 168],\n  [393, 281, 391, 259, 328],\n  [316, 317, 391, 232, 225],\n  [360, 341, 389, 250, 272]],\n [[251, 106, 125, 164, 97],\n  [343, 99, 180, 275, 110],\n  [234, 98, 197, 274, 101],\n  [186, 99, 49, 154, 80],\n  [228, 69, 108, 186, 127]],\n [[224, 349, 159, 287, 424],\n  [109, 128, 109, 105, 183],\n  [128, 114, 135, 88, 179],\n  [144, 232, 80, 176, 272],\n  [217, 274, 228, 177, 264]],\n [[126, 171, 176, 237, 65],\n  [239, 169, 134, 135, 121],\n  [299, 307, 41, 201, 207],\n  [360, 306, 145, 220, 174],\n  [200, 210, 193, 180, 74]],\n [[128, 281, 170, 240, 113],\n  [224, 340, 192, 383, 185],\n  [210, 372, 212, 469, 185],\n  [182, 262, 143, 249, 135],\n  [114, 177, 88, 200, 75]],\n [[170, 226, 139, 120, 32],\n  [231, 297, 213, 189, 125],\n  [160, 173, 112, 159, 82],\n  [239, 250, 157, 200, 99],\n  [268, 309, 213, 261, 162]],\n [[131, 212, 118, 96, 198],\n  [508, 382, 399, 349, 403],\n  [392, 338, 335, 248, 313],\n  [144, 100, 82, 50, 120],\n  [453, 222, 325, 264, 271]],\n [[312, 168, 366, 474, 405],\n  [265, 215, 317, 278, 372],\n  [262, 116, 285, 256, 259],\n  [123, 113, 149, 252, 225],\n  [265, 200, 267, 220, 292]],\n [[168, 183, 73, 170, 67],\n  [230, 280, 167, 165, 88],\n  [179, 247, 120, 155, 62],\n  [248, 320, 188, 246, 171],\n  [86, 113, 64, 112, 98]],\n [[107, 373, 260, 302, 207],\n  [158, 410, 290, 356, 275],\n  [171, 428, 253, 306, 253],\n  [91, 327, 266, 274, 182],\n  [74, 286, 86, 178, 155]],\n [[77, 172, 99, 45, 63],\n  [134, 224, 202, 134, 172],\n  [126, 304, 198, 114, 174],\n  [184, 192, 146, 162, 266],\n  [216, 318, 212, 175, 277]],\n [[152, 110, 63, 125, 174],\n  [119, 159, 105, 194, 270],\n  [205, 279, 140, 275, 357],\n  [56, 184, 99, 123, 127],\n  [266, 303, 222, 310, 403]],\n [[154, 167, 136, 180, 140],\n  [89, 174, 183, 167, 194],\n  [173, 243, 236, 248, 246],\n  [127, 178, 160, 187, 148],\n  [143, 142, 110, 164, 112]],\n [[211, 169, 142, 171, 256],\n  [229, 193, 171, 244, 250],\n  [323, 333, 170, 321, 228],\n  [276, 342, 254, 310, 337],\n  [247, 335, 166, 273, 165]],\n [[177, 343, 258, 441, 125],\n  [124, 235, 196, 300, 79],\n  [203, 365, 237, 450, 142],\n  [98, 301, 187, 360, 167],\n  [110, 242, 170, 301, 106]],\n [[247, 211, 239, 133, 21],\n  [307, 201, 244, 138, 31],\n  [232, 168, 229, 179, 49],\n  [428, 320, 356, 246, 61],\n  [370, 264, 269, 147, 25]],\n [[199, 163, 215, 237, 257],\n  [292, 180, 301, 263, 262],\n  [350, 288, 409, 301, 364],\n  [238, 140, 239, 238, 202],\n  [252, 153, 261, 186, 205]],\n [[481, 331, 299, 408, 575],\n  [482, 267, 204, 374, 544],\n  [265, 199, 136, 188, 282],\n  [345, 283, 257, 314, 430],\n  [479, 279, 205, 335, 478]],\n [[100, 153, 149, 170, 217],\n  [173, 144, 182, 129, 132],\n  [241, 369, 194, 145, 208],\n  [166, 135, 116, 151, 158],\n  [242, 164, 239, 292, 255]],\n [[384, 186, 252, 358, 292],\n  [296, 128, 140, 219, 166],\n  [431, 269, 223, 264, 197],\n  [386, 200, 265, 325, 265],\n  [127, 55, 208, 281, 264]],\n [[192, 194, 217, 160, 223],\n  [192, 335, 315, 192, 314],\n  [180, 335, 317, 192, 308],\n  [221, 187, 199, 111, 211],\n  [252, 232, 306, 72, 218]],\n [[178, 201, 48, 284, 266],\n  [57, 71, 22, 129, 87],\n  [136, 138, 42, 288, 197],\n  [157, 144, 30, 236, 182],\n  [183, 214, 54, 325, 233]],\n [[439, 534, 372, 323, 373],\n  [173, 237, 132, 147, 94],\n  [301, 403, 277, 219, 203],\n  [250, 240, 258, 130, 152],\n  [69, 126, 51, 93, 34]],\n [[361, 190, 249, 342, 186],\n  [271, 96, 163, 188, 158],\n  [343, 186, 238, 308, 164],\n  [242, 35, 172, 100, 137],\n  [249, 125, 189, 229, 138]],\n [[171, 166, 285, 73, 199],\n  [233, 264, 320, 86, 268],\n  [209, 135, 218, 12, 235],\n  [148, 161, 269, 71, 172],\n  [219, 225, 289, 109, 232]],\n [[180, 83, 116, 189, 165],\n  [306, 130, 186, 239, 298],\n  [232, 124, 103, 131, 133],\n  [202, 95, 133, 187, 170],\n  [267, 125, 158, 191, 214]],\n [[139, 101, 213, 266, 334],\n  [177, 118, 244, 232, 357],\n  [242, 118, 256, 263, 386],\n  [96, 58, 150, 106, 179],\n  [192, 135, 253, 248, 394]],\n [[189, 249, 215, 191, 370],\n  [60, 43, 63, 31, 83],\n  [107, 159, 182, 121, 178],\n  [117, 174, 121, 129, 202],\n  [124, 197, 128, 167, 269]],\n [[124, 106, 390, 280, 437],\n  [56, 59, 271, 177, 289],\n  [124, 190, 293, 273, 343],\n  [116, 188, 287, 258, 396],\n  [84, 150, 287, 240, 318]],\n [[187, 254, 197, 186, 231],\n  [206, 203, 208, 190, 203],\n  [246, 235, 185, 240, 233],\n  [397, 360, 359, 382, 364],\n  [172, 139, 254, 254, 148]],\n [[314, 282, 372, 202, 322],\n  [212, 282, 404, 251, 343],\n  [70, 99, 199, 145, 127],\n  [230, 213, 302, 170, 230],\n  [86, 118, 148, 104, 140]],\n [[106, 186, 208, 111, 201],\n  [146, 104, 209, 138, 271],\n  [124, 68, 105, 69, 170],\n  [222, 207, 214, 106, 305],\n  [185, 66, 131, 109, 226]],\n [[58, 306, 320, 217, 190],\n  [18, 50, 162, 114, 74],\n  [108, 248, 241, 279, 162],\n  [48, 296, 210, 209, 196],\n  [132, 350, 327, 310, 210]],\n [[186, 417, 195, 237, 124],\n  [75, 257, 96, 128, 81],\n  [183, 409, 194, 249, 121],\n  [60, 270, 31, 169, 52],\n  [177, 412, 176, 315, 117]],\n [[174, 249, 380, 305, 460],\n  [106, 203, 385, 275, 334],\n  [136, 248, 325, 290, 361],\n  [208, 202, 316, 248, 392],\n  [280, 318, 405, 352, 466]],\n [[321, 418, 271, 323, 536],\n  [170, 68, 29, 212, 211],\n  [124, 231, 138, 115, 313],\n  [166, 219, 120, 173, 357],\n  [202, 274, 113, 245, 358]],\n [[355, 228, 316, 260, 223],\n  [173, 158, 111, 141, 139],\n  [305, 232, 261, 255, 225],\n  [347, 231, 279, 290, 229],\n  [438, 266, 414, 327, 265]],\n [[427, 240, 416, 227, 298],\n  [313, 202, 377, 235, 239],\n  [126, 72, 144, 116, 76],\n  [262, 185, 360, 282, 172],\n  [328, 183, 311, 118, 248]],\n [[209, 191, 181, 203, 129],\n  [191, 140, 193, 158, 159],\n  [267, 207, 233, 231, 103],\n  [89, 47, 74, 65, 14],\n  [83, 126, 48, 58, 43]],\n [[268, 273, 181, 98, 229],\n  [240, 319, 213, 106, 189],\n  [109, 61, 56, 31, 100],\n  [312, 265, 157, 76, 236],\n  [301, 335, 265, 164, 242]],\n [[120, 140, 90, 134, 146],\n  [315, 455, 275, 377, 498],\n  [207, 256, 148, 190, 239],\n  [195, 265, 174, 226, 268],\n  [192, 186, 104, 108, 172]],\n [[254, 137, 200, 171, 254],\n  [286, 197, 307, 134, 286],\n  [219, 174, 219, 169, 256],\n  [204, 190, 276, 95, 244],\n  [313, 183, 241, 165, 268]],\n [[191, 270, 124, 104, 262],\n  [127, 313, 191, 91, 264],\n  [161, 350, 218, 136, 276],\n  [206, 246, 145, 139, 232],\n  [313, 347, 239, 167, 387]],\n [[323, 343, 194, 348, 164],\n  [370, 299, 307, 393, 265],\n  [334, 336, 241, 388, 197],\n  [362, 343, 278, 399, 212],\n  [306, 329, 219, 317, 128]],\n [[222, 207, 348, 316, 317],\n  [104, 120, 208, 234, 211],\n  [164, 166, 275, 256, 269],\n  [188, 178, 324, 306, 309],\n  [211, 167, 363, 341, 325]],\n [[301, 82, 96, 189, 282],\n  [229, 62, 84, 154, 179],\n  [320, 80, 120, 182, 276],\n  [352, 88, 96, 195, 297],\n  [185, 94, 72, 193, 168]],\n [[265, 94, 178, 173, 349],\n  [57, 23, 30, 48, 98],\n  [305, 175, 252, 154, 466],\n  [295, 108, 170, 164, 327],\n  [275, 86, 192, 144, 363]],\n [[240, 213, 359, 330, 161],\n  [38, 86, 89, 91, 70],\n  [174, 219, 339, 321, 113],\n  [94, 160, 221, 228, 83],\n  [152, 136, 205, 183, 105]],\n [[146, 165, 194, 154, 176],\n  [295, 185, 324, 262, 151],\n  [222, 154, 212, 118, 124],\n  [249, 212, 285, 192, 168],\n  [233, 145, 283, 202, 130]],\n [[238, 226, 220, 306, 319],\n  [147, 177, 235, 280, 352],\n  [112, 198, 212, 273, 295],\n  [156, 234, 164, 324, 242],\n  [144, 94, 210, 212, 331]],\n [[291, 383, 334, 227, 322],\n  [233, 322, 285, 225, 298],\n  [250, 261, 318, 234, 263],\n  [282, 293, 283, 195, 239],\n  [232, 374, 312, 211, 324]],\n [[204, 227, 319, 258, 257],\n  [200, 147, 245, 234, 151],\n  [273, 253, 269, 352, 262],\n  [283, 206, 212, 308, 271],\n  [326, 296, 424, 434, 281]],\n [[388, 123, 85, 106, 142],\n  [340, 136, 126, 162, 177],\n  [315, 143, 122, 169, 145],\n  [285, 162, 231, 272, 213],\n  [294, 208, 110, 238, 153]],\n [[226, 134, 123, 160, 117],\n  [246, 196, 125, 247, 136],\n  [393, 235, 126, 310, 145],\n  [162, 238, 153, 271, 228],\n  [240, 184, 117, 228, 145]],\n [[258, 75, 105, 297, 144],\n  [342, 195, 147, 359, 201],\n  [352, 267, 178, 455, 297],\n  [226, 124, 58, 296, 206],\n  [267, 174, 123, 312, 195]],\n [[258, 75, 105, 297, 144],\n  [342, 195, 147, 359, 201],\n  [352, 267, 178, 455, 297],\n  [226, 124, 58, 296, 206],\n  [267, 174, 123, 312, 195]],\n [[309, 254, 190, 126, 165],\n  [414, 360, 375, 177, 251],\n  [367, 274, 317, 112, 221],\n  [210, 166, 196, 62, 148],\n  [421, 351, 283, 179, 250]],\n [[390, 320, 258, 374, 181],\n  [146, 187, 73, 139, 82],\n  [247, 263, 179, 317, 120],\n  [273, 406, 150, 230, 202],\n  [285, 225, 156, 238, 147]],\n [[265, 362, 212, 216, 321],\n  [211, 316, 234, 148, 277],\n  [106, 194, 169, 124, 210],\n  [147, 223, 145, 135, 260],\n  [138, 233, 204, 141, 281]],\n [[117, 258, 123, 211, 264],\n  [188, 384, 128, 367, 440],\n  [55, 264, 147, 162, 272],\n  [164, 324, 84, 236, 360],\n  [127, 252, 83, 245, 292]],\n [[335, 174, 205, 161, 235],\n  [295, 168, 185, 144, 225],\n  [396, 185, 292, 242, 247],\n  [208, 74, 208, 164, 116],\n  [339, 166, 251, 212, 238]],\n [[199, 177, 183, 166, 132],\n  [246, 207, 228, 231, 114],\n  [139, 96, 106, 112, 50],\n  [130, 108, 130, 164, 75],\n  [246, 179, 320, 203, 300]],\n [[127, 165, 320, 274, 120],\n  [168, 84, 294, 158, 95],\n  [157, 233, 165, 256, 206],\n  [242, 272, 341, 306, 240],\n  [132, 162, 342, 245, 104]],\n [[110, 151, 138, 342, 322],\n  [131, 202, 199, 422, 406],\n  [50, 65, 78, 165, 186],\n  [115, 244, 162, 411, 337],\n  [128, 96, 144, 320, 310]],\n [[311, 387, 308, 310, 122],\n  [208, 389, 246, 261, 222],\n  [174, 290, 154, 206, 131],\n  [344, 460, 326, 377, 212],\n  [298, 394, 253, 332, 230]],\n [[276, 210, 175, 179, 273],\n  [288, 332, 231, 134, 282],\n  [314, 271, 227, 245, 295],\n  [296, 211, 213, 200, 296],\n  [239, 262, 170, 131, 183]],\n [[327, 319, 262, 186, 130],\n  [199, 275, 277, 114, 121],\n  [290, 307, 339, 187, 126],\n  [316, 439, 297, 140, 191],\n  [477, 486, 441, 195, 168]],\n [[309, 201, 323, 166, 142],\n  [306, 254, 190, 224, 187],\n  [339, 278, 320, 326, 182],\n  [300, 165, 363, 134, 119],\n  [313, 210, 310, 176, 147]],\n [[207, 336, 182, 309, 302],\n  [197, 320, 198, 236, 327],\n  [149, 341, 163, 270, 252],\n  [257, 428, 285, 285, 361],\n  [137, 224, 153, 163, 185]],\n [[140, 343, 298, 227, 285],\n  [40, 183, 82, 165, 88],\n  [84, 215, 242, 222, 214],\n  [74, 160, 143, 49, 155],\n  [68, 205, 138, 152, 149]],\n [[206, 441, 276, 510, 414],\n  [156, 244, 233, 273, 220],\n  [68, 202, 106, 172, 157],\n  [244, 372, 239, 365, 302],\n  [164, 266, 75, 194, 141]],\n [[171, 218, 350, 345, 188],\n  [203, 253, 365, 340, 173],\n  [268, 292, 317, 266, 154],\n  [315, 383, 431, 397, 180],\n  [260, 322, 420, 383, 157]],\n [[224, 286, 200, 283, 358],\n  [213, 349, 250, 294, 437],\n  [82, 180, 256, 143, 242],\n  [45, 104, 92, 68, 148],\n  [79, 117, 160, 115, 187]],\n [[88, 333, 276, 297, 234],\n  [75, 233, 179, 182, 158],\n  [126, 273, 295, 186, 194],\n  [108, 324, 293, 347, 208],\n  [61, 198, 182, 258, 142]],\n [[265, 251, 307, 387, 321],\n  [259, 281, 322, 426, 334],\n  [149, 174, 177, 262, 207],\n  [305, 271, 416, 410, 320],\n  [137, 110, 213, 175, 137]],\n [[192, 164, 74, 189, 244],\n  [224, 146, 106, 207, 297],\n  [242, 141, 87, 248, 357],\n  [70, 83, 41, 61, 123],\n  [104, 58, 24, 105, 159]],\n [[251, 337, 171, 338, 182],\n  [220, 375, 111, 341, 162],\n  [153, 223, 53, 202, 102],\n  [361, 353, 153, 378, 307],\n  [253, 238, 84, 241, 140]],\n [[136, 256, 126, 148, 274],\n  [75, 116, 43, 95, 222],\n  [188, 196, 229, 115, 191],\n  [156, 140, 183, 95, 160],\n  [62, 162, 93, 90, 106]],\n [[342, 245, 174, 185, 187],\n  [329, 204, 182, 132, 78],\n  [461, 338, 224, 219, 183],\n  [344, 186, 156, 237, 217],\n  [360, 242, 190, 211, 225]],\n [[168, 125, 227, 222, 103],\n  [239, 143, 261, 215, 145],\n  [377, 230, 480, 278, 175],\n  [198, 129, 354, 248, 100],\n  [263, 146, 391, 283, 168]],\n [[241, 164, 147, 239, 236],\n  [212, 136, 117, 181, 114],\n  [251, 100, 154, 262, 192],\n  [225, 116, 175, 249, 229],\n  [243, 209, 159, 266, 299]],\n [[257, 219, 241, 204, 334],\n  [198, 152, 103, 174, 237],\n  [261, 285, 232, 243, 360],\n  [246, 165, 78, 218, 273],\n  [382, 307, 305, 273, 431]],\n [[204, 166, 214, 223, 138],\n  [222, 174, 238, 156, 102],\n  [340, 186, 341, 243, 168],\n  [326, 184, 287, 208, 192],\n  [114, 77, 129, 167, 96]],\n [[210, 203, 164, 211, 86],\n  [289, 287, 393, 237, 243],\n  [210, 195, 175, 205, 95],\n  [235, 222, 237, 224, 113],\n  [201, 193, 173, 203, 91]],\n [[147, 197, 319, 143, 298],\n  [158, 314, 376, 142, 226],\n  [110, 136, 126, 84, 86],\n  [150, 354, 351, 110, 242],\n  [98, 238, 192, 62, 58]],\n [[203, 81, 150, 223, 186],\n  [142, 71, 45, 182, 187],\n  [140, 61, 99, 191, 133],\n  [339, 131, 210, 355, 310],\n  [239, 113, 147, 329, 261]],\n [[136, 30, 97, 64, 80],\n  [270, 160, 148, 165, 155],\n  [290, 72, 163, 168, 182],\n  [320, 211, 275, 231, 185],\n  [177, 81, 158, 205, 144]],\n [[172, 318, 174, 337, 246],\n  [143, 262, 114, 206, 97],\n  [172, 267, 147, 234, 163],\n  [138, 340, 178, 348, 209],\n  [187, 305, 223, 347, 188]],\n [[316, 218, 254, 217, 272],\n  [260, 187, 182, 166, 215],\n  [308, 270, 184, 194, 264],\n  [68, 87, 105, 52, 55],\n  [86, 49, 98, 61, 68]],\n [[47, 309, 142, 192, 109],\n  [25, 214, 153, 168, 118],\n  [46, 303, 155, 279, 86],\n  [53, 282, 104, 135, 96],\n  [67, 310, 145, 150, 153]],\n [[153, 60, 186, 153, 270],\n  [81, 108, 142, 13, 169],\n  [207, 202, 243, 61, 193],\n  [372, 289, 441, 163, 480],\n  [354, 275, 355, 115, 405]],\n [[248, 64, 168, 128, 120],\n  [326, 119, 249, 276, 289],\n  [245, 114, 232, 317, 318],\n  [267, 111, 177, 262, 309],\n  [378, 136, 314, 335, 344]],\n [[197, 269, 292, 212, 110],\n  [151, 217, 241, 136, 152],\n  [159, 127, 207, 128, 140],\n  [223, 373, 321, 327, 240],\n  [170, 173, 242, 163, 181]],\n [[302, 233, 109, 278, 136],\n  [266, 178, 113, 265, 81],\n  [200, 123, 121, 115, 119],\n  [380, 286, 131, 324, 187],\n  [240, 154, 141, 270, 69]],\n [[163, 128, 84, 139, 81],\n  [336, 143, 103, 154, 139],\n  [239, 144, 110, 138, 92],\n  [307, 251, 139, 285, 220],\n  [175, 249, 115, 262, 193]],\n [[93, 103, 161, 243, 77],\n  [226, 278, 284, 352, 164],\n  [295, 257, 302, 211, 167],\n  [166, 94, 190, 158, 92],\n  [225, 224, 300, 352, 154]],\n [[101, 156, 271, 200, 355],\n  [89, 108, 205, 76, 199],\n  [144, 236, 342, 253, 437],\n  [122, 172, 141, 120, 178],\n  [114, 214, 284, 234, 310]],\n [[137, 207, 278, 382, 316],\n  [105, 178, 231, 316, 282],\n  [115, 180, 245, 350, 326],\n  [173, 199, 311, 404, 293],\n  [62, 231, 215, 262, 186]],\n [[186, 132, 206, 112, 182],\n  [235, 236, 315, 187, 306],\n  [136, 107, 154, 106, 135],\n  [276, 214, 285, 191, 246],\n  [285, 225, 294, 206, 253]],\n [[241, 355, 147, 370, 357],\n  [179, 214, 118, 268, 286],\n  [298, 368, 155, 430, 434],\n  [234, 333, 179, 360, 355],\n  [214, 283, 108, 326, 319]],\n [[269, 258, 197, 292, 188],\n  [246, 276, 266, 323, 181],\n  [217, 279, 104, 192, 201],\n  [113, 118, 185, 179, 81],\n  [147, 286, 196, 265, 131]],\n [[67, 126, 115, 110, 62],\n  [92, 240, 294, 207, 189],\n  [173, 330, 367, 245, 315],\n  [147, 335, 377, 238, 325],\n  [101, 282, 311, 181, 267]],\n [[365, 292, 292, 303, 344],\n  [143, 54, 129, 107, 156],\n  [348, 194, 325, 334, 312],\n  [268, 180, 240, 252, 212],\n  [183, 160, 206, 181, 206]],\n [[239, 137, 237, 276, 189],\n  [277, 108, 319, 385, 252],\n  [206, 103, 209, 272, 178],\n  [234, 172, 218, 261, 199],\n  [303, 180, 315, 396, 285]],\n [[71, 93, 90, 194, 64],\n  [252, 180, 109, 244, 219],\n  [261, 232, 198, 386, 238],\n  [61, 96, 174, 144, 84],\n  [127, 154, 176, 267, 141]],\n [[105, 236, 79, 106, 159],\n  [168, 412, 112, 239, 272],\n  [95, 161, 72, 32, 109],\n  [117, 189, 155, 30, 215],\n  [197, 413, 139, 167, 275]],\n [[244, 180, 154, 174, 118],\n  [309, 367, 244, 205, 230],\n  [320, 319, 201, 233, 294],\n  [353, 316, 233, 232, 232],\n  [197, 114, 129, 90, 44]],\n [[294, 312, 506, 384, 259],\n  [202, 284, 442, 352, 280],\n  [271, 347, 548, 424, 357],\n  [125, 199, 288, 240, 160],\n  [169, 219, 378, 228, 217]],\n [[196, 287, 168, 229, 303],\n  [227, 304, 234, 323, 334],\n  [273, 347, 226, 304, 369],\n  [228, 308, 280, 277, 414],\n  [184, 234, 174, 243, 246]],\n [[329, 335, 331, 133, 350],\n  [476, 455, 444, 230, 481],\n  [351, 348, 396, 221, 414],\n  [173, 214, 271, 118, 290],\n  [293, 282, 321, 179, 325]],\n [[87, 80, 142, 113, 152],\n  [118, 260, 224, 184, 138],\n  [88, 222, 320, 186, 222],\n  [37, 122, 219, 63, 214],\n  [211, 376, 402, 299, 342]],\n [[126, 221, 180, 292, 281],\n  [131, 199, 159, 284, 266],\n  [173, 111, 159, 186, 272],\n  [73, 108, 123, 174, 227],\n  [202, 259, 267, 377, 451]],\n [[85, 214, 327, 114, 125],\n  [125, 184, 210, 124, 162],\n  [135, 270, 361, 146, 196],\n  [92, 116, 132, 86, 141],\n  [171, 190, 250, 192, 279]],\n [[166, 239, 106, 202, 250],\n  [302, 326, 219, 286, 333],\n  [224, 262, 166, 244, 298],\n  [344, 305, 277, 296, 398],\n  [136, 284, 78, 245, 219]],\n [[140, 365, 173, 205, 275],\n  [148, 210, 219, 204, 213],\n  [150, 394, 232, 253, 305],\n  [201, 373, 257, 267, 332],\n  [136, 311, 205, 213, 204]],\n [[323, 188, 129, 205, 325],\n  [327, 156, 113, 159, 227],\n  [319, 169, 92, 155, 205],\n  [453, 224, 95, 165, 371],\n  [250, 179, 140, 185, 235]],\n [[127, 104, 250, 161, 167],\n  [179, 207, 246, 195, 265],\n  [133, 70, 196, 175, 112],\n  [68, 106, 140, 96, 68],\n  [127, 208, 345, 203, 153]],\n [[132, 260, 163, 406, 315],\n  [81, 191, 144, 265, 217],\n  [162, 380, 220, 429, 364],\n  [100, 236, 148, 286, 258],\n  [136, 360, 202, 409, 342]],\n [[245, 202, 178, 127, 248],\n  [280, 209, 157, 74, 134],\n  [221, 145, 121, 133, 187],\n  [231, 218, 185, 116, 251],\n  [394, 216, 181, 129, 227]],\n [[358, 299, 254, 253, 392],\n  [233, 206, 195, 215, 282],\n  [219, 271, 144, 198, 374],\n  [153, 144, 106, 114, 225],\n  [146, 167, 101, 127, 226]],\n [[237, 332, 339, 261, 202],\n  [229, 252, 282, 152, 108],\n  [199, 274, 306, 245, 186],\n  [218, 199, 230, 120, 80],\n  [250, 301, 378, 227, 178]],\n [[152, 150, 256, 256, 104],\n  [140, 126, 239, 189, 38],\n  [131, 194, 346, 193, 135],\n  [114, 133, 196, 218, 72],\n  [221, 198, 326, 273, 102]],\n [[385, 254, 259, 131, 188],\n  [268, 142, 237, 144, 119],\n  [175, 150, 169, 93, 68],\n  [527, 329, 449, 287, 241],\n  [299, 175, 245, 140, 145]],\n [[255, 104, 177, 266, 252],\n  [217, 98, 131, 207, 201],\n  [320, 205, 270, 345, 344],\n  [271, 239, 203, 281, 270],\n  [310, 202, 182, 298, 292]],\n [[171, 62, 162, 272, 89],\n  [232, 163, 106, 312, 226],\n  [208, 75, 201, 305, 155],\n  [267, 201, 53, 231, 177],\n  [312, 180, 191, 417, 233]],\n [[192, 117, 159, 228, 193],\n  [170, 220, 239, 288, 195],\n  [104, 136, 44, 181, 89],\n  [124, 173, 104, 163, 194],\n  [215, 208, 140, 249, 218]],\n [[250, 231, 244, 326, 210],\n  [244, 197, 226, 249, 223],\n  [268, 219, 248, 279, 190],\n  [180, 163, 171, 256, 233],\n  [200, 102, 188, 200, 139]],\n [[127, 299, 459, 168, 242],\n  [154, 194, 240, 130, 157],\n  [184, 273, 382, 130, 233],\n  [203, 324, 353, 208, 180],\n  [296, 431, 538, 266, 353]],\n [[443, 318, 202, 310, 537],\n  [198, 106, 137, 105, 221],\n  [283, 145, 211, 206, 313],\n  [504, 303, 306, 350, 579],\n  [181, 116, 125, 207, 240]],\n [[115, 89, 116, 60, 147],\n  [68, 64, 72, 40, 119],\n  [71, 198, 49, 105, 93],\n  [201, 148, 217, 109, 310],\n  [130, 121, 107, 121, 165]],\n [[102, 127, 138, 162, 203],\n  [171, 148, 309, 132, 338],\n  [109, 195, 126, 167, 234],\n  [227, 200, 303, 199, 325],\n  [117, 215, 201, 156, 322]]]"
     },
     "execution_count": 39,
     "metadata": {},
     "output_type": "execute_result"
    }
   ],
   "source": [
    "final_res = []\n",
    "def format_data(data):\n",
    "        return data.replace('  ', ' ').replace('  ', ',').replace('[ ', '[').replace(' ', ',')\n",
    "\n",
    "for a,b in enumerate(np.array_split(data, INSTANCE_SIZE)):\n",
    "    compute_res = []\n",
    "    for i in range(len(b)):\n",
    "        res = get_messages_from_queue(INSTANCE_SIZE, f'result-queue-{a}', 1)\n",
    "        [compute_res.append(msg) for msg in res]\n",
    "    compute_res = [literal_eval(compute) for compute in compute_res]\n",
    "    compute_res.sort()\n",
    "\n",
    "    [final_res.append(literal_eval(format_data(res)))  for (index, res) in compute_res]\n",
    "\n",
    "\n",
    "print('Computation time', datetime.datetime.now() - start_time)\n",
    "final_res\n"
   ]
  },
  {
   "cell_type": "code",
   "execution_count": 18,
   "id": "1ea5d435",
   "metadata": {
    "collapsed": false,
    "jupyter": {
     "outputs_hidden": false
    }
   },
   "outputs": [],
   "source": []
  },
  {
   "cell_type": "code",
   "execution_count": 19,
   "id": "eb35587b-cee3-455a-a86d-1b4c6b875653",
   "metadata": {},
   "outputs": [],
   "source": [
    "#create instance\n",
    "#configure instance\n",
    "#create matrix\n",
    "#split matrix\n",
    "#send matrix to the queue\n",
    "#read matrix from the queue on the instance created\n",
    "#compute matrix\n",
    "#send result to base\n"
   ]
  },
  {
   "cell_type": "code",
   "execution_count": 71,
   "id": "d149a3f8-392e-4080-8ecc-d00c56714648",
   "metadata": {},
   "outputs": [
    {
     "name": "stdout",
     "output_type": "stream",
     "text": [
      "[main 225dd4d] Fixed result gathering from the queue\r\n",
      " 3 files changed, 470 insertions(+), 141 deletions(-)\r\n",
      " create mode 100644 .ipynb_checkpoints/untitled-checkpoint.py\r\n",
      " create mode 100644 untitled.py\r\n",
      "Enumerating objects: 8, done.\r\n",
      "Counting objects: 100% (8/8), done.\r\n",
      "Delta compression using up to 8 threads\r\n",
      "Compressing objects: 100% (5/5), done.\r\n",
      "Writing objects: 100% (5/5), 39.42 KiB | 3.94 MiB/s, done.\r\n",
      "Total 5 (delta 2), reused 0 (delta 0), pack-reused 0\r\n",
      "remote: Resolving deltas: 100% (2/2), completed with 2 local objects.\u001B[K\r\n",
      "To https://github.com/airscholar/MLCloudComputing-python.git\r\n",
      " + 8be741a...225dd4d main -> main (forced update)\r\n",
      "branch 'main' set up to track 'origin/main'.\r\n"
     ]
    }
   ],
   "source": [
    "!git add .\n",
    "!git commit -am \"Updated implementation\"\n",
    "!git push --set-upstream origin main"
   ]
  },
  {
   "cell_type": "code",
   "execution_count": 20,
   "id": "e9fc665d",
   "metadata": {
    "collapsed": false,
    "jupyter": {
     "outputs_hidden": false
    }
   },
   "outputs": [],
   "source": []
  }
 ],
 "metadata": {
  "kernelspec": {
   "display_name": "Python 3 (ipykernel)",
   "language": "python",
   "name": "python3"
  },
  "language_info": {
   "codemirror_mode": {
    "name": "ipython",
    "version": 3
   },
   "file_extension": ".py",
   "mimetype": "text/x-python",
   "name": "python",
   "nbconvert_exporter": "python",
   "pygments_lexer": "ipython3",
   "version": "3.9.12"
  }
 },
 "nbformat": 4,
 "nbformat_minor": 5
}
