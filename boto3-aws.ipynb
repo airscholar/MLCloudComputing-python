{
 "cells": [
  {
   "cell_type": "code",
   "execution_count": 1,
   "id": "1795e9e2-fda9-442b-8a76-8cd77c3a9138",
   "metadata": {},
   "outputs": [],
   "source": [
    "# !pip install paramiko\n",
    "# !pip install scp"
   ]
  },
  {
   "cell_type": "code",
   "execution_count": 21,
   "id": "09e8788d-0182-49f9-9128-a6dfbca0b8b7",
   "metadata": {},
   "outputs": [],
   "source": [
    "import ast\n",
    "import json\n",
    "import os\n",
    "import boto3\n",
    "import subprocess\n",
    "import numpy as np\n",
    "import time\n",
    "import datetime\n",
    "import paramiko\n",
    "import io\n",
    "from scp import SCPClient, SCPException\n",
    "import sys\n",
    "from ast import literal_eval"
   ]
  },
  {
   "cell_type": "code",
   "execution_count": 2,
   "id": "2826bf4b-381b-4810-8ac0-672563a4a12e",
   "metadata": {},
   "outputs": [],
   "source": [
    "np.set_printoptions(threshold=sys.maxsize)"
   ]
  },
  {
   "cell_type": "code",
   "execution_count": 3,
   "id": "6c10e4cc-94f6-4c09-bb82-d5e19b44a8f0",
   "metadata": {},
   "outputs": [],
   "source": [
    "INSTANCE_SIZE = 5"
   ]
  },
  {
   "cell_type": "code",
   "execution_count": 4,
   "id": "065e1449-3738-40b5-87ec-1839be75e1ad",
   "metadata": {},
   "outputs": [],
   "source": [
    "client = boto3.client('ec2', region_name='us-east-1')\n",
    "# Create SQS client\n",
    "sqs = boto3.resource('sqs')"
   ]
  },
  {
   "cell_type": "code",
   "execution_count": 66,
   "outputs": [],
   "source": [
    "def get_default_security_group(client, key_name):\n",
    "    #extract key_name attribute from the security groups returned\n",
    "    response = [group[key_name] for group in client.describe_security_groups()['SecurityGroups'] if group['GroupName'] == 'default']\n",
    "\n",
    "    return response\n",
    "\n",
    "def get_key_pairs(client, removeExisting=False):\n",
    "    if removeExisting:\n",
    "        client.delete_key_pair(KeyName='airscholar-key')\n",
    "\n",
    "    keypairs = client.describe_key_pairs()['KeyPairs']\n",
    "    keypair = list(filter(lambda x: x['KeyName'] == 'airscholar-key', keypairs))\n",
    "\n",
    "    if not keypair:\n",
    "        keypair = client.create_key_pair(KeyName='airscholar-key')\n",
    "        f = io.StringIO(keypair['KeyMaterial'])\n",
    "        data = f.read()\n",
    "        file = open('labsuser.pem', 'w')\n",
    "        file.write(data)\n",
    "        file.close()\n",
    "    else:\n",
    "        keypair = keypair[0]\n",
    "\n",
    "    return keypair\n",
    "\n",
    "def launch_new_instance(client, keypair, count):\n",
    "    response = client.run_instances(\n",
    "        ImageId='ami-05723c3b9cf4bf4ff',\n",
    "        InstanceType='t2.micro',\n",
    "        KeyName=keypair,\n",
    "        MaxCount=count,\n",
    "        MinCount=count,\n",
    "        Monitoring={\n",
    "            'Enabled': True\n",
    "        },\n",
    "        SecurityGroupIds= get_default_security_group(client, key_name='GroupId')\n",
    "    )\n",
    "    ec2_inst_ids = [res[\"InstanceId\"] for res in response]\n",
    "    waiter = client.get_waiter('instance_running')\n",
    "    waiter.wait(InstanceIds=[ec2_inst_ids])\n",
    "    return ec2_inst_ids\n",
    "\n",
    "def prepare_instances(client, keypair, count):\n",
    "    ec2 = boto3.resource('ec2')\n",
    "    ec2_inst_ids = []\n",
    "    # print(ec2.instances.all())\n",
    "\n",
    "    for instance in ec2.instances.all():\n",
    "        if instance.state['Name'] == 'running':\n",
    "            ec2_inst_ids.append(instance.id)\n",
    "\n",
    "    if not ec2_inst_ids:\n",
    "        ec2_inst_ids.append(launch_new_instance(client, keypair, count))\n",
    "\n",
    "    return ec2, ec2_inst_ids\n",
    "\n",
    "def configure_ssh():\n",
    "    sshs = []\n",
    "    for count in range(0, INSTANCE_SIZE):\n",
    "        ssh = paramiko.SSHClient()\n",
    "        ssh.set_missing_host_key_policy(paramiko.AutoAddPolicy())\n",
    "        sshs.append(ssh)\n",
    "    return sshs\n",
    "\n",
    "def ssh_connect_with_retry(ssh, ip_address, retries):\n",
    "    if retries > 3:\n",
    "        return False\n",
    "    f = open('labsuser.pem', 'r')\n",
    "    privkey = paramiko.RSAKey.from_private_key(f)\n",
    "    # print(privkey)\n",
    "    interval = 5\n",
    "    try:\n",
    "        retries += 1\n",
    "        print('SSH into the instance: {}'.format(ip_address))\n",
    "        ssh.connect(hostname=ip_address,\n",
    "                    username='ec2-user', pkey=privkey)\n",
    "        return True\n",
    "    except Exception as e:\n",
    "        print(e)\n",
    "        time.sleep(interval)\n",
    "        print('Retrying SSH connection to {}'.format(ip_address))\n",
    "        ssh_connect_with_retry(ssh, ip_address, retries)\n",
    "\n",
    "def ssh_disconnect(ssh):\n",
    "        \"\"\"Close ssh connection.\"\"\"\n",
    "        if ssh:\n",
    "            ssh.close()\n",
    "\n",
    "def get_public_address(ec2, instance_id):\n",
    "    # ec2 = boto3.resource('ec2', region_name='us-east-1')\n",
    "    instance = ec2.Instance(id=instance_id)\n",
    "    instance.wait_until_running()\n",
    "    current_instance = list(ec2.instances.filter(InstanceIds=[instance_id]))\n",
    "    ip_address = current_instance[0].public_ip_address\n",
    "    return ip_address\n",
    "\n",
    "def get_queue(sqs, queue_name):\n",
    "    # Get the queue. This returns an SQS.Queue instance\n",
    "    # There is no queue, create a new SQS queue\n",
    "    attributes = {\n",
    "        'DelaySeconds': '0',\n",
    "        'MessageRetentionPeriod': '86400',\n",
    "        \"ReceiveMessageWaitTimeSeconds\": \"0\"\n",
    "    }\n",
    "\n",
    "    for idx in range(INSTANCE_SIZE):\n",
    "        sqs.create_queue(\n",
    "            QueueName=f\"{queue_name}{idx}\",\n",
    "            Attributes=attributes\n",
    "        )\n",
    "    sqs.create_queue(\n",
    "        QueueName='result-queue',\n",
    "        Attributes=attributes\n",
    "    )\n",
    "\n",
    "def send_message_to_queue(sqs, queue_name, message):\n",
    "    queue = sqs.get_queue_by_name(QueueName=queue_name)\n",
    "\n",
    "    # Send message to SQS queue\n",
    "    response = queue.send_messages(\n",
    "        Entries=message\n",
    "    )\n",
    "    return response\n",
    "\n",
    "def install_required_packages(ssh):\n",
    "    stdin, stdout, stderr = ssh.exec_command(\"sudo yum install pip -y && pip install numpy\")\n",
    "    astdin, stdout, stderr = ssh.exec_command(\"sudo yum install pip -y && pip install numpy\")\n",
    "    return stdout, stderr\n",
    "\n",
    "def get_messages_from_queue(queue_url):\n",
    "    sqs_client = boto3.client('sqs')\n",
    "\n",
    "    messages = []\n",
    "\n",
    "    while True:\n",
    "        resp = sqs_client.receive_message(\n",
    "            QueueUrl=queue_url\n",
    "        )\n",
    "\n",
    "        try:\n",
    "            messages.extend(resp['Messages'])\n",
    "        except KeyError:\n",
    "            break\n",
    "\n",
    "        entries = [\n",
    "            {'Index': msg['MatrixId'], 'Matrix': msg['Matrix']}\n",
    "            for msg in resp['Messages']\n",
    "        ]\n",
    "\n",
    "        resp = sqs_client.delete_message_batch(\n",
    "            QueueUrl=queue_url, Entries=entries\n",
    "        )\n",
    "\n",
    "        if len(resp['Successful']) != len(entries):\n",
    "            raise RuntimeError(\n",
    "                f\"Failed to delete messages: entries={entries!r} resp={resp!r}\"\n",
    "            )\n",
    "\n",
    "    return messages\n",
    "\n",
    "def split_row(array, nrows, ncols):\n",
    "    \"\"\"Split a matrix into sub-matrices.\"\"\"\n",
    "\n",
    "    r, h = array.shape\n",
    "    return (array.reshape(h//nrows, nrows, -1, ncols)\n",
    "                 .swapaxes(1, 2)\n",
    "                 .reshape(-1, nrows, ncols))\n",
    "\n",
    "def split_col(array, nrows, ncols):\n",
    "    \"\"\"Split a matrix into sub-matrices.\"\"\"\n",
    "    r, h = array.shape\n",
    "    return [np.vsplit(i, 5) for i in np.hsplit(arr1, r)]\n",
    "\n",
    "def generate_array(nrows, ncols):\n",
    "    arr = np.random.randint(10, size=(nrows, ncols))\n",
    "    # # print('arr 1:\\n', arr)\n",
    "    # arr = split_row(arr, 1, split_size)\n",
    "    arr1 = np.random.randint(10, size=(nrows, ncols))\n",
    "    # print('arr 2:\\n', arr1)\n",
    "    # arr1 = split_col(arr1, 1, split_size)\n",
    "\n",
    "    return arr, arr1\n",
    "\n",
    "def upload_file_to_s3(file_name, bucket, object_name=None):\n",
    "    \"\"\"Upload a file to an S3 bucket\n",
    "\n",
    "    :param file_name: File to upload\n",
    "    :param bucket: Bucket to upload to\n",
    "    :param object_name: S3 object name. If not specified then file_name is used\n",
    "    :return: True if file was uploaded, else False\n",
    "    \"\"\"\n",
    "\n",
    "    # If S3 object_name was not specified, use file_name\n",
    "    if object_name is None:\n",
    "        object_name = os.path.basename(file_name)\n",
    "\n",
    "    # Upload the file\n",
    "    s3_client = boto3.client('s3')\n",
    "    try:\n",
    "        response = s3_client.upload_file(file_name, bucket, object_name)\n",
    "    except ClientError as e:\n",
    "        logging.error(e)\n",
    "        return False\n",
    "    return True\n",
    "\n",
    "def bulk_upload(scp, filepaths: list[str], remote_path, host):\n",
    "        \"\"\"\n",
    "        Upload multiple files to a remote directory.\n",
    "\n",
    "        :param List[str] filepaths: List of local files to be uploaded.\n",
    "        \"\"\"\n",
    "        try:\n",
    "            scp.put(\n",
    "                filepaths,\n",
    "                remote_path=remote_path,\n",
    "                recursive=True\n",
    "            )\n",
    "            print(f\"Finished uploading {len(filepaths)} files to {remote_path} on {host}\")\n",
    "        except SCPException as e:\n",
    "            print(f\"SCPException during bulk upload: {e}\")\n",
    "        except Exception as e:\n",
    "            print(f\"Unexpected exception during bulk upload: {e}\")\n",
    "\n",
    "def configure_aws_access_for_ssh(ssh, ip_address):\n",
    "    \"\"\"\n",
    "    This function extracts the AWS configuration you have locally and push to the server\n",
    "    :param ssh:ssh object\n",
    "    :return:\n",
    "    \"\"\"\n",
    "    output = subprocess.getoutput(\"cat ~/.aws/credentials\")\n",
    "    ssh.exec_command(f'mkdir ~/.aws && touch ~/.aws/credentials')\n",
    "    ssh.exec_command(f\"echo '{output}' > ~/.aws/credentials\")\n",
    "    print(f'SSH AWS configuration done for {ip_address}')\n",
    "\n",
    "def matrix_dot_product(matrix_a, matrix_b):\n",
    "    start_time = datetime.datetime.now()\n",
    "    result = []\n",
    "    for i in range(len(matrix_a)):\n",
    "        row = []\n",
    "        for j in range(len(matrix_b[0])):\n",
    "            sum = 0\n",
    "            for k in range(len(matrix_b)):\n",
    "                sum += matrix_a[i][k] * matrix_b[k][j]\n",
    "            row.append(sum)\n",
    "        result.append(row)\n",
    "    print('Computation time', datetime.datetime.now() - start_time)\n",
    "\n",
    "    return result\n",
    "\n",
    "def matrix_add(matrix_1, matrix_2):\n",
    "    start_time = datetime.datetime.now()\n",
    "    result = []\n",
    "    for idx_row in range(0, len(matrix_1)):\n",
    "        row = matrix_1[idx_row]\n",
    "        row1 = matrix_2[idx_row]\n",
    "        cols = []\n",
    "        for idx_col in range(0, len(row)):\n",
    "            cols.append(row[idx_col] + row1[idx_col])\n",
    "        result.append(cols)\n",
    "    print('Computation time', datetime.datetime.now() - start_time)\n",
    "    return result"
   ],
   "metadata": {
    "collapsed": false
   }
  },
  {
   "cell_type": "code",
   "execution_count": 6,
   "id": "6e90974e-7735-4b83-9957-bd958ab449be",
   "metadata": {},
   "outputs": [],
   "source": [
    "QUEUE_NAME = 'queue'"
   ]
  },
  {
   "cell_type": "code",
   "execution_count": 7,
   "id": "5bc0a3eb-3bc7-4d62-b967-4131688e16b2",
   "metadata": {},
   "outputs": [],
   "source": [
    "get_queue(sqs, QUEUE_NAME)"
   ]
  },
  {
   "cell_type": "code",
   "execution_count": 8,
   "id": "306cdb9e-3041-4478-a61c-97aeaf5349e6",
   "metadata": {},
   "outputs": [
    {
     "name": "stdout",
     "output_type": "stream",
     "text": [
      "SSH into the instance: 44.206.246.195\n",
      "SSH into the instance: 54.86.255.244\n",
      "SSH into the instance: 3.89.115.67\n",
      "SSH into the instance: 3.82.172.51\n",
      "SSH into the instance: 34.203.252.117\n"
     ]
    }
   ],
   "source": [
    "sshs = configure_ssh() \n",
    "keypair = get_key_pairs(client, False)\n",
    "ec2, instances = prepare_instances(client, keypair['KeyName'], 5)\n",
    "ip_addresses = [get_public_address(ec2, instance) for instance in instances]\n",
    "\n",
    "for idx in range(0, len(sshs)):\n",
    "    ssh = sshs[idx]\n",
    "    ip_address = ip_addresses[idx]\n",
    "    ssh_connect_with_retry(ssh, ip_address, 0)"
   ]
  },
  {
   "cell_type": "code",
   "execution_count": 67,
   "outputs": [
    {
     "name": "stdout",
     "output_type": "stream",
     "text": [
      "SSH AWS configuration done for 44.206.246.195\n",
      "SSH AWS configuration done for 54.86.255.244\n",
      "SSH AWS configuration done for 3.89.115.67\n",
      "SSH AWS configuration done for 3.82.172.51\n",
      "SSH AWS configuration done for 34.203.252.117\n"
     ]
    }
   ],
   "source": [
    "# ssh_disconnect(ssh)\n",
    "for idx in range(len(sshs)):\n",
    "    ssh = sshs[idx]\n",
    "    ip_address = ip_addresses[idx]\n",
    "    install_required_packages(ssh)\n",
    "    configure_aws_access_for_ssh(ssh, ip_address)"
   ],
   "metadata": {
    "collapsed": false
   }
  },
  {
   "cell_type": "code",
   "execution_count": 11,
   "outputs": [],
   "source": [
    "# sqs = boto3.resource('sqs')\n",
    "# sqs\n",
    "# response = send_message_to_queue(sqs, QUEUE_NAME, \"Hi there! This is my queue message4!\", 1, 0)\n",
    "# response = send_message_to_queue(sqs, QUEUE_NAME, 'X', 1, 0)"
   ],
   "metadata": {
    "collapsed": false
   }
  },
  {
   "cell_type": "code",
   "execution_count": 48,
   "outputs": [],
   "source": [
    "ARRAY_SIZE = 500"
   ],
   "metadata": {
    "collapsed": false
   }
  },
  {
   "cell_type": "code",
   "execution_count": 49,
   "outputs": [],
   "source": [
    "arr, arr1 = generate_array(ARRAY_SIZE,ARRAY_SIZE)"
   ],
   "metadata": {
    "collapsed": false
   }
  },
  {
   "cell_type": "code",
   "execution_count": 50,
   "outputs": [],
   "source": [
    "res = matrix_dot_product(arr, arr1)"
   ],
   "metadata": {
    "collapsed": false
   }
  },
  {
   "cell_type": "code",
   "execution_count": 54,
   "outputs": [],
   "source": [],
   "metadata": {
    "collapsed": false
   }
  },
  {
   "cell_type": "code",
   "execution_count": 131,
   "id": "011063ca-6b4b-4dde-b157-dcfa45e40e2f",
   "metadata": {},
   "outputs": [],
   "source": [
    "INT_ARRAY_SIZE = int(ARRAY_SIZE/INSTANCE_SIZE)\n",
    "s_arr = split_row(arr, INT_ARRAY_SIZE, INT_ARRAY_SIZE)"
   ]
  },
  {
   "cell_type": "code",
   "execution_count": 132,
   "outputs": [
    {
     "name": "stdout",
     "output_type": "stream",
     "text": [
      "[[1 0 4 1 3 0 7 5 3 9 0 2 7 8 1 4 5 4 0 1]\n",
      " [1 1 6 7 4 8 7 1 4 9 2 1 0 5 9 7 5 1 2 9]\n",
      " [8 4 2 8 2 4 6 1 0 8 4 0 8 6 5 1 0 2 4 4]\n",
      " [2 8 1 6 7 0 4 2 5 2 9 8 9 4 3 6 3 3 3 0]\n",
      " [0 2 7 8 3 3 8 6 2 0 0 7 1 2 4 7 6 0 9 0]\n",
      " [3 7 9 1 1 0 3 7 1 6 8 6 0 3 8 3 3 8 2 2]\n",
      " [9 4 7 8 5 8 2 9 1 9 4 7 6 3 1 8 2 6 5 6]\n",
      " [4 5 2 0 7 6 7 4 4 1 1 5 7 8 6 1 1 4 1 1]\n",
      " [6 3 3 8 5 1 5 6 8 9 6 4 5 0 3 5 4 1 3 0]\n",
      " [3 7 1 9 1 3 4 3 1 0 6 9 7 9 4 2 9 1 7 2]\n",
      " [1 5 0 8 0 6 6 4 6 4 4 8 5 4 9 1 9 3 7 6]\n",
      " [6 2 0 0 0 0 5 2 1 8 3 6 8 7 3 0 2 6 6 4]\n",
      " [9 2 4 4 4 9 3 8 7 0 8 7 8 8 0 1 6 0 1 7]\n",
      " [9 5 8 4 9 3 1 9 8 6 8 8 4 2 3 2 2 2 9 7]\n",
      " [0 7 9 2 2 7 7 0 1 2 4 7 9 7 5 7 7 4 5 9]\n",
      " [4 9 8 7 2 2 2 4 4 7 4 6 3 7 3 5 9 0 7 7]\n",
      " [9 8 8 2 5 0 1 3 3 3 0 6 6 8 8 1 0 7 8 6]\n",
      " [9 2 9 0 8 1 2 7 7 2 4 2 3 4 9 4 9 4 0 5]\n",
      " [4 4 0 6 2 1 0 1 4 6 3 8 1 9 6 5 1 5 7 9]\n",
      " [5 9 3 2 8 3 5 0 8 9 3 3 4 7 0 1 6 3 6 0]]\n"
     ]
    }
   ],
   "source": [
    "for row in range(0, INT_ARRAY_SIZE):\n",
    "    print(s_arr[row])\n",
    "    break"
   ],
   "metadata": {
    "collapsed": false
   }
  },
  {
   "cell_type": "code",
   "execution_count": null,
   "outputs": [],
   "source": [
    "a[1][0]"
   ],
   "metadata": {
    "collapsed": false
   }
  },
  {
   "cell_type": "code",
   "execution_count": 134,
   "id": "8bd9f29a-300c-401e-ae2a-887c00ce06ca",
   "metadata": {},
   "outputs": [],
   "source": [
    "# s_arr1 = split_col(arr1, 2, 5)\n",
    "s_arr1 = split_row(arr1, INT_ARRAY_SIZE, INT_ARRAY_SIZE)"
   ]
  },
  {
   "cell_type": "code",
   "execution_count": 18,
   "id": "ed4604b3-403f-4671-837d-11a13b2726ac",
   "metadata": {},
   "outputs": [],
   "source": [
    "# iter = len(s_arr)/100"
   ]
  },
  {
   "cell_type": "code",
   "execution_count": 55,
   "id": "50376ddf-9003-46a2-9b85-56471347f37b",
   "metadata": {},
   "outputs": [],
   "source": [
    "\n",
    "# b = str(b).replace('\\n', ',').replace(' ', '')"
   ]
  },
  {
   "cell_type": "code",
   "execution_count": 57,
   "id": "b2fd32ed-05e4-4e60-8539-e43678fc091d",
   "metadata": {},
   "outputs": [],
   "source": [
    "# for y in range(0, 20)\n",
    "# for x in range(0, iter):\n",
    "# a = arr[0]\n",
    "# b = arr[1]\n",
    "# a = str(a).replace(' ', ',').replace('\\n', '')\n",
    "# b = str(b).replace('\\n', ',').replace(' ', '')\n",
    "    \n",
    "    # stdin, stdout, stderr = ssh.exec_command(f'python dot_prod.py {a} {b}')\n",
    "    # result = stdout.read().decode(\"utf-8\").replace('\\n', '')\n",
    "    # literal_eval(result)[0][0]\n",
    "    # print(stderr.read().decode(\"utf-8\"))"
   ]
  },
  {
   "cell_type": "code",
   "execution_count": 46,
   "id": "dce16320-e39d-4bf6-baed-09379fd186fb",
   "metadata": {},
   "outputs": [],
   "source": [
    "scp = SCPClient(ssh.get_transport())"
   ]
  },
  {
   "cell_type": "code",
   "execution_count": 47,
   "id": "0725e60a-2dda-4067-a494-b7a2ecd382f5",
   "metadata": {},
   "outputs": [],
   "source": [
    "# fetch_local_files('.')"
   ]
  },
  {
   "cell_type": "code",
   "execution_count": 48,
   "outputs": [
    {
     "name": "stdout",
     "output_type": "stream",
     "text": [
      "Finished uploading 1 files to ~ on 54.152.58.160\n"
     ]
    }
   ],
   "source": [
    "bulk_upload(scp, ['./dot_prod.py'], '~', ip_address)"
   ],
   "metadata": {
    "collapsed": false
   }
  },
  {
   "cell_type": "code",
   "execution_count": null,
   "outputs": [],
   "source": [],
   "metadata": {
    "collapsed": false
   }
  },
  {
   "cell_type": "code",
   "execution_count": 148,
   "id": "33cd3d74-e2a8-4959-817f-58c893854021",
   "metadata": {},
   "outputs": [],
   "source": [
    "def reformat_data(data):\n",
    "    return str(data).replace(' ', ',').replace('\\n', '')\n",
    "# a = s_arr[0]\n",
    "# b = s_arr[1]\n",
    "# a = str(a).replace(' ', ',').replace('\\n', '')\n",
    "# b = str(b).replace(' ', ',').replace('\\n', '')\n",
    "messages = [{\"Id\": f\"{idx}\", \"MessageBody\": str((reformat_data(s_arr[idx]), reformat_data(s_arr1[idx]))) } for idx in range(0, 5)]\n",
    "messages1 = [{\"Id\": f\"{idx}\", \"MessageBody\": str((reformat_data(s_arr[idx]), reformat_data(s_arr1[idx]))) } for idx in range(5, 10)]\n",
    "messages2 = [{\"Id\": f\"{idx}\", \"MessageBody\": str((reformat_data(s_arr[idx]), reformat_data(s_arr1[idx]))) } for idx in range(10, 15)]\n",
    "messages3 = [{\"Id\": f\"{idx}\", \"MessageBody\": str((reformat_data(s_arr[idx]), reformat_data(s_arr1[idx]))) } for idx in range(15, 20)]\n",
    "messages4 = [{\"Id\": f\"{idx}\", \"MessageBody\": str((reformat_data(s_arr[idx]), reformat_data(s_arr1[idx]))) } for idx in range(20, 25)]"
   ]
  },
  {
   "cell_type": "code",
   "execution_count": 149,
   "outputs": [
    {
     "data": {
      "text/plain": "[{'Id': '0',\n  'MessageBody': \"('[[1,0,4,1,3,0,7,5,3,9,0,2,7,8,1,4,5,4,0,1],[1,1,6,7,4,8,7,1,4,9,2,1,0,5,9,7,5,1,2,9],[8,4,2,8,2,4,6,1,0,8,4,0,8,6,5,1,0,2,4,4],[2,8,1,6,7,0,4,2,5,2,9,8,9,4,3,6,3,3,3,0],[0,2,7,8,3,3,8,6,2,0,0,7,1,2,4,7,6,0,9,0],[3,7,9,1,1,0,3,7,1,6,8,6,0,3,8,3,3,8,2,2],[9,4,7,8,5,8,2,9,1,9,4,7,6,3,1,8,2,6,5,6],[4,5,2,0,7,6,7,4,4,1,1,5,7,8,6,1,1,4,1,1],[6,3,3,8,5,1,5,6,8,9,6,4,5,0,3,5,4,1,3,0],[3,7,1,9,1,3,4,3,1,0,6,9,7,9,4,2,9,1,7,2],[1,5,0,8,0,6,6,4,6,4,4,8,5,4,9,1,9,3,7,6],[6,2,0,0,0,0,5,2,1,8,3,6,8,7,3,0,2,6,6,4],[9,2,4,4,4,9,3,8,7,0,8,7,8,8,0,1,6,0,1,7],[9,5,8,4,9,3,1,9,8,6,8,8,4,2,3,2,2,2,9,7],[0,7,9,2,2,7,7,0,1,2,4,7,9,7,5,7,7,4,5,9],[4,9,8,7,2,2,2,4,4,7,4,6,3,7,3,5,9,0,7,7],[9,8,8,2,5,0,1,3,3,3,0,6,6,8,8,1,0,7,8,6],[9,2,9,0,8,1,2,7,7,2,4,2,3,4,9,4,9,4,0,5],[4,4,0,6,2,1,0,1,4,6,3,8,1,9,6,5,1,5,7,9],[5,9,3,2,8,3,5,0,8,9,3,3,4,7,0,1,6,3,6,0]]', '[[2,9,5,3,5,4,1,2,6,3,9,8,4,4,8,5,4,3,6,4],[7,9,6,0,9,2,4,8,3,2,4,2,8,2,8,7,9,4,0,6],[3,5,0,5,3,8,9,6,9,5,2,7,0,5,7,1,1,6,4,9],[1,5,0,4,4,8,0,2,9,9,7,1,9,6,7,2,6,0,7,1],[3,1,8,1,9,9,8,2,4,0,1,2,7,9,9,6,1,5,7,7],[8,6,6,7,9,4,5,8,2,2,6,6,2,2,0,3,5,7,2,0],[2,8,6,4,3,4,0,9,7,4,6,0,2,8,4,8,0,1,4,0],[6,2,5,4,8,8,6,5,2,8,0,3,0,0,9,5,7,3,8,1],[6,2,1,9,3,3,9,7,4,9,6,8,5,0,5,9,6,3,6,8],[1,4,9,7,7,2,9,0,5,4,1,9,7,8,6,6,7,9,7,2],[7,3,1,8,0,4,3,9,2,6,8,7,5,9,3,2,3,9,6,8],[0,2,1,1,0,5,3,7,8,1,6,7,5,0,9,7,7,9,4,6],[2,9,2,0,0,7,5,2,4,7,8,5,8,6,0,8,3,0,3,1],[8,4,4,7,1,0,3,8,6,6,1,6,0,3,2,4,3,3,5,5],[2,3,4,1,6,9,6,6,0,5,6,9,5,0,5,6,3,1,2,9],[6,4,9,8,3,4,9,2,6,9,3,4,4,1,6,3,0,1,0,2],[1,6,5,3,9,2,1,6,9,5,6,4,9,6,3,6,4,8,3,3],[2,2,3,6,2,9,9,4,4,2,2,7,6,5,5,1,1,3,6,7],[3,4,5,5,4,0,5,3,7,9,4,9,1,2,7,9,2,3,6,6],[8,4,4,3,9,9,7,1,2,9,5,2,1,0,3,2,9,3,1,8]]')\"},\n {'Id': '1',\n  'MessageBody': \"('[[1,6,6,5,2,8,3,5,8,3,1,1,3,4,2,3,2,5,5,1],[0,8,6,3,9,4,4,7,9,9,4,0,5,2,2,4,5,1,2,5],[6,2,5,7,1,9,5,3,1,5,3,7,0,9,9,2,9,7,6,6],[8,6,2,0,7,3,2,7,7,9,5,1,7,2,9,9,6,0,0,8],[7,7,5,5,1,2,1,9,0,3,8,4,7,7,6,2,6,8,7,0],[4,8,0,0,8,5,8,3,4,1,3,6,4,5,4,7,1,7,3,4],[1,4,5,4,6,9,9,3,7,7,1,6,7,3,2,8,5,1,5,9],[4,2,9,3,3,6,4,6,5,8,4,0,0,8,7,4,7,2,5,8],[7,3,0,5,7,7,3,0,4,1,7,2,3,5,6,1,9,6,3,4],[6,5,4,1,5,1,2,3,1,6,0,1,5,8,9,6,7,8,3,9],[1,9,4,1,3,4,9,3,1,0,4,7,3,2,6,3,8,3,7,2],[3,0,5,4,0,6,4,4,4,1,6,1,5,6,5,5,4,0,5,5],[1,2,6,0,6,9,8,8,5,8,2,6,1,7,6,7,1,3,5,5],[1,4,1,2,4,9,3,8,1,3,3,7,3,3,3,7,4,0,3,9],[7,1,9,3,2,2,9,0,5,9,5,2,7,7,3,4,9,1,4,0],[8,1,1,7,7,9,7,1,1,3,3,4,7,6,7,4,3,8,7,0],[6,9,3,5,3,4,9,0,8,3,4,9,7,2,0,5,8,5,1,0],[6,7,0,2,0,9,9,4,2,3,4,8,0,9,7,6,7,9,9,4],[5,4,3,8,6,0,3,9,5,3,0,3,0,6,6,1,2,4,9,5],[6,1,5,8,0,2,5,8,6,4,2,7,5,6,2,2,3,1,4,4]]', '[[0,3,2,6,7,5,8,2,7,6,3,2,1,8,9,2,9,4,1,2],[6,7,5,5,4,0,6,1,0,2,6,4,8,5,5,8,1,7,9,9],[4,7,1,2,1,5,1,3,9,3,2,8,5,1,2,2,4,7,0,4],[8,3,8,7,9,1,1,4,6,0,5,9,1,8,0,5,5,2,3,2],[9,3,3,1,8,9,7,3,5,7,0,3,4,6,6,4,7,9,8,8],[9,2,4,3,2,5,1,1,8,0,7,9,4,1,2,0,2,5,6,8],[2,9,3,0,4,5,9,5,0,2,5,6,3,5,6,1,2,3,4,7],[9,2,9,2,2,6,1,9,3,0,8,4,0,6,7,8,4,3,6,7],[2,4,6,6,5,6,1,1,1,5,5,8,7,3,0,3,0,4,8,9],[4,0,4,4,9,4,8,9,2,5,6,3,4,9,2,3,8,5,0,9],[7,7,5,3,2,5,2,4,8,1,3,4,6,9,5,8,9,5,4,9],[6,7,9,7,1,7,6,5,1,0,2,8,1,4,7,2,7,2,7,9],[3,9,2,2,3,7,3,5,2,6,2,0,0,5,7,3,5,6,7,1],[0,6,0,9,5,2,5,0,5,5,4,4,2,1,1,4,7,5,2,7],[3,1,2,6,8,4,7,3,6,1,2,1,0,3,9,0,9,5,9,1],[8,2,3,9,4,1,7,1,8,7,4,0,0,7,2,7,1,8,5,7],[1,3,6,3,4,2,9,9,2,4,9,9,9,3,5,7,5,4,4,2],[2,3,9,5,3,1,1,0,9,0,3,5,1,2,4,3,7,8,3,7],[8,6,0,4,9,5,4,0,9,1,3,7,9,0,9,8,7,6,8,4],[7,9,4,0,3,3,8,8,8,9,3,8,4,0,3,3,3,4,9,4]]')\"},\n {'Id': '2',\n  'MessageBody': \"('[[9,3,4,4,9,9,6,7,7,6,4,8,4,2,4,4,8,0,7,9],[0,7,5,9,2,4,1,4,0,1,8,3,1,6,9,7,3,2,9,0],[7,8,1,9,4,8,5,7,1,8,5,5,7,8,3,5,9,7,7,4],[5,8,6,5,5,7,6,7,7,8,9,6,8,8,0,3,1,2,8,2],[2,4,7,3,6,1,3,0,5,6,5,1,6,5,2,5,0,4,9,1],[8,7,4,7,5,1,6,2,2,0,9,0,3,6,6,4,1,5,0,5],[4,1,3,0,6,6,3,2,4,9,6,2,9,9,7,4,2,8,9,6],[9,3,4,9,4,9,1,6,3,7,2,5,2,8,0,4,5,4,9,6],[4,7,7,9,9,1,1,1,7,9,8,8,6,2,8,4,3,3,3,6],[1,9,2,8,2,6,6,2,9,1,5,8,8,7,8,8,2,9,5,2],[0,4,9,7,8,9,3,8,4,5,3,3,2,7,2,4,8,9,5,9],[7,4,2,2,8,4,3,4,8,5,4,3,0,3,3,2,2,0,3,6],[4,4,0,8,7,8,8,7,8,6,2,2,7,5,8,2,5,3,4,4],[1,6,9,1,7,2,8,2,6,4,1,2,5,0,4,0,1,9,3,9],[9,8,8,7,6,4,9,5,3,2,5,3,5,1,0,2,2,0,9,7],[3,6,9,9,3,4,1,4,7,5,8,3,6,3,2,3,7,9,1,8],[3,5,7,4,4,3,1,1,3,4,3,5,8,6,1,8,0,4,1,5],[2,7,9,3,0,7,5,3,9,3,0,1,8,0,8,6,4,8,9,0],[6,2,9,5,9,4,6,1,1,2,6,5,3,8,1,5,5,4,8,9],[5,0,9,6,1,4,4,5,3,4,0,9,1,2,3,2,6,1,6,5]]', '[[6,0,1,6,0,0,7,2,8,1,5,0,4,8,9,2,0,2,3,9],[6,0,3,0,8,7,5,1,3,2,5,4,4,1,8,5,9,2,5,2],[0,2,7,9,4,0,1,3,7,8,4,6,1,3,3,4,2,3,1,7],[3,9,9,9,2,4,7,0,9,5,6,4,1,1,4,1,7,7,4,3],[2,4,0,5,1,1,4,2,4,3,4,8,3,5,3,9,6,3,2,6],[7,2,3,7,6,4,1,3,4,8,5,3,6,5,6,8,4,4,0,1],[4,2,3,7,7,7,5,6,4,4,1,2,7,1,1,8,5,9,6,9],[1,7,4,5,3,3,0,5,0,3,5,9,0,5,3,7,3,5,1,2],[8,4,7,2,3,0,9,0,9,8,8,4,3,5,7,8,8,2,2,1],[3,3,0,5,5,0,7,0,8,1,7,5,1,7,0,7,1,4,9,5],[6,5,2,6,5,5,5,9,2,4,7,5,6,3,8,0,7,5,7,0],[9,5,6,2,3,2,8,1,7,9,4,5,8,0,9,6,9,1,1,8],[2,2,4,8,3,9,5,1,6,2,5,8,4,4,5,3,1,8,3,9],[4,8,8,4,9,0,6,7,5,4,4,9,3,1,5,9,4,4,8,7],[8,9,9,8,3,6,1,4,4,2,3,4,9,5,0,7,8,6,6,9],[0,0,8,6,6,9,4,8,0,1,4,3,6,1,4,0,2,8,0,0],[9,4,0,1,0,8,4,8,9,0,5,1,8,8,7,0,2,7,1,7],[0,1,9,0,6,8,0,8,6,9,5,9,9,8,4,2,1,5,1,1],[7,8,2,3,8,3,8,1,2,0,8,0,6,0,8,9,6,9,7,2],[5,7,2,6,7,5,2,1,9,2,5,5,0,6,2,8,0,8,2,3]]')\"},\n {'Id': '3',\n  'MessageBody': \"('[[5,0,4,5,7,2,8,4,3,6,0,8,2,7,1,1,5,8,2,3],[3,9,7,1,4,3,1,3,7,7,4,3,3,7,2,6,9,0,2,4],[9,9,8,7,1,6,0,7,2,2,1,4,9,5,3,7,4,7,7,9],[6,1,9,0,0,3,6,2,7,3,9,6,8,2,7,9,1,3,5,6],[1,6,5,0,5,6,0,3,0,8,9,9,0,9,1,9,8,1,7,0],[5,6,1,0,4,3,1,6,9,1,9,8,4,9,3,5,8,7,4,1],[2,7,0,9,1,9,2,2,7,0,2,3,0,8,6,7,5,6,9,2],[8,3,1,9,8,2,1,1,3,7,6,9,6,6,7,6,9,6,6,2],[0,6,5,1,0,9,5,2,0,8,3,0,4,6,7,5,1,6,2,0],[8,4,8,6,8,7,0,2,2,8,0,2,2,5,0,3,3,9,3,5],[6,3,5,6,7,1,1,9,8,7,8,3,1,4,8,1,7,5,6,5],[8,7,9,0,0,4,4,4,3,8,5,7,6,9,3,0,3,8,6,7],[6,0,5,7,7,2,0,4,7,9,6,0,6,8,8,6,1,5,7,4],[5,9,0,1,3,0,4,6,9,1,9,6,5,5,4,4,8,4,9,7],[4,6,5,9,3,5,7,5,3,5,7,7,7,4,3,5,6,4,9,5],[7,3,5,0,8,7,6,7,2,5,4,9,6,9,4,8,3,3,4,0],[9,6,6,5,7,0,3,4,9,7,8,7,3,2,5,6,6,6,9,4],[4,1,8,8,5,9,3,2,2,4,5,1,6,7,4,6,4,2,5,9],[9,9,2,4,7,9,2,0,0,1,3,9,5,6,2,4,3,1,2,2],[4,1,4,1,6,0,7,3,9,5,9,7,5,4,6,1,9,7,1,5]]', '[[1,0,9,6,1,9,3,5,6,5,2,7,8,4,8,1,0,2,3,1],[2,6,7,2,1,5,3,5,5,5,1,8,9,3,7,5,8,4,0,5],[9,1,1,1,9,1,0,8,0,2,8,7,9,0,5,7,7,7,5,4],[3,9,3,0,7,8,5,1,8,7,1,6,5,3,5,1,6,4,0,2],[3,6,0,1,3,1,1,3,8,1,7,0,4,8,4,5,9,7,8,9],[1,9,5,8,9,8,1,6,4,2,3,0,3,1,3,5,9,7,5,5],[8,7,0,0,8,0,2,8,0,4,6,5,8,9,4,3,4,1,0,8],[0,3,5,3,3,3,7,5,6,7,0,4,0,1,8,0,9,4,5,0],[2,9,3,9,0,3,4,7,8,8,7,2,1,7,6,5,0,1,6,2],[0,3,5,4,2,6,3,1,0,7,3,0,6,7,6,4,3,9,8,9],[2,7,4,0,8,5,3,2,5,0,6,9,8,7,8,0,7,2,4,1],[3,1,1,7,7,5,1,1,0,6,8,6,1,7,2,1,9,1,1,3],[9,8,2,1,7,7,7,9,1,9,2,5,5,2,2,7,7,7,7,4],[1,2,3,4,0,6,9,8,9,0,8,8,8,5,3,0,0,4,2,6],[5,0,9,6,9,7,3,8,1,5,0,3,6,2,3,9,0,2,4,8],[9,7,3,9,8,9,7,3,2,7,3,4,7,6,9,0,8,5,0,4],[1,0,4,4,8,7,4,1,2,1,8,8,9,3,0,3,6,0,1,9],[5,4,1,0,2,9,2,3,7,4,7,6,6,2,4,9,7,1,7,7],[9,0,1,6,4,5,8,2,9,6,2,5,6,8,2,2,8,6,2,8],[0,0,9,9,5,3,0,9,6,3,9,3,4,3,8,5,9,5,7,7]]')\"},\n {'Id': '4',\n  'MessageBody': \"('[[0,4,0,2,1,9,5,7,6,9,2,7,7,1,7,6,8,5,8,2],[8,0,5,0,3,3,8,2,2,6,6,6,2,2,9,8,6,2,6,5],[1,4,9,3,9,0,7,9,2,8,9,2,4,3,5,7,7,3,0,4],[4,3,3,7,6,2,9,9,6,6,9,4,7,9,2,8,1,0,3,0],[9,3,7,6,8,9,0,2,5,4,9,3,6,4,8,5,8,0,2,5],[8,7,9,0,5,7,8,6,1,3,7,4,5,1,8,9,0,6,2,4],[8,4,6,0,7,3,3,7,5,5,7,5,9,1,8,6,5,7,6,0],[1,8,3,0,5,1,8,9,2,3,8,8,3,7,1,4,6,5,4,8],[9,2,0,7,6,8,4,8,9,8,4,5,8,7,5,0,0,0,1,8],[5,3,0,9,5,2,2,0,8,4,4,0,6,1,2,4,9,3,3,9],[0,6,4,8,2,4,0,9,6,5,2,3,2,0,0,0,6,9,7,8],[7,2,4,3,5,1,6,1,4,3,3,4,1,6,3,5,6,1,5,4],[6,8,4,6,4,5,9,2,2,5,5,2,1,3,9,0,7,0,0,8],[0,4,3,9,0,5,2,3,4,2,5,8,5,7,8,9,3,1,0,0],[2,4,4,6,0,2,5,4,9,3,6,6,9,0,1,8,1,0,9,7],[3,6,2,4,5,9,4,7,5,6,8,2,3,5,3,7,0,4,1,2],[4,0,5,4,6,1,8,3,1,3,1,3,0,6,7,1,5,4,1,4],[9,8,3,1,5,1,1,6,6,1,3,4,9,8,4,4,4,8,0,8],[9,5,9,8,6,2,6,8,1,8,6,1,6,2,3,3,8,3,4,7],[2,4,4,7,7,3,8,7,7,8,8,7,8,8,7,0,2,2,0,8]]', '[[5,0,0,6,4,0,1,6,1,2,5,5,3,2,3,2,6,0,3,9],[8,2,0,9,3,8,5,0,4,9,4,2,7,8,0,2,4,8,2,4],[2,0,4,2,4,9,3,1,3,3,4,6,9,5,0,0,9,2,2,5],[4,9,7,6,4,1,9,2,0,5,5,7,8,5,8,7,5,5,2,4],[9,7,2,5,2,0,3,7,0,3,7,6,3,5,3,5,0,9,8,0],[7,1,5,7,2,3,2,4,7,7,8,2,3,3,6,8,6,6,9,7],[8,5,5,7,3,1,0,1,2,8,7,2,2,7,8,0,5,7,9,4],[6,3,8,5,9,2,2,8,4,9,7,5,0,5,0,2,3,5,9,7],[0,5,6,3,9,4,0,8,0,6,1,6,6,9,3,3,7,6,7,1],[0,9,5,1,7,3,6,4,7,2,1,1,2,3,2,9,6,1,5,4],[5,4,0,7,7,3,9,5,0,8,1,5,8,8,3,4,3,7,6,4],[5,6,4,8,5,4,0,2,5,9,4,3,4,0,8,6,6,7,0,5],[1,5,5,9,1,2,2,7,4,3,4,4,9,5,3,6,1,5,8,6],[3,8,1,4,2,2,2,1,1,5,2,7,1,2,3,8,4,9,7,7],[8,4,9,0,2,4,9,7,6,5,5,9,0,0,1,8,1,9,0,1],[6,5,4,7,2,7,4,0,2,2,6,7,4,2,7,6,5,2,8,1],[1,3,6,7,1,8,5,1,1,1,7,9,8,1,5,7,1,4,4,4],[1,0,4,6,3,4,0,0,0,3,8,3,6,0,3,4,1,2,6,0],[1,2,7,1,5,3,4,9,9,7,4,7,9,2,9,1,4,6,2,5],[1,9,3,7,0,8,2,4,3,0,0,8,7,0,6,8,4,2,0,0]]')\"}]"
     },
     "execution_count": 149,
     "metadata": {},
     "output_type": "execute_result"
    }
   ],
   "source": [
    "messages"
   ],
   "metadata": {
    "collapsed": false
   }
  },
  {
   "cell_type": "code",
   "execution_count": 150,
   "id": "a21de88f-1ba7-4232-a1e3-bda599623fb6",
   "metadata": {},
   "outputs": [],
   "source": [
    "for idx in range(0, 5):\n",
    "    send_message_to_queue(sqs, f'queue{idx}', messages)"
   ]
  },
  {
   "cell_type": "code",
   "execution_count": 100,
   "outputs": [
    {
     "ename": "ValueError",
     "evalue": "malformed node or string: <ast.Call object at 0x13e01fdf0>",
     "output_type": "error",
     "traceback": [
      "\u001B[0;31m---------------------------------------------------------------------------\u001B[0m",
      "\u001B[0;31mValueError\u001B[0m                                Traceback (most recent call last)",
      "Input \u001B[0;32mIn [100]\u001B[0m, in \u001B[0;36m<cell line: 1>\u001B[0;34m()\u001B[0m\n\u001B[0;32m----> 1\u001B[0m \u001B[43mliteral_eval\u001B[49m\u001B[43m(\u001B[49m\u001B[38;5;124;43m'\u001B[39;49m\u001B[38;5;124;43m(array([[0, 9, 6, 1, 5]]), array([[2, 6, 4, 4, 9]]))\u001B[39;49m\u001B[38;5;124;43m'\u001B[39;49m\u001B[43m)\u001B[49m\n",
      "File \u001B[0;32m~/miniconda3/lib/python3.9/ast.py:105\u001B[0m, in \u001B[0;36mliteral_eval\u001B[0;34m(node_or_string)\u001B[0m\n\u001B[1;32m    103\u001B[0m                 \u001B[38;5;28;01mreturn\u001B[39;00m left \u001B[38;5;241m-\u001B[39m right\n\u001B[1;32m    104\u001B[0m     \u001B[38;5;28;01mreturn\u001B[39;00m _convert_signed_num(node)\n\u001B[0;32m--> 105\u001B[0m \u001B[38;5;28;01mreturn\u001B[39;00m \u001B[43m_convert\u001B[49m\u001B[43m(\u001B[49m\u001B[43mnode_or_string\u001B[49m\u001B[43m)\u001B[49m\n",
      "File \u001B[0;32m~/miniconda3/lib/python3.9/ast.py:83\u001B[0m, in \u001B[0;36mliteral_eval.<locals>._convert\u001B[0;34m(node)\u001B[0m\n\u001B[1;32m     81\u001B[0m     \u001B[38;5;28;01mreturn\u001B[39;00m node\u001B[38;5;241m.\u001B[39mvalue\n\u001B[1;32m     82\u001B[0m \u001B[38;5;28;01melif\u001B[39;00m \u001B[38;5;28misinstance\u001B[39m(node, Tuple):\n\u001B[0;32m---> 83\u001B[0m     \u001B[38;5;28;01mreturn\u001B[39;00m \u001B[38;5;28;43mtuple\u001B[39;49m\u001B[43m(\u001B[49m\u001B[38;5;28;43mmap\u001B[39;49m\u001B[43m(\u001B[49m\u001B[43m_convert\u001B[49m\u001B[43m,\u001B[49m\u001B[43m \u001B[49m\u001B[43mnode\u001B[49m\u001B[38;5;241;43m.\u001B[39;49m\u001B[43melts\u001B[49m\u001B[43m)\u001B[49m\u001B[43m)\u001B[49m\n\u001B[1;32m     84\u001B[0m \u001B[38;5;28;01melif\u001B[39;00m \u001B[38;5;28misinstance\u001B[39m(node, List):\n\u001B[1;32m     85\u001B[0m     \u001B[38;5;28;01mreturn\u001B[39;00m \u001B[38;5;28mlist\u001B[39m(\u001B[38;5;28mmap\u001B[39m(_convert, node\u001B[38;5;241m.\u001B[39melts))\n",
      "File \u001B[0;32m~/miniconda3/lib/python3.9/ast.py:104\u001B[0m, in \u001B[0;36mliteral_eval.<locals>._convert\u001B[0;34m(node)\u001B[0m\n\u001B[1;32m    102\u001B[0m         \u001B[38;5;28;01melse\u001B[39;00m:\n\u001B[1;32m    103\u001B[0m             \u001B[38;5;28;01mreturn\u001B[39;00m left \u001B[38;5;241m-\u001B[39m right\n\u001B[0;32m--> 104\u001B[0m \u001B[38;5;28;01mreturn\u001B[39;00m \u001B[43m_convert_signed_num\u001B[49m\u001B[43m(\u001B[49m\u001B[43mnode\u001B[49m\u001B[43m)\u001B[49m\n",
      "File \u001B[0;32m~/miniconda3/lib/python3.9/ast.py:78\u001B[0m, in \u001B[0;36mliteral_eval.<locals>._convert_signed_num\u001B[0;34m(node)\u001B[0m\n\u001B[1;32m     76\u001B[0m     \u001B[38;5;28;01melse\u001B[39;00m:\n\u001B[1;32m     77\u001B[0m         \u001B[38;5;28;01mreturn\u001B[39;00m \u001B[38;5;241m-\u001B[39m operand\n\u001B[0;32m---> 78\u001B[0m \u001B[38;5;28;01mreturn\u001B[39;00m \u001B[43m_convert_num\u001B[49m\u001B[43m(\u001B[49m\u001B[43mnode\u001B[49m\u001B[43m)\u001B[49m\n",
      "File \u001B[0;32m~/miniconda3/lib/python3.9/ast.py:69\u001B[0m, in \u001B[0;36mliteral_eval.<locals>._convert_num\u001B[0;34m(node)\u001B[0m\n\u001B[1;32m     67\u001B[0m \u001B[38;5;28;01mdef\u001B[39;00m \u001B[38;5;21m_convert_num\u001B[39m(node):\n\u001B[1;32m     68\u001B[0m     \u001B[38;5;28;01mif\u001B[39;00m \u001B[38;5;129;01mnot\u001B[39;00m \u001B[38;5;28misinstance\u001B[39m(node, Constant) \u001B[38;5;129;01mor\u001B[39;00m \u001B[38;5;28mtype\u001B[39m(node\u001B[38;5;241m.\u001B[39mvalue) \u001B[38;5;129;01mnot\u001B[39;00m \u001B[38;5;129;01min\u001B[39;00m (\u001B[38;5;28mint\u001B[39m, \u001B[38;5;28mfloat\u001B[39m, \u001B[38;5;28mcomplex\u001B[39m):\n\u001B[0;32m---> 69\u001B[0m         \u001B[43m_raise_malformed_node\u001B[49m\u001B[43m(\u001B[49m\u001B[43mnode\u001B[49m\u001B[43m)\u001B[49m\n\u001B[1;32m     70\u001B[0m     \u001B[38;5;28;01mreturn\u001B[39;00m node\u001B[38;5;241m.\u001B[39mvalue\n",
      "File \u001B[0;32m~/miniconda3/lib/python3.9/ast.py:66\u001B[0m, in \u001B[0;36mliteral_eval.<locals>._raise_malformed_node\u001B[0;34m(node)\u001B[0m\n\u001B[1;32m     65\u001B[0m \u001B[38;5;28;01mdef\u001B[39;00m \u001B[38;5;21m_raise_malformed_node\u001B[39m(node):\n\u001B[0;32m---> 66\u001B[0m     \u001B[38;5;28;01mraise\u001B[39;00m \u001B[38;5;167;01mValueError\u001B[39;00m(\u001B[38;5;124mf\u001B[39m\u001B[38;5;124m'\u001B[39m\u001B[38;5;124mmalformed node or string: \u001B[39m\u001B[38;5;132;01m{\u001B[39;00mnode\u001B[38;5;132;01m!r}\u001B[39;00m\u001B[38;5;124m'\u001B[39m)\n",
      "\u001B[0;31mValueError\u001B[0m: malformed node or string: <ast.Call object at 0x13e01fdf0>"
     ]
    }
   ],
   "source": [
    "literal_eval('(array([[0, 9, 6, 1, 5]]), array([[2, 6, 4, 4, 9]]))')"
   ],
   "metadata": {
    "collapsed": false
   }
  },
  {
   "cell_type": "code",
   "execution_count": 73,
   "id": "6612495e-7a38-4fa2-b263-578b175f07ff",
   "metadata": {},
   "outputs": [
    {
     "ename": "KeyError",
     "evalue": "'MatrixId'",
     "output_type": "error",
     "traceback": [
      "\u001B[0;31m---------------------------------------------------------------------------\u001B[0m",
      "\u001B[0;31mKeyError\u001B[0m                                  Traceback (most recent call last)",
      "Input \u001B[0;32mIn [73]\u001B[0m, in \u001B[0;36m<cell line: 1>\u001B[0;34m()\u001B[0m\n\u001B[0;32m----> 1\u001B[0m \u001B[43mget_messages_from_queue\u001B[49m\u001B[43m(\u001B[49m\u001B[43mqueue_url\u001B[49m\u001B[43m)\u001B[49m\n",
      "Input \u001B[0;32mIn [54]\u001B[0m, in \u001B[0;36mget_messages_from_queue\u001B[0;34m(queue_url)\u001B[0m\n\u001B[1;32m    141\u001B[0m \u001B[38;5;28;01mexcept\u001B[39;00m \u001B[38;5;167;01mKeyError\u001B[39;00m:\n\u001B[1;32m    142\u001B[0m     \u001B[38;5;28;01mbreak\u001B[39;00m\n\u001B[0;32m--> 144\u001B[0m entries \u001B[38;5;241m=\u001B[39m [\n\u001B[1;32m    145\u001B[0m     {\u001B[38;5;124m'\u001B[39m\u001B[38;5;124mIndex\u001B[39m\u001B[38;5;124m'\u001B[39m: msg[\u001B[38;5;124m'\u001B[39m\u001B[38;5;124mMatrixId\u001B[39m\u001B[38;5;124m'\u001B[39m], \u001B[38;5;124m'\u001B[39m\u001B[38;5;124mMatrix\u001B[39m\u001B[38;5;124m'\u001B[39m: msg[\u001B[38;5;124m'\u001B[39m\u001B[38;5;124mMatrix\u001B[39m\u001B[38;5;124m'\u001B[39m]}\n\u001B[1;32m    146\u001B[0m     \u001B[38;5;28;01mfor\u001B[39;00m msg \u001B[38;5;129;01min\u001B[39;00m resp[\u001B[38;5;124m'\u001B[39m\u001B[38;5;124mMessages\u001B[39m\u001B[38;5;124m'\u001B[39m]\n\u001B[1;32m    147\u001B[0m ]\n\u001B[1;32m    149\u001B[0m resp \u001B[38;5;241m=\u001B[39m sqs_client\u001B[38;5;241m.\u001B[39mdelete_message_batch(\n\u001B[1;32m    150\u001B[0m     QueueUrl\u001B[38;5;241m=\u001B[39mqueue_url, Entries\u001B[38;5;241m=\u001B[39mentries\n\u001B[1;32m    151\u001B[0m )\n\u001B[1;32m    153\u001B[0m \u001B[38;5;28;01mif\u001B[39;00m \u001B[38;5;28mlen\u001B[39m(resp[\u001B[38;5;124m'\u001B[39m\u001B[38;5;124mSuccessful\u001B[39m\u001B[38;5;124m'\u001B[39m]) \u001B[38;5;241m!=\u001B[39m \u001B[38;5;28mlen\u001B[39m(entries):\n",
      "Input \u001B[0;32mIn [54]\u001B[0m, in \u001B[0;36m<listcomp>\u001B[0;34m(.0)\u001B[0m\n\u001B[1;32m    141\u001B[0m \u001B[38;5;28;01mexcept\u001B[39;00m \u001B[38;5;167;01mKeyError\u001B[39;00m:\n\u001B[1;32m    142\u001B[0m     \u001B[38;5;28;01mbreak\u001B[39;00m\n\u001B[1;32m    144\u001B[0m entries \u001B[38;5;241m=\u001B[39m [\n\u001B[0;32m--> 145\u001B[0m     {\u001B[38;5;124m'\u001B[39m\u001B[38;5;124mIndex\u001B[39m\u001B[38;5;124m'\u001B[39m: \u001B[43mmsg\u001B[49m\u001B[43m[\u001B[49m\u001B[38;5;124;43m'\u001B[39;49m\u001B[38;5;124;43mMatrixId\u001B[39;49m\u001B[38;5;124;43m'\u001B[39;49m\u001B[43m]\u001B[49m, \u001B[38;5;124m'\u001B[39m\u001B[38;5;124mMatrix\u001B[39m\u001B[38;5;124m'\u001B[39m: msg[\u001B[38;5;124m'\u001B[39m\u001B[38;5;124mMatrix\u001B[39m\u001B[38;5;124m'\u001B[39m]}\n\u001B[1;32m    146\u001B[0m     \u001B[38;5;28;01mfor\u001B[39;00m msg \u001B[38;5;129;01min\u001B[39;00m resp[\u001B[38;5;124m'\u001B[39m\u001B[38;5;124mMessages\u001B[39m\u001B[38;5;124m'\u001B[39m]\n\u001B[1;32m    147\u001B[0m ]\n\u001B[1;32m    149\u001B[0m resp \u001B[38;5;241m=\u001B[39m sqs_client\u001B[38;5;241m.\u001B[39mdelete_message_batch(\n\u001B[1;32m    150\u001B[0m     QueueUrl\u001B[38;5;241m=\u001B[39mqueue_url, Entries\u001B[38;5;241m=\u001B[39mentries\n\u001B[1;32m    151\u001B[0m )\n\u001B[1;32m    153\u001B[0m \u001B[38;5;28;01mif\u001B[39;00m \u001B[38;5;28mlen\u001B[39m(resp[\u001B[38;5;124m'\u001B[39m\u001B[38;5;124mSuccessful\u001B[39m\u001B[38;5;124m'\u001B[39m]) \u001B[38;5;241m!=\u001B[39m \u001B[38;5;28mlen\u001B[39m(entries):\n",
      "\u001B[0;31mKeyError\u001B[0m: 'MatrixId'"
     ]
    }
   ],
   "source": [
    "get_messages_from_queue(queue_url)"
   ]
  },
  {
   "cell_type": "code",
   "execution_count": 204,
   "id": "1369b3f9-564f-4f2a-8e6e-deadbec9056b",
   "metadata": {},
   "outputs": [],
   "source": [
    "# # sqs = boto3.resource('sqs')\n",
    "# queue = sqs.(QueueName='airscholar-queue')\n",
    "# for message in sqs.receive_message(\n",
    "#             MaxNumberOfMessages=10):\n",
    "#         # process message body\n",
    "#         body = json.loads(message.body)\n",
    "#         print(body)\n"
   ]
  },
  {
   "cell_type": "code",
   "execution_count": 143,
   "id": "9565b2df-9c09-475f-bd52-b90e6ff69f64",
   "metadata": {},
   "outputs": [],
   "source": [
    "# message = response['Messages']\n",
    "# receipt_handle = message['ReceiptHandle']\n",
    "\n",
    "# # Delete received message from queue\n",
    "# sqs.delete_message(\n",
    "#     QueueUrl=queue_url,\n",
    "#     ReceiptHandle=receipt_handle\n",
    "# )\n"
   ]
  },
  {
   "cell_type": "code",
   "execution_count": 196,
   "id": "afb375f4-09c6-49ee-87bb-a2a05b257be1",
   "metadata": {},
   "outputs": [],
   "source": [
    "# print(json.dumps(message, indent=4))"
   ]
  },
  {
   "cell_type": "code",
   "execution_count": 45,
   "id": "2a77ae2f-0920-4866-aa85-3533371f38ca",
   "metadata": {
    "tags": []
   },
   "outputs": [],
   "source": [
    "# # ec2_inst_id\n",
    "# bucketName = 'airscholar-mlbd-bucket'"
   ]
  },
  {
   "cell_type": "code",
   "execution_count": 146,
   "id": "dc983a9a-5cff-4e99-82b4-151681913ff9",
   "metadata": {},
   "outputs": [],
   "source": [
    "# s3 = boto3.client('s3')"
   ]
  },
  {
   "cell_type": "code",
   "execution_count": null,
   "id": "ea072947-1808-4444-9d2c-bff7e26f3b37",
   "metadata": {},
   "outputs": [],
   "source": [
    "# response = s3.get_object(Bucket=bucketName,\n",
    "#                          Key='data.json')\n",
    "# print(\"Done, response body:\")\n",
    "# print(response['Body'].read())"
   ]
  },
  {
   "cell_type": "code",
   "execution_count": null,
   "id": "eb35587b-cee3-455a-a86d-1b4c6b875653",
   "metadata": {},
   "outputs": [],
   "source": [
    "#create instance\n",
    "#configure instance\n",
    "#create matrix\n",
    "#split matrix\n",
    "#send matrix to the queue\n",
    "#read matrix from the queue on the instance created\n",
    "#compute matrix\n",
    "#send result to base\n"
   ]
  },
  {
   "cell_type": "code",
   "execution_count": 59,
   "id": "d149a3f8-392e-4080-8ecc-d00c56714648",
   "metadata": {},
   "outputs": [
    {
     "name": "stdout",
     "output_type": "stream",
     "text": [
      "[main d2098e2] Update infrastructure implementation\r\n",
      " 1 file changed, 37 insertions(+), 3 deletions(-)\r\n",
      "Enumerating objects: 35, done.\r\n",
      "Counting objects: 100% (35/35), done.\r\n",
      "Delta compression using up to 8 threads\r\n",
      "Compressing objects: 100% (28/28), done.\r\n",
      "Writing objects: 100% (31/31), 12.27 KiB | 6.14 MiB/s, done.\r\n",
      "Total 31 (delta 5), reused 0 (delta 0), pack-reused 0\r\n",
      "remote: Resolving deltas: 100% (5/5), completed with 1 local object.\u001B[K\r\n",
      "To https://github.com/airscholar/MLCloudComputing-python.git\r\n",
      "   3576c57..d2098e2  main -> main\r\n",
      "branch 'main' set up to track 'origin/main'.\r\n"
     ]
    }
   ],
   "source": [
    "!git add .\n",
    "!git commit -am \"Update infrastructure implementation\"\n",
    "!git push --set-upstream origin main"
   ]
  },
  {
   "cell_type": "code",
   "execution_count": null,
   "outputs": [],
   "source": [],
   "metadata": {
    "collapsed": false
   }
  }
 ],
 "metadata": {
  "kernelspec": {
   "display_name": "Python 3 (ipykernel)",
   "language": "python",
   "name": "python3"
  },
  "language_info": {
   "codemirror_mode": {
    "name": "ipython",
    "version": 3
   },
   "file_extension": ".py",
   "mimetype": "text/x-python",
   "name": "python",
   "nbconvert_exporter": "python",
   "pygments_lexer": "ipython3",
   "version": "3.9.12"
  }
 },
 "nbformat": 4,
 "nbformat_minor": 5
}
