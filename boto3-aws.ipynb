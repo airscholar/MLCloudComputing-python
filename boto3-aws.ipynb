{
 "cells": [
  {
   "cell_type": "code",
   "execution_count": 1,
   "id": "1795e9e2-fda9-442b-8a76-8cd77c3a9138",
   "metadata": {},
   "outputs": [],
   "source": [
    "# !pip install paramiko\n",
    "# !pip install scp"
   ]
  },
  {
   "cell_type": "code",
   "execution_count": 1,
   "id": "09e8788d-0182-49f9-9128-a6dfbca0b8b7",
   "metadata": {},
   "outputs": [],
   "source": [
    "import numpy as np\n",
    "import time\n",
    "import datetime\n",
    "import sys\n",
    "from CloudComputing import CloudComputingApp\n",
    "np.set_printoptions(threshold=sys.maxsize)"
   ]
  },
  {
   "cell_type": "code",
   "execution_count": 2,
   "id": "ebdfad25",
   "metadata": {
    "collapsed": false
   },
   "outputs": [],
   "source": [
    "cloudComputing = CloudComputingApp(instance_size=2)"
   ]
  },
  {
   "cell_type": "code",
   "execution_count": 3,
   "id": "98c40341",
   "metadata": {
    "collapsed": false
   },
   "outputs": [],
   "source": [
    "def task1(array_size, chunk_size, operation='addition'):\n",
    "        print(f'Generating {array_size}x{array_size} matrix')\n",
    "        arr = cloudComputing.generate_array(array_size, array_size)\n",
    "        arr1 = cloudComputing.generate_array(array_size, array_size)\n",
    "        print(f'Splitting {array_size}x{array_size} matrix into {chunk_size}x{chunk_size}')\n",
    "        s_arr = cloudComputing.split_row(arr, chunk_size, chunk_size)\n",
    "        s_arr1 = cloudComputing.split_row(arr1, chunk_size, chunk_size)\n",
    "        print(f'Computing manual addition of {array_size}x{array_size} matrix')\n",
    "        res1 = np.array(cloudComputing.matrix_add(arr, arr1))\n",
    "        print(f'Manual computation done for {operation}')\n",
    "        print(f\"\\nComputing distributed {operation} operation for {array_size}x{array_size}\")\n",
    "        # cloudComputing.get_queue(cloudComputing.sqs_client, )\n",
    "        cloudComputing.compute_matrix_operation(operation, s_arr, s_arr1)\n",
    "        # wait for all the computation to finish\n",
    "        # time.sleep(cloudComputing.get_wait_time_based_on_matrix_size(array_size))\n",
    "        # merge all the queue results\n",
    "        print(f\"\\nMerging computation results\")\n",
    "        res2 = cloudComputing.merge_queue_result(s_arr, array_size, chunk_size)\n",
    "        # cloudComputing.write_result_to_file(res2, f'{operation}_result.txt')\n",
    "        #validating result\n",
    "        print(f\"\\nVerifying computation results\")\n",
    "        if np.array_equal(res1, res2):\n",
    "            print(f\"Verification Successful!\")\n",
    "        else:\n",
    "            print(f\"Verification Failed!\")"
   ]
  },
  {
   "cell_type": "code",
   "execution_count": 11,
   "id": "09c9ffda",
   "metadata": {
    "collapsed": false
   },
   "outputs": [],
   "source": [
    "def task2(array_size, chunk_size, operation='multiplication'):\n",
    "        print(f'Generating {array_size}x{array_size} matrix')\n",
    "        arr = cloudComputing.generate_array(array_size, array_size)\n",
    "        arr1 = cloudComputing.generate_array(array_size, array_size)\n",
    "        print(f'Splitting {array_size}x{array_size} matrix into {chunk_size}x{chunk_size}')\n",
    "        s_arr = cloudComputing.split_row(arr, chunk_size, chunk_size)\n",
    "        s_arr1 = cloudComputing.split_row(arr1, chunk_size, chunk_size)\n",
    "        print(f'Computing manual {operation} of {array_size}x{array_size} matrix')\n",
    "        res1 = np.array(cloudComputing.matrix_dot_product(arr, arr1))\n",
    "        print(f\"\\nComputing distribution {operation} operation for {array_size}x{array_size}\")\n",
    "        cloudComputing.compute_matrix_operation(operation, s_arr, s_arr1)\n",
    "        # wait for all the computation to finish\n",
    "        time.sleep(cloudComputing.get_wait_time_based_on_matrix_size(array_size))\n",
    "        # merge all the queue results\n",
    "        print(f\"\\nMerging computation results\")\n",
    "        res2 = cloudComputing.merge_queue_result(s_arr, array_size, chunk_size)\n",
    "        print(f\"\\nVerifying computation results\")\n",
    "        # cloudComputing.write_result_to_file(res2, f'{operation}_result.txt')\n",
    "        #validating result\n",
    "        print(f\"\\nVerifying computation results\")\n",
    "        if np.array_equal(res1, res2):\n",
    "            print(f\"Verification Successful!\")\n",
    "        else:\n",
    "            print(f\"Verification Failed!\")"
   ]
  },
  {
   "cell_type": "code",
   "execution_count": 5,
   "metadata": {
    "collapsed": false
   },
   "outputs": [
    {
     "name": "stdout",
     "output_type": "stream",
     "text": [
      "Preparing SSH connection\n",
      "Getting keypairs\n",
      "Preparing instances\n",
      "Getting public addresses\n",
      "['35.173.135.2', '34.203.244.241']\n",
      "Conencting to Instance-0 with IP Address 35.173.135.2\n",
      "SSH into the instance: 35.173.135.2\n",
      "Installing required packages for Instance-0 with IP Address 35.173.135.2\n",
      "Updating Subscription Management repositories.\n",
      "Unable to read consumer identity\n",
      "\n",
      "This system is not registered with an entitlement server. You can use subscription-manager to register.\n",
      "\n",
      "Last metadata expiration check: 0:11:04 ago on Tue 27 Dec 2022 03:42:40 PM UTC.\n",
      "Package python3-pip-21.2.3-6.el9.noarch is already installed.\n",
      "Dependencies resolved.\n",
      "Nothing to do.\n",
      "Complete!\n",
      "Requirement already satisfied: numpy in /usr/local/lib64/python3.9/site-packages (1.24.1)\n",
      "Requirement already satisfied: boto3 in /usr/local/lib/python3.9/site-packages (1.26.37)\n",
      "Requirement already satisfied: s3transfer<0.7.0,>=0.6.0 in /usr/local/lib/python3.9/site-packages (from boto3) (0.6.0)\n",
      "Requirement already satisfied: jmespath<2.0.0,>=0.7.1 in /usr/local/lib/python3.9/site-packages (from boto3) (1.0.1)\n",
      "Requirement already satisfied: botocore<1.30.0,>=1.29.37 in /usr/local/lib/python3.9/site-packages (from boto3) (1.29.37)\n",
      "Requirement already satisfied: python-dateutil<3.0.0,>=2.1 in /usr/lib/python3.9/site-packages (from botocore<1.30.0,>=1.29.37->boto3) (2.8.1)\n",
      "Requirement already satisfied: urllib3<1.27,>=1.25.4 in /usr/lib/python3.9/site-packages (from botocore<1.30.0,>=1.29.37->boto3) (1.26.5)\n",
      "Requirement already satisfied: six>=1.5 in /usr/lib/python3.9/site-packages (from python-dateutil<3.0.0,>=2.1->botocore<1.30.0,>=1.29.37->boto3) (1.15.0)\n",
      "\n",
      "WARNING: Running pip as the 'root' user can result in broken permissions and conflicting behaviour with the system package manager. It is recommended to use a virtual environment instead: https://pip.pypa.io/warnings/venv\n",
      "\n",
      "Configuring Instance -0 with IP Address 35.173.135.2 for remote access\n",
      "SSH AWS configuration done for 35.173.135.2\n",
      "Finished uploading 3 files to ~ on 35.173.135.2\n",
      "Starting worker 0\n",
      "Worker started\n",
      "Conencting to Instance-1 with IP Address 34.203.244.241\n",
      "SSH into the instance: 34.203.244.241\n",
      "Installing required packages for Instance-1 with IP Address 34.203.244.241\n",
      "Updating Subscription Management repositories.\n",
      "Unable to read consumer identity\n",
      "\n",
      "This system is not registered with an entitlement server. You can use subscription-manager to register.\n",
      "\n",
      "Last metadata expiration check: 0:10:48 ago on Tue 27 Dec 2022 03:43:01 PM UTC.\n",
      "Package python3-pip-21.2.3-6.el9.noarch is already installed.\n",
      "Dependencies resolved.\n",
      "Nothing to do.\n",
      "Complete!\n",
      "Requirement already satisfied: numpy in /usr/local/lib64/python3.9/site-packages (1.24.1)\n",
      "Requirement already satisfied: boto3 in /usr/local/lib/python3.9/site-packages (1.26.37)\n",
      "Requirement already satisfied: s3transfer<0.7.0,>=0.6.0 in /usr/local/lib/python3.9/site-packages (from boto3) (0.6.0)\n",
      "Requirement already satisfied: botocore<1.30.0,>=1.29.37 in /usr/local/lib/python3.9/site-packages (from boto3) (1.29.37)\n",
      "Requirement already satisfied: jmespath<2.0.0,>=0.7.1 in /usr/local/lib/python3.9/site-packages (from boto3) (1.0.1)\n",
      "Requirement already satisfied: urllib3<1.27,>=1.25.4 in /usr/lib/python3.9/site-packages (from botocore<1.30.0,>=1.29.37->boto3) (1.26.5)\n",
      "Requirement already satisfied: python-dateutil<3.0.0,>=2.1 in /usr/lib/python3.9/site-packages (from botocore<1.30.0,>=1.29.37->boto3) (2.8.1)\n",
      "Requirement already satisfied: six>=1.5 in /usr/lib/python3.9/site-packages (from python-dateutil<3.0.0,>=2.1->botocore<1.30.0,>=1.29.37->boto3) (1.15.0)\n",
      "\n",
      "WARNING: Running pip as the 'root' user can result in broken permissions and conflicting behaviour with the system package manager. It is recommended to use a virtual environment instead: https://pip.pypa.io/warnings/venv\n",
      "\n",
      "Configuring Instance -1 with IP Address 34.203.244.241 for remote access\n",
      "SSH AWS configuration done for 34.203.244.241\n",
      "Finished uploading 3 files to ~ on 34.203.244.241\n",
      "Starting worker 1\n",
      "Worker started\n",
      "INFRASTRUCTURE DONE!\n"
     ]
    }
   ],
   "source": [
    "cloudComputing.prepare_architecture()\n",
    "# cloudComputing.purge_queue()"
   ]
  },
  {
   "cell_type": "markdown",
   "source": [
    "# TASK 1: Addition"
   ],
   "metadata": {
    "collapsed": false
   }
  },
  {
   "cell_type": "code",
   "execution_count": 7,
   "metadata": {
    "collapsed": false
   },
   "outputs": [
    {
     "name": "stdout",
     "output_type": "stream",
     "text": [
      "Generating 1000x1000 matrix\n",
      "Splitting 1000x1000 matrix into 200x200\n",
      "Computing manual addition of 1000x1000 matrix\n",
      "Computation time 0:00:00.163575\n",
      "Manual computation done for addition\n",
      "\n",
      "Computing distributed addition operation for 1000x1000\n",
      "Queue 0 has 13 tasks\n",
      "Queue 1 has 12 tasks\n",
      "\n",
      "Merging computation results\n",
      "Received 13 results from queue0\n",
      "Received 12 results from queue1\n",
      "\n",
      "Verifying computation results\n",
      "Verification Successful!\n",
      "Total computation time is 0:00:34.903919\n"
     ]
    }
   ],
   "source": [
    "start_time = datetime.datetime.now()\n",
    "task1(array_size=1000, chunk_size=200, operation=\"addition\")\n",
    "print(f\"Total computation time is {(datetime.datetime.now() - start_time)}\")"
   ]
  },
  {
   "cell_type": "markdown",
   "source": [
    "# TASK 2: Multiplication"
   ],
   "metadata": {
    "collapsed": false
   }
  },
  {
   "cell_type": "code",
   "execution_count": 9,
   "outputs": [
    {
     "name": "stdout",
     "output_type": "stream",
     "text": [
      "Generating 1000x1000 matrix\n",
      "Splitting 1000x1000 matrix into 200x200\n",
      "Computing manual multiplication of 1000x1000 matrix\n",
      "Computation time 0:00:00.163602\n",
      "\n",
      "Computing distribution multiplication operation for 1000x1000\n",
      "Queue 0 has 13 tasks\n",
      "Queue 1 has 12 tasks\n",
      "\n",
      "Merging computation results\n",
      "Received 13 results from queue0\n",
      "Received 12 results from queue1\n",
      "\n",
      "Verifying computation results\n",
      "\n",
      "Verifying computation results\n",
      "Verification Successful!\n",
      "Total computation time is 0:00:41.980934\n"
     ]
    }
   ],
   "source": [
    "start_time = datetime.datetime.now()\n",
    "task2(array_size=1000, chunk_size=200, operation=\"multiplication\")\n",
    "print(f\"Total computation time is {(datetime.datetime.now() - start_time)}\")"
   ],
   "metadata": {
    "collapsed": false
   }
  },
  {
   "cell_type": "markdown",
   "source": [
    "## Commit to repository"
   ],
   "metadata": {
    "collapsed": false
   }
  },
  {
   "cell_type": "code",
   "execution_count": null,
   "id": "d149a3f8-392e-4080-8ecc-d00c56714648",
   "metadata": {},
   "outputs": [],
   "source": [
    "!git add . && git commit -am \"Final Workflow with both Tasks\"\n",
    "!git push"
   ]
  },
  {
   "cell_type": "code",
   "execution_count": 13,
   "id": "e9fc665d",
   "metadata": {
    "collapsed": false,
    "jupyter": {
     "outputs_hidden": false
    }
   },
   "outputs": [
    {
     "name": "stdout",
     "output_type": "stream",
     "text": [
      "Terminating i-011d1c07aad83fc05\n",
      "Terminating i-080bf809c25b65291\n",
      "Terminating i-09f28e5f4db8c7c58\n",
      "Terminating i-099e09955e9239c0f\n",
      "Terminating i-0d76b85542214cb3f\n",
      "Terminating i-0bfbe1efebb2beb47\n",
      "Terminating i-06527cb8869e5062b\n",
      "Terminating i-09e2a089606d59705\n",
      "Terminating i-02dc215a061c39adb\n",
      "Terminating i-09ca35d14b96aaf16\n",
      "Terminating i-0b8a5e53fa8811e3b\n",
      "Terminating i-0b9d5fd1e7897bd11\n",
      "Terminating i-02be04aee45a4a751\n",
      "Terminating i-05d9588fa8a94f316\n",
      "Terminating i-06511bf0c1b530015\n",
      "Terminating i-008c584a0a4573dda\n",
      "Terminating i-0879331b7ff83df22\n",
      "Terminating i-0c5890d2ff81cef75\n",
      "Terminating i-0adc8c1dd933b9f36\n",
      "Terminating i-05eb48d36b17cfc26\n",
      "Terminating i-0cb71e501e00868a1\n",
      "Terminating i-0d0b4056bfe8b260f\n",
      "https://sqs.us-east-1.amazonaws.com/469282757936/queue0 deleted!\n",
      "https://sqs.us-east-1.amazonaws.com/469282757936/queue1 deleted!\n",
      "https://sqs.us-east-1.amazonaws.com/469282757936/result-queue-0 deleted!\n",
      "https://sqs.us-east-1.amazonaws.com/469282757936/result-queue-1 deleted!\n",
      "TEARDOWN DONE!\n"
     ]
    }
   ],
   "source": [
    "cloudComputing.teardown_infrastructure()\n"
   ]
  },
  {
   "cell_type": "code",
   "execution_count": null,
   "outputs": [],
   "source": [],
   "metadata": {
    "collapsed": false
   }
  }
 ],
 "metadata": {
  "kernelspec": {
   "display_name": "Python 3",
   "language": "python",
   "name": "python3"
  },
  "language_info": {
   "codemirror_mode": {
    "name": "ipython",
    "version": 3
   },
   "file_extension": ".py",
   "mimetype": "text/x-python",
   "name": "python",
   "nbconvert_exporter": "python",
   "pygments_lexer": "ipython3",
   "version": "3.11.0 (main, Oct 26 2022, 19:06:18) [Clang 14.0.0 (clang-1400.0.29.202)]"
  },
  "vscode": {
   "interpreter": {
    "hash": "5c7b89af1651d0b8571dde13640ecdccf7d5a6204171d6ab33e7c296e100e08a"
   }
  }
 },
 "nbformat": 4,
 "nbformat_minor": 5
}
