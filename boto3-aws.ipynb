{
 "cells": [
  {
   "cell_type": "code",
   "execution_count": 3,
   "id": "1795e9e2-fda9-442b-8a76-8cd77c3a9138",
   "metadata": {},
   "outputs": [],
   "source": [
    "# !pip install paramiko\n",
    "# !pip install scp"
   ]
  },
  {
   "cell_type": "code",
   "execution_count": 1,
   "id": "09e8788d-0182-49f9-9128-a6dfbca0b8b7",
   "metadata": {},
   "outputs": [],
   "source": [
    "import os\n",
    "import boto3\n",
    "import subprocess\n",
    "import numpy as np\n",
    "import time\n",
    "import datetime\n",
    "import paramiko\n",
    "import io\n",
    "from scp import SCPClient, SCPException\n",
    "import sys\n",
    "from ast import literal_eval"
   ]
  },
  {
   "cell_type": "code",
   "execution_count": 2,
   "id": "2826bf4b-381b-4810-8ac0-672563a4a12e",
   "metadata": {},
   "outputs": [],
   "source": [
    "np.set_printoptions(threshold=sys.maxsize)"
   ]
  },
  {
   "cell_type": "code",
   "execution_count": 3,
   "id": "6c10e4cc-94f6-4c09-bb82-d5e19b44a8f0",
   "metadata": {},
   "outputs": [],
   "source": [
    "INSTANCE_SIZE = 6"
   ]
  },
  {
   "cell_type": "code",
   "execution_count": 4,
   "id": "065e1449-3738-40b5-87ec-1839be75e1ad",
   "metadata": {},
   "outputs": [],
   "source": [
    "client = boto3.client('ec2', region_name='us-east-1')\n",
    "# Create SQS client\n",
    "sqs = boto3.resource('sqs')"
   ]
  },
  {
   "cell_type": "code",
   "execution_count": 45,
   "id": "668e8ed9",
   "metadata": {
    "collapsed": false,
    "jupyter": {
     "outputs_hidden": false
    }
   },
   "outputs": [],
   "source": [
    "def get_default_security_group(client, key_name):\n",
    "    #extract key_name attribute from the security groups returned\n",
    "    response = [group[key_name] for group in client.describe_security_groups()['SecurityGroups'] if group['GroupName'] == 'default']\n",
    "\n",
    "    return response\n",
    "\n",
    "def get_key_pairs(client, removeExisting=False):\n",
    "    if removeExisting:\n",
    "        client.delete_key_pair(KeyName='airscholar-key')\n",
    "\n",
    "    keypairs = client.describe_key_pairs()['KeyPairs']\n",
    "    keypair = list(filter(lambda x: x['KeyName'] == 'airscholar-key', keypairs))\n",
    "\n",
    "    if not keypair:\n",
    "        keypair = client.create_key_pair(KeyName='airscholar-key')\n",
    "        f = io.StringIO(keypair['KeyMaterial'])\n",
    "        data = f.read()\n",
    "        file = open('labsuser.pem', 'w')\n",
    "        file.write(data)\n",
    "        file.close()\n",
    "    else:\n",
    "        keypair = keypair[0]\n",
    "\n",
    "    return keypair\n",
    "\n",
    "def launch_new_instance(client, keypair, count):\n",
    "    response = client.run_instances(\n",
    "        ImageId='ami-05723c3b9cf4bf4ff',\n",
    "        InstanceType='t2.micro',\n",
    "        KeyName=keypair,\n",
    "        MaxCount=count,\n",
    "        MinCount=count,\n",
    "        Monitoring={\n",
    "            'Enabled': True\n",
    "        },\n",
    "        SecurityGroupIds= get_default_security_group(client, key_name='GroupId')\n",
    "    )\n",
    "    ec2_inst_ids = [res[\"InstanceId\"] for res in response]\n",
    "    waiter = client.get_waiter('instance_running')\n",
    "    waiter.wait(InstanceIds=[ec2_inst_ids])\n",
    "    return ec2_inst_ids\n",
    "\n",
    "def prepare_instances(client, keypair, count):\n",
    "    ec2 = boto3.resource('ec2')\n",
    "    ec2_inst_ids = []\n",
    "\n",
    "    deployed_count = 0\n",
    "    for instance in ec2.instances.all():\n",
    "        deployed_count += 1\n",
    "        if instance.state['Name'] == 'running':\n",
    "            ec2_inst_ids.append(instance.id)\n",
    "\n",
    "    if deployed_count < count:\n",
    "        ec2_inst_ids.append(launch_new_instance(client, keypair, (count - deployed_count)))\n",
    "\n",
    "    if not ec2_inst_ids:\n",
    "        ec2_inst_ids.append(launch_new_instance(client, keypair, count))\n",
    "\n",
    "    return ec2, ec2_inst_ids\n",
    "\n",
    "def configure_ssh():\n",
    "    sshs = []\n",
    "    for count in range(0, INSTANCE_SIZE):\n",
    "        ssh = paramiko.SSHClient()\n",
    "        ssh.set_missing_host_key_policy(paramiko.AutoAddPolicy())\n",
    "        sshs.append(ssh)\n",
    "    return sshs\n",
    "\n",
    "def ssh_connect_with_retry(ssh, ip_address, retries):\n",
    "    if retries > 3:\n",
    "        return False\n",
    "    f = open('labsuser.pem', 'r')\n",
    "    privkey = paramiko.RSAKey.from_private_key(f)\n",
    "    # print(privkey)\n",
    "    interval = 5\n",
    "    try:\n",
    "        retries += 1\n",
    "        print('SSH into the instance: {}'.format(ip_address))\n",
    "        ssh.connect(hostname=ip_address,\n",
    "                    username='ec2-user', pkey=privkey)\n",
    "        return True\n",
    "    except Exception as e:\n",
    "        print(e)\n",
    "        time.sleep(interval)\n",
    "        print('Retrying SSH connection to {}'.format(ip_address))\n",
    "        ssh_connect_with_retry(ssh, ip_address, retries)\n",
    "\n",
    "def ssh_disconnect(ssh):\n",
    "        \"\"\"Close ssh connection.\"\"\"\n",
    "        if ssh:\n",
    "            ssh.close()\n",
    "\n",
    "def get_public_address(ec2, instance_id):\n",
    "    # ec2 = boto3.resource('ec2', region_name='us-east-1')\n",
    "    instance = ec2.Instance(id=instance_id)\n",
    "    instance.wait_until_running()\n",
    "    current_instance = list(ec2.instances.filter(InstanceIds=[instance_id]))\n",
    "    ip_address = current_instance[0].public_ip_address\n",
    "    return ip_address\n",
    "\n",
    "def get_queue(sqs, queue_name):\n",
    "    # Get the queue. This returns an SQS.Queue instance\n",
    "    # There is no queue, create a new SQS queue\n",
    "    attributes = {\n",
    "        'DelaySeconds': '0',\n",
    "        'MessageRetentionPeriod': '86400',\n",
    "        \"ReceiveMessageWaitTimeSeconds\": \"0\"\n",
    "    }\n",
    "\n",
    "    for idx in range(INSTANCE_SIZE):\n",
    "        sqs.create_queue(\n",
    "            QueueName=f\"{queue_name}{idx}\",\n",
    "            Attributes=attributes\n",
    "        )\n",
    "\n",
    "        sqs.create_queue(\n",
    "            QueueName=f'result-queue-{idx}',\n",
    "            Attributes=attributes\n",
    "        )\n",
    "\n",
    "def send_message_to_queue(sqs, queue_name, message):\n",
    "    queue = sqs.get_queue_by_name(QueueName=queue_name)\n",
    "\n",
    "    # Send message to SQS queue\n",
    "    response = queue.send_messages(\n",
    "        Entries=message\n",
    "    )\n",
    "    return response\n",
    "\n",
    "def install_required_packages(ssh):\n",
    "    stdin, stdout, stderr = ssh.exec_command(\"sudo yum install pip -y && sudo pip install numpy boto3 AST\")\n",
    "    return stdout, stderr\n",
    "\n",
    "def get_messages_from_queue(instance_size):\n",
    "    messages = []\n",
    "\n",
    "    for idx in range(0, instance_size):\n",
    "        queue_name = f'result-queue-{idx}'\n",
    "        print(queue_name)\n",
    "        sqs = boto3.resource('sqs')\n",
    "        queue = sqs.get_queue_by_name(QueueName=queue_name)\n",
    "\n",
    "        for message in queue.receive_messages():\n",
    "            messages.append(message.body)\n",
    "\n",
    "    return messages\n",
    "\n",
    "def split_row(array, nrows, ncols):\n",
    "    \"\"\"\n",
    "    Return an array of shape (n, nrows, ncols) where\n",
    "    n * nrows * ncols = arr.size\n",
    "\n",
    "    If arr is a 2D array, the returned array should look like n subblocks with\n",
    "    each subblock preserving the \"physical\" layout of arr.\n",
    "    \"\"\"\n",
    "    h, w = array.shape\n",
    "    assert h % nrows == 0, f\"{h} rows is not evenly divisible by {nrows}\"\n",
    "    assert w % ncols == 0, f\"{w} cols is not evenly divisible by {ncols}\"\n",
    "    return (array.reshape(h//nrows, nrows, -1, ncols)\n",
    "               .swapaxes(1,2)\n",
    "               .reshape(-1, nrows, ncols))\n",
    "\n",
    "def split_col(array, nrows, ncols):\n",
    "    \"\"\"Split a matrix into sub-matrices.\"\"\"\n",
    "    r, h = array.shape\n",
    "    return [np.vsplit(i, 5) for i in np.hsplit(arr1, r)]\n",
    "\n",
    "def generate_array(nrows, ncols):\n",
    "    arr = np.random.randint(10, size=(nrows, ncols))\n",
    "    # # print('arr 1:\\n', arr)\n",
    "    # arr = split_row(arr, 1, split_size)\n",
    "    arr1 = np.random.randint(20, size=(nrows, ncols))\n",
    "    # print('arr 2:\\n', arr1)\n",
    "    # arr1 = split_col(arr1, 1, split_size)\n",
    "\n",
    "    return arr, arr1\n",
    "\n",
    "def upload_file_to_s3(file_name, bucket, object_name=None):\n",
    "    \"\"\"Upload a file to an S3 bucket\n",
    "\n",
    "    :param file_name: File to upload\n",
    "    :param bucket: Bucket to upload to\n",
    "    :param object_name: S3 object name. If not specified then file_name is used\n",
    "    :return: True if file was uploaded, else False\n",
    "    \"\"\"\n",
    "\n",
    "    # If S3 object_name was not specified, use file_name\n",
    "    if object_name is None:\n",
    "        object_name = os.path.basename(file_name)\n",
    "\n",
    "    # Upload the file\n",
    "    s3_client = boto3.client('s3')\n",
    "    try:\n",
    "        response = s3_client.upload_file(file_name, bucket, object_name)\n",
    "    except:\n",
    "        # logging.error(e)\n",
    "        return False\n",
    "    return True\n",
    "\n",
    "def bulk_upload(scp, filepaths: list[str], remote_path, host):\n",
    "        \"\"\"\n",
    "        Upload multiple files to a remote directory.\n",
    "\n",
    "        :param List[str] filepaths: List of local files to be uploaded.\n",
    "        \"\"\"\n",
    "        try:\n",
    "            scp.put(\n",
    "                filepaths,\n",
    "                remote_path=remote_path,\n",
    "                recursive=True\n",
    "            )\n",
    "            print(f\"Finished uploading {len(filepaths)} files to {remote_path} on {host}\")\n",
    "        except SCPException as e:\n",
    "            print(f\"SCPException during bulk upload: {e}\")\n",
    "        except Exception as e:\n",
    "            print(f\"Unexpected exception during bulk upload: {e}\")\n",
    "\n",
    "def configure_aws_access_for_ssh(ssh, ip_address):\n",
    "    \"\"\"\n",
    "    This function extracts the AWS configuration you have locally and push to the server\n",
    "    :param ssh:ssh object\n",
    "    :return:\n",
    "    \"\"\"\n",
    "    output = subprocess.getoutput(\"cat ~/.aws/credentials\")\n",
    "    ssh.exec_command(f'mkdir ~/.aws && touch ~/.aws/credentials')\n",
    "    ssh.exec_command(f\"echo '{output}' > ~/.aws/credentials\")\n",
    "    print(f'SSH AWS configuration done for {ip_address}')\n",
    "\n",
    "def matrix_dot_product(matrix_a, matrix_b):\n",
    "    start_time = datetime.datetime.now()\n",
    "    result = []\n",
    "    for i in range(len(matrix_a)):\n",
    "        row = []\n",
    "        for j in range(len(matrix_b[0])):\n",
    "            sum = 0\n",
    "            for k in range(len(matrix_b)):\n",
    "                sum += matrix_a[i][k] * matrix_b[k][j]\n",
    "            row.append(sum)\n",
    "        result.append(row)\n",
    "    print('Computation time', datetime.datetime.now() - start_time)\n",
    "\n",
    "    return result\n",
    "\n",
    "def matrix_add(matrix_1, matrix_2):\n",
    "    start_time = datetime.datetime.now()\n",
    "    result = []\n",
    "    for idx_row in range(0, len(matrix_1)):\n",
    "        row = matrix_1[idx_row]\n",
    "        row1 = matrix_2[idx_row]\n",
    "        cols = []\n",
    "        for idx_col in range(0, len(row)):\n",
    "            cols.append(row[idx_col] + row1[idx_col])\n",
    "        result.append(cols)\n",
    "    print('Computation time', datetime.datetime.now() - start_time)\n",
    "    return result"
   ]
  },
  {
   "cell_type": "code",
   "execution_count": 6,
   "id": "6e90974e-7735-4b83-9957-bd958ab449be",
   "metadata": {},
   "outputs": [],
   "source": [
    "QUEUE_NAME = 'queue'"
   ]
  },
  {
   "cell_type": "code",
   "execution_count": 7,
   "id": "5bc0a3eb-3bc7-4d62-b967-4131688e16b2",
   "metadata": {},
   "outputs": [],
   "source": [
    "get_queue(sqs, QUEUE_NAME)"
   ]
  },
  {
   "cell_type": "code",
   "execution_count": 46,
   "id": "306cdb9e-3041-4478-a61c-97aeaf5349e6",
   "metadata": {},
   "outputs": [
    {
     "name": "stdout",
     "output_type": "stream",
     "text": [
      "SSH into the instance: 3.95.28.200\n",
      "SSH into the instance: 107.20.122.207\n",
      "SSH into the instance: 44.202.55.80\n",
      "SSH into the instance: 54.172.123.86\n",
      "SSH into the instance: 54.81.138.118\n",
      "SSH into the instance: 54.86.228.162\n"
     ]
    }
   ],
   "source": [
    "sshs = configure_ssh() \n",
    "keypair = get_key_pairs(client, False)\n",
    "ec2, instances = prepare_instances(client, keypair['KeyName'], INSTANCE_SIZE)\n",
    "ip_addresses = [get_public_address(ec2, instance) for instance in instances]\n",
    "\n",
    "for idx in range(0, len(sshs)):\n",
    "    ssh = sshs[idx]\n",
    "    ip_address = ip_addresses[idx]\n",
    "    ssh_connect_with_retry(ssh, ip_address, 0)"
   ]
  },
  {
   "cell_type": "code",
   "execution_count": 9,
   "id": "04cd8abe",
   "metadata": {
    "collapsed": true,
    "jupyter": {
     "outputs_hidden": true
    },
    "tags": []
   },
   "outputs": [
    {
     "name": "stdout",
     "output_type": "stream",
     "text": [
      "SSH AWS configuration done for 3.95.28.200\n",
      "SSH AWS configuration done for 107.20.122.207\n",
      "SSH AWS configuration done for 44.202.55.80\n",
      "SSH AWS configuration done for 54.172.123.86\n",
      "SSH AWS configuration done for 54.81.138.118\n",
      "SSH AWS configuration done for 54.86.228.162\n"
     ]
    }
   ],
   "source": [
    "# ssh_disconnect(ssh)\n",
    "for idx in range(len(sshs)):\n",
    "    ssh = sshs[idx]\n",
    "    ip_address = ip_addresses[idx]\n",
    "    stdout, stderr = install_required_packages(ssh)\n",
    "    # print(stdout.read().decode('utf-8'))\n",
    "    # print(stderr.read().decode('utf-8'))\n",
    "    configure_aws_access_for_ssh(ssh, ip_address)"
   ]
  },
  {
   "cell_type": "code",
   "execution_count": 10,
   "id": "542e99df",
   "metadata": {
    "collapsed": false,
    "jupyter": {
     "outputs_hidden": false
    }
   },
   "outputs": [
    {
     "name": "stdout",
     "output_type": "stream",
     "text": [
      "Finished uploading 3 files to ~ on 3.95.28.200\n",
      "Finished uploading 3 files to ~ on 107.20.122.207\n",
      "Finished uploading 3 files to ~ on 44.202.55.80\n",
      "Finished uploading 3 files to ~ on 54.172.123.86\n",
      "Finished uploading 3 files to ~ on 54.81.138.118\n",
      "Finished uploading 3 files to ~ on 54.86.228.162\n"
     ]
    }
   ],
   "source": [
    "from files.file_helper import fetch_local_files\n",
    "for idx in range(len(sshs)):\n",
    "    ssh = sshs[idx]\n",
    "    ip_address = ip_addresses[idx]\n",
    "    scp = SCPClient(ssh.get_transport())\n",
    "    bulk_upload(scp, fetch_local_files('./worker'), '~', ip_address)"
   ]
  },
  {
   "cell_type": "markdown",
   "id": "396d3eaa",
   "metadata": {},
   "source": [
    "## TODO: START THE WORKER ON ALL THE INSTANCES"
   ]
  },
  {
   "cell_type": "code",
   "execution_count": 11,
   "id": "9ef92e06",
   "metadata": {
    "collapsed": false,
    "jupyter": {
     "outputs_hidden": false
    }
   },
   "outputs": [
    {
     "name": "stdout",
     "output_type": "stream",
     "text": [
      "helper.py\n",
      "__pycache__\n",
      "queue_helper.py\n",
      "worker.py\n",
      "\n"
     ]
    }
   ],
   "source": [
    "stdin, stdout, stderr = sshs[0].exec_command('ls')\n",
    "print(stdout.read().decode('utf-8'))"
   ]
  },
  {
   "cell_type": "code",
   "execution_count": 12,
   "id": "9097dc55",
   "metadata": {
    "collapsed": false,
    "jupyter": {
     "outputs_hidden": false
    }
   },
   "outputs": [],
   "source": [
    "def start_worker(ssh, worker_id):\n",
    "    stdin, stdout, stderr = ssh.exec_command(f'python ./worker.py {worker_id}')\n",
    "    # result = stdout.read().decode('utf-8')\n",
    "    # return result"
   ]
  },
  {
   "cell_type": "code",
   "execution_count": 29,
   "id": "12d19e76",
   "metadata": {
    "collapsed": false,
    "jupyter": {
     "outputs_hidden": false
    }
   },
   "outputs": [
    {
     "name": "stdout",
     "output_type": "stream",
     "text": [
      "Worker 1 started\n",
      "Queue url: https://sqs.us-east-1.amazonaws.com/469282757936/queue1\n",
      "Computation time 0:00:00.000110\n",
      "Message 78 processed!\n",
      "\n",
      "Traceback (most recent call last):\n",
      "  File \"/home/ec2-user/./worker.py\", line 42, in <module>\n",
      "    response = list([{\"Id\": f\"{index+1}\", \"MessageBody\": str(index, result)}])\n",
      "TypeError: str() argument 2 must be str, not list\n",
      "\n"
     ]
    }
   ],
   "source": [
    "stdin, stdout, stderr = sshs[0].exec_command(f'python ./worker.py 1')\n",
    "print(stdout.read().decode('utf-8'))\n",
    "print(stderr.read().decode('utf-8'))"
   ]
  },
  {
   "cell_type": "code",
   "execution_count": 14,
   "id": "021403db",
   "metadata": {
    "collapsed": false,
    "jupyter": {
     "outputs_hidden": false
    }
   },
   "outputs": [],
   "source": [
    "for idx in range(len(sshs)):\n",
    "    ssh = sshs[idx]\n",
    "    ip_address = ip_addresses[idx]\n",
    "    start_worker(ssh, idx)\n",
    "# sqs = boto3.resource('sqs')\n",
    "# sqs\n",
    "# response = send_message_to_queue(sqs, QUEUE_NAME, \"Hi there! This is my queue message4!\", 1, 0)\n",
    "# response = send_message_to_queue(sqs, QUEUE_NAME, 'X', 1, 0)"
   ]
  },
  {
   "cell_type": "markdown",
   "id": "28cd2f92",
   "metadata": {},
   "source": [
    "### ADDITION"
   ]
  },
  {
   "cell_type": "code",
   "execution_count": 51,
   "id": "0e05f66c",
   "metadata": {
    "collapsed": false,
    "jupyter": {
     "outputs_hidden": false
    }
   },
   "outputs": [],
   "source": [
    "ARRAY_SIZE = 100"
   ]
  },
  {
   "cell_type": "code",
   "execution_count": 52,
   "id": "0c405ed7",
   "metadata": {
    "collapsed": false,
    "jupyter": {
     "outputs_hidden": false
    }
   },
   "outputs": [],
   "source": [
    "arr, arr1 = generate_array(ARRAY_SIZE,ARRAY_SIZE)"
   ]
  },
  {
   "cell_type": "code",
   "execution_count": 55,
   "id": "e4a5c51e",
   "metadata": {
    "collapsed": false,
    "jupyter": {
     "outputs_hidden": false
    }
   },
   "outputs": [],
   "source": [
    "INT_ARRAY_SIZE = 10 #int(ARRAY_SIZE/INSTANCE_SIZE)\n",
    "s_arr = split_row(arr, INT_ARRAY_SIZE, INT_ARRAY_SIZE)\n",
    "s_arr1 = split_row(arr1, INT_ARRAY_SIZE, INT_ARRAY_SIZE)"
   ]
  },
  {
   "cell_type": "code",
   "execution_count": 56,
   "id": "1dbdedef-2717-4576-b1bc-8f897ab4ffde",
   "metadata": {
    "tags": []
   },
   "outputs": [
    {
     "name": "stdout",
     "output_type": "stream",
     "text": [
      "[[8 7 4 4 3 0 4 5 8 6]\n",
      " [5 5 9 0 4 9 0 7 2 1]\n",
      " [0 5 3 7 0 6 1 1 5 1]\n",
      " [1 5 4 7 4 8 3 6 6 0]\n",
      " [9 4 3 4 6 6 4 1 6 0]\n",
      " [5 4 2 2 7 5 5 2 7 1]\n",
      " [4 5 8 4 8 2 9 9 1 2]\n",
      " [6 3 3 3 2 3 0 1 1 9]\n",
      " [8 3 4 2 6 6 4 6 0 6]\n",
      " [9 5 1 3 9 4 8 4 4 2]]\n",
      "[[11 11  9 15  4  7 11  6 10  4]\n",
      " [14  9 15  4  1 15 18 16  6  1]\n",
      " [17 16  3 18 17  4 19 16 19  7]\n",
      " [10  9  4  8 13 10  0  0 11  1]\n",
      " [ 5  5 16  2  2  6 16  4 16 12]\n",
      " [ 9  4 16  1  7  1  7  5 11  9]\n",
      " [16 16  9  8 17  6 16 18 15  2]\n",
      " [16  2  8  0  7  7  4  7 18  3]\n",
      " [ 6 16  3 14  9 14  2 16  5 18]\n",
      " [ 1  5  2  7 16 15 15 18 16  6]]\n"
     ]
    }
   ],
   "source": [
    "print(s_arr[1])\n",
    "print(s_arr1[1])"
   ]
  },
  {
   "cell_type": "code",
   "execution_count": 20,
   "id": "27703c61-7038-4fdc-ba9a-0ba51bd35322",
   "metadata": {},
   "outputs": [],
   "source": [
    "# data = np.arange(0, len(s_arr))"
   ]
  },
  {
   "cell_type": "code",
   "execution_count": 21,
   "id": "f0748f89-ec60-41c9-bb59-ed8c949ed178",
   "metadata": {},
   "outputs": [],
   "source": [
    "# for i in np.array_split(data, 6):\n",
    "#     print(i)"
   ]
  },
  {
   "cell_type": "code",
   "execution_count": 22,
   "id": "5f670c56",
   "metadata": {
    "collapsed": false,
    "jupyter": {
     "outputs_hidden": false
    }
   },
   "outputs": [],
   "source": [
    "# for row in range(0, INT_ARRAY_SIZE):\n",
    "#     print(s_arr[row])\n",
    "#     break"
   ]
  },
  {
   "cell_type": "code",
   "execution_count": 23,
   "id": "ed4604b3-403f-4671-837d-11a13b2726ac",
   "metadata": {},
   "outputs": [],
   "source": [
    "# iter = len(s_arr)/100"
   ]
  },
  {
   "cell_type": "code",
   "execution_count": 24,
   "id": "50376ddf-9003-46a2-9b85-56471347f37b",
   "metadata": {},
   "outputs": [],
   "source": [
    "\n",
    "# b = str(b).replace('\\n', ',').replace(' ', '')"
   ]
  },
  {
   "cell_type": "code",
   "execution_count": 25,
   "id": "b2fd32ed-05e4-4e60-8539-e43678fc091d",
   "metadata": {},
   "outputs": [],
   "source": [
    "# for y in range(0, 20)\n",
    "# for x in range(0, iter):\n",
    "# a = arr[0]\n",
    "# b = arr[1]\n",
    "# a = str(a).replace(' ', ',').replace('\\n', '')\n",
    "# b = str(b).replace('\\n', ',').replace(' ', '')\n",
    "    \n",
    "    # stdin, stdout, stderr = ssh.exec_command(f'python dot_prod.py {a} {b}')\n",
    "    # result = stdout.read().decode(\"utf-8\").replace('\\n', '')\n",
    "    # literal_eval(result)[0][0]\n",
    "    # print(stderr.read().decode(\"utf-8\"))"
   ]
  },
  {
   "cell_type": "code",
   "execution_count": 25,
   "id": "30e871f5",
   "metadata": {
    "collapsed": false,
    "jupyter": {
     "outputs_hidden": false
    }
   },
   "outputs": [],
   "source": []
  },
  {
   "cell_type": "code",
   "execution_count": 57,
   "id": "33cd3d74-e2a8-4959-817f-58c893854021",
   "metadata": {},
   "outputs": [],
   "source": [
    "def reformat_data(data):\n",
    "    return str(data).replace('\\n', '')\n",
    "# a = s_arr[0]\n",
    "# b = s_arr[1]\n",
    "# a = str(a).replace(' ', ',').replace('\\n', '')\n",
    "# b = str(b).replace(' ', ',').replace('\\n', '')\n",
    "# ROW_LENGTH = int(len(s_arr)/INSTANCE_SIZE)\n",
    "# messages = []\n",
    "data = np.arange(0, len(s_arr))\n",
    "\n",
    "for id, dt in enumerate(np.array_split(data, INSTANCE_SIZE)):    \n",
    "    # [print(f'queue{id}', {\"Id\": f\"{idx+1}\", \"MessageBody\": str((idx, (reformat_data(s_arr[idx]), reformat_data(s_arr1[idx])))) })\n",
    "    #             for idx in range(min(dt), max(dt)+1)]\n",
    "    [send_message_to_queue(sqs, f'queue{id}', [{\"Id\": f\"{idx+1}\", \"MessageBody\": str((idx, (reformat_data(s_arr[idx]), reformat_data(s_arr1[idx])))) }])\n",
    "                for idx in range(min(dt), max(dt)+1)]\n",
    "    \n",
    "# for index in np.array_split(data, INSTANCE_SIZE):\n",
    "#     # print(index)\n",
    "#     messages.append([{\"Id\": f\"{idx+1}\", \"MessageBody\": str((idx, (reformat_data(s_arr[idx]), reformat_data(s_arr1[idx])))) }\n",
    "#                 for idx in range(min(index), max(index)+1)])\n",
    "    # if index <4:\n",
    "    #     print(messages)\n",
    "# messages1 = [{\"Id\": f\"{idx}\", \"MessageBody\": str((reformat_data(s_arr[idx]), reformat_data(s_arr1[idx]))) } for idx in range(5, 10)]\n",
    "# messages2 = [{\"Id\": f\"{idx}\", \"MessageBody\": str((reformat_data(s_arr[idx]), reformat_data(s_arr1[idx]))) } for idx in range(10, 15)]\n",
    "# messages3 = [{\"Id\": f\"{idx}\", \"MessageBody\": str((reformat_data(s_arr[idx]), reformat_data(s_arr1[idx]))) } for idx in range(15, 20)]\n",
    "# messages4 = [{\"Id\": f\"{idx}\", \"MessageBody\": str((reformat_data(s_arr[idx]), reformat_data(s_arr1[idx]))) } for idx in range(20, 25)]"
   ]
  },
  {
   "cell_type": "code",
   "execution_count": 21,
   "id": "66a25976",
   "metadata": {
    "collapsed": false,
    "jupyter": {
     "outputs_hidden": false
    }
   },
   "outputs": [],
   "source": [
    "# messages"
   ]
  },
  {
   "cell_type": "code",
   "execution_count": 124,
   "id": "8d4f527f",
   "metadata": {
    "collapsed": false,
    "jupyter": {
     "outputs_hidden": false
    }
   },
   "outputs": [],
   "source": [
    "# messages[3]"
   ]
  },
  {
   "cell_type": "code",
   "execution_count": 26,
   "id": "17e98512",
   "metadata": {
    "tags": []
   },
   "outputs": [],
   "source": [
    "\n",
    "     \n",
    "# [send_message_to_queue(sqs, 'queue0', messages[idx]) for idx in range(0, 4)]\n",
    "# [send_message_to_queue(sqs, 'queue1', messages[idx]) for idx in range(4, 8)]\n",
    "# [send_message_to_queue(sqs, 'queue2', messages[idx]) for idx in range(8, 12)]\n",
    "# [send_message_to_queue(sqs, 'queue3', messages[idx]) for idx in range(12, 16)]\n",
    "# [send_message_to_queue(sqs, 'queue4', messages[idx]) for idx in range(16, 20)]\n",
    "# [send_message_to_queue(sqs, 'queue5', messages[idx]) for idx in range(20, 24)]\n",
    "\n",
    "    # print(f'queue{int((idx * INSTANCE_SIZE) % INSTANCE_SIZE)}')\n",
    "        # send_message_to_queue(sqs, f'queue{int(idx/2)}', messages[idx])"
   ]
  },
  {
   "cell_type": "code",
   "execution_count": 317,
   "id": "ae88bf68",
   "metadata": {
    "collapsed": false,
    "jupyter": {
     "outputs_hidden": false
    }
   },
   "outputs": [
    {
     "name": "stdout",
     "output_type": "stream",
     "text": [
      "result-queue-0\n",
      "result-queue-1\n",
      "result-queue-2\n",
      "result-queue-3\n",
      "result-queue-4\n",
      "result-queue-5\n"
     ]
    }
   ],
   "source": [
    "compute_res = get_messages_from_queue(INSTANCE_SIZE)"
   ]
  },
  {
   "cell_type": "code",
   "execution_count": 322,
   "id": "4cf6af39",
   "metadata": {
    "collapsed": false,
    "jupyter": {
     "outputs_hidden": false
    }
   },
   "outputs": [],
   "source": [
    "compute_res = [literal_eval(compute) for compute in compute_res]"
   ]
  },
  {
   "cell_type": "code",
   "execution_count": 332,
   "id": "c933c3af",
   "metadata": {
    "collapsed": false,
    "jupyter": {
     "outputs_hidden": false
    }
   },
   "outputs": [
    {
     "data": {
      "text/plain": [
       "6"
      ]
     },
     "execution_count": 332,
     "metadata": {},
     "output_type": "execute_result"
    }
   ],
   "source": [
    "len(compute_res)"
   ]
  },
  {
   "cell_type": "code",
   "execution_count": 204,
   "id": "55e9c072",
   "metadata": {
    "collapsed": false,
    "jupyter": {
     "outputs_hidden": false
    }
   },
   "outputs": [],
   "source": [
    "# # sqs = boto3.resource('sqs')\n",
    "# queue = sqs.(QueueName='airscholar-queue')\n",
    "# for message in sqs.receive_message(\n",
    "#             MaxNumberOfMessages=10):\n",
    "#         # process message body\n",
    "#         body = json.loads(message.body)\n",
    "#         print(body)\n"
   ]
  },
  {
   "cell_type": "code",
   "execution_count": 143,
   "id": "31a9766f",
   "metadata": {
    "collapsed": false,
    "jupyter": {
     "outputs_hidden": false
    }
   },
   "outputs": [],
   "source": [
    "# message = response['Messages']\n",
    "# receipt_handle = message['ReceiptHandle']\n",
    "\n",
    "# # Delete received message from queue\n",
    "# sqs.delete_message(\n",
    "#     QueueUrl=queue_url,\n",
    "#     ReceiptHandle=receipt_handle\n",
    "# )\n"
   ]
  },
  {
   "cell_type": "code",
   "execution_count": 196,
   "id": "afb375f4-09c6-49ee-87bb-a2a05b257be1",
   "metadata": {},
   "outputs": [],
   "source": [
    "# print(json.dumps(message, indent=4))"
   ]
  },
  {
   "cell_type": "code",
   "execution_count": 45,
   "id": "2a77ae2f-0920-4866-aa85-3533371f38ca",
   "metadata": {
    "tags": []
   },
   "outputs": [],
   "source": [
    "# # ec2_inst_id\n",
    "# bucketName = 'airscholar-mlbd-bucket'"
   ]
  },
  {
   "cell_type": "code",
   "execution_count": 146,
   "id": "dc983a9a-5cff-4e99-82b4-151681913ff9",
   "metadata": {},
   "outputs": [],
   "source": [
    "# s3 = boto3.client('s3')"
   ]
  },
  {
   "cell_type": "code",
   "execution_count": null,
   "id": "ea072947-1808-4444-9d2c-bff7e26f3b37",
   "metadata": {},
   "outputs": [],
   "source": [
    "# response = s3.get_object(Bucket=bucketName,\n",
    "#                          Key='data.json')\n",
    "# print(\"Done, response body:\")\n",
    "# print(response['Body'].read())"
   ]
  },
  {
   "cell_type": "code",
   "execution_count": null,
   "id": "eb35587b-cee3-455a-a86d-1b4c6b875653",
   "metadata": {},
   "outputs": [],
   "source": [
    "#create instance\n",
    "#configure instance\n",
    "#create matrix\n",
    "#split matrix\n",
    "#send matrix to the queue\n",
    "#read matrix from the queue on the instance created\n",
    "#compute matrix\n",
    "#send result to base\n"
   ]
  },
  {
   "cell_type": "code",
   "execution_count": 27,
   "id": "d149a3f8-392e-4080-8ecc-d00c56714648",
   "metadata": {},
   "outputs": [
    {
     "name": "stderr",
     "output_type": "stream",
     "text": [
      "'git' is not recognized as an internal or external command,\n",
      "operable program or batch file.\n",
      "'git' is not recognized as an internal or external command,\n",
      "operable program or batch file.\n",
      "'git' is not recognized as an internal or external command,\n",
      "operable program or batch file.\n"
     ]
    }
   ],
   "source": [
    "!git add .\n",
    "!git commit -am \"Update infrastructure implementation. Fixed worker computation\"\n",
    "!git push --set-upstream origin main"
   ]
  },
  {
   "cell_type": "code",
   "execution_count": null,
   "id": "e9fc665d",
   "metadata": {
    "collapsed": false,
    "jupyter": {
     "outputs_hidden": false
    }
   },
   "outputs": [],
   "source": []
  }
 ],
 "metadata": {
  "kernelspec": {
   "display_name": "Python 3 (ipykernel)",
   "language": "python",
   "name": "python3"
  },
  "language_info": {
   "codemirror_mode": {
    "name": "ipython",
    "version": 3
   },
   "file_extension": ".py",
   "mimetype": "text/x-python",
   "name": "python",
   "nbconvert_exporter": "python",
   "pygments_lexer": "ipython3",
   "version": "3.9.12"
  }
 },
 "nbformat": 4,
 "nbformat_minor": 5
}
