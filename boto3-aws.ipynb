{
 "cells": [
  {
   "cell_type": "code",
   "execution_count": 3,
   "id": "1795e9e2-fda9-442b-8a76-8cd77c3a9138",
   "metadata": {},
   "outputs": [],
   "source": [
    "# !pip install paramiko\n",
    "# !pip install scp"
   ]
  },
  {
   "cell_type": "code",
   "execution_count": 1,
   "id": "09e8788d-0182-49f9-9128-a6dfbca0b8b7",
   "metadata": {},
   "outputs": [],
   "source": [
    "import os\n",
    "import boto3\n",
    "import subprocess\n",
    "import numpy as np\n",
    "import time\n",
    "import datetime\n",
    "import paramiko\n",
    "import io\n",
    "from scp import SCPClient, SCPException\n",
    "import sys\n",
    "from ast import literal_eval"
   ]
  },
  {
   "cell_type": "code",
   "execution_count": 2,
   "id": "2826bf4b-381b-4810-8ac0-672563a4a12e",
   "metadata": {},
   "outputs": [],
   "source": [
    "np.set_printoptions(threshold=sys.maxsize)"
   ]
  },
  {
   "cell_type": "code",
   "execution_count": 3,
   "id": "6c10e4cc-94f6-4c09-bb82-d5e19b44a8f0",
   "metadata": {},
   "outputs": [],
   "source": [
    "INSTANCE_SIZE = 6"
   ]
  },
  {
   "cell_type": "code",
   "execution_count": 4,
   "id": "065e1449-3738-40b5-87ec-1839be75e1ad",
   "metadata": {},
   "outputs": [],
   "source": [
    "client = boto3.client('ec2', region_name='us-east-1')\n",
    "# Create SQS client\n",
    "sqs = boto3.resource('sqs')"
   ]
  },
  {
   "cell_type": "code",
   "execution_count": 192,
   "id": "668e8ed9",
   "metadata": {
    "collapsed": false,
    "jupyter": {
     "outputs_hidden": false
    }
   },
   "outputs": [],
   "source": [
    "def get_default_security_group(client, key_name):\n",
    "    #extract key_name attribute from the security groups returned\n",
    "    response = [group[key_name] for group in client.describe_security_groups()['SecurityGroups'] if group['GroupName'] == 'default']\n",
    "\n",
    "    return response\n",
    "\n",
    "def get_key_pairs(client, removeExisting=False):\n",
    "    if removeExisting:\n",
    "        client.delete_key_pair(KeyName='airscholar-key')\n",
    "\n",
    "    keypairs = client.describe_key_pairs()['KeyPairs']\n",
    "    keypair = list(filter(lambda x: x['KeyName'] == 'airscholar-key', keypairs))\n",
    "\n",
    "    if not keypair:\n",
    "        keypair = client.create_key_pair(KeyName='airscholar-key')\n",
    "        f = io.StringIO(keypair['KeyMaterial'])\n",
    "        data = f.read()\n",
    "        file = open('labsuser.pem', 'w')\n",
    "        file.write(data)\n",
    "        file.close()\n",
    "    else:\n",
    "        keypair = keypair[0]\n",
    "\n",
    "    return keypair\n",
    "\n",
    "def launch_new_instance(client, keypair, count):\n",
    "    response = client.run_instances(\n",
    "        ImageId='ami-05723c3b9cf4bf4ff',\n",
    "        InstanceType='t2.micro',\n",
    "        KeyName=keypair,\n",
    "        MaxCount=count,\n",
    "        MinCount=count,\n",
    "        Monitoring={\n",
    "            'Enabled': True\n",
    "        },\n",
    "        SecurityGroupIds= get_default_security_group(client, key_name='GroupId')\n",
    "    )\n",
    "    ec2_inst_ids = [res[\"InstanceId\"] for res in response]\n",
    "    waiter = client.get_waiter('instance_running')\n",
    "    waiter.wait(InstanceIds=[ec2_inst_ids])\n",
    "    return ec2_inst_ids\n",
    "\n",
    "def prepare_instances(client, keypair, count):\n",
    "    ec2 = boto3.resource('ec2')\n",
    "    ec2_inst_ids = []\n",
    "\n",
    "    deployed_count = 0\n",
    "    for instance in ec2.instances.all():\n",
    "        deployed_count += 1\n",
    "        if instance.state['Name'] == 'running':\n",
    "            ec2_inst_ids.append(instance.id)\n",
    "\n",
    "    if deployed_count < count:\n",
    "        ec2_inst_ids.append(launch_new_instance(client, keypair, (count - deployed_count)))\n",
    "\n",
    "    if not ec2_inst_ids:\n",
    "        ec2_inst_ids.append(launch_new_instance(client, keypair, count))\n",
    "\n",
    "    return ec2, ec2_inst_ids\n",
    "\n",
    "def configure_ssh():\n",
    "    sshs = []\n",
    "    for count in range(0, INSTANCE_SIZE):\n",
    "        ssh = paramiko.SSHClient()\n",
    "        ssh.set_missing_host_key_policy(paramiko.AutoAddPolicy())\n",
    "        sshs.append(ssh)\n",
    "    return sshs\n",
    "\n",
    "def ssh_connect_with_retry(ssh, ip_address, retries):\n",
    "    if retries > 3:\n",
    "        return False\n",
    "    f = open('labsuser.pem', 'r')\n",
    "    privkey = paramiko.RSAKey.from_private_key(f)\n",
    "    # print(privkey)\n",
    "    interval = 5\n",
    "    try:\n",
    "        retries += 1\n",
    "        print('SSH into the instance: {}'.format(ip_address))\n",
    "        ssh.connect(hostname=ip_address,\n",
    "                    username='ec2-user', pkey=privkey)\n",
    "        return True\n",
    "    except Exception as e:\n",
    "        print(e)\n",
    "        time.sleep(interval)\n",
    "        print('Retrying SSH connection to {}'.format(ip_address))\n",
    "        ssh_connect_with_retry(ssh, ip_address, retries)\n",
    "\n",
    "def ssh_disconnect(ssh):\n",
    "        \"\"\"Close ssh connection.\"\"\"\n",
    "        if ssh:\n",
    "            ssh.close()\n",
    "\n",
    "def get_public_address(ec2, instance_id):\n",
    "    # ec2 = boto3.resource('ec2', region_name='us-east-1')\n",
    "    instance = ec2.Instance(id=instance_id)\n",
    "    instance.wait_until_running()\n",
    "    current_instance = list(ec2.instances.filter(InstanceIds=[instance_id]))\n",
    "    ip_address = current_instance[0].public_ip_address\n",
    "    return ip_address\n",
    "\n",
    "def get_queue(sqs, queue_name):\n",
    "    # Get the queue. This returns an SQS.Queue instance\n",
    "    # There is no queue, create a new SQS queue\n",
    "    attributes = {\n",
    "        'DelaySeconds': '0',\n",
    "        'MessageRetentionPeriod': '86400',\n",
    "        \"ReceiveMessageWaitTimeSeconds\": \"0\"\n",
    "    }\n",
    "\n",
    "    for idx in range(INSTANCE_SIZE):\n",
    "        sqs.create_queue(\n",
    "            QueueName=f\"{queue_name}{idx}\",\n",
    "            Attributes=attributes\n",
    "        )\n",
    "\n",
    "        sqs.create_queue(\n",
    "            QueueName=f'result-queue-{idx}',\n",
    "            Attributes=attributes\n",
    "        )\n",
    "\n",
    "def send_message_to_queue(sqs, queue_name, message):\n",
    "    queue = sqs.get_queue_by_name(QueueName=queue_name)\n",
    "\n",
    "    # Send message to SQS queue\n",
    "    response = queue.send_messages(\n",
    "        Entries=message\n",
    "    )\n",
    "    return response\n",
    "\n",
    "def install_required_packages(ssh):\n",
    "    stdin, stdout, stderr = ssh.exec_command(\"sudo yum install pip -y && sudo pip install numpy boto3 AST\")\n",
    "    return stdout, stderr\n",
    "\n",
    "def get_messages_from_queue(instance_size, queue, message_size=10):\n",
    "    messages = []\n",
    "    sqs = boto3.resource('sqs')\n",
    "    queue = sqs.get_queue_by_name(QueueName=queue)\n",
    "    #\n",
    "    # client = boto3.client('sqs')\n",
    "    # response = client.receive_message(\n",
    "    #     QueueUrl = client.get_queue_url(QueueName=queue)['QueueUrl'],\n",
    "    #     AttributeNames=['All'],\n",
    "    #     MaxNumberOfMessages=10\n",
    "    # )['Messages']\n",
    "    # response.delete()\n",
    "\n",
    "    for message in queue.receive_messages(MaxNumberOfMessages=message_size, MessageAttributeNames=['All'], WaitTimeSeconds=0):\n",
    "        messages.append(message.body)\n",
    "        message.delete()\n",
    "    return messages\n",
    "\n",
    "def split_row(array, nrows, ncols):\n",
    "    \"\"\"\n",
    "    Return an array of shape (n, nrows, ncols) where\n",
    "    n * nrows * ncols = arr.size\n",
    "\n",
    "    If arr is a 2D array, the returned array should look like n subblocks with\n",
    "    each subblock preserving the \"physical\" layout of arr.\n",
    "    \"\"\"\n",
    "    h, w = array.shape\n",
    "    assert h % nrows == 0, f\"{h} rows is not evenly divisible by {nrows}\"\n",
    "    assert w % ncols == 0, f\"{w} cols is not evenly divisible by {ncols}\"\n",
    "    return (array.reshape(h//nrows, nrows, -1, ncols)\n",
    "               .swapaxes(1,2)\n",
    "               .reshape(-1, nrows, ncols))\n",
    "\n",
    "def split_col(array, nrows, ncols):\n",
    "    \"\"\"Split a matrix into sub-matrices.\"\"\"\n",
    "    r, h = array.shape\n",
    "    return [np.vsplit(i, 5) for i in np.hsplit(arr1, r)]\n",
    "\n",
    "def generate_array(nrows, ncols):\n",
    "    arr = np.random.randint(10, size=(nrows, ncols))\n",
    "    # # print('arr 1:\\n', arr)\n",
    "    # arr = split_row(arr, 1, split_size)\n",
    "    arr1 = np.random.randint(20, size=(nrows, ncols))\n",
    "    # print('arr 2:\\n', arr1)\n",
    "    # arr1 = split_col(arr1, 1, split_size)\n",
    "\n",
    "    return arr, arr1\n",
    "\n",
    "def upload_file_to_s3(file_name, bucket, object_name=None):\n",
    "    \"\"\"Upload a file to an S3 bucket\n",
    "\n",
    "    :param file_name: File to upload\n",
    "    :param bucket: Bucket to upload to\n",
    "    :param object_name: S3 object name. If not specified then file_name is used\n",
    "    :return: True if file was uploaded, else False\n",
    "    \"\"\"\n",
    "\n",
    "    # If S3 object_name was not specified, use file_name\n",
    "    if object_name is None:\n",
    "        object_name = os.path.basename(file_name)\n",
    "\n",
    "    # Upload the file\n",
    "    s3_client = boto3.client('s3')\n",
    "    try:\n",
    "        response = s3_client.upload_file(file_name, bucket, object_name)\n",
    "    except:\n",
    "        # logging.error(e)\n",
    "        return False\n",
    "    return True\n",
    "\n",
    "def bulk_upload(scp, filepaths: list[str], remote_path, host):\n",
    "        \"\"\"\n",
    "        Upload multiple files to a remote directory.\n",
    "\n",
    "        :param List[str] filepaths: List of local files to be uploaded.\n",
    "        \"\"\"\n",
    "        try:\n",
    "            scp.put(\n",
    "                filepaths,\n",
    "                remote_path=remote_path,\n",
    "                recursive=True\n",
    "            )\n",
    "            print(f\"Finished uploading {len(filepaths)} files to {remote_path} on {host}\")\n",
    "        except SCPException as e:\n",
    "            print(f\"SCPException during bulk upload: {e}\")\n",
    "        except Exception as e:\n",
    "            print(f\"Unexpected exception during bulk upload: {e}\")\n",
    "\n",
    "def configure_aws_access_for_ssh(ssh, ip_address):\n",
    "    \"\"\"\n",
    "    This function extracts the AWS configuration you have locally and push to the server\n",
    "    :param ssh:ssh object\n",
    "    :return:\n",
    "    \"\"\"\n",
    "    output = subprocess.getoutput(\"cat ~/.aws/credentials\")\n",
    "    ssh.exec_command(f'mkdir ~/.aws && touch ~/.aws/credentials')\n",
    "    ssh.exec_command(f\"echo '{output}' > ~/.aws/credentials\")\n",
    "    print(f'SSH AWS configuration done for {ip_address}')\n",
    "\n",
    "def matrix_dot_product(matrix_a, matrix_b):\n",
    "    start_time = datetime.datetime.now()\n",
    "    result = []\n",
    "    for i in range(len(matrix_a)):\n",
    "        row = []\n",
    "        for j in range(len(matrix_b[0])):\n",
    "            sum = 0\n",
    "            for k in range(len(matrix_b)):\n",
    "                sum += matrix_a[i][k] * matrix_b[k][j]\n",
    "            row.append(sum)\n",
    "        result.append(row)\n",
    "    print('Computation time', datetime.datetime.now() - start_time)\n",
    "\n",
    "    return result\n",
    "\n",
    "def matrix_add(matrix_1, matrix_2):\n",
    "    start_time = datetime.datetime.now()\n",
    "    result = []\n",
    "    for idx_row in range(0, len(matrix_1)):\n",
    "        row = matrix_1[idx_row]\n",
    "        row1 = matrix_2[idx_row]\n",
    "        cols = []\n",
    "        for idx_col in range(0, len(row)):\n",
    "            cols.append(row[idx_col] + row1[idx_col])\n",
    "        result.append(cols)\n",
    "    print('Computation time', datetime.datetime.now() - start_time)\n",
    "    return result"
   ]
  },
  {
   "cell_type": "code",
   "execution_count": 6,
   "id": "6e90974e-7735-4b83-9957-bd958ab449be",
   "metadata": {},
   "outputs": [],
   "source": [
    "QUEUE_NAME = 'queue'"
   ]
  },
  {
   "cell_type": "code",
   "execution_count": 7,
   "id": "5bc0a3eb-3bc7-4d62-b967-4131688e16b2",
   "metadata": {},
   "outputs": [],
   "source": [
    "get_queue(sqs, QUEUE_NAME)"
   ]
  },
  {
   "cell_type": "code",
   "execution_count": 46,
   "id": "306cdb9e-3041-4478-a61c-97aeaf5349e6",
   "metadata": {},
   "outputs": [
    {
     "name": "stdout",
     "output_type": "stream",
     "text": [
      "SSH into the instance: 3.95.28.200\n",
      "SSH into the instance: 107.20.122.207\n",
      "SSH into the instance: 44.202.55.80\n",
      "SSH into the instance: 54.172.123.86\n",
      "SSH into the instance: 54.81.138.118\n",
      "SSH into the instance: 54.86.228.162\n"
     ]
    }
   ],
   "source": [
    "sshs = configure_ssh() \n",
    "keypair = get_key_pairs(client, False)\n",
    "ec2, instances = prepare_instances(client, keypair['KeyName'], INSTANCE_SIZE)\n",
    "ip_addresses = [get_public_address(ec2, instance) for instance in instances]\n",
    "\n",
    "for idx in range(0, len(sshs)):\n",
    "    ssh = sshs[idx]\n",
    "    ip_address = ip_addresses[idx]\n",
    "    ssh_connect_with_retry(ssh, ip_address, 0)"
   ]
  },
  {
   "cell_type": "code",
   "execution_count": 9,
   "id": "04cd8abe",
   "metadata": {
    "collapsed": true,
    "jupyter": {
     "outputs_hidden": true
    },
    "tags": []
   },
   "outputs": [
    {
     "name": "stdout",
     "output_type": "stream",
     "text": [
      "SSH AWS configuration done for 3.95.28.200\n",
      "SSH AWS configuration done for 107.20.122.207\n",
      "SSH AWS configuration done for 44.202.55.80\n",
      "SSH AWS configuration done for 54.172.123.86\n",
      "SSH AWS configuration done for 54.81.138.118\n",
      "SSH AWS configuration done for 54.86.228.162\n"
     ]
    }
   ],
   "source": [
    "# ssh_disconnect(ssh)\n",
    "for idx in range(len(sshs)):\n",
    "    ssh = sshs[idx]\n",
    "    ip_address = ip_addresses[idx]\n",
    "    stdout, stderr = install_required_packages(ssh)\n",
    "    # print(stdout.read().decode('utf-8'))\n",
    "    # print(stderr.read().decode('utf-8'))\n",
    "    configure_aws_access_for_ssh(ssh, ip_address)"
   ]
  },
  {
   "cell_type": "code",
   "execution_count": 59,
   "id": "542e99df",
   "metadata": {
    "collapsed": false,
    "jupyter": {
     "outputs_hidden": false
    }
   },
   "outputs": [
    {
     "name": "stdout",
     "output_type": "stream",
     "text": [
      "Finished uploading 3 files to ~ on 3.95.28.200\n",
      "Finished uploading 3 files to ~ on 107.20.122.207\n",
      "Finished uploading 3 files to ~ on 44.202.55.80\n",
      "Finished uploading 3 files to ~ on 54.172.123.86\n",
      "Finished uploading 3 files to ~ on 54.81.138.118\n",
      "Finished uploading 3 files to ~ on 54.86.228.162\n"
     ]
    }
   ],
   "source": [
    "from files.file_helper import fetch_local_files\n",
    "for idx in range(len(sshs)):\n",
    "    ssh = sshs[idx]\n",
    "    ip_address = ip_addresses[idx]\n",
    "    scp = SCPClient(ssh.get_transport())\n",
    "    bulk_upload(scp, fetch_local_files('./worker'), '~', ip_address)"
   ]
  },
  {
   "cell_type": "markdown",
   "id": "396d3eaa",
   "metadata": {},
   "source": [
    "## TODO: START THE WORKER ON ALL THE INSTANCES"
   ]
  },
  {
   "cell_type": "code",
   "execution_count": 61,
   "id": "9ef92e06",
   "metadata": {
    "collapsed": false,
    "jupyter": {
     "outputs_hidden": false
    }
   },
   "outputs": [],
   "source": [
    "# stdin, stdout, stderr = sshs[0].exec_command('cat worker.py')\n",
    "# print(stdout.read().decode('utf-8'))"
   ]
  },
  {
   "cell_type": "code",
   "execution_count": 12,
   "id": "9097dc55",
   "metadata": {
    "collapsed": false,
    "jupyter": {
     "outputs_hidden": false
    }
   },
   "outputs": [],
   "source": [
    "def start_worker(ssh, worker_id):\n",
    "    stdin, stdout, stderr = ssh.exec_command(f'python ./worker.py {worker_id}')\n",
    "    # result = stdout.read().decode('utf-8')\n",
    "    # return result"
   ]
  },
  {
   "cell_type": "code",
   "execution_count": 62,
   "id": "12d19e76",
   "metadata": {
    "collapsed": false,
    "jupyter": {
     "outputs_hidden": false
    }
   },
   "outputs": [],
   "source": [
    "# stdin, stdout, stderr = sshs[0].exec_command(f'python ./worker.py 1')\n",
    "# print(stdout.read().decode('utf-8'))\n",
    "# print(stderr.read().decode('utf-8'))"
   ]
  },
  {
   "cell_type": "code",
   "execution_count": 63,
   "id": "021403db",
   "metadata": {
    "collapsed": false,
    "jupyter": {
     "outputs_hidden": false
    }
   },
   "outputs": [],
   "source": [
    "for idx in range(len(sshs)):\n",
    "    ssh = sshs[idx]\n",
    "    ip_address = ip_addresses[idx]\n",
    "    start_worker(ssh, idx)\n",
    "# sqs = boto3.resource('sqs')\n",
    "# sqs\n",
    "# response = send_message_to_queue(sqs, QUEUE_NAME, \"Hi there! This is my queue message4!\", 1, 0)\n",
    "# response = send_message_to_queue(sqs, QUEUE_NAME, 'X', 1, 0)"
   ]
  },
  {
   "cell_type": "markdown",
   "id": "28cd2f92",
   "metadata": {},
   "source": [
    "### ADDITION"
   ]
  },
  {
   "cell_type": "code",
   "execution_count": 51,
   "id": "0e05f66c",
   "metadata": {
    "collapsed": false,
    "jupyter": {
     "outputs_hidden": false
    }
   },
   "outputs": [],
   "source": [
    "ARRAY_SIZE = 100"
   ]
  },
  {
   "cell_type": "code",
   "execution_count": 52,
   "id": "0c405ed7",
   "metadata": {
    "collapsed": false,
    "jupyter": {
     "outputs_hidden": false
    }
   },
   "outputs": [],
   "source": [
    "arr, arr1 = generate_array(ARRAY_SIZE,ARRAY_SIZE)"
   ]
  },
  {
   "cell_type": "code",
   "execution_count": 55,
   "id": "e4a5c51e",
   "metadata": {
    "collapsed": false,
    "jupyter": {
     "outputs_hidden": false
    }
   },
   "outputs": [],
   "source": [
    "INT_ARRAY_SIZE = 10 #int(ARRAY_SIZE/INSTANCE_SIZE)\n",
    "s_arr = split_row(arr, INT_ARRAY_SIZE, INT_ARRAY_SIZE)\n",
    "s_arr1 = split_row(arr1, INT_ARRAY_SIZE, INT_ARRAY_SIZE)"
   ]
  },
  {
   "cell_type": "code",
   "execution_count": 56,
   "id": "1dbdedef-2717-4576-b1bc-8f897ab4ffde",
   "metadata": {
    "tags": []
   },
   "outputs": [
    {
     "name": "stdout",
     "output_type": "stream",
     "text": [
      "[[8 7 4 4 3 0 4 5 8 6]\n",
      " [5 5 9 0 4 9 0 7 2 1]\n",
      " [0 5 3 7 0 6 1 1 5 1]\n",
      " [1 5 4 7 4 8 3 6 6 0]\n",
      " [9 4 3 4 6 6 4 1 6 0]\n",
      " [5 4 2 2 7 5 5 2 7 1]\n",
      " [4 5 8 4 8 2 9 9 1 2]\n",
      " [6 3 3 3 2 3 0 1 1 9]\n",
      " [8 3 4 2 6 6 4 6 0 6]\n",
      " [9 5 1 3 9 4 8 4 4 2]]\n",
      "[[11 11  9 15  4  7 11  6 10  4]\n",
      " [14  9 15  4  1 15 18 16  6  1]\n",
      " [17 16  3 18 17  4 19 16 19  7]\n",
      " [10  9  4  8 13 10  0  0 11  1]\n",
      " [ 5  5 16  2  2  6 16  4 16 12]\n",
      " [ 9  4 16  1  7  1  7  5 11  9]\n",
      " [16 16  9  8 17  6 16 18 15  2]\n",
      " [16  2  8  0  7  7  4  7 18  3]\n",
      " [ 6 16  3 14  9 14  2 16  5 18]\n",
      " [ 1  5  2  7 16 15 15 18 16  6]]\n"
     ]
    }
   ],
   "source": [
    "print(s_arr[1])\n",
    "print(s_arr1[1])"
   ]
  },
  {
   "cell_type": "code",
   "execution_count": 23,
   "id": "ed4604b3-403f-4671-837d-11a13b2726ac",
   "metadata": {},
   "outputs": [],
   "source": [
    "# iter = len(s_arr)/100"
   ]
  },
  {
   "cell_type": "code",
   "execution_count": 24,
   "id": "50376ddf-9003-46a2-9b85-56471347f37b",
   "metadata": {},
   "outputs": [],
   "source": [
    "\n",
    "# b = str(b).replace('\\n', ',').replace(' ', '')"
   ]
  },
  {
   "cell_type": "code",
   "execution_count": 25,
   "id": "b2fd32ed-05e4-4e60-8539-e43678fc091d",
   "metadata": {},
   "outputs": [],
   "source": [
    "# for y in range(0, 20)\n",
    "# for x in range(0, iter):\n",
    "# a = arr[0]\n",
    "# b = arr[1]\n",
    "# a = str(a).replace(' ', ',').replace('\\n', '')\n",
    "# b = str(b).replace('\\n', ',').replace(' ', '')\n",
    "    \n",
    "    # stdin, stdout, stderr = ssh.exec_command(f'python dot_prod.py {a} {b}')\n",
    "    # result = stdout.read().decode(\"utf-8\").replace('\\n', '')\n",
    "    # literal_eval(result)[0][0]\n",
    "    # print(stderr.read().decode(\"utf-8\"))"
   ]
  },
  {
   "cell_type": "code",
   "execution_count": 25,
   "id": "30e871f5",
   "metadata": {
    "collapsed": false,
    "jupyter": {
     "outputs_hidden": false
    }
   },
   "outputs": [],
   "source": []
  },
  {
   "cell_type": "code",
   "execution_count": 200,
   "id": "33cd3d74-e2a8-4959-817f-58c893854021",
   "metadata": {},
   "outputs": [],
   "source": [
    "def reformat_data(data):\n",
    "    return str(data).replace('\\n', '')\n",
    "# a = s_arr[0]\n",
    "# b = s_arr[1]\n",
    "# a = str(a).replace(' ', ',').replace('\\n', '')\n",
    "# b = str(b).replace(' ', ',').replace('\\n', '')\n",
    "# ROW_LENGTH = int(len(s_arr)/INSTANCE_SIZE)\n",
    "# messages = []\n",
    "data = np.arange(0, len(s_arr))\n",
    "for id, dt in enumerate(np.array_split(data, INSTANCE_SIZE)):\n",
    "    # [print(f'queue{id}', {\"Id\": f\"{idx+1}\", \"MessageBody\": str((idx, (reformat_data(s_arr[idx]), reformat_data(s_arr1[idx])))) })\n",
    "    #             for idx in range(min(dt), max(dt)+1)]\n",
    "    [send_message_to_queue(sqs, f'queue{id}', [{\"Id\": f\"{idx+1}\", \"MessageBody\": str((idx, (reformat_data(s_arr[idx]), reformat_data(s_arr1[idx])))) }])\n",
    "                for idx in range(min(dt), max(dt)+1)]\n",
    "    \n",
    "# for index in np.array_split(data, INSTANCE_SIZE):\n",
    "#     # print(index)\n",
    "#     messages.append([{\"Id\": f\"{idx+1}\", \"MessageBody\": str((idx, (reformat_data(s_arr[idx]), reformat_data(s_arr1[idx])))) }\n",
    "#                 for idx in range(min(index), max(index)+1)])\n",
    "    # if index <4:\n",
    "    #     print(messages)\n",
    "# messages1 = [{\"Id\": f\"{idx}\", \"MessageBody\": str((reformat_data(s_arr[idx]), reformat_data(s_arr1[idx]))) } for idx in range(5, 10)]\n",
    "# messages2 = [{\"Id\": f\"{idx}\", \"MessageBody\": str((reformat_data(s_arr[idx]), reformat_data(s_arr1[idx]))) } for idx in range(10, 15)]\n",
    "# messages3 = [{\"Id\": f\"{idx}\", \"MessageBody\": str((reformat_data(s_arr[idx]), reformat_data(s_arr1[idx]))) } for idx in range(15, 20)]\n",
    "# messages4 = [{\"Id\": f\"{idx}\", \"MessageBody\": str((reformat_data(s_arr[idx]), reformat_data(s_arr1[idx]))) } for idx in range(20, 25)]"
   ]
  },
  {
   "cell_type": "code",
   "execution_count": 21,
   "id": "66a25976",
   "metadata": {
    "collapsed": false,
    "jupyter": {
     "outputs_hidden": false
    }
   },
   "outputs": [],
   "source": [
    "# messages"
   ]
  },
  {
   "cell_type": "code",
   "execution_count": 138,
   "id": "8d4f527f",
   "metadata": {
    "collapsed": false,
    "jupyter": {
     "outputs_hidden": false
    }
   },
   "outputs": [
    {
     "data": {
      "text/plain": "<enumerate at 0x16802be40>"
     },
     "execution_count": 138,
     "metadata": {},
     "output_type": "execute_result"
    }
   ],
   "source": []
  },
  {
   "cell_type": "code",
   "execution_count": 26,
   "id": "17e98512",
   "metadata": {
    "tags": []
   },
   "outputs": [],
   "source": [
    "\n",
    "     \n",
    "# [send_message_to_queue(sqs, 'queue0', messages[idx]) for idx in range(0, 4)]\n",
    "# [send_message_to_queue(sqs, 'queue1', messages[idx]) for idx in range(4, 8)]\n",
    "# [send_message_to_queue(sqs, 'queue2', messages[idx]) for idx in range(8, 12)]\n",
    "# [send_message_to_queue(sqs, 'queue3', messages[idx]) for idx in range(12, 16)]\n",
    "# [send_message_to_queue(sqs, 'queue4', messages[idx]) for idx in range(16, 20)]\n",
    "# [send_message_to_queue(sqs, 'queue5', messages[idx]) for idx in range(20, 24)]\n",
    "\n",
    "    # print(f'queue{int((idx * INSTANCE_SIZE) % INSTANCE_SIZE)}')\n",
    "        # send_message_to_queue(sqs, f'queue{int(idx/2)}', messages[idx])"
   ]
  },
  {
   "cell_type": "code",
   "execution_count": 144,
   "outputs": [
    {
     "name": "stdout",
     "output_type": "stream",
     "text": [
      "0 17\n",
      "1 17\n",
      "2 17\n",
      "3 17\n",
      "4 16\n",
      "5 16\n"
     ]
    }
   ],
   "source": [],
   "metadata": {
    "collapsed": false
   }
  },
  {
   "cell_type": "code",
   "execution_count": 201,
   "outputs": [],
   "source": [
    "compute_res = []"
   ],
   "metadata": {
    "collapsed": false
   }
  },
  {
   "cell_type": "code",
   "execution_count": 203,
   "id": "ae88bf68",
   "metadata": {
    "collapsed": false,
    "jupyter": {
     "outputs_hidden": false
    }
   },
   "outputs": [],
   "source": [
    "# for a,b in enumerate(np.array_split(data, INSTANCE_SIZE)):\n",
    "for i in range(17):\n",
    "    res = get_messages_from_queue(INSTANCE_SIZE, f'result-queue-{0}', 1)\n",
    "    # compute_res.append(res)\n",
    "    [compute_res.append(msg) for msg in res]\n"
   ]
  },
  {
   "cell_type": "code",
   "execution_count": 204,
   "outputs": [
    {
     "data": {
      "text/plain": "[\"(5, '[[457 350 577 574 620 501 317 573 456 266] [568 401 597 655 669 516 350 529 545 276] [431 409 504 483 519 400 409 502 394 237] [515 526 572 635 706 610 399 618 685 320] [298 361 413 344 476 510 370 403 379 282] [420 443 527 597 557 407 491 575 452 201] [403 347 470 510 588 374 281 405 442 182] [228 282 245 307 344 281 232 298 359 137] [259 304 265 319 373 388 320 288 305 186] [428 383 475 536 558 362 359 510 505 193]]')\",\n \"(1, '[[507 498 365 444 436 496 528 579 576 310] [504 351 419 309 332 271 490 414 566 280] [308 283 242 221 274 261 234 281 304 188] [491 391 409 287 379 344 381 398 528 296] [446 435 420 371 326 332 446 395 485 310] [400 397 395 307 311 327 429 413 463 317] [644 489 471 374 496 386 640 551 750 270] [257 253 229 264 302 300 371 340 400 177] [468 357 425 312 389 335 534 436 622 253] [515 458 499 353 375 392 562 478 604 307]]')\",\n \"(13, '[[535 655 515 517 474 506 586 440 600 364] [496 580 472 470 445 465 451 528 597 455] [278 426 236 266 222 218 201 261 336 282] [452 454 385 471 342 289 407 290 376 290] [419 570 453 436 306 500 479 334 434 425] [390 335 290 387 351 351 439 218 367 181] [388 535 428 511 342 539 544 582 482 446] [402 427 417 328 350 299 362 274 407 282] [580 570 580 449 448 545 547 345 572 463] [517 520 510 568 399 509 526 445 477 455]]')\",\n \"(12, '[[540 361 357 447 315 562 472 520 488 530] [309 251 155 171 150 326 375 248 301 312] [461 392 400 503 335 558 441 566 433 483] [518 463 387 435 265 558 558 470 622 467] [430 333 357 446 333 475 453 480 319 422] [434 476 335 394 261 442 542 390 422 413] [628 527 428 576 402 693 702 657 595 642] [588 641 416 511 341 612 613 471 530 521] [535 379 267 511 356 537 643 570 443 486] [542 548 407 531 316 547 532 456 540 454]]')\",\n \"(11, '[[699 574 676 392 638 453 428 646 494 548] [713 473 689 458 676 395 392 526 450 477] [531 357 500 231 454 368 308 330 344 384] [455 293 403 368 414 171 202 346 312 261] [518 346 616 282 537 268 315 481 269 333] [537 409 409 363 365 204 280 477 426 401] [594 430 468 339 387 269 277 530 503 416] [664 558 639 498 563 234 346 681 502 426] [349 279 389 182 324 199 220 378 236 245] [626 462 617 243 581 501 377 457 457 483]]')\",\n \"(10, '[[503 334 473 322 506 461 263 175 292 445] [428 384 556 238 593 433 218 244 305 381] [545 302 398 331 551 401 367 130 334 428] [669 469 478 454 647 468 337 205 455 455] [460 382 475 276 589 408 313 227 350 327] [426 360 371 312 482 345 246 227 333 316] [588 378 394 379 491 363 350 114 385 333] [558 444 557 339 586 503 263 276 395 460] [589 490 493 428 658 470 354 208 508 555] [620 562 655 405 798 614 356 332 500 565]]')\",\n \"(16, '[[614 508 802 348 823 759 563 589 549 456] [348 137 353 200 394 455 220 430 287 189] [556 374 619 333 694 669 499 549 472 397] [421 297 476 226 510 517 431 445 319 316] [396 204 529 263 477 524 300 479 347 241] [337 241 377 205 433 436 145 239 237 264] [447 311 585 177 665 523 343 403 496 353] [551 425 689 304 821 776 483 513 516 470] [430 290 568 232 604 511 392 400 451 356] [613 527 845 376 855 743 605 522 572 523]]')\",\n \"(3, '[[628 203 484 264 576 466 146 606 528 582] [562 296 326 276 412 358 152 434 490 540] [612 137 386 260 532 435 129 514 526 546] [682 354 448 361 657 499 181 723 613 810] [424 227 264 274 410 320 103 413 363 399] [596 231 458 336 541 380 169 590 577 638] [419 180 363 256 405 382 171 520 352 506] [620 301 456 297 613 463 169 675 559 730] [500 302 423 300 451 331 183 581 529 612] [524 338 380 351 377 197 147 512 442 645]]')\",\n \"(0, '[[451 378 376 320 455 349 358 291 449 424] [374 207 279 176 268 227 179 150 273 295] [400 651 434 451 687 447 307 225 502 384] [291 509 314 394 532 532 347 185 348 461] [369 522 484 465 708 498 256 246 491 424] [467 479 382 437 491 401 293 256 362 522] [324 409 312 391 629 431 258 288 400 519] [574 709 560 521 783 738 434 257 535 596] [513 583 451 443 707 420 331 314 604 593] [638 606 602 514 731 529 377 348 638 700]]')\",\n \"(2, '[[366 393 374 333 375 202 337 373 300 396] [464 672 538 515 364 255 499 629 533 405] [267 275 262 267 169 155 262 326 275 324] [464 556 396 382 241 240 302 416 448 312] [486 449 489 445 407 258 431 413 392 534] [355 355 434 382 338 190 338 370 350 327] [429 555 382 429 284 221 430 511 410 368] [535 604 434 432 289 257 443 445 399 380] [622 669 473 480 371 330 442 605 521 522] [331 461 393 366 400 247 464 496 359 492]]')\",\n \"(7, '[[391 440 471 258 320 403 205 493 317 427] [503 596 634 512 549 596 346 590 500 624] [152 178 211 139 154 138  87 218 147 186] [481 517 663 556 348 575 309 664 340 453] [382 352 378 439 239 366 142 515 394 417] [274 279 268 399 183 254  72 370 255 338] [429 466 463 318 365 372 215 435 306 369] [557 684 762 463 557 557 405 641 553 615] [472 463 535 470 313 514 228 599 292 407] [458 489 622 457 442 558 312 541 420 435]]')\",\n \"(8, '[[591 660 777 483 503 683 512 643 486 553] [491 650 614 523 479 547 501 467 521 611] [277 460 326 320 368 335 321 343 342 325] [338 548 373 221 344 308 290 423 405 400] [360 342 447 310 283 425 289 369 332 384] [456 487 514 291 313 441 409 517 398 490] [528 633 600 506 461 538 507 502 508 572] [379 330 441 364 362 433 229 300 329 282] [400 491 458 446 425 331 414 330 377 433] [522 547 649 546 495 628 480 478 438 467]]')\",\n \"(4, '[[367 439 561 475 491 416 515 482 420 312] [307 477 666 442 588 616 590 554 612 437] [410 402 476 417 563 452 513 544 582 502] [192 319 496 285 442 494 504 315 351 268] [428 431 547 466 500 441 545 532 483 431] [184 280 413 283 362 345 392 335 333 271] [346 399 548 479 461 484 594 480 356 418] [274 373 534 349 531 510 552 386 404 356] [251 369 621 397 538 476 579 533 495 453] [377 381 452 423 496 420 464 460 420 361]]')\",\n \"(9, '[[383 473 507 408 312 578 614 551 401 292] [382 444 588 352 454 577 496 435 369 378] [267 328 423 373 259 441 391 441 340 255] [319 335 526 295 324 540 395 362 329 192] [477 485 619 399 445 667 574 522 452 307] [399 467 592 353 472 546 469 392 357 332] [398 523 639 437 466 681 578 435 396 404] [339 330 498 323 340 522 437 326 270 293] [373 462 514 412 423 566 432 367 382 304] [316 381 460 305 323 416 413 367 385 215]]')\",\n \"(14, '[[357 388 333 293 334 439 295 347 396 414] [579 518 430 497 515 511 472 501 447 552] [434 381 543 386 548 577 382 385 565 473] [539 505 526 470 533 565 444 495 403 538] [504 558 482 439 525 545 493 571 440 568] [480 401 351 494 445 401 503 470 278 553] [499 503 581 477 518 545 494 479 315 478] [574 441 333 397 470 404 502 503 502 665] [364 342 363 298 330 378 340 343 268 395] [489 486 567 343 450 584 415 431 473 557]]')\",\n \"(15, '[[430 642 543 548 349 477 382 545 595 404] [273 361 327 243 230 344 161 311 382 176] [387 470 454 420 310 339 394 488 495 303] [388 479 511 381 261 535 320 523 484 302] [556 754 783 556 489 743 423 723 740 509] [444 447 422 348 274 375 305 487 436 310] [437 593 667 545 545 582 450 592 735 412] [559 638 626 515 473 647 392 645 646 463] [463 612 599 519 465 486 384 576 593 481] [613 629 612 510 517 659 376 625 700 449]]')\",\n \"(6, '[[380 278 330 335 264 311 425 448 436 368] [478 516 449 570 426 451 611 669 587 511] [325 353 352 403 351 339 546 444 428 360] [347 387 431 497 372 452 516 456 429 485] [476 513 410 591 368 447 571 543 487 441] [489 355 436 431 324 321 604 552 475 521] [520 572 435 546 525 584 761 761 750 647] [404 489 315 472 321 360 596 539 557 401] [565 567 488 531 593 513 707 681 731 649] [380 311 324 341 324 316 411 466 451 315]]')\"]"
     },
     "execution_count": 204,
     "metadata": {},
     "output_type": "execute_result"
    }
   ],
   "source": [
    "compute_res"
   ],
   "metadata": {
    "collapsed": false
   }
  },
  {
   "cell_type": "code",
   "execution_count": 125,
   "outputs": [],
   "source": [
    "# a.append(compute_res)"
   ],
   "metadata": {
    "collapsed": false
   }
  },
  {
   "cell_type": "code",
   "execution_count": 126,
   "outputs": [
    {
     "data": {
      "text/plain": "[[\"(0, '[[451 378 376 320 455 349 358 291 449 424] [374 207 279 176 268 227 179 150 273 295] [400 651 434 451 687 447 307 225 502 384] [291 509 314 394 532 532 347 185 348 461] [369 522 484 465 708 498 256 246 491 424] [467 479 382 437 491 401 293 256 362 522] [324 409 312 391 629 431 258 288 400 519] [574 709 560 521 783 738 434 257 535 596] [513 583 451 443 707 420 331 314 604 593] [638 606 602 514 731 529 377 348 638 700]]')\",\n  \"(15, '[[430 642 543 548 349 477 382 545 595 404] [273 361 327 243 230 344 161 311 382 176] [387 470 454 420 310 339 394 488 495 303] [388 479 511 381 261 535 320 523 484 302] [556 754 783 556 489 743 423 723 740 509] [444 447 422 348 274 375 305 487 436 310] [437 593 667 545 545 582 450 592 735 412] [559 638 626 515 473 647 392 645 646 463] [463 612 599 519 465 486 384 576 593 481] [613 629 612 510 517 659 376 625 700 449]]')\",\n  \"(10, '[[503 334 473 322 506 461 263 175 292 445] [428 384 556 238 593 433 218 244 305 381] [545 302 398 331 551 401 367 130 334 428] [669 469 478 454 647 468 337 205 455 455] [460 382 475 276 589 408 313 227 350 327] [426 360 371 312 482 345 246 227 333 316] [588 378 394 379 491 363 350 114 385 333] [558 444 557 339 586 503 263 276 395 460] [589 490 493 428 658 470 354 208 508 555] [620 562 655 405 798 614 356 332 500 565]]')\",\n  \"(6, '[[380 278 330 335 264 311 425 448 436 368] [478 516 449 570 426 451 611 669 587 511] [325 353 352 403 351 339 546 444 428 360] [347 387 431 497 372 452 516 456 429 485] [476 513 410 591 368 447 571 543 487 441] [489 355 436 431 324 321 604 552 475 521] [520 572 435 546 525 584 761 761 750 647] [404 489 315 472 321 360 596 539 557 401] [565 567 488 531 593 513 707 681 731 649] [380 311 324 341 324 316 411 466 451 315]]')\",\n  \"(1, '[[507 498 365 444 436 496 528 579 576 310] [504 351 419 309 332 271 490 414 566 280] [308 283 242 221 274 261 234 281 304 188] [491 391 409 287 379 344 381 398 528 296] [446 435 420 371 326 332 446 395 485 310] [400 397 395 307 311 327 429 413 463 317] [644 489 471 374 496 386 640 551 750 270] [257 253 229 264 302 300 371 340 400 177] [468 357 425 312 389 335 534 436 622 253] [515 458 499 353 375 392 562 478 604 307]]')\",\n  \"(9, '[[383 473 507 408 312 578 614 551 401 292] [382 444 588 352 454 577 496 435 369 378] [267 328 423 373 259 441 391 441 340 255] [319 335 526 295 324 540 395 362 329 192] [477 485 619 399 445 667 574 522 452 307] [399 467 592 353 472 546 469 392 357 332] [398 523 639 437 466 681 578 435 396 404] [339 330 498 323 340 522 437 326 270 293] [373 462 514 412 423 566 432 367 382 304] [316 381 460 305 323 416 413 367 385 215]]')\",\n  \"(12, '[[540 361 357 447 315 562 472 520 488 530] [309 251 155 171 150 326 375 248 301 312] [461 392 400 503 335 558 441 566 433 483] [518 463 387 435 265 558 558 470 622 467] [430 333 357 446 333 475 453 480 319 422] [434 476 335 394 261 442 542 390 422 413] [628 527 428 576 402 693 702 657 595 642] [588 641 416 511 341 612 613 471 530 521] [535 379 267 511 356 537 643 570 443 486] [542 548 407 531 316 547 532 456 540 454]]')\",\n  \"(4, '[[367 439 561 475 491 416 515 482 420 312] [307 477 666 442 588 616 590 554 612 437] [410 402 476 417 563 452 513 544 582 502] [192 319 496 285 442 494 504 315 351 268] [428 431 547 466 500 441 545 532 483 431] [184 280 413 283 362 345 392 335 333 271] [346 399 548 479 461 484 594 480 356 418] [274 373 534 349 531 510 552 386 404 356] [251 369 621 397 538 476 579 533 495 453] [377 381 452 423 496 420 464 460 420 361]]')\"],\n [\"(7, '[[391 440 471 258 320 403 205 493 317 427] [503 596 634 512 549 596 346 590 500 624] [152 178 211 139 154 138  87 218 147 186] [481 517 663 556 348 575 309 664 340 453] [382 352 378 439 239 366 142 515 394 417] [274 279 268 399 183 254  72 370 255 338] [429 466 463 318 365 372 215 435 306 369] [557 684 762 463 557 557 405 641 553 615] [472 463 535 470 313 514 228 599 292 407] [458 489 622 457 442 558 312 541 420 435]]')\",\n  \"(11, '[[699 574 676 392 638 453 428 646 494 548] [713 473 689 458 676 395 392 526 450 477] [531 357 500 231 454 368 308 330 344 384] [455 293 403 368 414 171 202 346 312 261] [518 346 616 282 537 268 315 481 269 333] [537 409 409 363 365 204 280 477 426 401] [594 430 468 339 387 269 277 530 503 416] [664 558 639 498 563 234 346 681 502 426] [349 279 389 182 324 199 220 378 236 245] [626 462 617 243 581 501 377 457 457 483]]')\",\n  \"(13, '[[535 655 515 517 474 506 586 440 600 364] [496 580 472 470 445 465 451 528 597 455] [278 426 236 266 222 218 201 261 336 282] [452 454 385 471 342 289 407 290 376 290] [419 570 453 436 306 500 479 334 434 425] [390 335 290 387 351 351 439 218 367 181] [388 535 428 511 342 539 544 582 482 446] [402 427 417 328 350 299 362 274 407 282] [580 570 580 449 448 545 547 345 572 463] [517 520 510 568 399 509 526 445 477 455]]')\",\n  \"(5, '[[457 350 577 574 620 501 317 573 456 266] [568 401 597 655 669 516 350 529 545 276] [431 409 504 483 519 400 409 502 394 237] [515 526 572 635 706 610 399 618 685 320] [298 361 413 344 476 510 370 403 379 282] [420 443 527 597 557 407 491 575 452 201] [403 347 470 510 588 374 281 405 442 182] [228 282 245 307 344 281 232 298 359 137] [259 304 265 319 373 388 320 288 305 186] [428 383 475 536 558 362 359 510 505 193]]')\"],\n [\"(3, '[[628 203 484 264 576 466 146 606 528 582] [562 296 326 276 412 358 152 434 490 540] [612 137 386 260 532 435 129 514 526 546] [682 354 448 361 657 499 181 723 613 810] [424 227 264 274 410 320 103 413 363 399] [596 231 458 336 541 380 169 590 577 638] [419 180 363 256 405 382 171 520 352 506] [620 301 456 297 613 463 169 675 559 730] [500 302 423 300 451 331 183 581 529 612] [524 338 380 351 377 197 147 512 442 645]]')\",\n  \"(16, '[[614 508 802 348 823 759 563 589 549 456] [348 137 353 200 394 455 220 430 287 189] [556 374 619 333 694 669 499 549 472 397] [421 297 476 226 510 517 431 445 319 316] [396 204 529 263 477 524 300 479 347 241] [337 241 377 205 433 436 145 239 237 264] [447 311 585 177 665 523 343 403 496 353] [551 425 689 304 821 776 483 513 516 470] [430 290 568 232 604 511 392 400 451 356] [613 527 845 376 855 743 605 522 572 523]]')\"],\n [],\n [],\n [],\n [\"(8, '[[591 660 777 483 503 683 512 643 486 553] [491 650 614 523 479 547 501 467 521 611] [277 460 326 320 368 335 321 343 342 325] [338 548 373 221 344 308 290 423 405 400] [360 342 447 310 283 425 289 369 332 384] [456 487 514 291 313 441 409 517 398 490] [528 633 600 506 461 538 507 502 508 572] [379 330 441 364 362 433 229 300 329 282] [400 491 458 446 425 331 414 330 377 433] [522 547 649 546 495 628 480 478 438 467]]')\"],\n [\"(2, '[[366 393 374 333 375 202 337 373 300 396] [464 672 538 515 364 255 499 629 533 405] [267 275 262 267 169 155 262 326 275 324] [464 556 396 382 241 240 302 416 448 312] [486 449 489 445 407 258 431 413 392 534] [355 355 434 382 338 190 338 370 350 327] [429 555 382 429 284 221 430 511 410 368] [535 604 434 432 289 257 443 445 399 380] [622 669 473 480 371 330 442 605 521 522] [331 461 393 366 400 247 464 496 359 492]]')\"],\n [],\n [],\n [],\n [],\n []]"
     },
     "execution_count": 126,
     "metadata": {},
     "output_type": "execute_result"
    }
   ],
   "source": [
    "a"
   ],
   "metadata": {
    "collapsed": false
   }
  },
  {
   "cell_type": "code",
   "execution_count": 131,
   "outputs": [
    {
     "data": {
      "text/plain": "13"
     },
     "execution_count": 131,
     "metadata": {},
     "output_type": "execute_result"
    }
   ],
   "source": [
    "len(a)"
   ],
   "metadata": {
    "collapsed": false
   }
  },
  {
   "cell_type": "code",
   "execution_count": 129,
   "id": "4cf6af39",
   "metadata": {
    "collapsed": false,
    "jupyter": {
     "outputs_hidden": false
    }
   },
   "outputs": [],
   "source": [
    "# compute_res = [literal_eval(compute) for compute in compute_res]"
   ]
  },
  {
   "cell_type": "code",
   "execution_count": 66,
   "id": "c933c3af",
   "metadata": {
    "collapsed": false,
    "jupyter": {
     "outputs_hidden": false
    }
   },
   "outputs": [
    {
     "data": {
      "text/plain": "6"
     },
     "execution_count": 66,
     "metadata": {},
     "output_type": "execute_result"
    }
   ],
   "source": [
    "len(compute_res)"
   ]
  },
  {
   "cell_type": "code",
   "execution_count": 67,
   "outputs": [
    {
     "data": {
      "text/plain": "[(7,\n  '[[391 440 471 258 320 403 205 493 317 427] [503 596 634 512 549 596 346 590 500 624] [152 178 211 139 154 138  87 218 147 186] [481 517 663 556 348 575 309 664 340 453] [382 352 378 439 239 366 142 515 394 417] [274 279 268 399 183 254  72 370 255 338] [429 466 463 318 365 372 215 435 306 369] [557 684 762 463 557 557 405 641 553 615] [472 463 535 470 313 514 228 599 292 407] [458 489 622 457 442 558 312 541 420 435]]'),\n (29,\n  '[[393 478 406 232 400 444 376 357 364 274] [352 508 657 248 478 564 282 387 512 322] [446 370 372 324 381 345 269 420 575 352] [295 500 459 195 332 360 254 275 463 348] [361 393 320 373 412 440 315 371 447 381] [449 558 545 301 459 427 400 456 554 390] [385 405 318 332 391 342 354 419 566 433] [468 537 462 403 464 440 456 515 641 455] [406 314 348 357 375 393 277 450 472 310] [202 351 238 217 228 251 333 258 345 167]]'),\n (37,\n  '[[601 434 459 545 406 583 501 573 409 691] [554 408 305 480 220 386 502 457 300 531] [662 561 499 705 437 588 709 705 354 805] [648 367 383 601 394 403 557 563 436 675] [561 267 445 418 398 322 591 651 400 590] [718 435 450 709 456 600 533 604 533 812] [515 333 343 384 244 356 484 349 223 472] [617 540 384 683 382 402 518 700 418 762] [367 265 182 390 171 268 270 252 241 341] [481 570 319 595 289 384 546 675 253 669]]'),\n (62,\n  '[[217 323 372 512 317 517 186 420 392 382] [409 515 568 697 342 628 303 470 503 647] [289 272 343 426 195 416 198 257 270 467] [403 462 342 487 276 534 281 388 269 443] [382 380 440 507 255 471 256 337 402 465] [398 357 380 589 348 668 277 431 367 566] [398 461 521 680 359 673 314 519 398 529] [499 452 411 670 371 749 291 481 431 615] [362 474 521 589 277 499 199 414 365 374] [410 395 393 554 273 547 206 405 334 334]]'),\n (69,\n  '[[538 411 479 480 453 576 493 531 397 568] [477 372 314 494 463 490 577 417 369 600] [561 275 446 554 433 400 588 386 399 671] [492 416 351 518 444 472 466 461 366 615] [271 194 274 194 127 126 189 149 151 194] [375 253 261 336 284 318 327 396 258 449] [493 272 382 547 441 430 451 473 335 712] [485 308 349 468 400 299 307 331 273 467] [650 314 572 609 508 504 523 489 445 696] [553 295 380 625 538 486 556 422 401 718]]'),\n (88,\n  '[[522 388 355 369 403 442 165 192 361 282] [600 425 394 342 462 541 332 188 430 316] [739 513 529 396 575 561 419 304 510 400] [744 537 484 609 584 753 448 420 600 541] [617 433 434 456 494 485 280 374 566 394] [706 559 554 574 616 708 429 393 515 548] [569 390 426 512 427 508 342 342 371 389] [606 307 408 364 435 507 301 222 368 356] [626 301 395 533 420 576 295 322 407 418] [484 350 315 439 403 518 253 310 437 406]]')]"
     },
     "execution_count": 67,
     "metadata": {},
     "output_type": "execute_result"
    }
   ],
   "source": [
    "compute_res"
   ],
   "metadata": {
    "collapsed": false
   }
  },
  {
   "cell_type": "code",
   "execution_count": 204,
   "id": "55e9c072",
   "metadata": {
    "collapsed": false,
    "jupyter": {
     "outputs_hidden": false
    }
   },
   "outputs": [],
   "source": [
    "# # sqs = boto3.resource('sqs')\n",
    "# queue = sqs.(QueueName='airscholar-queue')\n",
    "# for message in sqs.receive_message(\n",
    "#             MaxNumberOfMessages=10):\n",
    "#         # process message body\n",
    "#         body = json.loads(message.body)\n",
    "#         print(body)\n"
   ]
  },
  {
   "cell_type": "code",
   "execution_count": 143,
   "id": "31a9766f",
   "metadata": {
    "collapsed": false,
    "jupyter": {
     "outputs_hidden": false
    }
   },
   "outputs": [],
   "source": [
    "# message = response['Messages']\n",
    "# receipt_handle = message['ReceiptHandle']\n",
    "\n",
    "# # Delete received message from queue\n",
    "# sqs.delete_message(\n",
    "#     QueueUrl=queue_url,\n",
    "#     ReceiptHandle=receipt_handle\n",
    "# )\n"
   ]
  },
  {
   "cell_type": "code",
   "execution_count": 196,
   "id": "afb375f4-09c6-49ee-87bb-a2a05b257be1",
   "metadata": {},
   "outputs": [],
   "source": [
    "# print(json.dumps(message, indent=4))"
   ]
  },
  {
   "cell_type": "code",
   "execution_count": 45,
   "id": "2a77ae2f-0920-4866-aa85-3533371f38ca",
   "metadata": {
    "tags": []
   },
   "outputs": [],
   "source": [
    "# # ec2_inst_id\n",
    "# bucketName = 'airscholar-mlbd-bucket'"
   ]
  },
  {
   "cell_type": "code",
   "execution_count": 146,
   "id": "dc983a9a-5cff-4e99-82b4-151681913ff9",
   "metadata": {},
   "outputs": [],
   "source": [
    "# s3 = boto3.client('s3')"
   ]
  },
  {
   "cell_type": "code",
   "execution_count": null,
   "id": "ea072947-1808-4444-9d2c-bff7e26f3b37",
   "metadata": {},
   "outputs": [],
   "source": [
    "# response = s3.get_object(Bucket=bucketName,\n",
    "#                          Key='data.json')\n",
    "# print(\"Done, response body:\")\n",
    "# print(response['Body'].read())"
   ]
  },
  {
   "cell_type": "code",
   "execution_count": null,
   "id": "eb35587b-cee3-455a-a86d-1b4c6b875653",
   "metadata": {},
   "outputs": [],
   "source": [
    "#create instance\n",
    "#configure instance\n",
    "#create matrix\n",
    "#split matrix\n",
    "#send matrix to the queue\n",
    "#read matrix from the queue on the instance created\n",
    "#compute matrix\n",
    "#send result to base\n"
   ]
  },
  {
   "cell_type": "code",
   "execution_count": 58,
   "id": "d149a3f8-392e-4080-8ecc-d00c56714648",
   "metadata": {},
   "outputs": [
    {
     "name": "stdout",
     "output_type": "stream",
     "text": [
      "[main af0163d] Update infrastructure implementation. Fixed worker computation\r\n",
      " 22 files changed, 6858 insertions(+), 670 deletions(-)\r\n",
      " create mode 100644 .idea/other.xml\r\n",
      " create mode 100755 .ipynb_checkpoints/Untitled-checkpoint.ipynb\r\n",
      " create mode 100755 .ipynb_checkpoints/boto3-aws-Copy1-checkpoint.ipynb\r\n",
      " create mode 100755 Untitled.ipynb\r\n",
      " delete mode 100644 __pycache__/dot_prod.cpython-39.pyc\r\n",
      " create mode 100755 boto3-aws-Copy1.ipynb\r\n",
      " create mode 100644 boto3-aws-copy.ipynb\r\n",
      " create mode 100644 config/aws-setup.py\r\n",
      " delete mode 100644 dot_prod.py\r\n",
      " rename files/{files.py => .ipynb_checkpoints/file_helper-checkpoint.py} (73%)\r\n",
      " mode change 100644 => 100755\r\n",
      " create mode 100644 files/__init__.py\r\n",
      " create mode 100644 files/__pycache__/__init__.cpython-39.pyc\r\n",
      " create mode 100644 files/__pycache__/file_helper.cpython-39.pyc\r\n",
      " delete mode 100644 files/__pycache__/files.cpython-39.pyc\r\n",
      " rename files/{.ipynb_checkpoints/files-checkpoint.py => file_helper.py} (73%)\r\n",
      "Enumerating objects: 35, done.\r\n",
      "Counting objects: 100% (35/35), done.\r\n",
      "Delta compression using up to 8 threads\r\n",
      "Compressing objects: 100% (23/23), done.\r\n",
      "Writing objects: 100% (24/24), 85.88 KiB | 3.90 MiB/s, done.\r\n",
      "Total 24 (delta 4), reused 0 (delta 0), pack-reused 0\r\n",
      "remote: Resolving deltas: 100% (4/4), completed with 3 local objects.\u001B[K\r\n",
      "To https://github.com/airscholar/MLCloudComputing-python.git\r\n",
      "   c0f5a71..af0163d  main -> main\r\n",
      "branch 'main' set up to track 'origin/main'.\r\n"
     ]
    }
   ],
   "source": [
    "!git add .\n",
    "!git commit -am \"Fixed result gathering from the queue\"\n",
    "!git push --set-upstream origin main"
   ]
  },
  {
   "cell_type": "code",
   "execution_count": null,
   "id": "e9fc665d",
   "metadata": {
    "collapsed": false,
    "jupyter": {
     "outputs_hidden": false
    }
   },
   "outputs": [],
   "source": []
  }
 ],
 "metadata": {
  "kernelspec": {
   "display_name": "Python 3 (ipykernel)",
   "language": "python",
   "name": "python3"
  },
  "language_info": {
   "codemirror_mode": {
    "name": "ipython",
    "version": 3
   },
   "file_extension": ".py",
   "mimetype": "text/x-python",
   "name": "python",
   "nbconvert_exporter": "python",
   "pygments_lexer": "ipython3",
   "version": "3.9.12"
  }
 },
 "nbformat": 4,
 "nbformat_minor": 5
}
