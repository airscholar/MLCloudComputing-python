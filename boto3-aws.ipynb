{
 "cells": [
  {
   "cell_type": "code",
   "execution_count": 8,
   "id": "1795e9e2-fda9-442b-8a76-8cd77c3a9138",
   "metadata": {},
   "outputs": [],
   "source": [
    "# pip install paramiko"
   ]
  },
  {
   "cell_type": "code",
   "execution_count": 2,
   "id": "09e8788d-0182-49f9-9128-a6dfbca0b8b7",
   "metadata": {},
   "outputs": [],
   "source": [
    "import boto3\n",
    "import pandas as pd\n",
    "import json\n",
    "import numpy as np\n",
    "import time\n",
    "import paramiko\n",
    "import io"
   ]
  },
  {
   "cell_type": "code",
   "execution_count": 3,
   "id": "065e1449-3738-40b5-87ec-1839be75e1ad",
   "metadata": {},
   "outputs": [],
   "source": [
    "client = boto3.client('ec2', region_name='us-east-1')\n",
    "# Create SQS client\n",
    "sqs = boto3.resource('sqs')"
   ]
  },
  {
   "cell_type": "code",
   "execution_count": 17,
   "id": "2e7e2bcb-f616-4550-b3ea-31f9326c3b81",
   "metadata": {},
   "outputs": [],
   "source": []
  },
  {
   "cell_type": "code",
   "execution_count": 20,
   "id": "5c14d73b-26f6-44a6-bcd4-ae814e2ff3a5",
   "metadata": {
    "tags": []
   },
   "outputs": [],
   "source": [
    "def get_default_security_group(client, key_name):\n",
    "    #extract key_name attribute from the security groups returned\n",
    "    response = [group[key_name] for group in client.describe_security_groups()['SecurityGroups'] if group['GroupName'] == 'default']\n",
    "    \n",
    "    return response\n",
    "    \n",
    "def get_key_pairs(client, removeExisting=False):\n",
    "    if removeExisting:\n",
    "        client.delete_key_pair(KeyName='airscholar-key')\n",
    "        \n",
    "    keypairs = client.describe_key_pairs()['KeyPairs']\n",
    "    keypair = list(filter(lambda x: x['KeyName'] == 'airscholar-key', keypairs))\n",
    "    \n",
    "    if not keypair:\n",
    "        keypair = client.create_key_pair(KeyName='airscholar-key')\n",
    "        f = io.StringIO(keypair['KeyMaterial'])\n",
    "        data = f.read()\n",
    "        file = open('labsuser.pem', 'w')\n",
    "        file.write(data)\n",
    "        file.close()\n",
    "    else: \n",
    "        keypair = keypair[0]\n",
    "    \n",
    "    return keypair\n",
    "\n",
    "def launch_new_instance(client, keypair):\n",
    "    response = client.run_instances(\n",
    "        ImageId='ami-05723c3b9cf4bf4ff',\n",
    "        InstanceType='t2.micro',\n",
    "        KeyName=keypair,\n",
    "        MaxCount=1,\n",
    "        MinCount=1,\n",
    "        Monitoring={\n",
    "            'Enabled': True\n",
    "        },\n",
    "        SecurityGroupIds= get_default_security_group(client, key_name='GroupId')\n",
    "    )\n",
    "    ec2_inst_id=response[\"Instances\"][0]['InstanceId']\n",
    "    waiter = client.get_waiter('instance_running')\n",
    "    waiter.wait(InstanceIds=[ec2_inst_id])\n",
    "    return ec2_inst_id\n",
    "\n",
    "def prepare_instances(keypair):\n",
    "    ec2 = boto3.resource('ec2')\n",
    "    ec2_inst_ids = []\n",
    "    for instance in ec2.instances.all():\n",
    "        if instance.state['Name'] == 'running':\n",
    "            ec2_inst_ids.append(instance.id)\n",
    "\n",
    "    if not ec2_inst_ids:\n",
    "        ec2_inst_ids.append(launch_new_instance(keypair))\n",
    "\n",
    "    return ec2, ec2_inst_ids\n",
    "\n",
    "def configure_ssh():\n",
    "    ssh = paramiko.SSHClient()\n",
    "    ssh.set_missing_host_key_policy(paramiko.AutoAddPolicy())\n",
    "    return ssh\n",
    "\n",
    "def ssh_connect_with_retry(ssh, ip_address, retries):\n",
    "    if retries > 3:\n",
    "        return False\n",
    "    f = open('labsuser.pem', 'r')\n",
    "    privkey = paramiko.RSAKey.from_private_key(f)\n",
    "    # print(privkey)\n",
    "    interval = 5\n",
    "    try:\n",
    "        retries += 1\n",
    "        print('SSH into the instance: {}'.format(ip_address))\n",
    "        ssh.connect(hostname=ip_address,\n",
    "                    username='ec2-user', pkey=privkey)\n",
    "        return True\n",
    "    except Exception as e:\n",
    "        print(e)\n",
    "        time.sleep(interval)\n",
    "        print('Retrying SSH connection to {}'.format(ip_address))\n",
    "        ssh_connect_with_retry(ssh, ip_address, retries)\n",
    "        \n",
    "def get_public_address(ec2, instance_id):\n",
    "    # ec2 = boto3.resource('ec2', region_name='us-east-1')\n",
    "    instance = ec2.Instance(id=instance_id)\n",
    "    instance.wait_until_running()\n",
    "    current_instance = list(ec2.instances.filter(InstanceIds=[instance_id]))\n",
    "    ip_address = current_instance[0].public_ip_address\n",
    "    return ip_address\n",
    "\n",
    "def get_queue(sqs, queue_name):  \n",
    "    # Get the queue. This returns an SQS.Queue instance\n",
    "    queue = sqs.get_queue_by_name(QueueName=queue_name)\n",
    "\n",
    "    if not queue:\n",
    "        # Create a SQS queue\n",
    "        response = sqs.create_queue(\n",
    "            QueueName=queue_name,\n",
    "            Attributes={\n",
    "                'DelaySeconds': '60',\n",
    "                'MessageRetentionPeriod': '86400'\n",
    "            }\n",
    "        )\n",
    "        queue_url = response['QueueUrl']\n",
    "    else:\n",
    "        queue_url = queue.url\n",
    "    \n",
    "    return queue_url\n",
    "\n",
    "def send_message_to_queue(sqs, queue_url, message, instance_id, matrix_index):\n",
    "    queue = sqs.get_queue_by_name(QueueName=QUEUE_NAME)\n",
    "\n",
    "    # Send message to SQS queue\n",
    "    response = queue.send_messages(\n",
    "        Entries=[\n",
    "            {\n",
    "                'Id': '1',\n",
    "                'MessageBody': 'world'\n",
    "            },\n",
    "            {\n",
    "                'Id': '2',\n",
    "                'MessageBody': 'boto3',\n",
    "                'MessageAttributes': {\n",
    "                    'Author': {\n",
    "                        'StringValue': 'Daniel',\n",
    "                        'DataType': 'String'\n",
    "                    }\n",
    "                }\n",
    "            }\n",
    "        ]\n",
    "    )\n",
    "    return response\n",
    "\n",
    "def install_required_packages(ssh):\n",
    "    stdin, stdout, stderr = ssh.exec_command(\"sudo yum install pip -y && pip install numpy\")\n",
    "    return stdout, stderr\n",
    "\n",
    "def get_messages_from_queue(queue_url):\n",
    "    sqs_client = boto3.client('sqs')\n",
    "\n",
    "    messages = []\n",
    "\n",
    "    while True:\n",
    "        resp = sqs_client.receive_message(\n",
    "            QueueUrl=queue_url\n",
    "        )\n",
    "\n",
    "        try:\n",
    "            messages.extend(resp['Messages'])\n",
    "        except KeyError:\n",
    "            break\n",
    "\n",
    "        entries = [\n",
    "            {'Index': msg['MatrixId'], 'Matrix': msg['Matrix']}\n",
    "            for msg in resp['Messages']\n",
    "        ]\n",
    "\n",
    "        resp = sqs_client.delete_message_batch(\n",
    "            QueueUrl=queue_url, Entries=entries\n",
    "        )\n",
    "\n",
    "        if len(resp['Successful']) != len(entries):\n",
    "            raise RuntimeError(\n",
    "                f\"Failed to delete messages: entries={entries!r} resp={resp!r}\"\n",
    "            )\n",
    "\n",
    "    return messages\n",
    "\n",
    "def split(array, nrows, ncols):\n",
    "    \"\"\"Split a matrix into sub-matrices.\"\"\"\n",
    "\n",
    "    r, h = array.shape\n",
    "    return (array.reshape(h//nrows, nrows, -1, ncols)\n",
    "                 .swapaxes(1, 2)\n",
    "                 .reshape(-1, nrows, ncols))\n",
    "\n",
    "def generate_array(nrows, ncols, split_size):\n",
    "    arr = np.random.randint(10, size=(nrows, ncols))\n",
    "    arr = split(arr, split_size, split_size)\n",
    "    arr1 = np.random.randint(10, size=(nrows, ncols))\n",
    "    arr1 = split(arr1, split_size, split_size)\n",
    "    \n",
    "    return arr, arr1"
   ]
  },
  {
   "cell_type": "code",
   "execution_count": 21,
   "id": "6e90974e-7735-4b83-9957-bd958ab449be",
   "metadata": {},
   "outputs": [],
   "source": [
    "QUEUE_NAME = 'airscholar-queue'"
   ]
  },
  {
   "cell_type": "code",
   "execution_count": 22,
   "id": "5bc0a3eb-3bc7-4d62-b967-4131688e16b2",
   "metadata": {},
   "outputs": [],
   "source": [
    "queue_url = get_queue(sqs, QUEUE_NAME)"
   ]
  },
  {
   "cell_type": "code",
   "execution_count": 23,
   "id": "306cdb9e-3041-4478-a61c-97aeaf5349e6",
   "metadata": {},
   "outputs": [
    {
     "name": "stdout",
     "output_type": "stream",
     "text": [
      "SSH into the instance: 18.212.10.19\n"
     ]
    },
    {
     "data": {
      "text/plain": [
       "True"
      ]
     },
     "execution_count": 23,
     "metadata": {},
     "output_type": "execute_result"
    }
   ],
   "source": [
    "ssh = configure_ssh() \n",
    "keypair = get_key_pairs(client, False)\n",
    "ec2, instances = prepare_instances(keypair['KeyName'])\n",
    "ip_address = get_public_address(ec2, instances[0])\n",
    "ssh_connect_with_retry(ssh, ip_address, 0)"
   ]
  },
  {
   "cell_type": "code",
   "execution_count": null,
   "id": "8d1308c3-d96a-4774-bdb0-54f76bce64e5",
   "metadata": {},
   "outputs": [],
   "source": [
    "# pip install numpy"
   ]
  },
  {
   "cell_type": "code",
   "execution_count": null,
   "id": "b8af6fa7-db06-4fe3-a8c2-967942942512",
   "metadata": {},
   "outputs": [],
   "source": []
  },
  {
   "cell_type": "code",
   "execution_count": 24,
   "id": "a8a24401-ce0b-4d29-8b84-0ab1a5a28a25",
   "metadata": {},
   "outputs": [
    {
     "ename": "NameError",
     "evalue": "name 'prepare_required_packages' is not defined",
     "output_type": "error",
     "traceback": [
      "\u001b[0;31m---------------------------------------------------------------------------\u001b[0m",
      "\u001b[0;31mNameError\u001b[0m                                 Traceback (most recent call last)",
      "Input \u001b[0;32mIn [24]\u001b[0m, in \u001b[0;36m<cell line: 1>\u001b[0;34m()\u001b[0m\n\u001b[0;32m----> 1\u001b[0m stdout, stderr \u001b[38;5;241m=\u001b[39m \u001b[43mprepare_required_packages\u001b[49m(ssh)\n\u001b[1;32m      2\u001b[0m \u001b[38;5;28mprint\u001b[39m(\u001b[38;5;124m'\u001b[39m\u001b[38;5;124mstdout:\u001b[39m\u001b[38;5;124m'\u001b[39m, stdout\u001b[38;5;241m.\u001b[39mread())\n",
      "\u001b[0;31mNameError\u001b[0m: name 'prepare_required_packages' is not defined"
     ]
    }
   ],
   "source": [
    "stdout, stderr = prepare_required_packages(ssh)\n",
    "print('stdout:', stdout.read())\n",
    "# print('stderr:', stderr.read())"
   ]
  },
  {
   "cell_type": "code",
   "execution_count": 150,
   "id": "44803bd3-9383-40dc-ba7b-0d11f195ece4",
   "metadata": {},
   "outputs": [],
   "source": [
    "# sqs = boto3.resource('sqs')\n",
    "# sqs"
   ]
  },
  {
   "cell_type": "code",
   "execution_count": null,
   "id": "e10ff29e-02e8-45d7-aa72-1e1cc505ec4e",
   "metadata": {
    "tags": []
   },
   "outputs": [],
   "source": [
    "# response = send_message_to_queue(sqs, QUEUE_NAME, \"Hi there! This is my queue message4!\", 1, 0)\n",
    "response = send_message_to_queue(sqs, QUEUE_NAME, 'X', 1, 0)"
   ]
  },
  {
   "cell_type": "code",
   "execution_count": 193,
   "id": "1bfa2c25-4fe5-4b59-9824-2e67e7e78baf",
   "metadata": {},
   "outputs": [],
   "source": [
    "# print(json.dumps(response['Successful'], indent=4))"
   ]
  },
  {
   "cell_type": "code",
   "execution_count": 221,
   "id": "c669cb11-42ef-497a-aacd-55c69e13bd85",
   "metadata": {},
   "outputs": [],
   "source": [
    "arr, arr1 = generate_array(100,100, 5)"
   ]
  },
  {
   "cell_type": "code",
   "execution_count": 223,
   "id": "b2fd32ed-05e4-4e60-8539-e43678fc091d",
   "metadata": {},
   "outputs": [
    {
     "data": {
      "text/plain": [
       "array([[[8, 1, 2, 9, 3],\n",
       "        [3, 1, 9, 7, 3],\n",
       "        [5, 0, 1, 3, 8],\n",
       "        [9, 1, 6, 0, 7],\n",
       "        [3, 3, 8, 4, 4]],\n",
       "\n",
       "       [[9, 5, 4, 7, 7],\n",
       "        [9, 4, 5, 5, 1],\n",
       "        [2, 3, 0, 7, 5],\n",
       "        [6, 5, 7, 6, 9],\n",
       "        [3, 2, 1, 2, 1]],\n",
       "\n",
       "       [[7, 8, 9, 0, 9],\n",
       "        [4, 2, 3, 5, 5],\n",
       "        [2, 3, 7, 0, 2],\n",
       "        [4, 2, 6, 4, 6],\n",
       "        [2, 1, 5, 2, 3]],\n",
       "\n",
       "       ...,\n",
       "\n",
       "       [[4, 1, 9, 1, 5],\n",
       "        [6, 4, 2, 7, 4],\n",
       "        [2, 2, 0, 3, 8],\n",
       "        [0, 7, 4, 6, 8],\n",
       "        [1, 1, 1, 0, 4]],\n",
       "\n",
       "       [[8, 8, 9, 0, 9],\n",
       "        [9, 6, 9, 6, 1],\n",
       "        [1, 7, 6, 7, 1],\n",
       "        [6, 8, 0, 0, 3],\n",
       "        [6, 2, 7, 5, 5]],\n",
       "\n",
       "       [[7, 4, 5, 2, 3],\n",
       "        [8, 5, 6, 1, 0],\n",
       "        [7, 3, 7, 7, 4],\n",
       "        [3, 1, 2, 7, 3],\n",
       "        [4, 2, 7, 9, 0]]])"
      ]
     },
     "execution_count": 223,
     "metadata": {},
     "output_type": "execute_result"
    }
   ],
   "source": [
    "arr"
   ]
  },
  {
   "cell_type": "code",
   "execution_count": 209,
   "id": "6612495e-7a38-4fa2-b263-578b175f07ff",
   "metadata": {},
   "outputs": [
    {
     "ename": "KeyError",
     "evalue": "'Messages'",
     "output_type": "error",
     "traceback": [
      "\u001b[0;31m---------------------------------------------------------------------------\u001b[0m",
      "\u001b[0;31mKeyError\u001b[0m                                  Traceback (most recent call last)",
      "Input \u001b[0;32mIn [209]\u001b[0m, in \u001b[0;36m<cell line: 1>\u001b[0;34m()\u001b[0m\n\u001b[0;32m----> 1\u001b[0m \u001b[43mget_message_from_queue\u001b[49m\u001b[43m(\u001b[49m\u001b[43mqueue_url\u001b[49m\u001b[43m)\u001b[49m\n",
      "Input \u001b[0;32mIn [175]\u001b[0m, in \u001b[0;36mget_message_from_queue\u001b[0;34m(sqs)\u001b[0m\n\u001b[1;32m      2\u001b[0m sqs_client \u001b[38;5;241m=\u001b[39m boto3\u001b[38;5;241m.\u001b[39mclient(\u001b[38;5;124m'\u001b[39m\u001b[38;5;124msqs\u001b[39m\u001b[38;5;124m'\u001b[39m)\n\u001b[1;32m      3\u001b[0m resp \u001b[38;5;241m=\u001b[39m sqs_client\u001b[38;5;241m.\u001b[39mreceive_message(\n\u001b[1;32m      4\u001b[0m     QueueUrl\u001b[38;5;241m=\u001b[39mqueue_url,\n\u001b[1;32m      5\u001b[0m     AttributeNames\u001b[38;5;241m=\u001b[39m[\u001b[38;5;124m'\u001b[39m\u001b[38;5;124mAll\u001b[39m\u001b[38;5;124m'\u001b[39m],\n\u001b[1;32m      6\u001b[0m     MaxNumberOfMessages\u001b[38;5;241m=\u001b[39m\u001b[38;5;241m10\u001b[39m\n\u001b[1;32m      7\u001b[0m )\n\u001b[0;32m----> 8\u001b[0m \u001b[38;5;28;01mfor\u001b[39;00m message \u001b[38;5;129;01min\u001b[39;00m \u001b[43mresp\u001b[49m\u001b[43m[\u001b[49m\u001b[38;5;124;43m'\u001b[39;49m\u001b[38;5;124;43mMessages\u001b[39;49m\u001b[38;5;124;43m'\u001b[39;49m\u001b[43m]\u001b[49m:\n\u001b[1;32m      9\u001b[0m     \u001b[38;5;28mprint\u001b[39m(message)\n",
      "\u001b[0;31mKeyError\u001b[0m: 'Messages'"
     ]
    }
   ],
   "source": [
    "get_message_from_queue(queue_url)"
   ]
  },
  {
   "cell_type": "code",
   "execution_count": 204,
   "id": "1369b3f9-564f-4f2a-8e6e-deadbec9056b",
   "metadata": {},
   "outputs": [],
   "source": [
    "# # sqs = boto3.resource('sqs')\n",
    "# queue = sqs.(QueueName='airscholar-queue')\n",
    "# for message in sqs.receive_message(\n",
    "#             MaxNumberOfMessages=10):\n",
    "#         # process message body\n",
    "#         body = json.loads(message.body)\n",
    "#         print(body)\n"
   ]
  },
  {
   "cell_type": "code",
   "execution_count": 143,
   "id": "9565b2df-9c09-475f-bd52-b90e6ff69f64",
   "metadata": {},
   "outputs": [],
   "source": [
    "# message = response['Messages']\n",
    "# receipt_handle = message['ReceiptHandle']\n",
    "\n",
    "# # Delete received message from queue\n",
    "# sqs.delete_message(\n",
    "#     QueueUrl=queue_url,\n",
    "#     ReceiptHandle=receipt_handle\n",
    "# )\n"
   ]
  },
  {
   "cell_type": "code",
   "execution_count": 196,
   "id": "afb375f4-09c6-49ee-87bb-a2a05b257be1",
   "metadata": {},
   "outputs": [],
   "source": [
    "# print(json.dumps(message, indent=4))"
   ]
  },
  {
   "cell_type": "code",
   "execution_count": 45,
   "id": "2a77ae2f-0920-4866-aa85-3533371f38ca",
   "metadata": {
    "tags": []
   },
   "outputs": [],
   "source": [
    "# # ec2_inst_id\n",
    "# bucketName = 'airscholar-mlbd-bucket'"
   ]
  },
  {
   "cell_type": "code",
   "execution_count": 146,
   "id": "dc983a9a-5cff-4e99-82b4-151681913ff9",
   "metadata": {},
   "outputs": [],
   "source": [
    "# s3 = boto3.client('s3')"
   ]
  },
  {
   "cell_type": "code",
   "execution_count": null,
   "id": "ea072947-1808-4444-9d2c-bff7e26f3b37",
   "metadata": {},
   "outputs": [],
   "source": [
    "# response = s3.get_object(Bucket=bucketName,\n",
    "#                          Key='data.json')\n",
    "# print(\"Done, response body:\")\n",
    "# print(response['Body'].read())"
   ]
  },
  {
   "cell_type": "code",
   "execution_count": null,
   "id": "eb35587b-cee3-455a-a86d-1b4c6b875653",
   "metadata": {},
   "outputs": [],
   "source": [
    "#create instance\n",
    "#configure instance\n",
    "#create matrix\n",
    "#split matrix\n",
    "#send matrix to the queue\n",
    "#read matrix from the queue on the instance created\n",
    "#compute matrix\n",
    "#send result to base\n"
   ]
  }
 ],
 "metadata": {
  "kernelspec": {
   "display_name": "Python 3 (ipykernel)",
   "language": "python",
   "name": "python3"
  },
  "language_info": {
   "codemirror_mode": {
    "name": "ipython",
    "version": 3
   },
   "file_extension": ".py",
   "mimetype": "text/x-python",
   "name": "python",
   "nbconvert_exporter": "python",
   "pygments_lexer": "ipython3",
   "version": "3.9.12"
  }
 },
 "nbformat": 4,
 "nbformat_minor": 5
}
